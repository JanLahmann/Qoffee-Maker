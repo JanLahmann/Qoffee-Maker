{
 "cells": [
  {
   "cell_type": "markdown",
   "metadata": {},
   "source": [
    "# Qoffee Maker"
   ]
  },
  {
   "cell_type": "code",
   "execution_count": null,
   "metadata": {},
   "outputs": [],
   "source": [
    "import os, time\n",
    "from random import randint\n",
    "from dotenv import load_dotenv\n",
    "import numpy as np\n",
    "load_dotenv();"
   ]
  },
  {
   "cell_type": "code",
   "execution_count": null,
   "metadata": {},
   "outputs": [],
   "source": [
    "from ibm_quantum_widgets import CircuitComposer\n",
    "from qiskit.circuit import QuantumCircuit\n",
    "from qiskit import transpile, IBMQ, execute\n",
    "from qiskit.providers.aer import QasmSimulator, StatevectorSimulator\n",
    "from qiskit import IBMQ\n",
    "from qiskit.providers.ibmq.exceptions import IBMQAccountError\n",
    "from qiskit.test.mock import FakeMontreal"
   ]
  },
  {
   "cell_type": "markdown",
   "metadata": {},
   "source": [
    "## Authenticate to IoT Backend"
   ]
  },
  {
   "cell_type": "code",
   "execution_count": 1,
   "metadata": {},
   "outputs": [
    {
     "data": {
      "text/html": [
       "<a class=\"btn btn-primary\" target=\"_blank\" href=\"/auth\">Login</a>\n"
      ],
      "text/plain": [
       "<IPython.core.display.HTML object>"
      ]
     },
     "metadata": {},
     "output_type": "display_data"
    }
   ],
   "source": [
    "%%html\n",
    "<a class=\"btn btn-primary\" target=\"_blank\" href=\"/auth\">Login</a>"
   ]
  },
  {
   "cell_type": "code",
   "execution_count": 2,
   "metadata": {},
   "outputs": [
    {
     "data": {
      "text/html": [
       "<a class=\"btn btn-primary\" onclick=\"window.activateCoffeeMachine()\">Activate Coffee Machine</a>\n"
      ],
      "text/plain": [
       "<IPython.core.display.HTML object>"
      ]
     },
     "metadata": {},
     "output_type": "display_data"
    }
   ],
   "source": [
    "%%html\n",
    "<a class=\"btn btn-primary\" onclick=\"window.activateCoffeeMachine()\">Activate Coffee Machine</a>"
   ]
  },
  {
   "cell_type": "markdown",
   "metadata": {},
   "source": [
    "## Setup Circuits"
   ]
  },
  {
   "cell_type": "code",
   "execution_count": null,
   "metadata": {},
   "outputs": [],
   "source": [
    "try:\n",
    "    IBMQ.enable_account(os.getenv(\"IBMQ_API_KEY\"))\n",
    "except IBMQAccountError as e:\n",
    "    print(\"Got IBMAccountError\", e, \"probably due to re-execution\")\n",
    "\n",
    "provider = IBMQ.get_provider(hub=\"ibm-q-community\", group=\"presentations\")\n",
    "provider.backends()"
   ]
  },
  {
   "cell_type": "code",
   "execution_count": null,
   "metadata": {},
   "outputs": [],
   "source": [
    "backend_ideal = StatevectorSimulator()\n",
    "backend_qasm = QasmSimulator()\n",
    "backend_mock = FakeMontreal()\n",
    "#backend_ibm = None \n",
    "backend_ibm = provider.get_backend(\"ibmq_jakarta\")"
   ]
  },
  {
   "cell_type": "markdown",
   "metadata": {},
   "source": [
    "## Circuits"
   ]
  },
  {
   "cell_type": "code",
   "execution_count": null,
   "metadata": {},
   "outputs": [],
   "source": [
    "# empty\n",
    "qc0 = QuantumCircuit(3, 3)\n",
    "\n",
    "# cappucino\n",
    "qc1 = QuantumCircuit(3, 3)\n",
    "qc1.x(2)\n",
    "\n",
    "# coffee\n",
    "qc2 = QuantumCircuit(3, 3)\n",
    "qc2.x(0)\n",
    "qc2.h(1)\n",
    "qc2.z(1)\n",
    "qc2.h(1)\n",
    "\n",
    "# espresso\n",
    "qc3 = QuantumCircuit(3, 3)\n",
    "qc3.x(0)\n",
    "qc3.cx(0, 1)\n",
    "qc3.cx(1, 0)\n",
    "qc3.cx(0, 1)\n",
    "\n",
    "# anything\n",
    "qc4 = QuantumCircuit(3, 3)\n",
    "qc4.h(0)\n",
    "qc4.h(1)\n",
    "qc4.h(2)\n",
    "\n",
    "# without coffein\n",
    "qc5 = QuantumCircuit(3, 3)\n",
    "qc5.h(0)\n",
    "\n",
    "# nothing strong\n",
    "qc6 = QuantumCircuit(3, 3)\n",
    "qc6.h(0)\n",
    "qc6.x(2)\n",
    "\n",
    "# tea or coffee\n",
    "qc7 = QuantumCircuit(3, 3)\n",
    "qc7.h(0)\n",
    "qc7.cx(0, 1);\n"
   ]
  },
  {
   "cell_type": "code",
   "execution_count": null,
   "metadata": {},
   "outputs": [],
   "source": [
    "# gather circuits with some meta information in one object\n",
    "qcreg = [\n",
    "    {\n",
    "        \"id\": \"empty\",\n",
    "        \"name\": \"Start the Qoffee Maker\",\n",
    "        \"circuit\": qc0,\n",
    "        \"init_text\": \"\"\n",
    "    },\n",
    "    {\n",
    "        \"id\": \"cappucino\",\n",
    "        \"name\": \"Only Cappucino\",\n",
    "        \"circuit\": qc1,\n",
    "        \"init_text\": \"\"\n",
    "    },\n",
    "    {\n",
    "        \"id\": \"coffee\",\n",
    "        \"name\": \"Only Coffee\",\n",
    "        \"circuit\": qc2,\n",
    "        \"init_text\": \"\"\n",
    "    },\n",
    "    {\n",
    "        \"id\": \"espresso\",\n",
    "        \"name\": \"Only Espresso\",\n",
    "        \"circuit\": qc3,\n",
    "        \"init_text\": \"\"\n",
    "    },\n",
    "    {\n",
    "        \"id\": \"anything\",\n",
    "        \"name\": \"Just something to drink\",\n",
    "        \"circuit\": qc4,\n",
    "        \"init_text\": \"\"\n",
    "    },\n",
    "    {\n",
    "        \"id\": \"withoutcoffein\",\n",
    "        \"name\": \"Without caffein\",\n",
    "        \"circuit\": qc5,\n",
    "        \"init_text\": \"\"\n",
    "    },\n",
    "    {\n",
    "        \"id\": \"nothingstrong\",\n",
    "        \"name\": \"Nothing Strong\",\n",
    "        \"circuit\": qc6,\n",
    "        \"init_text\": \"\"\n",
    "    },\n",
    "    {\n",
    "        \"id\": \"teaorcoffee\",\n",
    "        \"name\": \"Tea or Coffee\",\n",
    "        \"circuit\": qc7,\n",
    "        \"init_text\": \"\"\n",
    "    }\n",
    "]"
   ]
  },
  {
   "cell_type": "code",
   "execution_count": null,
   "metadata": {},
   "outputs": [],
   "source": [
    "class CircuitExecutor:\n",
    "    \n",
    "    BIT_ORDER = ['000', '001', '010', '011', '100', '101', '110', '111']\n",
    "    \n",
    "    def __init__(self, circuit):\n",
    "        \"\"\"\n",
    "        Helper Class to execute circuits on different backends.\n",
    "        \"\"\"\n",
    "        self.circuit = circuit\n",
    "        \n",
    "    def _fill_with_zero(results):\n",
    "        \"\"\"\n",
    "        Make sure that all keys defined in BIT_ORDER are present in the resulting dict.\n",
    "        \"\"\"\n",
    "        for bit in CircuitExecutor.BIT_ORDER:\n",
    "            if bit not in results:\n",
    "                results[bit] = 0\n",
    "        return results\n",
    "    \n",
    "    def _probabilities_backend(self, backend, num_shots=800, seed=None, result_options={}, transpile_before=False):\n",
    "        \"\"\"\n",
    "        Calculate probabilities on a given backend.\n",
    "        \"\"\"\n",
    "        # copy current circuit\n",
    "        mqc = self.circuit.copy()\n",
    "        # add measurement\n",
    "        mqc.measure(range(3), range(3))\n",
    "        # transpile\n",
    "        mqc_transpiled = mqc if not transpile_before else transpile(mqc, backend)\n",
    "        # run job\n",
    "        job = backend.run(mqc_transpiled, shots=num_shots, seed=seed)\n",
    "        # get results\n",
    "        result = job.result(**result_options)\n",
    "        counts = result.get_counts(mqc_transpiled)\n",
    "        # divide by num_shots to get probabilities\n",
    "        assert num_shots == np.sum([c for c in counts.values()]), (num_shots, counts)\n",
    "        for b in counts:\n",
    "            counts[b] = float(counts[b])/num_shots\n",
    "        return CircuitExecutor._fill_with_zero(counts)\n",
    "    \n",
    "    \n",
    "    def get_maximum_key(results):\n",
    "        \"\"\"\n",
    "        Get the key which has the highest maximum\n",
    "        \"\"\"\n",
    "        max_key = max(results, key=results.get)\n",
    "        return max_key\n",
    "    \n",
    "    \n",
    "    def probabilities_qasm(self, num_shots=800):\n",
    "        \"\"\"\n",
    "        Calculate probabilities on QASM Simulator\n",
    "        \"\"\"\n",
    "        return self._probabilities_backend(backend_qasm, num_shots=num_shots, seed=randint(0, 2500), transpile_before=True)\n",
    "    \n",
    "    \n",
    "    def probabilities_mock(self, num_shots=800):\n",
    "        \"\"\"\n",
    "        Calculate probabilities on Mock Device\n",
    "        \"\"\"\n",
    "        return self._probabilities_backend(backend_mock, num_shots=num_shots, transpile_before=True)\n",
    "    \n",
    "    \n",
    "    def probabilities_ibmq(self, num_shots=1, secs_timeout=30):\n",
    "        \"\"\"\n",
    "        Calculate probabilities on IBM Q. If errors, fall back to mock device.\n",
    "        \"\"\"\n",
    "        try:\n",
    "            res = self._probabilities_backend(backend_ibm, num_shots=num_shots, result_options={\"timeout\": secs_timeout, \"wait\": 2}, transpile_before=True)\n",
    "            return res\n",
    "        except Exception as e:\n",
    "            print(\"Got error for running on IBM Q\", e)\n",
    "            return self.probabilities_mock(num_shots=num_shots)\n",
    "    \n",
    "    \n",
    "    def probabilities_analytical(self):\n",
    "        \"\"\"\n",
    "        Calculate probabilities using the state vector (analytical solution)\n",
    "        \"\"\"\n",
    "        mqc = self.circuit.copy()\n",
    "        # run circuit on state vector\n",
    "        result = execute(mqc, backend_ideal).result()\n",
    "        # get state vector and calculate probabilities\n",
    "        state_vector = result.get_statevector(mqc, decimals=5)\n",
    "        probs = state_vector.probabilities() if hasattr(state_vector, \"probabilities\") else np.abs(state_vector ** 2)\n",
    "        # map back to bit configurations\n",
    "        results = {\n",
    "            key: probs[i] for i, key in enumerate(CircuitExecutor.BIT_ORDER)\n",
    "        }\n",
    "        return CircuitExecutor._fill_with_zero(results)"
   ]
  },
  {
   "cell_type": "markdown",
   "metadata": {},
   "source": [
    "## Build App"
   ]
  },
  {
   "cell_type": "code",
   "execution_count": null,
   "metadata": {},
   "outputs": [],
   "source": [
    "from ipywidgets import Widget, Button, HTML, VBox, widgets, link, HBox\n",
    "import appwidgets\n",
    "from traitlets import Unicode, Dict, Int, Any, HasTraits, Bool\n",
    "from appwidgets import JsPyWidget\n",
    "import json"
   ]
  },
  {
   "cell_type": "markdown",
   "metadata": {},
   "source": [
    "### Build Data Model"
   ]
  },
  {
   "cell_type": "code",
   "execution_count": null,
   "metadata": {},
   "outputs": [],
   "source": [
    "# gather drink metadata\n",
    "DRINKS = {\n",
    "    \"000\": {\n",
    "        \"id\": \"tea\",\n",
    "        \"name\": \"Tea\",\n",
    "        \"key\": \"NotImplemented\",\n",
    "        \"options\": {}\n",
    "    },\n",
    "    \"001\": {\n",
    "        \"id\": \"hotchocolate\",\n",
    "        \"name\": \"Hot Chocolate\",\n",
    "        \"key\": \"ConsumerProducts.CoffeeMaker.Program.Beverage.MilkFroth\",\n",
    "        \"options\": {}\n",
    "    },\n",
    "    \"010\": {\n",
    "        \"id\": \"espresso\",\n",
    "        \"name\": \"Espresso\",\n",
    "        \"key\": \"ConsumerProducts.CoffeeMaker.Program.Beverage.Espresso\",\n",
    "        \"options\": {\n",
    "            \"ConsumerProducts.CoffeeMaker.Option.FillQuantity\": 50\n",
    "        }\n",
    "    },\n",
    "    \"011\": {\n",
    "        \"id\": \"coffee\",\n",
    "        \"name\": \"Coffee\",\n",
    "        \"key\": \"ConsumerProducts.CoffeeMaker.Program.Beverage.Coffee\",\n",
    "        \"options\": {}\n",
    "    },\n",
    "    \"100\": {\n",
    "        \"id\": \"cappucino\",\n",
    "        \"name\": \"Cappucino\",\n",
    "        \"key\": \"ConsumerProducts.CoffeeMaker.Program.Beverage.Cappuccino\",\n",
    "        \"options\": {}\n",
    "    },\n",
    "    \"101\": {\n",
    "        \"id\": \"lattemacchiato\",\n",
    "        \"name\": \"Latte Macchiato\",\n",
    "        \"key\": \"ConsumerProducts.CoffeeMaker.Program.Beverage.LatteMacchiato\",\n",
    "        \"options\": {}\n",
    "    },\n",
    "    \"110\": {\n",
    "        \"id\": \"wienermelange\",\n",
    "        \"name\": \"Viennese Melange\",\n",
    "        \"key\": \"ConsumerProducts.CoffeeMaker.Program.CoffeeWorld.WienerMelange\",\n",
    "        \"options\": {}\n",
    "    },\n",
    "    \"111\": {\n",
    "        \"id\": \"americano\",\n",
    "        \"name\": \"Americano\",\n",
    "        \"key\": \"ConsumerProducts.CoffeeMaker.Program.CoffeeWorld.Americano\",\n",
    "        \"options\": {}\n",
    "    }\n",
    "}"
   ]
  },
  {
   "cell_type": "code",
   "execution_count": null,
   "metadata": {},
   "outputs": [],
   "source": [
    "# build a widget which represents the global app state\n",
    "data = Widget()\n",
    "data.add_traits(\n",
    "    # name of current circuit with which the composer was initialized\n",
    "    composer_init_circuit = Dict({\n",
    "        \"id\": \"empty\",\n",
    "        \"name\": \"\",\n",
    "        \"init_text\": \"\"\n",
    "    }).tag(sync=True),\n",
    "    # current ideal probabilities\n",
    "    histogram_anal = Dict({\n",
    "        key: 0 for key in DRINKS\n",
    "    }).tag(sync=True),\n",
    "    # current probabilities from ideal simulator\n",
    "    histogram_qasm = Dict({\n",
    "        key: 0 for key in DRINKS\n",
    "    }).tag(sync=True),\n",
    "    # current probabilities from mock device\n",
    "    histogram_mock = Dict({\n",
    "        key: 0 for key in DRINKS\n",
    "    }).tag(sync=True),\n",
    "    # id of drink from single shot measurement\n",
    "    single_shot_result = Dict({\n",
    "        \"name\": \"\",\n",
    "        \"id\": \"\",\n",
    "        \"bit\": \"\"\n",
    "    }).tag(sync=True),\n",
    "    # status of single shot measurements (0 = init, 1 = loading, 2 = done)\n",
    "    single_shot_status = Int().tag(sync=True),\n",
    "    # device on which to perform the single shot\n",
    "    single_shot_device = Unicode(\"simulator\").tag(sync=True),\n",
    "    # composer qasm\n",
    "    qasm = Unicode(\"\").tag(sync=True),\n",
    "    # check if real device is enabled\n",
    "    use_real_device = Bool(backend_ibm is not None).tag(sync=True),\n",
    "    # check if mock device results are shown\n",
    "    show_mock_results = Bool(False).tag(sync=True),\n",
    "    # check if qasm results are shown\n",
    "    show_qasm_results = Bool(False).tag(sync=True),\n",
    "    \n",
    "    #### VIEW RELATED\n",
    "    view = Unicode(\"\").tag(sync=True),\n",
    "    heading = Unicode(\"\").tag(sync=True)\n",
    ")"
   ]
  },
  {
   "cell_type": "markdown",
   "metadata": {},
   "source": [
    "### Setup the composer"
   ]
  },
  {
   "cell_type": "code",
   "execution_count": null,
   "metadata": {},
   "outputs": [],
   "source": [
    "composer = CircuitComposer(circuit=qcreg[0]['circuit'])"
   ]
  },
  {
   "cell_type": "code",
   "execution_count": null,
   "metadata": {},
   "outputs": [],
   "source": [
    "# on changes on the composer, execute the circuit to get probabilities\n",
    "def composer_update_handler(change_event):\n",
    "    # there are multiple change events, only use on\n",
    "    if change_event['name'] != \"circuit\":\n",
    "        return\n",
    "    executor = CircuitExecutor(composer.circuit)\n",
    "    # set to 0 because calc requires some time and one sees wrong results for a second or so\n",
    "    data.histogram_mock = {key: 0 for key in CircuitExecutor.BIT_ORDER}\n",
    "    # get and save ideal result\n",
    "    result_analytical = executor.probabilities_analytical()\n",
    "    data.histogram_anal = result_analytical\n",
    "    # get and save measurements\n",
    "    result_qasm = executor.probabilities_qasm()\n",
    "    data.histogram_qasm = result_qasm\n",
    "    # get and save qasm code\n",
    "    qasm = composer.circuit.qasm()\n",
    "    data.qasm = qasm\n",
    "    \n",
    "    # most time consuming :/\n",
    "    if data.show_mock_results:\n",
    "        result_mock = executor.probabilities_mock()\n",
    "        data.histogram_mock = result_mock\n",
    "    \n",
    "composer.observe(composer_update_handler)\n",
    "\n",
    "# execute the function above also on changes on data.show_mock_results and data.show_qasm_results\n",
    "data.observe(lambda x: composer_update_handler({\"name\": \"circuit\"}), names=[\"show_mock_results\", \"show_qasm_results\"])"
   ]
  },
  {
   "cell_type": "markdown",
   "metadata": {},
   "source": [
    "### Build app logic"
   ]
  },
  {
   "cell_type": "code",
   "execution_count": null,
   "metadata": {},
   "outputs": [],
   "source": [
    "# perform single shot measurement\n",
    "def get_single_shot_result():\n",
    "    data.single_shot_status = 1\n",
    "    executor = CircuitExecutor(composer.circuit)\n",
    "    counts = None\n",
    "    if data.single_shot_device == \"ibmq\":\n",
    "        counts = executor.probabilities_ibmq(num_shots=1, secs_timeout=30)\n",
    "    elif data.single_shot_device == \"mock\":\n",
    "        counts = executor.probabilities_mock(num_shots=1)\n",
    "    else:\n",
    "        counts = executor.probabilities_qasm(num_shots=1)\n",
    "        \n",
    "    bits = CircuitExecutor.get_maximum_key(counts)\n",
    "    data.single_shot_result = {\n",
    "        \"bit\": bits,\n",
    "        \"id\": DRINKS[bits][\"id\"],\n",
    "        \"name\": DRINKS[bits][\"name\"]\n",
    "    }\n",
    "    time.sleep(1.5)\n",
    "    data.single_shot_status = 2\n",
    "    return bits"
   ]
  },
  {
   "cell_type": "code",
   "execution_count": null,
   "metadata": {},
   "outputs": [],
   "source": [
    "# request a drink from the backend\n",
    "def request_drink():\n",
    "    # get result from single shot measurement\n",
    "    bit = data.single_shot_result['bit']\n",
    "    drink_key = DRINKS[bit]['key']\n",
    "    drink_options = DRINKS[bit]['options']\n",
    "    \n",
    "    def response_handler(res):\n",
    "        if 'error' in res:\n",
    "            # app.view = 'error'\n",
    "            data.single_shot_status = 4\n",
    "        else:\n",
    "            # app.view = 'success'\n",
    "            data.single_shot_status = 3\n",
    "    \n",
    "    jspy.execute_js(\n",
    "        \"window.requestDrink(\"+json.dumps(drink_key)+\", \"+json.dumps(drink_options)+\")\",\n",
    "        response_handler\n",
    "    )"
   ]
  },
  {
   "cell_type": "code",
   "execution_count": null,
   "metadata": {},
   "outputs": [],
   "source": [
    "# show the QR Code to open IBM Q with the current circuit\n",
    "def open_circuit_on_ibmq():\n",
    "    qasm = data.qasm\n",
    "    jspy.execute_js(\n",
    "        \"window.openQRCodeIBMQ(\"+json.dumps(qasm)+\")\",\n",
    "    )"
   ]
  },
  {
   "cell_type": "code",
   "execution_count": null,
   "metadata": {},
   "outputs": [],
   "source": [
    "# toggle a boolean attribute on data\n",
    "def toggle_data_attr(name):\n",
    "    setattr(data, name, not getattr(data, name))\n",
    "    \n",
    "    \n",
    "# toggle device to use for single shots\n",
    "def set_next_single_shot_device():\n",
    "    if data.single_shot_device == 'simulator':\n",
    "        data.single_shot_device = 'mock'\n",
    "    elif data.single_shot_device == 'mock':\n",
    "        if data.use_real_device:\n",
    "            data.single_shot_device = 'ibmq'\n",
    "        else:\n",
    "            data.single_shot_device = 'simulator'\n",
    "    elif data.single_shot_device == 'ibmq':\n",
    "        data.single_shot_device = 'simulator'\n",
    "    else:\n",
    "        data.single_shot_device = 'simulator'"
   ]
  },
  {
   "cell_type": "code",
   "execution_count": null,
   "metadata": {},
   "outputs": [],
   "source": [
    "## functions to load specific views\n",
    "\n",
    "# load welcome view\n",
    "def load_welcome():\n",
    "    data.view = 'welcome'\n",
    "    data.heading = \"Qoffee Maker powered by <b>IBM Quantum</b>\"\n",
    "    \n",
    "\n",
    "# load starting point (set circuit in composer, reset some attributes, ...)\n",
    "def load_starting_point(circuit_id):\n",
    "    circuit_data = next(filter(lambda x: x['id'] == circuit_id, qcreg))\n",
    "    data.composer_init_circuit = {\n",
    "        \"id\": circuit_data[\"id\"],\n",
    "        \"name\": circuit_data[\"name\"],\n",
    "        \"init_text\": circuit_data[\"init_text\"]\n",
    "    }\n",
    "    data.single_shot_device = 'simulator'\n",
    "    data.single_shot_status = 0\n",
    "    composer.circuit = circuit_data['circuit']\n",
    "    data.show_mock_results = False\n",
    "    data.show_qasm_results = False\n",
    "    # data.heading = \"Composer: \"+circuit_data[\"name\"]\n",
    "    data.view = 'composer'"
   ]
  },
  {
   "cell_type": "markdown",
   "metadata": {},
   "source": [
    "### Build views"
   ]
  },
  {
   "cell_type": "code",
   "execution_count": null,
   "metadata": {},
   "outputs": [],
   "source": [
    "app = appwidgets.AppBox(init_view='welcome')\n",
    "link((app, \"view\"), (data, \"view\"))\n",
    "jspy = JsPyWidget()"
   ]
  },
  {
   "cell_type": "markdown",
   "metadata": {},
   "source": [
    "#### Header"
   ]
  },
  {
   "cell_type": "code",
   "execution_count": null,
   "metadata": {},
   "outputs": [],
   "source": [
    "header = appwidgets.ReactiveHtmlWidget(\"\"\"\n",
    "    <div id=\"header\">\n",
    "        <img src=\"css/QoffeeMug.png\"/>\n",
    "        <h1>${heading}</h1>\n",
    "        <div id=\"navigation-container\">\n",
    "            <button id=\"navigation-button-q\" data-device=\"${single_shot_device}\" data-rh-exec='set_next_single_shot_device()'>Q</button>\n",
    "            <button id=\"navigation-button-back\" data-rh-if=\"${view} != 'welcome'\" class=\"navigation-button\" data-rh-exec=\"load_welcome()\">&#5130;</button>\n",
    "            <button id=\"navigation-button-help\" data-rh-exec-js='window.openQRCode(\"http://qoffee-maker.org\", \"http://qoffee-maker.org\")'>?</button>\n",
    "        </div>\n",
    "    </div>\n",
    "\"\"\", data_model=data)\n",
    "header.load_css(\"./css/header.css\")\n",
    "data.heading = \"Qoffee Maker powered by <b>IBM Quantum</b>\""
   ]
  },
  {
   "cell_type": "markdown",
   "metadata": {},
   "source": [
    "#### Welcome View"
   ]
  },
  {
   "cell_type": "code",
   "execution_count": null,
   "metadata": {},
   "outputs": [],
   "source": [
    "# helper function to get html code\n",
    "def get_circuit_selection_html(circuit_id, width=12):\n",
    "    circuit_data = next(filter(lambda x: x['id'] == circuit_id, qcreg))\n",
    "    return \"\"\"\n",
    "    <div class=\"col-md-\"\"\"+str(width)+\"\"\"\">\n",
    "        <div class=\"card\" data-rh-exec=\"load_starting_point('\"\"\"+circuit_id+\"\"\"')\">\n",
    "          <div class=\"card-body\">\n",
    "            <h5 class=\"card-title\">\"\"\"+circuit_data['name']+\"\"\"</h5>\n",
    "            <p class=\"card-text\">\"\"\"+circuit_data['init_text']+\"\"\"</p>\n",
    "            <span class=\"arrow\">→</span>\n",
    "          </div>\n",
    "        </div>\n",
    "    </div>\n",
    "    \"\"\""
   ]
  },
  {
   "cell_type": "code",
   "execution_count": null,
   "metadata": {},
   "outputs": [],
   "source": [
    "view_welcome_content = appwidgets.ReactiveHtmlWidget(\"\"\"\n",
    "    <div id=\"view-welcome\" class=\"app-view-content\">\n",
    "        <h3>Welcome to the Qoffee Maker</h3>\n",
    "        <br/>\n",
    "        <div class=\"row mt-4\">\n",
    "            <div class=\"col-md-12\">\n",
    "                <div class=\"row align-items-stretch card-primary\">\"\"\"+\n",
    "                    get_circuit_selection_html('empty', 3)\n",
    "                +\"\"\"\n",
    "                </div>\n",
    "            </div>\n",
    "        </div>\n",
    "        <br/>\n",
    "        <br/>\n",
    "        <br/>\n",
    "        <div class=\"row mt-4\">\n",
    "            <div class=\"col-md-12\">\n",
    "                <h4>Start with the examples from qoffee-maker.org</h4>\n",
    "                <div class=\"row align-items-stretch\">\"\"\"+\n",
    "                    get_circuit_selection_html('anything', 3) +\n",
    "                    get_circuit_selection_html('cappucino', 3) +\n",
    "                    get_circuit_selection_html('withoutcoffein', 3) + \n",
    "                    get_circuit_selection_html('nothingstrong', 3) + \n",
    "                    get_circuit_selection_html('teaorcoffee', 3)\n",
    "                +\"\"\"\n",
    "                </div>\n",
    "            </div>\n",
    "        </div>\n",
    "    </div>\n",
    "\"\"\")\n",
    "\n",
    "view_welcome_content.load_css(\"./css/view_welcome.css\")"
   ]
  },
  {
   "cell_type": "code",
   "execution_count": null,
   "metadata": {},
   "outputs": [],
   "source": [
    "view_welcome = VBox([header, view_welcome_content])"
   ]
  },
  {
   "cell_type": "markdown",
   "metadata": {},
   "source": [
    "#### Composer View"
   ]
  },
  {
   "cell_type": "code",
   "execution_count": null,
   "metadata": {},
   "outputs": [],
   "source": [
    "# Introtext\n",
    "#view_composer_intro = appwidgets.ReactiveHtmlWidget(\"\"\"\n",
    "#    <p>{{${composer_init_circuit}['init_text']}}</p>\n",
    "#\"\"\", data_model=data)\n",
    "view_composer_intro = appwidgets.ReactiveHtmlWidget(\"\"\"\n",
    "    <p>Drag & Drop Quantum Gates onto the Qubits to build your circuit. <span data-rh-exec=\"load_welcome()\">Go back</span>.</p>\n",
    "\"\"\")\n",
    "view_composer_intro.load_css(\"./css/view_composer_intro.css\")\n",
    "\n",
    "# Histogram\n",
    "hist_html = \"\"\n",
    "for key, value in DRINKS.items():\n",
    "    hist_html += \"\"\"\n",
    "        <div class=\"histogram-entry\">\n",
    "            <div class=\"histogram-text-container-pre\">\n",
    "                <p><span class=\"histogram-text histogram-text-ideal histogram-text-\"\"\"+key+\"\"\"\"\">{{int(${histogram_anal}['\"\"\"+key+\"\"\"']*1000)/10}}%</span></p>\n",
    "            </div>\n",
    "            <div class=\"histogram-bar-container\">\n",
    "                <div class=\"histogram-bar-outer\">\n",
    "                    <div data-rh-if=\"${show_qasm_results}\" style=\"height: {{${histogram_qasm}['\"\"\"+key+\"\"\"']*100}}%\" class=\"histogram-bar histogram-bar-qasm histogram-bar-\"\"\"+key+\"\"\"\"></div>\n",
    "                    <div style=\"height: {{${histogram_anal}['\"\"\"+key+\"\"\"']*100}}%\" class=\"histogram-bar histogram-bar-anal histogram-bar-\"\"\"+key+\"\"\"\"></div>\n",
    "                    <div data-rh-if=\"${show_mock_results}\" style=\"height: {{${histogram_mock}['\"\"\"+key+\"\"\"']*100}}%\" class=\"histogram-bar histogram-bar-mock histogram-bar-\"\"\"+key+\"\"\"\"></div>\n",
    "                </div>\n",
    "            </div>\n",
    "            <div class=\"histogram-text-container-post\">\n",
    "                <p>\"\"\"+key+\"\"\"<br/><br/>\"\"\"+value[\"name\"]+\"\"\"</p>\n",
    "            </div>\n",
    "        </div>\n",
    "    \"\"\"\n",
    "    \n",
    "view_composer_button_bar = appwidgets.ReactiveHtmlWidget(\"\"\"\n",
    "    <div id=\"view-composer-hist-header\">\n",
    "        <h3>Measurement Probabilities</h3>\n",
    "    </div>\n",
    "    <div id=\"view-composer-button-bar\">\n",
    "        <button id=\"view-composer-show-theo-btn\" data-active=\"True\" class=\"btn btn-default\">Theoretical</button>\n",
    "        <button id=\"view-composer-show-qasm-btn\" data-active=\"${show_qasm_results}\" class=\"btn btn-default\" data-rh-exec=\"toggle_data_attr('show_qasm_results')\">Simulator (error free)</button>\n",
    "        <button id=\"view-composer-show-mock-btn\" data-active=\"${show_mock_results}\" class=\"btn btn-default mr-4\" data-rh-exec=\"toggle_data_attr('show_mock_results')\">Simulator (real quantum device)</button>\n",
    "        <button class=\"btn btn-default mr-4\" data-rh-exec=\"open_circuit_on_ibmq()\">Export to IBM Quantum Composer</button>\n",
    "    </div>\n",
    "    \n",
    "\"\"\", data_model=data)\n",
    "view_composer_button_bar.load_css(\"./css/view_composer_button_bar.css\")\n",
    "\n",
    "view_composer_hist = appwidgets.ReactiveHtmlWidget(\"\"\"\n",
    "<div id=\"view-composer-hist-container\">\n",
    "    <div id=\"view-composer-hist\">\"\"\"+hist_html+\"\"\"</div>\n",
    "</div>\n",
    "\"\"\", data_model=data)\n",
    "view_composer_hist.load_css(\"./css/view_composer_hist.css\")\n",
    "\n",
    "# Single Shot\n",
    "view_composer_singleshot = appwidgets.ReactiveHtmlWidget(\"\"\"\n",
    "    <div id=\"view-composer-singleshot-container\">\n",
    "        <div id=\"view-composer-singleshot\">\n",
    "            <button class=\"btn btn-primary btn-block\" data-rh-exec=\"get_single_shot_result()\">Determine your beverage</button>\n",
    "            <br/>\n",
    "            <div data-rh-if='${single_shot_status}==1' class=\"width-100\">\n",
    "                <p style=\"width: 100%; text-align: center;\">Loading...\n",
    "            </div>\n",
    "            <div id=\"view-composer-singleshot-result\"data-rh-if='${single_shot_status}==2' class=\"view-composer-order-text width-100\">\n",
    "                <p>☕️<br>{{${single_shot_result}[\"name\"]}}</p>\n",
    "                <button class=\"btn btn-primary btn-block\" data-rh-exec=\"request_drink()\">Order Drink →</button>\n",
    "            </div>\n",
    "            <div data-rh-if='${single_shot_status}==3' class=\"view-composer-order-text width-100\">\n",
    "                <p>👍<br>Thank you and enjoy your drink</p>\n",
    "                <button class=\"btn btn-primary btn-block\" data-rh-exec=\"load_welcome()\">Back</button>\n",
    "            </div>\n",
    "            <div data-rh-if='${single_shot_status}==4' class=\"view-composer-order-text width-100\">\n",
    "                <p>😱<br>Oh no, something went wrong.</p>\n",
    "                <button class=\"btn btn-primary btn-block\" data-rh-exec=\"load_welcome()\">Back</button>\n",
    "            </div>\n",
    "            <br/>\n",
    "            \n",
    "        </div>\n",
    "    </div>\n",
    "\"\"\", data_model=data)\n",
    "view_composer_singleshot.load_css(\"./css/view_composer_singleshot.css\")"
   ]
  },
  {
   "cell_type": "code",
   "execution_count": null,
   "metadata": {},
   "outputs": [],
   "source": [
    "# assemble composer view\n",
    "view_composer = VBox([\n",
    "    header,\n",
    "    VBox([\n",
    "        view_composer_intro,\n",
    "        composer,\n",
    "        HBox([\n",
    "            VBox([\n",
    "                view_composer_button_bar,\n",
    "                view_composer_hist\n",
    "            ]).add_class(\"width-80\"),\n",
    "            view_composer_singleshot.add_class(\"width-20\")\n",
    "        ])\n",
    "    ]).add_class(\"app-view-content\")  \n",
    "])"
   ]
  },
  {
   "cell_type": "markdown",
   "metadata": {},
   "source": [
    "#### Error View"
   ]
  },
  {
   "cell_type": "code",
   "execution_count": null,
   "metadata": {},
   "outputs": [],
   "source": [
    "view3_content = appwidgets.ReactiveHtmlWidget(\"\"\"\n",
    "    <div class=\"app-view-content\">\n",
    "        <h1>Oh no, something went wrong 😱</h1>\n",
    "    </div>\n",
    "\"\"\")\n",
    "\n",
    "view_fail = VBox([\n",
    "    header,\n",
    "    view3_content\n",
    "])"
   ]
  },
  {
   "cell_type": "markdown",
   "metadata": {},
   "source": [
    "#### Success View"
   ]
  },
  {
   "cell_type": "code",
   "execution_count": null,
   "metadata": {},
   "outputs": [],
   "source": [
    "view4_content = appwidgets.ReactiveHtmlWidget(\"\"\"\n",
    "    <div class=\"app-view-content\">\n",
    "        <h1>Thank you and enjoy your drink ☕️</h1>\n",
    "    </div>\n",
    "\"\"\")\n",
    "\n",
    "view_success = VBox([\n",
    "    header,\n",
    "    view4_content\n",
    "])"
   ]
  },
  {
   "cell_type": "markdown",
   "metadata": {},
   "source": [
    "### Assemble View"
   ]
  },
  {
   "cell_type": "code",
   "execution_count": null,
   "metadata": {},
   "outputs": [],
   "source": [
    "app.add_widget('welcome', view_welcome)\n",
    "app.add_widget('composer', view_composer)\n",
    "app.add_widget('error', view_fail)\n",
    "app.add_widget('success', view_success)"
   ]
  },
  {
   "cell_type": "markdown",
   "metadata": {},
   "source": [
    "# Show App"
   ]
  },
  {
   "cell_type": "code",
   "execution_count": null,
   "metadata": {
    "scrolled": false
   },
   "outputs": [],
   "source": [
    "### APP\n",
    "app"
   ]
  },
  {
   "cell_type": "code",
   "execution_count": null,
   "metadata": {},
   "outputs": [],
   "source": []
  },
  {
   "cell_type": "code",
   "execution_count": null,
   "metadata": {},
   "outputs": [],
   "source": []
  }
 ],
 "metadata": {
  "kernelspec": {
   "display_name": "Python 3 (ipykernel)",
   "language": "python",
   "name": "python3"
  },
  "language_info": {
   "codemirror_mode": {
    "name": "ipython",
    "version": 3
   },
   "file_extension": ".py",
   "mimetype": "text/x-python",
   "name": "python",
   "nbconvert_exporter": "python",
   "pygments_lexer": "ipython3",
   "version": "3.9.7"
  },
  "widgets": {
   "application/vnd.jupyter.widget-state+json": {
    "state": {
     "00cd1ad516c74434bf1ddb21291a02a0": {
      "model_module": "@jupyter-widgets/base",
      "model_module_version": "1.2.0",
      "model_name": "LayoutModel",
      "state": {}
     },
     "09f13fe5dde644648ac16361f65d42c9": {
      "model_module": "appwidgets",
      "model_module_version": "^0.1.0",
      "model_name": "ReactiveHtmlModel",
      "state": {
       "_css": "\n.<<VIEW_ID>> #view-welcome h3 {\n\n    font-size: 2em;\n\n}\n\n\n\n.<<VIEW_ID>> #view-welcome h4, #view-welcome h5 {\n\n    font-size: 1.7em;\n\n    margin-bottom: 1em;\n\n}\n\n\n\n.<<VIEW_ID>> #view-welcome .card {\n\n    padding: 10px 10px 30px 10px;\n\n    margin: 2px;\n\n    background-color: rgba(244, 244, 244);\n\n    height: 180px; /*calc(100% - 4px);*/\n\n    border-radius: 0;\n\n    border-width: 0;\n\n    position: relative;\n\n    cursor: pointer;\n\n}\n\n\n\n.<<VIEW_ID>> #view-welcome .card-primary .card {\n\n    background-color: rgba(40, 105, 245);\n\n    color: white;\n\n}\n\n\n\n.<<VIEW_ID>> #view-welcome p {\n\n    font-size: 1.3em;\n\n}\n\n\n\n.<<VIEW_ID>> #view-welcome span.arrow {\n\n    color: rgba(40, 105, 245);\n\n    position: absolute;\n\n    bottom: 10px;\n\n    left: 20px;\n\n    font-size: 1.5em;\n\n}\n\n\n\n.<<VIEW_ID>> #view-welcome .card-primary span.arrow {\n\n    color: white;\n\n}\n\n\n\n.<<VIEW_ID>> #view-welcome .mt-4 {\n\n    margin-top: 20px;\n\n}",
       "_model_module_version": "^0.1.0",
       "_rendered": "\n<div class=\"app-view-content\" id=\"view-welcome\">\n<h3>Welcome to the Qoffee Maker</h3>\n<br/>\n<div class=\"row mt-4\">\n<div class=\"col-md-12\">\n<div class=\"row align-items-stretch card-primary\">\n<div class=\"col-md-3\">\n<div class=\"card\" data-rh-exec=\"load_starting_point('empty')\">\n<div class=\"card-body\">\n<h5 class=\"card-title\">Start the Qoffee Maker</h5>\n<p class=\"card-text\"></p>\n<span class=\"arrow\">→</span>\n</div>\n</div>\n</div>\n</div>\n</div>\n</div>\n<br/>\n<br/>\n<br/>\n<div class=\"row mt-4\">\n<div class=\"col-md-12\">\n<h4>Start with the examples from qoffee-maker.org</h4>\n<div class=\"row align-items-stretch\">\n<div class=\"col-md-3\">\n<div class=\"card\" data-rh-exec=\"load_starting_point('anything')\">\n<div class=\"card-body\">\n<h5 class=\"card-title\">Just something to drink</h5>\n<p class=\"card-text\"></p>\n<span class=\"arrow\">→</span>\n</div>\n</div>\n</div>\n<div class=\"col-md-3\">\n<div class=\"card\" data-rh-exec=\"load_starting_point('cappucino')\">\n<div class=\"card-body\">\n<h5 class=\"card-title\">Only Cappucino</h5>\n<p class=\"card-text\"></p>\n<span class=\"arrow\">→</span>\n</div>\n</div>\n</div>\n<div class=\"col-md-3\">\n<div class=\"card\" data-rh-exec=\"load_starting_point('withoutcoffein')\">\n<div class=\"card-body\">\n<h5 class=\"card-title\">Without caffein</h5>\n<p class=\"card-text\"></p>\n<span class=\"arrow\">→</span>\n</div>\n</div>\n</div>\n<div class=\"col-md-3\">\n<div class=\"card\" data-rh-exec=\"load_starting_point('nothingstrong')\">\n<div class=\"card-body\">\n<h5 class=\"card-title\">Nothing Strong</h5>\n<p class=\"card-text\"></p>\n<span class=\"arrow\">→</span>\n</div>\n</div>\n</div>\n<div class=\"col-md-3\">\n<div class=\"card\" data-rh-exec=\"load_starting_point('teaorcoffee')\">\n<div class=\"card-body\">\n<h5 class=\"card-title\">Tea or Coffee</h5>\n<p class=\"card-text\"></p>\n<span class=\"arrow\">→</span>\n</div>\n</div>\n</div>\n</div>\n</div>\n</div>\n</div>\n",
       "_view_module_version": "^0.1.0",
       "layout": "IPY_MODEL_26ff06e694bc47948ec158ee8a80aa50"
      }
     },
     "18751a077a164687946d9ed6ae755ccf": {
      "model_module": "@jupyter-widgets/base",
      "model_module_version": "1.2.0",
      "model_name": "LayoutModel",
      "state": {}
     },
     "1e94aa14513b48f189a210ea0dbd36b6": {
      "model_module": "@jupyter-widgets/controls",
      "model_module_version": "1.5.0",
      "model_name": "BoxModel",
      "state": {
       "_dom_classes": [
        "app-appbox"
       ],
       "children": [
        "IPY_MODEL_63e5ca7da1534a92aa422860ec47a246"
       ],
       "layout": "IPY_MODEL_6549b7046aa74e85bcd042e8b40ac34c",
       "view": "composer"
      }
     },
     "21523bdf88c945ff84c529a5da8af7c8": {
      "model_module": "@jupyter-widgets/base",
      "model_module_version": "1.2.0",
      "model_name": "LayoutModel",
      "state": {}
     },
     "26ff06e694bc47948ec158ee8a80aa50": {
      "model_module": "@jupyter-widgets/base",
      "model_module_version": "1.2.0",
      "model_name": "LayoutModel",
      "state": {}
     },
     "2d869eed076444f3a5dcc90fa7aae347": {
      "model_module": "@jupyter-widgets/base",
      "model_module_version": "1.2.0",
      "model_name": "LayoutModel",
      "state": {}
     },
     "3b0e33e293f1401f8ff890fbf9afcbbc": {
      "model_module": "@jupyter-widgets/base",
      "model_module_version": "1.2.0",
      "model_name": "LayoutModel",
      "state": {}
     },
     "3b3d17cdbecb456780ca28a20de3ab1b": {
      "model_module": "@jupyter-widgets/controls",
      "model_module_version": "1.5.0",
      "model_name": "VBoxModel",
      "state": {
       "children": [
        "IPY_MODEL_dbfd2f6bf4e24d81980334e7d7771cb0",
        "IPY_MODEL_951d51dcb35f4a9faa1df56d1bf94a12"
       ],
       "layout": "IPY_MODEL_18751a077a164687946d9ed6ae755ccf"
      }
     },
     "4e9607ab73a245e6addd5e5ed740e8c3": {
      "model_module": "@jupyter-widgets/controls",
      "model_module_version": "1.5.0",
      "model_name": "VBoxModel",
      "state": {
       "children": [
        "IPY_MODEL_dbfd2f6bf4e24d81980334e7d7771cb0",
        "IPY_MODEL_82b9dba8886041ae9c6ebeadea78c503"
       ],
       "layout": "IPY_MODEL_ca5adaaef66e405fb144895b6aa1958d"
      }
     },
     "5538bf754b824e699165d3bad54108d5": {
      "model_module": "@jupyter-widgets/base",
      "model_module_version": "1.2.0",
      "model_name": "LayoutModel",
      "state": {}
     },
     "63e5ca7da1534a92aa422860ec47a246": {
      "model_module": "@jupyter-widgets/controls",
      "model_module_version": "1.5.0",
      "model_name": "VBoxModel",
      "state": {
       "children": [
        "IPY_MODEL_dbfd2f6bf4e24d81980334e7d7771cb0",
        "IPY_MODEL_e5d9852517f2487f8ed928e6fd6fc6bd"
       ],
       "layout": "IPY_MODEL_fa9548efa6154e5cb833f3a1017e0569"
      }
     },
     "6549b7046aa74e85bcd042e8b40ac34c": {
      "model_module": "@jupyter-widgets/base",
      "model_module_version": "1.2.0",
      "model_name": "LayoutModel",
      "state": {}
     },
     "6f53b583aed644b485dd68e6f414ac79": {
      "model_module": "@jupyter-widgets/base",
      "model_module_version": "1.2.0",
      "model_name": "LayoutModel",
      "state": {}
     },
     "71994981354d4a05909244bc5ff436a0": {
      "model_module": "@jupyter-widgets/base",
      "model_module_version": "1.2.0",
      "model_name": "LayoutModel",
      "state": {}
     },
     "76a4aadaae364c34819caaac679ff551": {
      "model_module": "@jupyter-widgets/base",
      "model_module_version": "1.2.0",
      "model_name": "LayoutModel",
      "state": {}
     },
     "82b9dba8886041ae9c6ebeadea78c503": {
      "model_module": "appwidgets",
      "model_module_version": "^0.1.0",
      "model_name": "ReactiveHtmlModel",
      "state": {
       "_css": "",
       "_model_module_version": "^0.1.0",
       "_rendered": "\n<div class=\"app-view-content\">\n<h1>Thank you and enjoy your drink ☕️</h1>\n</div>\n",
       "_view_module_version": "^0.1.0",
       "layout": "IPY_MODEL_71994981354d4a05909244bc5ff436a0"
      }
     },
     "8bd092deb0f24936a60a9924175ec958": {
      "model_module": "appwidgets",
      "model_module_version": "^0.1.0",
      "model_name": "ReactiveHtmlModel",
      "state": {
       "_css": "\n.<<VIEW_ID>> p {\n\n    font-size: 1.5em;\n\n    margin-bottom: 40px;\n\n}\n\n\n\n.<<VIEW_ID>> span {\n\n    color: rgba(40, 105, 245);\n\n    text-decoration: underline;\n\n    cursor: pointer;\n\n}",
       "_model_module_version": "^0.1.0",
       "_rendered": "\n<p>Drag &amp; Drop Quantum Gates onto the Qubits to build your circuit. <span data-rh-exec=\"load_welcome()\">Go back</span>.</p>\n",
       "_view_module_version": "^0.1.0",
       "layout": "IPY_MODEL_2d869eed076444f3a5dcc90fa7aae347"
      }
     },
     "8e2b6b9d84b44ad294b104de3121758a": {
      "model_module": "@jupyter-widgets/controls",
      "model_module_version": "1.5.0",
      "model_name": "HBoxModel",
      "state": {
       "children": [
        "IPY_MODEL_dc035f1a9e63489286c818e601ebdf81",
        "IPY_MODEL_e3a0cc49bea84fc3a3e9e7dbcab5c77d"
       ],
       "layout": "IPY_MODEL_76a4aadaae364c34819caaac679ff551"
      }
     },
     "8ed8b7271e124825954d6b3c80432f73": {
      "model_module": "appwidgets",
      "model_module_version": "^0.1.0",
      "model_name": "ReactiveHtmlModel",
      "state": {
       "_css": "\n/*\n\n\tHistogram\n\n*/\n\n.<<VIEW_ID>> #view-composer-hist-container {\n\n\twidth: 100%;\n\n\tpadding: 0 50px 0 10px;\n\n    margin-top: 50px;\n\n}\n\n.<<VIEW_ID>> #view-composer-hist-container #view-composer-hist {\n\n\twidth: 100%;\n\n\theight: 100%;\n\n\tdisplay: flex;\n\n\tflex-direction: row;\n\n\tjustify-content: space-evenly;\n\n\talign-items: stretch;\n\n}\n\n.<<VIEW_ID>> #view-composer-hist-container .histogram-entry {\n\n\tposition: relative;\n\n\tflex: 0 0 12.5%;\n\n}\n\n.<<VIEW_ID>> #view-composer-hist-container .histogram-entry p {\n\n\ttext-align: center;\n\n    font-size: 1.5em;\n\n}\n\n.<<VIEW_ID>> #view-composer-hist-container .histogram-bar-container {\n\n\tposition: relative;\n\n\theight: 25vh;\n\n}\n\n.<<VIEW_ID>> #view-composer-hist-container .histogram-bar-outer {\n\n\twidth: 60px;\n\n\tleft: 50%;\n\n\tmargin-left: -30px;\n\n\theight: 100%;\n\n\tposition: relative;\n\n\t/* background-color: lightgray; */\n\n}\n\n.<<VIEW_ID>> #view-composer-hist-container .histogram-bar {\n\n\tposition: absolute;\n\n\tbottom: 0;\n\n\theight: 0;\n\n\twidth: 33%;\n\n}\n\n\n\n.<<VIEW_ID>> #view-composer-hist-container .histogram-bar-qasm {\n\n\tbackground-color: rgb(116, 0, 123);\n\n\tleft: 0%;\n\n}\n\n.<<VIEW_ID>> #view-composer-hist-container .histogram-bar-anal {\n\n\tbackground-color: rgba(40, 105, 245);\n\n\tleft: 33%;\n\n}\n\n.<<VIEW_ID>> #view-composer-hist-container .histogram-bar-mock {\n\n\tbackground-color: rgb(0, 135, 92);\n\n\tleft: 66%;\n\n}\n\n\n\n.<<VIEW_ID>> #view-composer-hist-container .histogram-text-container-pre {\n\n    margin-bottom: 20px;\n\n}\n\n\n\n.<<VIEW_ID>> #view-composer-hist-container .histogram-text-container-post {\n\n    margin-top: 20px;\n\n\tmargin-bottom: 10px;\n\n}",
       "_model_module_version": "^0.1.0",
       "_rendered": "\n<div id=\"view-composer-hist-container\">\n<div id=\"view-composer-hist\">\n<div class=\"histogram-entry\">\n<div class=\"histogram-text-container-pre\">\n<p><span \"=\"\" class=\"histogram-text histogram-text-ideal histogram-text-000\">12.4%</span></p>\n</div>\n<div class=\"histogram-bar-container\">\n<div class=\"histogram-bar-outer\">\n\n<div class=\"histogram-bar histogram-bar-anal histogram-bar-000\" style=\"height: 12.499760249999998%\"></div>\n\n</div>\n</div>\n<div class=\"histogram-text-container-post\">\n<p>000<br/><br/>Tea</p>\n</div>\n</div>\n<div class=\"histogram-entry\">\n<div class=\"histogram-text-container-pre\">\n<p><span \"=\"\" class=\"histogram-text histogram-text-ideal histogram-text-001\">12.4%</span></p>\n</div>\n<div class=\"histogram-bar-container\">\n<div class=\"histogram-bar-outer\">\n\n<div class=\"histogram-bar histogram-bar-anal histogram-bar-001\" style=\"height: 12.499760249999998%\"></div>\n\n</div>\n</div>\n<div class=\"histogram-text-container-post\">\n<p>001<br/><br/>Hot Chocolate</p>\n</div>\n</div>\n<div class=\"histogram-entry\">\n<div class=\"histogram-text-container-pre\">\n<p><span \"=\"\" class=\"histogram-text histogram-text-ideal histogram-text-010\">12.4%</span></p>\n</div>\n<div class=\"histogram-bar-container\">\n<div class=\"histogram-bar-outer\">\n\n<div class=\"histogram-bar histogram-bar-anal histogram-bar-010\" style=\"height: 12.499760249999998%\"></div>\n\n</div>\n</div>\n<div class=\"histogram-text-container-post\">\n<p>010<br/><br/>Espresso</p>\n</div>\n</div>\n<div class=\"histogram-entry\">\n<div class=\"histogram-text-container-pre\">\n<p><span \"=\"\" class=\"histogram-text histogram-text-ideal histogram-text-011\">12.4%</span></p>\n</div>\n<div class=\"histogram-bar-container\">\n<div class=\"histogram-bar-outer\">\n\n<div class=\"histogram-bar histogram-bar-anal histogram-bar-011\" style=\"height: 12.499760249999998%\"></div>\n\n</div>\n</div>\n<div class=\"histogram-text-container-post\">\n<p>011<br/><br/>Coffee</p>\n</div>\n</div>\n<div class=\"histogram-entry\">\n<div class=\"histogram-text-container-pre\">\n<p><span \"=\"\" class=\"histogram-text histogram-text-ideal histogram-text-100\">12.4%</span></p>\n</div>\n<div class=\"histogram-bar-container\">\n<div class=\"histogram-bar-outer\">\n\n<div class=\"histogram-bar histogram-bar-anal histogram-bar-100\" style=\"height: 12.499760249999998%\"></div>\n\n</div>\n</div>\n<div class=\"histogram-text-container-post\">\n<p>100<br/><br/>Cappucino</p>\n</div>\n</div>\n<div class=\"histogram-entry\">\n<div class=\"histogram-text-container-pre\">\n<p><span \"=\"\" class=\"histogram-text histogram-text-ideal histogram-text-101\">12.4%</span></p>\n</div>\n<div class=\"histogram-bar-container\">\n<div class=\"histogram-bar-outer\">\n\n<div class=\"histogram-bar histogram-bar-anal histogram-bar-101\" style=\"height: 12.499760249999998%\"></div>\n\n</div>\n</div>\n<div class=\"histogram-text-container-post\">\n<p>101<br/><br/>Latte Macchiato</p>\n</div>\n</div>\n<div class=\"histogram-entry\">\n<div class=\"histogram-text-container-pre\">\n<p><span \"=\"\" class=\"histogram-text histogram-text-ideal histogram-text-110\">12.4%</span></p>\n</div>\n<div class=\"histogram-bar-container\">\n<div class=\"histogram-bar-outer\">\n\n<div class=\"histogram-bar histogram-bar-anal histogram-bar-110\" style=\"height: 12.499760249999998%\"></div>\n\n</div>\n</div>\n<div class=\"histogram-text-container-post\">\n<p>110<br/><br/>Viennese Melange</p>\n</div>\n</div>\n<div class=\"histogram-entry\">\n<div class=\"histogram-text-container-pre\">\n<p><span \"=\"\" class=\"histogram-text histogram-text-ideal histogram-text-111\">12.4%</span></p>\n</div>\n<div class=\"histogram-bar-container\">\n<div class=\"histogram-bar-outer\">\n\n<div class=\"histogram-bar histogram-bar-anal histogram-bar-111\" style=\"height: 12.499760249999998%\"></div>\n\n</div>\n</div>\n<div class=\"histogram-text-container-post\">\n<p>111<br/><br/>Americano</p>\n</div>\n</div>\n</div>\n</div>\n",
       "_view_module_version": "^0.1.0",
       "layout": "IPY_MODEL_6f53b583aed644b485dd68e6f414ac79"
      }
     },
     "8f35e667955146cfb45e448a8245ba1a": {
      "model_module": "@quantum/ibm-q-lab-widgets",
      "model_module_version": "^1.0.3",
      "model_name": "CircuitComposerModel",
      "state": {
       "_model_module_version": "^1.0.3",
       "_view_module_version": "^1.0.3",
       "circuit": "\"OPENQASM 2.0;\\ninclude \\\"qelib1.inc\\\";\\n\\nqreg q[3];\\ncreg c[3];\\n\\nh q[0];\\nh q[1];\\nh q[2];\"",
       "editable": true,
       "layout": "IPY_MODEL_3b0e33e293f1401f8ff890fbf9afcbbc",
       "qiskit_code_cell_index": -1
      }
     },
     "951d51dcb35f4a9faa1df56d1bf94a12": {
      "model_module": "appwidgets",
      "model_module_version": "^0.1.0",
      "model_name": "ReactiveHtmlModel",
      "state": {
       "_css": "",
       "_model_module_version": "^0.1.0",
       "_rendered": "\n<div class=\"app-view-content\">\n<h1>Oh no, something went wrong 😱</h1>\n</div>\n",
       "_view_module_version": "^0.1.0",
       "layout": "IPY_MODEL_9812fdf0b199458ca207f3ce9ddd5b26"
      }
     },
     "9812fdf0b199458ca207f3ce9ddd5b26": {
      "model_module": "@jupyter-widgets/base",
      "model_module_version": "1.2.0",
      "model_name": "LayoutModel",
      "state": {}
     },
     "9ce73306097344b7a82b60a24a265f01": {
      "model_module": "appwidgets",
      "model_module_version": "^0.1.0",
      "model_name": "ReactiveHtmlModel",
      "state": {
       "_css": "\n.<<VIEW_ID>> #view-composer-button-bar button {\n\n    border-radius: 0;\n\n    font-size: 1.5em;\n\n}\n\n\n\n.<<VIEW_ID>> #view-composer-show-theo-btn {\n\n    border-left-width: 10px;\n\n    border-color: rgb(40, 105, 245);\n\n}\n\n\n\n.<<VIEW_ID>> #view-composer-show-qasm-btn {\n\n    border-left-width: 10px;\n\n    border-color: rgb(116, 0, 123);\n\n}\n\n\n\n.<<VIEW_ID>> #view-composer-show-mock-btn {\n\n    border-left-width: 10px;\n\n    border-color: rgb(0, 135, 92);\n\n}\n\n\n\n.<<VIEW_ID>> #view-composer-show-theo-btn[data-active=\"True\"] {\n\n    background-color:rgba(40, 105, 245, 0.4);\n\n}\n\n\n\n.<<VIEW_ID>> #view-composer-show-qasm-btn[data-active=\"True\"] {\n\n    background-color:rgba(116, 0, 123, 0.4);\n\n}\n\n\n\n.<<VIEW_ID>> #view-composer-show-mock-btn[data-active=\"True\"] {\n\n    background-color:rgba(0, 135, 92, 0.4);\n\n}\n\n\n\n.<<VIEW_ID>> #view-composer-button-bar .mr-4 {\n\n    margin-right: 20px;\n\n}\n\n\n\n.<<VIEW_ID>> #view-composer-hist-header h3 {\n\n    font-size: 2em;\n\n    margin-bottom: 20px;\n\n}",
       "_model_module_version": "^0.1.0",
       "_rendered": "\n<div id=\"view-composer-hist-header\">\n<h3>Measurement Probabilities</h3>\n</div>\n<div id=\"view-composer-button-bar\">\n<button class=\"btn btn-default\" data-active=\"True\" id=\"view-composer-show-theo-btn\">Theoretical</button>\n<button class=\"btn btn-default\" data-active=\"False\" data-rh-exec=\"toggle_data_attr('show_qasm_results')\" id=\"view-composer-show-qasm-btn\">Simulator (error free)</button>\n<button class=\"btn btn-default mr-4\" data-active=\"False\" data-rh-exec=\"toggle_data_attr('show_mock_results')\" id=\"view-composer-show-mock-btn\">Simulator (real quantum device)</button>\n<button class=\"btn btn-default mr-4\" data-rh-exec=\"open_circuit_on_ibmq()\">Export to IBM Quantum Composer</button>\n</div>\n",
       "_view_module_version": "^0.1.0",
       "layout": "IPY_MODEL_de4dfd4aca834c4796c96214673fa571"
      }
     },
     "a11bd5afefba499db7443e51cdee3db9": {
      "model_module": "@jupyter-widgets/base",
      "model_module_version": "1.2.0",
      "model_name": "LayoutModel",
      "state": {}
     },
     "a7ec31b209334e7e8cb28ba019868e1f": {
      "model_module": "@jupyter-widgets/base",
      "model_module_version": "1.2.0",
      "model_name": "LayoutModel",
      "state": {}
     },
     "ca5adaaef66e405fb144895b6aa1958d": {
      "model_module": "@jupyter-widgets/base",
      "model_module_version": "1.2.0",
      "model_name": "LayoutModel",
      "state": {}
     },
     "d17c9ed97c56441da12dc208c42e03e0": {
      "model_module": "@jupyter-widgets/controls",
      "model_module_version": "1.5.0",
      "model_name": "VBoxModel",
      "state": {
       "children": [
        "IPY_MODEL_dbfd2f6bf4e24d81980334e7d7771cb0",
        "IPY_MODEL_09f13fe5dde644648ac16361f65d42c9"
       ],
       "layout": "IPY_MODEL_a7ec31b209334e7e8cb28ba019868e1f"
      }
     },
     "d34b6cfd848b442f869f2f5ff33df387": {
      "model_module": "@jupyter-widgets/base",
      "model_module_version": "1.2.0",
      "model_name": "WidgetModel",
      "state": {
       "_view_module": null,
       "_view_module_version": "",
       "composer_init_circuit": {
        "id": "anything",
        "init_text": "",
        "name": "Just something to drink"
       },
       "heading": "Qoffee Maker powered by <b>IBM Quantum</b>",
       "histogram_anal": {
        "000": 0.12499760249999999,
        "001": 0.12499760249999999,
        "010": 0.12499760249999999,
        "011": 0.12499760249999999,
        "100": 0.12499760249999999,
        "101": 0.12499760249999999,
        "110": 0.12499760249999999,
        "111": 0.12499760249999999
       },
       "histogram_mock": {
        "000": 0,
        "001": 0,
        "010": 0,
        "011": 0,
        "100": 0,
        "101": 0,
        "110": 0,
        "111": 0
       },
       "histogram_qasm": {
        "000": 0.115,
        "001": 0.1325,
        "010": 0.13,
        "011": 0.12375,
        "100": 0.1275,
        "101": 0.11125,
        "110": 0.14125,
        "111": 0.11875
       },
       "qasm": "OPENQASM 2.0;\ninclude \"qelib1.inc\";\nqreg q[3];\ncreg c[3];\nh q[0];\nh q[1];\nh q[2];\n",
       "show_mock_results": false,
       "show_qasm_results": false,
       "single_shot_device": "simulator",
       "single_shot_result": {
        "bit": "",
        "id": "",
        "name": ""
       },
       "single_shot_status": 0,
       "use_real_device": true,
       "view": "composer"
      }
     },
     "dae6ebe1aa33420c8da33c2eda72eb65": {
      "model_module": "appwidgets",
      "model_module_version": "^0.1.0",
      "model_name": "JsPyModel",
      "state": {
       "_model_module_version": "^0.1.0",
       "_view_module": null,
       "_view_module_version": ""
      }
     },
     "dbfd2f6bf4e24d81980334e7d7771cb0": {
      "model_module": "appwidgets",
      "model_module_version": "^0.1.0",
      "model_name": "ReactiveHtmlModel",
      "state": {
       "_css": "\n.<<VIEW_ID>> #header {\n\n    width: 100%;\n\n    background-color: black;\n\n    height: 58px;\n\n    display: block;\n\n    position: relative;\n\n    margin-bottom: 3em;\n\n}\n\n\n\n.<<VIEW_ID>> #header h1 {\n\n    color: white;\n\n    font-size: 26px;\n\n    line-height: 58px;\n\n    margin: 0;\n\n    padding: 0;\n\n    position: absolute;\n\n    top: 0em;\n\n    left: 62px;\n\n}\n\n\n\n.<<VIEW_ID>> #navigation-container {\n\n    position: absolute;\n\n    width: 200px;\n\n    right: 10px;\n\n    top: 0;\n\n    height: 58px;\n\n}\n\n\n\n.<<VIEW_ID>> #navigation-container button {\n\n    width: 58px;\n\n    position: absolute;\n\n    background-color: black;\n\n    border-radius: 0;\n\n    border-style: none;\n\n    height: 58px;\n\n    color: white;\n\n}\n\n\n\n.<<VIEW_ID>> #navigation-container #navigation-button-back {\n\n    right: 58px;\n\n}\n\n.<<VIEW_ID>> #navigation-container #navigation-button-help {\n\n    right: 0px;\n\n}\n\n\n\n.<<VIEW_ID>> #navigation-container #navigation-button-q {\n\n    right: 116px;\n\n}\n\n.<<VIEW_ID>> #navigation-container #navigation-button-q[data-device=ibmq] {\n\n    background-color: rgba(40, 105, 245);\n\n}\n\n.<<VIEW_ID>> #navigation-container #navigation-button-q[data-device=mock] {\n\n    background-color: rgb(0, 135, 92);\n\n}\n\n.<<VIEW_ID>> #navigation-container #navigation-button-q[data-device=simulator] {\n\n    background-color: rgb(116, 0, 123);\n\n}\n\n\n\n\n\n.<<VIEW_ID>> #header img {\n\n    position: absolute;\n\n    height: 32px;\n\n    left: 15px;\n\n    top: 13px;\n\n}",
       "_model_module_version": "^0.1.0",
       "_rendered": "\n<div id=\"header\">\n<img src=\"css/QoffeeMug.png\"/>\n<h1>Qoffee Maker powered by <b>IBM Quantum</b></h1>\n<div id=\"navigation-container\">\n<button data-device=\"simulator\" data-rh-exec=\"set_next_single_shot_device()\" id=\"navigation-button-q\">Q</button>\n\n<button data-rh-exec-js='window.openQRCode(\"http://qoffee-maker.org\", \"http://qoffee-maker.org\")' id=\"navigation-button-help\">?</button>\n</div>\n</div>\n",
       "_view_module_version": "^0.1.0",
       "layout": "IPY_MODEL_5538bf754b824e699165d3bad54108d5"
      }
     },
     "dc035f1a9e63489286c818e601ebdf81": {
      "model_module": "@jupyter-widgets/controls",
      "model_module_version": "1.5.0",
      "model_name": "VBoxModel",
      "state": {
       "_dom_classes": [
        "width-80"
       ],
       "children": [
        "IPY_MODEL_9ce73306097344b7a82b60a24a265f01",
        "IPY_MODEL_8ed8b7271e124825954d6b3c80432f73"
       ],
       "layout": "IPY_MODEL_00cd1ad516c74434bf1ddb21291a02a0"
      }
     },
     "de4dfd4aca834c4796c96214673fa571": {
      "model_module": "@jupyter-widgets/base",
      "model_module_version": "1.2.0",
      "model_name": "LayoutModel",
      "state": {}
     },
     "e3a0cc49bea84fc3a3e9e7dbcab5c77d": {
      "model_module": "appwidgets",
      "model_module_version": "^0.1.0",
      "model_name": "ReactiveHtmlModel",
      "state": {
       "_css": "\n.<<VIEW_ID>> #view-composer-singleshot button {\n\n    font-size: 1.5em;\n\n}\n\n\n\n.<<VIEW_ID>> #view-composer-singleshot button.btn-primary {\n\n    color: white;\n\n    background-color: rgba(40, 105, 245);\n\n    border-color: rgba(40, 105, 245);\n\n    border-radius: 0;\n\n}\n\n\n\n\n\n.<<VIEW_ID>> .view-composer-order-text p {\n\n    margin-top: 20px;\n\n    margin-bottom: 30px;\n\n    width: 100%;\n\n    text-align: center;\n\n    font-size: 3em;\n\n    line-height: 1.2;\n\n}",
       "_dom_classes": [
        "width-20"
       ],
       "_model_module_version": "^0.1.0",
       "_rendered": "\n<div id=\"view-composer-singleshot-container\">\n<div id=\"view-composer-singleshot\">\n<button class=\"btn btn-primary btn-block\" data-rh-exec=\"get_single_shot_result()\">Determine your beverage</button>\n<br/>\n\n\n\n\n<br>\n</br></div>\n</div>\n",
       "_view_module_version": "^0.1.0",
       "layout": "IPY_MODEL_21523bdf88c945ff84c529a5da8af7c8"
      }
     },
     "e5d9852517f2487f8ed928e6fd6fc6bd": {
      "model_module": "@jupyter-widgets/controls",
      "model_module_version": "1.5.0",
      "model_name": "VBoxModel",
      "state": {
       "_dom_classes": [
        "app-view-content"
       ],
       "children": [
        "IPY_MODEL_8bd092deb0f24936a60a9924175ec958",
        "IPY_MODEL_8f35e667955146cfb45e448a8245ba1a",
        "IPY_MODEL_8e2b6b9d84b44ad294b104de3121758a"
       ],
       "layout": "IPY_MODEL_a11bd5afefba499db7443e51cdee3db9"
      }
     },
     "fa9548efa6154e5cb833f3a1017e0569": {
      "model_module": "@jupyter-widgets/base",
      "model_module_version": "1.2.0",
      "model_name": "LayoutModel",
      "state": {}
     }
    },
    "version_major": 2,
    "version_minor": 0
   }
  }
 },
 "nbformat": 4,
 "nbformat_minor": 2
}
