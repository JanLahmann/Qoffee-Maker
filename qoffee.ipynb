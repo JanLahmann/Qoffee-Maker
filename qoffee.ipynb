{
 "cells": [
  {
   "cell_type": "markdown",
   "metadata": {},
   "source": [
    "# Qoffee Maker"
   ]
  },
  {
   "cell_type": "code",
   "execution_count": 1,
   "metadata": {},
   "outputs": [],
   "source": [
    "import os, time\n",
    "from random import randint\n",
    "from dotenv import load_dotenv\n",
    "import numpy as np\n",
    "load_dotenv();"
   ]
  },
  {
   "cell_type": "code",
   "execution_count": 2,
   "metadata": {},
   "outputs": [],
   "source": [
    "from ibm_quantum_widgets import CircuitComposer\n",
    "from qiskit.circuit import QuantumCircuit\n",
    "from qiskit import transpile, IBMQ\n",
    "from qiskit.providers.aer import QasmSimulator, StatevectorSimulator\n",
    "from qiskit import IBMQ\n",
    "from qiskit.providers.ibmq.exceptions import IBMQAccountError"
   ]
  },
  {
   "cell_type": "code",
   "execution_count": 3,
   "metadata": {},
   "outputs": [],
   "source": [
    "from qiskit.test.mock import FakeMontreal"
   ]
  },
  {
   "cell_type": "code",
   "execution_count": 4,
   "metadata": {},
   "outputs": [
    {
     "data": {
      "text/plain": [
       "[<IBMQSimulator('ibmq_qasm_simulator') from IBMQ(hub='ibm-q', group='open', project='main')>,\n",
       " <IBMQBackend('ibmq_armonk') from IBMQ(hub='ibm-q', group='open', project='main')>,\n",
       " <IBMQBackend('ibmq_santiago') from IBMQ(hub='ibm-q', group='open', project='main')>,\n",
       " <IBMQBackend('ibmq_bogota') from IBMQ(hub='ibm-q', group='open', project='main')>,\n",
       " <IBMQBackend('ibmq_lima') from IBMQ(hub='ibm-q', group='open', project='main')>,\n",
       " <IBMQBackend('ibmq_belem') from IBMQ(hub='ibm-q', group='open', project='main')>,\n",
       " <IBMQBackend('ibmq_quito') from IBMQ(hub='ibm-q', group='open', project='main')>,\n",
       " <IBMQSimulator('simulator_statevector') from IBMQ(hub='ibm-q', group='open', project='main')>,\n",
       " <IBMQSimulator('simulator_mps') from IBMQ(hub='ibm-q', group='open', project='main')>,\n",
       " <IBMQSimulator('simulator_extended_stabilizer') from IBMQ(hub='ibm-q', group='open', project='main')>,\n",
       " <IBMQSimulator('simulator_stabilizer') from IBMQ(hub='ibm-q', group='open', project='main')>,\n",
       " <IBMQBackend('ibmq_manila') from IBMQ(hub='ibm-q', group='open', project='main')>]"
      ]
     },
     "execution_count": 4,
     "metadata": {},
     "output_type": "execute_result"
    }
   ],
   "source": [
    "try:\n",
    "    IBMQ.enable_account(os.getenv(\"IBMQ_API_KEY\"))\n",
    "except IBMQAccountError as e:\n",
    "    print(\"Got IBMAccountError\", e, \"probably due to re-execution\")\n",
    "\n",
    "provider = IBMQ.get_provider()\n",
    "provider.backends()"
   ]
  },
  {
   "cell_type": "code",
   "execution_count": 5,
   "metadata": {},
   "outputs": [],
   "source": [
    "backend_ideal = StatevectorSimulator()\n",
    "backend_qasm = QasmSimulator()\n",
    "backend_mock = FakeMontreal()\n",
    "backend_ibm = None # provider.get_backend(\"ibmq_manila\")"
   ]
  },
  {
   "cell_type": "code",
   "execution_count": 6,
   "metadata": {},
   "outputs": [],
   "source": [
    "## build some sample circuits\n",
    "\n",
    "# empty\n",
    "qc0 = QuantumCircuit(3, 3)\n",
    "\n",
    "# cappucino\n",
    "qc1 = QuantumCircuit(3, 3)\n",
    "qc1.x(2)\n",
    "\n",
    "# coffee\n",
    "qc2 = QuantumCircuit(3, 3)\n",
    "qc2.x(0)\n",
    "qc2.h(1)\n",
    "qc2.z(1)\n",
    "qc2.h(1)\n",
    "\n",
    "# espresso\n",
    "qc3 = QuantumCircuit(3, 3)\n",
    "qc3.x(0)\n",
    "qc3.cx(0, 1)\n",
    "qc3.cx(1, 0)\n",
    "qc3.cx(0, 1)\n",
    "\n",
    "# anything\n",
    "qc4 = QuantumCircuit(3, 3)\n",
    "qc4.h(0)\n",
    "qc4.h(1)\n",
    "qc4.h(2)\n",
    "\n",
    "# without coffein\n",
    "qc5 = QuantumCircuit(3, 3)\n",
    "qc5.h(0)\n",
    "\n",
    "# nothing strong\n",
    "qc6 = QuantumCircuit(3, 3)\n",
    "qc6.h(0)\n",
    "qc6.x(2)\n",
    "\n",
    "# tea or coffee\n",
    "qc7 = QuantumCircuit(3, 3)\n",
    "qc7.h(0)\n",
    "qc7.cx(0, 1);\n"
   ]
  },
  {
   "cell_type": "code",
   "execution_count": 7,
   "metadata": {},
   "outputs": [],
   "source": [
    "qcreg = [\n",
    "    {\n",
    "        \"id\": \"empty\",\n",
    "        \"name\": \"From Scratch\",\n",
    "        \"circuit\": qc0,\n",
    "        \"init_text\": \"Drag & Drop Gates on quibits to develop the circuit.\"\n",
    "    },\n",
    "    {\n",
    "        \"id\": \"cappucino\",\n",
    "        \"name\": \"Only Cappucino\",\n",
    "        \"circuit\": qc1,\n",
    "        \"init_text\": \"Drag & Drop Gates on quibits to develop the circuit.\"\n",
    "    },\n",
    "    {\n",
    "        \"id\": \"coffee\",\n",
    "        \"name\": \"Only Coffee\",\n",
    "        \"circuit\": qc2,\n",
    "        \"init_text\": \"Drag & Drop Gates on quibits to develop the circuit.\"\n",
    "    },\n",
    "    {\n",
    "        \"id\": \"espresso\",\n",
    "        \"name\": \"Only Espresso\",\n",
    "        \"circuit\": qc3,\n",
    "        \"init_text\": \"Drag & Drop Gates on quibits to develop the circuit.\"\n",
    "    },\n",
    "    {\n",
    "        \"id\": \"anything\",\n",
    "        \"name\": \"Just something to drink\",\n",
    "        \"circuit\": qc4,\n",
    "        \"init_text\": \"Drag & Drop Gates on quibits to develop the circuit.\"\n",
    "    },\n",
    "    {\n",
    "        \"id\": \"withoutcoffein\",\n",
    "        \"name\": \"Without Coffein\",\n",
    "        \"circuit\": qc5,\n",
    "        \"init_text\": \"Drag & Drop Gates on quibits to develop the circuit.\"\n",
    "    },\n",
    "    {\n",
    "        \"id\": \"nothingstrong\",\n",
    "        \"name\": \"Nothing Strong\",\n",
    "        \"circuit\": qc6,\n",
    "        \"init_text\": \"Drag & Drop Gates on quibits to develop the circuit.\"\n",
    "    },\n",
    "    {\n",
    "        \"id\": \"teaorcoffee\",\n",
    "        \"name\": \"Tea or Coffee\",\n",
    "        \"circuit\": qc7,\n",
    "        \"init_text\": \"Drag & Drop Gates on quibits to develop the circuit.\"\n",
    "    }\n",
    "]"
   ]
  },
  {
   "cell_type": "code",
   "execution_count": 8,
   "metadata": {},
   "outputs": [],
   "source": [
    "class CircuitExecutor:\n",
    "    \n",
    "    BIT_ORDER = ['000', '001', '010', '011', '100', '101', '110', '111']\n",
    "    \n",
    "    def __init__(self, circuit):\n",
    "        self.circuit = circuit\n",
    "        \n",
    "    def _fill_with_zero(results):\n",
    "        for bit in CircuitExecutor.BIT_ORDER:\n",
    "            if bit not in results:\n",
    "                results[bit] = 0\n",
    "        return results\n",
    "    \n",
    "    def _probabilities_backend(self, backend, num_shots=800, seed=None, result_options={}):\n",
    "        # copy current circuit\n",
    "        mqc = self.circuit.copy()\n",
    "        # add measurement\n",
    "        mqc.measure(range(3), range(3))\n",
    "        # transpile\n",
    "        mqc_transpiled = mqc # transpile(mqc, backend)\n",
    "        # run job\n",
    "        job = backend.run(mqc_transpiled, shots=num_shots, seed=seed)\n",
    "        # get results\n",
    "        result = job.result(**result_options)\n",
    "        counts = result.get_counts(mqc_transpiled)\n",
    "        # divide by num_shots to get probabilities\n",
    "        assert num_shots == np.sum([c for c in counts.values()]), (num_shots, counts)\n",
    "        for b in counts:\n",
    "            counts[b] = float(counts[b])/num_shots\n",
    "        return CircuitExecutor._fill_with_zero(counts)\n",
    "    \n",
    "    \n",
    "    def get_maximum_key(results):\n",
    "        max_key = max(results, key=results.get)\n",
    "        return max_key\n",
    "    \n",
    "    \n",
    "    def probabilities_qasm(self, num_shots=800):\n",
    "        return self._probabilities_backend(backend_qasm, num_shots=num_shots, seed=randint(0, 2500))\n",
    "    \n",
    "    \n",
    "    def probabilities_mock(self, num_shots=800):\n",
    "        return self._probabilities_backend(backend_mock, num_shots=num_shots)\n",
    "    \n",
    "    \n",
    "    def probabilities_ibmq(self, num_shots=1, secs_timeout=10):\n",
    "        try:\n",
    "            res = self._probabilities_backend(backend_ibm, num_shots=num_shots, result_options={\"timeout\": secs_timeout, \"wait\": 2})\n",
    "            return res\n",
    "        except Exception as e:\n",
    "            print(\"Got error for running on IBM Q\", e)\n",
    "            return self.probabilities_mock(num_shots=num_shots)\n",
    "    \n",
    "    \n",
    "    def probabilities_analytical(self):\n",
    "        mqc = self.circuit.copy()\n",
    "        # run circuit on state vector\n",
    "        result = backend_ideal.run(mqc).result()\n",
    "        # get state vector and calculate probabilities\n",
    "        state_vector = result.get_statevector(mqc, decimals=5)\n",
    "        probs = np.abs(state_vector ** 2)\n",
    "        # map back to bit configurations\n",
    "        results = {\n",
    "            key: probs[i] for i, key in enumerate(CircuitExecutor.BIT_ORDER)\n",
    "        }\n",
    "        return CircuitExecutor._fill_with_zero(results)"
   ]
  },
  {
   "cell_type": "markdown",
   "metadata": {},
   "source": [
    "# Build App"
   ]
  },
  {
   "cell_type": "code",
   "execution_count": 9,
   "metadata": {},
   "outputs": [],
   "source": [
    "from ipywidgets import Widget, Button, HTML, VBox, widgets, link, HBox\n",
    "import appwidgets\n",
    "from traitlets import Unicode, Dict, Int, Any, HasTraits, Bool\n",
    "from appwidgets import JsPyWidget\n",
    "import json"
   ]
  },
  {
   "cell_type": "markdown",
   "metadata": {},
   "source": [
    "## Build Data Model"
   ]
  },
  {
   "cell_type": "code",
   "execution_count": 10,
   "metadata": {},
   "outputs": [],
   "source": [
    "DRINKS = {\n",
    "    \"000\": {\n",
    "        \"id\": \"tea\",\n",
    "        \"name\": \"Tee\",\n",
    "        \"key\": \"ConsumerProducts.CoffeeMaker.Program.Beverage.WarmMilk\",\n",
    "        \"options\": {}\n",
    "    },\n",
    "    \"001\": {\n",
    "        \"id\": \"hotchocolate\",\n",
    "        \"name\": \"Heisse Schokolade\",\n",
    "        \"key\": \"ConsumerProducts.CoffeeMaker.Program.Beverage.MilkFroth\",\n",
    "        \"options\": {}\n",
    "    },\n",
    "    \"010\": {\n",
    "        \"id\": \"espresso\",\n",
    "        \"name\": \"Espresso\",\n",
    "        \"key\": \"ConsumerProducts.CoffeeMaker.Program.Beverage.Espresso\",\n",
    "        \"options\": {}\n",
    "    },\n",
    "    \"011\": {\n",
    "        \"id\": \"coffee\",\n",
    "        \"name\": \"Kaffee\",\n",
    "        \"key\": \"ConsumerProducts.CoffeeMaker.Program.Beverage.Coffee\",\n",
    "        \"options\": {}\n",
    "    },\n",
    "    \"100\": {\n",
    "        \"id\": \"cappucino\",\n",
    "        \"name\": \"Cappucino\",\n",
    "        \"key\": \"ConsumerProducts.CoffeeMaker.Program.Beverage.Cappuccino\",\n",
    "        \"options\": {}\n",
    "    },\n",
    "    \"101\": {\n",
    "        \"id\": \"lattemacchiato\",\n",
    "        \"name\": \"Latte Macchiato\",\n",
    "        \"key\": \"ConsumerProducts.CoffeeMaker.Program.Beverage.LatteMacchiato\",\n",
    "        \"options\": {}\n",
    "    },\n",
    "    \"110\": {\n",
    "        \"id\": \"wienermelange\",\n",
    "        \"name\": \"Wiener Melange\",\n",
    "        \"key\": \"ConsumerProducts.CoffeeMaker.Program.CoffeeWorld.WienerMelange\",\n",
    "        \"options\": {}\n",
    "    },\n",
    "    \"111\": {\n",
    "        \"id\": \"americano\",\n",
    "        \"name\": \"Americano\",\n",
    "        \"key\": \"ConsumerProducts.CoffeeMaker.Program.CoffeeWorld.Americano\",\n",
    "        \"options\": {}\n",
    "    }\n",
    "}"
   ]
  },
  {
   "cell_type": "code",
   "execution_count": 11,
   "metadata": {},
   "outputs": [],
   "source": [
    "data = Widget()\n",
    "data.add_traits(\n",
    "    # name of current circuit with which the composer was initialized\n",
    "    composer_init_circuit = Dict({\n",
    "        \"id\": \"empty\",\n",
    "        \"name\": \"\",\n",
    "        \"init_text\": \"\"\n",
    "    }).tag(sync=True),\n",
    "    # current ideal probabilities\n",
    "    histogram_anal = Dict({\n",
    "        key: 0 for key in DRINKS\n",
    "    }).tag(sync=True),\n",
    "    # current probabilities from ideal simulator\n",
    "    histogram_qasm = Dict({\n",
    "        key: 0 for key in DRINKS\n",
    "    }).tag(sync=True),\n",
    "    # current probabilities from mock device\n",
    "    histogram_mock = Dict({\n",
    "        key: 0 for key in DRINKS\n",
    "    }).tag(sync=True),\n",
    "    # id of drink from single shot measurement\n",
    "    single_shot_result = Dict({\n",
    "        \"name\": \"\",\n",
    "        \"id\": \"\",\n",
    "        \"bit\": \"\"\n",
    "    }).tag(sync=True),\n",
    "    # status of single shot measurements (0 = init, 1 = loading, 2 = done)\n",
    "    single_shot_status = Int().tag(sync=True),\n",
    "    # device on which to perform the single shot\n",
    "    single_shot_device = Unicode(\"simulator\").tag(sync=True),\n",
    "    # composer qasm\n",
    "    qasm = Unicode(\"\").tag(sync=True),\n",
    "    # check if real device is enabled\n",
    "    use_real_device = Bool(backend_ibm is None).tag(sync=True),\n",
    "    # check if mock device results are shown\n",
    "    show_mock_results = Bool(False).tag(sync=True),\n",
    "    # check if qasm results are shown\n",
    "    show_qasm_results = Bool(False).tag(sync=True)\n",
    ")"
   ]
  },
  {
   "cell_type": "markdown",
   "metadata": {},
   "source": [
    "## Build Composer"
   ]
  },
  {
   "cell_type": "code",
   "execution_count": 12,
   "metadata": {},
   "outputs": [],
   "source": [
    "composer = CircuitComposer(circuit=qcreg[0]['circuit'])"
   ]
  },
  {
   "cell_type": "code",
   "execution_count": 13,
   "metadata": {},
   "outputs": [],
   "source": [
    "# handler for change events\n",
    "def composer_update_handler(change_event):\n",
    "    # there are multiple change events, only use on\n",
    "    if change_event['name'] != \"circuit\":\n",
    "        return\n",
    "    executor = CircuitExecutor(composer.circuit)\n",
    "    # set to 0 because calc requires some time and one sees wrong results for a second or so\n",
    "    data.histogram_mock = {key: 0 for key in CircuitExecutor.BIT_ORDER}\n",
    "    # get and save ideal result\n",
    "    result_analytical = executor.probabilities_analytical()\n",
    "    data.histogram_anal = result_analytical\n",
    "    # get and save measurements\n",
    "    result_qasm = executor.probabilities_qasm()\n",
    "    data.histogram_qasm = result_qasm\n",
    "    # get and save qasm code\n",
    "    qasm = composer.circuit.qasm()\n",
    "    data.qasm = qasm\n",
    "    \n",
    "    # most time consuming :/\n",
    "    if data.show_mock_results:\n",
    "        result_mock = executor.probabilities_mock()\n",
    "        data.histogram_mock = result_mock\n",
    "    \n",
    "composer.observe(composer_update_handler)"
   ]
  },
  {
   "cell_type": "code",
   "execution_count": 14,
   "metadata": {},
   "outputs": [],
   "source": [
    "data.observe(lambda x: composer_update_handler({\"name\": \"circuit\"}), names=[\"show_mock_results\", \"show_qasm_results\"])"
   ]
  },
  {
   "cell_type": "code",
   "execution_count": 15,
   "metadata": {},
   "outputs": [],
   "source": [
    "# perform single shot measurement\n",
    "def get_single_shot_result():\n",
    "    data.single_shot_status = 1\n",
    "    executor = CircuitExecutor(composer.circuit)\n",
    "    counts = None\n",
    "    if data.single_shot_device == \"ibmq\":\n",
    "        counts = executor.probabilities_ibmq(num_shots=1, secs_timeout=30)\n",
    "    else:\n",
    "        counts = executor.probabilities_qasm(num_shots=1)\n",
    "        \n",
    "    bits = CircuitExecutor.get_maximum_key(counts)\n",
    "    data.single_shot_result = {\n",
    "        \"bit\": bits,\n",
    "        \"id\": DRINKS[bits][\"id\"],\n",
    "        \"name\": DRINKS[bits][\"name\"]\n",
    "    }\n",
    "    time.sleep(1.5)\n",
    "    data.single_shot_status = 2\n",
    "    return bits"
   ]
  },
  {
   "cell_type": "code",
   "execution_count": 16,
   "metadata": {},
   "outputs": [],
   "source": [
    "def request_drink():\n",
    "    # get result from single shot measurement\n",
    "    bit = data.single_shot_result['bit']\n",
    "    drink_key = DRINKS[bit]['key']\n",
    "    drink_options = DRINKS[bit]['options']\n",
    "    \n",
    "    def response_handler(res):\n",
    "        if 'error' in res:\n",
    "            app.view = 'error'\n",
    "        else:\n",
    "            app.view = 'success'\n",
    "    \n",
    "    jspy.execute_js(\n",
    "        \"window.requestDrink(\"+json.dumps(drink_key)+\", \"+json.dumps(drink_options)+\")\",\n",
    "        response_handler\n",
    "    )"
   ]
  },
  {
   "cell_type": "code",
   "execution_count": 17,
   "metadata": {},
   "outputs": [],
   "source": [
    "def open_circuit_on_ibmq():\n",
    "    qasm = data.qasm\n",
    "    jspy.execute_js(\n",
    "        \"window.openQRCodeIBMQ(\"+json.dumps(qasm)+\")\",\n",
    "    )"
   ]
  },
  {
   "cell_type": "markdown",
   "metadata": {},
   "source": [
    "## Build views"
   ]
  },
  {
   "cell_type": "code",
   "execution_count": 18,
   "metadata": {},
   "outputs": [],
   "source": [
    "app = appwidgets.AppBox(init_view='welcome')\n",
    "jspy = JsPyWidget()"
   ]
  },
  {
   "cell_type": "markdown",
   "metadata": {},
   "source": [
    "### Header"
   ]
  },
  {
   "cell_type": "code",
   "execution_count": 19,
   "metadata": {},
   "outputs": [],
   "source": [
    "help_back_buttons = appwidgets.ReactiveHtmlWidget(\"\"\"\n",
    "    <div id=\"navigation-container\">\n",
    "        <button id=\"navigation-button-back\" data-rh-if=\"${view} != 'welcome'\" class=\"navigation-button\" data-rh-exec=\"app.view = 'welcome'\">&#5130;</button>\n",
    "        <button id=\"navigation-button-help\">?</button>\n",
    "    </div>\n",
    "\"\"\", data_model=app)\n",
    "\n",
    "help_back_buttons.load_css(\"./css/help_back_button.css\")"
   ]
  },
  {
   "cell_type": "markdown",
   "metadata": {},
   "source": [
    "### Starting Point View"
   ]
  },
  {
   "cell_type": "code",
   "execution_count": 20,
   "metadata": {},
   "outputs": [
    {
     "data": {
      "text/html": [
       "<style>\n",
       "    .p-Widget {\n",
       "        overflow: visible !important;\n",
       "    }\n",
       "</style>\n"
      ],
      "text/plain": [
       "<IPython.core.display.HTML object>"
      ]
     },
     "metadata": {},
     "output_type": "display_data"
    }
   ],
   "source": [
    "%%html\n",
    "<style>\n",
    "    .p-Widget {\n",
    "        overflow: visible !important;\n",
    "    }\n",
    "</style>"
   ]
  },
  {
   "cell_type": "code",
   "execution_count": 21,
   "metadata": {},
   "outputs": [],
   "source": [
    "def load_starting_point(circuit_id):\n",
    "    circuit_data = next(filter(lambda x: x['id'] == circuit_id, qcreg))\n",
    "    data.composer_init_circuit = {\n",
    "        \"id\": circuit_data[\"id\"],\n",
    "        \"name\": circuit_data[\"name\"],\n",
    "        \"init_text\": circuit_data[\"init_text\"]\n",
    "    }\n",
    "    data.single_shot_device = 'simulator'\n",
    "    data.single_shot_status = 0\n",
    "    composer.circuit = circuit_data['circuit']\n",
    "    data.show_mock_results = False\n",
    "    data.show_qasm_results = False\n",
    "    app.view = 'composer'\n",
    "    "
   ]
  },
  {
   "cell_type": "code",
   "execution_count": 22,
   "metadata": {},
   "outputs": [],
   "source": [
    "def get_circuit_selection_html(circuit_id, width=12):\n",
    "    circuit_data = next(filter(lambda x: x['id'] == circuit_id, qcreg))\n",
    "    return \"\"\"\n",
    "    <div class=\"col-md-\"\"\"+str(width)+\"\"\"\">\n",
    "        <div class=\"card\" data-rh-exec=\"load_starting_point('\"\"\"+circuit_id+\"\"\"')\">\n",
    "          <div class=\"card-body\">\n",
    "            <h5 class=\"card-title\">\"\"\"+circuit_data['name']+\"\"\"</h5>\n",
    "            <p class=\"card-text\">\"\"\"+circuit_data['init_text']+\"\"\"</p>\n",
    "            <span class=\"arrow\">→</span>\n",
    "          </div>\n",
    "        </div>\n",
    "    </div>\n",
    "    \"\"\""
   ]
  },
  {
   "cell_type": "code",
   "execution_count": 23,
   "metadata": {},
   "outputs": [],
   "source": [
    "view_welcome_content = appwidgets.ReactiveHtmlWidget(\"\"\"\n",
    "    <div class=\"header-container\">\n",
    "        <h1>Hey 👋</h1>\n",
    "    </div>\n",
    "    <div id=\"init-circuit-container\">\n",
    "        <h3>Where do you want to start?</h3>\n",
    "        <div class=\"row mt-4\">\n",
    "            <div class=\"col-md-3\">\n",
    "                <h4>Play around</h4>\n",
    "                <div class=\"row align-items-stretch\">\"\"\"+\n",
    "                    get_circuit_selection_html('empty', 12)\n",
    "                +\"\"\"\n",
    "                </div>\n",
    "            </div>\n",
    "            <div class=\"col-md-9\">\n",
    "                <h4>Take a shortcut</h4>\n",
    "                <div class=\"row align-items-stretch\">\"\"\"+\n",
    "                    get_circuit_selection_html('coffee', 4) +\n",
    "                    get_circuit_selection_html('cappucino', 4) +\n",
    "                    get_circuit_selection_html('espresso', 4)\n",
    "                +\"\"\"\n",
    "                </div>\n",
    "            </div>\n",
    "        </div>\n",
    "        <div class=\"row mt-4\">\n",
    "            <div class=\"col-md-12\">\n",
    "                <h4>Dig Deeper</h4>\n",
    "                <div class=\"row align-items-stretch\">\"\"\"+\n",
    "                    get_circuit_selection_html('anything', 3) +\n",
    "                    get_circuit_selection_html('withoutcoffein', 3) +\n",
    "                    get_circuit_selection_html('nothingstrong', 3) + \n",
    "                    get_circuit_selection_html('teaorcoffee', 3)\n",
    "                +\"\"\"\n",
    "                </div>\n",
    "            </div>\n",
    "        </div>\n",
    "    </div>\n",
    "\"\"\")"
   ]
  },
  {
   "cell_type": "code",
   "execution_count": 24,
   "metadata": {},
   "outputs": [],
   "source": [
    "view_welcome_content.load_css(\"./css/view_welcome.css\")"
   ]
  },
  {
   "cell_type": "code",
   "execution_count": 25,
   "metadata": {},
   "outputs": [],
   "source": [
    "view_welcome = VBox([help_back_buttons, view_welcome_content])"
   ]
  },
  {
   "cell_type": "markdown",
   "metadata": {},
   "source": [
    "### Composer View"
   ]
  },
  {
   "cell_type": "code",
   "execution_count": 26,
   "metadata": {},
   "outputs": [],
   "source": [
    "def toggle_data_attr(name):\n",
    "    setattr(data, name, not getattr(data, name))"
   ]
  },
  {
   "cell_type": "code",
   "execution_count": 27,
   "metadata": {},
   "outputs": [],
   "source": [
    "view2_header = appwidgets.ReactiveHtmlWidget(\"\"\"\n",
    "    <h1>Composer: {{${composer_init_circuit}['name']}}</h1>\n",
    "    <p>{{${composer_init_circuit}['init_text']}}</p>\n",
    "\"\"\", data_model=data)\n",
    "\n",
    "\n",
    "hist_html = \"\"\n",
    "for key, value in DRINKS.items():\n",
    "    hist_html += \"\"\"\n",
    "        <div class=\"histogram-entry\">\n",
    "            <div class=\"histogram-bar-container\">\n",
    "                <div class=\"histogram-bar-outer\">\n",
    "                    <div data-rh-if=\"${show_qasm_results}\" style=\"height: {{${histogram_qasm}['\"\"\"+key+\"\"\"']*100}}%\" class=\"histogram-bar histogram-bar-qasm histogram-bar-\"\"\"+key+\"\"\"\"></div>\n",
    "                    <div style=\"height: {{${histogram_anal}['\"\"\"+key+\"\"\"']*100}}%\" class=\"histogram-bar histogram-bar-anal histogram-bar-\"\"\"+key+\"\"\"\"></div>\n",
    "                    <div data-rh-if=\"${show_mock_results}\" style=\"height: {{${histogram_mock}['\"\"\"+key+\"\"\"']*100}}%\" class=\"histogram-bar histogram-bar-mock histogram-bar-\"\"\"+key+\"\"\"\"></div>\n",
    "                </div>\n",
    "            </div>\n",
    "            <div class=\"histogram-text-container\">\n",
    "                <p>\"\"\"+value[\"name\"]+\"\"\"<br/><span class=\"histogram-text histogram-text-ideal histogram-text-\"\"\"+key+\"\"\"\"\">{{int(${histogram_anal}['\"\"\"+key+\"\"\"']*1000)/10}}%</span></p>\n",
    "            </div>\n",
    "        </div>\n",
    "    \"\"\"\n",
    "\n",
    "view2_hist = appwidgets.ReactiveHtmlWidget(\"\"\"\n",
    "<div id=\"composer-histogram-container\">\n",
    "    <button data-active=\"${show_qasm_results}\" class=\"btn btn-default\" data-rh-exec=\"toggle_data_attr('show_qasm_results')\">Show QASM</button>\n",
    "    <button data-active=\"${show_mock_results}\" class=\"btn btn-default\" data-rh-exec=\"toggle_data_attr('show_mock_results')\">Show Mock</button>\n",
    "    <div id=\"composer-histogram\">\"\"\"+hist_html+\"\"\"</div>\n",
    "</div>\n",
    "\"\"\", data_model=data)\n",
    "\n",
    "\n",
    "view2_singleshot = appwidgets.ReactiveHtmlWidget(\"\"\"\n",
    "    <div id=\"composer-singleshot-container\">\n",
    "        <div id=\"composer-singleshot\">\n",
    "            <button class=\"btn btn-default btn-block\" data-rh-set='single_shot_device=\"ibmq\"' data-rh-if='${single_shot_device}==\"simulator\"'>Benutze IBM Q</button>\n",
    "            <button class=\"btn btn-default btn-block\" data-rh-set='single_shot_device=\"simulator\"' data-rh-if='${single_shot_device}==\"ibmq\"'>Benutze Simulator</button>\n",
    "            <br/>\n",
    "            <button class=\"btn btn-primary btn-block\" data-rh-exec=\"get_single_shot_result()\">Do measurement</button>\n",
    "            <br/>\n",
    "            <div data-rh-if='${single_shot_status}==1'>\n",
    "                Loading...\n",
    "            </div>\n",
    "            <div data-rh-if='${single_shot_status}==2'>\n",
    "                <p>You got: <b>{{${single_shot_result}[\"name\"]}}</b>\n",
    "                <button class=\"btn btn-primary btn-block\" data-rh-exec=\"request_drink()\">Okay</button>\n",
    "            </div>\n",
    "            <br/>\n",
    "            <button class=\"btn btn-default btn-block\" data-rh-exec=\"open_circuit_on_ibmq()\">In IBM Q öffnen</button>\n",
    "            <button class=\"btn btn-default btn-block\" data-rh-exec=\"app.view='welcome'\">Back</button>\n",
    "        </div>\n",
    "    </div>\n",
    "\"\"\", data_model=data)\n",
    "\n",
    "view2_hist.load_css(\"./css/histogram.css\")"
   ]
  },
  {
   "cell_type": "code",
   "execution_count": 28,
   "metadata": {},
   "outputs": [],
   "source": [
    "view2 = VBox([\n",
    "    view2_header, \n",
    "    composer,\n",
    "    HBox([\n",
    "        view2_hist, view2_singleshot\n",
    "    ])\n",
    "])"
   ]
  },
  {
   "cell_type": "code",
   "execution_count": 29,
   "metadata": {},
   "outputs": [],
   "source": [
    "view3 = appwidgets.ReactiveHtmlWidget(\"\"\"\n",
    "    <h1>Oh no, something went wrong :/</h1>\n",
    "    <button class=\"btn btn-default btn-block\" data-rh-exec=\"app.view='welcome'\">Back</button>\n",
    "\"\"\")\n",
    "\n",
    "\n",
    "view4 = appwidgets.ReactiveHtmlWidget(\"\"\"\n",
    "    <h1>Thank you and enjoy your coffee :)</h1>\n",
    "    <button class=\"btn btn-default btn-block\" data-rh-exec=\"app.view='welcome'\">Back</button>\n",
    "\"\"\")"
   ]
  },
  {
   "cell_type": "code",
   "execution_count": 30,
   "metadata": {},
   "outputs": [],
   "source": [
    "app.add_widget('welcome', view_welcome_content)\n",
    "app.add_widget('composer', view2)\n",
    "app.add_widget('error', view3)\n",
    "app.add_widget('success', view4)"
   ]
  },
  {
   "cell_type": "markdown",
   "metadata": {},
   "source": [
    "# And go..."
   ]
  },
  {
   "cell_type": "code",
   "execution_count": 31,
   "metadata": {
    "scrolled": false
   },
   "outputs": [
    {
     "data": {
      "application/vnd.jupyter.widget-view+json": {
       "model_id": "4420017dfab74c6ea9d4fc37ffeffcfa",
       "version_major": 2,
       "version_minor": 0
      },
      "text/plain": [
       "AppBox(children=(ReactiveHtmlWidget(),), view='welcome')"
      ]
     },
     "metadata": {},
     "output_type": "display_data"
    }
   ],
   "source": [
    "### APP\n",
    "app"
   ]
  },
  {
   "cell_type": "code",
   "execution_count": null,
   "metadata": {},
   "outputs": [],
   "source": []
  },
  {
   "cell_type": "code",
   "execution_count": null,
   "metadata": {},
   "outputs": [],
   "source": []
  }
 ],
 "metadata": {
  "kernelspec": {
   "display_name": "Python 3 (ipykernel)",
   "language": "python",
   "name": "python3"
  },
  "language_info": {
   "codemirror_mode": {
    "name": "ipython",
    "version": 3
   },
   "file_extension": ".py",
   "mimetype": "text/x-python",
   "name": "python",
   "nbconvert_exporter": "python",
   "pygments_lexer": "ipython3",
   "version": "3.9.7"
  },
  "widgets": {
   "application/vnd.jupyter.widget-state+json": {
    "state": {
     "017165463867441cbe315a2f92856475": {
      "model_module": "appwidgets",
      "model_module_version": "^0.1.0",
      "model_name": "ReactiveHtmlModel",
      "state": {
       "_css": "\n.<<VIEW_ID>> #navigation-container {\n\n    width: 100%;\n\n    height: 10px;\n\n    position: relative;\n\n    display: block;\n\n    z-index: 5000;\n\n}\n\n\n\n.<<VIEW_ID>> #navigation-container button {\n\n    background-color: rgb(57, 57, 57);\n\n    border-radius: 50%;\n\n    border-width: 0;\n\n    height: 48px;\n\n    width: 48px;\n\n    color: white;\n\n    font-size: 26px;\n\n    line-height: 48px;\n\n}\n\n\n\n.<<VIEW_ID>> #navigation-button-back {\n\n    right: 20px;\n\n    position: absolute;\n\n    top: 75px;\n\n}\n\n\n\n.<<VIEW_ID>> #navigation-button-help {\n\n    right: 20px;\n\n    position: absolute;\n\n    top: 20px;\n\n}\n",
       "_model_module_version": "^0.1.0",
       "_rendered": "\n<div id=\"navigation-container\">\n\n<button id=\"navigation-button-help\">?</button>\n</div>\n",
       "_view_module_version": "^0.1.0",
       "layout": "IPY_MODEL_7df87f95faca442995c8accf0df57164"
      }
     },
     "08ca720292ed480aa5a9ef712e65ef12": {
      "model_module": "@jupyter-widgets/base",
      "model_module_version": "1.2.0",
      "model_name": "LayoutModel",
      "state": {}
     },
     "1877be711ce1427b89be89e769fea951": {
      "model_module": "@jupyter-widgets/controls",
      "model_module_version": "1.5.0",
      "model_name": "VBoxModel",
      "state": {
       "children": [
        "IPY_MODEL_fda63ec049b24c40aae6b37c3786b69e",
        "IPY_MODEL_f92daad2741143deb37b3a7434a4d4a5",
        "IPY_MODEL_612113fe36254cc1972ea34d409e6085"
       ],
       "layout": "IPY_MODEL_e580d0fe587840c08d33c55dd06a8f48"
      }
     },
     "1953a4994eeb4f73938a3ba71e5cc93a": {
      "model_module": "@jupyter-widgets/base",
      "model_module_version": "1.2.0",
      "model_name": "LayoutModel",
      "state": {}
     },
     "1ad0b0c374db439bbc94f4315c26ee1f": {
      "model_module": "appwidgets",
      "model_module_version": "^0.1.0",
      "model_name": "ReactiveHtmlModel",
      "state": {
       "_css": "",
       "_model_module_version": "^0.1.0",
       "_rendered": "\n<h1>Thank you and enjoy your coffee :)</h1>\n<button class=\"btn btn-default btn-block\" data-rh-exec=\"app.view='welcome'\">Back</button>\n",
       "_view_module_version": "^0.1.0",
       "layout": "IPY_MODEL_08ca720292ed480aa5a9ef712e65ef12"
      }
     },
     "265efaa60287482fa20dc442a3d55f79": {
      "model_module": "@jupyter-widgets/base",
      "model_module_version": "1.2.0",
      "model_name": "LayoutModel",
      "state": {}
     },
     "266bb115f2954e15bd4d91b771e3941f": {
      "model_module": "@jupyter-widgets/base",
      "model_module_version": "1.2.0",
      "model_name": "WidgetModel",
      "state": {
       "_view_module": null,
       "_view_module_version": "",
       "composer_init_circuit": {
        "id": "cappucino",
        "init_text": "Drag & Drop Gates on quibits to develop the circuit.",
        "name": "Only Cappucino"
       },
       "histogram_anal": {
        "000": 0,
        "001": 0,
        "010": 0,
        "011": 0,
        "100": 1,
        "101": 0,
        "110": 0,
        "111": 0
       },
       "histogram_mock": {
        "000": 0,
        "001": 0,
        "010": 0,
        "011": 0,
        "100": 0,
        "101": 0,
        "110": 0,
        "111": 0
       },
       "histogram_qasm": {
        "000": 0,
        "001": 0,
        "010": 0,
        "011": 0,
        "100": 1,
        "101": 0,
        "110": 0,
        "111": 0
       },
       "qasm": "OPENQASM 2.0;\ninclude \"qelib1.inc\";\nqreg q[3];\ncreg c[3];\nx q[2];\n",
       "show_mock_results": false,
       "show_qasm_results": false,
       "single_shot_device": "simulator",
       "single_shot_result": {
        "bit": "",
        "id": "",
        "name": ""
       },
       "single_shot_status": 0,
       "use_real_device": true
      }
     },
     "2a6c8ad1ba064eb4a655886dc0480d10": {
      "model_module": "@jupyter-widgets/base",
      "model_module_version": "1.2.0",
      "model_name": "LayoutModel",
      "state": {}
     },
     "3306d9fec24d4cb2a8b13dfd60bfb757": {
      "model_module": "appwidgets",
      "model_module_version": "^0.1.0",
      "model_name": "ReactiveHtmlModel",
      "state": {
       "_css": "",
       "_model_module_version": "^0.1.0",
       "_rendered": "\n<h1>Oh no, something went wrong :/</h1>\n<button class=\"btn btn-default btn-block\" data-rh-exec=\"app.view='welcome'\">Back</button>\n",
       "_view_module_version": "^0.1.0",
       "layout": "IPY_MODEL_daadb805170d4102b263a3a48235ccf1"
      }
     },
     "36f6f14f65be49218ea58e525e84e874": {
      "model_module": "appwidgets",
      "model_module_version": "^0.1.0",
      "model_name": "ReactiveHtmlModel",
      "state": {
       "_css": "\n/*\n\n\tHistogram\n\n*/\n\n.<<VIEW_ID>> #composer-histogram-container {\n\n\twidth: 100%;\n\n\theight: 30vh;\n\n\tpadding: 0 10px 0 10px;\n\n}\n\n.<<VIEW_ID>> #composer-histogram-container #composer-histogram {\n\n\twidth: 100%;\n\n\theight: 100%;\n\n\tdisplay: flex;\n\n\tflex-direction: row;\n\n\tjustify-content: space-evenly;\n\n\talign-items: stretch;\n\n}\n\n.<<VIEW_ID>> #composer-histogram .histogram-entry {\n\n\tposition: relative;\n\n\tflex: 0 0 12.5%;\n\n}\n\n.<<VIEW_ID>> #composer-histogram .histogram-entry p {\n\n\ttext-align: center;\n\n}\n\n.<<VIEW_ID>> #composer-histogram .histogram-bar-container {\n\n\tposition: relative;\n\n\theight: 80%;\n\n}\n\n.<<VIEW_ID>> #composer-histogram .histogram-bar-outer {\n\n\twidth: 30px;\n\n\tleft: 50%;\n\n\tmargin-left: -15px;\n\n\theight: 100%;\n\n\tposition: relative;\n\n\t/* background-color: lightgray; */\n\n}\n\n.<<VIEW_ID>> #composer-histogram .histogram-bar {\n\n\tbackground-color: blue;\n\n\tposition: absolute;\n\n\tbottom: 0;\n\n\theight: 0;\n\n\twidth: 33%;\n\n}\n\n\n\n.<<VIEW_ID>> #composer-histogram .histogram-bar-qasm {\n\n\tbackground-color: purple;\n\n\tleft: 0%;\n\n}\n\n.<<VIEW_ID>> #composer-histogram .histogram-bar-anal {\n\n\tbackground-color: blue;\n\n\tleft: 33%;\n\n}\n\n.<<VIEW_ID>> #composer-histogram .histogram-bar-mock {\n\n\tbackground-color: green;\n\n\tleft: 66%;\n\n}",
       "_model_module_version": "^0.1.0",
       "_rendered": "\n<div id=\"composer-histogram-container\">\n<button class=\"btn btn-default\" data-active=\"False\" data-rh-exec=\"toggle_data_attr('show_qasm_results')\">Show QASM</button>\n<button class=\"btn btn-default\" data-active=\"False\" data-rh-exec=\"toggle_data_attr('show_mock_results')\">Show Mock</button>\n<div id=\"composer-histogram\">\n<div class=\"histogram-entry\">\n<div class=\"histogram-bar-container\">\n<div class=\"histogram-bar-outer\">\n\n<div class=\"histogram-bar histogram-bar-anal histogram-bar-000\" style=\"height: 0.0%\"></div>\n\n</div>\n</div>\n<div class=\"histogram-text-container\">\n<p>Tee<br/><span \"=\"\" class=\"histogram-text histogram-text-ideal histogram-text-000\">0.0%</span></p>\n</div>\n</div>\n<div class=\"histogram-entry\">\n<div class=\"histogram-bar-container\">\n<div class=\"histogram-bar-outer\">\n\n<div class=\"histogram-bar histogram-bar-anal histogram-bar-001\" style=\"height: 0.0%\"></div>\n\n</div>\n</div>\n<div class=\"histogram-text-container\">\n<p>Heisse Schokolade<br/><span \"=\"\" class=\"histogram-text histogram-text-ideal histogram-text-001\">0.0%</span></p>\n</div>\n</div>\n<div class=\"histogram-entry\">\n<div class=\"histogram-bar-container\">\n<div class=\"histogram-bar-outer\">\n\n<div class=\"histogram-bar histogram-bar-anal histogram-bar-010\" style=\"height: 0.0%\"></div>\n\n</div>\n</div>\n<div class=\"histogram-text-container\">\n<p>Espresso<br/><span \"=\"\" class=\"histogram-text histogram-text-ideal histogram-text-010\">0.0%</span></p>\n</div>\n</div>\n<div class=\"histogram-entry\">\n<div class=\"histogram-bar-container\">\n<div class=\"histogram-bar-outer\">\n\n<div class=\"histogram-bar histogram-bar-anal histogram-bar-011\" style=\"height: 0.0%\"></div>\n\n</div>\n</div>\n<div class=\"histogram-text-container\">\n<p>Kaffee<br/><span \"=\"\" class=\"histogram-text histogram-text-ideal histogram-text-011\">0.0%</span></p>\n</div>\n</div>\n<div class=\"histogram-entry\">\n<div class=\"histogram-bar-container\">\n<div class=\"histogram-bar-outer\">\n\n<div class=\"histogram-bar histogram-bar-anal histogram-bar-100\" style=\"height: 100.0%\"></div>\n\n</div>\n</div>\n<div class=\"histogram-text-container\">\n<p>Cappucino<br/><span \"=\"\" class=\"histogram-text histogram-text-ideal histogram-text-100\">100.0%</span></p>\n</div>\n</div>\n<div class=\"histogram-entry\">\n<div class=\"histogram-bar-container\">\n<div class=\"histogram-bar-outer\">\n\n<div class=\"histogram-bar histogram-bar-anal histogram-bar-101\" style=\"height: 0.0%\"></div>\n\n</div>\n</div>\n<div class=\"histogram-text-container\">\n<p>Latte Macchiato<br/><span \"=\"\" class=\"histogram-text histogram-text-ideal histogram-text-101\">0.0%</span></p>\n</div>\n</div>\n<div class=\"histogram-entry\">\n<div class=\"histogram-bar-container\">\n<div class=\"histogram-bar-outer\">\n\n<div class=\"histogram-bar histogram-bar-anal histogram-bar-110\" style=\"height: 0.0%\"></div>\n\n</div>\n</div>\n<div class=\"histogram-text-container\">\n<p>Wiener Melange<br/><span \"=\"\" class=\"histogram-text histogram-text-ideal histogram-text-110\">0.0%</span></p>\n</div>\n</div>\n<div class=\"histogram-entry\">\n<div class=\"histogram-bar-container\">\n<div class=\"histogram-bar-outer\">\n\n<div class=\"histogram-bar histogram-bar-anal histogram-bar-111\" style=\"height: 0.0%\"></div>\n\n</div>\n</div>\n<div class=\"histogram-text-container\">\n<p>Americano<br/><span \"=\"\" class=\"histogram-text histogram-text-ideal histogram-text-111\">0.0%</span></p>\n</div>\n</div>\n</div>\n</div>\n",
       "_view_module_version": "^0.1.0",
       "layout": "IPY_MODEL_b9049bec94f149d597a58db7112c6662"
      }
     },
     "3c32e6a3e5ce41448c444a832bfd8614": {
      "model_module": "appwidgets",
      "model_module_version": "^0.1.0",
      "model_name": "ReactiveHtmlModel",
      "state": {
       "_css": "",
       "_model_module_version": "^0.1.0",
       "_rendered": "\n<h1>Thank you and enjoy your coffee :)</h1>\n<button class=\"btn btn-default btn-block\" data-rh-exec=\"app.view='welcome'\">Back</button>\n",
       "_view_module_version": "^0.1.0",
       "layout": "IPY_MODEL_e1a7ab73bc9549a8a5e51450a5ff9ec4"
      }
     },
     "3e7273b4dc494ec7af100231fd84e9bb": {
      "model_module": "@jupyter-widgets/base",
      "model_module_version": "1.2.0",
      "model_name": "LayoutModel",
      "state": {}
     },
     "42ac372a41dc41ebb7b7547e26756fc8": {
      "model_module": "appwidgets",
      "model_module_version": "^0.1.0",
      "model_name": "JsPyModel",
      "state": {
       "_model_module_version": "^0.1.0",
       "_view_module": null,
       "_view_module_version": ""
      }
     },
     "43c3be2ebb0e448c978fe9a6b2347d30": {
      "model_module": "@jupyter-widgets/base",
      "model_module_version": "1.2.0",
      "model_name": "LayoutModel",
      "state": {}
     },
     "4420017dfab74c6ea9d4fc37ffeffcfa": {
      "model_module": "@jupyter-widgets/controls",
      "model_module_version": "1.5.0",
      "model_name": "BoxModel",
      "state": {
       "children": [
        "IPY_MODEL_97993dab1b81450cba897959d595a532"
       ],
       "layout": "IPY_MODEL_b5e25893c7604f9b9dbfba070f66447f",
       "view": "composer"
      }
     },
     "5e825e22986f47fc842817a9635248ff": {
      "model_module": "appwidgets",
      "model_module_version": "^0.1.0",
      "model_name": "JsPyModel",
      "state": {
       "_model_module_version": "^0.1.0",
       "_view_module": null,
       "_view_module_version": ""
      }
     },
     "612113fe36254cc1972ea34d409e6085": {
      "model_module": "@jupyter-widgets/controls",
      "model_module_version": "1.5.0",
      "model_name": "HBoxModel",
      "state": {
       "children": [
        "IPY_MODEL_c260f037e3254b79ba7f347b9bd40486",
        "IPY_MODEL_9421eff593fe41feaf7b2b3bc5726803"
       ],
       "layout": "IPY_MODEL_d683f4d2ace14ffcb64c1772a8d62ee4"
      }
     },
     "638f84a8d60b426c9cc8dd14fa9e9045": {
      "model_module": "@jupyter-widgets/base",
      "model_module_version": "1.2.0",
      "model_name": "LayoutModel",
      "state": {}
     },
     "6559073f8ec3469d9c3ab2f0125f478e": {
      "model_module": "@jupyter-widgets/base",
      "model_module_version": "1.2.0",
      "model_name": "LayoutModel",
      "state": {}
     },
     "66003e84e7ff4c8482d8be2c9f9a7d22": {
      "model_module": "@jupyter-widgets/controls",
      "model_module_version": "1.5.0",
      "model_name": "VBoxModel",
      "state": {
       "children": [
        "IPY_MODEL_7a32607f7b874d21bf37c738dba97b8c",
        "IPY_MODEL_b2a2c688a6834162a66c9f3a324249ea"
       ],
       "layout": "IPY_MODEL_6559073f8ec3469d9c3ab2f0125f478e"
      }
     },
     "6795762e7a0947618105453732b6a307": {
      "model_module": "appwidgets",
      "model_module_version": "^0.1.0",
      "model_name": "ReactiveHtmlModel",
      "state": {
       "_css": "",
       "_model_module_version": "^0.1.0",
       "_rendered": "\n<h1>Composer: Only Cappucino</h1>\n<p>Drag &amp; Drop Gates on quibits to develop the circuit.</p>\n",
       "_view_module_version": "^0.1.0",
       "layout": "IPY_MODEL_638f84a8d60b426c9cc8dd14fa9e9045"
      }
     },
     "6b36456278334c0ba071091f77e31d9a": {
      "model_module": "appwidgets",
      "model_module_version": "^0.1.0",
      "model_name": "ReactiveHtmlModel",
      "state": {
       "_css": "\n.<<VIEW_ID>> .header-container {\n\n    width: 100%;\n\n    background-color: black;\n\n    height: 160px;\n\n    display: block;\n\n    position: relative;\n\n    margin-bottom: 3em;\n\n}\n\n\n\n.<<VIEW_ID>> .header-container h1 {\n\n    color: white;\n\n    font-size: 3.5em;\n\n    margin: 0;\n\n    padding: 0;\n\n    position: absolute;\n\n    bottom: 20px;\n\n    left: 20px;\n\n}\n\n\n\n.<<VIEW_ID>> #init-circuit-container {\n\n    padding: 0 50px 0 50px;\n\n}\n\n\n\n.<<VIEW_ID>> #init-circuit-container h3 {\n\n    font-size: 2em;\n\n    margin-bottom: 1.5em;\n\n}\n\n\n\n.<<VIEW_ID>> #init-circuit-container h4 {\n\n    font-size: 1.5em;\n\n    margin-bottom: 1em;\n\n}\n\n\n\n.<<VIEW_ID>> #init-circuit-container h5 {\n\n    font-size: 1.5em;\n\n    margin-bottom: 1em;\n\n}\n\n\n\n.<<VIEW_ID>> #init-circuit-container .card {\n\n    padding: 10px 10px 30px 10px;\n\n    margin: 2px;\n\n    background-color: rgba(244, 244, 244);\n\n    height: 180px; /*calc(100% - 4px);*/\n\n    border-radius: 0;\n\n    border-width: 0;\n\n    position: relative;\n\n    cursor: pointer;\n\n}\n\n\n\n.<<VIEW_ID>> #init-circuit-container span.arrow {\n\n    color: rgba(40, 105, 245);\n\n    position: absolute;\n\n    bottom: 10px;\n\n    left: 20px;\n\n    font-size: 1.5em;\n\n}\n\n\n\n.<<VIEW_ID>> .mt-4 {\n\n    margin-top: 20px;\n\n}",
       "_model_module_version": "^0.1.0",
       "_rendered": "\n<div class=\"header-container\">\n<h1>Hey 👋</h1>\n</div>\n<div id=\"init-circuit-container\">\n<h3>Where do you want to start?</h3>\n<div class=\"row mt-4\">\n<div class=\"col-md-3\">\n<h4>Play around</h4>\n<div class=\"row align-items-stretch\">\n<div class=\"col-md-12\">\n<div class=\"card\" data-rh-exec=\"load_starting_point('empty')\">\n<div class=\"card-body\">\n<h5 class=\"card-title\">From Scratch</h5>\n<p class=\"card-text\">Drag &amp; Drop Gates on quibits to develop the circuit.</p>\n<span class=\"arrow\">→</span>\n</div>\n</div>\n</div>\n</div>\n</div>\n<div class=\"col-md-9\">\n<h4>Take a shortcut</h4>\n<div class=\"row align-items-stretch\">\n<div class=\"col-md-4\">\n<div class=\"card\" data-rh-exec=\"load_starting_point('coffee')\">\n<div class=\"card-body\">\n<h5 class=\"card-title\">Only Coffee</h5>\n<p class=\"card-text\">Drag &amp; Drop Gates on quibits to develop the circuit.</p>\n<span class=\"arrow\">→</span>\n</div>\n</div>\n</div>\n<div class=\"col-md-4\">\n<div class=\"card\" data-rh-exec=\"load_starting_point('cappucino')\">\n<div class=\"card-body\">\n<h5 class=\"card-title\">Only Cappucino</h5>\n<p class=\"card-text\">Drag &amp; Drop Gates on quibits to develop the circuit.</p>\n<span class=\"arrow\">→</span>\n</div>\n</div>\n</div>\n<div class=\"col-md-4\">\n<div class=\"card\" data-rh-exec=\"load_starting_point('espresso')\">\n<div class=\"card-body\">\n<h5 class=\"card-title\">Only Espresso</h5>\n<p class=\"card-text\">Drag &amp; Drop Gates on quibits to develop the circuit.</p>\n<span class=\"arrow\">→</span>\n</div>\n</div>\n</div>\n</div>\n</div>\n</div>\n<div class=\"row mt-4\">\n<div class=\"col-md-12\">\n<h4>Dig Deeper</h4>\n<div class=\"row align-items-stretch\">\n<div class=\"col-md-3\">\n<div class=\"card\" data-rh-exec=\"load_starting_point('anything')\">\n<div class=\"card-body\">\n<h5 class=\"card-title\">Just something to drink</h5>\n<p class=\"card-text\">Drag &amp; Drop Gates on quibits to develop the circuit.</p>\n<span class=\"arrow\">→</span>\n</div>\n</div>\n</div>\n<div class=\"col-md-3\">\n<div class=\"card\" data-rh-exec=\"load_starting_point('withoutcoffein')\">\n<div class=\"card-body\">\n<h5 class=\"card-title\">Without Coffein</h5>\n<p class=\"card-text\">Drag &amp; Drop Gates on quibits to develop the circuit.</p>\n<span class=\"arrow\">→</span>\n</div>\n</div>\n</div>\n<div class=\"col-md-3\">\n<div class=\"card\" data-rh-exec=\"load_starting_point('nothingstrong')\">\n<div class=\"card-body\">\n<h5 class=\"card-title\">Nothing Strong</h5>\n<p class=\"card-text\">Drag &amp; Drop Gates on quibits to develop the circuit.</p>\n<span class=\"arrow\">→</span>\n</div>\n</div>\n</div>\n<div class=\"col-md-3\">\n<div class=\"card\" data-rh-exec=\"load_starting_point('teaorcoffee')\">\n<div class=\"card-body\">\n<h5 class=\"card-title\">Tea or Coffee</h5>\n<p class=\"card-text\">Drag &amp; Drop Gates on quibits to develop the circuit.</p>\n<span class=\"arrow\">→</span>\n</div>\n</div>\n</div>\n</div>\n</div>\n</div>\n</div>\n",
       "_view_module_version": "^0.1.0",
       "layout": "IPY_MODEL_a8d22cda61574731b3df60f0dd6ef126"
      }
     },
     "7a32607f7b874d21bf37c738dba97b8c": {
      "model_module": "appwidgets",
      "model_module_version": "^0.1.0",
      "model_name": "ReactiveHtmlModel",
      "state": {
       "_css": "\n.<<VIEW_ID>> #navigation-container {\n\n    width: 100%;\n\n    height: 10px;\n\n    position: relative;\n\n    display: block;\n\n    z-index: 5000;\n\n}\n\n\n\n.<<VIEW_ID>> #navigation-container button {\n\n    background-color: rgb(57, 57, 57);\n\n    border-radius: 50%;\n\n    border-width: 0;\n\n    height: 48px;\n\n    width: 48px;\n\n    color: white;\n\n    font-size: 26px;\n\n    line-height: 48px;\n\n}\n\n\n\n.<<VIEW_ID>> #navigation-button-back {\n\n    right: 20px;\n\n    position: absolute;\n\n    top: 75px;\n\n}\n\n\n\n.<<VIEW_ID>> #navigation-button-help {\n\n    right: 20px;\n\n    position: absolute;\n\n    top: 20px;\n\n}\n",
       "_model_module_version": "^0.1.0",
       "_rendered": "\n<div id=\"navigation-container\">\n<button class=\"navigation-button\" data-rh-exec=\"app.view = 'welcome'\" data-rh-if=\"composer != 'welcome'\" id=\"navigation-button-back\">ᐊ</button>\n<button id=\"navigation-button-help\">?</button>\n</div>\n",
       "_view_module_version": "^0.1.0",
       "layout": "IPY_MODEL_3e7273b4dc494ec7af100231fd84e9bb"
      }
     },
     "7df87f95faca442995c8accf0df57164": {
      "model_module": "@jupyter-widgets/base",
      "model_module_version": "1.2.0",
      "model_name": "LayoutModel",
      "state": {}
     },
     "923dc57c7948450687a64ac7121c3fb9": {
      "model_module": "@jupyter-widgets/base",
      "model_module_version": "1.2.0",
      "model_name": "WidgetModel",
      "state": {
       "_view_module": null,
       "_view_module_version": "",
       "composer_init_circuit": {
        "id": "empty",
        "init_text": "",
        "name": ""
       },
       "histogram_anal": {
        "000": 0,
        "001": 0,
        "010": 0,
        "011": 0,
        "100": 0,
        "101": 0,
        "110": 0,
        "111": 0
       },
       "histogram_mock": {
        "000": 0,
        "001": 0,
        "010": 0,
        "011": 0,
        "100": 0,
        "101": 0,
        "110": 0,
        "111": 0
       },
       "histogram_qasm": {
        "000": 0,
        "001": 0,
        "010": 0,
        "011": 0,
        "100": 0,
        "101": 0,
        "110": 0,
        "111": 0
       },
       "qasm": "",
       "show_mock_results": false,
       "show_qasm_results": false,
       "single_shot_device": "simulator",
       "single_shot_result": {
        "bit": "",
        "id": "",
        "name": ""
       },
       "single_shot_status": 0,
       "use_real_device": true
      }
     },
     "9373be6a98a2436ebdb4db7a9f9537a2": {
      "model_module": "@jupyter-widgets/controls",
      "model_module_version": "1.5.0",
      "model_name": "HBoxModel",
      "state": {
       "children": [
        "IPY_MODEL_36f6f14f65be49218ea58e525e84e874",
        "IPY_MODEL_e96af5d41a26458588065380c2ea506a"
       ],
       "layout": "IPY_MODEL_265efaa60287482fa20dc442a3d55f79"
      }
     },
     "9421eff593fe41feaf7b2b3bc5726803": {
      "model_module": "appwidgets",
      "model_module_version": "^0.1.0",
      "model_name": "ReactiveHtmlModel",
      "state": {
       "_css": "",
       "_model_module_version": "^0.1.0",
       "_rendered": "\n<div id=\"composer-singleshot-container\">\n<div id=\"composer-singleshot\">\n<button class=\"btn btn-default btn-block\" data-rh-if='simulator==\"simulator\"' data-rh-set='single_shot_device=\"ibmq\"'>Benutze IBM Q</button>\n\n<br/>\n<button class=\"btn btn-primary btn-block\" data-rh-exec=\"get_single_shot_result()\">Do measurement</button>\n<br/>\n\n\n<br/>\n<button class=\"btn btn-default btn-block\" data-rh-exec=\"open_circuit_on_ibmq()\">In IBM Q öffnen</button>\n<button class=\"btn btn-default btn-block\" data-rh-exec=\"app.view='welcome'\">Back</button>\n</div>\n</div>\n",
       "_view_module_version": "^0.1.0",
       "layout": "IPY_MODEL_94b47ba832ba4e23809392e7a34b2135"
      }
     },
     "94b47ba832ba4e23809392e7a34b2135": {
      "model_module": "@jupyter-widgets/base",
      "model_module_version": "1.2.0",
      "model_name": "LayoutModel",
      "state": {}
     },
     "97993dab1b81450cba897959d595a532": {
      "model_module": "@jupyter-widgets/controls",
      "model_module_version": "1.5.0",
      "model_name": "VBoxModel",
      "state": {
       "children": [
        "IPY_MODEL_6795762e7a0947618105453732b6a307",
        "IPY_MODEL_c84b4043277247bd90e59b0a39961e09",
        "IPY_MODEL_9373be6a98a2436ebdb4db7a9f9537a2"
       ],
       "layout": "IPY_MODEL_2a6c8ad1ba064eb4a655886dc0480d10"
      }
     },
     "9e809f3c9f3a4327a0db9a709cc54b1b": {
      "model_module": "@jupyter-widgets/base",
      "model_module_version": "1.2.0",
      "model_name": "LayoutModel",
      "state": {}
     },
     "a8d22cda61574731b3df60f0dd6ef126": {
      "model_module": "@jupyter-widgets/base",
      "model_module_version": "1.2.0",
      "model_name": "LayoutModel",
      "state": {}
     },
     "b2a2c688a6834162a66c9f3a324249ea": {
      "model_module": "appwidgets",
      "model_module_version": "^0.1.0",
      "model_name": "ReactiveHtmlModel",
      "state": {
       "_css": "\n.<<VIEW_ID>> .header-container {\n\n    width: 100%;\n\n    background-color: black;\n\n    height: 160px;\n\n    display: block;\n\n    position: relative;\n\n    margin-bottom: 3em;\n\n}\n\n\n\n.<<VIEW_ID>> .header-container h1 {\n\n    color: white;\n\n    font-size: 3.5em;\n\n    margin: 0;\n\n    padding: 0;\n\n    position: absolute;\n\n    bottom: 20px;\n\n    left: 20px;\n\n}\n\n\n\n.<<VIEW_ID>> #init-circuit-container {\n\n    padding: 0 50px 0 50px;\n\n}\n\n\n\n.<<VIEW_ID>> #init-circuit-container h3 {\n\n    font-size: 2em;\n\n    margin-bottom: 1.5em;\n\n}\n\n\n\n.<<VIEW_ID>> #init-circuit-container h4 {\n\n    font-size: 1.5em;\n\n    margin-bottom: 1em;\n\n}\n\n\n\n.<<VIEW_ID>> #init-circuit-container h5 {\n\n    font-size: 1.5em;\n\n    margin-bottom: 1em;\n\n}\n\n\n\n.<<VIEW_ID>> #init-circuit-container .card {\n\n    padding: 10px 10px 30px 10px;\n\n    margin: 2px;\n\n    background-color: rgba(244, 244, 244);\n\n    height: 180px; /*calc(100% - 4px);*/\n\n    border-radius: 0;\n\n    border-width: 0;\n\n    position: relative;\n\n    cursor: pointer;\n\n}\n\n\n\n.<<VIEW_ID>> #init-circuit-container span.arrow {\n\n    color: rgba(40, 105, 245);\n\n    position: absolute;\n\n    bottom: 10px;\n\n    left: 20px;\n\n    font-size: 1.5em;\n\n}\n\n\n\n.<<VIEW_ID>> .mt-4 {\n\n    margin-top: 20px;\n\n}",
       "_model_module_version": "^0.1.0",
       "_rendered": "\n<div class=\"header-container\">\n<h1>Hey 👋</h1>\n</div>\n<div id=\"init-circuit-container\">\n<h3>Where do you want to start?</h3>\n<div class=\"row mt-4\">\n<div class=\"col-md-3\">\n<h4>Play around</h4>\n<div class=\"row align-items-stretch\">\n<div class=\"col-md-12\">\n<div class=\"card\" data-rh-exec=\"load_starting_point('empty')\">\n<div class=\"card-body\">\n<h5 class=\"card-title\">From Scratch</h5>\n<p class=\"card-text\">Drag &amp; Drop Gates on quibits to develop the circuit.</p>\n<span class=\"arrow\">→</span>\n</div>\n</div>\n</div>\n</div>\n</div>\n<div class=\"col-md-9\">\n<h4>Take a shortcut</h4>\n<div class=\"row align-items-stretch\">\n<div class=\"col-md-4\">\n<div class=\"card\" data-rh-exec=\"load_starting_point('coffee')\">\n<div class=\"card-body\">\n<h5 class=\"card-title\">Only Coffee</h5>\n<p class=\"card-text\">Drag &amp; Drop Gates on quibits to develop the circuit.</p>\n<span class=\"arrow\">→</span>\n</div>\n</div>\n</div>\n<div class=\"col-md-4\">\n<div class=\"card\" data-rh-exec=\"load_starting_point('cappucino')\">\n<div class=\"card-body\">\n<h5 class=\"card-title\">Only Cappucino</h5>\n<p class=\"card-text\">Drag &amp; Drop Gates on quibits to develop the circuit.</p>\n<span class=\"arrow\">→</span>\n</div>\n</div>\n</div>\n<div class=\"col-md-4\">\n<div class=\"card\" data-rh-exec=\"load_starting_point('espresso')\">\n<div class=\"card-body\">\n<h5 class=\"card-title\">Only Espresso</h5>\n<p class=\"card-text\">Drag &amp; Drop Gates on quibits to develop the circuit.</p>\n<span class=\"arrow\">→</span>\n</div>\n</div>\n</div>\n</div>\n</div>\n</div>\n<div class=\"row mt-4\">\n<div class=\"col-md-12\">\n<h4>Dig Deeper</h4>\n<div class=\"row align-items-stretch\">\n<div class=\"col-md-3\">\n<div class=\"card\" data-rh-exec=\"load_starting_point('anything')\">\n<div class=\"card-body\">\n<h5 class=\"card-title\">Just something to drink</h5>\n<p class=\"card-text\">Drag &amp; Drop Gates on quibits to develop the circuit.</p>\n<span class=\"arrow\">→</span>\n</div>\n</div>\n</div>\n<div class=\"col-md-3\">\n<div class=\"card\" data-rh-exec=\"load_starting_point('withoutcoffein')\">\n<div class=\"card-body\">\n<h5 class=\"card-title\">Without Coffein</h5>\n<p class=\"card-text\">Drag &amp; Drop Gates on quibits to develop the circuit.</p>\n<span class=\"arrow\">→</span>\n</div>\n</div>\n</div>\n<div class=\"col-md-3\">\n<div class=\"card\" data-rh-exec=\"load_starting_point('nothingstrong')\">\n<div class=\"card-body\">\n<h5 class=\"card-title\">Nothing Strong</h5>\n<p class=\"card-text\">Drag &amp; Drop Gates on quibits to develop the circuit.</p>\n<span class=\"arrow\">→</span>\n</div>\n</div>\n</div>\n<div class=\"col-md-3\">\n<div class=\"card\" data-rh-exec=\"load_starting_point('teaorcoffee')\">\n<div class=\"card-body\">\n<h5 class=\"card-title\">Tea or Coffee</h5>\n<p class=\"card-text\">Drag &amp; Drop Gates on quibits to develop the circuit.</p>\n<span class=\"arrow\">→</span>\n</div>\n</div>\n</div>\n</div>\n</div>\n</div>\n</div>\n",
       "_view_module_version": "^0.1.0",
       "layout": "IPY_MODEL_9e809f3c9f3a4327a0db9a709cc54b1b"
      }
     },
     "b5e25893c7604f9b9dbfba070f66447f": {
      "model_module": "@jupyter-widgets/base",
      "model_module_version": "1.2.0",
      "model_name": "LayoutModel",
      "state": {}
     },
     "b9049bec94f149d597a58db7112c6662": {
      "model_module": "@jupyter-widgets/base",
      "model_module_version": "1.2.0",
      "model_name": "LayoutModel",
      "state": {}
     },
     "bf9c5269b22c4b3c84d50bb24b5d6f26": {
      "model_module": "appwidgets",
      "model_module_version": "^0.1.0",
      "model_name": "ReactiveHtmlModel",
      "state": {
       "_css": "",
       "_model_module_version": "^0.1.0",
       "_rendered": "\n<h1>Oh no, something went wrong :/</h1>\n<button class=\"btn btn-default btn-block\" data-rh-exec=\"app.view='welcome'\">Back</button>\n",
       "_view_module_version": "^0.1.0",
       "layout": "IPY_MODEL_f113bb8a5a544a6c8489b52a59020453"
      }
     },
     "c0d44af9ec8a4b1d9e99867d238affe2": {
      "model_module": "@jupyter-widgets/base",
      "model_module_version": "1.2.0",
      "model_name": "LayoutModel",
      "state": {}
     },
     "c260f037e3254b79ba7f347b9bd40486": {
      "model_module": "appwidgets",
      "model_module_version": "^0.1.0",
      "model_name": "ReactiveHtmlModel",
      "state": {
       "_css": "\n/*\n\n\tHistogram\n\n*/\n\n.<<VIEW_ID>> #composer-histogram-container {\n\n\twidth: 100%;\n\n\theight: 30vh;\n\n\tpadding: 0 10px 0 10px;\n\n}\n\n.<<VIEW_ID>> #composer-histogram-container #composer-histogram {\n\n\twidth: 100%;\n\n\theight: 100%;\n\n\tdisplay: flex;\n\n\tflex-direction: row;\n\n\tjustify-content: space-evenly;\n\n\talign-items: stretch;\n\n}\n\n.<<VIEW_ID>> #composer-histogram .histogram-entry {\n\n\tposition: relative;\n\n\tflex: 0 0 12.5%;\n\n}\n\n.<<VIEW_ID>> #composer-histogram .histogram-entry p {\n\n\ttext-align: center;\n\n}\n\n.<<VIEW_ID>> #composer-histogram .histogram-bar-container {\n\n\tposition: relative;\n\n\theight: 80%;\n\n}\n\n.<<VIEW_ID>> #composer-histogram .histogram-bar-outer {\n\n\twidth: 30px;\n\n\tleft: 50%;\n\n\tmargin-left: -15px;\n\n\theight: 100%;\n\n\tposition: relative;\n\n\t/* background-color: lightgray; */\n\n}\n\n.<<VIEW_ID>> #composer-histogram .histogram-bar {\n\n\tbackground-color: blue;\n\n\tposition: absolute;\n\n\tbottom: 0;\n\n\theight: 0;\n\n\twidth: 33%;\n\n}\n\n\n\n.<<VIEW_ID>> #composer-histogram .histogram-bar-qasm {\n\n\tbackground-color: purple;\n\n\tleft: 0%;\n\n}\n\n.<<VIEW_ID>> #composer-histogram .histogram-bar-anal {\n\n\tbackground-color: blue;\n\n\tleft: 33%;\n\n}\n\n.<<VIEW_ID>> #composer-histogram .histogram-bar-mock {\n\n\tbackground-color: green;\n\n\tleft: 66%;\n\n}",
       "_model_module_version": "^0.1.0",
       "_rendered": "\n<div id=\"composer-histogram-container\">\n<button class=\"btn btn-default\" data-active=\"False\" data-rh-exec=\"toggle_data_attr('show_qasm_results')\">Show QASM</button>\n<button class=\"btn btn-default\" data-active=\"False\" data-rh-exec=\"toggle_data_attr('show_mock_results')\">Show Mock</button>\n<div id=\"composer-histogram\">\n<div class=\"histogram-entry\">\n<div class=\"histogram-bar-container\">\n<div class=\"histogram-bar-outer\">\n\n<div class=\"histogram-bar histogram-bar-anal histogram-bar-000\" style=\"height: 0%\"></div>\n\n</div>\n</div>\n<div class=\"histogram-text-container\">\n<p>Tee<br/><span \"=\"\" class=\"histogram-text histogram-text-ideal histogram-text-000\">0.0%</span></p>\n</div>\n</div>\n<div class=\"histogram-entry\">\n<div class=\"histogram-bar-container\">\n<div class=\"histogram-bar-outer\">\n\n<div class=\"histogram-bar histogram-bar-anal histogram-bar-001\" style=\"height: 0%\"></div>\n\n</div>\n</div>\n<div class=\"histogram-text-container\">\n<p>Heisse Schokolade<br/><span \"=\"\" class=\"histogram-text histogram-text-ideal histogram-text-001\">0.0%</span></p>\n</div>\n</div>\n<div class=\"histogram-entry\">\n<div class=\"histogram-bar-container\">\n<div class=\"histogram-bar-outer\">\n\n<div class=\"histogram-bar histogram-bar-anal histogram-bar-010\" style=\"height: 0%\"></div>\n\n</div>\n</div>\n<div class=\"histogram-text-container\">\n<p>Espresso<br/><span \"=\"\" class=\"histogram-text histogram-text-ideal histogram-text-010\">0.0%</span></p>\n</div>\n</div>\n<div class=\"histogram-entry\">\n<div class=\"histogram-bar-container\">\n<div class=\"histogram-bar-outer\">\n\n<div class=\"histogram-bar histogram-bar-anal histogram-bar-011\" style=\"height: 0%\"></div>\n\n</div>\n</div>\n<div class=\"histogram-text-container\">\n<p>Kaffee<br/><span \"=\"\" class=\"histogram-text histogram-text-ideal histogram-text-011\">0.0%</span></p>\n</div>\n</div>\n<div class=\"histogram-entry\">\n<div class=\"histogram-bar-container\">\n<div class=\"histogram-bar-outer\">\n\n<div class=\"histogram-bar histogram-bar-anal histogram-bar-100\" style=\"height: 0%\"></div>\n\n</div>\n</div>\n<div class=\"histogram-text-container\">\n<p>Cappucino<br/><span \"=\"\" class=\"histogram-text histogram-text-ideal histogram-text-100\">0.0%</span></p>\n</div>\n</div>\n<div class=\"histogram-entry\">\n<div class=\"histogram-bar-container\">\n<div class=\"histogram-bar-outer\">\n\n<div class=\"histogram-bar histogram-bar-anal histogram-bar-101\" style=\"height: 0%\"></div>\n\n</div>\n</div>\n<div class=\"histogram-text-container\">\n<p>Latte Macchiato<br/><span \"=\"\" class=\"histogram-text histogram-text-ideal histogram-text-101\">0.0%</span></p>\n</div>\n</div>\n<div class=\"histogram-entry\">\n<div class=\"histogram-bar-container\">\n<div class=\"histogram-bar-outer\">\n\n<div class=\"histogram-bar histogram-bar-anal histogram-bar-110\" style=\"height: 0%\"></div>\n\n</div>\n</div>\n<div class=\"histogram-text-container\">\n<p>Wiener Melange<br/><span \"=\"\" class=\"histogram-text histogram-text-ideal histogram-text-110\">0.0%</span></p>\n</div>\n</div>\n<div class=\"histogram-entry\">\n<div class=\"histogram-bar-container\">\n<div class=\"histogram-bar-outer\">\n\n<div class=\"histogram-bar histogram-bar-anal histogram-bar-111\" style=\"height: 0%\"></div>\n\n</div>\n</div>\n<div class=\"histogram-text-container\">\n<p>Americano<br/><span \"=\"\" class=\"histogram-text histogram-text-ideal histogram-text-111\">0.0%</span></p>\n</div>\n</div>\n</div>\n</div>\n",
       "_view_module_version": "^0.1.0",
       "layout": "IPY_MODEL_d8a39089e72e43a4ae004625fa200318"
      }
     },
     "c84b4043277247bd90e59b0a39961e09": {
      "model_module": "@quantum/ibm-q-lab-widgets",
      "model_module_version": "^1.0.3",
      "model_name": "CircuitComposerModel",
      "state": {
       "_model_module_version": "^1.0.3",
       "_view_module_version": "^1.0.3",
       "circuit": "\"OPENQASM 2.0;\\ninclude \\\"qelib1.inc\\\";\\n\\nqreg q[3];\\ncreg c[3];\\n\\nx q[2];\"",
       "editable": true,
       "layout": "IPY_MODEL_fe59153b9bb4448c922c23be38a18586",
       "qiskit_code_cell_index": -1
      }
     },
     "d13eb0cf8883467aac6a6a182d27bbaf": {
      "model_module": "@jupyter-widgets/base",
      "model_module_version": "1.2.0",
      "model_name": "LayoutModel",
      "state": {}
     },
     "d25441abbdd749f4b79c9e41532c654b": {
      "model_module": "@jupyter-widgets/controls",
      "model_module_version": "1.5.0",
      "model_name": "VBoxModel",
      "state": {
       "children": [
        "IPY_MODEL_017165463867441cbe315a2f92856475",
        "IPY_MODEL_6b36456278334c0ba071091f77e31d9a"
       ],
       "layout": "IPY_MODEL_f7aed2f4b0a84c7ba0f145dee28761fe"
      }
     },
     "d683f4d2ace14ffcb64c1772a8d62ee4": {
      "model_module": "@jupyter-widgets/base",
      "model_module_version": "1.2.0",
      "model_name": "LayoutModel",
      "state": {}
     },
     "d8a39089e72e43a4ae004625fa200318": {
      "model_module": "@jupyter-widgets/base",
      "model_module_version": "1.2.0",
      "model_name": "LayoutModel",
      "state": {}
     },
     "daadb805170d4102b263a3a48235ccf1": {
      "model_module": "@jupyter-widgets/base",
      "model_module_version": "1.2.0",
      "model_name": "LayoutModel",
      "state": {}
     },
     "e1a7ab73bc9549a8a5e51450a5ff9ec4": {
      "model_module": "@jupyter-widgets/base",
      "model_module_version": "1.2.0",
      "model_name": "LayoutModel",
      "state": {}
     },
     "e580d0fe587840c08d33c55dd06a8f48": {
      "model_module": "@jupyter-widgets/base",
      "model_module_version": "1.2.0",
      "model_name": "LayoutModel",
      "state": {}
     },
     "e96af5d41a26458588065380c2ea506a": {
      "model_module": "appwidgets",
      "model_module_version": "^0.1.0",
      "model_name": "ReactiveHtmlModel",
      "state": {
       "_css": "",
       "_model_module_version": "^0.1.0",
       "_rendered": "\n<div id=\"composer-singleshot-container\">\n<div id=\"composer-singleshot\">\n<button class=\"btn btn-default btn-block\" data-rh-if='simulator==\"simulator\"' data-rh-set='single_shot_device=\"ibmq\"'>Benutze IBM Q</button>\n\n<br/>\n<button class=\"btn btn-primary btn-block\" data-rh-exec=\"get_single_shot_result()\">Do measurement</button>\n<br/>\n\n\n<br/>\n<button class=\"btn btn-default btn-block\" data-rh-exec=\"open_circuit_on_ibmq()\">In IBM Q öffnen</button>\n<button class=\"btn btn-default btn-block\" data-rh-exec=\"app.view='welcome'\">Back</button>\n</div>\n</div>\n",
       "_view_module_version": "^0.1.0",
       "layout": "IPY_MODEL_c0d44af9ec8a4b1d9e99867d238affe2"
      }
     },
     "f113bb8a5a544a6c8489b52a59020453": {
      "model_module": "@jupyter-widgets/base",
      "model_module_version": "1.2.0",
      "model_name": "LayoutModel",
      "state": {}
     },
     "f7aed2f4b0a84c7ba0f145dee28761fe": {
      "model_module": "@jupyter-widgets/base",
      "model_module_version": "1.2.0",
      "model_name": "LayoutModel",
      "state": {}
     },
     "f92daad2741143deb37b3a7434a4d4a5": {
      "model_module": "@quantum/ibm-q-lab-widgets",
      "model_module_version": "^1.0.3",
      "model_name": "CircuitComposerModel",
      "state": {
       "_model_module_version": "^1.0.3",
       "_view_module_version": "^1.0.3",
       "circuit": "\"OPENQASM 2.0;\\ninclude \\\"qelib1.inc\\\";\\n\\nqreg q[3];\\ncreg c[3];\\n\\n\"",
       "editable": true,
       "layout": "IPY_MODEL_43c3be2ebb0e448c978fe9a6b2347d30",
       "qiskit_code_cell_index": -1
      }
     },
     "fda63ec049b24c40aae6b37c3786b69e": {
      "model_module": "appwidgets",
      "model_module_version": "^0.1.0",
      "model_name": "ReactiveHtmlModel",
      "state": {
       "_css": "",
       "_model_module_version": "^0.1.0",
       "_rendered": "\n<h1>Composer: </h1>\n<p></p>\n",
       "_view_module_version": "^0.1.0",
       "layout": "IPY_MODEL_d13eb0cf8883467aac6a6a182d27bbaf"
      }
     },
     "fe4e365338c14c73b6054c7c27de95e2": {
      "model_module": "@jupyter-widgets/controls",
      "model_module_version": "1.5.0",
      "model_name": "BoxModel",
      "state": {
       "children": [
        "IPY_MODEL_6b36456278334c0ba071091f77e31d9a"
       ],
       "layout": "IPY_MODEL_1953a4994eeb4f73938a3ba71e5cc93a",
       "view": "welcome"
      }
     },
     "fe59153b9bb4448c922c23be38a18586": {
      "model_module": "@jupyter-widgets/base",
      "model_module_version": "1.2.0",
      "model_name": "LayoutModel",
      "state": {}
     }
    },
    "version_major": 2,
    "version_minor": 0
   }
  }
 },
 "nbformat": 4,
 "nbformat_minor": 2
}
