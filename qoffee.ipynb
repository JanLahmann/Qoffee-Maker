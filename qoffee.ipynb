{
 "cells": [
  {
   "cell_type": "markdown",
   "metadata": {},
   "source": [
    "# Qoffee Maker"
   ]
  },
  {
   "cell_type": "code",
   "execution_count": null,
   "metadata": {},
   "outputs": [],
   "source": [
    "import os, time\n",
    "from random import randint\n",
    "from dotenv import load_dotenv\n",
    "import numpy as np\n",
    "load_dotenv();"
   ]
  },
  {
   "cell_type": "code",
   "execution_count": null,
   "metadata": {},
   "outputs": [],
   "source": [
    "from ibm_quantum_widgets import CircuitComposer\n",
    "from qiskit.circuit import QuantumCircuit\n",
    "from qiskit import transpile, IBMQ, execute\n",
    "from qiskit.providers.aer import QasmSimulator, StatevectorSimulator\n",
    "from qiskit import IBMQ\n",
    "from qiskit.providers.ibmq.exceptions import IBMQAccountError\n",
    "from qiskit.test.mock import FakeMontreal"
   ]
  },
  {
   "cell_type": "markdown",
   "metadata": {},
   "source": [
    "## Authenticate to IoT Backend"
   ]
  },
  {
   "cell_type": "code",
   "execution_count": null,
   "metadata": {},
   "outputs": [],
   "source": [
    "%%html\n",
    "<a class=\"btn btn-primary\" target=\"_blank\" href=\"/auth\">Login</a>"
   ]
  },
  {
   "cell_type": "code",
   "execution_count": null,
   "metadata": {},
   "outputs": [],
   "source": [
    "%%html\n",
    "<a class=\"btn btn-primary\" onclick=\"window.activateCoffeeMachine()\">Activate Coffee Machine</a>"
   ]
  },
  {
   "cell_type": "markdown",
   "metadata": {},
   "source": [
    "## Setup Circuits"
   ]
  },
  {
   "cell_type": "code",
   "execution_count": null,
   "metadata": {},
   "outputs": [],
   "source": [
    "try:\n",
    "    IBMQ.enable_account(os.getenv(\"IBMQ_API_KEY\"))\n",
    "except IBMQAccountError as e:\n",
    "    print(\"Got IBMAccountError\", e, \"probably due to re-execution\")\n",
    "\n",
    "provider = IBMQ.get_provider(hub=\"ibm-q-community\", group=\"presentations\")\n",
    "provider.backends()"
   ]
  },
  {
   "cell_type": "code",
   "execution_count": null,
   "metadata": {},
   "outputs": [],
   "source": [
    "backend_ideal = StatevectorSimulator()\n",
    "backend_qasm = QasmSimulator()\n",
    "backend_mock = FakeMontreal()\n",
    "backend_ibm = None \n",
    "# backend_ibm = provider.get_backend(\"ibmq_jakarta\")"
   ]
  },
  {
   "cell_type": "markdown",
   "metadata": {},
   "source": [
    "## Circuits"
   ]
  },
  {
   "cell_type": "code",
   "execution_count": null,
   "metadata": {},
   "outputs": [],
   "source": [
    "# empty\n",
    "qc0 = QuantumCircuit(3, 3)\n",
    "\n",
    "# cappucino\n",
    "qc1 = QuantumCircuit(3, 3)\n",
    "qc1.x(2)\n",
    "\n",
    "# coffee\n",
    "qc2 = QuantumCircuit(3, 3)\n",
    "qc2.x(0)\n",
    "qc2.h(1)\n",
    "qc2.z(1)\n",
    "qc2.h(1)\n",
    "\n",
    "# espresso\n",
    "qc3 = QuantumCircuit(3, 3)\n",
    "qc3.x(0)\n",
    "qc3.cx(0, 1)\n",
    "qc3.cx(1, 0)\n",
    "qc3.cx(0, 1)\n",
    "\n",
    "# anything\n",
    "qc4 = QuantumCircuit(3, 3)\n",
    "qc4.h(0)\n",
    "qc4.h(1)\n",
    "qc4.h(2)\n",
    "\n",
    "# without coffein\n",
    "qc5 = QuantumCircuit(3, 3)\n",
    "qc5.h(0)\n",
    "\n",
    "# nothing strong\n",
    "qc6 = QuantumCircuit(3, 3)\n",
    "qc6.h(0)\n",
    "qc6.x(2)\n",
    "\n",
    "# tea or coffee\n",
    "qc7 = QuantumCircuit(3, 3)\n",
    "qc7.h(0)\n",
    "qc7.cx(0, 1);\n"
   ]
  },
  {
   "cell_type": "code",
   "execution_count": null,
   "metadata": {},
   "outputs": [],
   "source": [
    "# gather circuits with some meta information in one object\n",
    "qcreg = [\n",
    "    {\n",
    "        \"id\": \"empty\",\n",
    "        \"name\": \"Start the Qoffee Maker\",\n",
    "        \"circuit\": qc0,\n",
    "        \"init_text\": \"\"\n",
    "    },\n",
    "    {\n",
    "        \"id\": \"cappucino\",\n",
    "        \"name\": \"Only Cappucino\",\n",
    "        \"circuit\": qc1,\n",
    "        \"init_text\": \"\"\n",
    "    },\n",
    "    {\n",
    "        \"id\": \"coffee\",\n",
    "        \"name\": \"Only Coffee\",\n",
    "        \"circuit\": qc2,\n",
    "        \"init_text\": \"\"\n",
    "    },\n",
    "    {\n",
    "        \"id\": \"espresso\",\n",
    "        \"name\": \"Only Espresso\",\n",
    "        \"circuit\": qc3,\n",
    "        \"init_text\": \"\"\n",
    "    },\n",
    "    {\n",
    "        \"id\": \"anything\",\n",
    "        \"name\": \"Just something to drink\",\n",
    "        \"circuit\": qc4,\n",
    "        \"init_text\": \"\"\n",
    "    },\n",
    "    {\n",
    "        \"id\": \"withoutcoffein\",\n",
    "        \"name\": \"Without caffein\",\n",
    "        \"circuit\": qc5,\n",
    "        \"init_text\": \"\"\n",
    "    },\n",
    "    {\n",
    "        \"id\": \"nothingstrong\",\n",
    "        \"name\": \"Nothing Strong\",\n",
    "        \"circuit\": qc6,\n",
    "        \"init_text\": \"\"\n",
    "    },\n",
    "    {\n",
    "        \"id\": \"teaorcoffee\",\n",
    "        \"name\": \"Tea or Coffee\",\n",
    "        \"circuit\": qc7,\n",
    "        \"init_text\": \"\"\n",
    "    }\n",
    "]"
   ]
  },
  {
   "cell_type": "code",
   "execution_count": null,
   "metadata": {},
   "outputs": [],
   "source": [
    "class CircuitExecutor:\n",
    "    \n",
    "    BIT_ORDER = ['000', '001', '010', '011', '100', '101', '110', '111']\n",
    "    \n",
    "    def __init__(self, circuit):\n",
    "        \"\"\"\n",
    "        Helper Class to execute circuits on different backends.\n",
    "        \"\"\"\n",
    "        self.circuit = circuit\n",
    "        \n",
    "    def _fill_with_zero(results):\n",
    "        \"\"\"\n",
    "        Make sure that all keys defined in BIT_ORDER are present in the resulting dict.\n",
    "        \"\"\"\n",
    "        for bit in CircuitExecutor.BIT_ORDER:\n",
    "            if bit not in results:\n",
    "                results[bit] = 0\n",
    "        return results\n",
    "    \n",
    "    def _probabilities_backend(self, backend, num_shots=800, seed=None, result_options={}, transpile_before=False):\n",
    "        \"\"\"\n",
    "        Calculate probabilities on a given backend.\n",
    "        \"\"\"\n",
    "        # copy current circuit\n",
    "        mqc = self.circuit.copy()\n",
    "        # add measurement\n",
    "        mqc.measure(range(3), range(3))\n",
    "        # transpile\n",
    "        mqc_transpiled = mqc if not transpile_before else transpile(mqc, backend)\n",
    "        # run job\n",
    "        job = backend.run(mqc_transpiled, shots=num_shots, seed=seed)\n",
    "        # get results\n",
    "        result = job.result(**result_options)\n",
    "        counts = result.get_counts(mqc_transpiled)\n",
    "        # divide by num_shots to get probabilities\n",
    "        assert num_shots == np.sum([c for c in counts.values()]), (num_shots, counts)\n",
    "        for b in counts:\n",
    "            counts[b] = float(counts[b])/num_shots\n",
    "        return CircuitExecutor._fill_with_zero(counts)\n",
    "    \n",
    "    \n",
    "    def get_maximum_key(results):\n",
    "        \"\"\"\n",
    "        Get the key which has the highest maximum\n",
    "        \"\"\"\n",
    "        max_key = max(results, key=results.get)\n",
    "        return max_key\n",
    "    \n",
    "    \n",
    "    def probabilities_qasm(self, num_shots=800):\n",
    "        \"\"\"\n",
    "        Calculate probabilities on QASM Simulator\n",
    "        \"\"\"\n",
    "        return self._probabilities_backend(backend_qasm, num_shots=num_shots, seed=randint(0, 2500), transpile_before=True)\n",
    "    \n",
    "    \n",
    "    def probabilities_mock(self, num_shots=800):\n",
    "        \"\"\"\n",
    "        Calculate probabilities on Mock Device\n",
    "        \"\"\"\n",
    "        return self._probabilities_backend(backend_mock, num_shots=num_shots, transpile_before=True)\n",
    "    \n",
    "    \n",
    "    def probabilities_ibmq(self, num_shots=1, secs_timeout=30):\n",
    "        \"\"\"\n",
    "        Calculate probabilities on IBM Q. If errors, fall back to mock device.\n",
    "        \"\"\"\n",
    "        try:\n",
    "            res = self._probabilities_backend(backend_ibm, num_shots=num_shots, result_options={\"timeout\": secs_timeout, \"wait\": 2}, transpile_before=True)\n",
    "            return res\n",
    "        except Exception as e:\n",
    "            print(\"Got error for running on IBM Q\", e)\n",
    "            return self.probabilities_mock(num_shots=num_shots)\n",
    "    \n",
    "    \n",
    "    def probabilities_analytical(self):\n",
    "        \"\"\"\n",
    "        Calculate probabilities using the state vector (analytical solution)\n",
    "        \"\"\"\n",
    "        mqc = self.circuit.copy()\n",
    "        # run circuit on state vector\n",
    "        result = execute(mqc, backend_ideal).result()\n",
    "        # get state vector and calculate probabilities\n",
    "        state_vector = result.get_statevector(mqc, decimals=5)\n",
    "        probs = state_vector.probabilities() if hasattr(state_vector, \"probabilities\") else np.abs(state_vector ** 2)\n",
    "        # map back to bit configurations\n",
    "        results = {\n",
    "            key: probs[i] for i, key in enumerate(CircuitExecutor.BIT_ORDER)\n",
    "        }\n",
    "        return CircuitExecutor._fill_with_zero(results)"
   ]
  },
  {
   "cell_type": "markdown",
   "metadata": {},
   "source": [
    "## Build App"
   ]
  },
  {
   "cell_type": "code",
   "execution_count": null,
   "metadata": {},
   "outputs": [],
   "source": [
    "from ipywidgets import Widget, Button, HTML, VBox, widgets, link, HBox\n",
    "import appwidgets\n",
    "from traitlets import Unicode, Dict, Int, Any, HasTraits, Bool\n",
    "from appwidgets import JsPyWidget\n",
    "import json"
   ]
  },
  {
   "cell_type": "markdown",
   "metadata": {},
   "source": [
    "### Build Data Model\n",
    "documentation of all options: https://api-docs.home-connect.com/programs-and-options?#coffee-machine"
   ]
  },
  {
   "cell_type": "code",
   "execution_count": null,
   "metadata": {},
   "outputs": [],
   "source": [
    "# gather drink metadata\n",
    "DRINKS = {\n",
    "    \"000\": {\n",
    "        \"id\": \"tea\",\n",
    "        \"name\": \"Tea\",\n",
    "        \"key\": \"NotImplemented\",\n",
    "        \"options\": {}\n",
    "    },\n",
    "    \"001\": {\n",
    "        \"id\": \"hotchocolate\",\n",
    "        \"name\": \"Hot Chocolate\",\n",
    "        \"key\": \"ConsumerProducts.CoffeeMaker.Program.Beverage.MilkFroth\",\n",
    "        \"options\": {}\n",
    "    },\n",
    "    \"010\": {\n",
    "        \"id\": \"espresso\",\n",
    "        \"name\": \"Espresso\",\n",
    "        \"key\": \"ConsumerProducts.CoffeeMaker.Program.Beverage.Espresso\",\n",
    "        \"options\": {\n",
    "            \"ConsumerProducts.CoffeeMaker.Option.FillQuantity\": 50\n",
    "        }\n",
    "    },\n",
    "    \"011\": {\n",
    "        \"id\": \"coffee\",\n",
    "        \"name\": \"Coffee\",\n",
    "        \"key\": \"ConsumerProducts.CoffeeMaker.Program.Beverage.Coffee\",\n",
    "        \"options\": {}\n",
    "    },\n",
    "    \"100\": {\n",
    "        \"id\": \"cappucino\",\n",
    "        \"name\": \"Cappucino\",\n",
    "        \"key\": \"ConsumerProducts.CoffeeMaker.Program.Beverage.Cappuccino\",\n",
    "        \"options\": {}\n",
    "    },\n",
    "    \"101\": {\n",
    "        \"id\": \"lattemacchiato\",\n",
    "        \"name\": \"Latte Macchiato\",\n",
    "        \"key\": \"ConsumerProducts.CoffeeMaker.Program.Beverage.LatteMacchiato\",\n",
    "        \"options\": {}\n",
    "    },\n",
    "    \"110\": {\n",
    "        \"id\": \"wienermelange\",\n",
    "        \"name\": \"Viennese Melange\",\n",
    "        \"key\": \"ConsumerProducts.CoffeeMaker.Program.CoffeeWorld.WienerMelange\",\n",
    "        \"options\": {}\n",
    "    },\n",
    "    \"111\": {\n",
    "        \"id\": \"americano\",\n",
    "        \"name\": \"Americano\",\n",
    "        \"key\": \"ConsumerProducts.CoffeeMaker.Program.CoffeeWorld.Americano\",\n",
    "        \"options\": {}\n",
    "    }\n",
    "}"
   ]
  },
  {
   "cell_type": "code",
   "execution_count": null,
   "metadata": {},
   "outputs": [],
   "source": [
    "# build a widget which represents the global app state\n",
    "data = Widget()\n",
    "data.add_traits(\n",
    "    # name of current circuit with which the composer was initialized\n",
    "    composer_init_circuit = Dict({\n",
    "        \"id\": \"empty\",\n",
    "        \"name\": \"\",\n",
    "        \"init_text\": \"\"\n",
    "    }).tag(sync=True),\n",
    "    # current ideal probabilities\n",
    "    histogram_anal = Dict({\n",
    "        key: 0 for key in DRINKS\n",
    "    }).tag(sync=True),\n",
    "    # current probabilities from ideal simulator\n",
    "    histogram_qasm = Dict({\n",
    "        key: 0 for key in DRINKS\n",
    "    }).tag(sync=True),\n",
    "    # current probabilities from mock device\n",
    "    histogram_mock = Dict({\n",
    "        key: 0 for key in DRINKS\n",
    "    }).tag(sync=True),\n",
    "    # id of drink from single shot measurement\n",
    "    single_shot_result = Dict({\n",
    "        \"name\": \"\",\n",
    "        \"id\": \"\",\n",
    "        \"bit\": \"\"\n",
    "    }).tag(sync=True),\n",
    "    # status of single shot measurements (0 = init, 1 = loading, 2 = done)\n",
    "    single_shot_status = Int().tag(sync=True),\n",
    "    # device on which to perform the single shot\n",
    "    single_shot_device = Unicode(\"simulator\").tag(sync=True),\n",
    "    # composer qasm\n",
    "    qasm = Unicode(\"\").tag(sync=True),\n",
    "    # check if real device is enabled\n",
    "    use_real_device = Bool(backend_ibm is not None).tag(sync=True),\n",
    "    # check if mock device results are shown\n",
    "    show_mock_results = Bool(False).tag(sync=True),\n",
    "    # check if qasm results are shown\n",
    "    show_qasm_results = Bool(False).tag(sync=True),\n",
    "    \n",
    "    #### VIEW RELATED\n",
    "    view = Unicode(\"\").tag(sync=True),\n",
    "    heading = Unicode(\"\").tag(sync=True)\n",
    ")"
   ]
  },
  {
   "cell_type": "markdown",
   "metadata": {},
   "source": [
    "### Setup the composer"
   ]
  },
  {
   "cell_type": "code",
   "execution_count": null,
   "metadata": {},
   "outputs": [],
   "source": [
    "composer = CircuitComposer(circuit=qcreg[0]['circuit'])"
   ]
  },
  {
   "cell_type": "code",
   "execution_count": null,
   "metadata": {},
   "outputs": [],
   "source": [
    "# on changes on the composer, execute the circuit to get probabilities\n",
    "def composer_update_handler(change_event):\n",
    "    # there are multiple change events, only use on\n",
    "    if change_event['name'] != \"circuit\":\n",
    "        return\n",
    "    executor = CircuitExecutor(composer.circuit)\n",
    "    # set to 0 because calc requires some time and one sees wrong results for a second or so\n",
    "    data.histogram_mock = {key: 0 for key in CircuitExecutor.BIT_ORDER}\n",
    "    # get and save ideal result\n",
    "    result_analytical = executor.probabilities_analytical()\n",
    "    data.histogram_anal = result_analytical\n",
    "    # get and save measurements\n",
    "    result_qasm = executor.probabilities_qasm()\n",
    "    data.histogram_qasm = result_qasm\n",
    "    # get and save qasm code\n",
    "    qasm = composer.circuit.qasm()\n",
    "    data.qasm = qasm\n",
    "    \n",
    "    # most time consuming :/\n",
    "    if data.show_mock_results:\n",
    "        result_mock = executor.probabilities_mock()\n",
    "        data.histogram_mock = result_mock\n",
    "    \n",
    "composer.observe(composer_update_handler)\n",
    "\n",
    "# execute the function above also on changes on data.show_mock_results and data.show_qasm_results\n",
    "data.observe(lambda x: composer_update_handler({\"name\": \"circuit\"}), names=[\"show_mock_results\", \"show_qasm_results\"])"
   ]
  },
  {
   "cell_type": "markdown",
   "metadata": {},
   "source": [
    "### Build app logic"
   ]
  },
  {
   "cell_type": "code",
   "execution_count": null,
   "metadata": {},
   "outputs": [],
   "source": [
    "# perform single shot measurement\n",
    "def get_single_shot_result():\n",
    "    data.single_shot_status = 1\n",
    "    executor = CircuitExecutor(composer.circuit)\n",
    "    counts = None\n",
    "    if data.single_shot_device == \"ibmq\":\n",
    "        counts = executor.probabilities_ibmq(num_shots=1, secs_timeout=30)\n",
    "    elif data.single_shot_device == \"mock\":\n",
    "        counts = executor.probabilities_mock(num_shots=1)\n",
    "    else:\n",
    "        counts = executor.probabilities_qasm(num_shots=1)\n",
    "        \n",
    "    bits = CircuitExecutor.get_maximum_key(counts)\n",
    "    data.single_shot_result = {\n",
    "        \"bit\": bits,\n",
    "        \"id\": DRINKS[bits][\"id\"],\n",
    "        \"name\": DRINKS[bits][\"name\"]\n",
    "    }\n",
    "    time.sleep(1.5)\n",
    "    data.single_shot_status = 2\n",
    "    return bits"
   ]
  },
  {
   "cell_type": "code",
   "execution_count": null,
   "metadata": {},
   "outputs": [],
   "source": [
    "# request a drink from the backend\n",
    "def request_drink():\n",
    "    # get result from single shot measurement\n",
    "    bit = data.single_shot_result['bit']\n",
    "    drink_key = DRINKS[bit]['key']\n",
    "    drink_options = DRINKS[bit]['options']\n",
    "    \n",
    "    def response_handler(res):\n",
    "        if 'error' in res:\n",
    "            # app.view = 'error'\n",
    "            data.single_shot_status = 4\n",
    "        else:\n",
    "            # app.view = 'success'\n",
    "            data.single_shot_status = 3\n",
    "    \n",
    "    jspy.execute_js(\n",
    "        \"window.requestDrink(\"+json.dumps(drink_key)+\", \"+json.dumps(drink_options)+\")\",\n",
    "        response_handler\n",
    "    )"
   ]
  },
  {
   "cell_type": "code",
   "execution_count": null,
   "metadata": {},
   "outputs": [],
   "source": [
    "# show the QR Code to open IBM Q with the current circuit\n",
    "def open_circuit_on_ibmq():\n",
    "    qasm = data.qasm\n",
    "    jspy.execute_js(\n",
    "        \"window.openQRCodeIBMQ(\"+json.dumps(qasm)+\")\",\n",
    "    )"
   ]
  },
  {
   "cell_type": "code",
   "execution_count": null,
   "metadata": {},
   "outputs": [],
   "source": [
    "# toggle a boolean attribute on data\n",
    "def toggle_data_attr(name):\n",
    "    setattr(data, name, not getattr(data, name))\n",
    "    \n",
    "    \n",
    "# toggle device to use for single shots\n",
    "def set_next_single_shot_device():\n",
    "    if data.single_shot_device == 'simulator':\n",
    "        data.single_shot_device = 'mock'\n",
    "    elif data.single_shot_device == 'mock':\n",
    "        if data.use_real_device:\n",
    "            data.single_shot_device = 'ibmq'\n",
    "        else:\n",
    "            data.single_shot_device = 'simulator'\n",
    "    elif data.single_shot_device == 'ibmq':\n",
    "        data.single_shot_device = 'simulator'\n",
    "    else:\n",
    "        data.single_shot_device = 'simulator'"
   ]
  },
  {
   "cell_type": "code",
   "execution_count": null,
   "metadata": {},
   "outputs": [],
   "source": [
    "## functions to load specific views\n",
    "\n",
    "# load welcome view\n",
    "def load_welcome():\n",
    "    data.view = 'welcome'\n",
    "    data.heading = \"Qoffee Maker powered by <b>IBM Quantum</b>\"\n",
    "    \n",
    "\n",
    "# load starting point (set circuit in composer, reset some attributes, ...)\n",
    "def load_starting_point(circuit_id):\n",
    "    circuit_data = next(filter(lambda x: x['id'] == circuit_id, qcreg))\n",
    "    data.composer_init_circuit = {\n",
    "        \"id\": circuit_data[\"id\"],\n",
    "        \"name\": circuit_data[\"name\"],\n",
    "        \"init_text\": circuit_data[\"init_text\"]\n",
    "    }\n",
    "    data.single_shot_device = 'simulator'\n",
    "    data.single_shot_status = 0\n",
    "    composer.circuit = circuit_data['circuit']\n",
    "    data.show_mock_results = False\n",
    "    data.show_qasm_results = False\n",
    "    # data.heading = \"Composer: \"+circuit_data[\"name\"]\n",
    "    data.view = 'composer'"
   ]
  },
  {
   "cell_type": "markdown",
   "metadata": {},
   "source": [
    "### Build views"
   ]
  },
  {
   "cell_type": "code",
   "execution_count": null,
   "metadata": {},
   "outputs": [],
   "source": [
    "app = appwidgets.AppBox(init_view='welcome')\n",
    "link((app, \"view\"), (data, \"view\"))\n",
    "jspy = JsPyWidget()"
   ]
  },
  {
   "cell_type": "markdown",
   "metadata": {},
   "source": [
    "#### Header"
   ]
  },
  {
   "cell_type": "code",
   "execution_count": null,
   "metadata": {},
   "outputs": [],
   "source": [
    "header = appwidgets.ReactiveHtmlWidget(\"\"\"\n",
    "    <div id=\"header\">\n",
    "        <img src=\"css/QoffeeMug.png\"/>\n",
    "        <h1>${heading}</h1>\n",
    "        <div id=\"navigation-container\">\n",
    "            <button id=\"navigation-button-q\" data-device=\"${single_shot_device}\" data-rh-exec='set_next_single_shot_device()'>Q</button>\n",
    "            <button id=\"navigation-button-back\" data-rh-if=\"${view} != 'welcome'\" class=\"navigation-button\" data-rh-exec=\"load_welcome()\">&#5130;</button>\n",
    "            <button id=\"navigation-button-help\" data-rh-exec-js='window.openQRCode(\"http://qoffee-maker.org\", \"http://qoffee-maker.org\")'>?</button>\n",
    "        </div>\n",
    "    </div>\n",
    "\"\"\", data_model=data)\n",
    "header.load_css(\"./css/header.css\")\n",
    "data.heading = \"Qoffee Maker powered by <b>IBM Quantum</b>\""
   ]
  },
  {
   "cell_type": "markdown",
   "metadata": {},
   "source": [
    "#### Welcome View"
   ]
  },
  {
   "cell_type": "code",
   "execution_count": null,
   "metadata": {},
   "outputs": [],
   "source": [
    "# helper function to get html code\n",
    "def get_circuit_selection_html(circuit_id, width=12):\n",
    "    circuit_data = next(filter(lambda x: x['id'] == circuit_id, qcreg))\n",
    "    return \"\"\"\n",
    "    <div class=\"col-md-\"\"\"+str(width)+\"\"\"\">\n",
    "        <div class=\"card\" data-rh-exec=\"load_starting_point('\"\"\"+circuit_id+\"\"\"')\">\n",
    "          <div class=\"card-body\">\n",
    "            <h5 class=\"card-title\">\"\"\"+circuit_data['name']+\"\"\"</h5>\n",
    "            <p class=\"card-text\">\"\"\"+circuit_data['init_text']+\"\"\"</p>\n",
    "            <span class=\"arrow\">→</span>\n",
    "          </div>\n",
    "        </div>\n",
    "    </div>\n",
    "    \"\"\""
   ]
  },
  {
   "cell_type": "code",
   "execution_count": null,
   "metadata": {},
   "outputs": [],
   "source": [
    "view_welcome_content = appwidgets.ReactiveHtmlWidget(\"\"\"\n",
    "    <div id=\"view-welcome\" class=\"app-view-content\">\n",
    "        <h3>Welcome to the Qoffee Maker</h3>\n",
    "        <br/>\n",
    "        <div class=\"row mt-4\">\n",
    "            <div class=\"col-md-12\">\n",
    "                <div class=\"row align-items-stretch card-primary\">\"\"\"+\n",
    "                    get_circuit_selection_html('empty', 3)\n",
    "                +\"\"\"\n",
    "                </div>\n",
    "            </div>\n",
    "        </div>\n",
    "        <br/>\n",
    "        <br/>\n",
    "        <br/>\n",
    "        <div class=\"row mt-4\">\n",
    "            <div class=\"col-md-12\">\n",
    "                <h4>Start with the examples from qoffee-maker.org</h4>\n",
    "                <div class=\"row align-items-stretch\">\"\"\"+\n",
    "                    get_circuit_selection_html('anything', 3) +\n",
    "                    get_circuit_selection_html('cappucino', 3) +\n",
    "                    get_circuit_selection_html('withoutcoffein', 3) + \n",
    "                    get_circuit_selection_html('nothingstrong', 3) + \n",
    "                    get_circuit_selection_html('teaorcoffee', 3)\n",
    "                +\"\"\"\n",
    "                </div>\n",
    "            </div>\n",
    "        </div>\n",
    "    </div>\n",
    "\"\"\")\n",
    "\n",
    "view_welcome_content.load_css(\"./css/view_welcome.css\")"
   ]
  },
  {
   "cell_type": "code",
   "execution_count": null,
   "metadata": {},
   "outputs": [],
   "source": [
    "view_welcome = VBox([header, view_welcome_content])"
   ]
  },
  {
   "cell_type": "markdown",
   "metadata": {},
   "source": [
    "#### Composer View"
   ]
  },
  {
   "cell_type": "code",
   "execution_count": null,
   "metadata": {},
   "outputs": [],
   "source": [
    "# Introtext\n",
    "#view_composer_intro = appwidgets.ReactiveHtmlWidget(\"\"\"\n",
    "#    <p>{{${composer_init_circuit}['init_text']}}</p>\n",
    "#\"\"\", data_model=data)\n",
    "view_composer_intro = appwidgets.ReactiveHtmlWidget(\"\"\"\n",
    "    <p>Drag & Drop Quantum Gates onto the Qubits to build your circuit. <span data-rh-exec=\"load_welcome()\">Go back</span>.</p>\n",
    "\"\"\")\n",
    "view_composer_intro.load_css(\"./css/view_composer_intro.css\")\n",
    "\n",
    "# Histogram\n",
    "hist_html = \"\"\n",
    "for key, value in DRINKS.items():\n",
    "    hist_html += \"\"\"\n",
    "        <div class=\"histogram-entry\">\n",
    "            <div class=\"histogram-text-container-pre\">\n",
    "                <p><span class=\"histogram-text histogram-text-ideal histogram-text-\"\"\"+key+\"\"\"\"\">{{int(${histogram_anal}['\"\"\"+key+\"\"\"']*1000)/10}}%</span></p>\n",
    "            </div>\n",
    "            <div class=\"histogram-bar-container\">\n",
    "                <div class=\"histogram-bar-outer\">\n",
    "                    <div data-rh-if=\"${show_qasm_results}\" style=\"height: {{${histogram_qasm}['\"\"\"+key+\"\"\"']*100}}%\" class=\"histogram-bar histogram-bar-qasm histogram-bar-\"\"\"+key+\"\"\"\"></div>\n",
    "                    <div style=\"height: {{${histogram_anal}['\"\"\"+key+\"\"\"']*100}}%\" class=\"histogram-bar histogram-bar-anal histogram-bar-\"\"\"+key+\"\"\"\"></div>\n",
    "                    <div data-rh-if=\"${show_mock_results}\" style=\"height: {{${histogram_mock}['\"\"\"+key+\"\"\"']*100}}%\" class=\"histogram-bar histogram-bar-mock histogram-bar-\"\"\"+key+\"\"\"\"></div>\n",
    "                </div>\n",
    "            </div>\n",
    "            <div class=\"histogram-text-container-post\">\n",
    "                <p>\"\"\"+key+\"\"\"<br/><br/>\"\"\"+value[\"name\"]+\"\"\"</p>\n",
    "            </div>\n",
    "        </div>\n",
    "    \"\"\"\n",
    "    \n",
    "view_composer_button_bar = appwidgets.ReactiveHtmlWidget(\"\"\"\n",
    "    <div id=\"view-composer-hist-header\">\n",
    "        <h3>Measurement Probabilities</h3>\n",
    "    </div>\n",
    "    <div id=\"view-composer-button-bar\">\n",
    "        <button id=\"view-composer-show-theo-btn\" data-active=\"True\" class=\"btn btn-default\">Theoretical</button>\n",
    "        <button id=\"view-composer-show-qasm-btn\" data-active=\"${show_qasm_results}\" class=\"btn btn-default\" data-rh-exec=\"toggle_data_attr('show_qasm_results')\">Simulator (error free)</button>\n",
    "        <button id=\"view-composer-show-mock-btn\" data-active=\"${show_mock_results}\" class=\"btn btn-default mr-4\" data-rh-exec=\"toggle_data_attr('show_mock_results')\">Simulator (real quantum device)</button>\n",
    "        <button class=\"btn btn-default mr-4\" data-rh-exec=\"open_circuit_on_ibmq()\">Export to IBM Quantum Composer</button>\n",
    "    </div>\n",
    "    \n",
    "\"\"\", data_model=data)\n",
    "view_composer_button_bar.load_css(\"./css/view_composer_button_bar.css\")\n",
    "\n",
    "view_composer_hist = appwidgets.ReactiveHtmlWidget(\"\"\"\n",
    "<div id=\"view-composer-hist-container\">\n",
    "    <div id=\"view-composer-hist\">\"\"\"+hist_html+\"\"\"</div>\n",
    "</div>\n",
    "\"\"\", data_model=data)\n",
    "view_composer_hist.load_css(\"./css/view_composer_hist.css\")\n",
    "\n",
    "def _createOpenmojiImageCode(openmojiId: str, altText: str) -> str:\n",
    "    return f\"<img src='icons/openmoji-svg-color/{openmojiId}.svg' alt='{altText}' style='margin-left: auto; margin-right: auto; width: 50%''>\"\n",
    "\n",
    "drinkImgCode = _createOpenmojiImageCode('2615', 'Hot beverage')\n",
    "successImgCode = _createOpenmojiImageCode('1F44D', 'Thumbs up')\n",
    "failureImgCode = _createOpenmojiImageCode('1F635', 'Knocked-out face')\n",
    "\n",
    "singleShotComposerCode = \"\"\"\n",
    "    <div id=\"view-composer-singleshot-container\">\n",
    "        <div id=\"view-composer-singleshot\">\n",
    "            <button class=\"btn btn-primary btn-block\" data-rh-exec=\"get_single_shot_result()\">Determine your beverage</button>\n",
    "            <br/>\n",
    "            <div data-rh-if='${single_shot_status}==1' class=\"width-100\">\n",
    "                <p style=\"width: 100%; text-align: center;\">Loading...\n",
    "            </div>\n",
    "            <div id=\"view-composer-singleshot-result\"data-rh-if='${single_shot_status}==2' class=\"view-composer-order-text width-100\">\n",
    "                <p>\"\"\" + drinkImgCode + \"\"\"<br>{{${single_shot_result}[\"name\"]}}</p>\n",
    "                <button class=\"btn btn-primary btn-block\" data-rh-exec=\"request_drink()\">Order Drink →</button>\n",
    "            </div>\n",
    "            <div data-rh-if='${single_shot_status}==3' class=\"view-composer-order-text width-100\">\n",
    "                <p>\"\"\" + successImgCode + \"\"\"<br>Thank you and enjoy your drink</p>\n",
    "                <button class=\"btn btn-primary btn-block\" data-rh-exec=\"load_welcome()\">Back</button>\n",
    "            </div>\n",
    "            <div data-rh-if='${single_shot_status}==4' class=\"view-composer-order-text width-100\">\n",
    "                <p>\"\"\" + failureImgCode + \"\"\"<br>Oh no, something went wrong.</p>\n",
    "                <button class=\"btn btn-primary btn-block\" data-rh-exec=\"load_welcome()\">Back</button>\n",
    "            </div>\n",
    "            <br/> \n",
    "        </div>\n",
    "    </div>\n",
    "\"\"\"\n",
    "        \n",
    "# Single Shot\n",
    "view_composer_singleshot = appwidgets.ReactiveHtmlWidget(singleShotComposerCode, data_model=data)\n",
    "view_composer_singleshot.load_css(\"./css/view_composer_singleshot.css\")"
   ]
  },
  {
   "cell_type": "code",
   "execution_count": null,
   "metadata": {},
   "outputs": [],
   "source": [
    "# assemble composer view\n",
    "view_composer = VBox([\n",
    "    header,\n",
    "    VBox([\n",
    "        view_composer_intro,\n",
    "        composer,\n",
    "        HBox([\n",
    "            VBox([\n",
    "                view_composer_button_bar,\n",
    "                view_composer_hist\n",
    "            ]).add_class(\"width-80\"),\n",
    "            view_composer_singleshot.add_class(\"width-20\")\n",
    "        ])\n",
    "    ]).add_class(\"app-view-content\")  \n",
    "])"
   ]
  },
  {
   "cell_type": "markdown",
   "metadata": {},
   "source": [
    "#### Error View"
   ]
  },
  {
   "cell_type": "code",
   "execution_count": null,
   "metadata": {},
   "outputs": [],
   "source": [
    "view3_content = appwidgets.ReactiveHtmlWidget(f\"\"\"\n",
    "    <div class=\"app-view-content\">\n",
    "        <h1>Oh no, something went wrong{failureImgCode}<br></h1>\n",
    "    </div>\n",
    "\"\"\")\n",
    "\n",
    "view_fail = VBox([\n",
    "    header,\n",
    "    view3_content\n",
    "])"
   ]
  },
  {
   "cell_type": "markdown",
   "metadata": {},
   "source": [
    "#### Success View"
   ]
  },
  {
   "cell_type": "code",
   "execution_count": null,
   "metadata": {},
   "outputs": [],
   "source": [
    "view4_content = appwidgets.ReactiveHtmlWidget(\"\"\"\n",
    "    <div class=\"app-view-content\">\n",
    "        <h1>Thank you and enjoy your drink ☕️</h1>\n",
    "    </div>\n",
    "\"\"\")\n",
    "\n",
    "view_success = VBox([\n",
    "    header,\n",
    "    view4_content\n",
    "])"
   ]
  },
  {
   "cell_type": "markdown",
   "metadata": {},
   "source": [
    "### Assemble View"
   ]
  },
  {
   "cell_type": "code",
   "execution_count": null,
   "metadata": {},
   "outputs": [],
   "source": [
    "app.add_widget('welcome', view_welcome)\n",
    "app.add_widget('composer', view_composer)\n",
    "app.add_widget('error', view_fail)\n",
    "app.add_widget('success', view_success)"
   ]
  },
  {
   "cell_type": "markdown",
   "metadata": {},
   "source": [
    "# Show App"
   ]
  },
  {
   "cell_type": "code",
   "execution_count": null,
   "metadata": {
    "scrolled": false
   },
   "outputs": [],
   "source": [
    "### APP\n",
    "app"
   ]
  },
  {
   "cell_type": "code",
   "execution_count": null,
   "metadata": {},
   "outputs": [],
   "source": []
  },
  {
   "cell_type": "code",
   "execution_count": null,
   "metadata": {},
   "outputs": [],
   "source": []
  }
 ],
 "metadata": {
  "kernelspec": {
   "display_name": "Python 3 (ipykernel)",
   "language": "python",
   "name": "python3"
  },
  "language_info": {
   "codemirror_mode": {
    "name": "ipython",
    "version": 3
   },
   "file_extension": ".py",
   "mimetype": "text/x-python",
   "name": "python",
   "nbconvert_exporter": "python",
   "pygments_lexer": "ipython3",
   "version": "3.9.12"
  },
  "widgets": {
   "application/vnd.jupyter.widget-state+json": {
    "state": {
     "002cbfc956aa412285283456bf5b0b03": {
      "model_module": "@jupyter-widgets/controls",
      "model_module_version": "1.5.0",
      "model_name": "VBoxModel",
      "state": {
       "children": [
        "IPY_MODEL_372e0bc42b5149208000babbb5c41c08",
        "IPY_MODEL_beeac276955d47ecbbee456e346e839e"
       ],
       "layout": "IPY_MODEL_209d12eb5b674234b9eb7c1083aba9b6"
      }
     },
     "00cd1ad516c74434bf1ddb21291a02a0": {
      "model_module": "@jupyter-widgets/base",
      "model_module_version": "1.2.0",
      "model_name": "LayoutModel",
      "state": {}
     },
     "025789d785574f4a8bc2ddb917a79581": {
      "model_module": "@jupyter-widgets/base",
      "model_module_version": "1.2.0",
      "model_name": "LayoutModel",
      "state": {}
     },
     "03b190ab9bbb4a7e858c3688c35e32d2": {
      "model_module": "@jupyter-widgets/controls",
      "model_module_version": "1.5.0",
      "model_name": "BoxModel",
      "state": {
       "_dom_classes": [
        "app-appbox"
       ],
       "children": [
        "IPY_MODEL_bebd40adfa41434892166b3162847f0a"
       ],
       "layout": "IPY_MODEL_39a2be52042344a6b8a58f4a0ae3ced7",
       "view": "composer"
      }
     },
     "03ff2564ff584580b847beb5ff3d3ec3": {
      "model_module": "@jupyter-widgets/controls",
      "model_module_version": "1.5.0",
      "model_name": "VBoxModel",
      "state": {
       "children": [
        "IPY_MODEL_372e0bc42b5149208000babbb5c41c08",
        "IPY_MODEL_df97d592d63648cf9d47898bb5f9e573"
       ],
       "layout": "IPY_MODEL_614698d93e9e45b7baccceac6076f2ee"
      }
     },
     "061eca6acf854f1181176a223e1fec0c": {
      "model_module": "@jupyter-widgets/base",
      "model_module_version": "1.2.0",
      "model_name": "LayoutModel",
      "state": {}
     },
     "06314c25133e4812ae7dda2a6f08cf1b": {
      "model_module": "appwidgets",
      "model_module_version": "^0.1.0",
      "model_name": "ReactiveHtmlModel",
      "state": {
       "_css": "",
       "_model_module_version": "^0.1.0",
       "_rendered": "\n<div class=\"app-view-content\">\n<h1>Thank you and enjoy your drink ☕️</h1>\n</div>\n",
       "_view_module_version": "^0.1.0",
       "layout": "IPY_MODEL_f8d549a8fc5a4f128901950f64b409f8"
      }
     },
     "073dbf89af8f40f19eed3f215d6832e5": {
      "model_module": "@jupyter-widgets/base",
      "model_module_version": "1.2.0",
      "model_name": "LayoutModel",
      "state": {}
     },
     "0824d90a6524433da9b8c7cca4c64bd5": {
      "model_module": "appwidgets",
      "model_module_version": "^0.1.0",
      "model_name": "ReactiveHtmlModel",
      "state": {
       "_css": "\n.<<VIEW_ID>> #view-composer-singleshot button {\n\n    font-size: 1.5em;\n\n}\n\n\n\n.<<VIEW_ID>> #view-composer-singleshot button.btn-primary {\n\n    color: white;\n\n    background-color: rgba(40, 105, 245);\n\n    border-color: rgba(40, 105, 245);\n\n    border-radius: 0;\n\n}\n\n\n\n\n\n.<<VIEW_ID>> .view-composer-order-text p {\n\n    margin-top: 20px;\n\n    margin-bottom: 30px;\n\n    width: 100%;\n\n    text-align: center;\n\n    font-size: 3em;\n\n    line-height: 1.2;\n\n}",
       "_dom_classes": [
        "width-20"
       ],
       "_model_module_version": "^0.1.0",
       "_rendered": "\n<div id=\"view-composer-singleshot-container\">\n<div id=\"view-composer-singleshot\">\n<button class=\"btn btn-primary btn-block\" data-rh-exec=\"get_single_shot_result()\">Determine your beverage</button>\n<br/>\n\n\n\n<div class=\"view-composer-order-text width-100\" data-rh-if=\"4==4\">\n<p><img alt=\"Knocked-out face\" src=\"icons/openmoji-svg-color/1F635.svg\"/><br/>Oh no, something went wrong.</p>\n<button class=\"btn btn-primary btn-block\" data-rh-exec=\"load_welcome()\">Back</button>\n</div>\n<br>\n</br></div>\n</div>\n",
       "_view_module_version": "^0.1.0",
       "layout": "IPY_MODEL_e9e404eaef79437683ca55eaaeecefbc"
      }
     },
     "0983961fc44a4681828650430ffc495e": {
      "model_module": "@quantum/ibm-q-lab-widgets",
      "model_module_version": "^1.0.3",
      "model_name": "CircuitComposerModel",
      "state": {
       "_model_module_version": "^1.0.3",
       "_view_module_version": "^1.0.3",
       "circuit": "\"OPENQASM 2.0;\\ninclude \\\"qelib1.inc\\\";\\n\\nqreg q[3];\\ncreg c[3];\\n\\nh q[0];\"",
       "editable": true,
       "layout": "IPY_MODEL_56fd32c496434def8e3c6c213a0d3270",
       "qiskit_code_cell_index": -1
      }
     },
     "09f13fe5dde644648ac16361f65d42c9": {
      "model_module": "appwidgets",
      "model_module_version": "^0.1.0",
      "model_name": "ReactiveHtmlModel",
      "state": {
       "_css": "\n.<<VIEW_ID>> #view-welcome h3 {\n\n    font-size: 2em;\n\n}\n\n\n\n.<<VIEW_ID>> #view-welcome h4, #view-welcome h5 {\n\n    font-size: 1.7em;\n\n    margin-bottom: 1em;\n\n}\n\n\n\n.<<VIEW_ID>> #view-welcome .card {\n\n    padding: 10px 10px 30px 10px;\n\n    margin: 2px;\n\n    background-color: rgba(244, 244, 244);\n\n    height: 180px; /*calc(100% - 4px);*/\n\n    border-radius: 0;\n\n    border-width: 0;\n\n    position: relative;\n\n    cursor: pointer;\n\n}\n\n\n\n.<<VIEW_ID>> #view-welcome .card-primary .card {\n\n    background-color: rgba(40, 105, 245);\n\n    color: white;\n\n}\n\n\n\n.<<VIEW_ID>> #view-welcome p {\n\n    font-size: 1.3em;\n\n}\n\n\n\n.<<VIEW_ID>> #view-welcome span.arrow {\n\n    color: rgba(40, 105, 245);\n\n    position: absolute;\n\n    bottom: 10px;\n\n    left: 20px;\n\n    font-size: 1.5em;\n\n}\n\n\n\n.<<VIEW_ID>> #view-welcome .card-primary span.arrow {\n\n    color: white;\n\n}\n\n\n\n.<<VIEW_ID>> #view-welcome .mt-4 {\n\n    margin-top: 20px;\n\n}",
       "_model_module_version": "^0.1.0",
       "_rendered": "\n<div class=\"app-view-content\" id=\"view-welcome\">\n<h3>Welcome to the Qoffee Maker</h3>\n<br/>\n<div class=\"row mt-4\">\n<div class=\"col-md-12\">\n<div class=\"row align-items-stretch card-primary\">\n<div class=\"col-md-3\">\n<div class=\"card\" data-rh-exec=\"load_starting_point('empty')\">\n<div class=\"card-body\">\n<h5 class=\"card-title\">Start the Qoffee Maker</h5>\n<p class=\"card-text\"></p>\n<span class=\"arrow\">→</span>\n</div>\n</div>\n</div>\n</div>\n</div>\n</div>\n<br/>\n<br/>\n<br/>\n<div class=\"row mt-4\">\n<div class=\"col-md-12\">\n<h4>Start with the examples from qoffee-maker.org</h4>\n<div class=\"row align-items-stretch\">\n<div class=\"col-md-3\">\n<div class=\"card\" data-rh-exec=\"load_starting_point('anything')\">\n<div class=\"card-body\">\n<h5 class=\"card-title\">Just something to drink</h5>\n<p class=\"card-text\"></p>\n<span class=\"arrow\">→</span>\n</div>\n</div>\n</div>\n<div class=\"col-md-3\">\n<div class=\"card\" data-rh-exec=\"load_starting_point('cappucino')\">\n<div class=\"card-body\">\n<h5 class=\"card-title\">Only Cappucino</h5>\n<p class=\"card-text\"></p>\n<span class=\"arrow\">→</span>\n</div>\n</div>\n</div>\n<div class=\"col-md-3\">\n<div class=\"card\" data-rh-exec=\"load_starting_point('withoutcoffein')\">\n<div class=\"card-body\">\n<h5 class=\"card-title\">Without caffein</h5>\n<p class=\"card-text\"></p>\n<span class=\"arrow\">→</span>\n</div>\n</div>\n</div>\n<div class=\"col-md-3\">\n<div class=\"card\" data-rh-exec=\"load_starting_point('nothingstrong')\">\n<div class=\"card-body\">\n<h5 class=\"card-title\">Nothing Strong</h5>\n<p class=\"card-text\"></p>\n<span class=\"arrow\">→</span>\n</div>\n</div>\n</div>\n<div class=\"col-md-3\">\n<div class=\"card\" data-rh-exec=\"load_starting_point('teaorcoffee')\">\n<div class=\"card-body\">\n<h5 class=\"card-title\">Tea or Coffee</h5>\n<p class=\"card-text\"></p>\n<span class=\"arrow\">→</span>\n</div>\n</div>\n</div>\n</div>\n</div>\n</div>\n</div>\n",
       "_view_module_version": "^0.1.0",
       "layout": "IPY_MODEL_26ff06e694bc47948ec158ee8a80aa50"
      }
     },
     "0ae7fc2e01e340a68c90179e311e4d4b": {
      "model_module": "appwidgets",
      "model_module_version": "^0.1.0",
      "model_name": "ReactiveHtmlModel",
      "state": {
       "_css": "\n.<<VIEW_ID>> #view-composer-singleshot button {\n\n    font-size: 1.5em;\n\n}\n\n\n\n.<<VIEW_ID>> #view-composer-singleshot button.btn-primary {\n\n    color: white;\n\n    background-color: rgba(40, 105, 245);\n\n    border-color: rgba(40, 105, 245);\n\n    border-radius: 0;\n\n}\n\n\n\n\n\n.<<VIEW_ID>> .view-composer-order-text p {\n\n    margin-top: 20px;\n\n    margin-bottom: 30px;\n\n    width: 100%;\n\n    text-align: center;\n\n    font-size: 3em;\n\n    line-height: 1.2;\n\n}",
       "_model_module_version": "^0.1.0",
       "_rendered": "\n<div id=\"view-composer-singleshot-container\">\n<div id=\"view-composer-singleshot\">\n<button class=\"btn btn-primary btn-block\" data-rh-exec=\"get_single_shot_result()\">Determine your beverage</button>\n<br/>\n\n\n<div class=\"view-composer-order-text width-100\" data-rh-if=\"3==3\">\n<p><img alt=\"Thumbs up\" src=\"icons/openmoji-svg-color/1F44D.svg\"/><br/>Thank you and enjoy your drink</p>\n<button class=\"btn btn-primary btn-block\" data-rh-exec=\"load_welcome()\">Back</button>\n</div>\n\n<br>\n</br></div>\n</div>\n",
       "_view_module_version": "^0.1.0",
       "layout": "IPY_MODEL_34263cedb34c4ec9b03cf7a07e503f2a"
      }
     },
     "0b24705746944754aa026b119072bbb3": {
      "model_module": "appwidgets",
      "model_module_version": "^0.1.0",
      "model_name": "ReactiveHtmlModel",
      "state": {
       "_css": "\n.<<VIEW_ID>> #view-composer-button-bar button {\n\n    border-radius: 0;\n\n    font-size: 1.5em;\n\n}\n\n\n\n.<<VIEW_ID>> #view-composer-show-theo-btn {\n\n    border-left-width: 10px;\n\n    border-color: rgb(40, 105, 245);\n\n}\n\n\n\n.<<VIEW_ID>> #view-composer-show-qasm-btn {\n\n    border-left-width: 10px;\n\n    border-color: rgb(116, 0, 123);\n\n}\n\n\n\n.<<VIEW_ID>> #view-composer-show-mock-btn {\n\n    border-left-width: 10px;\n\n    border-color: rgb(0, 135, 92);\n\n}\n\n\n\n.<<VIEW_ID>> #view-composer-show-theo-btn[data-active=\"True\"] {\n\n    background-color:rgba(40, 105, 245, 0.4);\n\n}\n\n\n\n.<<VIEW_ID>> #view-composer-show-qasm-btn[data-active=\"True\"] {\n\n    background-color:rgba(116, 0, 123, 0.4);\n\n}\n\n\n\n.<<VIEW_ID>> #view-composer-show-mock-btn[data-active=\"True\"] {\n\n    background-color:rgba(0, 135, 92, 0.4);\n\n}\n\n\n\n.<<VIEW_ID>> #view-composer-button-bar .mr-4 {\n\n    margin-right: 20px;\n\n}\n\n\n\n.<<VIEW_ID>> #view-composer-hist-header h3 {\n\n    font-size: 2em;\n\n    margin-bottom: 20px;\n\n}",
       "_model_module_version": "^0.1.0",
       "_rendered": "\n<div id=\"view-composer-hist-header\">\n<h3>Measurement Probabilities</h3>\n</div>\n<div id=\"view-composer-button-bar\">\n<button class=\"btn btn-default\" data-active=\"True\" id=\"view-composer-show-theo-btn\">Theoretical</button>\n<button class=\"btn btn-default\" data-active=\"False\" data-rh-exec=\"toggle_data_attr('show_qasm_results')\" id=\"view-composer-show-qasm-btn\">Simulator (error free)</button>\n<button class=\"btn btn-default mr-4\" data-active=\"False\" data-rh-exec=\"toggle_data_attr('show_mock_results')\" id=\"view-composer-show-mock-btn\">Simulator (real quantum device)</button>\n<button class=\"btn btn-default mr-4\" data-rh-exec=\"open_circuit_on_ibmq()\">Export to IBM Quantum Composer</button>\n</div>\n",
       "_view_module_version": "^0.1.0",
       "layout": "IPY_MODEL_cead508461084912b0b4a558b4495d99"
      }
     },
     "0b53395484354ecf879cf50a3efa8b41": {
      "model_module": "appwidgets",
      "model_module_version": "^0.1.0",
      "model_name": "ReactiveHtmlModel",
      "state": {
       "_css": "\n/*\n\n\tHistogram\n\n*/\n\n.<<VIEW_ID>> #view-composer-hist-container {\n\n\twidth: 100%;\n\n\tpadding: 0 50px 0 10px;\n\n    margin-top: 50px;\n\n}\n\n.<<VIEW_ID>> #view-composer-hist-container #view-composer-hist {\n\n\twidth: 100%;\n\n\theight: 100%;\n\n\tdisplay: flex;\n\n\tflex-direction: row;\n\n\tjustify-content: space-evenly;\n\n\talign-items: stretch;\n\n}\n\n.<<VIEW_ID>> #view-composer-hist-container .histogram-entry {\n\n\tposition: relative;\n\n\tflex: 0 0 12.5%;\n\n}\n\n.<<VIEW_ID>> #view-composer-hist-container .histogram-entry p {\n\n\ttext-align: center;\n\n    font-size: 1.5em;\n\n}\n\n.<<VIEW_ID>> #view-composer-hist-container .histogram-bar-container {\n\n\tposition: relative;\n\n\theight: 25vh;\n\n}\n\n.<<VIEW_ID>> #view-composer-hist-container .histogram-bar-outer {\n\n\twidth: 60px;\n\n\tleft: 50%;\n\n\tmargin-left: -30px;\n\n\theight: 100%;\n\n\tposition: relative;\n\n\t/* background-color: lightgray; */\n\n}\n\n.<<VIEW_ID>> #view-composer-hist-container .histogram-bar {\n\n\tposition: absolute;\n\n\tbottom: 0;\n\n\theight: 0;\n\n\twidth: 33%;\n\n}\n\n\n\n.<<VIEW_ID>> #view-composer-hist-container .histogram-bar-qasm {\n\n\tbackground-color: rgb(116, 0, 123);\n\n\tleft: 0%;\n\n}\n\n.<<VIEW_ID>> #view-composer-hist-container .histogram-bar-anal {\n\n\tbackground-color: rgba(40, 105, 245);\n\n\tleft: 33%;\n\n}\n\n.<<VIEW_ID>> #view-composer-hist-container .histogram-bar-mock {\n\n\tbackground-color: rgb(0, 135, 92);\n\n\tleft: 66%;\n\n}\n\n\n\n.<<VIEW_ID>> #view-composer-hist-container .histogram-text-container-pre {\n\n    margin-bottom: 20px;\n\n}\n\n\n\n.<<VIEW_ID>> #view-composer-hist-container .histogram-text-container-post {\n\n    margin-top: 20px;\n\n\tmargin-bottom: 10px;\n\n}",
       "_model_module_version": "^0.1.0",
       "_rendered": "\n<div id=\"view-composer-hist-container\">\n<div id=\"view-composer-hist\">\n<div class=\"histogram-entry\">\n<div class=\"histogram-text-container-pre\">\n<p><span \"=\"\" class=\"histogram-text histogram-text-ideal histogram-text-000\">50.0%</span></p>\n</div>\n<div class=\"histogram-bar-container\">\n<div class=\"histogram-bar-outer\">\n\n<div class=\"histogram-bar histogram-bar-anal histogram-bar-000\" style=\"height: 50.000455210000005%\"></div>\n\n</div>\n</div>\n<div class=\"histogram-text-container-post\">\n<p>000<br/><br/>Tea</p>\n</div>\n</div>\n<div class=\"histogram-entry\">\n<div class=\"histogram-text-container-pre\">\n<p><span \"=\"\" class=\"histogram-text histogram-text-ideal histogram-text-001\">50.0%</span></p>\n</div>\n<div class=\"histogram-bar-container\">\n<div class=\"histogram-bar-outer\">\n\n<div class=\"histogram-bar histogram-bar-anal histogram-bar-001\" style=\"height: 50.000455210000005%\"></div>\n\n</div>\n</div>\n<div class=\"histogram-text-container-post\">\n<p>001<br/><br/>Hot Chocolate</p>\n</div>\n</div>\n<div class=\"histogram-entry\">\n<div class=\"histogram-text-container-pre\">\n<p><span \"=\"\" class=\"histogram-text histogram-text-ideal histogram-text-010\">0.0%</span></p>\n</div>\n<div class=\"histogram-bar-container\">\n<div class=\"histogram-bar-outer\">\n\n<div class=\"histogram-bar histogram-bar-anal histogram-bar-010\" style=\"height: 0.0%\"></div>\n\n</div>\n</div>\n<div class=\"histogram-text-container-post\">\n<p>010<br/><br/>Espresso</p>\n</div>\n</div>\n<div class=\"histogram-entry\">\n<div class=\"histogram-text-container-pre\">\n<p><span \"=\"\" class=\"histogram-text histogram-text-ideal histogram-text-011\">0.0%</span></p>\n</div>\n<div class=\"histogram-bar-container\">\n<div class=\"histogram-bar-outer\">\n\n<div class=\"histogram-bar histogram-bar-anal histogram-bar-011\" style=\"height: 0.0%\"></div>\n\n</div>\n</div>\n<div class=\"histogram-text-container-post\">\n<p>011<br/><br/>Coffee</p>\n</div>\n</div>\n<div class=\"histogram-entry\">\n<div class=\"histogram-text-container-pre\">\n<p><span \"=\"\" class=\"histogram-text histogram-text-ideal histogram-text-100\">0.0%</span></p>\n</div>\n<div class=\"histogram-bar-container\">\n<div class=\"histogram-bar-outer\">\n\n<div class=\"histogram-bar histogram-bar-anal histogram-bar-100\" style=\"height: 0.0%\"></div>\n\n</div>\n</div>\n<div class=\"histogram-text-container-post\">\n<p>100<br/><br/>Cappucino</p>\n</div>\n</div>\n<div class=\"histogram-entry\">\n<div class=\"histogram-text-container-pre\">\n<p><span \"=\"\" class=\"histogram-text histogram-text-ideal histogram-text-101\">0.0%</span></p>\n</div>\n<div class=\"histogram-bar-container\">\n<div class=\"histogram-bar-outer\">\n\n<div class=\"histogram-bar histogram-bar-anal histogram-bar-101\" style=\"height: 0.0%\"></div>\n\n</div>\n</div>\n<div class=\"histogram-text-container-post\">\n<p>101<br/><br/>Latte Macchiato</p>\n</div>\n</div>\n<div class=\"histogram-entry\">\n<div class=\"histogram-text-container-pre\">\n<p><span \"=\"\" class=\"histogram-text histogram-text-ideal histogram-text-110\">0.0%</span></p>\n</div>\n<div class=\"histogram-bar-container\">\n<div class=\"histogram-bar-outer\">\n\n<div class=\"histogram-bar histogram-bar-anal histogram-bar-110\" style=\"height: 0.0%\"></div>\n\n</div>\n</div>\n<div class=\"histogram-text-container-post\">\n<p>110<br/><br/>Viennese Melange</p>\n</div>\n</div>\n<div class=\"histogram-entry\">\n<div class=\"histogram-text-container-pre\">\n<p><span \"=\"\" class=\"histogram-text histogram-text-ideal histogram-text-111\">0.0%</span></p>\n</div>\n<div class=\"histogram-bar-container\">\n<div class=\"histogram-bar-outer\">\n\n<div class=\"histogram-bar histogram-bar-anal histogram-bar-111\" style=\"height: 0.0%\"></div>\n\n</div>\n</div>\n<div class=\"histogram-text-container-post\">\n<p>111<br/><br/>Americano</p>\n</div>\n</div>\n</div>\n</div>\n",
       "_view_module_version": "^0.1.0",
       "layout": "IPY_MODEL_bfc37c207c8742139f9459599916d100"
      }
     },
     "0b625f506a6d4621aade7c2e2847a313": {
      "model_module": "@jupyter-widgets/base",
      "model_module_version": "1.2.0",
      "model_name": "LayoutModel",
      "state": {}
     },
     "0dcd8970ae6a493aa66158b67d4913a8": {
      "model_module": "appwidgets",
      "model_module_version": "^0.1.0",
      "model_name": "ReactiveHtmlModel",
      "state": {
       "_css": "\n.<<VIEW_ID>> #view-composer-button-bar button {\n\n    border-radius: 0;\n\n    font-size: 1.5em;\n\n}\n\n\n\n.<<VIEW_ID>> #view-composer-show-theo-btn {\n\n    border-left-width: 10px;\n\n    border-color: rgb(40, 105, 245);\n\n}\n\n\n\n.<<VIEW_ID>> #view-composer-show-qasm-btn {\n\n    border-left-width: 10px;\n\n    border-color: rgb(116, 0, 123);\n\n}\n\n\n\n.<<VIEW_ID>> #view-composer-show-mock-btn {\n\n    border-left-width: 10px;\n\n    border-color: rgb(0, 135, 92);\n\n}\n\n\n\n.<<VIEW_ID>> #view-composer-show-theo-btn[data-active=\"True\"] {\n\n    background-color:rgba(40, 105, 245, 0.4);\n\n}\n\n\n\n.<<VIEW_ID>> #view-composer-show-qasm-btn[data-active=\"True\"] {\n\n    background-color:rgba(116, 0, 123, 0.4);\n\n}\n\n\n\n.<<VIEW_ID>> #view-composer-show-mock-btn[data-active=\"True\"] {\n\n    background-color:rgba(0, 135, 92, 0.4);\n\n}\n\n\n\n.<<VIEW_ID>> #view-composer-button-bar .mr-4 {\n\n    margin-right: 20px;\n\n}\n\n\n\n.<<VIEW_ID>> #view-composer-hist-header h3 {\n\n    font-size: 2em;\n\n    margin-bottom: 20px;\n\n}",
       "_model_module_version": "^0.1.0",
       "_rendered": "\n<div id=\"view-composer-hist-header\">\n<h3>Measurement Probabilities</h3>\n</div>\n<div id=\"view-composer-button-bar\">\n<button class=\"btn btn-default\" data-active=\"True\" id=\"view-composer-show-theo-btn\">Theoretical</button>\n<button class=\"btn btn-default\" data-active=\"False\" data-rh-exec=\"toggle_data_attr('show_qasm_results')\" id=\"view-composer-show-qasm-btn\">Simulator (error free)</button>\n<button class=\"btn btn-default mr-4\" data-active=\"False\" data-rh-exec=\"toggle_data_attr('show_mock_results')\" id=\"view-composer-show-mock-btn\">Simulator (real quantum device)</button>\n<button class=\"btn btn-default mr-4\" data-rh-exec=\"open_circuit_on_ibmq()\">Export to IBM Quantum Composer</button>\n</div>\n",
       "_view_module_version": "^0.1.0",
       "layout": "IPY_MODEL_b5981455969040c4a2a75481843c07ae"
      }
     },
     "0dcec77923dc42469b13f736441a3126": {
      "model_module": "appwidgets",
      "model_module_version": "^0.1.0",
      "model_name": "ReactiveHtmlModel",
      "state": {
       "_css": "\n.<<VIEW_ID>> p {\n\n    font-size: 1.5em;\n\n    margin-bottom: 40px;\n\n}\n\n\n\n.<<VIEW_ID>> span {\n\n    color: rgba(40, 105, 245);\n\n    text-decoration: underline;\n\n    cursor: pointer;\n\n}",
       "_model_module_version": "^0.1.0",
       "_rendered": "\n<p>Drag &amp; Drop Quantum Gates onto the Qubits to build your circuit. <span data-rh-exec=\"load_welcome()\">Go back</span>.</p>\n",
       "_view_module_version": "^0.1.0",
       "layout": "IPY_MODEL_3343e07d6b454544be814c4f528cb072"
      }
     },
     "0ee5917cf7a34dc09551b8cf2f953a8e": {
      "model_module": "appwidgets",
      "model_module_version": "^0.1.0",
      "model_name": "ReactiveHtmlModel",
      "state": {
       "_css": "\n/*\n\n\tHistogram\n\n*/\n\n.<<VIEW_ID>> #view-composer-hist-container {\n\n\twidth: 100%;\n\n\tpadding: 0 50px 0 10px;\n\n    margin-top: 50px;\n\n}\n\n.<<VIEW_ID>> #view-composer-hist-container #view-composer-hist {\n\n\twidth: 100%;\n\n\theight: 100%;\n\n\tdisplay: flex;\n\n\tflex-direction: row;\n\n\tjustify-content: space-evenly;\n\n\talign-items: stretch;\n\n}\n\n.<<VIEW_ID>> #view-composer-hist-container .histogram-entry {\n\n\tposition: relative;\n\n\tflex: 0 0 12.5%;\n\n}\n\n.<<VIEW_ID>> #view-composer-hist-container .histogram-entry p {\n\n\ttext-align: center;\n\n    font-size: 1.5em;\n\n}\n\n.<<VIEW_ID>> #view-composer-hist-container .histogram-bar-container {\n\n\tposition: relative;\n\n\theight: 25vh;\n\n}\n\n.<<VIEW_ID>> #view-composer-hist-container .histogram-bar-outer {\n\n\twidth: 60px;\n\n\tleft: 50%;\n\n\tmargin-left: -30px;\n\n\theight: 100%;\n\n\tposition: relative;\n\n\t/* background-color: lightgray; */\n\n}\n\n.<<VIEW_ID>> #view-composer-hist-container .histogram-bar {\n\n\tposition: absolute;\n\n\tbottom: 0;\n\n\theight: 0;\n\n\twidth: 33%;\n\n}\n\n\n\n.<<VIEW_ID>> #view-composer-hist-container .histogram-bar-qasm {\n\n\tbackground-color: rgb(116, 0, 123);\n\n\tleft: 0%;\n\n}\n\n.<<VIEW_ID>> #view-composer-hist-container .histogram-bar-anal {\n\n\tbackground-color: rgba(40, 105, 245);\n\n\tleft: 33%;\n\n}\n\n.<<VIEW_ID>> #view-composer-hist-container .histogram-bar-mock {\n\n\tbackground-color: rgb(0, 135, 92);\n\n\tleft: 66%;\n\n}\n\n\n\n.<<VIEW_ID>> #view-composer-hist-container .histogram-text-container-pre {\n\n    margin-bottom: 20px;\n\n}\n\n\n\n.<<VIEW_ID>> #view-composer-hist-container .histogram-text-container-post {\n\n    margin-top: 20px;\n\n\tmargin-bottom: 10px;\n\n}",
       "_model_module_version": "^0.1.0",
       "_rendered": "\n<div id=\"view-composer-hist-container\">\n<div id=\"view-composer-hist\">\n<div class=\"histogram-entry\">\n<div class=\"histogram-text-container-pre\">\n<p><span \"=\"\" class=\"histogram-text histogram-text-ideal histogram-text-000\">25.0%</span></p>\n</div>\n<div class=\"histogram-bar-container\">\n<div class=\"histogram-bar-outer\">\n\n<div class=\"histogram-bar histogram-bar-anal histogram-bar-000\" style=\"height: 25.0%\"></div>\n\n</div>\n</div>\n<div class=\"histogram-text-container-post\">\n<p>000<br/><br/>Tea</p>\n</div>\n</div>\n<div class=\"histogram-entry\">\n<div class=\"histogram-text-container-pre\">\n<p><span \"=\"\" class=\"histogram-text histogram-text-ideal histogram-text-001\">25.0%</span></p>\n</div>\n<div class=\"histogram-bar-container\">\n<div class=\"histogram-bar-outer\">\n\n<div class=\"histogram-bar histogram-bar-anal histogram-bar-001\" style=\"height: 25.0%\"></div>\n\n</div>\n</div>\n<div class=\"histogram-text-container-post\">\n<p>001<br/><br/>Hot Chocolate</p>\n</div>\n</div>\n<div class=\"histogram-entry\">\n<div class=\"histogram-text-container-pre\">\n<p><span \"=\"\" class=\"histogram-text histogram-text-ideal histogram-text-010\">25.0%</span></p>\n</div>\n<div class=\"histogram-bar-container\">\n<div class=\"histogram-bar-outer\">\n\n<div class=\"histogram-bar histogram-bar-anal histogram-bar-010\" style=\"height: 25.0%\"></div>\n\n</div>\n</div>\n<div class=\"histogram-text-container-post\">\n<p>010<br/><br/>Espresso</p>\n</div>\n</div>\n<div class=\"histogram-entry\">\n<div class=\"histogram-text-container-pre\">\n<p><span \"=\"\" class=\"histogram-text histogram-text-ideal histogram-text-011\">25.0%</span></p>\n</div>\n<div class=\"histogram-bar-container\">\n<div class=\"histogram-bar-outer\">\n\n<div class=\"histogram-bar histogram-bar-anal histogram-bar-011\" style=\"height: 25.0%\"></div>\n\n</div>\n</div>\n<div class=\"histogram-text-container-post\">\n<p>011<br/><br/>Coffee</p>\n</div>\n</div>\n<div class=\"histogram-entry\">\n<div class=\"histogram-text-container-pre\">\n<p><span \"=\"\" class=\"histogram-text histogram-text-ideal histogram-text-100\">0.0%</span></p>\n</div>\n<div class=\"histogram-bar-container\">\n<div class=\"histogram-bar-outer\">\n\n<div class=\"histogram-bar histogram-bar-anal histogram-bar-100\" style=\"height: 0.0%\"></div>\n\n</div>\n</div>\n<div class=\"histogram-text-container-post\">\n<p>100<br/><br/>Cappucino</p>\n</div>\n</div>\n<div class=\"histogram-entry\">\n<div class=\"histogram-text-container-pre\">\n<p><span \"=\"\" class=\"histogram-text histogram-text-ideal histogram-text-101\">0.0%</span></p>\n</div>\n<div class=\"histogram-bar-container\">\n<div class=\"histogram-bar-outer\">\n\n<div class=\"histogram-bar histogram-bar-anal histogram-bar-101\" style=\"height: 0.0%\"></div>\n\n</div>\n</div>\n<div class=\"histogram-text-container-post\">\n<p>101<br/><br/>Latte Macchiato</p>\n</div>\n</div>\n<div class=\"histogram-entry\">\n<div class=\"histogram-text-container-pre\">\n<p><span \"=\"\" class=\"histogram-text histogram-text-ideal histogram-text-110\">0.0%</span></p>\n</div>\n<div class=\"histogram-bar-container\">\n<div class=\"histogram-bar-outer\">\n\n<div class=\"histogram-bar histogram-bar-anal histogram-bar-110\" style=\"height: 0.0%\"></div>\n\n</div>\n</div>\n<div class=\"histogram-text-container-post\">\n<p>110<br/><br/>Viennese Melange</p>\n</div>\n</div>\n<div class=\"histogram-entry\">\n<div class=\"histogram-text-container-pre\">\n<p><span \"=\"\" class=\"histogram-text histogram-text-ideal histogram-text-111\">0.0%</span></p>\n</div>\n<div class=\"histogram-bar-container\">\n<div class=\"histogram-bar-outer\">\n\n<div class=\"histogram-bar histogram-bar-anal histogram-bar-111\" style=\"height: 0.0%\"></div>\n\n</div>\n</div>\n<div class=\"histogram-text-container-post\">\n<p>111<br/><br/>Americano</p>\n</div>\n</div>\n</div>\n</div>\n",
       "_view_module_version": "^0.1.0",
       "layout": "IPY_MODEL_6d0197566ff940c99d5a7d5ddd74f93e"
      }
     },
     "0f8accdf34d44778807461dc079f835e": {
      "model_module": "appwidgets",
      "model_module_version": "^0.1.0",
      "model_name": "ReactiveHtmlModel",
      "state": {
       "_css": "\n/*\n\n\tHistogram\n\n*/\n\n.<<VIEW_ID>> #view-composer-hist-container {\n\n\twidth: 100%;\n\n\tpadding: 0 50px 0 10px;\n\n    margin-top: 50px;\n\n}\n\n.<<VIEW_ID>> #view-composer-hist-container #view-composer-hist {\n\n\twidth: 100%;\n\n\theight: 100%;\n\n\tdisplay: flex;\n\n\tflex-direction: row;\n\n\tjustify-content: space-evenly;\n\n\talign-items: stretch;\n\n}\n\n.<<VIEW_ID>> #view-composer-hist-container .histogram-entry {\n\n\tposition: relative;\n\n\tflex: 0 0 12.5%;\n\n}\n\n.<<VIEW_ID>> #view-composer-hist-container .histogram-entry p {\n\n\ttext-align: center;\n\n    font-size: 1.5em;\n\n}\n\n.<<VIEW_ID>> #view-composer-hist-container .histogram-bar-container {\n\n\tposition: relative;\n\n\theight: 25vh;\n\n}\n\n.<<VIEW_ID>> #view-composer-hist-container .histogram-bar-outer {\n\n\twidth: 60px;\n\n\tleft: 50%;\n\n\tmargin-left: -30px;\n\n\theight: 100%;\n\n\tposition: relative;\n\n\t/* background-color: lightgray; */\n\n}\n\n.<<VIEW_ID>> #view-composer-hist-container .histogram-bar {\n\n\tposition: absolute;\n\n\tbottom: 0;\n\n\theight: 0;\n\n\twidth: 33%;\n\n}\n\n\n\n.<<VIEW_ID>> #view-composer-hist-container .histogram-bar-qasm {\n\n\tbackground-color: rgb(116, 0, 123);\n\n\tleft: 0%;\n\n}\n\n.<<VIEW_ID>> #view-composer-hist-container .histogram-bar-anal {\n\n\tbackground-color: rgba(40, 105, 245);\n\n\tleft: 33%;\n\n}\n\n.<<VIEW_ID>> #view-composer-hist-container .histogram-bar-mock {\n\n\tbackground-color: rgb(0, 135, 92);\n\n\tleft: 66%;\n\n}\n\n\n\n.<<VIEW_ID>> #view-composer-hist-container .histogram-text-container-pre {\n\n    margin-bottom: 20px;\n\n}\n\n\n\n.<<VIEW_ID>> #view-composer-hist-container .histogram-text-container-post {\n\n    margin-top: 20px;\n\n\tmargin-bottom: 10px;\n\n}",
       "_model_module_version": "^0.1.0",
       "_rendered": "\n<div id=\"view-composer-hist-container\">\n<div id=\"view-composer-hist\">\n<div class=\"histogram-entry\">\n<div class=\"histogram-text-container-pre\">\n<p><span \"=\"\" class=\"histogram-text histogram-text-ideal histogram-text-000\">50.0%</span></p>\n</div>\n<div class=\"histogram-bar-container\">\n<div class=\"histogram-bar-outer\">\n\n<div class=\"histogram-bar histogram-bar-anal histogram-bar-000\" style=\"height: 50.000455210000005%\"></div>\n\n</div>\n</div>\n<div class=\"histogram-text-container-post\">\n<p>000<br/><br/>Tea</p>\n</div>\n</div>\n<div class=\"histogram-entry\">\n<div class=\"histogram-text-container-pre\">\n<p><span \"=\"\" class=\"histogram-text histogram-text-ideal histogram-text-001\">50.0%</span></p>\n</div>\n<div class=\"histogram-bar-container\">\n<div class=\"histogram-bar-outer\">\n\n<div class=\"histogram-bar histogram-bar-anal histogram-bar-001\" style=\"height: 50.000455210000005%\"></div>\n\n</div>\n</div>\n<div class=\"histogram-text-container-post\">\n<p>001<br/><br/>Hot Chocolate</p>\n</div>\n</div>\n<div class=\"histogram-entry\">\n<div class=\"histogram-text-container-pre\">\n<p><span \"=\"\" class=\"histogram-text histogram-text-ideal histogram-text-010\">0.0%</span></p>\n</div>\n<div class=\"histogram-bar-container\">\n<div class=\"histogram-bar-outer\">\n\n<div class=\"histogram-bar histogram-bar-anal histogram-bar-010\" style=\"height: 0.0%\"></div>\n\n</div>\n</div>\n<div class=\"histogram-text-container-post\">\n<p>010<br/><br/>Espresso</p>\n</div>\n</div>\n<div class=\"histogram-entry\">\n<div class=\"histogram-text-container-pre\">\n<p><span \"=\"\" class=\"histogram-text histogram-text-ideal histogram-text-011\">0.0%</span></p>\n</div>\n<div class=\"histogram-bar-container\">\n<div class=\"histogram-bar-outer\">\n\n<div class=\"histogram-bar histogram-bar-anal histogram-bar-011\" style=\"height: 0.0%\"></div>\n\n</div>\n</div>\n<div class=\"histogram-text-container-post\">\n<p>011<br/><br/>Coffee</p>\n</div>\n</div>\n<div class=\"histogram-entry\">\n<div class=\"histogram-text-container-pre\">\n<p><span \"=\"\" class=\"histogram-text histogram-text-ideal histogram-text-100\">0.0%</span></p>\n</div>\n<div class=\"histogram-bar-container\">\n<div class=\"histogram-bar-outer\">\n\n<div class=\"histogram-bar histogram-bar-anal histogram-bar-100\" style=\"height: 0.0%\"></div>\n\n</div>\n</div>\n<div class=\"histogram-text-container-post\">\n<p>100<br/><br/>Cappucino</p>\n</div>\n</div>\n<div class=\"histogram-entry\">\n<div class=\"histogram-text-container-pre\">\n<p><span \"=\"\" class=\"histogram-text histogram-text-ideal histogram-text-101\">0.0%</span></p>\n</div>\n<div class=\"histogram-bar-container\">\n<div class=\"histogram-bar-outer\">\n\n<div class=\"histogram-bar histogram-bar-anal histogram-bar-101\" style=\"height: 0.0%\"></div>\n\n</div>\n</div>\n<div class=\"histogram-text-container-post\">\n<p>101<br/><br/>Latte Macchiato</p>\n</div>\n</div>\n<div class=\"histogram-entry\">\n<div class=\"histogram-text-container-pre\">\n<p><span \"=\"\" class=\"histogram-text histogram-text-ideal histogram-text-110\">0.0%</span></p>\n</div>\n<div class=\"histogram-bar-container\">\n<div class=\"histogram-bar-outer\">\n\n<div class=\"histogram-bar histogram-bar-anal histogram-bar-110\" style=\"height: 0.0%\"></div>\n\n</div>\n</div>\n<div class=\"histogram-text-container-post\">\n<p>110<br/><br/>Viennese Melange</p>\n</div>\n</div>\n<div class=\"histogram-entry\">\n<div class=\"histogram-text-container-pre\">\n<p><span \"=\"\" class=\"histogram-text histogram-text-ideal histogram-text-111\">0.0%</span></p>\n</div>\n<div class=\"histogram-bar-container\">\n<div class=\"histogram-bar-outer\">\n\n<div class=\"histogram-bar histogram-bar-anal histogram-bar-111\" style=\"height: 0.0%\"></div>\n\n</div>\n</div>\n<div class=\"histogram-text-container-post\">\n<p>111<br/><br/>Americano</p>\n</div>\n</div>\n</div>\n</div>\n",
       "_view_module_version": "^0.1.0",
       "layout": "IPY_MODEL_fb4dd5353c1e4f9c98e24feb66a581d3"
      }
     },
     "100612691e4a401597deadd4196c8e0c": {
      "model_module": "@jupyter-widgets/base",
      "model_module_version": "1.2.0",
      "model_name": "LayoutModel",
      "state": {}
     },
     "1007af70db4f4aa284c8ce1d25f2031e": {
      "model_module": "appwidgets",
      "model_module_version": "^0.1.0",
      "model_name": "ReactiveHtmlModel",
      "state": {
       "_css": "\n.<<VIEW_ID>> #view-composer-button-bar button {\n\n    border-radius: 0;\n\n    font-size: 1.5em;\n\n}\n\n\n\n.<<VIEW_ID>> #view-composer-show-theo-btn {\n\n    border-left-width: 10px;\n\n    border-color: rgb(40, 105, 245);\n\n}\n\n\n\n.<<VIEW_ID>> #view-composer-show-qasm-btn {\n\n    border-left-width: 10px;\n\n    border-color: rgb(116, 0, 123);\n\n}\n\n\n\n.<<VIEW_ID>> #view-composer-show-mock-btn {\n\n    border-left-width: 10px;\n\n    border-color: rgb(0, 135, 92);\n\n}\n\n\n\n.<<VIEW_ID>> #view-composer-show-theo-btn[data-active=\"True\"] {\n\n    background-color:rgba(40, 105, 245, 0.4);\n\n}\n\n\n\n.<<VIEW_ID>> #view-composer-show-qasm-btn[data-active=\"True\"] {\n\n    background-color:rgba(116, 0, 123, 0.4);\n\n}\n\n\n\n.<<VIEW_ID>> #view-composer-show-mock-btn[data-active=\"True\"] {\n\n    background-color:rgba(0, 135, 92, 0.4);\n\n}\n\n\n\n.<<VIEW_ID>> #view-composer-button-bar .mr-4 {\n\n    margin-right: 20px;\n\n}\n\n\n\n.<<VIEW_ID>> #view-composer-hist-header h3 {\n\n    font-size: 2em;\n\n    margin-bottom: 20px;\n\n}",
       "_model_module_version": "^0.1.0",
       "_rendered": "\n<div id=\"view-composer-hist-header\">\n<h3>Measurement Probabilities</h3>\n</div>\n<div id=\"view-composer-button-bar\">\n<button class=\"btn btn-default\" data-active=\"True\" id=\"view-composer-show-theo-btn\">Theoretical</button>\n<button class=\"btn btn-default\" data-active=\"False\" data-rh-exec=\"toggle_data_attr('show_qasm_results')\" id=\"view-composer-show-qasm-btn\">Simulator (error free)</button>\n<button class=\"btn btn-default mr-4\" data-active=\"False\" data-rh-exec=\"toggle_data_attr('show_mock_results')\" id=\"view-composer-show-mock-btn\">Simulator (real quantum device)</button>\n<button class=\"btn btn-default mr-4\" data-rh-exec=\"open_circuit_on_ibmq()\">Export to IBM Quantum Composer</button>\n</div>\n",
       "_view_module_version": "^0.1.0",
       "layout": "IPY_MODEL_beb124955b7049b48665dcadca7f69a2"
      }
     },
     "103c34ba500a424e94b613f4f481662b": {
      "model_module": "@jupyter-widgets/base",
      "model_module_version": "1.2.0",
      "model_name": "LayoutModel",
      "state": {}
     },
     "10d0aedf1a544f70a02ee7b939174a06": {
      "model_module": "appwidgets",
      "model_module_version": "^0.1.0",
      "model_name": "ReactiveHtmlModel",
      "state": {
       "_css": "\n/*\n\n\tHistogram\n\n*/\n\n.<<VIEW_ID>> #view-composer-hist-container {\n\n\twidth: 100%;\n\n\tpadding: 0 50px 0 10px;\n\n    margin-top: 50px;\n\n}\n\n.<<VIEW_ID>> #view-composer-hist-container #view-composer-hist {\n\n\twidth: 100%;\n\n\theight: 100%;\n\n\tdisplay: flex;\n\n\tflex-direction: row;\n\n\tjustify-content: space-evenly;\n\n\talign-items: stretch;\n\n}\n\n.<<VIEW_ID>> #view-composer-hist-container .histogram-entry {\n\n\tposition: relative;\n\n\tflex: 0 0 12.5%;\n\n}\n\n.<<VIEW_ID>> #view-composer-hist-container .histogram-entry p {\n\n\ttext-align: center;\n\n    font-size: 1.5em;\n\n}\n\n.<<VIEW_ID>> #view-composer-hist-container .histogram-bar-container {\n\n\tposition: relative;\n\n\theight: 25vh;\n\n}\n\n.<<VIEW_ID>> #view-composer-hist-container .histogram-bar-outer {\n\n\twidth: 60px;\n\n\tleft: 50%;\n\n\tmargin-left: -30px;\n\n\theight: 100%;\n\n\tposition: relative;\n\n\t/* background-color: lightgray; */\n\n}\n\n.<<VIEW_ID>> #view-composer-hist-container .histogram-bar {\n\n\tposition: absolute;\n\n\tbottom: 0;\n\n\theight: 0;\n\n\twidth: 33%;\n\n}\n\n\n\n.<<VIEW_ID>> #view-composer-hist-container .histogram-bar-qasm {\n\n\tbackground-color: rgb(116, 0, 123);\n\n\tleft: 0%;\n\n}\n\n.<<VIEW_ID>> #view-composer-hist-container .histogram-bar-anal {\n\n\tbackground-color: rgba(40, 105, 245);\n\n\tleft: 33%;\n\n}\n\n.<<VIEW_ID>> #view-composer-hist-container .histogram-bar-mock {\n\n\tbackground-color: rgb(0, 135, 92);\n\n\tleft: 66%;\n\n}\n\n\n\n.<<VIEW_ID>> #view-composer-hist-container .histogram-text-container-pre {\n\n    margin-bottom: 20px;\n\n}\n\n\n\n.<<VIEW_ID>> #view-composer-hist-container .histogram-text-container-post {\n\n    margin-top: 20px;\n\n\tmargin-bottom: 10px;\n\n}",
       "_model_module_version": "^0.1.0",
       "_rendered": "\n<div id=\"view-composer-hist-container\">\n<div id=\"view-composer-hist\">\n<div class=\"histogram-entry\">\n<div class=\"histogram-text-container-pre\">\n<p><span \"=\"\" class=\"histogram-text histogram-text-ideal histogram-text-000\">0.0%</span></p>\n</div>\n<div class=\"histogram-bar-container\">\n<div class=\"histogram-bar-outer\">\n\n<div class=\"histogram-bar histogram-bar-anal histogram-bar-000\" style=\"height: 0%\"></div>\n\n</div>\n</div>\n<div class=\"histogram-text-container-post\">\n<p>000<br/><br/>Tea</p>\n</div>\n</div>\n<div class=\"histogram-entry\">\n<div class=\"histogram-text-container-pre\">\n<p><span \"=\"\" class=\"histogram-text histogram-text-ideal histogram-text-001\">0.0%</span></p>\n</div>\n<div class=\"histogram-bar-container\">\n<div class=\"histogram-bar-outer\">\n\n<div class=\"histogram-bar histogram-bar-anal histogram-bar-001\" style=\"height: 0%\"></div>\n\n</div>\n</div>\n<div class=\"histogram-text-container-post\">\n<p>001<br/><br/>Hot Chocolate</p>\n</div>\n</div>\n<div class=\"histogram-entry\">\n<div class=\"histogram-text-container-pre\">\n<p><span \"=\"\" class=\"histogram-text histogram-text-ideal histogram-text-010\">0.0%</span></p>\n</div>\n<div class=\"histogram-bar-container\">\n<div class=\"histogram-bar-outer\">\n\n<div class=\"histogram-bar histogram-bar-anal histogram-bar-010\" style=\"height: 0%\"></div>\n\n</div>\n</div>\n<div class=\"histogram-text-container-post\">\n<p>010<br/><br/>Espresso</p>\n</div>\n</div>\n<div class=\"histogram-entry\">\n<div class=\"histogram-text-container-pre\">\n<p><span \"=\"\" class=\"histogram-text histogram-text-ideal histogram-text-011\">0.0%</span></p>\n</div>\n<div class=\"histogram-bar-container\">\n<div class=\"histogram-bar-outer\">\n\n<div class=\"histogram-bar histogram-bar-anal histogram-bar-011\" style=\"height: 0%\"></div>\n\n</div>\n</div>\n<div class=\"histogram-text-container-post\">\n<p>011<br/><br/>Coffee</p>\n</div>\n</div>\n<div class=\"histogram-entry\">\n<div class=\"histogram-text-container-pre\">\n<p><span \"=\"\" class=\"histogram-text histogram-text-ideal histogram-text-100\">0.0%</span></p>\n</div>\n<div class=\"histogram-bar-container\">\n<div class=\"histogram-bar-outer\">\n\n<div class=\"histogram-bar histogram-bar-anal histogram-bar-100\" style=\"height: 0%\"></div>\n\n</div>\n</div>\n<div class=\"histogram-text-container-post\">\n<p>100<br/><br/>Cappucino</p>\n</div>\n</div>\n<div class=\"histogram-entry\">\n<div class=\"histogram-text-container-pre\">\n<p><span \"=\"\" class=\"histogram-text histogram-text-ideal histogram-text-101\">0.0%</span></p>\n</div>\n<div class=\"histogram-bar-container\">\n<div class=\"histogram-bar-outer\">\n\n<div class=\"histogram-bar histogram-bar-anal histogram-bar-101\" style=\"height: 0%\"></div>\n\n</div>\n</div>\n<div class=\"histogram-text-container-post\">\n<p>101<br/><br/>Latte Macchiato</p>\n</div>\n</div>\n<div class=\"histogram-entry\">\n<div class=\"histogram-text-container-pre\">\n<p><span \"=\"\" class=\"histogram-text histogram-text-ideal histogram-text-110\">0.0%</span></p>\n</div>\n<div class=\"histogram-bar-container\">\n<div class=\"histogram-bar-outer\">\n\n<div class=\"histogram-bar histogram-bar-anal histogram-bar-110\" style=\"height: 0%\"></div>\n\n</div>\n</div>\n<div class=\"histogram-text-container-post\">\n<p>110<br/><br/>Viennese Melange</p>\n</div>\n</div>\n<div class=\"histogram-entry\">\n<div class=\"histogram-text-container-pre\">\n<p><span \"=\"\" class=\"histogram-text histogram-text-ideal histogram-text-111\">0.0%</span></p>\n</div>\n<div class=\"histogram-bar-container\">\n<div class=\"histogram-bar-outer\">\n\n<div class=\"histogram-bar histogram-bar-anal histogram-bar-111\" style=\"height: 0%\"></div>\n\n</div>\n</div>\n<div class=\"histogram-text-container-post\">\n<p>111<br/><br/>Americano</p>\n</div>\n</div>\n</div>\n</div>\n",
       "_view_module_version": "^0.1.0",
       "layout": "IPY_MODEL_8672e661f2634472bd6835a40379e4fb"
      }
     },
     "14edf5bd7fbe4e8da03c58131f4e5557": {
      "model_module": "@jupyter-widgets/base",
      "model_module_version": "1.2.0",
      "model_name": "LayoutModel",
      "state": {}
     },
     "1522751c62cd463cbe38cf58948dd264": {
      "model_module": "@jupyter-widgets/base",
      "model_module_version": "1.2.0",
      "model_name": "LayoutModel",
      "state": {}
     },
     "161f685001a34023ac227b93853295e2": {
      "model_module": "@jupyter-widgets/base",
      "model_module_version": "1.2.0",
      "model_name": "LayoutModel",
      "state": {}
     },
     "18751a077a164687946d9ed6ae755ccf": {
      "model_module": "@jupyter-widgets/base",
      "model_module_version": "1.2.0",
      "model_name": "LayoutModel",
      "state": {}
     },
     "197fc6d2e0f54db08122311b5634fe99": {
      "model_module": "@jupyter-widgets/base",
      "model_module_version": "1.2.0",
      "model_name": "LayoutModel",
      "state": {}
     },
     "19b3877f80994f5f93e67ea65bb05507": {
      "model_module": "appwidgets",
      "model_module_version": "^0.1.0",
      "model_name": "ReactiveHtmlModel",
      "state": {
       "_css": "\n/*\n\n\tHistogram\n\n*/\n\n.<<VIEW_ID>> #view-composer-hist-container {\n\n\twidth: 100%;\n\n\tpadding: 0 50px 0 10px;\n\n    margin-top: 50px;\n\n}\n\n.<<VIEW_ID>> #view-composer-hist-container #view-composer-hist {\n\n\twidth: 100%;\n\n\theight: 100%;\n\n\tdisplay: flex;\n\n\tflex-direction: row;\n\n\tjustify-content: space-evenly;\n\n\talign-items: stretch;\n\n}\n\n.<<VIEW_ID>> #view-composer-hist-container .histogram-entry {\n\n\tposition: relative;\n\n\tflex: 0 0 12.5%;\n\n}\n\n.<<VIEW_ID>> #view-composer-hist-container .histogram-entry p {\n\n\ttext-align: center;\n\n    font-size: 1.5em;\n\n}\n\n.<<VIEW_ID>> #view-composer-hist-container .histogram-bar-container {\n\n\tposition: relative;\n\n\theight: 25vh;\n\n}\n\n.<<VIEW_ID>> #view-composer-hist-container .histogram-bar-outer {\n\n\twidth: 60px;\n\n\tleft: 50%;\n\n\tmargin-left: -30px;\n\n\theight: 100%;\n\n\tposition: relative;\n\n\t/* background-color: lightgray; */\n\n}\n\n.<<VIEW_ID>> #view-composer-hist-container .histogram-bar {\n\n\tposition: absolute;\n\n\tbottom: 0;\n\n\theight: 0;\n\n\twidth: 33%;\n\n}\n\n\n\n.<<VIEW_ID>> #view-composer-hist-container .histogram-bar-qasm {\n\n\tbackground-color: rgb(116, 0, 123);\n\n\tleft: 0%;\n\n}\n\n.<<VIEW_ID>> #view-composer-hist-container .histogram-bar-anal {\n\n\tbackground-color: rgba(40, 105, 245);\n\n\tleft: 33%;\n\n}\n\n.<<VIEW_ID>> #view-composer-hist-container .histogram-bar-mock {\n\n\tbackground-color: rgb(0, 135, 92);\n\n\tleft: 66%;\n\n}\n\n\n\n.<<VIEW_ID>> #view-composer-hist-container .histogram-text-container-pre {\n\n    margin-bottom: 20px;\n\n}\n\n\n\n.<<VIEW_ID>> #view-composer-hist-container .histogram-text-container-post {\n\n    margin-top: 20px;\n\n\tmargin-bottom: 10px;\n\n}",
       "_model_module_version": "^0.1.0",
       "_rendered": "\n<div id=\"view-composer-hist-container\">\n<div id=\"view-composer-hist\">\n<div class=\"histogram-entry\">\n<div class=\"histogram-text-container-pre\">\n<p><span \"=\"\" class=\"histogram-text histogram-text-ideal histogram-text-000\">50.0%</span></p>\n</div>\n<div class=\"histogram-bar-container\">\n<div class=\"histogram-bar-outer\">\n\n<div class=\"histogram-bar histogram-bar-anal histogram-bar-000\" style=\"height: 50.000455210000005%\"></div>\n\n</div>\n</div>\n<div class=\"histogram-text-container-post\">\n<p>000<br/><br/>Tea</p>\n</div>\n</div>\n<div class=\"histogram-entry\">\n<div class=\"histogram-text-container-pre\">\n<p><span \"=\"\" class=\"histogram-text histogram-text-ideal histogram-text-001\">50.0%</span></p>\n</div>\n<div class=\"histogram-bar-container\">\n<div class=\"histogram-bar-outer\">\n\n<div class=\"histogram-bar histogram-bar-anal histogram-bar-001\" style=\"height: 50.000455210000005%\"></div>\n\n</div>\n</div>\n<div class=\"histogram-text-container-post\">\n<p>001<br/><br/>Hot Chocolate</p>\n</div>\n</div>\n<div class=\"histogram-entry\">\n<div class=\"histogram-text-container-pre\">\n<p><span \"=\"\" class=\"histogram-text histogram-text-ideal histogram-text-010\">0.0%</span></p>\n</div>\n<div class=\"histogram-bar-container\">\n<div class=\"histogram-bar-outer\">\n\n<div class=\"histogram-bar histogram-bar-anal histogram-bar-010\" style=\"height: 0.0%\"></div>\n\n</div>\n</div>\n<div class=\"histogram-text-container-post\">\n<p>010<br/><br/>Espresso</p>\n</div>\n</div>\n<div class=\"histogram-entry\">\n<div class=\"histogram-text-container-pre\">\n<p><span \"=\"\" class=\"histogram-text histogram-text-ideal histogram-text-011\">0.0%</span></p>\n</div>\n<div class=\"histogram-bar-container\">\n<div class=\"histogram-bar-outer\">\n\n<div class=\"histogram-bar histogram-bar-anal histogram-bar-011\" style=\"height: 0.0%\"></div>\n\n</div>\n</div>\n<div class=\"histogram-text-container-post\">\n<p>011<br/><br/>Coffee</p>\n</div>\n</div>\n<div class=\"histogram-entry\">\n<div class=\"histogram-text-container-pre\">\n<p><span \"=\"\" class=\"histogram-text histogram-text-ideal histogram-text-100\">0.0%</span></p>\n</div>\n<div class=\"histogram-bar-container\">\n<div class=\"histogram-bar-outer\">\n\n<div class=\"histogram-bar histogram-bar-anal histogram-bar-100\" style=\"height: 0.0%\"></div>\n\n</div>\n</div>\n<div class=\"histogram-text-container-post\">\n<p>100<br/><br/>Cappucino</p>\n</div>\n</div>\n<div class=\"histogram-entry\">\n<div class=\"histogram-text-container-pre\">\n<p><span \"=\"\" class=\"histogram-text histogram-text-ideal histogram-text-101\">0.0%</span></p>\n</div>\n<div class=\"histogram-bar-container\">\n<div class=\"histogram-bar-outer\">\n\n<div class=\"histogram-bar histogram-bar-anal histogram-bar-101\" style=\"height: 0.0%\"></div>\n\n</div>\n</div>\n<div class=\"histogram-text-container-post\">\n<p>101<br/><br/>Latte Macchiato</p>\n</div>\n</div>\n<div class=\"histogram-entry\">\n<div class=\"histogram-text-container-pre\">\n<p><span \"=\"\" class=\"histogram-text histogram-text-ideal histogram-text-110\">0.0%</span></p>\n</div>\n<div class=\"histogram-bar-container\">\n<div class=\"histogram-bar-outer\">\n\n<div class=\"histogram-bar histogram-bar-anal histogram-bar-110\" style=\"height: 0.0%\"></div>\n\n</div>\n</div>\n<div class=\"histogram-text-container-post\">\n<p>110<br/><br/>Viennese Melange</p>\n</div>\n</div>\n<div class=\"histogram-entry\">\n<div class=\"histogram-text-container-pre\">\n<p><span \"=\"\" class=\"histogram-text histogram-text-ideal histogram-text-111\">0.0%</span></p>\n</div>\n<div class=\"histogram-bar-container\">\n<div class=\"histogram-bar-outer\">\n\n<div class=\"histogram-bar histogram-bar-anal histogram-bar-111\" style=\"height: 0.0%\"></div>\n\n</div>\n</div>\n<div class=\"histogram-text-container-post\">\n<p>111<br/><br/>Americano</p>\n</div>\n</div>\n</div>\n</div>\n",
       "_view_module_version": "^0.1.0",
       "layout": "IPY_MODEL_e625a82a329d46569583f191c4afaa2b"
      }
     },
     "19f43b123ea84100885635b1a2b70a58": {
      "model_module": "@jupyter-widgets/base",
      "model_module_version": "1.2.0",
      "model_name": "LayoutModel",
      "state": {}
     },
     "1b0f70b88ef74fe39b69d8bed4baec03": {
      "model_module": "@jupyter-widgets/controls",
      "model_module_version": "1.5.0",
      "model_name": "VBoxModel",
      "state": {
       "children": [
        "IPY_MODEL_f126fbcbbe6e496da357fa91d276de70",
        "IPY_MODEL_8a9690b920f04354862a00ff3bceba4a"
       ],
       "layout": "IPY_MODEL_a6457af0a88d4f4b8382b5194a9c993c"
      }
     },
     "1b90b9deebdb4d99a1fe9ecf4f1006a9": {
      "model_module": "appwidgets",
      "model_module_version": "^0.1.0",
      "model_name": "ReactiveHtmlModel",
      "state": {
       "_css": "\n.<<VIEW_ID>> p {\n\n    font-size: 1.5em;\n\n    margin-bottom: 40px;\n\n}\n\n\n\n.<<VIEW_ID>> span {\n\n    color: rgba(40, 105, 245);\n\n    text-decoration: underline;\n\n    cursor: pointer;\n\n}",
       "_model_module_version": "^0.1.0",
       "_rendered": "\n<p>Drag &amp; Drop Quantum Gates onto the Qubits to build your circuit. <span data-rh-exec=\"load_welcome()\">Go back</span>.</p>\n",
       "_view_module_version": "^0.1.0",
       "layout": "IPY_MODEL_e7db289302c947b9a771ba095b328fc4"
      }
     },
     "1cbfb31e3a3349ff87e7d48fb8adb66d": {
      "model_module": "appwidgets",
      "model_module_version": "^0.1.0",
      "model_name": "JsPyModel",
      "state": {
       "_model_module_version": "^0.1.0",
       "_view_module": null,
       "_view_module_version": ""
      }
     },
     "1d3f9938f92e48ff9954ed4c8d5e16b5": {
      "model_module": "@jupyter-widgets/controls",
      "model_module_version": "1.5.0",
      "model_name": "VBoxModel",
      "state": {
       "children": [
        "IPY_MODEL_a22ebe907b2948ad84b1ad2db496e128",
        "IPY_MODEL_6ccadd2fd9e4416794608aca111dcf9a"
       ],
       "layout": "IPY_MODEL_f127e249286c4cb7a84567ac070c507c"
      }
     },
     "1d56aa87da2f468c89024a9b749b657d": {
      "model_module": "appwidgets",
      "model_module_version": "^0.1.0",
      "model_name": "ReactiveHtmlModel",
      "state": {
       "_css": "\n.<<VIEW_ID>> #view-composer-singleshot button {\n\n    font-size: 1.5em;\n\n}\n\n\n\n.<<VIEW_ID>> #view-composer-singleshot button.btn-primary {\n\n    color: white;\n\n    background-color: rgba(40, 105, 245);\n\n    border-color: rgba(40, 105, 245);\n\n    border-radius: 0;\n\n}\n\n\n\n\n\n.<<VIEW_ID>> .view-composer-order-text p {\n\n    margin-top: 20px;\n\n    margin-bottom: 30px;\n\n    width: 100%;\n\n    text-align: center;\n\n    font-size: 3em;\n\n    line-height: 1.2;\n\n}",
       "_dom_classes": [
        "width-20"
       ],
       "_model_module_version": "^0.1.0",
       "_rendered": "\n<div id=\"view-composer-singleshot-container\">\n<div id=\"view-composer-singleshot\">\n<button class=\"btn btn-primary btn-block\" data-rh-exec=\"get_single_shot_result()\">Determine your beverage</button>\n<br/>\n\n<div class=\"view-composer-order-text width-100\" data-rh-if=\"2==2\" id=\"view-composer-singleshot-result\">\n<p>☕️<br/>Tea</p>\n<button class=\"btn btn-primary btn-block\" data-rh-exec=\"request_drink()\">Order Drink →</button>\n</div>\n\n\n<br>\n</br></div>\n</div>\n",
       "_view_module_version": "^0.1.0",
       "layout": "IPY_MODEL_6fb136064a9444bb8d0df1ce059c4457"
      }
     },
     "1e244dd0d30147539c9285d05ef6c696": {
      "model_module": "@jupyter-widgets/base",
      "model_module_version": "1.2.0",
      "model_name": "LayoutModel",
      "state": {}
     },
     "1e507c3219e04fe7a2ff6bffd3588e90": {
      "model_module": "appwidgets",
      "model_module_version": "^0.1.0",
      "model_name": "ReactiveHtmlModel",
      "state": {
       "_css": "\n.<<VIEW_ID>> #view-composer-singleshot button {\n\n    font-size: 1.5em;\n\n}\n\n\n\n.<<VIEW_ID>> #view-composer-singleshot button.btn-primary {\n\n    color: white;\n\n    background-color: rgba(40, 105, 245);\n\n    border-color: rgba(40, 105, 245);\n\n    border-radius: 0;\n\n}\n\n\n\n\n\n.<<VIEW_ID>> .view-composer-order-text p {\n\n    margin-top: 20px;\n\n    margin-bottom: 30px;\n\n    width: 100%;\n\n    text-align: center;\n\n    font-size: 3em;\n\n    line-height: 1.2;\n\n}",
       "_dom_classes": [
        "width-20"
       ],
       "_model_module_version": "^0.1.0",
       "_rendered": "\n<div id=\"view-composer-singleshot-container\">\n<div id=\"view-composer-singleshot\">\n<button class=\"btn btn-primary btn-block\" data-rh-exec=\"get_single_shot_result()\">Determine your beverage</button>\n<br/>\n\n\n<div class=\"view-composer-order-text width-100\" data-rh-if=\"3==3\">\n<p><img alt=\"Thumbs up\" src=\"icons/openmoji-svg-color/1F44D.svg\"/><br/>Thank you and enjoy your drink</p>\n<button class=\"btn btn-primary btn-block\" data-rh-exec=\"load_welcome()\">Back</button>\n</div>\n\n<br>\n</br></div>\n</div>\n",
       "_view_module_version": "^0.1.0",
       "layout": "IPY_MODEL_63dcd5532239454f96e1464b2daf8751"
      }
     },
     "1e94aa14513b48f189a210ea0dbd36b6": {
      "model_module": "@jupyter-widgets/controls",
      "model_module_version": "1.5.0",
      "model_name": "BoxModel",
      "state": {
       "_dom_classes": [
        "app-appbox"
       ],
       "children": [
        "IPY_MODEL_63e5ca7da1534a92aa422860ec47a246"
       ],
       "layout": "IPY_MODEL_6549b7046aa74e85bcd042e8b40ac34c",
       "view": "composer"
      }
     },
     "1f329c62ee1c4ce99fa19cc4b4057b1a": {
      "model_module": "@jupyter-widgets/base",
      "model_module_version": "1.2.0",
      "model_name": "LayoutModel",
      "state": {}
     },
     "1f43d565d490409e9a63743499779f26": {
      "model_module": "@jupyter-widgets/controls",
      "model_module_version": "1.5.0",
      "model_name": "VBoxModel",
      "state": {
       "children": [
        "IPY_MODEL_372e0bc42b5149208000babbb5c41c08",
        "IPY_MODEL_e3f4367c1376452c9eac6953c8be691e"
       ],
       "layout": "IPY_MODEL_d8424535364b4882ac85a2c84bbe6e5e"
      }
     },
     "1f8ffb5f5a7d4f01a33cbe8c0ae1ed20": {
      "model_module": "appwidgets",
      "model_module_version": "^0.1.0",
      "model_name": "ReactiveHtmlModel",
      "state": {
       "_css": "\n.<<VIEW_ID>> #view-composer-button-bar button {\n\n    border-radius: 0;\n\n    font-size: 1.5em;\n\n}\n\n\n\n.<<VIEW_ID>> #view-composer-show-theo-btn {\n\n    border-left-width: 10px;\n\n    border-color: rgb(40, 105, 245);\n\n}\n\n\n\n.<<VIEW_ID>> #view-composer-show-qasm-btn {\n\n    border-left-width: 10px;\n\n    border-color: rgb(116, 0, 123);\n\n}\n\n\n\n.<<VIEW_ID>> #view-composer-show-mock-btn {\n\n    border-left-width: 10px;\n\n    border-color: rgb(0, 135, 92);\n\n}\n\n\n\n.<<VIEW_ID>> #view-composer-show-theo-btn[data-active=\"True\"] {\n\n    background-color:rgba(40, 105, 245, 0.4);\n\n}\n\n\n\n.<<VIEW_ID>> #view-composer-show-qasm-btn[data-active=\"True\"] {\n\n    background-color:rgba(116, 0, 123, 0.4);\n\n}\n\n\n\n.<<VIEW_ID>> #view-composer-show-mock-btn[data-active=\"True\"] {\n\n    background-color:rgba(0, 135, 92, 0.4);\n\n}\n\n\n\n.<<VIEW_ID>> #view-composer-button-bar .mr-4 {\n\n    margin-right: 20px;\n\n}\n\n\n\n.<<VIEW_ID>> #view-composer-hist-header h3 {\n\n    font-size: 2em;\n\n    margin-bottom: 20px;\n\n}",
       "_model_module_version": "^0.1.0",
       "_rendered": "\n<div id=\"view-composer-hist-header\">\n<h3>Measurement Probabilities</h3>\n</div>\n<div id=\"view-composer-button-bar\">\n<button class=\"btn btn-default\" data-active=\"True\" id=\"view-composer-show-theo-btn\">Theoretical</button>\n<button class=\"btn btn-default\" data-active=\"False\" data-rh-exec=\"toggle_data_attr('show_qasm_results')\" id=\"view-composer-show-qasm-btn\">Simulator (error free)</button>\n<button class=\"btn btn-default mr-4\" data-active=\"False\" data-rh-exec=\"toggle_data_attr('show_mock_results')\" id=\"view-composer-show-mock-btn\">Simulator (real quantum device)</button>\n<button class=\"btn btn-default mr-4\" data-rh-exec=\"open_circuit_on_ibmq()\">Export to IBM Quantum Composer</button>\n</div>\n",
       "_view_module_version": "^0.1.0",
       "layout": "IPY_MODEL_aebaffba328344b1ac6c99313f3c6bad"
      }
     },
     "1fd552936ca1414eb06ab3a4048dd0c5": {
      "model_module": "@jupyter-widgets/base",
      "model_module_version": "1.2.0",
      "model_name": "LayoutModel",
      "state": {}
     },
     "209d12eb5b674234b9eb7c1083aba9b6": {
      "model_module": "@jupyter-widgets/base",
      "model_module_version": "1.2.0",
      "model_name": "LayoutModel",
      "state": {}
     },
     "2131f35b5d5d44f2bae2584d55405a72": {
      "model_module": "@jupyter-widgets/base",
      "model_module_version": "1.2.0",
      "model_name": "LayoutModel",
      "state": {}
     },
     "21523bdf88c945ff84c529a5da8af7c8": {
      "model_module": "@jupyter-widgets/base",
      "model_module_version": "1.2.0",
      "model_name": "LayoutModel",
      "state": {}
     },
     "23445b1189ab4d9f8bcb9fe5f552ce66": {
      "model_module": "appwidgets",
      "model_module_version": "^0.1.0",
      "model_name": "ReactiveHtmlModel",
      "state": {
       "_css": "",
       "_model_module_version": "^0.1.0",
       "_rendered": "\n<div class=\"app-view-content\">\n<h1>Oh no, something went wrong <img alt=\"Knocked-out face\" src=\"icons/openmoji-svg-color/1F635.svg\"/></h1>\n</div>\n",
       "_view_module_version": "^0.1.0",
       "layout": "IPY_MODEL_2b90176567014e5e8bdff67798bc0057"
      }
     },
     "23cecf68cfda4b6aae1f26c760868777": {
      "model_module": "appwidgets",
      "model_module_version": "^0.1.0",
      "model_name": "ReactiveHtmlModel",
      "state": {
       "_css": "",
       "_model_module_version": "^0.1.0",
       "_rendered": "\n<div class=\"app-view-content\">\n<h1>Oh no, something went wrong <img alt=\"Knocked-out face\" src=\"icons/openmoji-svg-color/1F635.svg\"/></h1>\n</div>\n",
       "_view_module_version": "^0.1.0",
       "layout": "IPY_MODEL_4563e3748cf7487eb45d3cfd5bc13887"
      }
     },
     "250a3b8453114a05b925d63af380b2dc": {
      "model_module": "@jupyter-widgets/base",
      "model_module_version": "1.2.0",
      "model_name": "LayoutModel",
      "state": {}
     },
     "252dcb68cf734ce0b8f649e1bb76781c": {
      "model_module": "@jupyter-widgets/base",
      "model_module_version": "1.2.0",
      "model_name": "LayoutModel",
      "state": {}
     },
     "2559c145f37c4522a9ec190273927a9c": {
      "model_module": "appwidgets",
      "model_module_version": "^0.1.0",
      "model_name": "ReactiveHtmlModel",
      "state": {
       "_css": "\n.<<VIEW_ID>> #view-composer-button-bar button {\n\n    border-radius: 0;\n\n    font-size: 1.5em;\n\n}\n\n\n\n.<<VIEW_ID>> #view-composer-show-theo-btn {\n\n    border-left-width: 10px;\n\n    border-color: rgb(40, 105, 245);\n\n}\n\n\n\n.<<VIEW_ID>> #view-composer-show-qasm-btn {\n\n    border-left-width: 10px;\n\n    border-color: rgb(116, 0, 123);\n\n}\n\n\n\n.<<VIEW_ID>> #view-composer-show-mock-btn {\n\n    border-left-width: 10px;\n\n    border-color: rgb(0, 135, 92);\n\n}\n\n\n\n.<<VIEW_ID>> #view-composer-show-theo-btn[data-active=\"True\"] {\n\n    background-color:rgba(40, 105, 245, 0.4);\n\n}\n\n\n\n.<<VIEW_ID>> #view-composer-show-qasm-btn[data-active=\"True\"] {\n\n    background-color:rgba(116, 0, 123, 0.4);\n\n}\n\n\n\n.<<VIEW_ID>> #view-composer-show-mock-btn[data-active=\"True\"] {\n\n    background-color:rgba(0, 135, 92, 0.4);\n\n}\n\n\n\n.<<VIEW_ID>> #view-composer-button-bar .mr-4 {\n\n    margin-right: 20px;\n\n}\n\n\n\n.<<VIEW_ID>> #view-composer-hist-header h3 {\n\n    font-size: 2em;\n\n    margin-bottom: 20px;\n\n}",
       "_model_module_version": "^0.1.0",
       "_rendered": "\n<div id=\"view-composer-hist-header\">\n<h3>Measurement Probabilities</h3>\n</div>\n<div id=\"view-composer-button-bar\">\n<button class=\"btn btn-default\" data-active=\"True\" id=\"view-composer-show-theo-btn\">Theoretical</button>\n<button class=\"btn btn-default\" data-active=\"False\" data-rh-exec=\"toggle_data_attr('show_qasm_results')\" id=\"view-composer-show-qasm-btn\">Simulator (error free)</button>\n<button class=\"btn btn-default mr-4\" data-active=\"False\" data-rh-exec=\"toggle_data_attr('show_mock_results')\" id=\"view-composer-show-mock-btn\">Simulator (real quantum device)</button>\n<button class=\"btn btn-default mr-4\" data-rh-exec=\"open_circuit_on_ibmq()\">Export to IBM Quantum Composer</button>\n</div>\n",
       "_view_module_version": "^0.1.0",
       "layout": "IPY_MODEL_14edf5bd7fbe4e8da03c58131f4e5557"
      }
     },
     "256e071a28824bf0a84c12a34f24221b": {
      "model_module": "appwidgets",
      "model_module_version": "^0.1.0",
      "model_name": "ReactiveHtmlModel",
      "state": {
       "_css": "\n.<<VIEW_ID>> #view-composer-singleshot button {\n\n    font-size: 1.5em;\n\n}\n\n\n\n.<<VIEW_ID>> #view-composer-singleshot button.btn-primary {\n\n    color: white;\n\n    background-color: rgba(40, 105, 245);\n\n    border-color: rgba(40, 105, 245);\n\n    border-radius: 0;\n\n}\n\n\n\n\n\n.<<VIEW_ID>> .view-composer-order-text p {\n\n    margin-top: 20px;\n\n    margin-bottom: 30px;\n\n    width: 100%;\n\n    text-align: center;\n\n    font-size: 3em;\n\n    line-height: 1.2;\n\n}",
       "_model_module_version": "^0.1.0",
       "_rendered": "\n<div id=\"view-composer-singleshot-container\">\n<div id=\"view-composer-singleshot\">\n<button class=\"btn btn-primary btn-block\" data-rh-exec=\"get_single_shot_result()\">Determine your beverage</button>\n<br/>\n\n\n<div class=\"view-composer-order-text width-100\" data-rh-if=\"3==3\">\n<p><img alt=\"Thumbs up\" src=\"icons/openmoji-svg-color/1F44D.svg\"/><br/>Thank you and enjoy your drink</p>\n<button class=\"btn btn-primary btn-block\" data-rh-exec=\"load_welcome()\">Back</button>\n</div>\n\n<br>\n</br></div>\n</div>\n",
       "_view_module_version": "^0.1.0",
       "layout": "IPY_MODEL_723a29522cd743a7995d8abc9cd357bb"
      }
     },
     "25a10fd53a61464fb6b403fbb5d923e6": {
      "model_module": "@jupyter-widgets/base",
      "model_module_version": "1.2.0",
      "model_name": "LayoutModel",
      "state": {}
     },
     "25e8079cea8a46abafdefb6d88c249d9": {
      "model_module": "@jupyter-widgets/base",
      "model_module_version": "1.2.0",
      "model_name": "WidgetModel",
      "state": {
       "_view_module": null,
       "_view_module_version": "",
       "composer_init_circuit": {
        "id": "empty",
        "init_text": "",
        "name": "Start the Qoffee Maker"
       },
       "heading": "Qoffee Maker powered by <b>IBM Quantum</b>",
       "histogram_anal": {
        "000": 0.5000045521,
        "001": 0.5000045521,
        "010": 0,
        "011": 0,
        "100": 0,
        "101": 0,
        "110": 0,
        "111": 0
       },
       "histogram_mock": {
        "000": 0,
        "001": 0,
        "010": 0,
        "011": 0,
        "100": 0,
        "101": 0,
        "110": 0,
        "111": 0
       },
       "histogram_qasm": {
        "000": 0.51625,
        "001": 0.48375,
        "010": 0,
        "011": 0,
        "100": 0,
        "101": 0,
        "110": 0,
        "111": 0
       },
       "qasm": "OPENQASM 2.0;\ninclude \"qelib1.inc\";\nqreg q[3];\ncreg c[3];\nh q[0];\n",
       "show_mock_results": false,
       "show_qasm_results": false,
       "single_shot_device": "simulator",
       "single_shot_result": {
        "bit": "001",
        "id": "hotchocolate",
        "name": "Hot Chocolate"
       },
       "single_shot_status": 4,
       "use_real_device": false,
       "view": "composer"
      }
     },
     "26ff06e694bc47948ec158ee8a80aa50": {
      "model_module": "@jupyter-widgets/base",
      "model_module_version": "1.2.0",
      "model_name": "LayoutModel",
      "state": {}
     },
     "26ff4d15b4824f34b434a85995d9dcd1": {
      "model_module": "appwidgets",
      "model_module_version": "^0.1.0",
      "model_name": "ReactiveHtmlModel",
      "state": {
       "_css": "\n.<<VIEW_ID>> #view-welcome h3 {\n\n    font-size: 2em;\n\n}\n\n\n\n.<<VIEW_ID>> #view-welcome h4, #view-welcome h5 {\n\n    font-size: 1.7em;\n\n    margin-bottom: 1em;\n\n}\n\n\n\n.<<VIEW_ID>> #view-welcome .card {\n\n    padding: 10px 10px 30px 10px;\n\n    margin: 2px;\n\n    background-color: rgba(244, 244, 244);\n\n    height: 180px; /*calc(100% - 4px);*/\n\n    border-radius: 0;\n\n    border-width: 0;\n\n    position: relative;\n\n    cursor: pointer;\n\n}\n\n\n\n.<<VIEW_ID>> #view-welcome .card-primary .card {\n\n    background-color: rgba(40, 105, 245);\n\n    color: white;\n\n}\n\n\n\n.<<VIEW_ID>> #view-welcome p {\n\n    font-size: 1.3em;\n\n}\n\n\n\n.<<VIEW_ID>> #view-welcome span.arrow {\n\n    color: rgba(40, 105, 245);\n\n    position: absolute;\n\n    bottom: 10px;\n\n    left: 20px;\n\n    font-size: 1.5em;\n\n}\n\n\n\n.<<VIEW_ID>> #view-welcome .card-primary span.arrow {\n\n    color: white;\n\n}\n\n\n\n.<<VIEW_ID>> #view-welcome .mt-4 {\n\n    margin-top: 20px;\n\n}",
       "_model_module_version": "^0.1.0",
       "_rendered": "\n<div class=\"app-view-content\" id=\"view-welcome\">\n<h3>Welcome to the Qoffee Maker</h3>\n<br/>\n<div class=\"row mt-4\">\n<div class=\"col-md-12\">\n<div class=\"row align-items-stretch card-primary\">\n<div class=\"col-md-3\">\n<div class=\"card\" data-rh-exec=\"load_starting_point('empty')\">\n<div class=\"card-body\">\n<h5 class=\"card-title\">Start the Qoffee Maker</h5>\n<p class=\"card-text\"></p>\n<span class=\"arrow\">→</span>\n</div>\n</div>\n</div>\n</div>\n</div>\n</div>\n<br/>\n<br/>\n<br/>\n<div class=\"row mt-4\">\n<div class=\"col-md-12\">\n<h4>Start with the examples from qoffee-maker.org</h4>\n<div class=\"row align-items-stretch\">\n<div class=\"col-md-3\">\n<div class=\"card\" data-rh-exec=\"load_starting_point('anything')\">\n<div class=\"card-body\">\n<h5 class=\"card-title\">Just something to drink</h5>\n<p class=\"card-text\"></p>\n<span class=\"arrow\">→</span>\n</div>\n</div>\n</div>\n<div class=\"col-md-3\">\n<div class=\"card\" data-rh-exec=\"load_starting_point('cappucino')\">\n<div class=\"card-body\">\n<h5 class=\"card-title\">Only Cappucino</h5>\n<p class=\"card-text\"></p>\n<span class=\"arrow\">→</span>\n</div>\n</div>\n</div>\n<div class=\"col-md-3\">\n<div class=\"card\" data-rh-exec=\"load_starting_point('withoutcoffein')\">\n<div class=\"card-body\">\n<h5 class=\"card-title\">Without caffein</h5>\n<p class=\"card-text\"></p>\n<span class=\"arrow\">→</span>\n</div>\n</div>\n</div>\n<div class=\"col-md-3\">\n<div class=\"card\" data-rh-exec=\"load_starting_point('nothingstrong')\">\n<div class=\"card-body\">\n<h5 class=\"card-title\">Nothing Strong</h5>\n<p class=\"card-text\"></p>\n<span class=\"arrow\">→</span>\n</div>\n</div>\n</div>\n<div class=\"col-md-3\">\n<div class=\"card\" data-rh-exec=\"load_starting_point('teaorcoffee')\">\n<div class=\"card-body\">\n<h5 class=\"card-title\">Tea or Coffee</h5>\n<p class=\"card-text\"></p>\n<span class=\"arrow\">→</span>\n</div>\n</div>\n</div>\n</div>\n</div>\n</div>\n</div>\n",
       "_view_module_version": "^0.1.0",
       "layout": "IPY_MODEL_1fd552936ca1414eb06ab3a4048dd0c5"
      }
     },
     "281d731e516d48b5934fd75d14491fab": {
      "model_module": "@jupyter-widgets/base",
      "model_module_version": "1.2.0",
      "model_name": "LayoutModel",
      "state": {}
     },
     "28fec4da322047bdba29cea00b948a28": {
      "model_module": "@jupyter-widgets/base",
      "model_module_version": "1.2.0",
      "model_name": "LayoutModel",
      "state": {}
     },
     "2acc78a26852455b90b36eaafc9c525c": {
      "model_module": "appwidgets",
      "model_module_version": "^0.1.0",
      "model_name": "ReactiveHtmlModel",
      "state": {
       "_css": "\n.<<VIEW_ID>> #view-composer-button-bar button {\n\n    border-radius: 0;\n\n    font-size: 1.5em;\n\n}\n\n\n\n.<<VIEW_ID>> #view-composer-show-theo-btn {\n\n    border-left-width: 10px;\n\n    border-color: rgb(40, 105, 245);\n\n}\n\n\n\n.<<VIEW_ID>> #view-composer-show-qasm-btn {\n\n    border-left-width: 10px;\n\n    border-color: rgb(116, 0, 123);\n\n}\n\n\n\n.<<VIEW_ID>> #view-composer-show-mock-btn {\n\n    border-left-width: 10px;\n\n    border-color: rgb(0, 135, 92);\n\n}\n\n\n\n.<<VIEW_ID>> #view-composer-show-theo-btn[data-active=\"True\"] {\n\n    background-color:rgba(40, 105, 245, 0.4);\n\n}\n\n\n\n.<<VIEW_ID>> #view-composer-show-qasm-btn[data-active=\"True\"] {\n\n    background-color:rgba(116, 0, 123, 0.4);\n\n}\n\n\n\n.<<VIEW_ID>> #view-composer-show-mock-btn[data-active=\"True\"] {\n\n    background-color:rgba(0, 135, 92, 0.4);\n\n}\n\n\n\n.<<VIEW_ID>> #view-composer-button-bar .mr-4 {\n\n    margin-right: 20px;\n\n}\n\n\n\n.<<VIEW_ID>> #view-composer-hist-header h3 {\n\n    font-size: 2em;\n\n    margin-bottom: 20px;\n\n}",
       "_model_module_version": "^0.1.0",
       "_rendered": "\n<div id=\"view-composer-hist-header\">\n<h3>Measurement Probabilities</h3>\n</div>\n<div id=\"view-composer-button-bar\">\n<button class=\"btn btn-default\" data-active=\"True\" id=\"view-composer-show-theo-btn\">Theoretical</button>\n<button class=\"btn btn-default\" data-active=\"False\" data-rh-exec=\"toggle_data_attr('show_qasm_results')\" id=\"view-composer-show-qasm-btn\">Simulator (error free)</button>\n<button class=\"btn btn-default mr-4\" data-active=\"False\" data-rh-exec=\"toggle_data_attr('show_mock_results')\" id=\"view-composer-show-mock-btn\">Simulator (real quantum device)</button>\n<button class=\"btn btn-default mr-4\" data-rh-exec=\"open_circuit_on_ibmq()\">Export to IBM Quantum Composer</button>\n</div>\n",
       "_view_module_version": "^0.1.0",
       "layout": "IPY_MODEL_fbc06f1a428040d09606d47609de5daa"
      }
     },
     "2b90176567014e5e8bdff67798bc0057": {
      "model_module": "@jupyter-widgets/base",
      "model_module_version": "1.2.0",
      "model_name": "LayoutModel",
      "state": {}
     },
     "2c092b8270684b2aa0c1b2c22eaa56cd": {
      "model_module": "@jupyter-widgets/controls",
      "model_module_version": "1.5.0",
      "model_name": "VBoxModel",
      "state": {
       "children": [
        "IPY_MODEL_a22ebe907b2948ad84b1ad2db496e128",
        "IPY_MODEL_9eb8f585001c4ffb96034e3842bbd236"
       ],
       "layout": "IPY_MODEL_78e6e0e21b5d4014887f68d4ded031c6"
      }
     },
     "2cd7d6954b2048129665a65cee784304": {
      "model_module": "@jupyter-widgets/base",
      "model_module_version": "1.2.0",
      "model_name": "LayoutModel",
      "state": {}
     },
     "2d869eed076444f3a5dcc90fa7aae347": {
      "model_module": "@jupyter-widgets/base",
      "model_module_version": "1.2.0",
      "model_name": "LayoutModel",
      "state": {}
     },
     "2dbccbefd955473bbbbc055a5a75fbe5": {
      "model_module": "@jupyter-widgets/controls",
      "model_module_version": "1.5.0",
      "model_name": "HBoxModel",
      "state": {
       "children": [
        "IPY_MODEL_4ed5c42fd26c40059e901c5a3dbea842",
        "IPY_MODEL_1d56aa87da2f468c89024a9b749b657d"
       ],
       "layout": "IPY_MODEL_b5a8db8770184df7ade5704ed6c91833"
      }
     },
     "2fd45dbb16a64ed2a7cab9c310441525": {
      "model_module": "@jupyter-widgets/base",
      "model_module_version": "1.2.0",
      "model_name": "LayoutModel",
      "state": {}
     },
     "3052fe00758c448ebdaf69167aefe319": {
      "model_module": "appwidgets",
      "model_module_version": "^0.1.0",
      "model_name": "ReactiveHtmlModel",
      "state": {
       "_css": "\n.<<VIEW_ID>> p {\n\n    font-size: 1.5em;\n\n    margin-bottom: 40px;\n\n}\n\n\n\n.<<VIEW_ID>> span {\n\n    color: rgba(40, 105, 245);\n\n    text-decoration: underline;\n\n    cursor: pointer;\n\n}",
       "_model_module_version": "^0.1.0",
       "_rendered": "\n<p>Drag &amp; Drop Quantum Gates onto the Qubits to build your circuit. <span data-rh-exec=\"load_welcome()\">Go back</span>.</p>\n",
       "_view_module_version": "^0.1.0",
       "layout": "IPY_MODEL_0b625f506a6d4621aade7c2e2847a313"
      }
     },
     "30be86a5506a41aa9232c3364a504c94": {
      "model_module": "@jupyter-widgets/base",
      "model_module_version": "1.2.0",
      "model_name": "LayoutModel",
      "state": {}
     },
     "317dc0c0018041ccba67887c2364824a": {
      "model_module": "@jupyter-widgets/controls",
      "model_module_version": "1.5.0",
      "model_name": "HBoxModel",
      "state": {
       "children": [
        "IPY_MODEL_32f9a0c2f6c3491891454c0b890a9404",
        "IPY_MODEL_f596554176604e71a286b9adc45f51e4"
       ],
       "layout": "IPY_MODEL_8dc1ca4a796b4bceabc464807e025586"
      }
     },
     "31dc334fb1854e708243154ccb7e19c2": {
      "model_module": "@jupyter-widgets/base",
      "model_module_version": "1.2.0",
      "model_name": "LayoutModel",
      "state": {}
     },
     "32f9a0c2f6c3491891454c0b890a9404": {
      "model_module": "@jupyter-widgets/controls",
      "model_module_version": "1.5.0",
      "model_name": "VBoxModel",
      "state": {
       "_dom_classes": [
        "width-80"
       ],
       "children": [
        "IPY_MODEL_3bb7910a35b84da6b24e00a7a4338620",
        "IPY_MODEL_10d0aedf1a544f70a02ee7b939174a06"
       ],
       "layout": "IPY_MODEL_a731b8ce6dae4bbe900ca803527fd599"
      }
     },
     "3343e07d6b454544be814c4f528cb072": {
      "model_module": "@jupyter-widgets/base",
      "model_module_version": "1.2.0",
      "model_name": "LayoutModel",
      "state": {}
     },
     "33f6cb5e272a4e6c9f6ec9a7737d6764": {
      "model_module": "@jupyter-widgets/controls",
      "model_module_version": "1.5.0",
      "model_name": "VBoxModel",
      "state": {
       "children": [
        "IPY_MODEL_f126fbcbbe6e496da357fa91d276de70",
        "IPY_MODEL_06314c25133e4812ae7dda2a6f08cf1b"
       ],
       "layout": "IPY_MODEL_6b51a5e4d91a41af8bcc0b2cbae00409"
      }
     },
     "34263cedb34c4ec9b03cf7a07e503f2a": {
      "model_module": "@jupyter-widgets/base",
      "model_module_version": "1.2.0",
      "model_name": "LayoutModel",
      "state": {}
     },
     "35b7aea465324e089afc6c07b74438e2": {
      "model_module": "@jupyter-widgets/controls",
      "model_module_version": "1.5.0",
      "model_name": "VBoxModel",
      "state": {
       "children": [
        "IPY_MODEL_a22ebe907b2948ad84b1ad2db496e128",
        "IPY_MODEL_9bd8630128464b4b8917ccb495593072"
       ],
       "layout": "IPY_MODEL_8cb1d892fbc04f5eb1bcb9e61d79a4c5"
      }
     },
     "372e0bc42b5149208000babbb5c41c08": {
      "model_module": "appwidgets",
      "model_module_version": "^0.1.0",
      "model_name": "ReactiveHtmlModel",
      "state": {
       "_css": "\n.<<VIEW_ID>> #header {\n\n    width: 100%;\n\n    background-color: black;\n\n    height: 58px;\n\n    display: block;\n\n    position: relative;\n\n    margin-bottom: 3em;\n\n}\n\n\n\n.<<VIEW_ID>> #header h1 {\n\n    color: white;\n\n    font-size: 26px;\n\n    line-height: 58px;\n\n    margin: 0;\n\n    padding: 0;\n\n    position: absolute;\n\n    top: 0em;\n\n    left: 62px;\n\n}\n\n\n\n.<<VIEW_ID>> #navigation-container {\n\n    position: absolute;\n\n    width: 200px;\n\n    right: 10px;\n\n    top: 0;\n\n    height: 58px;\n\n}\n\n\n\n.<<VIEW_ID>> #navigation-container button {\n\n    width: 58px;\n\n    position: absolute;\n\n    background-color: black;\n\n    border-radius: 0;\n\n    border-style: none;\n\n    height: 58px;\n\n    color: white;\n\n}\n\n\n\n.<<VIEW_ID>> #navigation-container #navigation-button-back {\n\n    right: 58px;\n\n}\n\n.<<VIEW_ID>> #navigation-container #navigation-button-help {\n\n    right: 0px;\n\n}\n\n\n\n.<<VIEW_ID>> #navigation-container #navigation-button-q {\n\n    right: 116px;\n\n}\n\n.<<VIEW_ID>> #navigation-container #navigation-button-q[data-device=ibmq] {\n\n    background-color: rgba(40, 105, 245);\n\n}\n\n.<<VIEW_ID>> #navigation-container #navigation-button-q[data-device=mock] {\n\n    background-color: rgb(0, 135, 92);\n\n}\n\n.<<VIEW_ID>> #navigation-container #navigation-button-q[data-device=simulator] {\n\n    background-color: rgb(116, 0, 123);\n\n}\n\n\n\n\n\n.<<VIEW_ID>> #header img {\n\n    position: absolute;\n\n    height: 32px;\n\n    left: 15px;\n\n    top: 13px;\n\n}",
       "_model_module_version": "^0.1.0",
       "_rendered": "\n<div id=\"header\">\n<img src=\"css/QoffeeMug.png\"/>\n<h1>Qoffee Maker powered by <b>IBM Quantum</b></h1>\n<div id=\"navigation-container\">\n<button data-device=\"simulator\" data-rh-exec=\"set_next_single_shot_device()\" id=\"navigation-button-q\">Q</button>\n<button class=\"navigation-button\" data-rh-exec=\"load_welcome()\" data-rh-if=\"composer != 'welcome'\" id=\"navigation-button-back\">ᐊ</button>\n<button data-rh-exec-js='window.openQRCode(\"http://qoffee-maker.org\", \"http://qoffee-maker.org\")' id=\"navigation-button-help\">?</button>\n</div>\n</div>\n",
       "_view_module_version": "^0.1.0",
       "layout": "IPY_MODEL_bb5c84c0a50d4ad5a0438178568fd2a5"
      }
     },
     "37c7f02b20be4967b7bec61cddccfb9d": {
      "model_module": "@jupyter-widgets/controls",
      "model_module_version": "1.5.0",
      "model_name": "VBoxModel",
      "state": {
       "_dom_classes": [
        "width-80"
       ],
       "children": [
        "IPY_MODEL_a6775961ff0e46e9a658c3ab26afe271",
        "IPY_MODEL_5cfcecd55aeb462baecf61750b0d5746"
       ],
       "layout": "IPY_MODEL_8d6e73de57064ca3837dd1fd861557c1"
      }
     },
     "38de403c6aa649a5a2a809c954935913": {
      "model_module": "appwidgets",
      "model_module_version": "^0.1.0",
      "model_name": "ReactiveHtmlModel",
      "state": {
       "_css": "\n.<<VIEW_ID>> #view-welcome h3 {\n\n    font-size: 2em;\n\n}\n\n\n\n.<<VIEW_ID>> #view-welcome h4, #view-welcome h5 {\n\n    font-size: 1.7em;\n\n    margin-bottom: 1em;\n\n}\n\n\n\n.<<VIEW_ID>> #view-welcome .card {\n\n    padding: 10px 10px 30px 10px;\n\n    margin: 2px;\n\n    background-color: rgba(244, 244, 244);\n\n    height: 180px; /*calc(100% - 4px);*/\n\n    border-radius: 0;\n\n    border-width: 0;\n\n    position: relative;\n\n    cursor: pointer;\n\n}\n\n\n\n.<<VIEW_ID>> #view-welcome .card-primary .card {\n\n    background-color: rgba(40, 105, 245);\n\n    color: white;\n\n}\n\n\n\n.<<VIEW_ID>> #view-welcome p {\n\n    font-size: 1.3em;\n\n}\n\n\n\n.<<VIEW_ID>> #view-welcome span.arrow {\n\n    color: rgba(40, 105, 245);\n\n    position: absolute;\n\n    bottom: 10px;\n\n    left: 20px;\n\n    font-size: 1.5em;\n\n}\n\n\n\n.<<VIEW_ID>> #view-welcome .card-primary span.arrow {\n\n    color: white;\n\n}\n\n\n\n.<<VIEW_ID>> #view-welcome .mt-4 {\n\n    margin-top: 20px;\n\n}",
       "_model_module_version": "^0.1.0",
       "_rendered": "\n<div class=\"app-view-content\" id=\"view-welcome\">\n<h3>Welcome to the Qoffee Maker</h3>\n<br/>\n<div class=\"row mt-4\">\n<div class=\"col-md-12\">\n<div class=\"row align-items-stretch card-primary\">\n<div class=\"col-md-3\">\n<div class=\"card\" data-rh-exec=\"load_starting_point('empty')\">\n<div class=\"card-body\">\n<h5 class=\"card-title\">Start the Qoffee Maker</h5>\n<p class=\"card-text\"></p>\n<span class=\"arrow\">→</span>\n</div>\n</div>\n</div>\n</div>\n</div>\n</div>\n<br/>\n<br/>\n<br/>\n<div class=\"row mt-4\">\n<div class=\"col-md-12\">\n<h4>Start with the examples from qoffee-maker.org</h4>\n<div class=\"row align-items-stretch\">\n<div class=\"col-md-3\">\n<div class=\"card\" data-rh-exec=\"load_starting_point('anything')\">\n<div class=\"card-body\">\n<h5 class=\"card-title\">Just something to drink</h5>\n<p class=\"card-text\"></p>\n<span class=\"arrow\">→</span>\n</div>\n</div>\n</div>\n<div class=\"col-md-3\">\n<div class=\"card\" data-rh-exec=\"load_starting_point('cappucino')\">\n<div class=\"card-body\">\n<h5 class=\"card-title\">Only Cappucino</h5>\n<p class=\"card-text\"></p>\n<span class=\"arrow\">→</span>\n</div>\n</div>\n</div>\n<div class=\"col-md-3\">\n<div class=\"card\" data-rh-exec=\"load_starting_point('withoutcoffein')\">\n<div class=\"card-body\">\n<h5 class=\"card-title\">Without caffein</h5>\n<p class=\"card-text\"></p>\n<span class=\"arrow\">→</span>\n</div>\n</div>\n</div>\n<div class=\"col-md-3\">\n<div class=\"card\" data-rh-exec=\"load_starting_point('nothingstrong')\">\n<div class=\"card-body\">\n<h5 class=\"card-title\">Nothing Strong</h5>\n<p class=\"card-text\"></p>\n<span class=\"arrow\">→</span>\n</div>\n</div>\n</div>\n<div class=\"col-md-3\">\n<div class=\"card\" data-rh-exec=\"load_starting_point('teaorcoffee')\">\n<div class=\"card-body\">\n<h5 class=\"card-title\">Tea or Coffee</h5>\n<p class=\"card-text\"></p>\n<span class=\"arrow\">→</span>\n</div>\n</div>\n</div>\n</div>\n</div>\n</div>\n</div>\n",
       "_view_module_version": "^0.1.0",
       "layout": "IPY_MODEL_1522751c62cd463cbe38cf58948dd264"
      }
     },
     "39a2be52042344a6b8a58f4a0ae3ced7": {
      "model_module": "@jupyter-widgets/base",
      "model_module_version": "1.2.0",
      "model_name": "LayoutModel",
      "state": {}
     },
     "3b0e33e293f1401f8ff890fbf9afcbbc": {
      "model_module": "@jupyter-widgets/base",
      "model_module_version": "1.2.0",
      "model_name": "LayoutModel",
      "state": {}
     },
     "3b3d17cdbecb456780ca28a20de3ab1b": {
      "model_module": "@jupyter-widgets/controls",
      "model_module_version": "1.5.0",
      "model_name": "VBoxModel",
      "state": {
       "children": [
        "IPY_MODEL_dbfd2f6bf4e24d81980334e7d7771cb0",
        "IPY_MODEL_951d51dcb35f4a9faa1df56d1bf94a12"
       ],
       "layout": "IPY_MODEL_18751a077a164687946d9ed6ae755ccf"
      }
     },
     "3bb7910a35b84da6b24e00a7a4338620": {
      "model_module": "appwidgets",
      "model_module_version": "^0.1.0",
      "model_name": "ReactiveHtmlModel",
      "state": {
       "_css": "\n.<<VIEW_ID>> #view-composer-button-bar button {\n\n    border-radius: 0;\n\n    font-size: 1.5em;\n\n}\n\n\n\n.<<VIEW_ID>> #view-composer-show-theo-btn {\n\n    border-left-width: 10px;\n\n    border-color: rgb(40, 105, 245);\n\n}\n\n\n\n.<<VIEW_ID>> #view-composer-show-qasm-btn {\n\n    border-left-width: 10px;\n\n    border-color: rgb(116, 0, 123);\n\n}\n\n\n\n.<<VIEW_ID>> #view-composer-show-mock-btn {\n\n    border-left-width: 10px;\n\n    border-color: rgb(0, 135, 92);\n\n}\n\n\n\n.<<VIEW_ID>> #view-composer-show-theo-btn[data-active=\"True\"] {\n\n    background-color:rgba(40, 105, 245, 0.4);\n\n}\n\n\n\n.<<VIEW_ID>> #view-composer-show-qasm-btn[data-active=\"True\"] {\n\n    background-color:rgba(116, 0, 123, 0.4);\n\n}\n\n\n\n.<<VIEW_ID>> #view-composer-show-mock-btn[data-active=\"True\"] {\n\n    background-color:rgba(0, 135, 92, 0.4);\n\n}\n\n\n\n.<<VIEW_ID>> #view-composer-button-bar .mr-4 {\n\n    margin-right: 20px;\n\n}\n\n\n\n.<<VIEW_ID>> #view-composer-hist-header h3 {\n\n    font-size: 2em;\n\n    margin-bottom: 20px;\n\n}",
       "_model_module_version": "^0.1.0",
       "_rendered": "\n<div id=\"view-composer-hist-header\">\n<h3>Measurement Probabilities</h3>\n</div>\n<div id=\"view-composer-button-bar\">\n<button class=\"btn btn-default\" data-active=\"True\" id=\"view-composer-show-theo-btn\">Theoretical</button>\n<button class=\"btn btn-default\" data-active=\"False\" data-rh-exec=\"toggle_data_attr('show_qasm_results')\" id=\"view-composer-show-qasm-btn\">Simulator (error free)</button>\n<button class=\"btn btn-default mr-4\" data-active=\"False\" data-rh-exec=\"toggle_data_attr('show_mock_results')\" id=\"view-composer-show-mock-btn\">Simulator (real quantum device)</button>\n<button class=\"btn btn-default mr-4\" data-rh-exec=\"open_circuit_on_ibmq()\">Export to IBM Quantum Composer</button>\n</div>\n",
       "_view_module_version": "^0.1.0",
       "layout": "IPY_MODEL_161f685001a34023ac227b93853295e2"
      }
     },
     "4319d7a343b34ad18c21c0a6c2235d7a": {
      "model_module": "@jupyter-widgets/base",
      "model_module_version": "1.2.0",
      "model_name": "LayoutModel",
      "state": {}
     },
     "4563e3748cf7487eb45d3cfd5bc13887": {
      "model_module": "@jupyter-widgets/base",
      "model_module_version": "1.2.0",
      "model_name": "LayoutModel",
      "state": {}
     },
     "47479252463546699708f57bc5d8d5ca": {
      "model_module": "@jupyter-widgets/base",
      "model_module_version": "1.2.0",
      "model_name": "LayoutModel",
      "state": {}
     },
     "4752571ef70c4006979b7f5eb87a6083": {
      "model_module": "appwidgets",
      "model_module_version": "^0.1.0",
      "model_name": "ReactiveHtmlModel",
      "state": {
       "_css": "\n/*\n\n\tHistogram\n\n*/\n\n.<<VIEW_ID>> #view-composer-hist-container {\n\n\twidth: 100%;\n\n\tpadding: 0 50px 0 10px;\n\n    margin-top: 50px;\n\n}\n\n.<<VIEW_ID>> #view-composer-hist-container #view-composer-hist {\n\n\twidth: 100%;\n\n\theight: 100%;\n\n\tdisplay: flex;\n\n\tflex-direction: row;\n\n\tjustify-content: space-evenly;\n\n\talign-items: stretch;\n\n}\n\n.<<VIEW_ID>> #view-composer-hist-container .histogram-entry {\n\n\tposition: relative;\n\n\tflex: 0 0 12.5%;\n\n}\n\n.<<VIEW_ID>> #view-composer-hist-container .histogram-entry p {\n\n\ttext-align: center;\n\n    font-size: 1.5em;\n\n}\n\n.<<VIEW_ID>> #view-composer-hist-container .histogram-bar-container {\n\n\tposition: relative;\n\n\theight: 25vh;\n\n}\n\n.<<VIEW_ID>> #view-composer-hist-container .histogram-bar-outer {\n\n\twidth: 60px;\n\n\tleft: 50%;\n\n\tmargin-left: -30px;\n\n\theight: 100%;\n\n\tposition: relative;\n\n\t/* background-color: lightgray; */\n\n}\n\n.<<VIEW_ID>> #view-composer-hist-container .histogram-bar {\n\n\tposition: absolute;\n\n\tbottom: 0;\n\n\theight: 0;\n\n\twidth: 33%;\n\n}\n\n\n\n.<<VIEW_ID>> #view-composer-hist-container .histogram-bar-qasm {\n\n\tbackground-color: rgb(116, 0, 123);\n\n\tleft: 0%;\n\n}\n\n.<<VIEW_ID>> #view-composer-hist-container .histogram-bar-anal {\n\n\tbackground-color: rgba(40, 105, 245);\n\n\tleft: 33%;\n\n}\n\n.<<VIEW_ID>> #view-composer-hist-container .histogram-bar-mock {\n\n\tbackground-color: rgb(0, 135, 92);\n\n\tleft: 66%;\n\n}\n\n\n\n.<<VIEW_ID>> #view-composer-hist-container .histogram-text-container-pre {\n\n    margin-bottom: 20px;\n\n}\n\n\n\n.<<VIEW_ID>> #view-composer-hist-container .histogram-text-container-post {\n\n    margin-top: 20px;\n\n\tmargin-bottom: 10px;\n\n}",
       "_model_module_version": "^0.1.0",
       "_rendered": "\n<div id=\"view-composer-hist-container\">\n<div id=\"view-composer-hist\">\n<div class=\"histogram-entry\">\n<div class=\"histogram-text-container-pre\">\n<p><span \"=\"\" class=\"histogram-text histogram-text-ideal histogram-text-000\">50.0%</span></p>\n</div>\n<div class=\"histogram-bar-container\">\n<div class=\"histogram-bar-outer\">\n\n<div class=\"histogram-bar histogram-bar-anal histogram-bar-000\" style=\"height: 50.000455210000005%\"></div>\n\n</div>\n</div>\n<div class=\"histogram-text-container-post\">\n<p>000<br/><br/>Tea</p>\n</div>\n</div>\n<div class=\"histogram-entry\">\n<div class=\"histogram-text-container-pre\">\n<p><span \"=\"\" class=\"histogram-text histogram-text-ideal histogram-text-001\">50.0%</span></p>\n</div>\n<div class=\"histogram-bar-container\">\n<div class=\"histogram-bar-outer\">\n\n<div class=\"histogram-bar histogram-bar-anal histogram-bar-001\" style=\"height: 50.000455210000005%\"></div>\n\n</div>\n</div>\n<div class=\"histogram-text-container-post\">\n<p>001<br/><br/>Hot Chocolate</p>\n</div>\n</div>\n<div class=\"histogram-entry\">\n<div class=\"histogram-text-container-pre\">\n<p><span \"=\"\" class=\"histogram-text histogram-text-ideal histogram-text-010\">0.0%</span></p>\n</div>\n<div class=\"histogram-bar-container\">\n<div class=\"histogram-bar-outer\">\n\n<div class=\"histogram-bar histogram-bar-anal histogram-bar-010\" style=\"height: 0.0%\"></div>\n\n</div>\n</div>\n<div class=\"histogram-text-container-post\">\n<p>010<br/><br/>Espresso</p>\n</div>\n</div>\n<div class=\"histogram-entry\">\n<div class=\"histogram-text-container-pre\">\n<p><span \"=\"\" class=\"histogram-text histogram-text-ideal histogram-text-011\">0.0%</span></p>\n</div>\n<div class=\"histogram-bar-container\">\n<div class=\"histogram-bar-outer\">\n\n<div class=\"histogram-bar histogram-bar-anal histogram-bar-011\" style=\"height: 0.0%\"></div>\n\n</div>\n</div>\n<div class=\"histogram-text-container-post\">\n<p>011<br/><br/>Coffee</p>\n</div>\n</div>\n<div class=\"histogram-entry\">\n<div class=\"histogram-text-container-pre\">\n<p><span \"=\"\" class=\"histogram-text histogram-text-ideal histogram-text-100\">0.0%</span></p>\n</div>\n<div class=\"histogram-bar-container\">\n<div class=\"histogram-bar-outer\">\n\n<div class=\"histogram-bar histogram-bar-anal histogram-bar-100\" style=\"height: 0.0%\"></div>\n\n</div>\n</div>\n<div class=\"histogram-text-container-post\">\n<p>100<br/><br/>Cappucino</p>\n</div>\n</div>\n<div class=\"histogram-entry\">\n<div class=\"histogram-text-container-pre\">\n<p><span \"=\"\" class=\"histogram-text histogram-text-ideal histogram-text-101\">0.0%</span></p>\n</div>\n<div class=\"histogram-bar-container\">\n<div class=\"histogram-bar-outer\">\n\n<div class=\"histogram-bar histogram-bar-anal histogram-bar-101\" style=\"height: 0.0%\"></div>\n\n</div>\n</div>\n<div class=\"histogram-text-container-post\">\n<p>101<br/><br/>Latte Macchiato</p>\n</div>\n</div>\n<div class=\"histogram-entry\">\n<div class=\"histogram-text-container-pre\">\n<p><span \"=\"\" class=\"histogram-text histogram-text-ideal histogram-text-110\">0.0%</span></p>\n</div>\n<div class=\"histogram-bar-container\">\n<div class=\"histogram-bar-outer\">\n\n<div class=\"histogram-bar histogram-bar-anal histogram-bar-110\" style=\"height: 0.0%\"></div>\n\n</div>\n</div>\n<div class=\"histogram-text-container-post\">\n<p>110<br/><br/>Viennese Melange</p>\n</div>\n</div>\n<div class=\"histogram-entry\">\n<div class=\"histogram-text-container-pre\">\n<p><span \"=\"\" class=\"histogram-text histogram-text-ideal histogram-text-111\">0.0%</span></p>\n</div>\n<div class=\"histogram-bar-container\">\n<div class=\"histogram-bar-outer\">\n\n<div class=\"histogram-bar histogram-bar-anal histogram-bar-111\" style=\"height: 0.0%\"></div>\n\n</div>\n</div>\n<div class=\"histogram-text-container-post\">\n<p>111<br/><br/>Americano</p>\n</div>\n</div>\n</div>\n</div>\n",
       "_view_module_version": "^0.1.0",
       "layout": "IPY_MODEL_9febd037c1f8413b979f316f669cdc4c"
      }
     },
     "47eb541c5c8e4409a6364bdb46360b54": {
      "model_module": "@jupyter-widgets/base",
      "model_module_version": "1.2.0",
      "model_name": "LayoutModel",
      "state": {}
     },
     "48320e95d9da441fa6035812e1840e16": {
      "model_module": "appwidgets",
      "model_module_version": "^0.1.0",
      "model_name": "ReactiveHtmlModel",
      "state": {
       "_css": "\n.<<VIEW_ID>> #view-composer-singleshot button {\n\n    font-size: 1.5em;\n\n}\n\n\n\n.<<VIEW_ID>> #view-composer-singleshot button.btn-primary {\n\n    color: white;\n\n    background-color: rgba(40, 105, 245);\n\n    border-color: rgba(40, 105, 245);\n\n    border-radius: 0;\n\n}\n\n\n\n\n\n.<<VIEW_ID>> .view-composer-order-text p {\n\n    margin-top: 20px;\n\n    margin-bottom: 30px;\n\n    width: 100%;\n\n    text-align: center;\n\n    font-size: 3em;\n\n    line-height: 1.2;\n\n}",
       "_dom_classes": [
        "width-20"
       ],
       "_model_module_version": "^0.1.0",
       "_rendered": "\n<div id=\"view-composer-singleshot-container\">\n<div id=\"view-composer-singleshot\">\n<button class=\"btn btn-primary btn-block\" data-rh-exec=\"get_single_shot_result()\">Determine your beverage</button>\n<br/>\n\n\n<div class=\"view-composer-order-text width-100\" data-rh-if=\"3==3\">\n<p><img alt=\"Thumbs up\" src=\"icons/openmoji-svg-color/1F44D.svg\"/><br/>Thank you and enjoy your drink</p>\n<button class=\"btn btn-primary btn-block\" data-rh-exec=\"load_welcome()\">Back</button>\n</div>\n\n<br>\n</br></div>\n</div>\n",
       "_view_module_version": "^0.1.0",
       "layout": "IPY_MODEL_7d77a9ce1f1d4d94b2c04ced0a7c3935"
      }
     },
     "497f6fea79434258a8191fdcc98ba493": {
      "model_module": "@jupyter-widgets/base",
      "model_module_version": "1.2.0",
      "model_name": "LayoutModel",
      "state": {}
     },
     "498598c3f4f84f5b94fa2baf77790a4d": {
      "model_module": "@jupyter-widgets/base",
      "model_module_version": "1.2.0",
      "model_name": "LayoutModel",
      "state": {}
     },
     "4aa6a83754f14066b9d0f099721a706a": {
      "model_module": "appwidgets",
      "model_module_version": "^0.1.0",
      "model_name": "ReactiveHtmlModel",
      "state": {
       "_css": "\n/*\n\n\tHistogram\n\n*/\n\n.<<VIEW_ID>> #view-composer-hist-container {\n\n\twidth: 100%;\n\n\tpadding: 0 50px 0 10px;\n\n    margin-top: 50px;\n\n}\n\n.<<VIEW_ID>> #view-composer-hist-container #view-composer-hist {\n\n\twidth: 100%;\n\n\theight: 100%;\n\n\tdisplay: flex;\n\n\tflex-direction: row;\n\n\tjustify-content: space-evenly;\n\n\talign-items: stretch;\n\n}\n\n.<<VIEW_ID>> #view-composer-hist-container .histogram-entry {\n\n\tposition: relative;\n\n\tflex: 0 0 12.5%;\n\n}\n\n.<<VIEW_ID>> #view-composer-hist-container .histogram-entry p {\n\n\ttext-align: center;\n\n    font-size: 1.5em;\n\n}\n\n.<<VIEW_ID>> #view-composer-hist-container .histogram-bar-container {\n\n\tposition: relative;\n\n\theight: 25vh;\n\n}\n\n.<<VIEW_ID>> #view-composer-hist-container .histogram-bar-outer {\n\n\twidth: 60px;\n\n\tleft: 50%;\n\n\tmargin-left: -30px;\n\n\theight: 100%;\n\n\tposition: relative;\n\n\t/* background-color: lightgray; */\n\n}\n\n.<<VIEW_ID>> #view-composer-hist-container .histogram-bar {\n\n\tposition: absolute;\n\n\tbottom: 0;\n\n\theight: 0;\n\n\twidth: 33%;\n\n}\n\n\n\n.<<VIEW_ID>> #view-composer-hist-container .histogram-bar-qasm {\n\n\tbackground-color: rgb(116, 0, 123);\n\n\tleft: 0%;\n\n}\n\n.<<VIEW_ID>> #view-composer-hist-container .histogram-bar-anal {\n\n\tbackground-color: rgba(40, 105, 245);\n\n\tleft: 33%;\n\n}\n\n.<<VIEW_ID>> #view-composer-hist-container .histogram-bar-mock {\n\n\tbackground-color: rgb(0, 135, 92);\n\n\tleft: 66%;\n\n}\n\n\n\n.<<VIEW_ID>> #view-composer-hist-container .histogram-text-container-pre {\n\n    margin-bottom: 20px;\n\n}\n\n\n\n.<<VIEW_ID>> #view-composer-hist-container .histogram-text-container-post {\n\n    margin-top: 20px;\n\n\tmargin-bottom: 10px;\n\n}",
       "_model_module_version": "^0.1.0",
       "_rendered": "\n<div id=\"view-composer-hist-container\">\n<div id=\"view-composer-hist\">\n<div class=\"histogram-entry\">\n<div class=\"histogram-text-container-pre\">\n<p><span \"=\"\" class=\"histogram-text histogram-text-ideal histogram-text-000\">50.0%</span></p>\n</div>\n<div class=\"histogram-bar-container\">\n<div class=\"histogram-bar-outer\">\n\n<div class=\"histogram-bar histogram-bar-anal histogram-bar-000\" style=\"height: 50.000455210000005%\"></div>\n\n</div>\n</div>\n<div class=\"histogram-text-container-post\">\n<p>000<br/><br/>Tea</p>\n</div>\n</div>\n<div class=\"histogram-entry\">\n<div class=\"histogram-text-container-pre\">\n<p><span \"=\"\" class=\"histogram-text histogram-text-ideal histogram-text-001\">50.0%</span></p>\n</div>\n<div class=\"histogram-bar-container\">\n<div class=\"histogram-bar-outer\">\n\n<div class=\"histogram-bar histogram-bar-anal histogram-bar-001\" style=\"height: 50.000455210000005%\"></div>\n\n</div>\n</div>\n<div class=\"histogram-text-container-post\">\n<p>001<br/><br/>Hot Chocolate</p>\n</div>\n</div>\n<div class=\"histogram-entry\">\n<div class=\"histogram-text-container-pre\">\n<p><span \"=\"\" class=\"histogram-text histogram-text-ideal histogram-text-010\">0.0%</span></p>\n</div>\n<div class=\"histogram-bar-container\">\n<div class=\"histogram-bar-outer\">\n\n<div class=\"histogram-bar histogram-bar-anal histogram-bar-010\" style=\"height: 0.0%\"></div>\n\n</div>\n</div>\n<div class=\"histogram-text-container-post\">\n<p>010<br/><br/>Espresso</p>\n</div>\n</div>\n<div class=\"histogram-entry\">\n<div class=\"histogram-text-container-pre\">\n<p><span \"=\"\" class=\"histogram-text histogram-text-ideal histogram-text-011\">0.0%</span></p>\n</div>\n<div class=\"histogram-bar-container\">\n<div class=\"histogram-bar-outer\">\n\n<div class=\"histogram-bar histogram-bar-anal histogram-bar-011\" style=\"height: 0.0%\"></div>\n\n</div>\n</div>\n<div class=\"histogram-text-container-post\">\n<p>011<br/><br/>Coffee</p>\n</div>\n</div>\n<div class=\"histogram-entry\">\n<div class=\"histogram-text-container-pre\">\n<p><span \"=\"\" class=\"histogram-text histogram-text-ideal histogram-text-100\">0.0%</span></p>\n</div>\n<div class=\"histogram-bar-container\">\n<div class=\"histogram-bar-outer\">\n\n<div class=\"histogram-bar histogram-bar-anal histogram-bar-100\" style=\"height: 0.0%\"></div>\n\n</div>\n</div>\n<div class=\"histogram-text-container-post\">\n<p>100<br/><br/>Cappucino</p>\n</div>\n</div>\n<div class=\"histogram-entry\">\n<div class=\"histogram-text-container-pre\">\n<p><span \"=\"\" class=\"histogram-text histogram-text-ideal histogram-text-101\">0.0%</span></p>\n</div>\n<div class=\"histogram-bar-container\">\n<div class=\"histogram-bar-outer\">\n\n<div class=\"histogram-bar histogram-bar-anal histogram-bar-101\" style=\"height: 0.0%\"></div>\n\n</div>\n</div>\n<div class=\"histogram-text-container-post\">\n<p>101<br/><br/>Latte Macchiato</p>\n</div>\n</div>\n<div class=\"histogram-entry\">\n<div class=\"histogram-text-container-pre\">\n<p><span \"=\"\" class=\"histogram-text histogram-text-ideal histogram-text-110\">0.0%</span></p>\n</div>\n<div class=\"histogram-bar-container\">\n<div class=\"histogram-bar-outer\">\n\n<div class=\"histogram-bar histogram-bar-anal histogram-bar-110\" style=\"height: 0.0%\"></div>\n\n</div>\n</div>\n<div class=\"histogram-text-container-post\">\n<p>110<br/><br/>Viennese Melange</p>\n</div>\n</div>\n<div class=\"histogram-entry\">\n<div class=\"histogram-text-container-pre\">\n<p><span \"=\"\" class=\"histogram-text histogram-text-ideal histogram-text-111\">0.0%</span></p>\n</div>\n<div class=\"histogram-bar-container\">\n<div class=\"histogram-bar-outer\">\n\n<div class=\"histogram-bar histogram-bar-anal histogram-bar-111\" style=\"height: 0.0%\"></div>\n\n</div>\n</div>\n<div class=\"histogram-text-container-post\">\n<p>111<br/><br/>Americano</p>\n</div>\n</div>\n</div>\n</div>\n",
       "_view_module_version": "^0.1.0",
       "layout": "IPY_MODEL_958be7013fae440fb89752845f88a046"
      }
     },
     "4af131f4c68549bfb92e73fc55b929f7": {
      "model_module": "@jupyter-widgets/controls",
      "model_module_version": "1.5.0",
      "model_name": "HBoxModel",
      "state": {
       "children": [
        "IPY_MODEL_37c7f02b20be4967b7bec61cddccfb9d",
        "IPY_MODEL_94161204f85b4a63b841724b58fa7612"
       ],
       "layout": "IPY_MODEL_c70e37b626eb41e98d052ccabd9d69ea"
      }
     },
     "4b8f11ab57c148948aead71258abfe39": {
      "model_module": "@jupyter-widgets/controls",
      "model_module_version": "1.5.0",
      "model_name": "HBoxModel",
      "state": {
       "children": [
        "IPY_MODEL_a6dfd320d98142b193f35c3fcba9600d",
        "IPY_MODEL_1e507c3219e04fe7a2ff6bffd3588e90"
       ],
       "layout": "IPY_MODEL_d2c25edb90a84115bfa3353c374f18b0"
      }
     },
     "4bc1c757498648d1ac1ebe5f7daecebe": {
      "model_module": "@jupyter-widgets/base",
      "model_module_version": "1.2.0",
      "model_name": "LayoutModel",
      "state": {}
     },
     "4ce75fe10742475f872957fa1834d8af": {
      "model_module": "@jupyter-widgets/base",
      "model_module_version": "1.2.0",
      "model_name": "LayoutModel",
      "state": {}
     },
     "4d94a67e4a0f43b49f6eaa1906a1052e": {
      "model_module": "@jupyter-widgets/controls",
      "model_module_version": "1.5.0",
      "model_name": "VBoxModel",
      "state": {
       "children": [
        "IPY_MODEL_a22ebe907b2948ad84b1ad2db496e128",
        "IPY_MODEL_b8cca0a574534e9f8bd3120c5ed7a144"
       ],
       "layout": "IPY_MODEL_f7ba9bfd4a9d4f1988116817dba74669"
      }
     },
     "4e9607ab73a245e6addd5e5ed740e8c3": {
      "model_module": "@jupyter-widgets/controls",
      "model_module_version": "1.5.0",
      "model_name": "VBoxModel",
      "state": {
       "children": [
        "IPY_MODEL_dbfd2f6bf4e24d81980334e7d7771cb0",
        "IPY_MODEL_82b9dba8886041ae9c6ebeadea78c503"
       ],
       "layout": "IPY_MODEL_ca5adaaef66e405fb144895b6aa1958d"
      }
     },
     "4ed5c42fd26c40059e901c5a3dbea842": {
      "model_module": "@jupyter-widgets/controls",
      "model_module_version": "1.5.0",
      "model_name": "VBoxModel",
      "state": {
       "_dom_classes": [
        "width-80"
       ],
       "children": [
        "IPY_MODEL_2559c145f37c4522a9ec190273927a9c",
        "IPY_MODEL_e342e563bfb54a249c7558ca4190e1a0"
       ],
       "layout": "IPY_MODEL_dd7f623af28f42f68c89b8f85a3f0e67"
      }
     },
     "4ee2033fee0f4db1b4f9d957063ed04c": {
      "model_module": "@jupyter-widgets/controls",
      "model_module_version": "1.5.0",
      "model_name": "VBoxModel",
      "state": {
       "children": [
        "IPY_MODEL_f126fbcbbe6e496da357fa91d276de70",
        "IPY_MODEL_b6860781de194cd39ebf56f5afe21fad"
       ],
       "layout": "IPY_MODEL_818c193de8184a06a14f49a21cfdf7e3"
      }
     },
     "4fba004f3b5746528750d6886078348c": {
      "model_module": "@jupyter-widgets/base",
      "model_module_version": "1.2.0",
      "model_name": "LayoutModel",
      "state": {}
     },
     "50258e28fbe346749df9c59a3a074841": {
      "model_module": "appwidgets",
      "model_module_version": "^0.1.0",
      "model_name": "ReactiveHtmlModel",
      "state": {
       "_css": "\n.<<VIEW_ID>> #view-composer-singleshot button {\n\n    font-size: 1.5em;\n\n}\n\n\n\n.<<VIEW_ID>> #view-composer-singleshot button.btn-primary {\n\n    color: white;\n\n    background-color: rgba(40, 105, 245);\n\n    border-color: rgba(40, 105, 245);\n\n    border-radius: 0;\n\n}\n\n\n\n\n\n.<<VIEW_ID>> .view-composer-order-text p {\n\n    margin-top: 20px;\n\n    margin-bottom: 30px;\n\n    width: 100%;\n\n    text-align: center;\n\n    font-size: 3em;\n\n    line-height: 1.2;\n\n}",
       "_model_module_version": "^0.1.0",
       "_rendered": "\n<div id=\"view-composer-singleshot-container\">\n<div id=\"view-composer-singleshot\">\n<button class=\"btn btn-primary btn-block\" data-rh-exec=\"get_single_shot_result()\">Determine your beverage</button>\n<br/>\n\n\n<div class=\"view-composer-order-text width-100\" data-rh-if=\"3==3\">\n<p><img alt=\"Thumbs up\" src=\"icons/openmoji-svg-color/1F44D.svg\"/><br/>Thank you and enjoy your drink</p>\n<button class=\"btn btn-primary btn-block\" data-rh-exec=\"load_welcome()\">Back</button>\n</div>\n\n<br>\n</br></div>\n</div>\n",
       "_view_module_version": "^0.1.0",
       "layout": "IPY_MODEL_5c471f130add43cba5edb6a888ab4099"
      }
     },
     "51eb17833bf84369b8daabbd8fe9629e": {
      "model_module": "@jupyter-widgets/base",
      "model_module_version": "1.2.0",
      "model_name": "LayoutModel",
      "state": {}
     },
     "51f549fac953468ea2f405e8821a0035": {
      "model_module": "@jupyter-widgets/base",
      "model_module_version": "1.2.0",
      "model_name": "LayoutModel",
      "state": {}
     },
     "54237c4ffdb743559ddc2e7fa61f7da4": {
      "model_module": "appwidgets",
      "model_module_version": "^0.1.0",
      "model_name": "ReactiveHtmlModel",
      "state": {
       "_css": "\n.<<VIEW_ID>> #header {\n\n    width: 100%;\n\n    background-color: black;\n\n    height: 58px;\n\n    display: block;\n\n    position: relative;\n\n    margin-bottom: 3em;\n\n}\n\n\n\n.<<VIEW_ID>> #header h1 {\n\n    color: white;\n\n    font-size: 26px;\n\n    line-height: 58px;\n\n    margin: 0;\n\n    padding: 0;\n\n    position: absolute;\n\n    top: 0em;\n\n    left: 62px;\n\n}\n\n\n\n.<<VIEW_ID>> #navigation-container {\n\n    position: absolute;\n\n    width: 200px;\n\n    right: 10px;\n\n    top: 0;\n\n    height: 58px;\n\n}\n\n\n\n.<<VIEW_ID>> #navigation-container button {\n\n    width: 58px;\n\n    position: absolute;\n\n    background-color: black;\n\n    border-radius: 0;\n\n    border-style: none;\n\n    height: 58px;\n\n    color: white;\n\n}\n\n\n\n.<<VIEW_ID>> #navigation-container #navigation-button-back {\n\n    right: 58px;\n\n}\n\n.<<VIEW_ID>> #navigation-container #navigation-button-help {\n\n    right: 0px;\n\n}\n\n\n\n.<<VIEW_ID>> #navigation-container #navigation-button-q {\n\n    right: 116px;\n\n}\n\n.<<VIEW_ID>> #navigation-container #navigation-button-q[data-device=ibmq] {\n\n    background-color: rgba(40, 105, 245);\n\n}\n\n.<<VIEW_ID>> #navigation-container #navigation-button-q[data-device=mock] {\n\n    background-color: rgb(0, 135, 92);\n\n}\n\n.<<VIEW_ID>> #navigation-container #navigation-button-q[data-device=simulator] {\n\n    background-color: rgb(116, 0, 123);\n\n}\n\n\n\n\n\n.<<VIEW_ID>> #header img {\n\n    position: absolute;\n\n    height: 32px;\n\n    left: 15px;\n\n    top: 13px;\n\n}",
       "_model_module_version": "^0.1.0",
       "_rendered": "\n<div id=\"header\">\n<img src=\"css/QoffeeMug.png\"/>\n<h1>Qoffee Maker powered by <b>IBM Quantum</b></h1>\n<div id=\"navigation-container\">\n<button data-device=\"simulator\" data-rh-exec=\"set_next_single_shot_device()\" id=\"navigation-button-q\">Q</button>\n<button class=\"navigation-button\" data-rh-exec=\"load_welcome()\" data-rh-if=\"composer != 'welcome'\" id=\"navigation-button-back\">ᐊ</button>\n<button data-rh-exec-js='window.openQRCode(\"http://qoffee-maker.org\", \"http://qoffee-maker.org\")' id=\"navigation-button-help\">?</button>\n</div>\n</div>\n",
       "_view_module_version": "^0.1.0",
       "layout": "IPY_MODEL_ebcd719345b94065a60ecb3094df904a"
      }
     },
     "5538bf754b824e699165d3bad54108d5": {
      "model_module": "@jupyter-widgets/base",
      "model_module_version": "1.2.0",
      "model_name": "LayoutModel",
      "state": {}
     },
     "554105e8491d465587fc5521e93837b9": {
      "model_module": "@jupyter-widgets/base",
      "model_module_version": "1.2.0",
      "model_name": "LayoutModel",
      "state": {}
     },
     "5541b5764b2c48e68d195f39d7b6deda": {
      "model_module": "appwidgets",
      "model_module_version": "^0.1.0",
      "model_name": "ReactiveHtmlModel",
      "state": {
       "_css": "\n.<<VIEW_ID>> p {\n\n    font-size: 1.5em;\n\n    margin-bottom: 40px;\n\n}\n\n\n\n.<<VIEW_ID>> span {\n\n    color: rgba(40, 105, 245);\n\n    text-decoration: underline;\n\n    cursor: pointer;\n\n}",
       "_model_module_version": "^0.1.0",
       "_rendered": "\n<p>Drag &amp; Drop Quantum Gates onto the Qubits to build your circuit. <span data-rh-exec=\"load_welcome()\">Go back</span>.</p>\n",
       "_view_module_version": "^0.1.0",
       "layout": "IPY_MODEL_19f43b123ea84100885635b1a2b70a58"
      }
     },
     "559bcd1ed79047f486bc7b9dfa23197b": {
      "model_module": "@jupyter-widgets/base",
      "model_module_version": "1.2.0",
      "model_name": "LayoutModel",
      "state": {}
     },
     "55dc5f2c580c4d5ab09ee26b692bb565": {
      "model_module": "@jupyter-widgets/base",
      "model_module_version": "1.2.0",
      "model_name": "LayoutModel",
      "state": {}
     },
     "565aa770df0e47b9813450a67f55e567": {
      "model_module": "@jupyter-widgets/controls",
      "model_module_version": "1.5.0",
      "model_name": "VBoxModel",
      "state": {
       "_dom_classes": [
        "width-80"
       ],
       "children": [
        "IPY_MODEL_fc83bfe703284ef6bb585cf388a425c4",
        "IPY_MODEL_0ee5917cf7a34dc09551b8cf2f953a8e"
       ],
       "layout": "IPY_MODEL_9ebdbd8fb34a47c4ab554fac05898a5f"
      }
     },
     "56fd32c496434def8e3c6c213a0d3270": {
      "model_module": "@jupyter-widgets/base",
      "model_module_version": "1.2.0",
      "model_name": "LayoutModel",
      "state": {}
     },
     "57d14c31f855456b8926f20ed677c4c7": {
      "model_module": "appwidgets",
      "model_module_version": "^0.1.0",
      "model_name": "ReactiveHtmlModel",
      "state": {
       "_css": "\n/*\n\n\tHistogram\n\n*/\n\n.<<VIEW_ID>> #view-composer-hist-container {\n\n\twidth: 100%;\n\n\tpadding: 0 50px 0 10px;\n\n    margin-top: 50px;\n\n}\n\n.<<VIEW_ID>> #view-composer-hist-container #view-composer-hist {\n\n\twidth: 100%;\n\n\theight: 100%;\n\n\tdisplay: flex;\n\n\tflex-direction: row;\n\n\tjustify-content: space-evenly;\n\n\talign-items: stretch;\n\n}\n\n.<<VIEW_ID>> #view-composer-hist-container .histogram-entry {\n\n\tposition: relative;\n\n\tflex: 0 0 12.5%;\n\n}\n\n.<<VIEW_ID>> #view-composer-hist-container .histogram-entry p {\n\n\ttext-align: center;\n\n    font-size: 1.5em;\n\n}\n\n.<<VIEW_ID>> #view-composer-hist-container .histogram-bar-container {\n\n\tposition: relative;\n\n\theight: 25vh;\n\n}\n\n.<<VIEW_ID>> #view-composer-hist-container .histogram-bar-outer {\n\n\twidth: 60px;\n\n\tleft: 50%;\n\n\tmargin-left: -30px;\n\n\theight: 100%;\n\n\tposition: relative;\n\n\t/* background-color: lightgray; */\n\n}\n\n.<<VIEW_ID>> #view-composer-hist-container .histogram-bar {\n\n\tposition: absolute;\n\n\tbottom: 0;\n\n\theight: 0;\n\n\twidth: 33%;\n\n}\n\n\n\n.<<VIEW_ID>> #view-composer-hist-container .histogram-bar-qasm {\n\n\tbackground-color: rgb(116, 0, 123);\n\n\tleft: 0%;\n\n}\n\n.<<VIEW_ID>> #view-composer-hist-container .histogram-bar-anal {\n\n\tbackground-color: rgba(40, 105, 245);\n\n\tleft: 33%;\n\n}\n\n.<<VIEW_ID>> #view-composer-hist-container .histogram-bar-mock {\n\n\tbackground-color: rgb(0, 135, 92);\n\n\tleft: 66%;\n\n}\n\n\n\n.<<VIEW_ID>> #view-composer-hist-container .histogram-text-container-pre {\n\n    margin-bottom: 20px;\n\n}\n\n\n\n.<<VIEW_ID>> #view-composer-hist-container .histogram-text-container-post {\n\n    margin-top: 20px;\n\n\tmargin-bottom: 10px;\n\n}",
       "_model_module_version": "^0.1.0",
       "_rendered": "\n<div id=\"view-composer-hist-container\">\n<div id=\"view-composer-hist\">\n<div class=\"histogram-entry\">\n<div class=\"histogram-text-container-pre\">\n<p><span \"=\"\" class=\"histogram-text histogram-text-ideal histogram-text-000\">50.0%</span></p>\n</div>\n<div class=\"histogram-bar-container\">\n<div class=\"histogram-bar-outer\">\n\n<div class=\"histogram-bar histogram-bar-anal histogram-bar-000\" style=\"height: 50.000455210000005%\"></div>\n\n</div>\n</div>\n<div class=\"histogram-text-container-post\">\n<p>000<br/><br/>Tea</p>\n</div>\n</div>\n<div class=\"histogram-entry\">\n<div class=\"histogram-text-container-pre\">\n<p><span \"=\"\" class=\"histogram-text histogram-text-ideal histogram-text-001\">50.0%</span></p>\n</div>\n<div class=\"histogram-bar-container\">\n<div class=\"histogram-bar-outer\">\n\n<div class=\"histogram-bar histogram-bar-anal histogram-bar-001\" style=\"height: 50.000455210000005%\"></div>\n\n</div>\n</div>\n<div class=\"histogram-text-container-post\">\n<p>001<br/><br/>Hot Chocolate</p>\n</div>\n</div>\n<div class=\"histogram-entry\">\n<div class=\"histogram-text-container-pre\">\n<p><span \"=\"\" class=\"histogram-text histogram-text-ideal histogram-text-010\">0.0%</span></p>\n</div>\n<div class=\"histogram-bar-container\">\n<div class=\"histogram-bar-outer\">\n\n<div class=\"histogram-bar histogram-bar-anal histogram-bar-010\" style=\"height: 0.0%\"></div>\n\n</div>\n</div>\n<div class=\"histogram-text-container-post\">\n<p>010<br/><br/>Espresso</p>\n</div>\n</div>\n<div class=\"histogram-entry\">\n<div class=\"histogram-text-container-pre\">\n<p><span \"=\"\" class=\"histogram-text histogram-text-ideal histogram-text-011\">0.0%</span></p>\n</div>\n<div class=\"histogram-bar-container\">\n<div class=\"histogram-bar-outer\">\n\n<div class=\"histogram-bar histogram-bar-anal histogram-bar-011\" style=\"height: 0.0%\"></div>\n\n</div>\n</div>\n<div class=\"histogram-text-container-post\">\n<p>011<br/><br/>Coffee</p>\n</div>\n</div>\n<div class=\"histogram-entry\">\n<div class=\"histogram-text-container-pre\">\n<p><span \"=\"\" class=\"histogram-text histogram-text-ideal histogram-text-100\">0.0%</span></p>\n</div>\n<div class=\"histogram-bar-container\">\n<div class=\"histogram-bar-outer\">\n\n<div class=\"histogram-bar histogram-bar-anal histogram-bar-100\" style=\"height: 0.0%\"></div>\n\n</div>\n</div>\n<div class=\"histogram-text-container-post\">\n<p>100<br/><br/>Cappucino</p>\n</div>\n</div>\n<div class=\"histogram-entry\">\n<div class=\"histogram-text-container-pre\">\n<p><span \"=\"\" class=\"histogram-text histogram-text-ideal histogram-text-101\">0.0%</span></p>\n</div>\n<div class=\"histogram-bar-container\">\n<div class=\"histogram-bar-outer\">\n\n<div class=\"histogram-bar histogram-bar-anal histogram-bar-101\" style=\"height: 0.0%\"></div>\n\n</div>\n</div>\n<div class=\"histogram-text-container-post\">\n<p>101<br/><br/>Latte Macchiato</p>\n</div>\n</div>\n<div class=\"histogram-entry\">\n<div class=\"histogram-text-container-pre\">\n<p><span \"=\"\" class=\"histogram-text histogram-text-ideal histogram-text-110\">0.0%</span></p>\n</div>\n<div class=\"histogram-bar-container\">\n<div class=\"histogram-bar-outer\">\n\n<div class=\"histogram-bar histogram-bar-anal histogram-bar-110\" style=\"height: 0.0%\"></div>\n\n</div>\n</div>\n<div class=\"histogram-text-container-post\">\n<p>110<br/><br/>Viennese Melange</p>\n</div>\n</div>\n<div class=\"histogram-entry\">\n<div class=\"histogram-text-container-pre\">\n<p><span \"=\"\" class=\"histogram-text histogram-text-ideal histogram-text-111\">0.0%</span></p>\n</div>\n<div class=\"histogram-bar-container\">\n<div class=\"histogram-bar-outer\">\n\n<div class=\"histogram-bar histogram-bar-anal histogram-bar-111\" style=\"height: 0.0%\"></div>\n\n</div>\n</div>\n<div class=\"histogram-text-container-post\">\n<p>111<br/><br/>Americano</p>\n</div>\n</div>\n</div>\n</div>\n",
       "_view_module_version": "^0.1.0",
       "layout": "IPY_MODEL_9bf276268a104981a5eeaa5edf05dab8"
      }
     },
     "5a3ade403e6c42969797f62b990a8c5e": {
      "model_module": "@jupyter-widgets/controls",
      "model_module_version": "1.5.0",
      "model_name": "VBoxModel",
      "state": {
       "children": [
        "IPY_MODEL_372e0bc42b5149208000babbb5c41c08",
        "IPY_MODEL_6d66a3afcb32476ba446a18c7081058f"
       ],
       "layout": "IPY_MODEL_28fec4da322047bdba29cea00b948a28"
      }
     },
     "5ae1a40939e14a1a97517f68386cbce2": {
      "model_module": "appwidgets",
      "model_module_version": "^0.1.0",
      "model_name": "ReactiveHtmlModel",
      "state": {
       "_css": "\n.<<VIEW_ID>> p {\n\n    font-size: 1.5em;\n\n    margin-bottom: 40px;\n\n}\n\n\n\n.<<VIEW_ID>> span {\n\n    color: rgba(40, 105, 245);\n\n    text-decoration: underline;\n\n    cursor: pointer;\n\n}",
       "_model_module_version": "^0.1.0",
       "_rendered": "\n<p>Drag &amp; Drop Quantum Gates onto the Qubits to build your circuit. <span data-rh-exec=\"load_welcome()\">Go back</span>.</p>\n",
       "_view_module_version": "^0.1.0",
       "layout": "IPY_MODEL_a068b899b984455d9e71fb3c80a9244b"
      }
     },
     "5b3eae1e8e324c35a0f3b3ccd3e5f05d": {
      "model_module": "@jupyter-widgets/base",
      "model_module_version": "1.2.0",
      "model_name": "LayoutModel",
      "state": {}
     },
     "5c471f130add43cba5edb6a888ab4099": {
      "model_module": "@jupyter-widgets/base",
      "model_module_version": "1.2.0",
      "model_name": "LayoutModel",
      "state": {}
     },
     "5cfcecd55aeb462baecf61750b0d5746": {
      "model_module": "appwidgets",
      "model_module_version": "^0.1.0",
      "model_name": "ReactiveHtmlModel",
      "state": {
       "_css": "\n/*\n\n\tHistogram\n\n*/\n\n.<<VIEW_ID>> #view-composer-hist-container {\n\n\twidth: 100%;\n\n\tpadding: 0 50px 0 10px;\n\n    margin-top: 50px;\n\n}\n\n.<<VIEW_ID>> #view-composer-hist-container #view-composer-hist {\n\n\twidth: 100%;\n\n\theight: 100%;\n\n\tdisplay: flex;\n\n\tflex-direction: row;\n\n\tjustify-content: space-evenly;\n\n\talign-items: stretch;\n\n}\n\n.<<VIEW_ID>> #view-composer-hist-container .histogram-entry {\n\n\tposition: relative;\n\n\tflex: 0 0 12.5%;\n\n}\n\n.<<VIEW_ID>> #view-composer-hist-container .histogram-entry p {\n\n\ttext-align: center;\n\n    font-size: 1.5em;\n\n}\n\n.<<VIEW_ID>> #view-composer-hist-container .histogram-bar-container {\n\n\tposition: relative;\n\n\theight: 25vh;\n\n}\n\n.<<VIEW_ID>> #view-composer-hist-container .histogram-bar-outer {\n\n\twidth: 60px;\n\n\tleft: 50%;\n\n\tmargin-left: -30px;\n\n\theight: 100%;\n\n\tposition: relative;\n\n\t/* background-color: lightgray; */\n\n}\n\n.<<VIEW_ID>> #view-composer-hist-container .histogram-bar {\n\n\tposition: absolute;\n\n\tbottom: 0;\n\n\theight: 0;\n\n\twidth: 33%;\n\n}\n\n\n\n.<<VIEW_ID>> #view-composer-hist-container .histogram-bar-qasm {\n\n\tbackground-color: rgb(116, 0, 123);\n\n\tleft: 0%;\n\n}\n\n.<<VIEW_ID>> #view-composer-hist-container .histogram-bar-anal {\n\n\tbackground-color: rgba(40, 105, 245);\n\n\tleft: 33%;\n\n}\n\n.<<VIEW_ID>> #view-composer-hist-container .histogram-bar-mock {\n\n\tbackground-color: rgb(0, 135, 92);\n\n\tleft: 66%;\n\n}\n\n\n\n.<<VIEW_ID>> #view-composer-hist-container .histogram-text-container-pre {\n\n    margin-bottom: 20px;\n\n}\n\n\n\n.<<VIEW_ID>> #view-composer-hist-container .histogram-text-container-post {\n\n    margin-top: 20px;\n\n\tmargin-bottom: 10px;\n\n}",
       "_model_module_version": "^0.1.0",
       "_rendered": "\n<div id=\"view-composer-hist-container\">\n<div id=\"view-composer-hist\">\n<div class=\"histogram-entry\">\n<div class=\"histogram-text-container-pre\">\n<p><span \"=\"\" class=\"histogram-text histogram-text-ideal histogram-text-000\">0.0%</span></p>\n</div>\n<div class=\"histogram-bar-container\">\n<div class=\"histogram-bar-outer\">\n\n<div class=\"histogram-bar histogram-bar-anal histogram-bar-000\" style=\"height: 0%\"></div>\n\n</div>\n</div>\n<div class=\"histogram-text-container-post\">\n<p>000<br/><br/>Tea</p>\n</div>\n</div>\n<div class=\"histogram-entry\">\n<div class=\"histogram-text-container-pre\">\n<p><span \"=\"\" class=\"histogram-text histogram-text-ideal histogram-text-001\">0.0%</span></p>\n</div>\n<div class=\"histogram-bar-container\">\n<div class=\"histogram-bar-outer\">\n\n<div class=\"histogram-bar histogram-bar-anal histogram-bar-001\" style=\"height: 0%\"></div>\n\n</div>\n</div>\n<div class=\"histogram-text-container-post\">\n<p>001<br/><br/>Hot Chocolate</p>\n</div>\n</div>\n<div class=\"histogram-entry\">\n<div class=\"histogram-text-container-pre\">\n<p><span \"=\"\" class=\"histogram-text histogram-text-ideal histogram-text-010\">0.0%</span></p>\n</div>\n<div class=\"histogram-bar-container\">\n<div class=\"histogram-bar-outer\">\n\n<div class=\"histogram-bar histogram-bar-anal histogram-bar-010\" style=\"height: 0%\"></div>\n\n</div>\n</div>\n<div class=\"histogram-text-container-post\">\n<p>010<br/><br/>Espresso</p>\n</div>\n</div>\n<div class=\"histogram-entry\">\n<div class=\"histogram-text-container-pre\">\n<p><span \"=\"\" class=\"histogram-text histogram-text-ideal histogram-text-011\">0.0%</span></p>\n</div>\n<div class=\"histogram-bar-container\">\n<div class=\"histogram-bar-outer\">\n\n<div class=\"histogram-bar histogram-bar-anal histogram-bar-011\" style=\"height: 0%\"></div>\n\n</div>\n</div>\n<div class=\"histogram-text-container-post\">\n<p>011<br/><br/>Coffee</p>\n</div>\n</div>\n<div class=\"histogram-entry\">\n<div class=\"histogram-text-container-pre\">\n<p><span \"=\"\" class=\"histogram-text histogram-text-ideal histogram-text-100\">0.0%</span></p>\n</div>\n<div class=\"histogram-bar-container\">\n<div class=\"histogram-bar-outer\">\n\n<div class=\"histogram-bar histogram-bar-anal histogram-bar-100\" style=\"height: 0%\"></div>\n\n</div>\n</div>\n<div class=\"histogram-text-container-post\">\n<p>100<br/><br/>Cappucino</p>\n</div>\n</div>\n<div class=\"histogram-entry\">\n<div class=\"histogram-text-container-pre\">\n<p><span \"=\"\" class=\"histogram-text histogram-text-ideal histogram-text-101\">0.0%</span></p>\n</div>\n<div class=\"histogram-bar-container\">\n<div class=\"histogram-bar-outer\">\n\n<div class=\"histogram-bar histogram-bar-anal histogram-bar-101\" style=\"height: 0%\"></div>\n\n</div>\n</div>\n<div class=\"histogram-text-container-post\">\n<p>101<br/><br/>Latte Macchiato</p>\n</div>\n</div>\n<div class=\"histogram-entry\">\n<div class=\"histogram-text-container-pre\">\n<p><span \"=\"\" class=\"histogram-text histogram-text-ideal histogram-text-110\">0.0%</span></p>\n</div>\n<div class=\"histogram-bar-container\">\n<div class=\"histogram-bar-outer\">\n\n<div class=\"histogram-bar histogram-bar-anal histogram-bar-110\" style=\"height: 0%\"></div>\n\n</div>\n</div>\n<div class=\"histogram-text-container-post\">\n<p>110<br/><br/>Viennese Melange</p>\n</div>\n</div>\n<div class=\"histogram-entry\">\n<div class=\"histogram-text-container-pre\">\n<p><span \"=\"\" class=\"histogram-text histogram-text-ideal histogram-text-111\">0.0%</span></p>\n</div>\n<div class=\"histogram-bar-container\">\n<div class=\"histogram-bar-outer\">\n\n<div class=\"histogram-bar histogram-bar-anal histogram-bar-111\" style=\"height: 0%\"></div>\n\n</div>\n</div>\n<div class=\"histogram-text-container-post\">\n<p>111<br/><br/>Americano</p>\n</div>\n</div>\n</div>\n</div>\n",
       "_view_module_version": "^0.1.0",
       "layout": "IPY_MODEL_748ff6f855fe4fd7a9c42cfd2c8fac36"
      }
     },
     "5f363fa173c04683a93515abec3ab604": {
      "model_module": "@jupyter-widgets/controls",
      "model_module_version": "1.5.0",
      "model_name": "VBoxModel",
      "state": {
       "children": [
        "IPY_MODEL_a22ebe907b2948ad84b1ad2db496e128",
        "IPY_MODEL_f2eff19e39e143cd9b33dde700863d2f"
       ],
       "layout": "IPY_MODEL_197fc6d2e0f54db08122311b5634fe99"
      }
     },
     "614698d93e9e45b7baccceac6076f2ee": {
      "model_module": "@jupyter-widgets/base",
      "model_module_version": "1.2.0",
      "model_name": "LayoutModel",
      "state": {}
     },
     "619df5d598ef434c8a4feb8849205c4c": {
      "model_module": "@jupyter-widgets/base",
      "model_module_version": "1.2.0",
      "model_name": "LayoutModel",
      "state": {}
     },
     "6336cb7d289546e5a3dabd8531f9655d": {
      "model_module": "@jupyter-widgets/controls",
      "model_module_version": "1.5.0",
      "model_name": "VBoxModel",
      "state": {
       "_dom_classes": [
        "app-view-content"
       ],
       "children": [
        "IPY_MODEL_5ae1a40939e14a1a97517f68386cbce2",
        "IPY_MODEL_a86ccce0ff334d87bbc22ee60bdef640",
        "IPY_MODEL_aca503105cd64e4e89cf5ed8f23769d3"
       ],
       "layout": "IPY_MODEL_aeb73d91db714e7c8bb1141cc9a2a57d"
      }
     },
     "63dcd5532239454f96e1464b2daf8751": {
      "model_module": "@jupyter-widgets/base",
      "model_module_version": "1.2.0",
      "model_name": "LayoutModel",
      "state": {}
     },
     "63e5ca7da1534a92aa422860ec47a246": {
      "model_module": "@jupyter-widgets/controls",
      "model_module_version": "1.5.0",
      "model_name": "VBoxModel",
      "state": {
       "children": [
        "IPY_MODEL_dbfd2f6bf4e24d81980334e7d7771cb0",
        "IPY_MODEL_e5d9852517f2487f8ed928e6fd6fc6bd"
       ],
       "layout": "IPY_MODEL_fa9548efa6154e5cb833f3a1017e0569"
      }
     },
     "6549b7046aa74e85bcd042e8b40ac34c": {
      "model_module": "@jupyter-widgets/base",
      "model_module_version": "1.2.0",
      "model_name": "LayoutModel",
      "state": {}
     },
     "6943929465bf4b2ca01d86b4f40fa0e9": {
      "model_module": "@jupyter-widgets/base",
      "model_module_version": "1.2.0",
      "model_name": "LayoutModel",
      "state": {}
     },
     "69f3b01dccd445fd81a6cc1b4d3b0e85": {
      "model_module": "@jupyter-widgets/controls",
      "model_module_version": "1.5.0",
      "model_name": "VBoxModel",
      "state": {
       "children": [
        "IPY_MODEL_372e0bc42b5149208000babbb5c41c08",
        "IPY_MODEL_ac7c09bba63e4fb7bc42bcf41c2b9f70"
       ],
       "layout": "IPY_MODEL_ee0c4c7ced7b4952a91605623236b1b5"
      }
     },
     "6b51a5e4d91a41af8bcc0b2cbae00409": {
      "model_module": "@jupyter-widgets/base",
      "model_module_version": "1.2.0",
      "model_name": "LayoutModel",
      "state": {}
     },
     "6b7ea54b33cb4587aae6d34f4a1abf5d": {
      "model_module": "appwidgets",
      "model_module_version": "^0.1.0",
      "model_name": "ReactiveHtmlModel",
      "state": {
       "_css": "\n.<<VIEW_ID>> #view-composer-singleshot button {\n\n    font-size: 1.5em;\n\n}\n\n\n\n.<<VIEW_ID>> #view-composer-singleshot button.btn-primary {\n\n    color: white;\n\n    background-color: rgba(40, 105, 245);\n\n    border-color: rgba(40, 105, 245);\n\n    border-radius: 0;\n\n}\n\n\n\n\n\n.<<VIEW_ID>> .view-composer-order-text p {\n\n    margin-top: 20px;\n\n    margin-bottom: 30px;\n\n    width: 100%;\n\n    text-align: center;\n\n    font-size: 3em;\n\n    line-height: 1.2;\n\n}",
       "_model_module_version": "^0.1.0",
       "_rendered": "\n<div id=\"view-composer-singleshot-container\">\n<div id=\"view-composer-singleshot\">\n<button class=\"btn btn-primary btn-block\" data-rh-exec=\"get_single_shot_result()\">Determine your beverage</button>\n<br/>\n\n\n<div class=\"view-composer-order-text width-100\" data-rh-if=\"3==3\">\n<p><img '=\"\" alt=\"Thumbs up\" src=\"icons/openmoji-svg-color/1F44D.svg\" style=\"margin-left: auto; margin-right: auto; width: 50%\"/><br/>Thank you and enjoy your drink</p>\n<button class=\"btn btn-primary btn-block\" data-rh-exec=\"load_welcome()\">Back</button>\n</div>\n\n<br>\n</br></div>\n</div>\n",
       "_view_module_version": "^0.1.0",
       "layout": "IPY_MODEL_80bb7ad42a0d438bbc4220435969b3cc"
      }
     },
     "6ccadd2fd9e4416794608aca111dcf9a": {
      "model_module": "appwidgets",
      "model_module_version": "^0.1.0",
      "model_name": "ReactiveHtmlModel",
      "state": {
       "_css": "",
       "_model_module_version": "^0.1.0",
       "_rendered": "\n<div class=\"app-view-content\">\n<h1>Thank you and enjoy your drink ☕️</h1>\n</div>\n",
       "_view_module_version": "^0.1.0",
       "layout": "IPY_MODEL_2131f35b5d5d44f2bae2584d55405a72"
      }
     },
     "6d0197566ff940c99d5a7d5ddd74f93e": {
      "model_module": "@jupyter-widgets/base",
      "model_module_version": "1.2.0",
      "model_name": "LayoutModel",
      "state": {}
     },
     "6d13a21e2ea54781a52ea60e2d665d50": {
      "model_module": "@jupyter-widgets/base",
      "model_module_version": "1.2.0",
      "model_name": "LayoutModel",
      "state": {}
     },
     "6d2ebbbac9714885914daa9001095017": {
      "model_module": "@jupyter-widgets/base",
      "model_module_version": "1.2.0",
      "model_name": "LayoutModel",
      "state": {}
     },
     "6d66a3afcb32476ba446a18c7081058f": {
      "model_module": "appwidgets",
      "model_module_version": "^0.1.0",
      "model_name": "ReactiveHtmlModel",
      "state": {
       "_css": "",
       "_model_module_version": "^0.1.0",
       "_rendered": "\n<div class=\"app-view-content\">\n<h1>Oh no, something went wrong<br/></h1>\n</div>\n",
       "_view_module_version": "^0.1.0",
       "layout": "IPY_MODEL_103c34ba500a424e94b613f4f481662b"
      }
     },
     "6ece0cf0023945a7b4716d58593e5b1b": {
      "model_module": "@jupyter-widgets/base",
      "model_module_version": "1.2.0",
      "model_name": "LayoutModel",
      "state": {}
     },
     "6f53b583aed644b485dd68e6f414ac79": {
      "model_module": "@jupyter-widgets/base",
      "model_module_version": "1.2.0",
      "model_name": "LayoutModel",
      "state": {}
     },
     "6fb136064a9444bb8d0df1ce059c4457": {
      "model_module": "@jupyter-widgets/base",
      "model_module_version": "1.2.0",
      "model_name": "LayoutModel",
      "state": {}
     },
     "71276f9946914d278a9a9acc6fa1260c": {
      "model_module": "appwidgets",
      "model_module_version": "^0.1.0",
      "model_name": "ReactiveHtmlModel",
      "state": {
       "_css": "\n.<<VIEW_ID>> p {\n\n    font-size: 1.5em;\n\n    margin-bottom: 40px;\n\n}\n\n\n\n.<<VIEW_ID>> span {\n\n    color: rgba(40, 105, 245);\n\n    text-decoration: underline;\n\n    cursor: pointer;\n\n}",
       "_model_module_version": "^0.1.0",
       "_rendered": "\n<p>Drag &amp; Drop Quantum Gates onto the Qubits to build your circuit. <span data-rh-exec=\"load_welcome()\">Go back</span>.</p>\n",
       "_view_module_version": "^0.1.0",
       "layout": "IPY_MODEL_073dbf89af8f40f19eed3f215d6832e5"
      }
     },
     "71994981354d4a05909244bc5ff436a0": {
      "model_module": "@jupyter-widgets/base",
      "model_module_version": "1.2.0",
      "model_name": "LayoutModel",
      "state": {}
     },
     "71cd4cc87d6b41a5b1ff6296602684af": {
      "model_module": "appwidgets",
      "model_module_version": "^0.1.0",
      "model_name": "JsPyModel",
      "state": {
       "_model_module_version": "^0.1.0",
       "_view_module": null,
       "_view_module_version": ""
      }
     },
     "7234bcbdc8de43af88de7645cc1a7e30": {
      "model_module": "@jupyter-widgets/base",
      "model_module_version": "1.2.0",
      "model_name": "WidgetModel",
      "state": {
       "_view_module": null,
       "_view_module_version": "",
       "composer_init_circuit": {
        "id": "anything",
        "init_text": "",
        "name": "Just something to drink"
       },
       "heading": "Qoffee Maker powered by <b>IBM Quantum</b>",
       "histogram_anal": {
        "000": 0.25,
        "001": 0.25,
        "010": 0.25,
        "011": 0.25,
        "100": 0,
        "101": 0,
        "110": 0,
        "111": 0
       },
       "histogram_mock": {
        "000": 0,
        "001": 0,
        "010": 0,
        "011": 0,
        "100": 0,
        "101": 0,
        "110": 0,
        "111": 0
       },
       "histogram_qasm": {
        "000": 0.245,
        "001": 0.29125,
        "010": 0.2075,
        "011": 0.25625,
        "100": 0,
        "101": 0,
        "110": 0,
        "111": 0
       },
       "qasm": "OPENQASM 2.0;\ninclude \"qelib1.inc\";\nqreg q[3];\ncreg c[3];\nh q[0];\nh q[1];\n",
       "show_mock_results": false,
       "show_qasm_results": false,
       "single_shot_device": "simulator",
       "single_shot_result": {
        "bit": "100",
        "id": "cappucino",
        "name": "Cappucino"
       },
       "single_shot_status": 0,
       "use_real_device": false,
       "view": "composer"
      }
     },
     "72350a23f3be4eccbfde27d16edea83c": {
      "model_module": "appwidgets",
      "model_module_version": "^0.1.0",
      "model_name": "ReactiveHtmlModel",
      "state": {
       "_css": "\n.<<VIEW_ID>> p {\n\n    font-size: 1.5em;\n\n    margin-bottom: 40px;\n\n}\n\n\n\n.<<VIEW_ID>> span {\n\n    color: rgba(40, 105, 245);\n\n    text-decoration: underline;\n\n    cursor: pointer;\n\n}",
       "_model_module_version": "^0.1.0",
       "_rendered": "\n<p>Drag &amp; Drop Quantum Gates onto the Qubits to build your circuit. <span data-rh-exec=\"load_welcome()\">Go back</span>.</p>\n",
       "_view_module_version": "^0.1.0",
       "layout": "IPY_MODEL_47479252463546699708f57bc5d8d5ca"
      }
     },
     "723a29522cd743a7995d8abc9cd357bb": {
      "model_module": "@jupyter-widgets/base",
      "model_module_version": "1.2.0",
      "model_name": "LayoutModel",
      "state": {}
     },
     "748ff6f855fe4fd7a9c42cfd2c8fac36": {
      "model_module": "@jupyter-widgets/base",
      "model_module_version": "1.2.0",
      "model_name": "LayoutModel",
      "state": {}
     },
     "75065e5027ba46db9b1e50b5c2bbe4e8": {
      "model_module": "@jupyter-widgets/controls",
      "model_module_version": "1.5.0",
      "model_name": "VBoxModel",
      "state": {
       "children": [
        "IPY_MODEL_b0ecd117bfd54d0ab8b2288363f5c096",
        "IPY_MODEL_a01952b0994c4ab886310ae91fd8de9e"
       ],
       "layout": "IPY_MODEL_8e5d2cc76ae643c3beabb6b3ea1e103c"
      }
     },
     "769bdda52bc34c7b8b123767aed217a4": {
      "model_module": "@jupyter-widgets/base",
      "model_module_version": "1.2.0",
      "model_name": "LayoutModel",
      "state": {}
     },
     "76a4aadaae364c34819caaac679ff551": {
      "model_module": "@jupyter-widgets/base",
      "model_module_version": "1.2.0",
      "model_name": "LayoutModel",
      "state": {}
     },
     "7773c5ab3c5a4580a9eca2ab4ae85929": {
      "model_module": "@jupyter-widgets/controls",
      "model_module_version": "1.5.0",
      "model_name": "HBoxModel",
      "state": {
       "children": [
        "IPY_MODEL_ac6e3a51e2a24edca262dd520734d265",
        "IPY_MODEL_0824d90a6524433da9b8c7cca4c64bd5"
       ],
       "layout": "IPY_MODEL_d6fb6be869cb49c2a688eba17c234950"
      }
     },
     "78ceef63670b4e86a646bd1b9913195d": {
      "model_module": "@jupyter-widgets/base",
      "model_module_version": "1.2.0",
      "model_name": "LayoutModel",
      "state": {}
     },
     "78e6e0e21b5d4014887f68d4ded031c6": {
      "model_module": "@jupyter-widgets/base",
      "model_module_version": "1.2.0",
      "model_name": "LayoutModel",
      "state": {}
     },
     "7bf6aa00bba34ba7a5455736344df2b2": {
      "model_module": "@jupyter-widgets/controls",
      "model_module_version": "1.5.0",
      "model_name": "VBoxModel",
      "state": {
       "_dom_classes": [
        "app-view-content"
       ],
       "children": [
        "IPY_MODEL_a14fb9fc155c4293a19fb731a2dbb70e",
        "IPY_MODEL_0983961fc44a4681828650430ffc495e",
        "IPY_MODEL_7773c5ab3c5a4580a9eca2ab4ae85929"
       ],
       "layout": "IPY_MODEL_559bcd1ed79047f486bc7b9dfa23197b"
      }
     },
     "7d629a07f44a409e9d2905bd0a3f97e4": {
      "model_module": "appwidgets",
      "model_module_version": "^0.1.0",
      "model_name": "ReactiveHtmlModel",
      "state": {
       "_css": "\n.<<VIEW_ID>> #view-composer-singleshot button {\n\n    font-size: 1.5em;\n\n}\n\n\n\n.<<VIEW_ID>> #view-composer-singleshot button.btn-primary {\n\n    color: white;\n\n    background-color: rgba(40, 105, 245);\n\n    border-color: rgba(40, 105, 245);\n\n    border-radius: 0;\n\n}\n\n\n\n\n\n.<<VIEW_ID>> .view-composer-order-text p {\n\n    margin-top: 20px;\n\n    margin-bottom: 30px;\n\n    width: 100%;\n\n    text-align: center;\n\n    font-size: 3em;\n\n    line-height: 1.2;\n\n}",
       "_dom_classes": [
        "width-20"
       ],
       "_model_module_version": "^0.1.0",
       "_rendered": "\n<div id=\"view-composer-singleshot-container\">\n<div id=\"view-composer-singleshot\">\n<button class=\"btn btn-primary btn-block\" data-rh-exec=\"get_single_shot_result()\">Determine your beverage</button>\n<br/>\n\n\n\n\n<br>\n</br></div>\n</div>\n",
       "_view_module_version": "^0.1.0",
       "layout": "IPY_MODEL_efa2f182cda1482d98116fdb5bae10b9"
      }
     },
     "7d77a9ce1f1d4d94b2c04ced0a7c3935": {
      "model_module": "@jupyter-widgets/base",
      "model_module_version": "1.2.0",
      "model_name": "LayoutModel",
      "state": {}
     },
     "7f241130e8c946b29831aab9f6a3c03b": {
      "model_module": "appwidgets",
      "model_module_version": "^0.1.0",
      "model_name": "ReactiveHtmlModel",
      "state": {
       "_css": "",
       "_model_module_version": "^0.1.0",
       "_rendered": "\n<div class=\"app-view-content\">\n<h1>Oh no, something went wrong<img '=\"\" alt=\"Knocked-out face\" src=\"icons/openmoji-svg-color/1F635.svg\" style=\"margin-left: auto; margin-right: auto; width: 50%\"/><br/></h1>\n</div>\n",
       "_view_module_version": "^0.1.0",
       "layout": "IPY_MODEL_f34f53d12f394af59f5a18e83ef35689"
      }
     },
     "800ebd2679714e5cb4bf9491b5e014a9": {
      "model_module": "@jupyter-widgets/base",
      "model_module_version": "1.2.0",
      "model_name": "LayoutModel",
      "state": {}
     },
     "80bb7ad42a0d438bbc4220435969b3cc": {
      "model_module": "@jupyter-widgets/base",
      "model_module_version": "1.2.0",
      "model_name": "LayoutModel",
      "state": {}
     },
     "81596550e4e2405593a8e1e281ddd266": {
      "model_module": "@jupyter-widgets/base",
      "model_module_version": "1.2.0",
      "model_name": "LayoutModel",
      "state": {}
     },
     "818c193de8184a06a14f49a21cfdf7e3": {
      "model_module": "@jupyter-widgets/base",
      "model_module_version": "1.2.0",
      "model_name": "LayoutModel",
      "state": {}
     },
     "81a5903d92e842dd82806926f071e373": {
      "model_module": "@jupyter-widgets/base",
      "model_module_version": "1.2.0",
      "model_name": "LayoutModel",
      "state": {}
     },
     "821aac2ac3f849b5a34c1a98231a7cec": {
      "model_module": "@jupyter-widgets/base",
      "model_module_version": "1.2.0",
      "model_name": "LayoutModel",
      "state": {}
     },
     "8274cf2260634e62b0c3898a596d6077": {
      "model_module": "appwidgets",
      "model_module_version": "^0.1.0",
      "model_name": "ReactiveHtmlModel",
      "state": {
       "_css": "\n/*\n\n\tHistogram\n\n*/\n\n.<<VIEW_ID>> #view-composer-hist-container {\n\n\twidth: 100%;\n\n\tpadding: 0 50px 0 10px;\n\n    margin-top: 50px;\n\n}\n\n.<<VIEW_ID>> #view-composer-hist-container #view-composer-hist {\n\n\twidth: 100%;\n\n\theight: 100%;\n\n\tdisplay: flex;\n\n\tflex-direction: row;\n\n\tjustify-content: space-evenly;\n\n\talign-items: stretch;\n\n}\n\n.<<VIEW_ID>> #view-composer-hist-container .histogram-entry {\n\n\tposition: relative;\n\n\tflex: 0 0 12.5%;\n\n}\n\n.<<VIEW_ID>> #view-composer-hist-container .histogram-entry p {\n\n\ttext-align: center;\n\n    font-size: 1.5em;\n\n}\n\n.<<VIEW_ID>> #view-composer-hist-container .histogram-bar-container {\n\n\tposition: relative;\n\n\theight: 25vh;\n\n}\n\n.<<VIEW_ID>> #view-composer-hist-container .histogram-bar-outer {\n\n\twidth: 60px;\n\n\tleft: 50%;\n\n\tmargin-left: -30px;\n\n\theight: 100%;\n\n\tposition: relative;\n\n\t/* background-color: lightgray; */\n\n}\n\n.<<VIEW_ID>> #view-composer-hist-container .histogram-bar {\n\n\tposition: absolute;\n\n\tbottom: 0;\n\n\theight: 0;\n\n\twidth: 33%;\n\n}\n\n\n\n.<<VIEW_ID>> #view-composer-hist-container .histogram-bar-qasm {\n\n\tbackground-color: rgb(116, 0, 123);\n\n\tleft: 0%;\n\n}\n\n.<<VIEW_ID>> #view-composer-hist-container .histogram-bar-anal {\n\n\tbackground-color: rgba(40, 105, 245);\n\n\tleft: 33%;\n\n}\n\n.<<VIEW_ID>> #view-composer-hist-container .histogram-bar-mock {\n\n\tbackground-color: rgb(0, 135, 92);\n\n\tleft: 66%;\n\n}\n\n\n\n.<<VIEW_ID>> #view-composer-hist-container .histogram-text-container-pre {\n\n    margin-bottom: 20px;\n\n}\n\n\n\n.<<VIEW_ID>> #view-composer-hist-container .histogram-text-container-post {\n\n    margin-top: 20px;\n\n\tmargin-bottom: 10px;\n\n}",
       "_model_module_version": "^0.1.0",
       "_rendered": "\n<div id=\"view-composer-hist-container\">\n<div id=\"view-composer-hist\">\n<div class=\"histogram-entry\">\n<div class=\"histogram-text-container-pre\">\n<p><span \"=\"\" class=\"histogram-text histogram-text-ideal histogram-text-000\">0.0%</span></p>\n</div>\n<div class=\"histogram-bar-container\">\n<div class=\"histogram-bar-outer\">\n\n<div class=\"histogram-bar histogram-bar-anal histogram-bar-000\" style=\"height: 0%\"></div>\n\n</div>\n</div>\n<div class=\"histogram-text-container-post\">\n<p>000<br/><br/>Tea</p>\n</div>\n</div>\n<div class=\"histogram-entry\">\n<div class=\"histogram-text-container-pre\">\n<p><span \"=\"\" class=\"histogram-text histogram-text-ideal histogram-text-001\">0.0%</span></p>\n</div>\n<div class=\"histogram-bar-container\">\n<div class=\"histogram-bar-outer\">\n\n<div class=\"histogram-bar histogram-bar-anal histogram-bar-001\" style=\"height: 0%\"></div>\n\n</div>\n</div>\n<div class=\"histogram-text-container-post\">\n<p>001<br/><br/>Hot Chocolate</p>\n</div>\n</div>\n<div class=\"histogram-entry\">\n<div class=\"histogram-text-container-pre\">\n<p><span \"=\"\" class=\"histogram-text histogram-text-ideal histogram-text-010\">0.0%</span></p>\n</div>\n<div class=\"histogram-bar-container\">\n<div class=\"histogram-bar-outer\">\n\n<div class=\"histogram-bar histogram-bar-anal histogram-bar-010\" style=\"height: 0%\"></div>\n\n</div>\n</div>\n<div class=\"histogram-text-container-post\">\n<p>010<br/><br/>Espresso</p>\n</div>\n</div>\n<div class=\"histogram-entry\">\n<div class=\"histogram-text-container-pre\">\n<p><span \"=\"\" class=\"histogram-text histogram-text-ideal histogram-text-011\">0.0%</span></p>\n</div>\n<div class=\"histogram-bar-container\">\n<div class=\"histogram-bar-outer\">\n\n<div class=\"histogram-bar histogram-bar-anal histogram-bar-011\" style=\"height: 0%\"></div>\n\n</div>\n</div>\n<div class=\"histogram-text-container-post\">\n<p>011<br/><br/>Coffee</p>\n</div>\n</div>\n<div class=\"histogram-entry\">\n<div class=\"histogram-text-container-pre\">\n<p><span \"=\"\" class=\"histogram-text histogram-text-ideal histogram-text-100\">0.0%</span></p>\n</div>\n<div class=\"histogram-bar-container\">\n<div class=\"histogram-bar-outer\">\n\n<div class=\"histogram-bar histogram-bar-anal histogram-bar-100\" style=\"height: 0%\"></div>\n\n</div>\n</div>\n<div class=\"histogram-text-container-post\">\n<p>100<br/><br/>Cappucino</p>\n</div>\n</div>\n<div class=\"histogram-entry\">\n<div class=\"histogram-text-container-pre\">\n<p><span \"=\"\" class=\"histogram-text histogram-text-ideal histogram-text-101\">0.0%</span></p>\n</div>\n<div class=\"histogram-bar-container\">\n<div class=\"histogram-bar-outer\">\n\n<div class=\"histogram-bar histogram-bar-anal histogram-bar-101\" style=\"height: 0%\"></div>\n\n</div>\n</div>\n<div class=\"histogram-text-container-post\">\n<p>101<br/><br/>Latte Macchiato</p>\n</div>\n</div>\n<div class=\"histogram-entry\">\n<div class=\"histogram-text-container-pre\">\n<p><span \"=\"\" class=\"histogram-text histogram-text-ideal histogram-text-110\">0.0%</span></p>\n</div>\n<div class=\"histogram-bar-container\">\n<div class=\"histogram-bar-outer\">\n\n<div class=\"histogram-bar histogram-bar-anal histogram-bar-110\" style=\"height: 0%\"></div>\n\n</div>\n</div>\n<div class=\"histogram-text-container-post\">\n<p>110<br/><br/>Viennese Melange</p>\n</div>\n</div>\n<div class=\"histogram-entry\">\n<div class=\"histogram-text-container-pre\">\n<p><span \"=\"\" class=\"histogram-text histogram-text-ideal histogram-text-111\">0.0%</span></p>\n</div>\n<div class=\"histogram-bar-container\">\n<div class=\"histogram-bar-outer\">\n\n<div class=\"histogram-bar histogram-bar-anal histogram-bar-111\" style=\"height: 0%\"></div>\n\n</div>\n</div>\n<div class=\"histogram-text-container-post\">\n<p>111<br/><br/>Americano</p>\n</div>\n</div>\n</div>\n</div>\n",
       "_view_module_version": "^0.1.0",
       "layout": "IPY_MODEL_c898ba113b4b436f92491f34910decd6"
      }
     },
     "82a0274923214e58b7822995858376c2": {
      "model_module": "@jupyter-widgets/base",
      "model_module_version": "1.2.0",
      "model_name": "LayoutModel",
      "state": {}
     },
     "82b9dba8886041ae9c6ebeadea78c503": {
      "model_module": "appwidgets",
      "model_module_version": "^0.1.0",
      "model_name": "ReactiveHtmlModel",
      "state": {
       "_css": "",
       "_model_module_version": "^0.1.0",
       "_rendered": "\n<div class=\"app-view-content\">\n<h1>Thank you and enjoy your drink ☕️</h1>\n</div>\n",
       "_view_module_version": "^0.1.0",
       "layout": "IPY_MODEL_71994981354d4a05909244bc5ff436a0"
      }
     },
     "8468dbc33d194855a77b178323795c43": {
      "model_module": "@jupyter-widgets/base",
      "model_module_version": "1.2.0",
      "model_name": "LayoutModel",
      "state": {}
     },
     "8555d0bfb208424ebc6df599425ef300": {
      "model_module": "appwidgets",
      "model_module_version": "^0.1.0",
      "model_name": "ReactiveHtmlModel",
      "state": {
       "_css": "",
       "_model_module_version": "^0.1.0",
       "_rendered": "\n<div class=\"app-view-content\">\n<h1>Thank you and enjoy your drink ☕️</h1>\n</div>\n",
       "_view_module_version": "^0.1.0",
       "layout": "IPY_MODEL_2fd45dbb16a64ed2a7cab9c310441525"
      }
     },
     "8672e661f2634472bd6835a40379e4fb": {
      "model_module": "@jupyter-widgets/base",
      "model_module_version": "1.2.0",
      "model_name": "LayoutModel",
      "state": {}
     },
     "86febce0ac3a40e38e0f1aa588878ef9": {
      "model_module": "@jupyter-widgets/base",
      "model_module_version": "1.2.0",
      "model_name": "LayoutModel",
      "state": {}
     },
     "8905e10c0d6e46878e042c065d129624": {
      "model_module": "@jupyter-widgets/controls",
      "model_module_version": "1.5.0",
      "model_name": "VBoxModel",
      "state": {
       "children": [
        "IPY_MODEL_54237c4ffdb743559ddc2e7fa61f7da4",
        "IPY_MODEL_7f241130e8c946b29831aab9f6a3c03b"
       ],
       "layout": "IPY_MODEL_55dc5f2c580c4d5ab09ee26b692bb565"
      }
     },
     "8910196c01cb4b83ae4ee9e2e016c48b": {
      "model_module": "@jupyter-widgets/base",
      "model_module_version": "1.2.0",
      "model_name": "LayoutModel",
      "state": {}
     },
     "895ddcc426094e25a6fef3b179879f68": {
      "model_module": "@jupyter-widgets/controls",
      "model_module_version": "1.5.0",
      "model_name": "VBoxModel",
      "state": {
       "children": [
        "IPY_MODEL_a22ebe907b2948ad84b1ad2db496e128",
        "IPY_MODEL_c74ec4e442b34c0fad82efae65d093e3"
       ],
       "layout": "IPY_MODEL_a99f5f7af8174eb5846d5422b3d646ed"
      }
     },
     "8a9690b920f04354862a00ff3bceba4a": {
      "model_module": "appwidgets",
      "model_module_version": "^0.1.0",
      "model_name": "ReactiveHtmlModel",
      "state": {
       "_css": "",
       "_model_module_version": "^0.1.0",
       "_rendered": "\n<div class=\"app-view-content\">\n<h1>Oh no, something went wrong <img alt=\"Knocked-out face\" src=\"icons/openmoji-svg-color/1F635.svg\"/></h1>\n</div>\n",
       "_view_module_version": "^0.1.0",
       "layout": "IPY_MODEL_821aac2ac3f849b5a34c1a98231a7cec"
      }
     },
     "8ba4fdb77f1246fa868b81b3dc6cace3": {
      "model_module": "appwidgets",
      "model_module_version": "^0.1.0",
      "model_name": "ReactiveHtmlModel",
      "state": {
       "_css": "\n.<<VIEW_ID>> p {\n\n    font-size: 1.5em;\n\n    margin-bottom: 40px;\n\n}\n\n\n\n.<<VIEW_ID>> span {\n\n    color: rgba(40, 105, 245);\n\n    text-decoration: underline;\n\n    cursor: pointer;\n\n}",
       "_model_module_version": "^0.1.0",
       "_rendered": "\n<p>Drag &amp; Drop Quantum Gates onto the Qubits to build your circuit. <span data-rh-exec=\"load_welcome()\">Go back</span>.</p>\n",
       "_view_module_version": "^0.1.0",
       "layout": "IPY_MODEL_9358b53ec29148ebb6a78962ed3e3bc3"
      }
     },
     "8bd092deb0f24936a60a9924175ec958": {
      "model_module": "appwidgets",
      "model_module_version": "^0.1.0",
      "model_name": "ReactiveHtmlModel",
      "state": {
       "_css": "\n.<<VIEW_ID>> p {\n\n    font-size: 1.5em;\n\n    margin-bottom: 40px;\n\n}\n\n\n\n.<<VIEW_ID>> span {\n\n    color: rgba(40, 105, 245);\n\n    text-decoration: underline;\n\n    cursor: pointer;\n\n}",
       "_model_module_version": "^0.1.0",
       "_rendered": "\n<p>Drag &amp; Drop Quantum Gates onto the Qubits to build your circuit. <span data-rh-exec=\"load_welcome()\">Go back</span>.</p>\n",
       "_view_module_version": "^0.1.0",
       "layout": "IPY_MODEL_2d869eed076444f3a5dcc90fa7aae347"
      }
     },
     "8ca35c041a5e4acb9ca981edb166da29": {
      "model_module": "appwidgets",
      "model_module_version": "^0.1.0",
      "model_name": "ReactiveHtmlModel",
      "state": {
       "_css": "\n.<<VIEW_ID>> #view-welcome h3 {\n\n    font-size: 2em;\n\n}\n\n\n\n.<<VIEW_ID>> #view-welcome h4, #view-welcome h5 {\n\n    font-size: 1.7em;\n\n    margin-bottom: 1em;\n\n}\n\n\n\n.<<VIEW_ID>> #view-welcome .card {\n\n    padding: 10px 10px 30px 10px;\n\n    margin: 2px;\n\n    background-color: rgba(244, 244, 244);\n\n    height: 180px; /*calc(100% - 4px);*/\n\n    border-radius: 0;\n\n    border-width: 0;\n\n    position: relative;\n\n    cursor: pointer;\n\n}\n\n\n\n.<<VIEW_ID>> #view-welcome .card-primary .card {\n\n    background-color: rgba(40, 105, 245);\n\n    color: white;\n\n}\n\n\n\n.<<VIEW_ID>> #view-welcome p {\n\n    font-size: 1.3em;\n\n}\n\n\n\n.<<VIEW_ID>> #view-welcome span.arrow {\n\n    color: rgba(40, 105, 245);\n\n    position: absolute;\n\n    bottom: 10px;\n\n    left: 20px;\n\n    font-size: 1.5em;\n\n}\n\n\n\n.<<VIEW_ID>> #view-welcome .card-primary span.arrow {\n\n    color: white;\n\n}\n\n\n\n.<<VIEW_ID>> #view-welcome .mt-4 {\n\n    margin-top: 20px;\n\n}",
       "_model_module_version": "^0.1.0",
       "_rendered": "\n<div class=\"app-view-content\" id=\"view-welcome\">\n<h3>Welcome to the Qoffee Maker</h3>\n<br/>\n<div class=\"row mt-4\">\n<div class=\"col-md-12\">\n<div class=\"row align-items-stretch card-primary\">\n<div class=\"col-md-3\">\n<div class=\"card\" data-rh-exec=\"load_starting_point('empty')\">\n<div class=\"card-body\">\n<h5 class=\"card-title\">Start the Qoffee Maker</h5>\n<p class=\"card-text\"></p>\n<span class=\"arrow\">→</span>\n</div>\n</div>\n</div>\n</div>\n</div>\n</div>\n<br/>\n<br/>\n<br/>\n<div class=\"row mt-4\">\n<div class=\"col-md-12\">\n<h4>Start with the examples from qoffee-maker.org</h4>\n<div class=\"row align-items-stretch\">\n<div class=\"col-md-3\">\n<div class=\"card\" data-rh-exec=\"load_starting_point('anything')\">\n<div class=\"card-body\">\n<h5 class=\"card-title\">Just something to drink</h5>\n<p class=\"card-text\"></p>\n<span class=\"arrow\">→</span>\n</div>\n</div>\n</div>\n<div class=\"col-md-3\">\n<div class=\"card\" data-rh-exec=\"load_starting_point('cappucino')\">\n<div class=\"card-body\">\n<h5 class=\"card-title\">Only Cappucino</h5>\n<p class=\"card-text\"></p>\n<span class=\"arrow\">→</span>\n</div>\n</div>\n</div>\n<div class=\"col-md-3\">\n<div class=\"card\" data-rh-exec=\"load_starting_point('withoutcoffein')\">\n<div class=\"card-body\">\n<h5 class=\"card-title\">Without caffein</h5>\n<p class=\"card-text\"></p>\n<span class=\"arrow\">→</span>\n</div>\n</div>\n</div>\n<div class=\"col-md-3\">\n<div class=\"card\" data-rh-exec=\"load_starting_point('nothingstrong')\">\n<div class=\"card-body\">\n<h5 class=\"card-title\">Nothing Strong</h5>\n<p class=\"card-text\"></p>\n<span class=\"arrow\">→</span>\n</div>\n</div>\n</div>\n<div class=\"col-md-3\">\n<div class=\"card\" data-rh-exec=\"load_starting_point('teaorcoffee')\">\n<div class=\"card-body\">\n<h5 class=\"card-title\">Tea or Coffee</h5>\n<p class=\"card-text\"></p>\n<span class=\"arrow\">→</span>\n</div>\n</div>\n</div>\n</div>\n</div>\n</div>\n</div>\n",
       "_view_module_version": "^0.1.0",
       "layout": "IPY_MODEL_99bcfbff6a1e4699953ca00bb1f0f2d4"
      }
     },
     "8cb1d892fbc04f5eb1bcb9e61d79a4c5": {
      "model_module": "@jupyter-widgets/base",
      "model_module_version": "1.2.0",
      "model_name": "LayoutModel",
      "state": {}
     },
     "8d6e73de57064ca3837dd1fd861557c1": {
      "model_module": "@jupyter-widgets/base",
      "model_module_version": "1.2.0",
      "model_name": "LayoutModel",
      "state": {}
     },
     "8db244cdb56b4daea3f70c8eea204bd1": {
      "model_module": "@jupyter-widgets/base",
      "model_module_version": "1.2.0",
      "model_name": "LayoutModel",
      "state": {}
     },
     "8dc1ca4a796b4bceabc464807e025586": {
      "model_module": "@jupyter-widgets/base",
      "model_module_version": "1.2.0",
      "model_name": "LayoutModel",
      "state": {}
     },
     "8e2b6b9d84b44ad294b104de3121758a": {
      "model_module": "@jupyter-widgets/controls",
      "model_module_version": "1.5.0",
      "model_name": "HBoxModel",
      "state": {
       "children": [
        "IPY_MODEL_dc035f1a9e63489286c818e601ebdf81",
        "IPY_MODEL_e3a0cc49bea84fc3a3e9e7dbcab5c77d"
       ],
       "layout": "IPY_MODEL_76a4aadaae364c34819caaac679ff551"
      }
     },
     "8e5d2cc76ae643c3beabb6b3ea1e103c": {
      "model_module": "@jupyter-widgets/base",
      "model_module_version": "1.2.0",
      "model_name": "LayoutModel",
      "state": {}
     },
     "8ed07bbbe5dd431bbdbb53e2a4adc999": {
      "model_module": "@jupyter-widgets/controls",
      "model_module_version": "1.5.0",
      "model_name": "VBoxModel",
      "state": {
       "children": [
        "IPY_MODEL_a22ebe907b2948ad84b1ad2db496e128",
        "IPY_MODEL_fe9962bc30cf4312b546cf7b6ced53d8"
       ],
       "layout": "IPY_MODEL_47eb541c5c8e4409a6364bdb46360b54"
      }
     },
     "8ed8b7271e124825954d6b3c80432f73": {
      "model_module": "appwidgets",
      "model_module_version": "^0.1.0",
      "model_name": "ReactiveHtmlModel",
      "state": {
       "_css": "\n/*\n\n\tHistogram\n\n*/\n\n.<<VIEW_ID>> #view-composer-hist-container {\n\n\twidth: 100%;\n\n\tpadding: 0 50px 0 10px;\n\n    margin-top: 50px;\n\n}\n\n.<<VIEW_ID>> #view-composer-hist-container #view-composer-hist {\n\n\twidth: 100%;\n\n\theight: 100%;\n\n\tdisplay: flex;\n\n\tflex-direction: row;\n\n\tjustify-content: space-evenly;\n\n\talign-items: stretch;\n\n}\n\n.<<VIEW_ID>> #view-composer-hist-container .histogram-entry {\n\n\tposition: relative;\n\n\tflex: 0 0 12.5%;\n\n}\n\n.<<VIEW_ID>> #view-composer-hist-container .histogram-entry p {\n\n\ttext-align: center;\n\n    font-size: 1.5em;\n\n}\n\n.<<VIEW_ID>> #view-composer-hist-container .histogram-bar-container {\n\n\tposition: relative;\n\n\theight: 25vh;\n\n}\n\n.<<VIEW_ID>> #view-composer-hist-container .histogram-bar-outer {\n\n\twidth: 60px;\n\n\tleft: 50%;\n\n\tmargin-left: -30px;\n\n\theight: 100%;\n\n\tposition: relative;\n\n\t/* background-color: lightgray; */\n\n}\n\n.<<VIEW_ID>> #view-composer-hist-container .histogram-bar {\n\n\tposition: absolute;\n\n\tbottom: 0;\n\n\theight: 0;\n\n\twidth: 33%;\n\n}\n\n\n\n.<<VIEW_ID>> #view-composer-hist-container .histogram-bar-qasm {\n\n\tbackground-color: rgb(116, 0, 123);\n\n\tleft: 0%;\n\n}\n\n.<<VIEW_ID>> #view-composer-hist-container .histogram-bar-anal {\n\n\tbackground-color: rgba(40, 105, 245);\n\n\tleft: 33%;\n\n}\n\n.<<VIEW_ID>> #view-composer-hist-container .histogram-bar-mock {\n\n\tbackground-color: rgb(0, 135, 92);\n\n\tleft: 66%;\n\n}\n\n\n\n.<<VIEW_ID>> #view-composer-hist-container .histogram-text-container-pre {\n\n    margin-bottom: 20px;\n\n}\n\n\n\n.<<VIEW_ID>> #view-composer-hist-container .histogram-text-container-post {\n\n    margin-top: 20px;\n\n\tmargin-bottom: 10px;\n\n}",
       "_model_module_version": "^0.1.0",
       "_rendered": "\n<div id=\"view-composer-hist-container\">\n<div id=\"view-composer-hist\">\n<div class=\"histogram-entry\">\n<div class=\"histogram-text-container-pre\">\n<p><span \"=\"\" class=\"histogram-text histogram-text-ideal histogram-text-000\">12.4%</span></p>\n</div>\n<div class=\"histogram-bar-container\">\n<div class=\"histogram-bar-outer\">\n\n<div class=\"histogram-bar histogram-bar-anal histogram-bar-000\" style=\"height: 12.499760249999998%\"></div>\n\n</div>\n</div>\n<div class=\"histogram-text-container-post\">\n<p>000<br/><br/>Tea</p>\n</div>\n</div>\n<div class=\"histogram-entry\">\n<div class=\"histogram-text-container-pre\">\n<p><span \"=\"\" class=\"histogram-text histogram-text-ideal histogram-text-001\">12.4%</span></p>\n</div>\n<div class=\"histogram-bar-container\">\n<div class=\"histogram-bar-outer\">\n\n<div class=\"histogram-bar histogram-bar-anal histogram-bar-001\" style=\"height: 12.499760249999998%\"></div>\n\n</div>\n</div>\n<div class=\"histogram-text-container-post\">\n<p>001<br/><br/>Hot Chocolate</p>\n</div>\n</div>\n<div class=\"histogram-entry\">\n<div class=\"histogram-text-container-pre\">\n<p><span \"=\"\" class=\"histogram-text histogram-text-ideal histogram-text-010\">12.4%</span></p>\n</div>\n<div class=\"histogram-bar-container\">\n<div class=\"histogram-bar-outer\">\n\n<div class=\"histogram-bar histogram-bar-anal histogram-bar-010\" style=\"height: 12.499760249999998%\"></div>\n\n</div>\n</div>\n<div class=\"histogram-text-container-post\">\n<p>010<br/><br/>Espresso</p>\n</div>\n</div>\n<div class=\"histogram-entry\">\n<div class=\"histogram-text-container-pre\">\n<p><span \"=\"\" class=\"histogram-text histogram-text-ideal histogram-text-011\">12.4%</span></p>\n</div>\n<div class=\"histogram-bar-container\">\n<div class=\"histogram-bar-outer\">\n\n<div class=\"histogram-bar histogram-bar-anal histogram-bar-011\" style=\"height: 12.499760249999998%\"></div>\n\n</div>\n</div>\n<div class=\"histogram-text-container-post\">\n<p>011<br/><br/>Coffee</p>\n</div>\n</div>\n<div class=\"histogram-entry\">\n<div class=\"histogram-text-container-pre\">\n<p><span \"=\"\" class=\"histogram-text histogram-text-ideal histogram-text-100\">12.4%</span></p>\n</div>\n<div class=\"histogram-bar-container\">\n<div class=\"histogram-bar-outer\">\n\n<div class=\"histogram-bar histogram-bar-anal histogram-bar-100\" style=\"height: 12.499760249999998%\"></div>\n\n</div>\n</div>\n<div class=\"histogram-text-container-post\">\n<p>100<br/><br/>Cappucino</p>\n</div>\n</div>\n<div class=\"histogram-entry\">\n<div class=\"histogram-text-container-pre\">\n<p><span \"=\"\" class=\"histogram-text histogram-text-ideal histogram-text-101\">12.4%</span></p>\n</div>\n<div class=\"histogram-bar-container\">\n<div class=\"histogram-bar-outer\">\n\n<div class=\"histogram-bar histogram-bar-anal histogram-bar-101\" style=\"height: 12.499760249999998%\"></div>\n\n</div>\n</div>\n<div class=\"histogram-text-container-post\">\n<p>101<br/><br/>Latte Macchiato</p>\n</div>\n</div>\n<div class=\"histogram-entry\">\n<div class=\"histogram-text-container-pre\">\n<p><span \"=\"\" class=\"histogram-text histogram-text-ideal histogram-text-110\">12.4%</span></p>\n</div>\n<div class=\"histogram-bar-container\">\n<div class=\"histogram-bar-outer\">\n\n<div class=\"histogram-bar histogram-bar-anal histogram-bar-110\" style=\"height: 12.499760249999998%\"></div>\n\n</div>\n</div>\n<div class=\"histogram-text-container-post\">\n<p>110<br/><br/>Viennese Melange</p>\n</div>\n</div>\n<div class=\"histogram-entry\">\n<div class=\"histogram-text-container-pre\">\n<p><span \"=\"\" class=\"histogram-text histogram-text-ideal histogram-text-111\">12.4%</span></p>\n</div>\n<div class=\"histogram-bar-container\">\n<div class=\"histogram-bar-outer\">\n\n<div class=\"histogram-bar histogram-bar-anal histogram-bar-111\" style=\"height: 12.499760249999998%\"></div>\n\n</div>\n</div>\n<div class=\"histogram-text-container-post\">\n<p>111<br/><br/>Americano</p>\n</div>\n</div>\n</div>\n</div>\n",
       "_view_module_version": "^0.1.0",
       "layout": "IPY_MODEL_6f53b583aed644b485dd68e6f414ac79"
      }
     },
     "8f35e667955146cfb45e448a8245ba1a": {
      "model_module": "@quantum/ibm-q-lab-widgets",
      "model_module_version": "^1.0.3",
      "model_name": "CircuitComposerModel",
      "state": {
       "_model_module_version": "^1.0.3",
       "_view_module_version": "^1.0.3",
       "circuit": "\"OPENQASM 2.0;\\ninclude \\\"qelib1.inc\\\";\\n\\nqreg q[3];\\ncreg c[3];\\n\\nh q[0];\\nh q[1];\\nh q[2];\"",
       "editable": true,
       "layout": "IPY_MODEL_3b0e33e293f1401f8ff890fbf9afcbbc",
       "qiskit_code_cell_index": -1
      }
     },
     "906a36e9851f4fa995126042652b07fd": {
      "model_module": "@jupyter-widgets/base",
      "model_module_version": "1.2.0",
      "model_name": "LayoutModel",
      "state": {}
     },
     "91cf586174354e469dcb49a37416db98": {
      "model_module": "@jupyter-widgets/base",
      "model_module_version": "1.2.0",
      "model_name": "LayoutModel",
      "state": {}
     },
     "92350a5ad59a4abc8cd5959469e7d02a": {
      "model_module": "@jupyter-widgets/base",
      "model_module_version": "1.2.0",
      "model_name": "LayoutModel",
      "state": {}
     },
     "9260cead79404dcba84cd4374e0253b4": {
      "model_module": "appwidgets",
      "model_module_version": "^0.1.0",
      "model_name": "ReactiveHtmlModel",
      "state": {
       "_css": "\n/*\n\n\tHistogram\n\n*/\n\n.<<VIEW_ID>> #view-composer-hist-container {\n\n\twidth: 100%;\n\n\tpadding: 0 50px 0 10px;\n\n    margin-top: 50px;\n\n}\n\n.<<VIEW_ID>> #view-composer-hist-container #view-composer-hist {\n\n\twidth: 100%;\n\n\theight: 100%;\n\n\tdisplay: flex;\n\n\tflex-direction: row;\n\n\tjustify-content: space-evenly;\n\n\talign-items: stretch;\n\n}\n\n.<<VIEW_ID>> #view-composer-hist-container .histogram-entry {\n\n\tposition: relative;\n\n\tflex: 0 0 12.5%;\n\n}\n\n.<<VIEW_ID>> #view-composer-hist-container .histogram-entry p {\n\n\ttext-align: center;\n\n    font-size: 1.5em;\n\n}\n\n.<<VIEW_ID>> #view-composer-hist-container .histogram-bar-container {\n\n\tposition: relative;\n\n\theight: 25vh;\n\n}\n\n.<<VIEW_ID>> #view-composer-hist-container .histogram-bar-outer {\n\n\twidth: 60px;\n\n\tleft: 50%;\n\n\tmargin-left: -30px;\n\n\theight: 100%;\n\n\tposition: relative;\n\n\t/* background-color: lightgray; */\n\n}\n\n.<<VIEW_ID>> #view-composer-hist-container .histogram-bar {\n\n\tposition: absolute;\n\n\tbottom: 0;\n\n\theight: 0;\n\n\twidth: 33%;\n\n}\n\n\n\n.<<VIEW_ID>> #view-composer-hist-container .histogram-bar-qasm {\n\n\tbackground-color: rgb(116, 0, 123);\n\n\tleft: 0%;\n\n}\n\n.<<VIEW_ID>> #view-composer-hist-container .histogram-bar-anal {\n\n\tbackground-color: rgba(40, 105, 245);\n\n\tleft: 33%;\n\n}\n\n.<<VIEW_ID>> #view-composer-hist-container .histogram-bar-mock {\n\n\tbackground-color: rgb(0, 135, 92);\n\n\tleft: 66%;\n\n}\n\n\n\n.<<VIEW_ID>> #view-composer-hist-container .histogram-text-container-pre {\n\n    margin-bottom: 20px;\n\n}\n\n\n\n.<<VIEW_ID>> #view-composer-hist-container .histogram-text-container-post {\n\n    margin-top: 20px;\n\n\tmargin-bottom: 10px;\n\n}",
       "_model_module_version": "^0.1.0",
       "_rendered": "\n<div id=\"view-composer-hist-container\">\n<div id=\"view-composer-hist\">\n<div class=\"histogram-entry\">\n<div class=\"histogram-text-container-pre\">\n<p><span \"=\"\" class=\"histogram-text histogram-text-ideal histogram-text-000\">50.0%</span></p>\n</div>\n<div class=\"histogram-bar-container\">\n<div class=\"histogram-bar-outer\">\n\n<div class=\"histogram-bar histogram-bar-anal histogram-bar-000\" style=\"height: 50.000455210000005%\"></div>\n\n</div>\n</div>\n<div class=\"histogram-text-container-post\">\n<p>000<br/><br/>Tea</p>\n</div>\n</div>\n<div class=\"histogram-entry\">\n<div class=\"histogram-text-container-pre\">\n<p><span \"=\"\" class=\"histogram-text histogram-text-ideal histogram-text-001\">50.0%</span></p>\n</div>\n<div class=\"histogram-bar-container\">\n<div class=\"histogram-bar-outer\">\n\n<div class=\"histogram-bar histogram-bar-anal histogram-bar-001\" style=\"height: 50.000455210000005%\"></div>\n\n</div>\n</div>\n<div class=\"histogram-text-container-post\">\n<p>001<br/><br/>Hot Chocolate</p>\n</div>\n</div>\n<div class=\"histogram-entry\">\n<div class=\"histogram-text-container-pre\">\n<p><span \"=\"\" class=\"histogram-text histogram-text-ideal histogram-text-010\">0.0%</span></p>\n</div>\n<div class=\"histogram-bar-container\">\n<div class=\"histogram-bar-outer\">\n\n<div class=\"histogram-bar histogram-bar-anal histogram-bar-010\" style=\"height: 0.0%\"></div>\n\n</div>\n</div>\n<div class=\"histogram-text-container-post\">\n<p>010<br/><br/>Espresso</p>\n</div>\n</div>\n<div class=\"histogram-entry\">\n<div class=\"histogram-text-container-pre\">\n<p><span \"=\"\" class=\"histogram-text histogram-text-ideal histogram-text-011\">0.0%</span></p>\n</div>\n<div class=\"histogram-bar-container\">\n<div class=\"histogram-bar-outer\">\n\n<div class=\"histogram-bar histogram-bar-anal histogram-bar-011\" style=\"height: 0.0%\"></div>\n\n</div>\n</div>\n<div class=\"histogram-text-container-post\">\n<p>011<br/><br/>Coffee</p>\n</div>\n</div>\n<div class=\"histogram-entry\">\n<div class=\"histogram-text-container-pre\">\n<p><span \"=\"\" class=\"histogram-text histogram-text-ideal histogram-text-100\">0.0%</span></p>\n</div>\n<div class=\"histogram-bar-container\">\n<div class=\"histogram-bar-outer\">\n\n<div class=\"histogram-bar histogram-bar-anal histogram-bar-100\" style=\"height: 0.0%\"></div>\n\n</div>\n</div>\n<div class=\"histogram-text-container-post\">\n<p>100<br/><br/>Cappucino</p>\n</div>\n</div>\n<div class=\"histogram-entry\">\n<div class=\"histogram-text-container-pre\">\n<p><span \"=\"\" class=\"histogram-text histogram-text-ideal histogram-text-101\">0.0%</span></p>\n</div>\n<div class=\"histogram-bar-container\">\n<div class=\"histogram-bar-outer\">\n\n<div class=\"histogram-bar histogram-bar-anal histogram-bar-101\" style=\"height: 0.0%\"></div>\n\n</div>\n</div>\n<div class=\"histogram-text-container-post\">\n<p>101<br/><br/>Latte Macchiato</p>\n</div>\n</div>\n<div class=\"histogram-entry\">\n<div class=\"histogram-text-container-pre\">\n<p><span \"=\"\" class=\"histogram-text histogram-text-ideal histogram-text-110\">0.0%</span></p>\n</div>\n<div class=\"histogram-bar-container\">\n<div class=\"histogram-bar-outer\">\n\n<div class=\"histogram-bar histogram-bar-anal histogram-bar-110\" style=\"height: 0.0%\"></div>\n\n</div>\n</div>\n<div class=\"histogram-text-container-post\">\n<p>110<br/><br/>Viennese Melange</p>\n</div>\n</div>\n<div class=\"histogram-entry\">\n<div class=\"histogram-text-container-pre\">\n<p><span \"=\"\" class=\"histogram-text histogram-text-ideal histogram-text-111\">0.0%</span></p>\n</div>\n<div class=\"histogram-bar-container\">\n<div class=\"histogram-bar-outer\">\n\n<div class=\"histogram-bar histogram-bar-anal histogram-bar-111\" style=\"height: 0.0%\"></div>\n\n</div>\n</div>\n<div class=\"histogram-text-container-post\">\n<p>111<br/><br/>Americano</p>\n</div>\n</div>\n</div>\n</div>\n",
       "_view_module_version": "^0.1.0",
       "layout": "IPY_MODEL_a47dc608163b4015bf3800f58b5eb43d"
      }
     },
     "92eb53e6fc804f8883a47cb505de8988": {
      "model_module": "appwidgets",
      "model_module_version": "^0.1.0",
      "model_name": "ReactiveHtmlModel",
      "state": {
       "_css": "\n/*\n\n\tHistogram\n\n*/\n\n.<<VIEW_ID>> #view-composer-hist-container {\n\n\twidth: 100%;\n\n\tpadding: 0 50px 0 10px;\n\n    margin-top: 50px;\n\n}\n\n.<<VIEW_ID>> #view-composer-hist-container #view-composer-hist {\n\n\twidth: 100%;\n\n\theight: 100%;\n\n\tdisplay: flex;\n\n\tflex-direction: row;\n\n\tjustify-content: space-evenly;\n\n\talign-items: stretch;\n\n}\n\n.<<VIEW_ID>> #view-composer-hist-container .histogram-entry {\n\n\tposition: relative;\n\n\tflex: 0 0 12.5%;\n\n}\n\n.<<VIEW_ID>> #view-composer-hist-container .histogram-entry p {\n\n\ttext-align: center;\n\n    font-size: 1.5em;\n\n}\n\n.<<VIEW_ID>> #view-composer-hist-container .histogram-bar-container {\n\n\tposition: relative;\n\n\theight: 25vh;\n\n}\n\n.<<VIEW_ID>> #view-composer-hist-container .histogram-bar-outer {\n\n\twidth: 60px;\n\n\tleft: 50%;\n\n\tmargin-left: -30px;\n\n\theight: 100%;\n\n\tposition: relative;\n\n\t/* background-color: lightgray; */\n\n}\n\n.<<VIEW_ID>> #view-composer-hist-container .histogram-bar {\n\n\tposition: absolute;\n\n\tbottom: 0;\n\n\theight: 0;\n\n\twidth: 33%;\n\n}\n\n\n\n.<<VIEW_ID>> #view-composer-hist-container .histogram-bar-qasm {\n\n\tbackground-color: rgb(116, 0, 123);\n\n\tleft: 0%;\n\n}\n\n.<<VIEW_ID>> #view-composer-hist-container .histogram-bar-anal {\n\n\tbackground-color: rgba(40, 105, 245);\n\n\tleft: 33%;\n\n}\n\n.<<VIEW_ID>> #view-composer-hist-container .histogram-bar-mock {\n\n\tbackground-color: rgb(0, 135, 92);\n\n\tleft: 66%;\n\n}\n\n\n\n.<<VIEW_ID>> #view-composer-hist-container .histogram-text-container-pre {\n\n    margin-bottom: 20px;\n\n}\n\n\n\n.<<VIEW_ID>> #view-composer-hist-container .histogram-text-container-post {\n\n    margin-top: 20px;\n\n\tmargin-bottom: 10px;\n\n}",
       "_model_module_version": "^0.1.0",
       "_rendered": "\n<div id=\"view-composer-hist-container\">\n<div id=\"view-composer-hist\">\n<div class=\"histogram-entry\">\n<div class=\"histogram-text-container-pre\">\n<p><span \"=\"\" class=\"histogram-text histogram-text-ideal histogram-text-000\">0.0%</span></p>\n</div>\n<div class=\"histogram-bar-container\">\n<div class=\"histogram-bar-outer\">\n\n<div class=\"histogram-bar histogram-bar-anal histogram-bar-000\" style=\"height: 0%\"></div>\n\n</div>\n</div>\n<div class=\"histogram-text-container-post\">\n<p>000<br/><br/>Tea</p>\n</div>\n</div>\n<div class=\"histogram-entry\">\n<div class=\"histogram-text-container-pre\">\n<p><span \"=\"\" class=\"histogram-text histogram-text-ideal histogram-text-001\">0.0%</span></p>\n</div>\n<div class=\"histogram-bar-container\">\n<div class=\"histogram-bar-outer\">\n\n<div class=\"histogram-bar histogram-bar-anal histogram-bar-001\" style=\"height: 0%\"></div>\n\n</div>\n</div>\n<div class=\"histogram-text-container-post\">\n<p>001<br/><br/>Hot Chocolate</p>\n</div>\n</div>\n<div class=\"histogram-entry\">\n<div class=\"histogram-text-container-pre\">\n<p><span \"=\"\" class=\"histogram-text histogram-text-ideal histogram-text-010\">0.0%</span></p>\n</div>\n<div class=\"histogram-bar-container\">\n<div class=\"histogram-bar-outer\">\n\n<div class=\"histogram-bar histogram-bar-anal histogram-bar-010\" style=\"height: 0%\"></div>\n\n</div>\n</div>\n<div class=\"histogram-text-container-post\">\n<p>010<br/><br/>Espresso</p>\n</div>\n</div>\n<div class=\"histogram-entry\">\n<div class=\"histogram-text-container-pre\">\n<p><span \"=\"\" class=\"histogram-text histogram-text-ideal histogram-text-011\">0.0%</span></p>\n</div>\n<div class=\"histogram-bar-container\">\n<div class=\"histogram-bar-outer\">\n\n<div class=\"histogram-bar histogram-bar-anal histogram-bar-011\" style=\"height: 0%\"></div>\n\n</div>\n</div>\n<div class=\"histogram-text-container-post\">\n<p>011<br/><br/>Coffee</p>\n</div>\n</div>\n<div class=\"histogram-entry\">\n<div class=\"histogram-text-container-pre\">\n<p><span \"=\"\" class=\"histogram-text histogram-text-ideal histogram-text-100\">0.0%</span></p>\n</div>\n<div class=\"histogram-bar-container\">\n<div class=\"histogram-bar-outer\">\n\n<div class=\"histogram-bar histogram-bar-anal histogram-bar-100\" style=\"height: 0%\"></div>\n\n</div>\n</div>\n<div class=\"histogram-text-container-post\">\n<p>100<br/><br/>Cappucino</p>\n</div>\n</div>\n<div class=\"histogram-entry\">\n<div class=\"histogram-text-container-pre\">\n<p><span \"=\"\" class=\"histogram-text histogram-text-ideal histogram-text-101\">0.0%</span></p>\n</div>\n<div class=\"histogram-bar-container\">\n<div class=\"histogram-bar-outer\">\n\n<div class=\"histogram-bar histogram-bar-anal histogram-bar-101\" style=\"height: 0%\"></div>\n\n</div>\n</div>\n<div class=\"histogram-text-container-post\">\n<p>101<br/><br/>Latte Macchiato</p>\n</div>\n</div>\n<div class=\"histogram-entry\">\n<div class=\"histogram-text-container-pre\">\n<p><span \"=\"\" class=\"histogram-text histogram-text-ideal histogram-text-110\">0.0%</span></p>\n</div>\n<div class=\"histogram-bar-container\">\n<div class=\"histogram-bar-outer\">\n\n<div class=\"histogram-bar histogram-bar-anal histogram-bar-110\" style=\"height: 0%\"></div>\n\n</div>\n</div>\n<div class=\"histogram-text-container-post\">\n<p>110<br/><br/>Viennese Melange</p>\n</div>\n</div>\n<div class=\"histogram-entry\">\n<div class=\"histogram-text-container-pre\">\n<p><span \"=\"\" class=\"histogram-text histogram-text-ideal histogram-text-111\">0.0%</span></p>\n</div>\n<div class=\"histogram-bar-container\">\n<div class=\"histogram-bar-outer\">\n\n<div class=\"histogram-bar histogram-bar-anal histogram-bar-111\" style=\"height: 0%\"></div>\n\n</div>\n</div>\n<div class=\"histogram-text-container-post\">\n<p>111<br/><br/>Americano</p>\n</div>\n</div>\n</div>\n</div>\n",
       "_view_module_version": "^0.1.0",
       "layout": "IPY_MODEL_061eca6acf854f1181176a223e1fec0c"
      }
     },
     "9358b53ec29148ebb6a78962ed3e3bc3": {
      "model_module": "@jupyter-widgets/base",
      "model_module_version": "1.2.0",
      "model_name": "LayoutModel",
      "state": {}
     },
     "94161204f85b4a63b841724b58fa7612": {
      "model_module": "appwidgets",
      "model_module_version": "^0.1.0",
      "model_name": "ReactiveHtmlModel",
      "state": {
       "_css": "\n.<<VIEW_ID>> #view-composer-singleshot button {\n\n    font-size: 1.5em;\n\n}\n\n\n\n.<<VIEW_ID>> #view-composer-singleshot button.btn-primary {\n\n    color: white;\n\n    background-color: rgba(40, 105, 245);\n\n    border-color: rgba(40, 105, 245);\n\n    border-radius: 0;\n\n}\n\n\n\n\n\n.<<VIEW_ID>> .view-composer-order-text p {\n\n    margin-top: 20px;\n\n    margin-bottom: 30px;\n\n    width: 100%;\n\n    text-align: center;\n\n    font-size: 3em;\n\n    line-height: 1.2;\n\n}",
       "_dom_classes": [
        "width-20"
       ],
       "_model_module_version": "^0.1.0",
       "_rendered": "\n<div id=\"view-composer-singleshot-container\">\n<div id=\"view-composer-singleshot\">\n<button class=\"btn btn-primary btn-block\" data-rh-exec=\"get_single_shot_result()\">Determine your beverage</button>\n<br/>\n\n<div class=\"view-composer-order-text width-100\" data-rh-if=\"2==2\" id=\"view-composer-singleshot-result\">\n<p><img alt=\"Hot beverage\" src=\"icons/openmoji-svg-color/2615.svg\"/><br/>Tea</p>\n<button class=\"btn btn-primary btn-block\" data-rh-exec=\"request_drink()\">Order Drink →</button>\n</div>\n\n\n<br>\n</br></div>\n</div>\n",
       "_view_module_version": "^0.1.0",
       "layout": "IPY_MODEL_1f329c62ee1c4ce99fa19cc4b4057b1a"
      }
     },
     "9471341a036b49319202adb121ddda11": {
      "model_module": "@jupyter-widgets/base",
      "model_module_version": "1.2.0",
      "model_name": "LayoutModel",
      "state": {}
     },
     "951d51dcb35f4a9faa1df56d1bf94a12": {
      "model_module": "appwidgets",
      "model_module_version": "^0.1.0",
      "model_name": "ReactiveHtmlModel",
      "state": {
       "_css": "",
       "_model_module_version": "^0.1.0",
       "_rendered": "\n<div class=\"app-view-content\">\n<h1>Oh no, something went wrong 😱</h1>\n</div>\n",
       "_view_module_version": "^0.1.0",
       "layout": "IPY_MODEL_9812fdf0b199458ca207f3ce9ddd5b26"
      }
     },
     "95319f256220442591bb3d65153fe495": {
      "model_module": "appwidgets",
      "model_module_version": "^0.1.0",
      "model_name": "ReactiveHtmlModel",
      "state": {
       "_css": "",
       "_model_module_version": "^0.1.0",
       "_rendered": "\n<div class=\"app-view-content\">\n<h1>Oh no, something went wrong<img '=\"\" alt=\"Knocked-out face\" src=\"icons/openmoji-svg-color/1F635.svg\" style=\"margin-left: auto; margin-right: auto; width: 50%\"/><br/></h1>\n</div>\n",
       "_view_module_version": "^0.1.0",
       "layout": "IPY_MODEL_800ebd2679714e5cb4bf9491b5e014a9"
      }
     },
     "957f9c6d6a6b45b680bfd6384d1e3096": {
      "model_module": "@jupyter-widgets/base",
      "model_module_version": "1.2.0",
      "model_name": "LayoutModel",
      "state": {}
     },
     "958be7013fae440fb89752845f88a046": {
      "model_module": "@jupyter-widgets/base",
      "model_module_version": "1.2.0",
      "model_name": "LayoutModel",
      "state": {}
     },
     "9611cba819c9402cad1b1750f3b98912": {
      "model_module": "@jupyter-widgets/base",
      "model_module_version": "1.2.0",
      "model_name": "LayoutModel",
      "state": {}
     },
     "9812fdf0b199458ca207f3ce9ddd5b26": {
      "model_module": "@jupyter-widgets/base",
      "model_module_version": "1.2.0",
      "model_name": "LayoutModel",
      "state": {}
     },
     "98c641bcda844e57865641a32a8fd093": {
      "model_module": "@jupyter-widgets/base",
      "model_module_version": "1.2.0",
      "model_name": "LayoutModel",
      "state": {}
     },
     "99bcfbff6a1e4699953ca00bb1f0f2d4": {
      "model_module": "@jupyter-widgets/base",
      "model_module_version": "1.2.0",
      "model_name": "LayoutModel",
      "state": {}
     },
     "9b51c30fe2cb4aba896d476638f3c8a8": {
      "model_module": "@jupyter-widgets/base",
      "model_module_version": "1.2.0",
      "model_name": "LayoutModel",
      "state": {}
     },
     "9b9263eee6484c23b74df1148adafb5a": {
      "model_module": "@jupyter-widgets/base",
      "model_module_version": "1.2.0",
      "model_name": "LayoutModel",
      "state": {}
     },
     "9bd8630128464b4b8917ccb495593072": {
      "model_module": "@jupyter-widgets/controls",
      "model_module_version": "1.5.0",
      "model_name": "VBoxModel",
      "state": {
       "_dom_classes": [
        "app-view-content"
       ],
       "children": [
        "IPY_MODEL_ca5be9a035164721a45e2320629dc3c4",
        "IPY_MODEL_fd51ec3d88754f83b023ccda86ef95f4",
        "IPY_MODEL_4af131f4c68549bfb92e73fc55b929f7"
       ],
       "layout": "IPY_MODEL_957f9c6d6a6b45b680bfd6384d1e3096"
      }
     },
     "9bf276268a104981a5eeaa5edf05dab8": {
      "model_module": "@jupyter-widgets/base",
      "model_module_version": "1.2.0",
      "model_name": "LayoutModel",
      "state": {}
     },
     "9ce73306097344b7a82b60a24a265f01": {
      "model_module": "appwidgets",
      "model_module_version": "^0.1.0",
      "model_name": "ReactiveHtmlModel",
      "state": {
       "_css": "\n.<<VIEW_ID>> #view-composer-button-bar button {\n\n    border-radius: 0;\n\n    font-size: 1.5em;\n\n}\n\n\n\n.<<VIEW_ID>> #view-composer-show-theo-btn {\n\n    border-left-width: 10px;\n\n    border-color: rgb(40, 105, 245);\n\n}\n\n\n\n.<<VIEW_ID>> #view-composer-show-qasm-btn {\n\n    border-left-width: 10px;\n\n    border-color: rgb(116, 0, 123);\n\n}\n\n\n\n.<<VIEW_ID>> #view-composer-show-mock-btn {\n\n    border-left-width: 10px;\n\n    border-color: rgb(0, 135, 92);\n\n}\n\n\n\n.<<VIEW_ID>> #view-composer-show-theo-btn[data-active=\"True\"] {\n\n    background-color:rgba(40, 105, 245, 0.4);\n\n}\n\n\n\n.<<VIEW_ID>> #view-composer-show-qasm-btn[data-active=\"True\"] {\n\n    background-color:rgba(116, 0, 123, 0.4);\n\n}\n\n\n\n.<<VIEW_ID>> #view-composer-show-mock-btn[data-active=\"True\"] {\n\n    background-color:rgba(0, 135, 92, 0.4);\n\n}\n\n\n\n.<<VIEW_ID>> #view-composer-button-bar .mr-4 {\n\n    margin-right: 20px;\n\n}\n\n\n\n.<<VIEW_ID>> #view-composer-hist-header h3 {\n\n    font-size: 2em;\n\n    margin-bottom: 20px;\n\n}",
       "_model_module_version": "^0.1.0",
       "_rendered": "\n<div id=\"view-composer-hist-header\">\n<h3>Measurement Probabilities</h3>\n</div>\n<div id=\"view-composer-button-bar\">\n<button class=\"btn btn-default\" data-active=\"True\" id=\"view-composer-show-theo-btn\">Theoretical</button>\n<button class=\"btn btn-default\" data-active=\"False\" data-rh-exec=\"toggle_data_attr('show_qasm_results')\" id=\"view-composer-show-qasm-btn\">Simulator (error free)</button>\n<button class=\"btn btn-default mr-4\" data-active=\"False\" data-rh-exec=\"toggle_data_attr('show_mock_results')\" id=\"view-composer-show-mock-btn\">Simulator (real quantum device)</button>\n<button class=\"btn btn-default mr-4\" data-rh-exec=\"open_circuit_on_ibmq()\">Export to IBM Quantum Composer</button>\n</div>\n",
       "_view_module_version": "^0.1.0",
       "layout": "IPY_MODEL_de4dfd4aca834c4796c96214673fa571"
      }
     },
     "9eb8f585001c4ffb96034e3842bbd236": {
      "model_module": "appwidgets",
      "model_module_version": "^0.1.0",
      "model_name": "ReactiveHtmlModel",
      "state": {
       "_css": "",
       "_model_module_version": "^0.1.0",
       "_rendered": "\n<div class=\"app-view-content\">\n<h1>Thank you and enjoy your drink ☕️</h1>\n</div>\n",
       "_view_module_version": "^0.1.0",
       "layout": "IPY_MODEL_5b3eae1e8e324c35a0f3b3ccd3e5f05d"
      }
     },
     "9ebdbd8fb34a47c4ab554fac05898a5f": {
      "model_module": "@jupyter-widgets/base",
      "model_module_version": "1.2.0",
      "model_name": "LayoutModel",
      "state": {}
     },
     "9f218d4fe914402d99bc8ac906373555": {
      "model_module": "@jupyter-widgets/base",
      "model_module_version": "1.2.0",
      "model_name": "WidgetModel",
      "state": {
       "_view_module": null,
       "_view_module_version": "",
       "composer_init_circuit": {
        "id": "empty",
        "init_text": "",
        "name": ""
       },
       "heading": "",
       "histogram_anal": {
        "000": 0,
        "001": 0,
        "010": 0,
        "011": 0,
        "100": 0,
        "101": 0,
        "110": 0,
        "111": 0
       },
       "histogram_mock": {
        "000": 0,
        "001": 0,
        "010": 0,
        "011": 0,
        "100": 0,
        "101": 0,
        "110": 0,
        "111": 0
       },
       "histogram_qasm": {
        "000": 0,
        "001": 0,
        "010": 0,
        "011": 0,
        "100": 0,
        "101": 0,
        "110": 0,
        "111": 0
       },
       "qasm": "",
       "show_mock_results": false,
       "show_qasm_results": false,
       "single_shot_device": "simulator",
       "single_shot_result": {
        "bit": "",
        "id": "",
        "name": ""
       },
       "single_shot_status": 0,
       "use_real_device": false,
       "view": ""
      }
     },
     "9febd037c1f8413b979f316f669cdc4c": {
      "model_module": "@jupyter-widgets/base",
      "model_module_version": "1.2.0",
      "model_name": "LayoutModel",
      "state": {}
     },
     "a01952b0994c4ab886310ae91fd8de9e": {
      "model_module": "appwidgets",
      "model_module_version": "^0.1.0",
      "model_name": "ReactiveHtmlModel",
      "state": {
       "_css": "",
       "_model_module_version": "^0.1.0",
       "_rendered": "\n<div class=\"app-view-content\">\n<h1>Thank you and enjoy your drink ☕️</h1>\n</div>\n",
       "_view_module_version": "^0.1.0",
       "layout": "IPY_MODEL_6d2ebbbac9714885914daa9001095017"
      }
     },
     "a068b899b984455d9e71fb3c80a9244b": {
      "model_module": "@jupyter-widgets/base",
      "model_module_version": "1.2.0",
      "model_name": "LayoutModel",
      "state": {}
     },
     "a11bd5afefba499db7443e51cdee3db9": {
      "model_module": "@jupyter-widgets/base",
      "model_module_version": "1.2.0",
      "model_name": "LayoutModel",
      "state": {}
     },
     "a124099b6d614e25aae6f1c9752147d2": {
      "model_module": "@jupyter-widgets/controls",
      "model_module_version": "1.5.0",
      "model_name": "BoxModel",
      "state": {
       "_dom_classes": [
        "app-appbox"
       ],
       "children": [
        "IPY_MODEL_f46bd2acb62745fcbb565dc5ce2618a5"
       ],
       "layout": "IPY_MODEL_be00c539681e47acaeb45cecfd9909f1",
       "view": "composer"
      }
     },
     "a14fb9fc155c4293a19fb731a2dbb70e": {
      "model_module": "appwidgets",
      "model_module_version": "^0.1.0",
      "model_name": "ReactiveHtmlModel",
      "state": {
       "_css": "\n.<<VIEW_ID>> p {\n\n    font-size: 1.5em;\n\n    margin-bottom: 40px;\n\n}\n\n\n\n.<<VIEW_ID>> span {\n\n    color: rgba(40, 105, 245);\n\n    text-decoration: underline;\n\n    cursor: pointer;\n\n}",
       "_model_module_version": "^0.1.0",
       "_rendered": "\n<p>Drag &amp; Drop Quantum Gates onto the Qubits to build your circuit. <span data-rh-exec=\"load_welcome()\">Go back</span>.</p>\n",
       "_view_module_version": "^0.1.0",
       "layout": "IPY_MODEL_d4b9d8aef70c47f59d4a227733b519e3"
      }
     },
     "a1a2861b1852474c89bcfe4121c6c2e4": {
      "model_module": "appwidgets",
      "model_module_version": "^0.1.0",
      "model_name": "ReactiveHtmlModel",
      "state": {
       "_css": "",
       "_model_module_version": "^0.1.0",
       "_rendered": "\n<div class=\"app-view-content\">\n<h1>Oh no, something went wrong 😱</h1>\n</div>\n",
       "_view_module_version": "^0.1.0",
       "layout": "IPY_MODEL_9b51c30fe2cb4aba896d476638f3c8a8"
      }
     },
     "a22ebe907b2948ad84b1ad2db496e128": {
      "model_module": "appwidgets",
      "model_module_version": "^0.1.0",
      "model_name": "ReactiveHtmlModel",
      "state": {
       "_css": "\n.<<VIEW_ID>> #header {\n\n    width: 100%;\n\n    background-color: black;\n\n    height: 58px;\n\n    display: block;\n\n    position: relative;\n\n    margin-bottom: 3em;\n\n}\n\n\n\n.<<VIEW_ID>> #header h1 {\n\n    color: white;\n\n    font-size: 26px;\n\n    line-height: 58px;\n\n    margin: 0;\n\n    padding: 0;\n\n    position: absolute;\n\n    top: 0em;\n\n    left: 62px;\n\n}\n\n\n\n.<<VIEW_ID>> #navigation-container {\n\n    position: absolute;\n\n    width: 200px;\n\n    right: 10px;\n\n    top: 0;\n\n    height: 58px;\n\n}\n\n\n\n.<<VIEW_ID>> #navigation-container button {\n\n    width: 58px;\n\n    position: absolute;\n\n    background-color: black;\n\n    border-radius: 0;\n\n    border-style: none;\n\n    height: 58px;\n\n    color: white;\n\n}\n\n\n\n.<<VIEW_ID>> #navigation-container #navigation-button-back {\n\n    right: 58px;\n\n}\n\n.<<VIEW_ID>> #navigation-container #navigation-button-help {\n\n    right: 0px;\n\n}\n\n\n\n.<<VIEW_ID>> #navigation-container #navigation-button-q {\n\n    right: 116px;\n\n}\n\n.<<VIEW_ID>> #navigation-container #navigation-button-q[data-device=ibmq] {\n\n    background-color: rgba(40, 105, 245);\n\n}\n\n.<<VIEW_ID>> #navigation-container #navigation-button-q[data-device=mock] {\n\n    background-color: rgb(0, 135, 92);\n\n}\n\n.<<VIEW_ID>> #navigation-container #navigation-button-q[data-device=simulator] {\n\n    background-color: rgb(116, 0, 123);\n\n}\n\n\n\n\n\n.<<VIEW_ID>> #header img {\n\n    position: absolute;\n\n    height: 32px;\n\n    left: 15px;\n\n    top: 13px;\n\n}",
       "_model_module_version": "^0.1.0",
       "_rendered": "\n<div id=\"header\">\n<img src=\"css/QoffeeMug.png\"/>\n<h1>Qoffee Maker powered by <b>IBM Quantum</b></h1>\n<div id=\"navigation-container\">\n<button data-device=\"simulator\" data-rh-exec=\"set_next_single_shot_device()\" id=\"navigation-button-q\">Q</button>\n<button class=\"navigation-button\" data-rh-exec=\"load_welcome()\" data-rh-if=\"composer != 'welcome'\" id=\"navigation-button-back\">ᐊ</button>\n<button data-rh-exec-js='window.openQRCode(\"http://qoffee-maker.org\", \"http://qoffee-maker.org\")' id=\"navigation-button-help\">?</button>\n</div>\n</div>\n",
       "_view_module_version": "^0.1.0",
       "layout": "IPY_MODEL_c03738d6fb9b4e55ad4197bca6249e23"
      }
     },
     "a2d07f37836343f99051a43b7e3cad26": {
      "model_module": "appwidgets",
      "model_module_version": "^0.1.0",
      "model_name": "ReactiveHtmlModel",
      "state": {
       "_css": "\n.<<VIEW_ID>> #view-composer-singleshot button {\n\n    font-size: 1.5em;\n\n}\n\n\n\n.<<VIEW_ID>> #view-composer-singleshot button.btn-primary {\n\n    color: white;\n\n    background-color: rgba(40, 105, 245);\n\n    border-color: rgba(40, 105, 245);\n\n    border-radius: 0;\n\n}\n\n\n\n\n\n.<<VIEW_ID>> .view-composer-order-text p {\n\n    margin-top: 20px;\n\n    margin-bottom: 30px;\n\n    width: 100%;\n\n    text-align: center;\n\n    font-size: 3em;\n\n    line-height: 1.2;\n\n}",
       "_model_module_version": "^0.1.0",
       "_rendered": "\n<div id=\"view-composer-singleshot-container\">\n<div id=\"view-composer-singleshot\">\n<button class=\"btn btn-primary btn-block\" data-rh-exec=\"get_single_shot_result()\">Determine your beverage</button>\n<br/>\n\n<div class=\"view-composer-order-text width-100\" data-rh-if=\"2==2\" id=\"view-composer-singleshot-result\">\n<p><img alt=\"SVG mit img laden\" src=\"icons/openmoji-svg-color/2615.svg\"/><br/>Tea</p>\n<button class=\"btn btn-primary btn-block\" data-rh-exec=\"request_drink()\">Order Drink →</button>\n</div>\n\n\n<br>\n</br></div>\n</div>\n",
       "_view_module_version": "^0.1.0",
       "layout": "IPY_MODEL_6943929465bf4b2ca01d86b4f40fa0e9"
      }
     },
     "a47dc608163b4015bf3800f58b5eb43d": {
      "model_module": "@jupyter-widgets/base",
      "model_module_version": "1.2.0",
      "model_name": "LayoutModel",
      "state": {}
     },
     "a4cea1d024e64e498401065944eab1cd": {
      "model_module": "@jupyter-widgets/base",
      "model_module_version": "1.2.0",
      "model_name": "LayoutModel",
      "state": {}
     },
     "a4d997b356854056814944ef06b3155f": {
      "model_module": "@jupyter-widgets/controls",
      "model_module_version": "1.5.0",
      "model_name": "VBoxModel",
      "state": {
       "children": [
        "IPY_MODEL_54237c4ffdb743559ddc2e7fa61f7da4",
        "IPY_MODEL_8555d0bfb208424ebc6df599425ef300"
       ],
       "layout": "IPY_MODEL_e0d790dbf4784ec498e37353258c74f4"
      }
     },
     "a5327e9b315d42f9949acc0ac0e44fe7": {
      "model_module": "appwidgets",
      "model_module_version": "^0.1.0",
      "model_name": "ReactiveHtmlModel",
      "state": {
       "_css": "\n.<<VIEW_ID>> p {\n\n    font-size: 1.5em;\n\n    margin-bottom: 40px;\n\n}\n\n\n\n.<<VIEW_ID>> span {\n\n    color: rgba(40, 105, 245);\n\n    text-decoration: underline;\n\n    cursor: pointer;\n\n}",
       "_model_module_version": "^0.1.0",
       "_rendered": "\n<p>Drag &amp; Drop Quantum Gates onto the Qubits to build your circuit. <span data-rh-exec=\"load_welcome()\">Go back</span>.</p>\n",
       "_view_module_version": "^0.1.0",
       "layout": "IPY_MODEL_51eb17833bf84369b8daabbd8fe9629e"
      }
     },
     "a542cd9a516648428d3e6410bfc48abe": {
      "model_module": "appwidgets",
      "model_module_version": "^0.1.0",
      "model_name": "ReactiveHtmlModel",
      "state": {
       "_css": "\n/*\n\n\tHistogram\n\n*/\n\n.<<VIEW_ID>> #view-composer-hist-container {\n\n\twidth: 100%;\n\n\tpadding: 0 50px 0 10px;\n\n    margin-top: 50px;\n\n}\n\n.<<VIEW_ID>> #view-composer-hist-container #view-composer-hist {\n\n\twidth: 100%;\n\n\theight: 100%;\n\n\tdisplay: flex;\n\n\tflex-direction: row;\n\n\tjustify-content: space-evenly;\n\n\talign-items: stretch;\n\n}\n\n.<<VIEW_ID>> #view-composer-hist-container .histogram-entry {\n\n\tposition: relative;\n\n\tflex: 0 0 12.5%;\n\n}\n\n.<<VIEW_ID>> #view-composer-hist-container .histogram-entry p {\n\n\ttext-align: center;\n\n    font-size: 1.5em;\n\n}\n\n.<<VIEW_ID>> #view-composer-hist-container .histogram-bar-container {\n\n\tposition: relative;\n\n\theight: 25vh;\n\n}\n\n.<<VIEW_ID>> #view-composer-hist-container .histogram-bar-outer {\n\n\twidth: 60px;\n\n\tleft: 50%;\n\n\tmargin-left: -30px;\n\n\theight: 100%;\n\n\tposition: relative;\n\n\t/* background-color: lightgray; */\n\n}\n\n.<<VIEW_ID>> #view-composer-hist-container .histogram-bar {\n\n\tposition: absolute;\n\n\tbottom: 0;\n\n\theight: 0;\n\n\twidth: 33%;\n\n}\n\n\n\n.<<VIEW_ID>> #view-composer-hist-container .histogram-bar-qasm {\n\n\tbackground-color: rgb(116, 0, 123);\n\n\tleft: 0%;\n\n}\n\n.<<VIEW_ID>> #view-composer-hist-container .histogram-bar-anal {\n\n\tbackground-color: rgba(40, 105, 245);\n\n\tleft: 33%;\n\n}\n\n.<<VIEW_ID>> #view-composer-hist-container .histogram-bar-mock {\n\n\tbackground-color: rgb(0, 135, 92);\n\n\tleft: 66%;\n\n}\n\n\n\n.<<VIEW_ID>> #view-composer-hist-container .histogram-text-container-pre {\n\n    margin-bottom: 20px;\n\n}\n\n\n\n.<<VIEW_ID>> #view-composer-hist-container .histogram-text-container-post {\n\n    margin-top: 20px;\n\n\tmargin-bottom: 10px;\n\n}",
       "_model_module_version": "^0.1.0",
       "_rendered": "\n<div id=\"view-composer-hist-container\">\n<div id=\"view-composer-hist\">\n<div class=\"histogram-entry\">\n<div class=\"histogram-text-container-pre\">\n<p><span \"=\"\" class=\"histogram-text histogram-text-ideal histogram-text-000\">50.0%</span></p>\n</div>\n<div class=\"histogram-bar-container\">\n<div class=\"histogram-bar-outer\">\n\n<div class=\"histogram-bar histogram-bar-anal histogram-bar-000\" style=\"height: 50.000455210000005%\"></div>\n\n</div>\n</div>\n<div class=\"histogram-text-container-post\">\n<p>000<br/><br/>Tea</p>\n</div>\n</div>\n<div class=\"histogram-entry\">\n<div class=\"histogram-text-container-pre\">\n<p><span \"=\"\" class=\"histogram-text histogram-text-ideal histogram-text-001\">50.0%</span></p>\n</div>\n<div class=\"histogram-bar-container\">\n<div class=\"histogram-bar-outer\">\n\n<div class=\"histogram-bar histogram-bar-anal histogram-bar-001\" style=\"height: 50.000455210000005%\"></div>\n\n</div>\n</div>\n<div class=\"histogram-text-container-post\">\n<p>001<br/><br/>Hot Chocolate</p>\n</div>\n</div>\n<div class=\"histogram-entry\">\n<div class=\"histogram-text-container-pre\">\n<p><span \"=\"\" class=\"histogram-text histogram-text-ideal histogram-text-010\">0.0%</span></p>\n</div>\n<div class=\"histogram-bar-container\">\n<div class=\"histogram-bar-outer\">\n\n<div class=\"histogram-bar histogram-bar-anal histogram-bar-010\" style=\"height: 0.0%\"></div>\n\n</div>\n</div>\n<div class=\"histogram-text-container-post\">\n<p>010<br/><br/>Espresso</p>\n</div>\n</div>\n<div class=\"histogram-entry\">\n<div class=\"histogram-text-container-pre\">\n<p><span \"=\"\" class=\"histogram-text histogram-text-ideal histogram-text-011\">0.0%</span></p>\n</div>\n<div class=\"histogram-bar-container\">\n<div class=\"histogram-bar-outer\">\n\n<div class=\"histogram-bar histogram-bar-anal histogram-bar-011\" style=\"height: 0.0%\"></div>\n\n</div>\n</div>\n<div class=\"histogram-text-container-post\">\n<p>011<br/><br/>Coffee</p>\n</div>\n</div>\n<div class=\"histogram-entry\">\n<div class=\"histogram-text-container-pre\">\n<p><span \"=\"\" class=\"histogram-text histogram-text-ideal histogram-text-100\">0.0%</span></p>\n</div>\n<div class=\"histogram-bar-container\">\n<div class=\"histogram-bar-outer\">\n\n<div class=\"histogram-bar histogram-bar-anal histogram-bar-100\" style=\"height: 0.0%\"></div>\n\n</div>\n</div>\n<div class=\"histogram-text-container-post\">\n<p>100<br/><br/>Cappucino</p>\n</div>\n</div>\n<div class=\"histogram-entry\">\n<div class=\"histogram-text-container-pre\">\n<p><span \"=\"\" class=\"histogram-text histogram-text-ideal histogram-text-101\">0.0%</span></p>\n</div>\n<div class=\"histogram-bar-container\">\n<div class=\"histogram-bar-outer\">\n\n<div class=\"histogram-bar histogram-bar-anal histogram-bar-101\" style=\"height: 0.0%\"></div>\n\n</div>\n</div>\n<div class=\"histogram-text-container-post\">\n<p>101<br/><br/>Latte Macchiato</p>\n</div>\n</div>\n<div class=\"histogram-entry\">\n<div class=\"histogram-text-container-pre\">\n<p><span \"=\"\" class=\"histogram-text histogram-text-ideal histogram-text-110\">0.0%</span></p>\n</div>\n<div class=\"histogram-bar-container\">\n<div class=\"histogram-bar-outer\">\n\n<div class=\"histogram-bar histogram-bar-anal histogram-bar-110\" style=\"height: 0.0%\"></div>\n\n</div>\n</div>\n<div class=\"histogram-text-container-post\">\n<p>110<br/><br/>Viennese Melange</p>\n</div>\n</div>\n<div class=\"histogram-entry\">\n<div class=\"histogram-text-container-pre\">\n<p><span \"=\"\" class=\"histogram-text histogram-text-ideal histogram-text-111\">0.0%</span></p>\n</div>\n<div class=\"histogram-bar-container\">\n<div class=\"histogram-bar-outer\">\n\n<div class=\"histogram-bar histogram-bar-anal histogram-bar-111\" style=\"height: 0.0%\"></div>\n\n</div>\n</div>\n<div class=\"histogram-text-container-post\">\n<p>111<br/><br/>Americano</p>\n</div>\n</div>\n</div>\n</div>\n",
       "_view_module_version": "^0.1.0",
       "layout": "IPY_MODEL_ccf37a14b0f04aa8b131b289a1fa6249"
      }
     },
     "a6457af0a88d4f4b8382b5194a9c993c": {
      "model_module": "@jupyter-widgets/base",
      "model_module_version": "1.2.0",
      "model_name": "LayoutModel",
      "state": {}
     },
     "a6775961ff0e46e9a658c3ab26afe271": {
      "model_module": "appwidgets",
      "model_module_version": "^0.1.0",
      "model_name": "ReactiveHtmlModel",
      "state": {
       "_css": "\n.<<VIEW_ID>> #view-composer-button-bar button {\n\n    border-radius: 0;\n\n    font-size: 1.5em;\n\n}\n\n\n\n.<<VIEW_ID>> #view-composer-show-theo-btn {\n\n    border-left-width: 10px;\n\n    border-color: rgb(40, 105, 245);\n\n}\n\n\n\n.<<VIEW_ID>> #view-composer-show-qasm-btn {\n\n    border-left-width: 10px;\n\n    border-color: rgb(116, 0, 123);\n\n}\n\n\n\n.<<VIEW_ID>> #view-composer-show-mock-btn {\n\n    border-left-width: 10px;\n\n    border-color: rgb(0, 135, 92);\n\n}\n\n\n\n.<<VIEW_ID>> #view-composer-show-theo-btn[data-active=\"True\"] {\n\n    background-color:rgba(40, 105, 245, 0.4);\n\n}\n\n\n\n.<<VIEW_ID>> #view-composer-show-qasm-btn[data-active=\"True\"] {\n\n    background-color:rgba(116, 0, 123, 0.4);\n\n}\n\n\n\n.<<VIEW_ID>> #view-composer-show-mock-btn[data-active=\"True\"] {\n\n    background-color:rgba(0, 135, 92, 0.4);\n\n}\n\n\n\n.<<VIEW_ID>> #view-composer-button-bar .mr-4 {\n\n    margin-right: 20px;\n\n}\n\n\n\n.<<VIEW_ID>> #view-composer-hist-header h3 {\n\n    font-size: 2em;\n\n    margin-bottom: 20px;\n\n}",
       "_model_module_version": "^0.1.0",
       "_rendered": "\n<div id=\"view-composer-hist-header\">\n<h3>Measurement Probabilities</h3>\n</div>\n<div id=\"view-composer-button-bar\">\n<button class=\"btn btn-default\" data-active=\"True\" id=\"view-composer-show-theo-btn\">Theoretical</button>\n<button class=\"btn btn-default\" data-active=\"False\" data-rh-exec=\"toggle_data_attr('show_qasm_results')\" id=\"view-composer-show-qasm-btn\">Simulator (error free)</button>\n<button class=\"btn btn-default mr-4\" data-active=\"False\" data-rh-exec=\"toggle_data_attr('show_mock_results')\" id=\"view-composer-show-mock-btn\">Simulator (real quantum device)</button>\n<button class=\"btn btn-default mr-4\" data-rh-exec=\"open_circuit_on_ibmq()\">Export to IBM Quantum Composer</button>\n</div>\n",
       "_view_module_version": "^0.1.0",
       "layout": "IPY_MODEL_498598c3f4f84f5b94fa2baf77790a4d"
      }
     },
     "a6dfd320d98142b193f35c3fcba9600d": {
      "model_module": "@jupyter-widgets/controls",
      "model_module_version": "1.5.0",
      "model_name": "VBoxModel",
      "state": {
       "_dom_classes": [
        "width-80"
       ],
       "children": [
        "IPY_MODEL_dc2bd0eceffd4bb198892bafa17e9467",
        "IPY_MODEL_92eb53e6fc804f8883a47cb505de8988"
       ],
       "layout": "IPY_MODEL_b0829bc54598411aa910f82f397f0393"
      }
     },
     "a731b8ce6dae4bbe900ca803527fd599": {
      "model_module": "@jupyter-widgets/base",
      "model_module_version": "1.2.0",
      "model_name": "LayoutModel",
      "state": {}
     },
     "a7ec31b209334e7e8cb28ba019868e1f": {
      "model_module": "@jupyter-widgets/base",
      "model_module_version": "1.2.0",
      "model_name": "LayoutModel",
      "state": {}
     },
     "a8454d7d4c5a4cd19e0b9e293c32781e": {
      "model_module": "@jupyter-widgets/base",
      "model_module_version": "1.2.0",
      "model_name": "WidgetModel",
      "state": {
       "_view_module": null,
       "_view_module_version": "",
       "composer_init_circuit": {
        "id": "empty",
        "init_text": "",
        "name": "Start the Qoffee Maker"
       },
       "heading": "Qoffee Maker powered by <b>IBM Quantum</b>",
       "histogram_anal": {
        "000": 0,
        "001": 0,
        "010": 0,
        "011": 0,
        "100": 0,
        "101": 0,
        "110": 0,
        "111": 0
       },
       "histogram_mock": {
        "000": 0,
        "001": 0,
        "010": 0,
        "011": 0,
        "100": 0,
        "101": 0,
        "110": 0,
        "111": 0
       },
       "histogram_qasm": {
        "000": 0,
        "001": 0,
        "010": 0,
        "011": 0,
        "100": 0,
        "101": 0,
        "110": 0,
        "111": 0
       },
       "qasm": "",
       "show_mock_results": false,
       "show_qasm_results": false,
       "single_shot_device": "simulator",
       "single_shot_result": {
        "bit": "000",
        "id": "tea",
        "name": "Tea"
       },
       "single_shot_status": 2,
       "use_real_device": false,
       "view": "composer"
      }
     },
     "a86ccce0ff334d87bbc22ee60bdef640": {
      "model_module": "@quantum/ibm-q-lab-widgets",
      "model_module_version": "^1.0.3",
      "model_name": "CircuitComposerModel",
      "state": {
       "_model_module_version": "^1.0.3",
       "_view_module_version": "^1.0.3",
       "circuit": "\"OPENQASM 2.0;\\ninclude \\\"qelib1.inc\\\";\\n\\nqreg q[3];\\ncreg c[3];\\n\\nx q[0];\\nh q[0];\"",
       "editable": true,
       "layout": "IPY_MODEL_cc467afb95be4bcab67acbe9d8d91759",
       "qiskit_code_cell_index": -1
      }
     },
     "a99f5f7af8174eb5846d5422b3d646ed": {
      "model_module": "@jupyter-widgets/base",
      "model_module_version": "1.2.0",
      "model_name": "LayoutModel",
      "state": {}
     },
     "aa0363c57c4849d6a1e924d9b5e860db": {
      "model_module": "appwidgets",
      "model_module_version": "^0.1.0",
      "model_name": "ReactiveHtmlModel",
      "state": {
       "_css": "\n.<<VIEW_ID>> #view-composer-button-bar button {\n\n    border-radius: 0;\n\n    font-size: 1.5em;\n\n}\n\n\n\n.<<VIEW_ID>> #view-composer-show-theo-btn {\n\n    border-left-width: 10px;\n\n    border-color: rgb(40, 105, 245);\n\n}\n\n\n\n.<<VIEW_ID>> #view-composer-show-qasm-btn {\n\n    border-left-width: 10px;\n\n    border-color: rgb(116, 0, 123);\n\n}\n\n\n\n.<<VIEW_ID>> #view-composer-show-mock-btn {\n\n    border-left-width: 10px;\n\n    border-color: rgb(0, 135, 92);\n\n}\n\n\n\n.<<VIEW_ID>> #view-composer-show-theo-btn[data-active=\"True\"] {\n\n    background-color:rgba(40, 105, 245, 0.4);\n\n}\n\n\n\n.<<VIEW_ID>> #view-composer-show-qasm-btn[data-active=\"True\"] {\n\n    background-color:rgba(116, 0, 123, 0.4);\n\n}\n\n\n\n.<<VIEW_ID>> #view-composer-show-mock-btn[data-active=\"True\"] {\n\n    background-color:rgba(0, 135, 92, 0.4);\n\n}\n\n\n\n.<<VIEW_ID>> #view-composer-button-bar .mr-4 {\n\n    margin-right: 20px;\n\n}\n\n\n\n.<<VIEW_ID>> #view-composer-hist-header h3 {\n\n    font-size: 2em;\n\n    margin-bottom: 20px;\n\n}",
       "_model_module_version": "^0.1.0",
       "_rendered": "\n<div id=\"view-composer-hist-header\">\n<h3>Measurement Probabilities</h3>\n</div>\n<div id=\"view-composer-button-bar\">\n<button class=\"btn btn-default\" data-active=\"True\" id=\"view-composer-show-theo-btn\">Theoretical</button>\n<button class=\"btn btn-default\" data-active=\"False\" data-rh-exec=\"toggle_data_attr('show_qasm_results')\" id=\"view-composer-show-qasm-btn\">Simulator (error free)</button>\n<button class=\"btn btn-default mr-4\" data-active=\"False\" data-rh-exec=\"toggle_data_attr('show_mock_results')\" id=\"view-composer-show-mock-btn\">Simulator (real quantum device)</button>\n<button class=\"btn btn-default mr-4\" data-rh-exec=\"open_circuit_on_ibmq()\">Export to IBM Quantum Composer</button>\n</div>\n",
       "_view_module_version": "^0.1.0",
       "layout": "IPY_MODEL_e2c1827e561546f5b3e293c4fe1cd9c6"
      }
     },
     "aa0f84d7173d4e89b9a51261442612e1": {
      "model_module": "@jupyter-widgets/controls",
      "model_module_version": "1.5.0",
      "model_name": "VBoxModel",
      "state": {
       "children": [
        "IPY_MODEL_a22ebe907b2948ad84b1ad2db496e128",
        "IPY_MODEL_a1a2861b1852474c89bcfe4121c6c2e4"
       ],
       "layout": "IPY_MODEL_6ece0cf0023945a7b4716d58593e5b1b"
      }
     },
     "aa755bf3d003450eb2fcb6d0bdec2bf7": {
      "model_module": "@jupyter-widgets/base",
      "model_module_version": "1.2.0",
      "model_name": "LayoutModel",
      "state": {}
     },
     "aada36e90a1c4f5797df511516b19218": {
      "model_module": "@jupyter-widgets/controls",
      "model_module_version": "1.5.0",
      "model_name": "VBoxModel",
      "state": {
       "children": [
        "IPY_MODEL_b0ecd117bfd54d0ab8b2288363f5c096",
        "IPY_MODEL_7bf6aa00bba34ba7a5455736344df2b2"
       ],
       "layout": "IPY_MODEL_b2476ce337b946eebfeeb985395b04b9"
      }
     },
     "ab0471a1ba9c4b61b4a4ef24eaf97138": {
      "model_module": "@jupyter-widgets/base",
      "model_module_version": "1.2.0",
      "model_name": "LayoutModel",
      "state": {}
     },
     "ab213372c58549bb990ce07543f86f2f": {
      "model_module": "@jupyter-widgets/base",
      "model_module_version": "1.2.0",
      "model_name": "LayoutModel",
      "state": {}
     },
     "ac6e3a51e2a24edca262dd520734d265": {
      "model_module": "@jupyter-widgets/controls",
      "model_module_version": "1.5.0",
      "model_name": "VBoxModel",
      "state": {
       "_dom_classes": [
        "width-80"
       ],
       "children": [
        "IPY_MODEL_f66b87aaa9dc42c2979383a338145bee",
        "IPY_MODEL_c5e8d3a267c64233ae729c3e24afdfc8"
       ],
       "layout": "IPY_MODEL_51f549fac953468ea2f405e8821a0035"
      }
     },
     "ac7c09bba63e4fb7bc42bcf41c2b9f70": {
      "model_module": "appwidgets",
      "model_module_version": "^0.1.0",
      "model_name": "ReactiveHtmlModel",
      "state": {
       "_css": "",
       "_model_module_version": "^0.1.0",
       "_rendered": "\n<div class=\"app-view-content\">\n<h1>Oh no, something went wrong <img alt=\"Knocked-out face\" src=\"icons/openmoji-svg-color/1F635.svg\"/></h1>\n</div>\n",
       "_view_module_version": "^0.1.0",
       "layout": "IPY_MODEL_4319d7a343b34ad18c21c0a6c2235d7a"
      }
     },
     "aca503105cd64e4e89cf5ed8f23769d3": {
      "model_module": "@jupyter-widgets/controls",
      "model_module_version": "1.5.0",
      "model_name": "HBoxModel",
      "state": {
       "children": [
        "IPY_MODEL_f3ee9d95dfc647119bc68dc33719250e",
        "IPY_MODEL_48320e95d9da441fa6035812e1840e16"
       ],
       "layout": "IPY_MODEL_86febce0ac3a40e38e0f1aa588878ef9"
      }
     },
     "add08bc102214961a2406c9ee4efb950": {
      "model_module": "appwidgets",
      "model_module_version": "^0.1.0",
      "model_name": "ReactiveHtmlModel",
      "state": {
       "_css": "\n.<<VIEW_ID>> #view-composer-singleshot button {\n\n    font-size: 1.5em;\n\n}\n\n\n\n.<<VIEW_ID>> #view-composer-singleshot button.btn-primary {\n\n    color: white;\n\n    background-color: rgba(40, 105, 245);\n\n    border-color: rgba(40, 105, 245);\n\n    border-radius: 0;\n\n}\n\n\n\n\n\n.<<VIEW_ID>> .view-composer-order-text p {\n\n    margin-top: 20px;\n\n    margin-bottom: 30px;\n\n    width: 100%;\n\n    text-align: center;\n\n    font-size: 3em;\n\n    line-height: 1.2;\n\n}",
       "_model_module_version": "^0.1.0",
       "_rendered": "\n<div id=\"view-composer-singleshot-container\">\n<div id=\"view-composer-singleshot\">\n<button class=\"btn btn-primary btn-block\" data-rh-exec=\"get_single_shot_result()\">Determine your beverage</button>\n<br/>\n\n\n<div class=\"view-composer-order-text width-100\" data-rh-if=\"3==3\">\n<p><img alt=\"Thumbs up\" src=\"icons/openmoji-svg-color/1F44D.svg\"/><br/>Thank you and enjoy your drink</p>\n<button class=\"btn btn-primary btn-block\" data-rh-exec=\"load_welcome()\">Back</button>\n</div>\n\n<br>\n</br></div>\n</div>\n",
       "_view_module_version": "^0.1.0",
       "layout": "IPY_MODEL_250a3b8453114a05b925d63af380b2dc"
      }
     },
     "aeb73d91db714e7c8bb1141cc9a2a57d": {
      "model_module": "@jupyter-widgets/base",
      "model_module_version": "1.2.0",
      "model_name": "LayoutModel",
      "state": {}
     },
     "aebaffba328344b1ac6c99313f3c6bad": {
      "model_module": "@jupyter-widgets/base",
      "model_module_version": "1.2.0",
      "model_name": "LayoutModel",
      "state": {}
     },
     "b0829bc54598411aa910f82f397f0393": {
      "model_module": "@jupyter-widgets/base",
      "model_module_version": "1.2.0",
      "model_name": "LayoutModel",
      "state": {}
     },
     "b0ecd117bfd54d0ab8b2288363f5c096": {
      "model_module": "appwidgets",
      "model_module_version": "^0.1.0",
      "model_name": "ReactiveHtmlModel",
      "state": {
       "_css": "\n.<<VIEW_ID>> #header {\n\n    width: 100%;\n\n    background-color: black;\n\n    height: 58px;\n\n    display: block;\n\n    position: relative;\n\n    margin-bottom: 3em;\n\n}\n\n\n\n.<<VIEW_ID>> #header h1 {\n\n    color: white;\n\n    font-size: 26px;\n\n    line-height: 58px;\n\n    margin: 0;\n\n    padding: 0;\n\n    position: absolute;\n\n    top: 0em;\n\n    left: 62px;\n\n}\n\n\n\n.<<VIEW_ID>> #navigation-container {\n\n    position: absolute;\n\n    width: 200px;\n\n    right: 10px;\n\n    top: 0;\n\n    height: 58px;\n\n}\n\n\n\n.<<VIEW_ID>> #navigation-container button {\n\n    width: 58px;\n\n    position: absolute;\n\n    background-color: black;\n\n    border-radius: 0;\n\n    border-style: none;\n\n    height: 58px;\n\n    color: white;\n\n}\n\n\n\n.<<VIEW_ID>> #navigation-container #navigation-button-back {\n\n    right: 58px;\n\n}\n\n.<<VIEW_ID>> #navigation-container #navigation-button-help {\n\n    right: 0px;\n\n}\n\n\n\n.<<VIEW_ID>> #navigation-container #navigation-button-q {\n\n    right: 116px;\n\n}\n\n.<<VIEW_ID>> #navigation-container #navigation-button-q[data-device=ibmq] {\n\n    background-color: rgba(40, 105, 245);\n\n}\n\n.<<VIEW_ID>> #navigation-container #navigation-button-q[data-device=mock] {\n\n    background-color: rgb(0, 135, 92);\n\n}\n\n.<<VIEW_ID>> #navigation-container #navigation-button-q[data-device=simulator] {\n\n    background-color: rgb(116, 0, 123);\n\n}\n\n\n\n\n\n.<<VIEW_ID>> #header img {\n\n    position: absolute;\n\n    height: 32px;\n\n    left: 15px;\n\n    top: 13px;\n\n}",
       "_model_module_version": "^0.1.0",
       "_rendered": "\n<div id=\"header\">\n<img src=\"css/QoffeeMug.png\"/>\n<h1>Qoffee Maker powered by <b>IBM Quantum</b></h1>\n<div id=\"navigation-container\">\n<button data-device=\"simulator\" data-rh-exec=\"set_next_single_shot_device()\" id=\"navigation-button-q\">Q</button>\n<button class=\"navigation-button\" data-rh-exec=\"load_welcome()\" data-rh-if=\"composer != 'welcome'\" id=\"navigation-button-back\">ᐊ</button>\n<button data-rh-exec-js='window.openQRCode(\"http://qoffee-maker.org\", \"http://qoffee-maker.org\")' id=\"navigation-button-help\">?</button>\n</div>\n</div>\n",
       "_view_module_version": "^0.1.0",
       "layout": "IPY_MODEL_619df5d598ef434c8a4feb8849205c4c"
      }
     },
     "b2476ce337b946eebfeeb985395b04b9": {
      "model_module": "@jupyter-widgets/base",
      "model_module_version": "1.2.0",
      "model_name": "LayoutModel",
      "state": {}
     },
     "b5981455969040c4a2a75481843c07ae": {
      "model_module": "@jupyter-widgets/base",
      "model_module_version": "1.2.0",
      "model_name": "LayoutModel",
      "state": {}
     },
     "b5a8db8770184df7ade5704ed6c91833": {
      "model_module": "@jupyter-widgets/base",
      "model_module_version": "1.2.0",
      "model_name": "LayoutModel",
      "state": {}
     },
     "b616d46ea25148479c1488506e95bd16": {
      "model_module": "@jupyter-widgets/controls",
      "model_module_version": "1.5.0",
      "model_name": "BoxModel",
      "state": {
       "_dom_classes": [
        "app-appbox"
       ],
       "children": [
        "IPY_MODEL_c2ac0d0413224f5994e5322aaeed8809"
       ],
       "layout": "IPY_MODEL_d2614f8db7cf4fa7b3a2a05496ce8d0e",
       "view": "composer"
      }
     },
     "b6860781de194cd39ebf56f5afe21fad": {
      "model_module": "appwidgets",
      "model_module_version": "^0.1.0",
      "model_name": "ReactiveHtmlModel",
      "state": {
       "_css": "\n.<<VIEW_ID>> #view-welcome h3 {\n\n    font-size: 2em;\n\n}\n\n\n\n.<<VIEW_ID>> #view-welcome h4, #view-welcome h5 {\n\n    font-size: 1.7em;\n\n    margin-bottom: 1em;\n\n}\n\n\n\n.<<VIEW_ID>> #view-welcome .card {\n\n    padding: 10px 10px 30px 10px;\n\n    margin: 2px;\n\n    background-color: rgba(244, 244, 244);\n\n    height: 180px; /*calc(100% - 4px);*/\n\n    border-radius: 0;\n\n    border-width: 0;\n\n    position: relative;\n\n    cursor: pointer;\n\n}\n\n\n\n.<<VIEW_ID>> #view-welcome .card-primary .card {\n\n    background-color: rgba(40, 105, 245);\n\n    color: white;\n\n}\n\n\n\n.<<VIEW_ID>> #view-welcome p {\n\n    font-size: 1.3em;\n\n}\n\n\n\n.<<VIEW_ID>> #view-welcome span.arrow {\n\n    color: rgba(40, 105, 245);\n\n    position: absolute;\n\n    bottom: 10px;\n\n    left: 20px;\n\n    font-size: 1.5em;\n\n}\n\n\n\n.<<VIEW_ID>> #view-welcome .card-primary span.arrow {\n\n    color: white;\n\n}\n\n\n\n.<<VIEW_ID>> #view-welcome .mt-4 {\n\n    margin-top: 20px;\n\n}",
       "_model_module_version": "^0.1.0",
       "_rendered": "\n<div class=\"app-view-content\" id=\"view-welcome\">\n<h3>Welcome to the Qoffee Maker</h3>\n<br/>\n<div class=\"row mt-4\">\n<div class=\"col-md-12\">\n<div class=\"row align-items-stretch card-primary\">\n<div class=\"col-md-3\">\n<div class=\"card\" data-rh-exec=\"load_starting_point('empty')\">\n<div class=\"card-body\">\n<h5 class=\"card-title\">Start the Qoffee Maker</h5>\n<p class=\"card-text\"></p>\n<span class=\"arrow\">→</span>\n</div>\n</div>\n</div>\n</div>\n</div>\n</div>\n<br/>\n<br/>\n<br/>\n<div class=\"row mt-4\">\n<div class=\"col-md-12\">\n<h4>Start with the examples from qoffee-maker.org</h4>\n<div class=\"row align-items-stretch\">\n<div class=\"col-md-3\">\n<div class=\"card\" data-rh-exec=\"load_starting_point('anything')\">\n<div class=\"card-body\">\n<h5 class=\"card-title\">Just something to drink</h5>\n<p class=\"card-text\"></p>\n<span class=\"arrow\">→</span>\n</div>\n</div>\n</div>\n<div class=\"col-md-3\">\n<div class=\"card\" data-rh-exec=\"load_starting_point('cappucino')\">\n<div class=\"card-body\">\n<h5 class=\"card-title\">Only Cappucino</h5>\n<p class=\"card-text\"></p>\n<span class=\"arrow\">→</span>\n</div>\n</div>\n</div>\n<div class=\"col-md-3\">\n<div class=\"card\" data-rh-exec=\"load_starting_point('withoutcoffein')\">\n<div class=\"card-body\">\n<h5 class=\"card-title\">Without caffein</h5>\n<p class=\"card-text\"></p>\n<span class=\"arrow\">→</span>\n</div>\n</div>\n</div>\n<div class=\"col-md-3\">\n<div class=\"card\" data-rh-exec=\"load_starting_point('nothingstrong')\">\n<div class=\"card-body\">\n<h5 class=\"card-title\">Nothing Strong</h5>\n<p class=\"card-text\"></p>\n<span class=\"arrow\">→</span>\n</div>\n</div>\n</div>\n<div class=\"col-md-3\">\n<div class=\"card\" data-rh-exec=\"load_starting_point('teaorcoffee')\">\n<div class=\"card-body\">\n<h5 class=\"card-title\">Tea or Coffee</h5>\n<p class=\"card-text\"></p>\n<span class=\"arrow\">→</span>\n</div>\n</div>\n</div>\n</div>\n</div>\n</div>\n</div>\n",
       "_view_module_version": "^0.1.0",
       "layout": "IPY_MODEL_e1e8d89907764c7c943ae97c47e15b7e"
      }
     },
     "b7fda3ab5a4943cea4aac6ac8d7728aa": {
      "model_module": "@jupyter-widgets/controls",
      "model_module_version": "1.5.0",
      "model_name": "VBoxModel",
      "state": {
       "_dom_classes": [
        "app-view-content"
       ],
       "children": [
        "IPY_MODEL_c276759451804f6da67feed8b9328fc8",
        "IPY_MODEL_de182fba64144165b8ae22c04ec4f294",
        "IPY_MODEL_b8a02e985fb649bbbb5d0d449d162e27"
       ],
       "layout": "IPY_MODEL_c313272024964cbd9880a34a60a0bc75"
      }
     },
     "b8a02e985fb649bbbb5d0d449d162e27": {
      "model_module": "@jupyter-widgets/controls",
      "model_module_version": "1.5.0",
      "model_name": "HBoxModel",
      "state": {
       "children": [
        "IPY_MODEL_565aa770df0e47b9813450a67f55e567",
        "IPY_MODEL_7d629a07f44a409e9d2905bd0a3f97e4"
       ],
       "layout": "IPY_MODEL_9b9263eee6484c23b74df1148adafb5a"
      }
     },
     "b8cca0a574534e9f8bd3120c5ed7a144": {
      "model_module": "@jupyter-widgets/controls",
      "model_module_version": "1.5.0",
      "model_name": "VBoxModel",
      "state": {
       "_dom_classes": [
        "app-view-content"
       ],
       "children": [
        "IPY_MODEL_a5327e9b315d42f9949acc0ac0e44fe7",
        "IPY_MODEL_fd51ec3d88754f83b023ccda86ef95f4",
        "IPY_MODEL_317dc0c0018041ccba67887c2364824a"
       ],
       "layout": "IPY_MODEL_1e244dd0d30147539c9285d05ef6c696"
      }
     },
     "ba592ccbb3144990975d721610b783ca": {
      "model_module": "@jupyter-widgets/base",
      "model_module_version": "1.2.0",
      "model_name": "WidgetModel",
      "state": {
       "_view_module": null,
       "_view_module_version": "",
       "composer_init_circuit": {
        "id": "empty",
        "init_text": "",
        "name": "Start the Qoffee Maker"
       },
       "heading": "Qoffee Maker powered by <b>IBM Quantum</b>",
       "histogram_anal": {
        "000": 0,
        "001": 0,
        "010": 0,
        "011": 0,
        "100": 0,
        "101": 0,
        "110": 0,
        "111": 0
       },
       "histogram_mock": {
        "000": 0,
        "001": 0,
        "010": 0,
        "011": 0,
        "100": 0,
        "101": 0,
        "110": 0,
        "111": 0
       },
       "histogram_qasm": {
        "000": 0,
        "001": 0,
        "010": 0,
        "011": 0,
        "100": 0,
        "101": 0,
        "110": 0,
        "111": 0
       },
       "qasm": "",
       "show_mock_results": false,
       "show_qasm_results": false,
       "single_shot_device": "simulator",
       "single_shot_result": {
        "bit": "000",
        "id": "tea",
        "name": "Tea"
       },
       "single_shot_status": 3,
       "use_real_device": false,
       "view": "composer"
      }
     },
     "bb5c84c0a50d4ad5a0438178568fd2a5": {
      "model_module": "@jupyter-widgets/base",
      "model_module_version": "1.2.0",
      "model_name": "LayoutModel",
      "state": {}
     },
     "bd7dfec54fab41ee9fdb8c8a3091c500": {
      "model_module": "@quantum/ibm-q-lab-widgets",
      "model_module_version": "^1.0.3",
      "model_name": "CircuitComposerModel",
      "state": {
       "_model_module_version": "^1.0.3",
       "_view_module_version": "^1.0.3",
       "circuit": "\"OPENQASM 2.0;\\ninclude \\\"qelib1.inc\\\";\\n\\nqreg q[3];\\ncreg c[3];\\n\\nh q[0];\"",
       "editable": true,
       "layout": "IPY_MODEL_fae421c703234991a99a3fd053161f66",
       "qiskit_code_cell_index": -1
      }
     },
     "be00c539681e47acaeb45cecfd9909f1": {
      "model_module": "@jupyter-widgets/base",
      "model_module_version": "1.2.0",
      "model_name": "LayoutModel",
      "state": {}
     },
     "be42b9829568486a8a4ae31197ef5029": {
      "model_module": "@jupyter-widgets/controls",
      "model_module_version": "1.5.0",
      "model_name": "VBoxModel",
      "state": {
       "children": [
        "IPY_MODEL_a22ebe907b2948ad84b1ad2db496e128",
        "IPY_MODEL_38de403c6aa649a5a2a809c954935913"
       ],
       "layout": "IPY_MODEL_d43ffa03c1264ef08deb10ebd6cdb71b"
      }
     },
     "beb124955b7049b48665dcadca7f69a2": {
      "model_module": "@jupyter-widgets/base",
      "model_module_version": "1.2.0",
      "model_name": "LayoutModel",
      "state": {}
     },
     "bebd40adfa41434892166b3162847f0a": {
      "model_module": "@jupyter-widgets/controls",
      "model_module_version": "1.5.0",
      "model_name": "VBoxModel",
      "state": {
       "children": [
        "IPY_MODEL_372e0bc42b5149208000babbb5c41c08",
        "IPY_MODEL_6336cb7d289546e5a3dabd8531f9655d"
       ],
       "layout": "IPY_MODEL_ff9fdd4a9adb4ec5a3e22dd418a04dce"
      }
     },
     "beeac276955d47ecbbee456e346e839e": {
      "model_module": "appwidgets",
      "model_module_version": "^0.1.0",
      "model_name": "ReactiveHtmlModel",
      "state": {
       "_css": "\n.<<VIEW_ID>> #view-welcome h3 {\n\n    font-size: 2em;\n\n}\n\n\n\n.<<VIEW_ID>> #view-welcome h4, #view-welcome h5 {\n\n    font-size: 1.7em;\n\n    margin-bottom: 1em;\n\n}\n\n\n\n.<<VIEW_ID>> #view-welcome .card {\n\n    padding: 10px 10px 30px 10px;\n\n    margin: 2px;\n\n    background-color: rgba(244, 244, 244);\n\n    height: 180px; /*calc(100% - 4px);*/\n\n    border-radius: 0;\n\n    border-width: 0;\n\n    position: relative;\n\n    cursor: pointer;\n\n}\n\n\n\n.<<VIEW_ID>> #view-welcome .card-primary .card {\n\n    background-color: rgba(40, 105, 245);\n\n    color: white;\n\n}\n\n\n\n.<<VIEW_ID>> #view-welcome p {\n\n    font-size: 1.3em;\n\n}\n\n\n\n.<<VIEW_ID>> #view-welcome span.arrow {\n\n    color: rgba(40, 105, 245);\n\n    position: absolute;\n\n    bottom: 10px;\n\n    left: 20px;\n\n    font-size: 1.5em;\n\n}\n\n\n\n.<<VIEW_ID>> #view-welcome .card-primary span.arrow {\n\n    color: white;\n\n}\n\n\n\n.<<VIEW_ID>> #view-welcome .mt-4 {\n\n    margin-top: 20px;\n\n}",
       "_model_module_version": "^0.1.0",
       "_rendered": "\n<div class=\"app-view-content\" id=\"view-welcome\">\n<h3>Welcome to the Qoffee Maker</h3>\n<br/>\n<div class=\"row mt-4\">\n<div class=\"col-md-12\">\n<div class=\"row align-items-stretch card-primary\">\n<div class=\"col-md-3\">\n<div class=\"card\" data-rh-exec=\"load_starting_point('empty')\">\n<div class=\"card-body\">\n<h5 class=\"card-title\">Start the Qoffee Maker</h5>\n<p class=\"card-text\"></p>\n<span class=\"arrow\">→</span>\n</div>\n</div>\n</div>\n</div>\n</div>\n</div>\n<br/>\n<br/>\n<br/>\n<div class=\"row mt-4\">\n<div class=\"col-md-12\">\n<h4>Start with the examples from qoffee-maker.org</h4>\n<div class=\"row align-items-stretch\">\n<div class=\"col-md-3\">\n<div class=\"card\" data-rh-exec=\"load_starting_point('anything')\">\n<div class=\"card-body\">\n<h5 class=\"card-title\">Just something to drink</h5>\n<p class=\"card-text\"></p>\n<span class=\"arrow\">→</span>\n</div>\n</div>\n</div>\n<div class=\"col-md-3\">\n<div class=\"card\" data-rh-exec=\"load_starting_point('cappucino')\">\n<div class=\"card-body\">\n<h5 class=\"card-title\">Only Cappucino</h5>\n<p class=\"card-text\"></p>\n<span class=\"arrow\">→</span>\n</div>\n</div>\n</div>\n<div class=\"col-md-3\">\n<div class=\"card\" data-rh-exec=\"load_starting_point('withoutcoffein')\">\n<div class=\"card-body\">\n<h5 class=\"card-title\">Without caffein</h5>\n<p class=\"card-text\"></p>\n<span class=\"arrow\">→</span>\n</div>\n</div>\n</div>\n<div class=\"col-md-3\">\n<div class=\"card\" data-rh-exec=\"load_starting_point('nothingstrong')\">\n<div class=\"card-body\">\n<h5 class=\"card-title\">Nothing Strong</h5>\n<p class=\"card-text\"></p>\n<span class=\"arrow\">→</span>\n</div>\n</div>\n</div>\n<div class=\"col-md-3\">\n<div class=\"card\" data-rh-exec=\"load_starting_point('teaorcoffee')\">\n<div class=\"card-body\">\n<h5 class=\"card-title\">Tea or Coffee</h5>\n<p class=\"card-text\"></p>\n<span class=\"arrow\">→</span>\n</div>\n</div>\n</div>\n</div>\n</div>\n</div>\n</div>\n",
       "_view_module_version": "^0.1.0",
       "layout": "IPY_MODEL_8db244cdb56b4daea3f70c8eea204bd1"
      }
     },
     "bfc37c207c8742139f9459599916d100": {
      "model_module": "@jupyter-widgets/base",
      "model_module_version": "1.2.0",
      "model_name": "LayoutModel",
      "state": {}
     },
     "c03738d6fb9b4e55ad4197bca6249e23": {
      "model_module": "@jupyter-widgets/base",
      "model_module_version": "1.2.0",
      "model_name": "LayoutModel",
      "state": {}
     },
     "c07da46707dc40299f41bfcd4a8e71fb": {
      "model_module": "@jupyter-widgets/base",
      "model_module_version": "1.2.0",
      "model_name": "LayoutModel",
      "state": {}
     },
     "c276759451804f6da67feed8b9328fc8": {
      "model_module": "appwidgets",
      "model_module_version": "^0.1.0",
      "model_name": "ReactiveHtmlModel",
      "state": {
       "_css": "\n.<<VIEW_ID>> p {\n\n    font-size: 1.5em;\n\n    margin-bottom: 40px;\n\n}\n\n\n\n.<<VIEW_ID>> span {\n\n    color: rgba(40, 105, 245);\n\n    text-decoration: underline;\n\n    cursor: pointer;\n\n}",
       "_model_module_version": "^0.1.0",
       "_rendered": "\n<p>Drag &amp; Drop Quantum Gates onto the Qubits to build your circuit. <span data-rh-exec=\"load_welcome()\">Go back</span>.</p>\n",
       "_view_module_version": "^0.1.0",
       "layout": "IPY_MODEL_e92b2a84a3354dcfb463b079bc1ece25"
      }
     },
     "c2ac0d0413224f5994e5322aaeed8809": {
      "model_module": "@jupyter-widgets/controls",
      "model_module_version": "1.5.0",
      "model_name": "VBoxModel",
      "state": {
       "children": [
        "IPY_MODEL_54237c4ffdb743559ddc2e7fa61f7da4",
        "IPY_MODEL_b7fda3ab5a4943cea4aac6ac8d7728aa"
       ],
       "layout": "IPY_MODEL_906a36e9851f4fa995126042652b07fd"
      }
     },
     "c313272024964cbd9880a34a60a0bc75": {
      "model_module": "@jupyter-widgets/base",
      "model_module_version": "1.2.0",
      "model_name": "LayoutModel",
      "state": {}
     },
     "c396af9fbd55460997dbc6a4aee36842": {
      "model_module": "appwidgets",
      "model_module_version": "^0.1.0",
      "model_name": "ReactiveHtmlModel",
      "state": {
       "_css": "\n/*\n\n\tHistogram\n\n*/\n\n.<<VIEW_ID>> #view-composer-hist-container {\n\n\twidth: 100%;\n\n\tpadding: 0 50px 0 10px;\n\n    margin-top: 50px;\n\n}\n\n.<<VIEW_ID>> #view-composer-hist-container #view-composer-hist {\n\n\twidth: 100%;\n\n\theight: 100%;\n\n\tdisplay: flex;\n\n\tflex-direction: row;\n\n\tjustify-content: space-evenly;\n\n\talign-items: stretch;\n\n}\n\n.<<VIEW_ID>> #view-composer-hist-container .histogram-entry {\n\n\tposition: relative;\n\n\tflex: 0 0 12.5%;\n\n}\n\n.<<VIEW_ID>> #view-composer-hist-container .histogram-entry p {\n\n\ttext-align: center;\n\n    font-size: 1.5em;\n\n}\n\n.<<VIEW_ID>> #view-composer-hist-container .histogram-bar-container {\n\n\tposition: relative;\n\n\theight: 25vh;\n\n}\n\n.<<VIEW_ID>> #view-composer-hist-container .histogram-bar-outer {\n\n\twidth: 60px;\n\n\tleft: 50%;\n\n\tmargin-left: -30px;\n\n\theight: 100%;\n\n\tposition: relative;\n\n\t/* background-color: lightgray; */\n\n}\n\n.<<VIEW_ID>> #view-composer-hist-container .histogram-bar {\n\n\tposition: absolute;\n\n\tbottom: 0;\n\n\theight: 0;\n\n\twidth: 33%;\n\n}\n\n\n\n.<<VIEW_ID>> #view-composer-hist-container .histogram-bar-qasm {\n\n\tbackground-color: rgb(116, 0, 123);\n\n\tleft: 0%;\n\n}\n\n.<<VIEW_ID>> #view-composer-hist-container .histogram-bar-anal {\n\n\tbackground-color: rgba(40, 105, 245);\n\n\tleft: 33%;\n\n}\n\n.<<VIEW_ID>> #view-composer-hist-container .histogram-bar-mock {\n\n\tbackground-color: rgb(0, 135, 92);\n\n\tleft: 66%;\n\n}\n\n\n\n.<<VIEW_ID>> #view-composer-hist-container .histogram-text-container-pre {\n\n    margin-bottom: 20px;\n\n}\n\n\n\n.<<VIEW_ID>> #view-composer-hist-container .histogram-text-container-post {\n\n    margin-top: 20px;\n\n\tmargin-bottom: 10px;\n\n}",
       "_model_module_version": "^0.1.0",
       "_rendered": "\n<div id=\"view-composer-hist-container\">\n<div id=\"view-composer-hist\">\n<div class=\"histogram-entry\">\n<div class=\"histogram-text-container-pre\">\n<p><span \"=\"\" class=\"histogram-text histogram-text-ideal histogram-text-000\">50.0%</span></p>\n</div>\n<div class=\"histogram-bar-container\">\n<div class=\"histogram-bar-outer\">\n\n<div class=\"histogram-bar histogram-bar-anal histogram-bar-000\" style=\"height: 50.000455210000005%\"></div>\n\n</div>\n</div>\n<div class=\"histogram-text-container-post\">\n<p>000<br/><br/>Tea</p>\n</div>\n</div>\n<div class=\"histogram-entry\">\n<div class=\"histogram-text-container-pre\">\n<p><span \"=\"\" class=\"histogram-text histogram-text-ideal histogram-text-001\">50.0%</span></p>\n</div>\n<div class=\"histogram-bar-container\">\n<div class=\"histogram-bar-outer\">\n\n<div class=\"histogram-bar histogram-bar-anal histogram-bar-001\" style=\"height: 50.000455210000005%\"></div>\n\n</div>\n</div>\n<div class=\"histogram-text-container-post\">\n<p>001<br/><br/>Hot Chocolate</p>\n</div>\n</div>\n<div class=\"histogram-entry\">\n<div class=\"histogram-text-container-pre\">\n<p><span \"=\"\" class=\"histogram-text histogram-text-ideal histogram-text-010\">0.0%</span></p>\n</div>\n<div class=\"histogram-bar-container\">\n<div class=\"histogram-bar-outer\">\n\n<div class=\"histogram-bar histogram-bar-anal histogram-bar-010\" style=\"height: 0.0%\"></div>\n\n</div>\n</div>\n<div class=\"histogram-text-container-post\">\n<p>010<br/><br/>Espresso</p>\n</div>\n</div>\n<div class=\"histogram-entry\">\n<div class=\"histogram-text-container-pre\">\n<p><span \"=\"\" class=\"histogram-text histogram-text-ideal histogram-text-011\">0.0%</span></p>\n</div>\n<div class=\"histogram-bar-container\">\n<div class=\"histogram-bar-outer\">\n\n<div class=\"histogram-bar histogram-bar-anal histogram-bar-011\" style=\"height: 0.0%\"></div>\n\n</div>\n</div>\n<div class=\"histogram-text-container-post\">\n<p>011<br/><br/>Coffee</p>\n</div>\n</div>\n<div class=\"histogram-entry\">\n<div class=\"histogram-text-container-pre\">\n<p><span \"=\"\" class=\"histogram-text histogram-text-ideal histogram-text-100\">0.0%</span></p>\n</div>\n<div class=\"histogram-bar-container\">\n<div class=\"histogram-bar-outer\">\n\n<div class=\"histogram-bar histogram-bar-anal histogram-bar-100\" style=\"height: 0.0%\"></div>\n\n</div>\n</div>\n<div class=\"histogram-text-container-post\">\n<p>100<br/><br/>Cappucino</p>\n</div>\n</div>\n<div class=\"histogram-entry\">\n<div class=\"histogram-text-container-pre\">\n<p><span \"=\"\" class=\"histogram-text histogram-text-ideal histogram-text-101\">0.0%</span></p>\n</div>\n<div class=\"histogram-bar-container\">\n<div class=\"histogram-bar-outer\">\n\n<div class=\"histogram-bar histogram-bar-anal histogram-bar-101\" style=\"height: 0.0%\"></div>\n\n</div>\n</div>\n<div class=\"histogram-text-container-post\">\n<p>101<br/><br/>Latte Macchiato</p>\n</div>\n</div>\n<div class=\"histogram-entry\">\n<div class=\"histogram-text-container-pre\">\n<p><span \"=\"\" class=\"histogram-text histogram-text-ideal histogram-text-110\">0.0%</span></p>\n</div>\n<div class=\"histogram-bar-container\">\n<div class=\"histogram-bar-outer\">\n\n<div class=\"histogram-bar histogram-bar-anal histogram-bar-110\" style=\"height: 0.0%\"></div>\n\n</div>\n</div>\n<div class=\"histogram-text-container-post\">\n<p>110<br/><br/>Viennese Melange</p>\n</div>\n</div>\n<div class=\"histogram-entry\">\n<div class=\"histogram-text-container-pre\">\n<p><span \"=\"\" class=\"histogram-text histogram-text-ideal histogram-text-111\">0.0%</span></p>\n</div>\n<div class=\"histogram-bar-container\">\n<div class=\"histogram-bar-outer\">\n\n<div class=\"histogram-bar histogram-bar-anal histogram-bar-111\" style=\"height: 0.0%\"></div>\n\n</div>\n</div>\n<div class=\"histogram-text-container-post\">\n<p>111<br/><br/>Americano</p>\n</div>\n</div>\n</div>\n</div>\n",
       "_view_module_version": "^0.1.0",
       "layout": "IPY_MODEL_c9d78d88f8724bba8903d93ffafe4a65"
      }
     },
     "c465323392bf4a628625ff392a4b33bd": {
      "model_module": "appwidgets",
      "model_module_version": "^0.1.0",
      "model_name": "ReactiveHtmlModel",
      "state": {
       "_css": "\n.<<VIEW_ID>> p {\n\n    font-size: 1.5em;\n\n    margin-bottom: 40px;\n\n}\n\n\n\n.<<VIEW_ID>> span {\n\n    color: rgba(40, 105, 245);\n\n    text-decoration: underline;\n\n    cursor: pointer;\n\n}",
       "_model_module_version": "^0.1.0",
       "_rendered": "\n<p>Drag &amp; Drop Quantum Gates onto the Qubits to build your circuit. <span data-rh-exec=\"load_welcome()\">Go back</span>.</p>\n",
       "_view_module_version": "^0.1.0",
       "layout": "IPY_MODEL_ab0471a1ba9c4b61b4a4ef24eaf97138"
      }
     },
     "c5e8d3a267c64233ae729c3e24afdfc8": {
      "model_module": "appwidgets",
      "model_module_version": "^0.1.0",
      "model_name": "ReactiveHtmlModel",
      "state": {
       "_css": "\n/*\n\n\tHistogram\n\n*/\n\n.<<VIEW_ID>> #view-composer-hist-container {\n\n\twidth: 100%;\n\n\tpadding: 0 50px 0 10px;\n\n    margin-top: 50px;\n\n}\n\n.<<VIEW_ID>> #view-composer-hist-container #view-composer-hist {\n\n\twidth: 100%;\n\n\theight: 100%;\n\n\tdisplay: flex;\n\n\tflex-direction: row;\n\n\tjustify-content: space-evenly;\n\n\talign-items: stretch;\n\n}\n\n.<<VIEW_ID>> #view-composer-hist-container .histogram-entry {\n\n\tposition: relative;\n\n\tflex: 0 0 12.5%;\n\n}\n\n.<<VIEW_ID>> #view-composer-hist-container .histogram-entry p {\n\n\ttext-align: center;\n\n    font-size: 1.5em;\n\n}\n\n.<<VIEW_ID>> #view-composer-hist-container .histogram-bar-container {\n\n\tposition: relative;\n\n\theight: 25vh;\n\n}\n\n.<<VIEW_ID>> #view-composer-hist-container .histogram-bar-outer {\n\n\twidth: 60px;\n\n\tleft: 50%;\n\n\tmargin-left: -30px;\n\n\theight: 100%;\n\n\tposition: relative;\n\n\t/* background-color: lightgray; */\n\n}\n\n.<<VIEW_ID>> #view-composer-hist-container .histogram-bar {\n\n\tposition: absolute;\n\n\tbottom: 0;\n\n\theight: 0;\n\n\twidth: 33%;\n\n}\n\n\n\n.<<VIEW_ID>> #view-composer-hist-container .histogram-bar-qasm {\n\n\tbackground-color: rgb(116, 0, 123);\n\n\tleft: 0%;\n\n}\n\n.<<VIEW_ID>> #view-composer-hist-container .histogram-bar-anal {\n\n\tbackground-color: rgba(40, 105, 245);\n\n\tleft: 33%;\n\n}\n\n.<<VIEW_ID>> #view-composer-hist-container .histogram-bar-mock {\n\n\tbackground-color: rgb(0, 135, 92);\n\n\tleft: 66%;\n\n}\n\n\n\n.<<VIEW_ID>> #view-composer-hist-container .histogram-text-container-pre {\n\n    margin-bottom: 20px;\n\n}\n\n\n\n.<<VIEW_ID>> #view-composer-hist-container .histogram-text-container-post {\n\n    margin-top: 20px;\n\n\tmargin-bottom: 10px;\n\n}",
       "_model_module_version": "^0.1.0",
       "_rendered": "\n<div id=\"view-composer-hist-container\">\n<div id=\"view-composer-hist\">\n<div class=\"histogram-entry\">\n<div class=\"histogram-text-container-pre\">\n<p><span \"=\"\" class=\"histogram-text histogram-text-ideal histogram-text-000\">50.0%</span></p>\n</div>\n<div class=\"histogram-bar-container\">\n<div class=\"histogram-bar-outer\">\n\n<div class=\"histogram-bar histogram-bar-anal histogram-bar-000\" style=\"height: 50.000455210000005%\"></div>\n\n</div>\n</div>\n<div class=\"histogram-text-container-post\">\n<p>000<br/><br/>Tea</p>\n</div>\n</div>\n<div class=\"histogram-entry\">\n<div class=\"histogram-text-container-pre\">\n<p><span \"=\"\" class=\"histogram-text histogram-text-ideal histogram-text-001\">50.0%</span></p>\n</div>\n<div class=\"histogram-bar-container\">\n<div class=\"histogram-bar-outer\">\n\n<div class=\"histogram-bar histogram-bar-anal histogram-bar-001\" style=\"height: 50.000455210000005%\"></div>\n\n</div>\n</div>\n<div class=\"histogram-text-container-post\">\n<p>001<br/><br/>Hot Chocolate</p>\n</div>\n</div>\n<div class=\"histogram-entry\">\n<div class=\"histogram-text-container-pre\">\n<p><span \"=\"\" class=\"histogram-text histogram-text-ideal histogram-text-010\">0.0%</span></p>\n</div>\n<div class=\"histogram-bar-container\">\n<div class=\"histogram-bar-outer\">\n\n<div class=\"histogram-bar histogram-bar-anal histogram-bar-010\" style=\"height: 0.0%\"></div>\n\n</div>\n</div>\n<div class=\"histogram-text-container-post\">\n<p>010<br/><br/>Espresso</p>\n</div>\n</div>\n<div class=\"histogram-entry\">\n<div class=\"histogram-text-container-pre\">\n<p><span \"=\"\" class=\"histogram-text histogram-text-ideal histogram-text-011\">0.0%</span></p>\n</div>\n<div class=\"histogram-bar-container\">\n<div class=\"histogram-bar-outer\">\n\n<div class=\"histogram-bar histogram-bar-anal histogram-bar-011\" style=\"height: 0.0%\"></div>\n\n</div>\n</div>\n<div class=\"histogram-text-container-post\">\n<p>011<br/><br/>Coffee</p>\n</div>\n</div>\n<div class=\"histogram-entry\">\n<div class=\"histogram-text-container-pre\">\n<p><span \"=\"\" class=\"histogram-text histogram-text-ideal histogram-text-100\">0.0%</span></p>\n</div>\n<div class=\"histogram-bar-container\">\n<div class=\"histogram-bar-outer\">\n\n<div class=\"histogram-bar histogram-bar-anal histogram-bar-100\" style=\"height: 0.0%\"></div>\n\n</div>\n</div>\n<div class=\"histogram-text-container-post\">\n<p>100<br/><br/>Cappucino</p>\n</div>\n</div>\n<div class=\"histogram-entry\">\n<div class=\"histogram-text-container-pre\">\n<p><span \"=\"\" class=\"histogram-text histogram-text-ideal histogram-text-101\">0.0%</span></p>\n</div>\n<div class=\"histogram-bar-container\">\n<div class=\"histogram-bar-outer\">\n\n<div class=\"histogram-bar histogram-bar-anal histogram-bar-101\" style=\"height: 0.0%\"></div>\n\n</div>\n</div>\n<div class=\"histogram-text-container-post\">\n<p>101<br/><br/>Latte Macchiato</p>\n</div>\n</div>\n<div class=\"histogram-entry\">\n<div class=\"histogram-text-container-pre\">\n<p><span \"=\"\" class=\"histogram-text histogram-text-ideal histogram-text-110\">0.0%</span></p>\n</div>\n<div class=\"histogram-bar-container\">\n<div class=\"histogram-bar-outer\">\n\n<div class=\"histogram-bar histogram-bar-anal histogram-bar-110\" style=\"height: 0.0%\"></div>\n\n</div>\n</div>\n<div class=\"histogram-text-container-post\">\n<p>110<br/><br/>Viennese Melange</p>\n</div>\n</div>\n<div class=\"histogram-entry\">\n<div class=\"histogram-text-container-pre\">\n<p><span \"=\"\" class=\"histogram-text histogram-text-ideal histogram-text-111\">0.0%</span></p>\n</div>\n<div class=\"histogram-bar-container\">\n<div class=\"histogram-bar-outer\">\n\n<div class=\"histogram-bar histogram-bar-anal histogram-bar-111\" style=\"height: 0.0%\"></div>\n\n</div>\n</div>\n<div class=\"histogram-text-container-post\">\n<p>111<br/><br/>Americano</p>\n</div>\n</div>\n</div>\n</div>\n",
       "_view_module_version": "^0.1.0",
       "layout": "IPY_MODEL_9471341a036b49319202adb121ddda11"
      }
     },
     "c70e37b626eb41e98d052ccabd9d69ea": {
      "model_module": "@jupyter-widgets/base",
      "model_module_version": "1.2.0",
      "model_name": "LayoutModel",
      "state": {}
     },
     "c74ec4e442b34c0fad82efae65d093e3": {
      "model_module": "@jupyter-widgets/controls",
      "model_module_version": "1.5.0",
      "model_name": "VBoxModel",
      "state": {
       "_dom_classes": [
        "app-view-content"
       ],
       "children": [
        "IPY_MODEL_d2bfed45991f4c44892c43d1c918de69",
        "IPY_MODEL_fd51ec3d88754f83b023ccda86ef95f4",
        "IPY_MODEL_2dbccbefd955473bbbbc055a5a75fbe5"
       ],
       "layout": "IPY_MODEL_f18fa07e2b6c4accb0ec193d21e08741"
      }
     },
     "c7709257ae6c4c1eaeeed63fd81143a0": {
      "model_module": "appwidgets",
      "model_module_version": "^0.1.0",
      "model_name": "ReactiveHtmlModel",
      "state": {
       "_css": "\n.<<VIEW_ID>> #view-composer-button-bar button {\n\n    border-radius: 0;\n\n    font-size: 1.5em;\n\n}\n\n\n\n.<<VIEW_ID>> #view-composer-show-theo-btn {\n\n    border-left-width: 10px;\n\n    border-color: rgb(40, 105, 245);\n\n}\n\n\n\n.<<VIEW_ID>> #view-composer-show-qasm-btn {\n\n    border-left-width: 10px;\n\n    border-color: rgb(116, 0, 123);\n\n}\n\n\n\n.<<VIEW_ID>> #view-composer-show-mock-btn {\n\n    border-left-width: 10px;\n\n    border-color: rgb(0, 135, 92);\n\n}\n\n\n\n.<<VIEW_ID>> #view-composer-show-theo-btn[data-active=\"True\"] {\n\n    background-color:rgba(40, 105, 245, 0.4);\n\n}\n\n\n\n.<<VIEW_ID>> #view-composer-show-qasm-btn[data-active=\"True\"] {\n\n    background-color:rgba(116, 0, 123, 0.4);\n\n}\n\n\n\n.<<VIEW_ID>> #view-composer-show-mock-btn[data-active=\"True\"] {\n\n    background-color:rgba(0, 135, 92, 0.4);\n\n}\n\n\n\n.<<VIEW_ID>> #view-composer-button-bar .mr-4 {\n\n    margin-right: 20px;\n\n}\n\n\n\n.<<VIEW_ID>> #view-composer-hist-header h3 {\n\n    font-size: 2em;\n\n    margin-bottom: 20px;\n\n}",
       "_model_module_version": "^0.1.0",
       "_rendered": "\n<div id=\"view-composer-hist-header\">\n<h3>Measurement Probabilities</h3>\n</div>\n<div id=\"view-composer-button-bar\">\n<button class=\"btn btn-default\" data-active=\"True\" id=\"view-composer-show-theo-btn\">Theoretical</button>\n<button class=\"btn btn-default\" data-active=\"False\" data-rh-exec=\"toggle_data_attr('show_qasm_results')\" id=\"view-composer-show-qasm-btn\">Simulator (error free)</button>\n<button class=\"btn btn-default mr-4\" data-active=\"False\" data-rh-exec=\"toggle_data_attr('show_mock_results')\" id=\"view-composer-show-mock-btn\">Simulator (real quantum device)</button>\n<button class=\"btn btn-default mr-4\" data-rh-exec=\"open_circuit_on_ibmq()\">Export to IBM Quantum Composer</button>\n</div>\n",
       "_view_module_version": "^0.1.0",
       "layout": "IPY_MODEL_4bc1c757498648d1ac1ebe5f7daecebe"
      }
     },
     "c898ba113b4b436f92491f34910decd6": {
      "model_module": "@jupyter-widgets/base",
      "model_module_version": "1.2.0",
      "model_name": "LayoutModel",
      "state": {}
     },
     "c8fdbeae4eca4d8687c9c08346abe505": {
      "model_module": "@jupyter-widgets/controls",
      "model_module_version": "1.5.0",
      "model_name": "VBoxModel",
      "state": {
       "children": [
        "IPY_MODEL_b0ecd117bfd54d0ab8b2288363f5c096",
        "IPY_MODEL_23cecf68cfda4b6aae1f26c760868777"
       ],
       "layout": "IPY_MODEL_c07da46707dc40299f41bfcd4a8e71fb"
      }
     },
     "c9d78d88f8724bba8903d93ffafe4a65": {
      "model_module": "@jupyter-widgets/base",
      "model_module_version": "1.2.0",
      "model_name": "LayoutModel",
      "state": {}
     },
     "ca5adaaef66e405fb144895b6aa1958d": {
      "model_module": "@jupyter-widgets/base",
      "model_module_version": "1.2.0",
      "model_name": "LayoutModel",
      "state": {}
     },
     "ca5be9a035164721a45e2320629dc3c4": {
      "model_module": "appwidgets",
      "model_module_version": "^0.1.0",
      "model_name": "ReactiveHtmlModel",
      "state": {
       "_css": "\n.<<VIEW_ID>> p {\n\n    font-size: 1.5em;\n\n    margin-bottom: 40px;\n\n}\n\n\n\n.<<VIEW_ID>> span {\n\n    color: rgba(40, 105, 245);\n\n    text-decoration: underline;\n\n    cursor: pointer;\n\n}",
       "_model_module_version": "^0.1.0",
       "_rendered": "\n<p>Drag &amp; Drop Quantum Gates onto the Qubits to build your circuit. <span data-rh-exec=\"load_welcome()\">Go back</span>.</p>\n",
       "_view_module_version": "^0.1.0",
       "layout": "IPY_MODEL_91cf586174354e469dcb49a37416db98"
      }
     },
     "cbc0cec4b4ef4aaa84ad31305e92a43b": {
      "model_module": "@jupyter-widgets/controls",
      "model_module_version": "1.5.0",
      "model_name": "BoxModel",
      "state": {
       "_dom_classes": [
        "app-appbox"
       ],
       "children": [
        "IPY_MODEL_35b7aea465324e089afc6c07b74438e2"
       ],
       "layout": "IPY_MODEL_497f6fea79434258a8191fdcc98ba493",
       "view": "composer"
      }
     },
     "cc467afb95be4bcab67acbe9d8d91759": {
      "model_module": "@jupyter-widgets/base",
      "model_module_version": "1.2.0",
      "model_name": "LayoutModel",
      "state": {}
     },
     "cc8234fad9344870a0279ea359e805c8": {
      "model_module": "appwidgets",
      "model_module_version": "^0.1.0",
      "model_name": "JsPyModel",
      "state": {
       "_model_module_version": "^0.1.0",
       "_view_module": null,
       "_view_module_version": ""
      }
     },
     "ccf37a14b0f04aa8b131b289a1fa6249": {
      "model_module": "@jupyter-widgets/base",
      "model_module_version": "1.2.0",
      "model_name": "LayoutModel",
      "state": {}
     },
     "ccfcf78af9ce48bbb823e4c212ead484": {
      "model_module": "appwidgets",
      "model_module_version": "^0.1.0",
      "model_name": "ReactiveHtmlModel",
      "state": {
       "_css": "\n.<<VIEW_ID>> p {\n\n    font-size: 1.5em;\n\n    margin-bottom: 40px;\n\n}\n\n\n\n.<<VIEW_ID>> span {\n\n    color: rgba(40, 105, 245);\n\n    text-decoration: underline;\n\n    cursor: pointer;\n\n}",
       "_model_module_version": "^0.1.0",
       "_rendered": "\n<p>Drag &amp; Drop Quantum Gates onto the Qubits to build your circuit. <span data-rh-exec=\"load_welcome()\">Go back</span>.</p>\n",
       "_view_module_version": "^0.1.0",
       "layout": "IPY_MODEL_92350a5ad59a4abc8cd5959469e7d02a"
      }
     },
     "cd862c5be3a44db5bc72744c81b069b9": {
      "model_module": "@jupyter-widgets/controls",
      "model_module_version": "1.5.0",
      "model_name": "BoxModel",
      "state": {
       "_dom_classes": [
        "app-appbox"
       ],
       "children": [
        "IPY_MODEL_aada36e90a1c4f5797df511516b19218"
       ],
       "layout": "IPY_MODEL_8910196c01cb4b83ae4ee9e2e016c48b",
       "view": "composer"
      }
     },
     "cd984d4966994d4e94692586903b67a7": {
      "model_module": "@jupyter-widgets/base",
      "model_module_version": "1.2.0",
      "model_name": "WidgetModel",
      "state": {
       "_view_module": null,
       "_view_module_version": "",
       "composer_init_circuit": {
        "id": "cappucino",
        "init_text": "",
        "name": "Only Cappucino"
       },
       "heading": "Qoffee Maker powered by <b>IBM Quantum</b>",
       "histogram_anal": {
        "000": 0.5000045521,
        "001": 0.5000045521,
        "010": 0,
        "011": 0,
        "100": 0,
        "101": 0,
        "110": 0,
        "111": 0
       },
       "histogram_mock": {
        "000": 0,
        "001": 0,
        "010": 0,
        "011": 0,
        "100": 0,
        "101": 0,
        "110": 0,
        "111": 0
       },
       "histogram_qasm": {
        "000": 0.47375,
        "001": 0.52625,
        "010": 0,
        "011": 0,
        "100": 0,
        "101": 0,
        "110": 0,
        "111": 0
       },
       "qasm": "OPENQASM 2.0;\ninclude \"qelib1.inc\";\nqreg q[3];\ncreg c[3];\nx q[0];\nh q[0];\n",
       "show_mock_results": false,
       "show_qasm_results": false,
       "single_shot_device": "simulator",
       "single_shot_result": {
        "bit": "000",
        "id": "tea",
        "name": "Tea"
       },
       "single_shot_status": 3,
       "use_real_device": false,
       "view": "composer"
      }
     },
     "ce400c731ffa4a4d80745f7d3c8ce5d6": {
      "model_module": "@jupyter-widgets/base",
      "model_module_version": "1.2.0",
      "model_name": "LayoutModel",
      "state": {}
     },
     "cead508461084912b0b4a558b4495d99": {
      "model_module": "@jupyter-widgets/base",
      "model_module_version": "1.2.0",
      "model_name": "LayoutModel",
      "state": {}
     },
     "cec518a6f76241e784a38840c3b81199": {
      "model_module": "appwidgets",
      "model_module_version": "^0.1.0",
      "model_name": "ReactiveHtmlModel",
      "state": {
       "_css": "",
       "_model_module_version": "^0.1.0",
       "_rendered": "\n<div class=\"app-view-content\">\n<h1>Thank you and enjoy your drink ☕️</h1>\n</div>\n",
       "_view_module_version": "^0.1.0",
       "layout": "IPY_MODEL_f92fa215bfb84a0296f5b4b8c52c9a57"
      }
     },
     "d17c9ed97c56441da12dc208c42e03e0": {
      "model_module": "@jupyter-widgets/controls",
      "model_module_version": "1.5.0",
      "model_name": "VBoxModel",
      "state": {
       "children": [
        "IPY_MODEL_dbfd2f6bf4e24d81980334e7d7771cb0",
        "IPY_MODEL_09f13fe5dde644648ac16361f65d42c9"
       ],
       "layout": "IPY_MODEL_a7ec31b209334e7e8cb28ba019868e1f"
      }
     },
     "d2614f8db7cf4fa7b3a2a05496ce8d0e": {
      "model_module": "@jupyter-widgets/base",
      "model_module_version": "1.2.0",
      "model_name": "LayoutModel",
      "state": {}
     },
     "d2bfed45991f4c44892c43d1c918de69": {
      "model_module": "appwidgets",
      "model_module_version": "^0.1.0",
      "model_name": "ReactiveHtmlModel",
      "state": {
       "_css": "\n.<<VIEW_ID>> p {\n\n    font-size: 1.5em;\n\n    margin-bottom: 40px;\n\n}\n\n\n\n.<<VIEW_ID>> span {\n\n    color: rgba(40, 105, 245);\n\n    text-decoration: underline;\n\n    cursor: pointer;\n\n}",
       "_model_module_version": "^0.1.0",
       "_rendered": "\n<p>Drag &amp; Drop Quantum Gates onto the Qubits to build your circuit. <span data-rh-exec=\"load_welcome()\">Go back</span>.</p>\n",
       "_view_module_version": "^0.1.0",
       "layout": "IPY_MODEL_ce400c731ffa4a4d80745f7d3c8ce5d6"
      }
     },
     "d2c25edb90a84115bfa3353c374f18b0": {
      "model_module": "@jupyter-widgets/base",
      "model_module_version": "1.2.0",
      "model_name": "LayoutModel",
      "state": {}
     },
     "d34b6cfd848b442f869f2f5ff33df387": {
      "model_module": "@jupyter-widgets/base",
      "model_module_version": "1.2.0",
      "model_name": "WidgetModel",
      "state": {
       "_view_module": null,
       "_view_module_version": "",
       "composer_init_circuit": {
        "id": "anything",
        "init_text": "",
        "name": "Just something to drink"
       },
       "heading": "Qoffee Maker powered by <b>IBM Quantum</b>",
       "histogram_anal": {
        "000": 0.12499760249999999,
        "001": 0.12499760249999999,
        "010": 0.12499760249999999,
        "011": 0.12499760249999999,
        "100": 0.12499760249999999,
        "101": 0.12499760249999999,
        "110": 0.12499760249999999,
        "111": 0.12499760249999999
       },
       "histogram_mock": {
        "000": 0,
        "001": 0,
        "010": 0,
        "011": 0,
        "100": 0,
        "101": 0,
        "110": 0,
        "111": 0
       },
       "histogram_qasm": {
        "000": 0.115,
        "001": 0.1325,
        "010": 0.13,
        "011": 0.12375,
        "100": 0.1275,
        "101": 0.11125,
        "110": 0.14125,
        "111": 0.11875
       },
       "qasm": "OPENQASM 2.0;\ninclude \"qelib1.inc\";\nqreg q[3];\ncreg c[3];\nh q[0];\nh q[1];\nh q[2];\n",
       "show_mock_results": false,
       "show_qasm_results": false,
       "single_shot_device": "simulator",
       "single_shot_result": {
        "bit": "",
        "id": "",
        "name": ""
       },
       "single_shot_status": 0,
       "use_real_device": true,
       "view": "composer"
      }
     },
     "d43ffa03c1264ef08deb10ebd6cdb71b": {
      "model_module": "@jupyter-widgets/base",
      "model_module_version": "1.2.0",
      "model_name": "LayoutModel",
      "state": {}
     },
     "d4b9d8aef70c47f59d4a227733b519e3": {
      "model_module": "@jupyter-widgets/base",
      "model_module_version": "1.2.0",
      "model_name": "LayoutModel",
      "state": {}
     },
     "d62067d259404d6dbee84d39ed3b6339": {
      "model_module": "@jupyter-widgets/base",
      "model_module_version": "1.2.0",
      "model_name": "LayoutModel",
      "state": {}
     },
     "d6fb6be869cb49c2a688eba17c234950": {
      "model_module": "@jupyter-widgets/base",
      "model_module_version": "1.2.0",
      "model_name": "LayoutModel",
      "state": {}
     },
     "d8424535364b4882ac85a2c84bbe6e5e": {
      "model_module": "@jupyter-widgets/base",
      "model_module_version": "1.2.0",
      "model_name": "LayoutModel",
      "state": {}
     },
     "d8a8b146d2ed4f3aa3ecea9b2af55e1c": {
      "model_module": "@jupyter-widgets/base",
      "model_module_version": "1.2.0",
      "model_name": "LayoutModel",
      "state": {}
     },
     "d9e9f3f7fda24a5fa3629c3eac30d39b": {
      "model_module": "@jupyter-widgets/base",
      "model_module_version": "1.2.0",
      "model_name": "LayoutModel",
      "state": {}
     },
     "da6ab65aa68c409ab9aa0cbc9e3efe87": {
      "model_module": "@jupyter-widgets/base",
      "model_module_version": "1.2.0",
      "model_name": "LayoutModel",
      "state": {}
     },
     "dac4376d4c93410aac3f671ca60b9a07": {
      "model_module": "appwidgets",
      "model_module_version": "^0.1.0",
      "model_name": "JsPyModel",
      "state": {
       "_model_module_version": "^0.1.0",
       "_view_module": null,
       "_view_module_version": ""
      }
     },
     "dae6ebe1aa33420c8da33c2eda72eb65": {
      "model_module": "appwidgets",
      "model_module_version": "^0.1.0",
      "model_name": "JsPyModel",
      "state": {
       "_model_module_version": "^0.1.0",
       "_view_module": null,
       "_view_module_version": ""
      }
     },
     "dbfd2f6bf4e24d81980334e7d7771cb0": {
      "model_module": "appwidgets",
      "model_module_version": "^0.1.0",
      "model_name": "ReactiveHtmlModel",
      "state": {
       "_css": "\n.<<VIEW_ID>> #header {\n\n    width: 100%;\n\n    background-color: black;\n\n    height: 58px;\n\n    display: block;\n\n    position: relative;\n\n    margin-bottom: 3em;\n\n}\n\n\n\n.<<VIEW_ID>> #header h1 {\n\n    color: white;\n\n    font-size: 26px;\n\n    line-height: 58px;\n\n    margin: 0;\n\n    padding: 0;\n\n    position: absolute;\n\n    top: 0em;\n\n    left: 62px;\n\n}\n\n\n\n.<<VIEW_ID>> #navigation-container {\n\n    position: absolute;\n\n    width: 200px;\n\n    right: 10px;\n\n    top: 0;\n\n    height: 58px;\n\n}\n\n\n\n.<<VIEW_ID>> #navigation-container button {\n\n    width: 58px;\n\n    position: absolute;\n\n    background-color: black;\n\n    border-radius: 0;\n\n    border-style: none;\n\n    height: 58px;\n\n    color: white;\n\n}\n\n\n\n.<<VIEW_ID>> #navigation-container #navigation-button-back {\n\n    right: 58px;\n\n}\n\n.<<VIEW_ID>> #navigation-container #navigation-button-help {\n\n    right: 0px;\n\n}\n\n\n\n.<<VIEW_ID>> #navigation-container #navigation-button-q {\n\n    right: 116px;\n\n}\n\n.<<VIEW_ID>> #navigation-container #navigation-button-q[data-device=ibmq] {\n\n    background-color: rgba(40, 105, 245);\n\n}\n\n.<<VIEW_ID>> #navigation-container #navigation-button-q[data-device=mock] {\n\n    background-color: rgb(0, 135, 92);\n\n}\n\n.<<VIEW_ID>> #navigation-container #navigation-button-q[data-device=simulator] {\n\n    background-color: rgb(116, 0, 123);\n\n}\n\n\n\n\n\n.<<VIEW_ID>> #header img {\n\n    position: absolute;\n\n    height: 32px;\n\n    left: 15px;\n\n    top: 13px;\n\n}",
       "_model_module_version": "^0.1.0",
       "_rendered": "\n<div id=\"header\">\n<img src=\"css/QoffeeMug.png\"/>\n<h1>Qoffee Maker powered by <b>IBM Quantum</b></h1>\n<div id=\"navigation-container\">\n<button data-device=\"simulator\" data-rh-exec=\"set_next_single_shot_device()\" id=\"navigation-button-q\">Q</button>\n\n<button data-rh-exec-js='window.openQRCode(\"http://qoffee-maker.org\", \"http://qoffee-maker.org\")' id=\"navigation-button-help\">?</button>\n</div>\n</div>\n",
       "_view_module_version": "^0.1.0",
       "layout": "IPY_MODEL_5538bf754b824e699165d3bad54108d5"
      }
     },
     "dc035f1a9e63489286c818e601ebdf81": {
      "model_module": "@jupyter-widgets/controls",
      "model_module_version": "1.5.0",
      "model_name": "VBoxModel",
      "state": {
       "_dom_classes": [
        "width-80"
       ],
       "children": [
        "IPY_MODEL_9ce73306097344b7a82b60a24a265f01",
        "IPY_MODEL_8ed8b7271e124825954d6b3c80432f73"
       ],
       "layout": "IPY_MODEL_00cd1ad516c74434bf1ddb21291a02a0"
      }
     },
     "dc2bd0eceffd4bb198892bafa17e9467": {
      "model_module": "appwidgets",
      "model_module_version": "^0.1.0",
      "model_name": "ReactiveHtmlModel",
      "state": {
       "_css": "\n.<<VIEW_ID>> #view-composer-button-bar button {\n\n    border-radius: 0;\n\n    font-size: 1.5em;\n\n}\n\n\n\n.<<VIEW_ID>> #view-composer-show-theo-btn {\n\n    border-left-width: 10px;\n\n    border-color: rgb(40, 105, 245);\n\n}\n\n\n\n.<<VIEW_ID>> #view-composer-show-qasm-btn {\n\n    border-left-width: 10px;\n\n    border-color: rgb(116, 0, 123);\n\n}\n\n\n\n.<<VIEW_ID>> #view-composer-show-mock-btn {\n\n    border-left-width: 10px;\n\n    border-color: rgb(0, 135, 92);\n\n}\n\n\n\n.<<VIEW_ID>> #view-composer-show-theo-btn[data-active=\"True\"] {\n\n    background-color:rgba(40, 105, 245, 0.4);\n\n}\n\n\n\n.<<VIEW_ID>> #view-composer-show-qasm-btn[data-active=\"True\"] {\n\n    background-color:rgba(116, 0, 123, 0.4);\n\n}\n\n\n\n.<<VIEW_ID>> #view-composer-show-mock-btn[data-active=\"True\"] {\n\n    background-color:rgba(0, 135, 92, 0.4);\n\n}\n\n\n\n.<<VIEW_ID>> #view-composer-button-bar .mr-4 {\n\n    margin-right: 20px;\n\n}\n\n\n\n.<<VIEW_ID>> #view-composer-hist-header h3 {\n\n    font-size: 2em;\n\n    margin-bottom: 20px;\n\n}",
       "_model_module_version": "^0.1.0",
       "_rendered": "\n<div id=\"view-composer-hist-header\">\n<h3>Measurement Probabilities</h3>\n</div>\n<div id=\"view-composer-button-bar\">\n<button class=\"btn btn-default\" data-active=\"True\" id=\"view-composer-show-theo-btn\">Theoretical</button>\n<button class=\"btn btn-default\" data-active=\"False\" data-rh-exec=\"toggle_data_attr('show_qasm_results')\" id=\"view-composer-show-qasm-btn\">Simulator (error free)</button>\n<button class=\"btn btn-default mr-4\" data-active=\"False\" data-rh-exec=\"toggle_data_attr('show_mock_results')\" id=\"view-composer-show-mock-btn\">Simulator (real quantum device)</button>\n<button class=\"btn btn-default mr-4\" data-rh-exec=\"open_circuit_on_ibmq()\">Export to IBM Quantum Composer</button>\n</div>\n",
       "_view_module_version": "^0.1.0",
       "layout": "IPY_MODEL_4ce75fe10742475f872957fa1834d8af"
      }
     },
     "dd7f623af28f42f68c89b8f85a3f0e67": {
      "model_module": "@jupyter-widgets/base",
      "model_module_version": "1.2.0",
      "model_name": "LayoutModel",
      "state": {}
     },
     "dd910ce5f0544f3ba3014acc1d35bc3f": {
      "model_module": "appwidgets",
      "model_module_version": "^0.1.0",
      "model_name": "ReactiveHtmlModel",
      "state": {
       "_css": "\n.<<VIEW_ID>> #view-composer-button-bar button {\n\n    border-radius: 0;\n\n    font-size: 1.5em;\n\n}\n\n\n\n.<<VIEW_ID>> #view-composer-show-theo-btn {\n\n    border-left-width: 10px;\n\n    border-color: rgb(40, 105, 245);\n\n}\n\n\n\n.<<VIEW_ID>> #view-composer-show-qasm-btn {\n\n    border-left-width: 10px;\n\n    border-color: rgb(116, 0, 123);\n\n}\n\n\n\n.<<VIEW_ID>> #view-composer-show-mock-btn {\n\n    border-left-width: 10px;\n\n    border-color: rgb(0, 135, 92);\n\n}\n\n\n\n.<<VIEW_ID>> #view-composer-show-theo-btn[data-active=\"True\"] {\n\n    background-color:rgba(40, 105, 245, 0.4);\n\n}\n\n\n\n.<<VIEW_ID>> #view-composer-show-qasm-btn[data-active=\"True\"] {\n\n    background-color:rgba(116, 0, 123, 0.4);\n\n}\n\n\n\n.<<VIEW_ID>> #view-composer-show-mock-btn[data-active=\"True\"] {\n\n    background-color:rgba(0, 135, 92, 0.4);\n\n}\n\n\n\n.<<VIEW_ID>> #view-composer-button-bar .mr-4 {\n\n    margin-right: 20px;\n\n}\n\n\n\n.<<VIEW_ID>> #view-composer-hist-header h3 {\n\n    font-size: 2em;\n\n    margin-bottom: 20px;\n\n}",
       "_model_module_version": "^0.1.0",
       "_rendered": "\n<div id=\"view-composer-hist-header\">\n<h3>Measurement Probabilities</h3>\n</div>\n<div id=\"view-composer-button-bar\">\n<button class=\"btn btn-default\" data-active=\"True\" id=\"view-composer-show-theo-btn\">Theoretical</button>\n<button class=\"btn btn-default\" data-active=\"False\" data-rh-exec=\"toggle_data_attr('show_qasm_results')\" id=\"view-composer-show-qasm-btn\">Simulator (error free)</button>\n<button class=\"btn btn-default mr-4\" data-active=\"False\" data-rh-exec=\"toggle_data_attr('show_mock_results')\" id=\"view-composer-show-mock-btn\">Simulator (real quantum device)</button>\n<button class=\"btn btn-default mr-4\" data-rh-exec=\"open_circuit_on_ibmq()\">Export to IBM Quantum Composer</button>\n</div>\n",
       "_view_module_version": "^0.1.0",
       "layout": "IPY_MODEL_ab213372c58549bb990ce07543f86f2f"
      }
     },
     "dde4179917744af68e7f40a996ad3753": {
      "model_module": "appwidgets",
      "model_module_version": "^0.1.0",
      "model_name": "JsPyModel",
      "state": {
       "_model_module_version": "^0.1.0",
       "_view_module": null,
       "_view_module_version": ""
      }
     },
     "de182fba64144165b8ae22c04ec4f294": {
      "model_module": "@quantum/ibm-q-lab-widgets",
      "model_module_version": "^1.0.3",
      "model_name": "CircuitComposerModel",
      "state": {
       "_model_module_version": "^1.0.3",
       "_view_module_version": "^1.0.3",
       "circuit": "\"OPENQASM 2.0;\\ninclude \\\"qelib1.inc\\\";\\n\\nqreg q[3];\\ncreg c[3];\\n\\nh q[0];\"",
       "editable": true,
       "layout": "IPY_MODEL_9611cba819c9402cad1b1750f3b98912",
       "qiskit_code_cell_index": -1
      }
     },
     "de4dfd4aca834c4796c96214673fa571": {
      "model_module": "@jupyter-widgets/base",
      "model_module_version": "1.2.0",
      "model_name": "LayoutModel",
      "state": {}
     },
     "df97d592d63648cf9d47898bb5f9e573": {
      "model_module": "appwidgets",
      "model_module_version": "^0.1.0",
      "model_name": "ReactiveHtmlModel",
      "state": {
       "_css": "",
       "_model_module_version": "^0.1.0",
       "_rendered": "\n<div class=\"app-view-content\">\n<h1>Thank you and enjoy your drink ☕️</h1>\n</div>\n",
       "_view_module_version": "^0.1.0",
       "layout": "IPY_MODEL_100612691e4a401597deadd4196c8e0c"
      }
     },
     "e0d790dbf4784ec498e37353258c74f4": {
      "model_module": "@jupyter-widgets/base",
      "model_module_version": "1.2.0",
      "model_name": "LayoutModel",
      "state": {}
     },
     "e15e78407a4a42dd9cd43aae16005c7a": {
      "model_module": "@jupyter-widgets/controls",
      "model_module_version": "1.5.0",
      "model_name": "VBoxModel",
      "state": {
       "children": [
        "IPY_MODEL_372e0bc42b5149208000babbb5c41c08",
        "IPY_MODEL_cec518a6f76241e784a38840c3b81199"
       ],
       "layout": "IPY_MODEL_d8a8b146d2ed4f3aa3ecea9b2af55e1c"
      }
     },
     "e1e8d89907764c7c943ae97c47e15b7e": {
      "model_module": "@jupyter-widgets/base",
      "model_module_version": "1.2.0",
      "model_name": "LayoutModel",
      "state": {}
     },
     "e2c1827e561546f5b3e293c4fe1cd9c6": {
      "model_module": "@jupyter-widgets/base",
      "model_module_version": "1.2.0",
      "model_name": "LayoutModel",
      "state": {}
     },
     "e342e563bfb54a249c7558ca4190e1a0": {
      "model_module": "appwidgets",
      "model_module_version": "^0.1.0",
      "model_name": "ReactiveHtmlModel",
      "state": {
       "_css": "\n/*\n\n\tHistogram\n\n*/\n\n.<<VIEW_ID>> #view-composer-hist-container {\n\n\twidth: 100%;\n\n\tpadding: 0 50px 0 10px;\n\n    margin-top: 50px;\n\n}\n\n.<<VIEW_ID>> #view-composer-hist-container #view-composer-hist {\n\n\twidth: 100%;\n\n\theight: 100%;\n\n\tdisplay: flex;\n\n\tflex-direction: row;\n\n\tjustify-content: space-evenly;\n\n\talign-items: stretch;\n\n}\n\n.<<VIEW_ID>> #view-composer-hist-container .histogram-entry {\n\n\tposition: relative;\n\n\tflex: 0 0 12.5%;\n\n}\n\n.<<VIEW_ID>> #view-composer-hist-container .histogram-entry p {\n\n\ttext-align: center;\n\n    font-size: 1.5em;\n\n}\n\n.<<VIEW_ID>> #view-composer-hist-container .histogram-bar-container {\n\n\tposition: relative;\n\n\theight: 25vh;\n\n}\n\n.<<VIEW_ID>> #view-composer-hist-container .histogram-bar-outer {\n\n\twidth: 60px;\n\n\tleft: 50%;\n\n\tmargin-left: -30px;\n\n\theight: 100%;\n\n\tposition: relative;\n\n\t/* background-color: lightgray; */\n\n}\n\n.<<VIEW_ID>> #view-composer-hist-container .histogram-bar {\n\n\tposition: absolute;\n\n\tbottom: 0;\n\n\theight: 0;\n\n\twidth: 33%;\n\n}\n\n\n\n.<<VIEW_ID>> #view-composer-hist-container .histogram-bar-qasm {\n\n\tbackground-color: rgb(116, 0, 123);\n\n\tleft: 0%;\n\n}\n\n.<<VIEW_ID>> #view-composer-hist-container .histogram-bar-anal {\n\n\tbackground-color: rgba(40, 105, 245);\n\n\tleft: 33%;\n\n}\n\n.<<VIEW_ID>> #view-composer-hist-container .histogram-bar-mock {\n\n\tbackground-color: rgb(0, 135, 92);\n\n\tleft: 66%;\n\n}\n\n\n\n.<<VIEW_ID>> #view-composer-hist-container .histogram-text-container-pre {\n\n    margin-bottom: 20px;\n\n}\n\n\n\n.<<VIEW_ID>> #view-composer-hist-container .histogram-text-container-post {\n\n    margin-top: 20px;\n\n\tmargin-bottom: 10px;\n\n}",
       "_model_module_version": "^0.1.0",
       "_rendered": "\n<div id=\"view-composer-hist-container\">\n<div id=\"view-composer-hist\">\n<div class=\"histogram-entry\">\n<div class=\"histogram-text-container-pre\">\n<p><span \"=\"\" class=\"histogram-text histogram-text-ideal histogram-text-000\">0.0%</span></p>\n</div>\n<div class=\"histogram-bar-container\">\n<div class=\"histogram-bar-outer\">\n\n<div class=\"histogram-bar histogram-bar-anal histogram-bar-000\" style=\"height: 0%\"></div>\n\n</div>\n</div>\n<div class=\"histogram-text-container-post\">\n<p>000<br/><br/>Tea</p>\n</div>\n</div>\n<div class=\"histogram-entry\">\n<div class=\"histogram-text-container-pre\">\n<p><span \"=\"\" class=\"histogram-text histogram-text-ideal histogram-text-001\">0.0%</span></p>\n</div>\n<div class=\"histogram-bar-container\">\n<div class=\"histogram-bar-outer\">\n\n<div class=\"histogram-bar histogram-bar-anal histogram-bar-001\" style=\"height: 0%\"></div>\n\n</div>\n</div>\n<div class=\"histogram-text-container-post\">\n<p>001<br/><br/>Hot Chocolate</p>\n</div>\n</div>\n<div class=\"histogram-entry\">\n<div class=\"histogram-text-container-pre\">\n<p><span \"=\"\" class=\"histogram-text histogram-text-ideal histogram-text-010\">0.0%</span></p>\n</div>\n<div class=\"histogram-bar-container\">\n<div class=\"histogram-bar-outer\">\n\n<div class=\"histogram-bar histogram-bar-anal histogram-bar-010\" style=\"height: 0%\"></div>\n\n</div>\n</div>\n<div class=\"histogram-text-container-post\">\n<p>010<br/><br/>Espresso</p>\n</div>\n</div>\n<div class=\"histogram-entry\">\n<div class=\"histogram-text-container-pre\">\n<p><span \"=\"\" class=\"histogram-text histogram-text-ideal histogram-text-011\">0.0%</span></p>\n</div>\n<div class=\"histogram-bar-container\">\n<div class=\"histogram-bar-outer\">\n\n<div class=\"histogram-bar histogram-bar-anal histogram-bar-011\" style=\"height: 0%\"></div>\n\n</div>\n</div>\n<div class=\"histogram-text-container-post\">\n<p>011<br/><br/>Coffee</p>\n</div>\n</div>\n<div class=\"histogram-entry\">\n<div class=\"histogram-text-container-pre\">\n<p><span \"=\"\" class=\"histogram-text histogram-text-ideal histogram-text-100\">0.0%</span></p>\n</div>\n<div class=\"histogram-bar-container\">\n<div class=\"histogram-bar-outer\">\n\n<div class=\"histogram-bar histogram-bar-anal histogram-bar-100\" style=\"height: 0%\"></div>\n\n</div>\n</div>\n<div class=\"histogram-text-container-post\">\n<p>100<br/><br/>Cappucino</p>\n</div>\n</div>\n<div class=\"histogram-entry\">\n<div class=\"histogram-text-container-pre\">\n<p><span \"=\"\" class=\"histogram-text histogram-text-ideal histogram-text-101\">0.0%</span></p>\n</div>\n<div class=\"histogram-bar-container\">\n<div class=\"histogram-bar-outer\">\n\n<div class=\"histogram-bar histogram-bar-anal histogram-bar-101\" style=\"height: 0%\"></div>\n\n</div>\n</div>\n<div class=\"histogram-text-container-post\">\n<p>101<br/><br/>Latte Macchiato</p>\n</div>\n</div>\n<div class=\"histogram-entry\">\n<div class=\"histogram-text-container-pre\">\n<p><span \"=\"\" class=\"histogram-text histogram-text-ideal histogram-text-110\">0.0%</span></p>\n</div>\n<div class=\"histogram-bar-container\">\n<div class=\"histogram-bar-outer\">\n\n<div class=\"histogram-bar histogram-bar-anal histogram-bar-110\" style=\"height: 0%\"></div>\n\n</div>\n</div>\n<div class=\"histogram-text-container-post\">\n<p>110<br/><br/>Viennese Melange</p>\n</div>\n</div>\n<div class=\"histogram-entry\">\n<div class=\"histogram-text-container-pre\">\n<p><span \"=\"\" class=\"histogram-text histogram-text-ideal histogram-text-111\">0.0%</span></p>\n</div>\n<div class=\"histogram-bar-container\">\n<div class=\"histogram-bar-outer\">\n\n<div class=\"histogram-bar histogram-bar-anal histogram-bar-111\" style=\"height: 0%\"></div>\n\n</div>\n</div>\n<div class=\"histogram-text-container-post\">\n<p>111<br/><br/>Americano</p>\n</div>\n</div>\n</div>\n</div>\n",
       "_view_module_version": "^0.1.0",
       "layout": "IPY_MODEL_78ceef63670b4e86a646bd1b9913195d"
      }
     },
     "e3a0cc49bea84fc3a3e9e7dbcab5c77d": {
      "model_module": "appwidgets",
      "model_module_version": "^0.1.0",
      "model_name": "ReactiveHtmlModel",
      "state": {
       "_css": "\n.<<VIEW_ID>> #view-composer-singleshot button {\n\n    font-size: 1.5em;\n\n}\n\n\n\n.<<VIEW_ID>> #view-composer-singleshot button.btn-primary {\n\n    color: white;\n\n    background-color: rgba(40, 105, 245);\n\n    border-color: rgba(40, 105, 245);\n\n    border-radius: 0;\n\n}\n\n\n\n\n\n.<<VIEW_ID>> .view-composer-order-text p {\n\n    margin-top: 20px;\n\n    margin-bottom: 30px;\n\n    width: 100%;\n\n    text-align: center;\n\n    font-size: 3em;\n\n    line-height: 1.2;\n\n}",
       "_dom_classes": [
        "width-20"
       ],
       "_model_module_version": "^0.1.0",
       "_rendered": "\n<div id=\"view-composer-singleshot-container\">\n<div id=\"view-composer-singleshot\">\n<button class=\"btn btn-primary btn-block\" data-rh-exec=\"get_single_shot_result()\">Determine your beverage</button>\n<br/>\n\n\n\n\n<br>\n</br></div>\n</div>\n",
       "_view_module_version": "^0.1.0",
       "layout": "IPY_MODEL_21523bdf88c945ff84c529a5da8af7c8"
      }
     },
     "e3cf1d7e55a94a45903ad2beb4a4bd84": {
      "model_module": "@jupyter-widgets/base",
      "model_module_version": "1.2.0",
      "model_name": "LayoutModel",
      "state": {}
     },
     "e3f4367c1376452c9eac6953c8be691e": {
      "model_module": "appwidgets",
      "model_module_version": "^0.1.0",
      "model_name": "ReactiveHtmlModel",
      "state": {
       "_css": "",
       "_model_module_version": "^0.1.0",
       "_rendered": "\n<div class=\"app-view-content\">\n<h1>Oh no, something went wrong<img '=\"\" alt=\"Knocked-out face\" src=\"icons/openmoji-svg-color/1F635.svg\" style=\"margin-left: auto; margin-right: auto; width: 50%\"/><br/></h1>\n</div>\n",
       "_view_module_version": "^0.1.0",
       "layout": "IPY_MODEL_98c641bcda844e57865641a32a8fd093"
      }
     },
     "e5d9852517f2487f8ed928e6fd6fc6bd": {
      "model_module": "@jupyter-widgets/controls",
      "model_module_version": "1.5.0",
      "model_name": "VBoxModel",
      "state": {
       "_dom_classes": [
        "app-view-content"
       ],
       "children": [
        "IPY_MODEL_8bd092deb0f24936a60a9924175ec958",
        "IPY_MODEL_8f35e667955146cfb45e448a8245ba1a",
        "IPY_MODEL_8e2b6b9d84b44ad294b104de3121758a"
       ],
       "layout": "IPY_MODEL_a11bd5afefba499db7443e51cdee3db9"
      }
     },
     "e625a82a329d46569583f191c4afaa2b": {
      "model_module": "@jupyter-widgets/base",
      "model_module_version": "1.2.0",
      "model_name": "LayoutModel",
      "state": {}
     },
     "e7db289302c947b9a771ba095b328fc4": {
      "model_module": "@jupyter-widgets/base",
      "model_module_version": "1.2.0",
      "model_name": "LayoutModel",
      "state": {}
     },
     "e8effb43f7de4dbe8400c68b8ba5c6b1": {
      "model_module": "appwidgets",
      "model_module_version": "^0.1.0",
      "model_name": "ReactiveHtmlModel",
      "state": {
       "_css": "\n.<<VIEW_ID>> #view-composer-button-bar button {\n\n    border-radius: 0;\n\n    font-size: 1.5em;\n\n}\n\n\n\n.<<VIEW_ID>> #view-composer-show-theo-btn {\n\n    border-left-width: 10px;\n\n    border-color: rgb(40, 105, 245);\n\n}\n\n\n\n.<<VIEW_ID>> #view-composer-show-qasm-btn {\n\n    border-left-width: 10px;\n\n    border-color: rgb(116, 0, 123);\n\n}\n\n\n\n.<<VIEW_ID>> #view-composer-show-mock-btn {\n\n    border-left-width: 10px;\n\n    border-color: rgb(0, 135, 92);\n\n}\n\n\n\n.<<VIEW_ID>> #view-composer-show-theo-btn[data-active=\"True\"] {\n\n    background-color:rgba(40, 105, 245, 0.4);\n\n}\n\n\n\n.<<VIEW_ID>> #view-composer-show-qasm-btn[data-active=\"True\"] {\n\n    background-color:rgba(116, 0, 123, 0.4);\n\n}\n\n\n\n.<<VIEW_ID>> #view-composer-show-mock-btn[data-active=\"True\"] {\n\n    background-color:rgba(0, 135, 92, 0.4);\n\n}\n\n\n\n.<<VIEW_ID>> #view-composer-button-bar .mr-4 {\n\n    margin-right: 20px;\n\n}\n\n\n\n.<<VIEW_ID>> #view-composer-hist-header h3 {\n\n    font-size: 2em;\n\n    margin-bottom: 20px;\n\n}",
       "_model_module_version": "^0.1.0",
       "_rendered": "\n<div id=\"view-composer-hist-header\">\n<h3>Measurement Probabilities</h3>\n</div>\n<div id=\"view-composer-button-bar\">\n<button class=\"btn btn-default\" data-active=\"True\" id=\"view-composer-show-theo-btn\">Theoretical</button>\n<button class=\"btn btn-default\" data-active=\"False\" data-rh-exec=\"toggle_data_attr('show_qasm_results')\" id=\"view-composer-show-qasm-btn\">Simulator (error free)</button>\n<button class=\"btn btn-default mr-4\" data-active=\"False\" data-rh-exec=\"toggle_data_attr('show_mock_results')\" id=\"view-composer-show-mock-btn\">Simulator (real quantum device)</button>\n<button class=\"btn btn-default mr-4\" data-rh-exec=\"open_circuit_on_ibmq()\">Export to IBM Quantum Composer</button>\n</div>\n",
       "_view_module_version": "^0.1.0",
       "layout": "IPY_MODEL_8468dbc33d194855a77b178323795c43"
      }
     },
     "e92b2a84a3354dcfb463b079bc1ece25": {
      "model_module": "@jupyter-widgets/base",
      "model_module_version": "1.2.0",
      "model_name": "LayoutModel",
      "state": {}
     },
     "e94140be85074020b80b8ac2e8f8b2cb": {
      "model_module": "@jupyter-widgets/controls",
      "model_module_version": "1.5.0",
      "model_name": "VBoxModel",
      "state": {
       "_dom_classes": [
        "app-view-content"
       ],
       "children": [
        "IPY_MODEL_fa4bee2d98e04adebff260928a6ce4a3",
        "IPY_MODEL_bd7dfec54fab41ee9fdb8c8a3091c500",
        "IPY_MODEL_4b8f11ab57c148948aead71258abfe39"
       ],
       "layout": "IPY_MODEL_769bdda52bc34c7b8b123767aed217a4"
      }
     },
     "e9e404eaef79437683ca55eaaeecefbc": {
      "model_module": "@jupyter-widgets/base",
      "model_module_version": "1.2.0",
      "model_name": "LayoutModel",
      "state": {}
     },
     "eb21279bcc384416a6d5641ee897f0bd": {
      "model_module": "appwidgets",
      "model_module_version": "^0.1.0",
      "model_name": "ReactiveHtmlModel",
      "state": {
       "_css": "\n.<<VIEW_ID>> #view-composer-button-bar button {\n\n    border-radius: 0;\n\n    font-size: 1.5em;\n\n}\n\n\n\n.<<VIEW_ID>> #view-composer-show-theo-btn {\n\n    border-left-width: 10px;\n\n    border-color: rgb(40, 105, 245);\n\n}\n\n\n\n.<<VIEW_ID>> #view-composer-show-qasm-btn {\n\n    border-left-width: 10px;\n\n    border-color: rgb(116, 0, 123);\n\n}\n\n\n\n.<<VIEW_ID>> #view-composer-show-mock-btn {\n\n    border-left-width: 10px;\n\n    border-color: rgb(0, 135, 92);\n\n}\n\n\n\n.<<VIEW_ID>> #view-composer-show-theo-btn[data-active=\"True\"] {\n\n    background-color:rgba(40, 105, 245, 0.4);\n\n}\n\n\n\n.<<VIEW_ID>> #view-composer-show-qasm-btn[data-active=\"True\"] {\n\n    background-color:rgba(116, 0, 123, 0.4);\n\n}\n\n\n\n.<<VIEW_ID>> #view-composer-show-mock-btn[data-active=\"True\"] {\n\n    background-color:rgba(0, 135, 92, 0.4);\n\n}\n\n\n\n.<<VIEW_ID>> #view-composer-button-bar .mr-4 {\n\n    margin-right: 20px;\n\n}\n\n\n\n.<<VIEW_ID>> #view-composer-hist-header h3 {\n\n    font-size: 2em;\n\n    margin-bottom: 20px;\n\n}",
       "_model_module_version": "^0.1.0",
       "_rendered": "\n<div id=\"view-composer-hist-header\">\n<h3>Measurement Probabilities</h3>\n</div>\n<div id=\"view-composer-button-bar\">\n<button class=\"btn btn-default\" data-active=\"True\" id=\"view-composer-show-theo-btn\">Theoretical</button>\n<button class=\"btn btn-default\" data-active=\"False\" data-rh-exec=\"toggle_data_attr('show_qasm_results')\" id=\"view-composer-show-qasm-btn\">Simulator (error free)</button>\n<button class=\"btn btn-default mr-4\" data-active=\"False\" data-rh-exec=\"toggle_data_attr('show_mock_results')\" id=\"view-composer-show-mock-btn\">Simulator (real quantum device)</button>\n<button class=\"btn btn-default mr-4\" data-rh-exec=\"open_circuit_on_ibmq()\">Export to IBM Quantum Composer</button>\n</div>\n",
       "_view_module_version": "^0.1.0",
       "layout": "IPY_MODEL_d9e9f3f7fda24a5fa3629c3eac30d39b"
      }
     },
     "ebcd719345b94065a60ecb3094df904a": {
      "model_module": "@jupyter-widgets/base",
      "model_module_version": "1.2.0",
      "model_name": "LayoutModel",
      "state": {}
     },
     "ecedd2061ea24a9cadbfa51afa13ef19": {
      "model_module": "appwidgets",
      "model_module_version": "^0.1.0",
      "model_name": "ReactiveHtmlModel",
      "state": {
       "_css": "\n.<<VIEW_ID>> #view-composer-singleshot button {\n\n    font-size: 1.5em;\n\n}\n\n\n\n.<<VIEW_ID>> #view-composer-singleshot button.btn-primary {\n\n    color: white;\n\n    background-color: rgba(40, 105, 245);\n\n    border-color: rgba(40, 105, 245);\n\n    border-radius: 0;\n\n}\n\n\n\n\n\n.<<VIEW_ID>> .view-composer-order-text p {\n\n    margin-top: 20px;\n\n    margin-bottom: 30px;\n\n    width: 100%;\n\n    text-align: center;\n\n    font-size: 3em;\n\n    line-height: 1.2;\n\n}",
       "_model_module_version": "^0.1.0",
       "_rendered": "\n<div id=\"view-composer-singleshot-container\">\n<div id=\"view-composer-singleshot\">\n<button class=\"btn btn-primary btn-block\" data-rh-exec=\"get_single_shot_result()\">Determine your beverage</button>\n<br/>\n\n\n<div class=\"view-composer-order-text width-100\" data-rh-if=\"3==3\">\n<p><img '=\"\" alt=\"Thumbs up\" src=\"icons/openmoji-svg-color/1F44D.svg\" style=\"margin-left: auto margin-right: auto width: 50%\"/><br/>Thank you and enjoy your drink</p>\n<button class=\"btn btn-primary btn-block\" data-rh-exec=\"load_welcome()\">Back</button>\n</div>\n\n<br>\n</br></div>\n</div>\n",
       "_view_module_version": "^0.1.0",
       "layout": "IPY_MODEL_d62067d259404d6dbee84d39ed3b6339"
      }
     },
     "edc7c70bdb0449af80b7e715d61dc6b0": {
      "model_module": "@jupyter-widgets/controls",
      "model_module_version": "1.5.0",
      "model_name": "VBoxModel",
      "state": {
       "children": [
        "IPY_MODEL_54237c4ffdb743559ddc2e7fa61f7da4",
        "IPY_MODEL_26ff4d15b4824f34b434a85995d9dcd1"
       ],
       "layout": "IPY_MODEL_2cd7d6954b2048129665a65cee784304"
      }
     },
     "ee0c4c7ced7b4952a91605623236b1b5": {
      "model_module": "@jupyter-widgets/base",
      "model_module_version": "1.2.0",
      "model_name": "LayoutModel",
      "state": {}
     },
     "efa2f182cda1482d98116fdb5bae10b9": {
      "model_module": "@jupyter-widgets/base",
      "model_module_version": "1.2.0",
      "model_name": "LayoutModel",
      "state": {}
     },
     "f0d532af1e3e4a2d93dcb29df8ff4f2a": {
      "model_module": "appwidgets",
      "model_module_version": "^0.1.0",
      "model_name": "ReactiveHtmlModel",
      "state": {
       "_css": "\n.<<VIEW_ID>> #view-composer-button-bar button {\n\n    border-radius: 0;\n\n    font-size: 1.5em;\n\n}\n\n\n\n.<<VIEW_ID>> #view-composer-show-theo-btn {\n\n    border-left-width: 10px;\n\n    border-color: rgb(40, 105, 245);\n\n}\n\n\n\n.<<VIEW_ID>> #view-composer-show-qasm-btn {\n\n    border-left-width: 10px;\n\n    border-color: rgb(116, 0, 123);\n\n}\n\n\n\n.<<VIEW_ID>> #view-composer-show-mock-btn {\n\n    border-left-width: 10px;\n\n    border-color: rgb(0, 135, 92);\n\n}\n\n\n\n.<<VIEW_ID>> #view-composer-show-theo-btn[data-active=\"True\"] {\n\n    background-color:rgba(40, 105, 245, 0.4);\n\n}\n\n\n\n.<<VIEW_ID>> #view-composer-show-qasm-btn[data-active=\"True\"] {\n\n    background-color:rgba(116, 0, 123, 0.4);\n\n}\n\n\n\n.<<VIEW_ID>> #view-composer-show-mock-btn[data-active=\"True\"] {\n\n    background-color:rgba(0, 135, 92, 0.4);\n\n}\n\n\n\n.<<VIEW_ID>> #view-composer-button-bar .mr-4 {\n\n    margin-right: 20px;\n\n}\n\n\n\n.<<VIEW_ID>> #view-composer-hist-header h3 {\n\n    font-size: 2em;\n\n    margin-bottom: 20px;\n\n}",
       "_model_module_version": "^0.1.0",
       "_rendered": "\n<div id=\"view-composer-hist-header\">\n<h3>Measurement Probabilities</h3>\n</div>\n<div id=\"view-composer-button-bar\">\n<button class=\"btn btn-default\" data-active=\"True\" id=\"view-composer-show-theo-btn\">Theoretical</button>\n<button class=\"btn btn-default\" data-active=\"False\" data-rh-exec=\"toggle_data_attr('show_qasm_results')\" id=\"view-composer-show-qasm-btn\">Simulator (error free)</button>\n<button class=\"btn btn-default mr-4\" data-active=\"False\" data-rh-exec=\"toggle_data_attr('show_mock_results')\" id=\"view-composer-show-mock-btn\">Simulator (real quantum device)</button>\n<button class=\"btn btn-default mr-4\" data-rh-exec=\"open_circuit_on_ibmq()\">Export to IBM Quantum Composer</button>\n</div>\n",
       "_view_module_version": "^0.1.0",
       "layout": "IPY_MODEL_281d731e516d48b5934fd75d14491fab"
      }
     },
     "f126fbcbbe6e496da357fa91d276de70": {
      "model_module": "appwidgets",
      "model_module_version": "^0.1.0",
      "model_name": "ReactiveHtmlModel",
      "state": {
       "_css": "\n.<<VIEW_ID>> #header {\n\n    width: 100%;\n\n    background-color: black;\n\n    height: 58px;\n\n    display: block;\n\n    position: relative;\n\n    margin-bottom: 3em;\n\n}\n\n\n\n.<<VIEW_ID>> #header h1 {\n\n    color: white;\n\n    font-size: 26px;\n\n    line-height: 58px;\n\n    margin: 0;\n\n    padding: 0;\n\n    position: absolute;\n\n    top: 0em;\n\n    left: 62px;\n\n}\n\n\n\n.<<VIEW_ID>> #navigation-container {\n\n    position: absolute;\n\n    width: 200px;\n\n    right: 10px;\n\n    top: 0;\n\n    height: 58px;\n\n}\n\n\n\n.<<VIEW_ID>> #navigation-container button {\n\n    width: 58px;\n\n    position: absolute;\n\n    background-color: black;\n\n    border-radius: 0;\n\n    border-style: none;\n\n    height: 58px;\n\n    color: white;\n\n}\n\n\n\n.<<VIEW_ID>> #navigation-container #navigation-button-back {\n\n    right: 58px;\n\n}\n\n.<<VIEW_ID>> #navigation-container #navigation-button-help {\n\n    right: 0px;\n\n}\n\n\n\n.<<VIEW_ID>> #navigation-container #navigation-button-q {\n\n    right: 116px;\n\n}\n\n.<<VIEW_ID>> #navigation-container #navigation-button-q[data-device=ibmq] {\n\n    background-color: rgba(40, 105, 245);\n\n}\n\n.<<VIEW_ID>> #navigation-container #navigation-button-q[data-device=mock] {\n\n    background-color: rgb(0, 135, 92);\n\n}\n\n.<<VIEW_ID>> #navigation-container #navigation-button-q[data-device=simulator] {\n\n    background-color: rgb(116, 0, 123);\n\n}\n\n\n\n\n\n.<<VIEW_ID>> #header img {\n\n    position: absolute;\n\n    height: 32px;\n\n    left: 15px;\n\n    top: 13px;\n\n}",
       "_model_module_version": "^0.1.0",
       "_rendered": "\n<div id=\"header\">\n<img src=\"css/QoffeeMug.png\"/>\n<h1>Qoffee Maker powered by <b>IBM Quantum</b></h1>\n<div id=\"navigation-container\">\n<button data-device=\"simulator\" data-rh-exec=\"set_next_single_shot_device()\" id=\"navigation-button-q\">Q</button>\n<button class=\"navigation-button\" data-rh-exec=\"load_welcome()\" data-rh-if=\"composer != 'welcome'\" id=\"navigation-button-back\">ᐊ</button>\n<button data-rh-exec-js='window.openQRCode(\"http://qoffee-maker.org\", \"http://qoffee-maker.org\")' id=\"navigation-button-help\">?</button>\n</div>\n</div>\n",
       "_view_module_version": "^0.1.0",
       "layout": "IPY_MODEL_82a0274923214e58b7822995858376c2"
      }
     },
     "f127e249286c4cb7a84567ac070c507c": {
      "model_module": "@jupyter-widgets/base",
      "model_module_version": "1.2.0",
      "model_name": "LayoutModel",
      "state": {}
     },
     "f166483fcdd24b0f8fee2a9724ea9def": {
      "model_module": "@jupyter-widgets/controls",
      "model_module_version": "1.5.0",
      "model_name": "VBoxModel",
      "state": {
       "children": [
        "IPY_MODEL_372e0bc42b5149208000babbb5c41c08",
        "IPY_MODEL_95319f256220442591bb3d65153fe495"
       ],
       "layout": "IPY_MODEL_6d13a21e2ea54781a52ea60e2d665d50"
      }
     },
     "f18fa07e2b6c4accb0ec193d21e08741": {
      "model_module": "@jupyter-widgets/base",
      "model_module_version": "1.2.0",
      "model_name": "LayoutModel",
      "state": {}
     },
     "f2eff19e39e143cd9b33dde700863d2f": {
      "model_module": "appwidgets",
      "model_module_version": "^0.1.0",
      "model_name": "ReactiveHtmlModel",
      "state": {
       "_css": "",
       "_model_module_version": "^0.1.0",
       "_rendered": "\n<div class=\"app-view-content\">\n<h1>Thank you and enjoy your drink ☕️</h1>\n</div>\n",
       "_view_module_version": "^0.1.0",
       "layout": "IPY_MODEL_a4cea1d024e64e498401065944eab1cd"
      }
     },
     "f34f53d12f394af59f5a18e83ef35689": {
      "model_module": "@jupyter-widgets/base",
      "model_module_version": "1.2.0",
      "model_name": "LayoutModel",
      "state": {}
     },
     "f3ee9d95dfc647119bc68dc33719250e": {
      "model_module": "@jupyter-widgets/controls",
      "model_module_version": "1.5.0",
      "model_name": "VBoxModel",
      "state": {
       "_dom_classes": [
        "width-80"
       ],
       "children": [
        "IPY_MODEL_0dcd8970ae6a493aa66158b67d4913a8",
        "IPY_MODEL_4aa6a83754f14066b9d0f099721a706a"
       ],
       "layout": "IPY_MODEL_e3cf1d7e55a94a45903ad2beb4a4bd84"
      }
     },
     "f46bd2acb62745fcbb565dc5ce2618a5": {
      "model_module": "@jupyter-widgets/controls",
      "model_module_version": "1.5.0",
      "model_name": "VBoxModel",
      "state": {
       "children": [
        "IPY_MODEL_f126fbcbbe6e496da357fa91d276de70",
        "IPY_MODEL_e94140be85074020b80b8ac2e8f8b2cb"
       ],
       "layout": "IPY_MODEL_31dc334fb1854e708243154ccb7e19c2"
      }
     },
     "f596554176604e71a286b9adc45f51e4": {
      "model_module": "appwidgets",
      "model_module_version": "^0.1.0",
      "model_name": "ReactiveHtmlModel",
      "state": {
       "_css": "\n.<<VIEW_ID>> #view-composer-singleshot button {\n\n    font-size: 1.5em;\n\n}\n\n\n\n.<<VIEW_ID>> #view-composer-singleshot button.btn-primary {\n\n    color: white;\n\n    background-color: rgba(40, 105, 245);\n\n    border-color: rgba(40, 105, 245);\n\n    border-radius: 0;\n\n}\n\n\n\n\n\n.<<VIEW_ID>> .view-composer-order-text p {\n\n    margin-top: 20px;\n\n    margin-bottom: 30px;\n\n    width: 100%;\n\n    text-align: center;\n\n    font-size: 3em;\n\n    line-height: 1.2;\n\n}",
       "_dom_classes": [
        "width-20"
       ],
       "_model_module_version": "^0.1.0",
       "_rendered": "\n<div id=\"view-composer-singleshot-container\">\n<div id=\"view-composer-singleshot\">\n<button class=\"btn btn-primary btn-block\" data-rh-exec=\"get_single_shot_result()\">Determine your beverage</button>\n<br/>\n\n<div class=\"view-composer-order-text width-100\" data-rh-if=\"2==2\" id=\"view-composer-singleshot-result\">\n<p><img alt=\"SVG mit img laden\" src=\"icons/openmoji-svg-color/2615.svg\"/><br/>Tea</p>\n<button class=\"btn btn-primary btn-block\" data-rh-exec=\"request_drink()\">Order Drink →</button>\n</div>\n\n\n<br>\n</br></div>\n</div>\n",
       "_view_module_version": "^0.1.0",
       "layout": "IPY_MODEL_252dcb68cf734ce0b8f649e1bb76781c"
      }
     },
     "f66b87aaa9dc42c2979383a338145bee": {
      "model_module": "appwidgets",
      "model_module_version": "^0.1.0",
      "model_name": "ReactiveHtmlModel",
      "state": {
       "_css": "\n.<<VIEW_ID>> #view-composer-button-bar button {\n\n    border-radius: 0;\n\n    font-size: 1.5em;\n\n}\n\n\n\n.<<VIEW_ID>> #view-composer-show-theo-btn {\n\n    border-left-width: 10px;\n\n    border-color: rgb(40, 105, 245);\n\n}\n\n\n\n.<<VIEW_ID>> #view-composer-show-qasm-btn {\n\n    border-left-width: 10px;\n\n    border-color: rgb(116, 0, 123);\n\n}\n\n\n\n.<<VIEW_ID>> #view-composer-show-mock-btn {\n\n    border-left-width: 10px;\n\n    border-color: rgb(0, 135, 92);\n\n}\n\n\n\n.<<VIEW_ID>> #view-composer-show-theo-btn[data-active=\"True\"] {\n\n    background-color:rgba(40, 105, 245, 0.4);\n\n}\n\n\n\n.<<VIEW_ID>> #view-composer-show-qasm-btn[data-active=\"True\"] {\n\n    background-color:rgba(116, 0, 123, 0.4);\n\n}\n\n\n\n.<<VIEW_ID>> #view-composer-show-mock-btn[data-active=\"True\"] {\n\n    background-color:rgba(0, 135, 92, 0.4);\n\n}\n\n\n\n.<<VIEW_ID>> #view-composer-button-bar .mr-4 {\n\n    margin-right: 20px;\n\n}\n\n\n\n.<<VIEW_ID>> #view-composer-hist-header h3 {\n\n    font-size: 2em;\n\n    margin-bottom: 20px;\n\n}",
       "_model_module_version": "^0.1.0",
       "_rendered": "\n<div id=\"view-composer-hist-header\">\n<h3>Measurement Probabilities</h3>\n</div>\n<div id=\"view-composer-button-bar\">\n<button class=\"btn btn-default\" data-active=\"True\" id=\"view-composer-show-theo-btn\">Theoretical</button>\n<button class=\"btn btn-default\" data-active=\"False\" data-rh-exec=\"toggle_data_attr('show_qasm_results')\" id=\"view-composer-show-qasm-btn\">Simulator (error free)</button>\n<button class=\"btn btn-default mr-4\" data-active=\"False\" data-rh-exec=\"toggle_data_attr('show_mock_results')\" id=\"view-composer-show-mock-btn\">Simulator (real quantum device)</button>\n<button class=\"btn btn-default mr-4\" data-rh-exec=\"open_circuit_on_ibmq()\">Export to IBM Quantum Composer</button>\n</div>\n",
       "_view_module_version": "^0.1.0",
       "layout": "IPY_MODEL_da6ab65aa68c409ab9aa0cbc9e3efe87"
      }
     },
     "f7ba9bfd4a9d4f1988116817dba74669": {
      "model_module": "@jupyter-widgets/base",
      "model_module_version": "1.2.0",
      "model_name": "LayoutModel",
      "state": {}
     },
     "f8d549a8fc5a4f128901950f64b409f8": {
      "model_module": "@jupyter-widgets/base",
      "model_module_version": "1.2.0",
      "model_name": "LayoutModel",
      "state": {}
     },
     "f92fa215bfb84a0296f5b4b8c52c9a57": {
      "model_module": "@jupyter-widgets/base",
      "model_module_version": "1.2.0",
      "model_name": "LayoutModel",
      "state": {}
     },
     "fa4bee2d98e04adebff260928a6ce4a3": {
      "model_module": "appwidgets",
      "model_module_version": "^0.1.0",
      "model_name": "ReactiveHtmlModel",
      "state": {
       "_css": "\n.<<VIEW_ID>> p {\n\n    font-size: 1.5em;\n\n    margin-bottom: 40px;\n\n}\n\n\n\n.<<VIEW_ID>> span {\n\n    color: rgba(40, 105, 245);\n\n    text-decoration: underline;\n\n    cursor: pointer;\n\n}",
       "_model_module_version": "^0.1.0",
       "_rendered": "\n<p>Drag &amp; Drop Quantum Gates onto the Qubits to build your circuit. <span data-rh-exec=\"load_welcome()\">Go back</span>.</p>\n",
       "_view_module_version": "^0.1.0",
       "layout": "IPY_MODEL_554105e8491d465587fc5521e93837b9"
      }
     },
     "fa9548efa6154e5cb833f3a1017e0569": {
      "model_module": "@jupyter-widgets/base",
      "model_module_version": "1.2.0",
      "model_name": "LayoutModel",
      "state": {}
     },
     "fae421c703234991a99a3fd053161f66": {
      "model_module": "@jupyter-widgets/base",
      "model_module_version": "1.2.0",
      "model_name": "LayoutModel",
      "state": {}
     },
     "fb4dd5353c1e4f9c98e24feb66a581d3": {
      "model_module": "@jupyter-widgets/base",
      "model_module_version": "1.2.0",
      "model_name": "LayoutModel",
      "state": {}
     },
     "fbc06f1a428040d09606d47609de5daa": {
      "model_module": "@jupyter-widgets/base",
      "model_module_version": "1.2.0",
      "model_name": "LayoutModel",
      "state": {}
     },
     "fc83bfe703284ef6bb585cf388a425c4": {
      "model_module": "appwidgets",
      "model_module_version": "^0.1.0",
      "model_name": "ReactiveHtmlModel",
      "state": {
       "_css": "\n.<<VIEW_ID>> #view-composer-button-bar button {\n\n    border-radius: 0;\n\n    font-size: 1.5em;\n\n}\n\n\n\n.<<VIEW_ID>> #view-composer-show-theo-btn {\n\n    border-left-width: 10px;\n\n    border-color: rgb(40, 105, 245);\n\n}\n\n\n\n.<<VIEW_ID>> #view-composer-show-qasm-btn {\n\n    border-left-width: 10px;\n\n    border-color: rgb(116, 0, 123);\n\n}\n\n\n\n.<<VIEW_ID>> #view-composer-show-mock-btn {\n\n    border-left-width: 10px;\n\n    border-color: rgb(0, 135, 92);\n\n}\n\n\n\n.<<VIEW_ID>> #view-composer-show-theo-btn[data-active=\"True\"] {\n\n    background-color:rgba(40, 105, 245, 0.4);\n\n}\n\n\n\n.<<VIEW_ID>> #view-composer-show-qasm-btn[data-active=\"True\"] {\n\n    background-color:rgba(116, 0, 123, 0.4);\n\n}\n\n\n\n.<<VIEW_ID>> #view-composer-show-mock-btn[data-active=\"True\"] {\n\n    background-color:rgba(0, 135, 92, 0.4);\n\n}\n\n\n\n.<<VIEW_ID>> #view-composer-button-bar .mr-4 {\n\n    margin-right: 20px;\n\n}\n\n\n\n.<<VIEW_ID>> #view-composer-hist-header h3 {\n\n    font-size: 2em;\n\n    margin-bottom: 20px;\n\n}",
       "_model_module_version": "^0.1.0",
       "_rendered": "\n<div id=\"view-composer-hist-header\">\n<h3>Measurement Probabilities</h3>\n</div>\n<div id=\"view-composer-button-bar\">\n<button class=\"btn btn-default\" data-active=\"True\" id=\"view-composer-show-theo-btn\">Theoretical</button>\n<button class=\"btn btn-default\" data-active=\"False\" data-rh-exec=\"toggle_data_attr('show_qasm_results')\" id=\"view-composer-show-qasm-btn\">Simulator (error free)</button>\n<button class=\"btn btn-default mr-4\" data-active=\"False\" data-rh-exec=\"toggle_data_attr('show_mock_results')\" id=\"view-composer-show-mock-btn\">Simulator (real quantum device)</button>\n<button class=\"btn btn-default mr-4\" data-rh-exec=\"open_circuit_on_ibmq()\">Export to IBM Quantum Composer</button>\n</div>\n",
       "_view_module_version": "^0.1.0",
       "layout": "IPY_MODEL_025789d785574f4a8bc2ddb917a79581"
      }
     },
     "fd51ec3d88754f83b023ccda86ef95f4": {
      "model_module": "@quantum/ibm-q-lab-widgets",
      "model_module_version": "^1.0.3",
      "model_name": "CircuitComposerModel",
      "state": {
       "_model_module_version": "^1.0.3",
       "_view_module_version": "^1.0.3",
       "circuit": "\"OPENQASM 2.0;\\ninclude \\\"qelib1.inc\\\";\\n\\nqreg q[3];\\ncreg c[3];\\n\\n\"",
       "editable": true,
       "layout": "IPY_MODEL_aa755bf3d003450eb2fcb6d0bdec2bf7",
       "qiskit_code_cell_index": -1
      }
     },
     "fe1d2271613b4df7889507976aa1c9f6": {
      "model_module": "appwidgets",
      "model_module_version": "^0.1.0",
      "model_name": "ReactiveHtmlModel",
      "state": {
       "_css": "\n/*\n\n\tHistogram\n\n*/\n\n.<<VIEW_ID>> #view-composer-hist-container {\n\n\twidth: 100%;\n\n\tpadding: 0 50px 0 10px;\n\n    margin-top: 50px;\n\n}\n\n.<<VIEW_ID>> #view-composer-hist-container #view-composer-hist {\n\n\twidth: 100%;\n\n\theight: 100%;\n\n\tdisplay: flex;\n\n\tflex-direction: row;\n\n\tjustify-content: space-evenly;\n\n\talign-items: stretch;\n\n}\n\n.<<VIEW_ID>> #view-composer-hist-container .histogram-entry {\n\n\tposition: relative;\n\n\tflex: 0 0 12.5%;\n\n}\n\n.<<VIEW_ID>> #view-composer-hist-container .histogram-entry p {\n\n\ttext-align: center;\n\n    font-size: 1.5em;\n\n}\n\n.<<VIEW_ID>> #view-composer-hist-container .histogram-bar-container {\n\n\tposition: relative;\n\n\theight: 25vh;\n\n}\n\n.<<VIEW_ID>> #view-composer-hist-container .histogram-bar-outer {\n\n\twidth: 60px;\n\n\tleft: 50%;\n\n\tmargin-left: -30px;\n\n\theight: 100%;\n\n\tposition: relative;\n\n\t/* background-color: lightgray; */\n\n}\n\n.<<VIEW_ID>> #view-composer-hist-container .histogram-bar {\n\n\tposition: absolute;\n\n\tbottom: 0;\n\n\theight: 0;\n\n\twidth: 33%;\n\n}\n\n\n\n.<<VIEW_ID>> #view-composer-hist-container .histogram-bar-qasm {\n\n\tbackground-color: rgb(116, 0, 123);\n\n\tleft: 0%;\n\n}\n\n.<<VIEW_ID>> #view-composer-hist-container .histogram-bar-anal {\n\n\tbackground-color: rgba(40, 105, 245);\n\n\tleft: 33%;\n\n}\n\n.<<VIEW_ID>> #view-composer-hist-container .histogram-bar-mock {\n\n\tbackground-color: rgb(0, 135, 92);\n\n\tleft: 66%;\n\n}\n\n\n\n.<<VIEW_ID>> #view-composer-hist-container .histogram-text-container-pre {\n\n    margin-bottom: 20px;\n\n}\n\n\n\n.<<VIEW_ID>> #view-composer-hist-container .histogram-text-container-post {\n\n    margin-top: 20px;\n\n\tmargin-bottom: 10px;\n\n}",
       "_model_module_version": "^0.1.0",
       "_rendered": "\n<div id=\"view-composer-hist-container\">\n<div id=\"view-composer-hist\">\n<div class=\"histogram-entry\">\n<div class=\"histogram-text-container-pre\">\n<p><span \"=\"\" class=\"histogram-text histogram-text-ideal histogram-text-000\">50.0%</span></p>\n</div>\n<div class=\"histogram-bar-container\">\n<div class=\"histogram-bar-outer\">\n\n<div class=\"histogram-bar histogram-bar-anal histogram-bar-000\" style=\"height: 50.000455210000005%\"></div>\n\n</div>\n</div>\n<div class=\"histogram-text-container-post\">\n<p>000<br/><br/>Tea</p>\n</div>\n</div>\n<div class=\"histogram-entry\">\n<div class=\"histogram-text-container-pre\">\n<p><span \"=\"\" class=\"histogram-text histogram-text-ideal histogram-text-001\">50.0%</span></p>\n</div>\n<div class=\"histogram-bar-container\">\n<div class=\"histogram-bar-outer\">\n\n<div class=\"histogram-bar histogram-bar-anal histogram-bar-001\" style=\"height: 50.000455210000005%\"></div>\n\n</div>\n</div>\n<div class=\"histogram-text-container-post\">\n<p>001<br/><br/>Hot Chocolate</p>\n</div>\n</div>\n<div class=\"histogram-entry\">\n<div class=\"histogram-text-container-pre\">\n<p><span \"=\"\" class=\"histogram-text histogram-text-ideal histogram-text-010\">0.0%</span></p>\n</div>\n<div class=\"histogram-bar-container\">\n<div class=\"histogram-bar-outer\">\n\n<div class=\"histogram-bar histogram-bar-anal histogram-bar-010\" style=\"height: 0.0%\"></div>\n\n</div>\n</div>\n<div class=\"histogram-text-container-post\">\n<p>010<br/><br/>Espresso</p>\n</div>\n</div>\n<div class=\"histogram-entry\">\n<div class=\"histogram-text-container-pre\">\n<p><span \"=\"\" class=\"histogram-text histogram-text-ideal histogram-text-011\">0.0%</span></p>\n</div>\n<div class=\"histogram-bar-container\">\n<div class=\"histogram-bar-outer\">\n\n<div class=\"histogram-bar histogram-bar-anal histogram-bar-011\" style=\"height: 0.0%\"></div>\n\n</div>\n</div>\n<div class=\"histogram-text-container-post\">\n<p>011<br/><br/>Coffee</p>\n</div>\n</div>\n<div class=\"histogram-entry\">\n<div class=\"histogram-text-container-pre\">\n<p><span \"=\"\" class=\"histogram-text histogram-text-ideal histogram-text-100\">0.0%</span></p>\n</div>\n<div class=\"histogram-bar-container\">\n<div class=\"histogram-bar-outer\">\n\n<div class=\"histogram-bar histogram-bar-anal histogram-bar-100\" style=\"height: 0.0%\"></div>\n\n</div>\n</div>\n<div class=\"histogram-text-container-post\">\n<p>100<br/><br/>Cappucino</p>\n</div>\n</div>\n<div class=\"histogram-entry\">\n<div class=\"histogram-text-container-pre\">\n<p><span \"=\"\" class=\"histogram-text histogram-text-ideal histogram-text-101\">0.0%</span></p>\n</div>\n<div class=\"histogram-bar-container\">\n<div class=\"histogram-bar-outer\">\n\n<div class=\"histogram-bar histogram-bar-anal histogram-bar-101\" style=\"height: 0.0%\"></div>\n\n</div>\n</div>\n<div class=\"histogram-text-container-post\">\n<p>101<br/><br/>Latte Macchiato</p>\n</div>\n</div>\n<div class=\"histogram-entry\">\n<div class=\"histogram-text-container-pre\">\n<p><span \"=\"\" class=\"histogram-text histogram-text-ideal histogram-text-110\">0.0%</span></p>\n</div>\n<div class=\"histogram-bar-container\">\n<div class=\"histogram-bar-outer\">\n\n<div class=\"histogram-bar histogram-bar-anal histogram-bar-110\" style=\"height: 0.0%\"></div>\n\n</div>\n</div>\n<div class=\"histogram-text-container-post\">\n<p>110<br/><br/>Viennese Melange</p>\n</div>\n</div>\n<div class=\"histogram-entry\">\n<div class=\"histogram-text-container-pre\">\n<p><span \"=\"\" class=\"histogram-text histogram-text-ideal histogram-text-111\">0.0%</span></p>\n</div>\n<div class=\"histogram-bar-container\">\n<div class=\"histogram-bar-outer\">\n\n<div class=\"histogram-bar histogram-bar-anal histogram-bar-111\" style=\"height: 0.0%\"></div>\n\n</div>\n</div>\n<div class=\"histogram-text-container-post\">\n<p>111<br/><br/>Americano</p>\n</div>\n</div>\n</div>\n</div>\n",
       "_view_module_version": "^0.1.0",
       "layout": "IPY_MODEL_81a5903d92e842dd82806926f071e373"
      }
     },
     "fe9962bc30cf4312b546cf7b6ced53d8": {
      "model_module": "appwidgets",
      "model_module_version": "^0.1.0",
      "model_name": "ReactiveHtmlModel",
      "state": {
       "_css": "",
       "_model_module_version": "^0.1.0",
       "_rendered": "\n<div class=\"app-view-content\">\n<h1>Oh no, something went wrong 😱</h1>\n</div>\n",
       "_view_module_version": "^0.1.0",
       "layout": "IPY_MODEL_30be86a5506a41aa9232c3364a504c94"
      }
     },
     "fed43f28af844917a7e2edc4b2bd78d4": {
      "model_module": "appwidgets",
      "model_module_version": "^0.1.0",
      "model_name": "ReactiveHtmlModel",
      "state": {
       "_css": "\n.<<VIEW_ID>> p {\n\n    font-size: 1.5em;\n\n    margin-bottom: 40px;\n\n}\n\n\n\n.<<VIEW_ID>> span {\n\n    color: rgba(40, 105, 245);\n\n    text-decoration: underline;\n\n    cursor: pointer;\n\n}",
       "_model_module_version": "^0.1.0",
       "_rendered": "\n<p>Drag &amp; Drop Quantum Gates onto the Qubits to build your circuit. <span data-rh-exec=\"load_welcome()\">Go back</span>.</p>\n",
       "_view_module_version": "^0.1.0",
       "layout": "IPY_MODEL_81596550e4e2405593a8e1e281ddd266"
      }
     },
     "ff3d34ce0dd64cb7902bf38266d3a7c1": {
      "model_module": "@jupyter-widgets/controls",
      "model_module_version": "1.5.0",
      "model_name": "VBoxModel",
      "state": {
       "children": [
        "IPY_MODEL_a22ebe907b2948ad84b1ad2db496e128",
        "IPY_MODEL_23445b1189ab4d9f8bcb9fe5f552ce66"
       ],
       "layout": "IPY_MODEL_25a10fd53a61464fb6b403fbb5d923e6"
      }
     },
     "ff94a5c1e24d4cd2a4ae6e4b675e80fa": {
      "model_module": "@jupyter-widgets/controls",
      "model_module_version": "1.5.0",
      "model_name": "VBoxModel",
      "state": {
       "children": [
        "IPY_MODEL_b0ecd117bfd54d0ab8b2288363f5c096",
        "IPY_MODEL_8ca35c041a5e4acb9ca981edb166da29"
       ],
       "layout": "IPY_MODEL_4fba004f3b5746528750d6886078348c"
      }
     },
     "ff9fdd4a9adb4ec5a3e22dd418a04dce": {
      "model_module": "@jupyter-widgets/base",
      "model_module_version": "1.2.0",
      "model_name": "LayoutModel",
      "state": {}
     }
    },
    "version_major": 2,
    "version_minor": 0
   }
  }
 },
 "nbformat": 4,
 "nbformat_minor": 2
}
