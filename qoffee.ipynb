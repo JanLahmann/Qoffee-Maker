{
 "cells": [
  {
   "cell_type": "markdown",
   "metadata": {},
   "source": [
    "# Qoffee Maker"
   ]
  },
  {
   "cell_type": "code",
   "execution_count": 1,
   "metadata": {},
   "outputs": [],
   "source": [
    "import os, time\n",
    "from random import randint\n",
    "from dotenv import load_dotenv\n",
    "import numpy as np\n",
    "load_dotenv();"
   ]
  },
  {
   "cell_type": "code",
   "execution_count": 2,
   "metadata": {},
   "outputs": [],
   "source": [
    "from ibm_quantum_widgets import CircuitComposer\n",
    "from qiskit.circuit import QuantumCircuit\n",
    "from qiskit import transpile, IBMQ\n",
    "from qiskit.providers.aer import QasmSimulator, StatevectorSimulator\n",
    "from qiskit import IBMQ\n",
    "from qiskit.providers.ibmq.exceptions import IBMQAccountError"
   ]
  },
  {
   "cell_type": "code",
   "execution_count": 3,
   "metadata": {},
   "outputs": [],
   "source": [
    "from qiskit.test.mock import FakeMontreal"
   ]
  },
  {
   "cell_type": "code",
   "execution_count": 4,
   "metadata": {},
   "outputs": [
    {
     "data": {
      "text/plain": [
       "[<IBMQSimulator('ibmq_qasm_simulator') from IBMQ(hub='ibm-q', group='open', project='main')>,\n",
       " <IBMQBackend('ibmq_armonk') from IBMQ(hub='ibm-q', group='open', project='main')>,\n",
       " <IBMQBackend('ibmq_santiago') from IBMQ(hub='ibm-q', group='open', project='main')>,\n",
       " <IBMQBackend('ibmq_bogota') from IBMQ(hub='ibm-q', group='open', project='main')>,\n",
       " <IBMQBackend('ibmq_lima') from IBMQ(hub='ibm-q', group='open', project='main')>,\n",
       " <IBMQBackend('ibmq_belem') from IBMQ(hub='ibm-q', group='open', project='main')>,\n",
       " <IBMQBackend('ibmq_quito') from IBMQ(hub='ibm-q', group='open', project='main')>,\n",
       " <IBMQSimulator('simulator_statevector') from IBMQ(hub='ibm-q', group='open', project='main')>,\n",
       " <IBMQSimulator('simulator_mps') from IBMQ(hub='ibm-q', group='open', project='main')>,\n",
       " <IBMQSimulator('simulator_extended_stabilizer') from IBMQ(hub='ibm-q', group='open', project='main')>,\n",
       " <IBMQSimulator('simulator_stabilizer') from IBMQ(hub='ibm-q', group='open', project='main')>,\n",
       " <IBMQBackend('ibmq_manila') from IBMQ(hub='ibm-q', group='open', project='main')>]"
      ]
     },
     "execution_count": 4,
     "metadata": {},
     "output_type": "execute_result"
    }
   ],
   "source": [
    "try:\n",
    "    IBMQ.enable_account(os.getenv(\"IBMQ_API_KEY\"))\n",
    "except IBMQAccountError as e:\n",
    "    print(\"Got IBMAccountError\", e, \"probably due to re-execution\")\n",
    "\n",
    "provider = IBMQ.get_provider()\n",
    "provider.backends()"
   ]
  },
  {
   "cell_type": "code",
   "execution_count": 5,
   "metadata": {},
   "outputs": [],
   "source": [
    "backend_ideal = StatevectorSimulator()\n",
    "backend_qasm = QasmSimulator()\n",
    "backend_mock = FakeMontreal()\n",
    "backend_ibm = None # provider.get_backend(\"ibmq_manila\")"
   ]
  },
  {
   "cell_type": "code",
   "execution_count": 6,
   "metadata": {},
   "outputs": [],
   "source": [
    "## build some sample circuits\n",
    "\n",
    "# empty\n",
    "qc0 = QuantumCircuit(3, 3)\n",
    "\n",
    "# cappucino\n",
    "qc1 = QuantumCircuit(3, 3)\n",
    "qc1.x(2)\n",
    "\n",
    "# coffee\n",
    "qc2 = QuantumCircuit(3, 3)\n",
    "qc2.x(0)\n",
    "qc2.h(1)\n",
    "qc2.z(1)\n",
    "qc2.h(1)\n",
    "\n",
    "# espresso\n",
    "qc3 = QuantumCircuit(3, 3)\n",
    "qc3.x(0)\n",
    "qc3.cx(0, 1)\n",
    "qc3.cx(1, 0)\n",
    "qc3.cx(0, 1)\n",
    "\n",
    "# anything\n",
    "qc4 = QuantumCircuit(3, 3)\n",
    "qc4.h(0)\n",
    "qc4.h(1)\n",
    "qc4.h(2)\n",
    "\n",
    "# without coffein\n",
    "qc5 = QuantumCircuit(3, 3)\n",
    "qc5.h(0)\n",
    "\n",
    "# nothing strong\n",
    "qc6 = QuantumCircuit(3, 3)\n",
    "qc6.h(0)\n",
    "qc6.x(2)\n",
    "\n",
    "# tea or coffee\n",
    "qc7 = QuantumCircuit(3, 3)\n",
    "qc7.h(0)\n",
    "qc7.cx(0, 1);\n"
   ]
  },
  {
   "cell_type": "code",
   "execution_count": 7,
   "metadata": {},
   "outputs": [],
   "source": [
    "qcreg = [\n",
    "    {\n",
    "        \"id\": \"empty\",\n",
    "        \"name\": \"From Scratch\",\n",
    "        \"circuit\": qc0,\n",
    "        \"init_text\": \"Drag & Drop Gates on quibits to develop the circuit.\"\n",
    "    },\n",
    "    {\n",
    "        \"id\": \"cappucino\",\n",
    "        \"name\": \"Only Cappucino\",\n",
    "        \"circuit\": qc1,\n",
    "        \"init_text\": \"Drag & Drop Gates on quibits to develop the circuit.\"\n",
    "    },\n",
    "    {\n",
    "        \"id\": \"coffee\",\n",
    "        \"name\": \"Only Coffee\",\n",
    "        \"circuit\": qc2,\n",
    "        \"init_text\": \"Drag & Drop Gates on quibits to develop the circuit.\"\n",
    "    },\n",
    "    {\n",
    "        \"id\": \"espresso\",\n",
    "        \"name\": \"Only Espresso\",\n",
    "        \"circuit\": qc3,\n",
    "        \"init_text\": \"Drag & Drop Gates on quibits to develop the circuit.\"\n",
    "    },\n",
    "    {\n",
    "        \"id\": \"anything\",\n",
    "        \"name\": \"Just something to drink\",\n",
    "        \"circuit\": qc4,\n",
    "        \"init_text\": \"Drag & Drop Gates on quibits to develop the circuit.\"\n",
    "    },\n",
    "    {\n",
    "        \"id\": \"withoutcoffein\",\n",
    "        \"name\": \"Without Coffein\",\n",
    "        \"circuit\": qc5,\n",
    "        \"init_text\": \"Drag & Drop Gates on quibits to develop the circuit.\"\n",
    "    },\n",
    "    {\n",
    "        \"id\": \"nothingstrong\",\n",
    "        \"name\": \"Nothing Strong\",\n",
    "        \"circuit\": qc6,\n",
    "        \"init_text\": \"Drag & Drop Gates on quibits to develop the circuit.\"\n",
    "    },\n",
    "    {\n",
    "        \"id\": \"teaorcoffee\",\n",
    "        \"name\": \"Tea or Coffee\",\n",
    "        \"circuit\": qc7,\n",
    "        \"init_text\": \"Drag & Drop Gates on quibits to develop the circuit.\"\n",
    "    }\n",
    "]"
   ]
  },
  {
   "cell_type": "code",
   "execution_count": 8,
   "metadata": {},
   "outputs": [],
   "source": [
    "class CircuitExecutor:\n",
    "    \n",
    "    BIT_ORDER = ['000', '001', '010', '011', '100', '101', '110', '111']\n",
    "    \n",
    "    def __init__(self, circuit):\n",
    "        self.circuit = circuit\n",
    "        \n",
    "    def _fill_with_zero(results):\n",
    "        for bit in CircuitExecutor.BIT_ORDER:\n",
    "            if bit not in results:\n",
    "                results[bit] = 0\n",
    "        return results\n",
    "    \n",
    "    def _probabilities_backend(self, backend, num_shots=800, seed=None, result_options={}):\n",
    "        # copy current circuit\n",
    "        mqc = self.circuit.copy()\n",
    "        # add measurement\n",
    "        mqc.measure(range(3), range(3))\n",
    "        # transpile\n",
    "        mqc_transpiled = mqc # transpile(mqc, backend)\n",
    "        # run job\n",
    "        job = backend.run(mqc_transpiled, shots=num_shots, seed=seed)\n",
    "        # get results\n",
    "        result = job.result(**result_options)\n",
    "        counts = result.get_counts(mqc_transpiled)\n",
    "        # divide by num_shots to get probabilities\n",
    "        assert num_shots == np.sum([c for c in counts.values()]), (num_shots, counts)\n",
    "        for b in counts:\n",
    "            counts[b] = float(counts[b])/num_shots\n",
    "        return CircuitExecutor._fill_with_zero(counts)\n",
    "    \n",
    "    \n",
    "    def get_maximum_key(results):\n",
    "        max_key = max(results, key=results.get)\n",
    "        return max_key\n",
    "    \n",
    "    \n",
    "    def probabilities_qasm(self, num_shots=800):\n",
    "        return self._probabilities_backend(backend_qasm, num_shots=num_shots, seed=randint(0, 2500))\n",
    "    \n",
    "    \n",
    "    def probabilities_mock(self, num_shots=800):\n",
    "        return self._probabilities_backend(backend_mock, num_shots=num_shots)\n",
    "    \n",
    "    \n",
    "    def probabilities_ibmq(self, num_shots=1, secs_timeout=10):\n",
    "        try:\n",
    "            res = self._probabilities_backend(backend_ibm, num_shots=num_shots, result_options={\"timeout\": secs_timeout, \"wait\": 2})\n",
    "            return res\n",
    "        except Exception as e:\n",
    "            print(\"Got error for running on IBM Q\", e)\n",
    "            return self.probabilities_mock(num_shots=num_shots)\n",
    "    \n",
    "    \n",
    "    def probabilities_analytical(self):\n",
    "        mqc = self.circuit.copy()\n",
    "        # run circuit on state vector\n",
    "        result = backend_ideal.run(mqc).result()\n",
    "        # get state vector and calculate probabilities\n",
    "        state_vector = result.get_statevector(mqc, decimals=5)\n",
    "        probs = np.abs(state_vector ** 2)\n",
    "        # map back to bit configurations\n",
    "        results = {\n",
    "            key: probs[i] for i, key in enumerate(CircuitExecutor.BIT_ORDER)\n",
    "        }\n",
    "        return CircuitExecutor._fill_with_zero(results)"
   ]
  },
  {
   "cell_type": "markdown",
   "metadata": {},
   "source": [
    "# Build App"
   ]
  },
  {
   "cell_type": "code",
   "execution_count": 9,
   "metadata": {},
   "outputs": [],
   "source": [
    "from ipywidgets import Widget, Button, HTML, VBox, widgets, link, HBox\n",
    "import appwidgets\n",
    "from traitlets import Unicode, Dict, Int, Any, HasTraits, Bool\n",
    "from appwidgets import JsPyWidget\n",
    "import json"
   ]
  },
  {
   "cell_type": "markdown",
   "metadata": {},
   "source": [
    "## Build Data Model"
   ]
  },
  {
   "cell_type": "code",
   "execution_count": 10,
   "metadata": {},
   "outputs": [],
   "source": [
    "DRINKS = {\n",
    "    \"000\": {\n",
    "        \"id\": \"tea\",\n",
    "        \"name\": \"Tea\",\n",
    "        \"key\": \"ConsumerProducts.CoffeeMaker.Program.Beverage.WarmMilk\",\n",
    "        \"options\": {}\n",
    "    },\n",
    "    \"001\": {\n",
    "        \"id\": \"hotchocolate\",\n",
    "        \"name\": \"Hot Chocolate\",\n",
    "        \"key\": \"ConsumerProducts.CoffeeMaker.Program.Beverage.MilkFroth\",\n",
    "        \"options\": {}\n",
    "    },\n",
    "    \"010\": {\n",
    "        \"id\": \"espresso\",\n",
    "        \"name\": \"Espresso\",\n",
    "        \"key\": \"ConsumerProducts.CoffeeMaker.Program.Beverage.Espresso\",\n",
    "        \"options\": {}\n",
    "    },\n",
    "    \"011\": {\n",
    "        \"id\": \"coffee\",\n",
    "        \"name\": \"Coffee\",\n",
    "        \"key\": \"ConsumerProducts.CoffeeMaker.Program.Beverage.Coffee\",\n",
    "        \"options\": {}\n",
    "    },\n",
    "    \"100\": {\n",
    "        \"id\": \"cappucino\",\n",
    "        \"name\": \"Cappucino\",\n",
    "        \"key\": \"ConsumerProducts.CoffeeMaker.Program.Beverage.Cappuccino\",\n",
    "        \"options\": {}\n",
    "    },\n",
    "    \"101\": {\n",
    "        \"id\": \"lattemacchiato\",\n",
    "        \"name\": \"Latte Macchiato\",\n",
    "        \"key\": \"ConsumerProducts.CoffeeMaker.Program.Beverage.LatteMacchiato\",\n",
    "        \"options\": {}\n",
    "    },\n",
    "    \"110\": {\n",
    "        \"id\": \"wienermelange\",\n",
    "        \"name\": \"Wiener Melange\",\n",
    "        \"key\": \"ConsumerProducts.CoffeeMaker.Program.CoffeeWorld.WienerMelange\",\n",
    "        \"options\": {}\n",
    "    },\n",
    "    \"111\": {\n",
    "        \"id\": \"americano\",\n",
    "        \"name\": \"Americano\",\n",
    "        \"key\": \"ConsumerProducts.CoffeeMaker.Program.CoffeeWorld.Americano\",\n",
    "        \"options\": {}\n",
    "    }\n",
    "}"
   ]
  },
  {
   "cell_type": "code",
   "execution_count": 11,
   "metadata": {},
   "outputs": [],
   "source": [
    "data = Widget()\n",
    "data.add_traits(\n",
    "    # name of current circuit with which the composer was initialized\n",
    "    composer_init_circuit = Dict({\n",
    "        \"id\": \"empty\",\n",
    "        \"name\": \"\",\n",
    "        \"init_text\": \"\"\n",
    "    }).tag(sync=True),\n",
    "    # current ideal probabilities\n",
    "    histogram_anal = Dict({\n",
    "        key: 0 for key in DRINKS\n",
    "    }).tag(sync=True),\n",
    "    # current probabilities from ideal simulator\n",
    "    histogram_qasm = Dict({\n",
    "        key: 0 for key in DRINKS\n",
    "    }).tag(sync=True),\n",
    "    # current probabilities from mock device\n",
    "    histogram_mock = Dict({\n",
    "        key: 0 for key in DRINKS\n",
    "    }).tag(sync=True),\n",
    "    # id of drink from single shot measurement\n",
    "    single_shot_result = Dict({\n",
    "        \"name\": \"\",\n",
    "        \"id\": \"\",\n",
    "        \"bit\": \"\"\n",
    "    }).tag(sync=True),\n",
    "    # status of single shot measurements (0 = init, 1 = loading, 2 = done)\n",
    "    single_shot_status = Int().tag(sync=True),\n",
    "    # device on which to perform the single shot\n",
    "    single_shot_device = Unicode(\"simulator\").tag(sync=True),\n",
    "    # composer qasm\n",
    "    qasm = Unicode(\"\").tag(sync=True),\n",
    "    # check if real device is enabled\n",
    "    use_real_device = Bool(backend_ibm is None).tag(sync=True),\n",
    "    # check if mock device results are shown\n",
    "    show_mock_results = Bool(False).tag(sync=True),\n",
    "    # check if qasm results are shown\n",
    "    show_qasm_results = Bool(False).tag(sync=True),\n",
    "    \n",
    "    #### VIEW RELATED\n",
    "    view = Unicode(\"\").tag(sync=True),\n",
    "    heading = Unicode(\"\").tag(sync=True)\n",
    ")"
   ]
  },
  {
   "cell_type": "markdown",
   "metadata": {},
   "source": [
    "## Build Composer"
   ]
  },
  {
   "cell_type": "code",
   "execution_count": 12,
   "metadata": {},
   "outputs": [],
   "source": [
    "composer = CircuitComposer(circuit=qcreg[0]['circuit'])"
   ]
  },
  {
   "cell_type": "code",
   "execution_count": 13,
   "metadata": {},
   "outputs": [],
   "source": [
    "# handler for change events\n",
    "def composer_update_handler(change_event):\n",
    "    # there are multiple change events, only use on\n",
    "    if change_event['name'] != \"circuit\":\n",
    "        return\n",
    "    executor = CircuitExecutor(composer.circuit)\n",
    "    # set to 0 because calc requires some time and one sees wrong results for a second or so\n",
    "    data.histogram_mock = {key: 0 for key in CircuitExecutor.BIT_ORDER}\n",
    "    # get and save ideal result\n",
    "    result_analytical = executor.probabilities_analytical()\n",
    "    data.histogram_anal = result_analytical\n",
    "    # get and save measurements\n",
    "    result_qasm = executor.probabilities_qasm()\n",
    "    data.histogram_qasm = result_qasm\n",
    "    # get and save qasm code\n",
    "    qasm = composer.circuit.qasm()\n",
    "    data.qasm = qasm\n",
    "    \n",
    "    # most time consuming :/\n",
    "    if data.show_mock_results:\n",
    "        result_mock = executor.probabilities_mock()\n",
    "        data.histogram_mock = result_mock\n",
    "    \n",
    "composer.observe(composer_update_handler)"
   ]
  },
  {
   "cell_type": "code",
   "execution_count": 14,
   "metadata": {},
   "outputs": [],
   "source": [
    "data.observe(lambda x: composer_update_handler({\"name\": \"circuit\"}), names=[\"show_mock_results\", \"show_qasm_results\"])"
   ]
  },
  {
   "cell_type": "code",
   "execution_count": 15,
   "metadata": {},
   "outputs": [],
   "source": [
    "# perform single shot measurement\n",
    "def get_single_shot_result():\n",
    "    data.single_shot_status = 1\n",
    "    executor = CircuitExecutor(composer.circuit)\n",
    "    counts = None\n",
    "    if data.single_shot_device == \"ibmq\":\n",
    "        counts = executor.probabilities_ibmq(num_shots=1, secs_timeout=30)\n",
    "    else:\n",
    "        counts = executor.probabilities_qasm(num_shots=1)\n",
    "        \n",
    "    bits = CircuitExecutor.get_maximum_key(counts)\n",
    "    data.single_shot_result = {\n",
    "        \"bit\": bits,\n",
    "        \"id\": DRINKS[bits][\"id\"],\n",
    "        \"name\": DRINKS[bits][\"name\"]\n",
    "    }\n",
    "    time.sleep(1.5)\n",
    "    data.single_shot_status = 2\n",
    "    return bits"
   ]
  },
  {
   "cell_type": "code",
   "execution_count": 16,
   "metadata": {},
   "outputs": [],
   "source": [
    "def request_drink():\n",
    "    # get result from single shot measurement\n",
    "    bit = data.single_shot_result['bit']\n",
    "    drink_key = DRINKS[bit]['key']\n",
    "    drink_options = DRINKS[bit]['options']\n",
    "    \n",
    "    def response_handler(res):\n",
    "        if 'error' in res:\n",
    "            app.view = 'error'\n",
    "        else:\n",
    "            app.view = 'success'\n",
    "    \n",
    "    jspy.execute_js(\n",
    "        \"window.requestDrink(\"+json.dumps(drink_key)+\", \"+json.dumps(drink_options)+\")\",\n",
    "        response_handler\n",
    "    )"
   ]
  },
  {
   "cell_type": "code",
   "execution_count": 17,
   "metadata": {},
   "outputs": [],
   "source": [
    "def open_circuit_on_ibmq():\n",
    "    qasm = data.qasm\n",
    "    jspy.execute_js(\n",
    "        \"window.openQRCodeIBMQ(\"+json.dumps(qasm)+\")\",\n",
    "    )"
   ]
  },
  {
   "cell_type": "markdown",
   "metadata": {},
   "source": [
    "## Build views"
   ]
  },
  {
   "cell_type": "code",
   "execution_count": 18,
   "metadata": {},
   "outputs": [],
   "source": [
    "app = appwidgets.AppBox(init_view='welcome')\n",
    "link((app, \"view\"), (data, \"view\"))\n",
    "jspy = JsPyWidget()"
   ]
  },
  {
   "cell_type": "markdown",
   "metadata": {},
   "source": [
    "### Header"
   ]
  },
  {
   "cell_type": "code",
   "execution_count": 19,
   "metadata": {},
   "outputs": [],
   "source": [
    "def load_welcome():\n",
    "    data.view = 'welcome'\n",
    "    data.heading = \"<b>IBM</b> Qoffee Maker\"\n",
    "    \n",
    "header = appwidgets.ReactiveHtmlWidget(\"\"\"\n",
    "    <div id=\"header\">\n",
    "        <img src=\"css/ibmq.png\"/>\n",
    "        <h1>${heading}</h1>\n",
    "        <div id=\"navigation-container\">\n",
    "            <button id=\"navigation-button-back\" data-rh-if=\"${view} != 'wecome'\" class=\"navigation-button\" data-rh-exec=\"load_welcome()\">&#5130;</button>\n",
    "            <button id=\"navigation-button-help\">?</button>\n",
    "        </div>\n",
    "    </div>\n",
    "\"\"\", data_model=data)\n",
    "header.load_css(\"./css/header.css\")\n",
    "data.heading = \"<b>IBM</b> Qoffee Maker\""
   ]
  },
  {
   "cell_type": "markdown",
   "metadata": {},
   "source": [
    "### Starting Point View"
   ]
  },
  {
   "cell_type": "code",
   "execution_count": 20,
   "metadata": {},
   "outputs": [],
   "source": [
    "def load_starting_point(circuit_id):\n",
    "    circuit_data = next(filter(lambda x: x['id'] == circuit_id, qcreg))\n",
    "    data.composer_init_circuit = {\n",
    "        \"id\": circuit_data[\"id\"],\n",
    "        \"name\": circuit_data[\"name\"],\n",
    "        \"init_text\": circuit_data[\"init_text\"]\n",
    "    }\n",
    "    data.single_shot_device = 'simulator'\n",
    "    data.single_shot_status = 0\n",
    "    composer.circuit = circuit_data['circuit']\n",
    "    data.show_mock_results = False\n",
    "    data.show_qasm_results = False\n",
    "    data.heading = \"Composer: \"+circuit_data[\"name\"]\n",
    "    data.view = 'composer'\n",
    "    "
   ]
  },
  {
   "cell_type": "code",
   "execution_count": 21,
   "metadata": {},
   "outputs": [],
   "source": [
    "def get_circuit_selection_html(circuit_id, width=12):\n",
    "    circuit_data = next(filter(lambda x: x['id'] == circuit_id, qcreg))\n",
    "    return \"\"\"\n",
    "    <div class=\"col-md-\"\"\"+str(width)+\"\"\"\">\n",
    "        <div class=\"card\" data-rh-exec=\"load_starting_point('\"\"\"+circuit_id+\"\"\"')\">\n",
    "          <div class=\"card-body\">\n",
    "            <h5 class=\"card-title\">\"\"\"+circuit_data['name']+\"\"\"</h5>\n",
    "            <p class=\"card-text\">\"\"\"+circuit_data['init_text']+\"\"\"</p>\n",
    "            <span class=\"arrow\">→</span>\n",
    "          </div>\n",
    "        </div>\n",
    "    </div>\n",
    "    \"\"\""
   ]
  },
  {
   "cell_type": "code",
   "execution_count": 22,
   "metadata": {},
   "outputs": [],
   "source": [
    "view_welcome_content = appwidgets.ReactiveHtmlWidget(\"\"\"\n",
    "    <div id=\"view-welcome\" class=\"app-view-content\">\n",
    "        <h3>Hey 👋,<br/>where do you want to start?</h3>\n",
    "        <div class=\"row mt-4\">\n",
    "            <div class=\"col-md-3\">\n",
    "                <h4>Play around</h4>\n",
    "                <div class=\"row align-items-stretch\">\"\"\"+\n",
    "                    get_circuit_selection_html('empty', 12)\n",
    "                +\"\"\"\n",
    "                </div>\n",
    "            </div>\n",
    "            <div class=\"col-md-9\">\n",
    "                <h4>Take a shortcut</h4>\n",
    "                <div class=\"row align-items-stretch\">\"\"\"+\n",
    "                    get_circuit_selection_html('coffee', 4) +\n",
    "                    get_circuit_selection_html('cappucino', 4) +\n",
    "                    get_circuit_selection_html('espresso', 4)\n",
    "                +\"\"\"\n",
    "                </div>\n",
    "            </div>\n",
    "        </div>\n",
    "        <div class=\"row mt-4\">\n",
    "            <div class=\"col-md-12\">\n",
    "                <h4>Dig Deeper</h4>\n",
    "                <div class=\"row align-items-stretch\">\"\"\"+\n",
    "                    get_circuit_selection_html('anything', 3) +\n",
    "                    get_circuit_selection_html('withoutcoffein', 3) +\n",
    "                    get_circuit_selection_html('nothingstrong', 3) + \n",
    "                    get_circuit_selection_html('teaorcoffee', 3)\n",
    "                +\"\"\"\n",
    "                </div>\n",
    "            </div>\n",
    "        </div>\n",
    "    </div>\n",
    "\"\"\")\n",
    "\n",
    "view_welcome_content.load_css(\"./css/view_welcome.css\")"
   ]
  },
  {
   "cell_type": "code",
   "execution_count": 23,
   "metadata": {},
   "outputs": [],
   "source": [
    "view_welcome = VBox([header, view_welcome_content])"
   ]
  },
  {
   "cell_type": "markdown",
   "metadata": {},
   "source": [
    "### Composer View"
   ]
  },
  {
   "cell_type": "code",
   "execution_count": 24,
   "metadata": {},
   "outputs": [],
   "source": [
    "def toggle_data_attr(name):\n",
    "    setattr(data, name, not getattr(data, name))"
   ]
  },
  {
   "cell_type": "code",
   "execution_count": 25,
   "metadata": {},
   "outputs": [],
   "source": [
    "###########\n",
    "# Introtext\n",
    "###########\n",
    "view_composer_intro = appwidgets.ReactiveHtmlWidget(\"\"\"\n",
    "    <p>{{${composer_init_circuit}['init_text']}}</p>\n",
    "\"\"\", data_model=data)\n",
    "\n",
    "###########\n",
    "# Histogram\n",
    "###########\n",
    "hist_html = \"\"\n",
    "for key, value in DRINKS.items():\n",
    "    hist_html += \"\"\"\n",
    "        <div class=\"histogram-entry\">\n",
    "            <div class=\"histogram-bar-container\">\n",
    "                <div class=\"histogram-bar-outer\">\n",
    "                    <div data-rh-if=\"${show_qasm_results}\" style=\"height: {{${histogram_qasm}['\"\"\"+key+\"\"\"']*100}}%\" class=\"histogram-bar histogram-bar-qasm histogram-bar-\"\"\"+key+\"\"\"\"></div>\n",
    "                    <div style=\"height: {{${histogram_anal}['\"\"\"+key+\"\"\"']*100}}%\" class=\"histogram-bar histogram-bar-anal histogram-bar-\"\"\"+key+\"\"\"\"></div>\n",
    "                    <div data-rh-if=\"${show_mock_results}\" style=\"height: {{${histogram_mock}['\"\"\"+key+\"\"\"']*100}}%\" class=\"histogram-bar histogram-bar-mock histogram-bar-\"\"\"+key+\"\"\"\"></div>\n",
    "                </div>\n",
    "            </div>\n",
    "            <div class=\"histogram-text-container\">\n",
    "                <p><span class=\"histogram-text histogram-text-ideal histogram-text-\"\"\"+key+\"\"\"\"\">{{int(${histogram_anal}['\"\"\"+key+\"\"\"']*1000)/10}}%</span><br/>\"\"\"+value[\"name\"]+\"\"\"</p>\n",
    "            </div>\n",
    "        </div>\n",
    "    \"\"\"\n",
    "    \n",
    "view_composer_button_bar = appwidgets.ReactiveHtmlWidget(\"\"\"\n",
    "    <div id=\"view-composer-button-bar\">\n",
    "        <button data-active=\"${show_qasm_results}\" class=\"btn btn-default\" data-rh-exec=\"toggle_data_attr('show_qasm_results')\">Show QASM</button>\n",
    "        <button data-active=\"${show_mock_results}\" class=\"btn btn-default mr-4\" data-rh-exec=\"toggle_data_attr('show_mock_results')\">Show Mock</button>\n",
    "        <button class=\"btn btn-default mr-4\" data-rh-exec=\"open_circuit_on_ibmq()\">In IBM Q öffnen</button>\n",
    "        <button class=\"btn btn-default\" data-rh-set='single_shot_device=\"ibmq\"' data-rh-if='${single_shot_device}==\"simulator\"'>Use IBM Q</button>\n",
    "        <button class=\"btn btn-default\" data-rh-set='single_shot_device=\"simulator\"' data-rh-if='${single_shot_device}==\"ibmq\"'>Use Simulator</button>\n",
    "    </div>\n",
    "    \n",
    "\"\"\")\n",
    "view_composer_button_bar.load_css(\"./css/view_composer_button_bar.css\")\n",
    "\n",
    "view_composer_hist = appwidgets.ReactiveHtmlWidget(\"\"\"\n",
    "<div id=\"view-composer-hist-container\">\n",
    "    <div id=\"view-composer-hist\">\"\"\"+hist_html+\"\"\"</div>\n",
    "</div>\n",
    "\"\"\", data_model=data)\n",
    "view_composer_hist.load_css(\"./css/view_composer_hist.css\")\n",
    "\n",
    "###########\n",
    "# Single Shot\n",
    "###########\n",
    "view_composer_singleshot = appwidgets.ReactiveHtmlWidget(\"\"\"\n",
    "    <div id=\"view-composer-singleshot-container\">\n",
    "        <div id=\"view-composer-singleshot\">\n",
    "            <button class=\"btn btn-primary btn-block\" data-rh-exec=\"get_single_shot_result()\">Do measurement</button>\n",
    "            <br/>\n",
    "            <div data-rh-if='${single_shot_status}==1' class=\"width-100\">\n",
    "                <p style=\"width: 100%; text-align: center;\">Loading...\n",
    "            </div>\n",
    "            <div id=\"view-composer-singleshot-result\" data-rh-if='${single_shot_status}==2' class=\"width-100\">\n",
    "                <p>☕️<br>{{${single_shot_result}[\"name\"]}}</p>\n",
    "                <button class=\"btn btn-primary btn-block\" data-rh-exec=\"request_drink()\">Order Drink →</button>\n",
    "            </div>\n",
    "            <br/>\n",
    "            \n",
    "        </div>\n",
    "    </div>\n",
    "\"\"\", data_model=data)\n",
    "view_composer_singleshot.load_css(\"./css/view_composer_singleshot.css\")"
   ]
  },
  {
   "cell_type": "code",
   "execution_count": 26,
   "metadata": {},
   "outputs": [],
   "source": [
    "view_composer = VBox([\n",
    "    header,\n",
    "    VBox([\n",
    "        view_composer_intro,\n",
    "        composer,\n",
    "        HBox([\n",
    "            VBox([\n",
    "                view_composer_button_bar,\n",
    "                view_composer_hist\n",
    "            ]).add_class(\"width-80\"),\n",
    "            view_composer_singleshot.add_class(\"width-20\")\n",
    "        ])\n",
    "    ]).add_class(\"app-view-content\")  \n",
    "])"
   ]
  },
  {
   "cell_type": "code",
   "execution_count": 27,
   "metadata": {},
   "outputs": [],
   "source": [
    "view3_content = appwidgets.ReactiveHtmlWidget(\"\"\"\n",
    "    <div class=\"app-view-content\">\n",
    "        <h1>Oh no, something went wrong 😱</h1>\n",
    "    </div>\n",
    "\"\"\")\n",
    "\n",
    "view_fail = VBox([\n",
    "    header,\n",
    "    view3_content\n",
    "])"
   ]
  },
  {
   "cell_type": "code",
   "execution_count": 28,
   "metadata": {},
   "outputs": [],
   "source": [
    "view4_content = appwidgets.ReactiveHtmlWidget(\"\"\"\n",
    "    <div class=\"app-view-content\">\n",
    "        <h1>Thank you and enjoy your drink ☕️</h1>\n",
    "    </div>\n",
    "\"\"\")\n",
    "\n",
    "view_success = VBox([\n",
    "    header,\n",
    "    view4_content\n",
    "])"
   ]
  },
  {
   "cell_type": "code",
   "execution_count": 29,
   "metadata": {},
   "outputs": [],
   "source": [
    "app.add_widget('welcome', view_welcome)\n",
    "app.add_widget('composer', view_composer)\n",
    "app.add_widget('error', view_fail)\n",
    "app.add_widget('success', view_success)"
   ]
  },
  {
   "cell_type": "markdown",
   "metadata": {},
   "source": [
    "# And go..."
   ]
  },
  {
   "cell_type": "code",
   "execution_count": 30,
   "metadata": {
    "scrolled": false
   },
   "outputs": [
    {
     "data": {
      "application/vnd.jupyter.widget-view+json": {
       "model_id": "ef267b51f2584ff581077fa35268a1cc",
       "version_major": 2,
       "version_minor": 0
      },
      "text/plain": [
       "AppBox(children=(VBox(children=(ReactiveHtmlWidget(), ReactiveHtmlWidget())),), view='welcome', _dom_classes=(…"
      ]
     },
     "metadata": {},
     "output_type": "display_data"
    }
   ],
   "source": [
    "### APP\n",
    "app"
   ]
  },
  {
   "cell_type": "code",
   "execution_count": null,
   "metadata": {},
   "outputs": [],
   "source": []
  },
  {
   "cell_type": "code",
   "execution_count": null,
   "metadata": {},
   "outputs": [],
   "source": []
  }
 ],
 "metadata": {
  "kernelspec": {
   "display_name": "Python 3 (ipykernel)",
   "language": "python",
   "name": "python3"
  },
  "language_info": {
   "codemirror_mode": {
    "name": "ipython",
    "version": 3
   },
   "file_extension": ".py",
   "mimetype": "text/x-python",
   "name": "python",
   "nbconvert_exporter": "python",
   "pygments_lexer": "ipython3",
   "version": "3.9.7"
  },
  "widgets": {
   "application/vnd.jupyter.widget-state+json": {
    "state": {
     "01125f0d944e4e2f9427511ff61e9161": {
      "model_module": "appwidgets",
      "model_module_version": "^0.1.0",
      "model_name": "ReactiveHtmlModel",
      "state": {
       "_css": "\n.<<VIEW_ID>> #header {\n\n    width: 100%;\n\n    background-color: black;\n\n    height: 58px;\n\n    display: block;\n\n    position: relative;\n\n    margin-bottom: 3em;\n\n}\n\n\n\n.<<VIEW_ID>> #header h1 {\n\n    color: white;\n\n    font-size: 28px;\n\n    line-height: 58px;\n\n    margin: 0;\n\n    padding: 0;\n\n    position: absolute;\n\n    top: 0em;\n\n    left: 62px;\n\n}\n\n\n\n.<<VIEW_ID>> #navigation-container {\n\n    position: absolute;\n\n    width: 200px;\n\n    right: 10px;\n\n    top: 0;\n\n    height: 58px;\n\n}\n\n\n\n.<<VIEW_ID>> #navigation-container button {\n\n    width: 58px;\n\n    position: absolute;\n\n    background-color: black;\n\n    border-radius: 0;\n\n    border-style: none;\n\n    height: 58px;\n\n    color: white;\n\n}\n\n\n\n.<<VIEW_ID>> #navigation-container #navigation-button-back {\n\n    right: 58px;\n\n}\n\n.<<VIEW_ID>> #navigation-container #navigation-button-help {\n\n    right: 0px;\n\n}\n\n\n\n.<<VIEW_ID>> #header img {\n\n    position: absolute;\n\n    height: 36px;\n\n    left: 15px;\n\n    top: 11px;\n\n}\n\n\n\n\n\n.<<VIEW_ID>> /* #navigation-container {\n\n    width: 100%;\n\n    height: 10px;\n\n    position: relative;\n\n    display: block;\n\n    z-index: 5000;\n\n}\n\n\n\n.<<VIEW_ID>> #navigation-container button {\n\n    background-color: rgb(57, 57, 57);\n\n    border-radius: 50%;\n\n    border-width: 0;\n\n    height: 48px;\n\n    width: 48px;\n\n    color: white;\n\n    font-size: 26px;\n\n    line-height: 48px;\n\n}\n\n\n\n.<<VIEW_ID>> #navigation-button-back {\n\n    right: 20px;\n\n    position: absolute;\n\n    top: 75px;\n\n}\n\n\n\n.<<VIEW_ID>> #navigation-button-help {\n\n    right: 20px;\n\n    position: absolute;\n\n    top: 20px;\n\n}\n\n\n\n.<<VIEW_ID>> #header {\n\n    width: 100%;\n\n    background-color: black;\n\n    height: 160px;\n\n    display: block;\n\n    position: relative;\n\n    margin-bottom: 3em;\n\n}\n\n\n\n.<<VIEW_ID>> #header h1 {\n\n    color: white;\n\n    font-size: 3.5em;\n\n    margin: 0;\n\n    padding: 0;\n\n    position: absolute;\n\n    bottom: 20px;\n\n    left: 20px;\n\n} */",
       "_model_module_version": "^0.1.0",
       "_rendered": "\n<div id=\"header\">\n<img src=\"css/ibmq.png\"/>\n<h1>Composer: Only Cappucino</h1>\n<div id=\"navigation-container\">\n<button class=\"navigation-button\" data-rh-exec=\"load_welcome()\" data-rh-if=\"welcome != 'wecome'\" id=\"navigation-button-back\">ᐊ</button>\n<button id=\"navigation-button-help\">?</button>\n</div>\n</div>\n",
       "_view_module_version": "^0.1.0",
       "layout": "IPY_MODEL_9f4688643a1c428d8a87d1171f984e6b"
      }
     },
     "12c5e6cd4fb24c8ea6a0bbba170cae59": {
      "model_module": "@jupyter-widgets/base",
      "model_module_version": "1.2.0",
      "model_name": "LayoutModel",
      "state": {}
     },
     "1e3668627d2a4f659dba06ce0b398c97": {
      "model_module": "@jupyter-widgets/base",
      "model_module_version": "1.2.0",
      "model_name": "LayoutModel",
      "state": {}
     },
     "28fd8f9f9392449da6253398559db56d": {
      "model_module": "@jupyter-widgets/base",
      "model_module_version": "1.2.0",
      "model_name": "LayoutModel",
      "state": {}
     },
     "2939450d5b8a4904a3c26586e30cada5": {
      "model_module": "@jupyter-widgets/controls",
      "model_module_version": "1.5.0",
      "model_name": "VBoxModel",
      "state": {
       "children": [
        "IPY_MODEL_01125f0d944e4e2f9427511ff61e9161",
        "IPY_MODEL_d29e792483ac48a2aad319b051d46354"
       ],
       "layout": "IPY_MODEL_aefb7f74e24e4406ae13c737cea6474b"
      }
     },
     "4758b1af7468473dbf0cbcb15438c181": {
      "model_module": "@jupyter-widgets/base",
      "model_module_version": "1.2.0",
      "model_name": "LayoutModel",
      "state": {}
     },
     "4c269140ae7445afac4327cdbecaea2a": {
      "model_module": "@jupyter-widgets/controls",
      "model_module_version": "1.5.0",
      "model_name": "VBoxModel",
      "state": {
       "children": [
        "IPY_MODEL_01125f0d944e4e2f9427511ff61e9161",
        "IPY_MODEL_770fda474ef641b89b52ed0b6ed76463"
       ],
       "layout": "IPY_MODEL_654d358480224948a5fe71d97f164b2e"
      }
     },
     "4eb412ab4d584001a82c3bec46261692": {
      "model_module": "@jupyter-widgets/base",
      "model_module_version": "1.2.0",
      "model_name": "LayoutModel",
      "state": {}
     },
     "4fedd95c40364bd2a186bb19eba42ef1": {
      "model_module": "appwidgets",
      "model_module_version": "^0.1.0",
      "model_name": "ReactiveHtmlModel",
      "state": {
       "_css": "\n.<<VIEW_ID>> #view-welcome h3 {\n\n    font-size: 2em;\n\n}\n\n\n\n.<<VIEW_ID>> #view-welcome h4, #view-welcome h5 {\n\n    font-size: 1.7em;\n\n    margin-bottom: 1em;\n\n}\n\n\n\n.<<VIEW_ID>> #view-welcome .card {\n\n    padding: 10px 10px 30px 10px;\n\n    margin: 2px;\n\n    background-color: rgba(244, 244, 244);\n\n    height: 180px; /*calc(100% - 4px);*/\n\n    border-radius: 0;\n\n    border-width: 0;\n\n    position: relative;\n\n    cursor: pointer;\n\n}\n\n\n\n.<<VIEW_ID>> #view-welcome span.arrow {\n\n    color: rgba(40, 105, 245);\n\n    position: absolute;\n\n    bottom: 10px;\n\n    left: 20px;\n\n    font-size: 1.5em;\n\n}\n\n\n\n.<<VIEW_ID>> #view-welcome .mt-4 {\n\n    margin-top: 20px;\n\n}",
       "_model_module_version": "^0.1.0",
       "_rendered": "\n<div class=\"app-view-content\" id=\"view-welcome\">\n<h3>Hey 👋,<br/>where do you want to start?</h3>\n<div class=\"row mt-4\">\n<div class=\"col-md-3\">\n<h4>Play around</h4>\n<div class=\"row align-items-stretch\">\n<div class=\"col-md-12\">\n<div class=\"card\" data-rh-exec=\"load_starting_point('empty')\">\n<div class=\"card-body\">\n<h5 class=\"card-title\">From Scratch</h5>\n<p class=\"card-text\">Drag &amp; Drop Gates on quibits to develop the circuit.</p>\n<span class=\"arrow\">→</span>\n</div>\n</div>\n</div>\n</div>\n</div>\n<div class=\"col-md-9\">\n<h4>Take a shortcut</h4>\n<div class=\"row align-items-stretch\">\n<div class=\"col-md-4\">\n<div class=\"card\" data-rh-exec=\"load_starting_point('coffee')\">\n<div class=\"card-body\">\n<h5 class=\"card-title\">Only Coffee</h5>\n<p class=\"card-text\">Drag &amp; Drop Gates on quibits to develop the circuit.</p>\n<span class=\"arrow\">→</span>\n</div>\n</div>\n</div>\n<div class=\"col-md-4\">\n<div class=\"card\" data-rh-exec=\"load_starting_point('cappucino')\">\n<div class=\"card-body\">\n<h5 class=\"card-title\">Only Cappucino</h5>\n<p class=\"card-text\">Drag &amp; Drop Gates on quibits to develop the circuit.</p>\n<span class=\"arrow\">→</span>\n</div>\n</div>\n</div>\n<div class=\"col-md-4\">\n<div class=\"card\" data-rh-exec=\"load_starting_point('espresso')\">\n<div class=\"card-body\">\n<h5 class=\"card-title\">Only Espresso</h5>\n<p class=\"card-text\">Drag &amp; Drop Gates on quibits to develop the circuit.</p>\n<span class=\"arrow\">→</span>\n</div>\n</div>\n</div>\n</div>\n</div>\n</div>\n<div class=\"row mt-4\">\n<div class=\"col-md-12\">\n<h4>Dig Deeper</h4>\n<div class=\"row align-items-stretch\">\n<div class=\"col-md-3\">\n<div class=\"card\" data-rh-exec=\"load_starting_point('anything')\">\n<div class=\"card-body\">\n<h5 class=\"card-title\">Just something to drink</h5>\n<p class=\"card-text\">Drag &amp; Drop Gates on quibits to develop the circuit.</p>\n<span class=\"arrow\">→</span>\n</div>\n</div>\n</div>\n<div class=\"col-md-3\">\n<div class=\"card\" data-rh-exec=\"load_starting_point('withoutcoffein')\">\n<div class=\"card-body\">\n<h5 class=\"card-title\">Without Coffein</h5>\n<p class=\"card-text\">Drag &amp; Drop Gates on quibits to develop the circuit.</p>\n<span class=\"arrow\">→</span>\n</div>\n</div>\n</div>\n<div class=\"col-md-3\">\n<div class=\"card\" data-rh-exec=\"load_starting_point('nothingstrong')\">\n<div class=\"card-body\">\n<h5 class=\"card-title\">Nothing Strong</h5>\n<p class=\"card-text\">Drag &amp; Drop Gates on quibits to develop the circuit.</p>\n<span class=\"arrow\">→</span>\n</div>\n</div>\n</div>\n<div class=\"col-md-3\">\n<div class=\"card\" data-rh-exec=\"load_starting_point('teaorcoffee')\">\n<div class=\"card-body\">\n<h5 class=\"card-title\">Tea or Coffee</h5>\n<p class=\"card-text\">Drag &amp; Drop Gates on quibits to develop the circuit.</p>\n<span class=\"arrow\">→</span>\n</div>\n</div>\n</div>\n</div>\n</div>\n</div>\n</div>\n",
       "_view_module_version": "^0.1.0",
       "layout": "IPY_MODEL_4eb412ab4d584001a82c3bec46261692"
      }
     },
     "59e3b3e766544de2a8bd9abe6c1d4984": {
      "model_module": "@jupyter-widgets/base",
      "model_module_version": "1.2.0",
      "model_name": "LayoutModel",
      "state": {}
     },
     "5b87c9b38c6a455881f2b920ab349b78": {
      "model_module": "appwidgets",
      "model_module_version": "^0.1.0",
      "model_name": "ReactiveHtmlModel",
      "state": {
       "_css": "\n.<<VIEW_ID>> #view-composer-singleshot button {\n\n    font-size: 1.5em;\n\n}\n\n\n\n.<<VIEW_ID>> #view-composer-singleshot button.btn-primary {\n\n    color: white;\n\n    background-color: rgba(40, 105, 245);\n\n    border-color: rgba(40, 105, 245);\n\n    border-radius: 0;\n\n}\n\n\n\n.<<VIEW_ID>> #view-composer-singleshot-result p {\n\n    margin-top: 20px;\n\n    margin-bottom: 30px;\n\n    width: 100%;\n\n    text-align: center;\n\n    font-size: 3em;\n\n    line-height: 1.2;\n\n}",
       "_dom_classes": [
        "width-20"
       ],
       "_model_module_version": "^0.1.0",
       "_rendered": "\n<div id=\"view-composer-singleshot-container\">\n<div id=\"view-composer-singleshot\">\n<button class=\"btn btn-primary btn-block\" data-rh-exec=\"get_single_shot_result()\">Do measurement</button>\n<br/>\n\n\n<br>\n</br></div>\n</div>\n",
       "_view_module_version": "^0.1.0",
       "layout": "IPY_MODEL_28fd8f9f9392449da6253398559db56d"
      }
     },
     "5c63741bb4e342d6951071453be13c53": {
      "model_module": "@jupyter-widgets/controls",
      "model_module_version": "1.5.0",
      "model_name": "HBoxModel",
      "state": {
       "children": [
        "IPY_MODEL_e0223947a1464fc59d543fa9cfeedc3c",
        "IPY_MODEL_5b87c9b38c6a455881f2b920ab349b78"
       ],
       "layout": "IPY_MODEL_59e3b3e766544de2a8bd9abe6c1d4984"
      }
     },
     "654d358480224948a5fe71d97f164b2e": {
      "model_module": "@jupyter-widgets/base",
      "model_module_version": "1.2.0",
      "model_name": "LayoutModel",
      "state": {}
     },
     "666c139da7354b84b55c3c2e5b030f23": {
      "model_module": "@jupyter-widgets/base",
      "model_module_version": "1.2.0",
      "model_name": "LayoutModel",
      "state": {}
     },
     "66c509f1aa15452aa15b8196af49bbdf": {
      "model_module": "@jupyter-widgets/base",
      "model_module_version": "1.2.0",
      "model_name": "WidgetModel",
      "state": {
       "_view_module": null,
       "_view_module_version": "",
       "composer_init_circuit": {
        "id": "cappucino",
        "init_text": "Drag & Drop Gates on quibits to develop the circuit.",
        "name": "Only Cappucino"
       },
       "heading": "Composer: Only Cappucino",
       "histogram_anal": {
        "000": 0,
        "001": 0,
        "010": 0,
        "011": 0,
        "100": 1,
        "101": 0,
        "110": 0,
        "111": 0
       },
       "histogram_mock": {
        "000": 0,
        "001": 0,
        "010": 0,
        "011": 0,
        "100": 0,
        "101": 0,
        "110": 0,
        "111": 0
       },
       "histogram_qasm": {
        "000": 0,
        "001": 0,
        "010": 0,
        "011": 0,
        "100": 1,
        "101": 0,
        "110": 0,
        "111": 0
       },
       "qasm": "OPENQASM 2.0;\ninclude \"qelib1.inc\";\nqreg q[3];\ncreg c[3];\nx q[2];\n",
       "show_mock_results": false,
       "show_qasm_results": false,
       "single_shot_device": "simulator",
       "single_shot_result": {
        "bit": "",
        "id": "",
        "name": ""
       },
       "single_shot_status": 0,
       "use_real_device": true,
       "view": "composer"
      }
     },
     "7624fcfc10ff470791058b99aa58dd85": {
      "model_module": "@quantum/ibm-q-lab-widgets",
      "model_module_version": "^1.0.3",
      "model_name": "CircuitComposerModel",
      "state": {
       "_model_module_version": "^1.0.3",
       "_view_module_version": "^1.0.3",
       "circuit": "\"OPENQASM 2.0;\\ninclude \\\"qelib1.inc\\\";\\n\\nqreg q[3];\\ncreg c[3];\\n\\nx q[2];\"",
       "editable": true,
       "layout": "IPY_MODEL_4758b1af7468473dbf0cbcb15438c181",
       "qiskit_code_cell_index": -1
      }
     },
     "770fda474ef641b89b52ed0b6ed76463": {
      "model_module": "@jupyter-widgets/controls",
      "model_module_version": "1.5.0",
      "model_name": "VBoxModel",
      "state": {
       "_dom_classes": [
        "app-view-content"
       ],
       "children": [
        "IPY_MODEL_b006f486e4de4bab81a096b77968f825",
        "IPY_MODEL_7624fcfc10ff470791058b99aa58dd85",
        "IPY_MODEL_5c63741bb4e342d6951071453be13c53"
       ],
       "layout": "IPY_MODEL_a4e97b0fb21a4e08b3ebde9bacca0d4a"
      }
     },
     "8670b45b03b1448d89a6620c08a60e2e": {
      "model_module": "@jupyter-widgets/controls",
      "model_module_version": "1.5.0",
      "model_name": "VBoxModel",
      "state": {
       "children": [
        "IPY_MODEL_01125f0d944e4e2f9427511ff61e9161",
        "IPY_MODEL_a77199760f374cc68aaffdb745bd70ab"
       ],
       "layout": "IPY_MODEL_1e3668627d2a4f659dba06ce0b398c97"
      }
     },
     "8e13e47d8b864804a8f69b4934945348": {
      "model_module": "appwidgets",
      "model_module_version": "^0.1.0",
      "model_name": "JsPyModel",
      "state": {
       "_model_module_version": "^0.1.0",
       "_view_module": null,
       "_view_module_version": ""
      }
     },
     "9f4688643a1c428d8a87d1171f984e6b": {
      "model_module": "@jupyter-widgets/base",
      "model_module_version": "1.2.0",
      "model_name": "LayoutModel",
      "state": {}
     },
     "a4e97b0fb21a4e08b3ebde9bacca0d4a": {
      "model_module": "@jupyter-widgets/base",
      "model_module_version": "1.2.0",
      "model_name": "LayoutModel",
      "state": {}
     },
     "a77199760f374cc68aaffdb745bd70ab": {
      "model_module": "appwidgets",
      "model_module_version": "^0.1.0",
      "model_name": "ReactiveHtmlModel",
      "state": {
       "_css": "",
       "_model_module_version": "^0.1.0",
       "_rendered": "\n<div class=\"app-view-content\">\n<h1>Oh no, something went wrong 😱</h1>\n</div>\n",
       "_view_module_version": "^0.1.0",
       "layout": "IPY_MODEL_bdef3f8461a144bcb0583a5142f6a4ff"
      }
     },
     "aefb7f74e24e4406ae13c737cea6474b": {
      "model_module": "@jupyter-widgets/base",
      "model_module_version": "1.2.0",
      "model_name": "LayoutModel",
      "state": {}
     },
     "b006f486e4de4bab81a096b77968f825": {
      "model_module": "appwidgets",
      "model_module_version": "^0.1.0",
      "model_name": "ReactiveHtmlModel",
      "state": {
       "_css": "",
       "_model_module_version": "^0.1.0",
       "_rendered": "\n<p>Drag &amp; Drop Gates on quibits to develop the circuit.</p>\n",
       "_view_module_version": "^0.1.0",
       "layout": "IPY_MODEL_ea8d53b581144ae8b060baa472795d02"
      }
     },
     "b245a493ca1741838fc0d9ebd7a96ad3": {
      "model_module": "@jupyter-widgets/base",
      "model_module_version": "1.2.0",
      "model_name": "LayoutModel",
      "state": {}
     },
     "b6c94cf35b9047bd8eac53b450856c12": {
      "model_module": "appwidgets",
      "model_module_version": "^0.1.0",
      "model_name": "ReactiveHtmlModel",
      "state": {
       "_css": "\n.<<VIEW_ID>> #view-composer-button-bar button {\n\n    border-radius: 0;\n\n    border-color: black;\n\n    font-size: 1.5em;\n\n}\n\n\n\n.<<VIEW_ID>> #view-composer-button-bar button[data-active=\"True\"] {\n\n    border-color: rgba(40, 105, 245);\n\n}\n\n\n\n.<<VIEW_ID>> #view-composer-button-bar .mr-4 {\n\n    margin-right: 20px;\n\n}",
       "_model_module_version": "^0.1.0",
       "_rendered": "\n<div id=\"view-composer-button-bar\">\n<button class=\"btn btn-default\" data-active=\"\" data-rh-exec=\"toggle_data_attr('show_qasm_results')\">Show QASM</button>\n<button class=\"btn btn-default mr-4\" data-active=\"\" data-rh-exec=\"toggle_data_attr('show_mock_results')\">Show Mock</button>\n<button class=\"btn btn-default mr-4\" data-rh-exec=\"open_circuit_on_ibmq()\">In IBM Q öffnen</button>\n\n\n</div>\n",
       "_view_module_version": "^0.1.0",
       "layout": "IPY_MODEL_b245a493ca1741838fc0d9ebd7a96ad3",
       "show_mock_results": "",
       "show_qasm_results": "",
       "single_shot_device": ""
      }
     },
     "bdef3f8461a144bcb0583a5142f6a4ff": {
      "model_module": "@jupyter-widgets/base",
      "model_module_version": "1.2.0",
      "model_name": "LayoutModel",
      "state": {}
     },
     "be68c164b13744fb9826203108f62066": {
      "model_module": "@jupyter-widgets/base",
      "model_module_version": "1.2.0",
      "model_name": "LayoutModel",
      "state": {}
     },
     "bf5d5f438995467ba9f1aca5121b7171": {
      "model_module": "@jupyter-widgets/base",
      "model_module_version": "1.2.0",
      "model_name": "LayoutModel",
      "state": {}
     },
     "d29e792483ac48a2aad319b051d46354": {
      "model_module": "appwidgets",
      "model_module_version": "^0.1.0",
      "model_name": "ReactiveHtmlModel",
      "state": {
       "_css": "",
       "_model_module_version": "^0.1.0",
       "_rendered": "\n<div class=\"app-view-content\">\n<h1>Thank you and enjoy your drink ☕️</h1>\n</div>\n",
       "_view_module_version": "^0.1.0",
       "layout": "IPY_MODEL_666c139da7354b84b55c3c2e5b030f23"
      }
     },
     "df8c5f5e02334a7c93347549be8adab1": {
      "model_module": "@jupyter-widgets/base",
      "model_module_version": "1.2.0",
      "model_name": "LayoutModel",
      "state": {}
     },
     "e0223947a1464fc59d543fa9cfeedc3c": {
      "model_module": "@jupyter-widgets/controls",
      "model_module_version": "1.5.0",
      "model_name": "VBoxModel",
      "state": {
       "_dom_classes": [
        "width-80"
       ],
       "children": [
        "IPY_MODEL_b6c94cf35b9047bd8eac53b450856c12",
        "IPY_MODEL_ef99df7f9d974e39950cfaa888f42b2c"
       ],
       "layout": "IPY_MODEL_12c5e6cd4fb24c8ea6a0bbba170cae59"
      }
     },
     "ea8d53b581144ae8b060baa472795d02": {
      "model_module": "@jupyter-widgets/base",
      "model_module_version": "1.2.0",
      "model_name": "LayoutModel",
      "state": {}
     },
     "ec1cdfb3b5d64754b8efce2c8b65f64a": {
      "model_module": "@jupyter-widgets/controls",
      "model_module_version": "1.5.0",
      "model_name": "VBoxModel",
      "state": {
       "children": [
        "IPY_MODEL_01125f0d944e4e2f9427511ff61e9161",
        "IPY_MODEL_4fedd95c40364bd2a186bb19eba42ef1"
       ],
       "layout": "IPY_MODEL_df8c5f5e02334a7c93347549be8adab1"
      }
     },
     "ef267b51f2584ff581077fa35268a1cc": {
      "model_module": "@jupyter-widgets/controls",
      "model_module_version": "1.5.0",
      "model_name": "BoxModel",
      "state": {
       "_dom_classes": [
        "app-appbox"
       ],
       "children": [
        "IPY_MODEL_4c269140ae7445afac4327cdbecaea2a"
       ],
       "layout": "IPY_MODEL_be68c164b13744fb9826203108f62066",
       "view": "composer"
      }
     },
     "ef99df7f9d974e39950cfaa888f42b2c": {
      "model_module": "appwidgets",
      "model_module_version": "^0.1.0",
      "model_name": "ReactiveHtmlModel",
      "state": {
       "_css": "\n/*\n\n\tHistogram\n\n*/\n\n.<<VIEW_ID>> #view-composer-hist-container {\n\n\twidth: 100%;\n\n\theight: 30vh;\n\n\tpadding: 0 50px 0 10px;\n\n    margin-top: 50px;\n\n}\n\n.<<VIEW_ID>> #view-composer-hist-container #view-composer-hist {\n\n\twidth: 100%;\n\n\theight: 100%;\n\n\tdisplay: flex;\n\n\tflex-direction: row;\n\n\tjustify-content: space-evenly;\n\n\talign-items: stretch;\n\n}\n\n.<<VIEW_ID>> #view-composer-hist-container .histogram-entry {\n\n\tposition: relative;\n\n\tflex: 0 0 12.5%;\n\n}\n\n.<<VIEW_ID>> #view-composer-hist-container .histogram-entry p {\n\n\ttext-align: center;\n\n    font-size: 1.3em;\n\n}\n\n.<<VIEW_ID>> #view-composer-hist-container .histogram-bar-container {\n\n\tposition: relative;\n\n\theight: 80%;\n\n}\n\n.<<VIEW_ID>> #view-composer-hist-container .histogram-bar-outer {\n\n\twidth: 30px;\n\n\tleft: 50%;\n\n\tmargin-left: -15px;\n\n\theight: 100%;\n\n\tposition: relative;\n\n\t/* background-color: lightgray; */\n\n}\n\n.<<VIEW_ID>> #view-composer-hist-container .histogram-bar {\n\n\tbackground-color: blue;\n\n\tposition: absolute;\n\n\tbottom: 0;\n\n\theight: 0;\n\n\twidth: 33%;\n\n}\n\n\n\n.<<VIEW_ID>> #view-composer-hist-container .histogram-bar-qasm {\n\n\tbackground-color: purple;\n\n\tleft: 0%;\n\n}\n\n.<<VIEW_ID>> #view-composer-hist-container .histogram-bar-anal {\n\n\tbackground-color: rgba(40, 105, 245);\n\n\tleft: 33%;\n\n}\n\n.<<VIEW_ID>> #view-composer-hist-container .histogram-bar-mock {\n\n\tbackground-color: green;\n\n\tleft: 66%;\n\n}",
       "_model_module_version": "^0.1.0",
       "_rendered": "\n<div id=\"view-composer-hist-container\">\n<div id=\"view-composer-hist\">\n<div class=\"histogram-entry\">\n<div class=\"histogram-bar-container\">\n<div class=\"histogram-bar-outer\">\n\n<div class=\"histogram-bar histogram-bar-anal histogram-bar-000\" style=\"height: 0.0%\"></div>\n\n</div>\n</div>\n<div class=\"histogram-text-container\">\n<p><span \"=\"\" class=\"histogram-text histogram-text-ideal histogram-text-000\">0.0%</span><br/>Tea</p>\n</div>\n</div>\n<div class=\"histogram-entry\">\n<div class=\"histogram-bar-container\">\n<div class=\"histogram-bar-outer\">\n\n<div class=\"histogram-bar histogram-bar-anal histogram-bar-001\" style=\"height: 0.0%\"></div>\n\n</div>\n</div>\n<div class=\"histogram-text-container\">\n<p><span \"=\"\" class=\"histogram-text histogram-text-ideal histogram-text-001\">0.0%</span><br/>Hot Chocolate</p>\n</div>\n</div>\n<div class=\"histogram-entry\">\n<div class=\"histogram-bar-container\">\n<div class=\"histogram-bar-outer\">\n\n<div class=\"histogram-bar histogram-bar-anal histogram-bar-010\" style=\"height: 0.0%\"></div>\n\n</div>\n</div>\n<div class=\"histogram-text-container\">\n<p><span \"=\"\" class=\"histogram-text histogram-text-ideal histogram-text-010\">0.0%</span><br/>Espresso</p>\n</div>\n</div>\n<div class=\"histogram-entry\">\n<div class=\"histogram-bar-container\">\n<div class=\"histogram-bar-outer\">\n\n<div class=\"histogram-bar histogram-bar-anal histogram-bar-011\" style=\"height: 0.0%\"></div>\n\n</div>\n</div>\n<div class=\"histogram-text-container\">\n<p><span \"=\"\" class=\"histogram-text histogram-text-ideal histogram-text-011\">0.0%</span><br/>Coffee</p>\n</div>\n</div>\n<div class=\"histogram-entry\">\n<div class=\"histogram-bar-container\">\n<div class=\"histogram-bar-outer\">\n\n<div class=\"histogram-bar histogram-bar-anal histogram-bar-100\" style=\"height: 100.0%\"></div>\n\n</div>\n</div>\n<div class=\"histogram-text-container\">\n<p><span \"=\"\" class=\"histogram-text histogram-text-ideal histogram-text-100\">100.0%</span><br/>Cappucino</p>\n</div>\n</div>\n<div class=\"histogram-entry\">\n<div class=\"histogram-bar-container\">\n<div class=\"histogram-bar-outer\">\n\n<div class=\"histogram-bar histogram-bar-anal histogram-bar-101\" style=\"height: 0.0%\"></div>\n\n</div>\n</div>\n<div class=\"histogram-text-container\">\n<p><span \"=\"\" class=\"histogram-text histogram-text-ideal histogram-text-101\">0.0%</span><br/>Latte Macchiato</p>\n</div>\n</div>\n<div class=\"histogram-entry\">\n<div class=\"histogram-bar-container\">\n<div class=\"histogram-bar-outer\">\n\n<div class=\"histogram-bar histogram-bar-anal histogram-bar-110\" style=\"height: 0.0%\"></div>\n\n</div>\n</div>\n<div class=\"histogram-text-container\">\n<p><span \"=\"\" class=\"histogram-text histogram-text-ideal histogram-text-110\">0.0%</span><br/>Wiener Melange</p>\n</div>\n</div>\n<div class=\"histogram-entry\">\n<div class=\"histogram-bar-container\">\n<div class=\"histogram-bar-outer\">\n\n<div class=\"histogram-bar histogram-bar-anal histogram-bar-111\" style=\"height: 0.0%\"></div>\n\n</div>\n</div>\n<div class=\"histogram-text-container\">\n<p><span \"=\"\" class=\"histogram-text histogram-text-ideal histogram-text-111\">0.0%</span><br/>Americano</p>\n</div>\n</div>\n</div>\n</div>\n",
       "_view_module_version": "^0.1.0",
       "layout": "IPY_MODEL_bf5d5f438995467ba9f1aca5121b7171"
      }
     }
    },
    "version_major": 2,
    "version_minor": 0
   }
  }
 },
 "nbformat": 4,
 "nbformat_minor": 2
}
