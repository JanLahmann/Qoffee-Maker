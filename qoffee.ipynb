{
 "cells": [
  {
   "cell_type": "markdown",
   "metadata": {},
   "source": [
    "# Qoffee Maker"
   ]
  },
  {
   "cell_type": "code",
   "execution_count": null,
   "metadata": {},
   "outputs": [],
   "source": [
    "import os, time\n",
    "from random import randint\n",
    "from dotenv import load_dotenv\n",
    "import numpy as np\n",
    "load_dotenv();"
   ]
  },
  {
   "cell_type": "code",
   "execution_count": null,
   "metadata": {},
   "outputs": [],
   "source": [
    "from ibm_quantum_widgets import CircuitComposer\n",
    "from qiskit.circuit import QuantumCircuit\n",
    "from qiskit import transpile, IBMQ\n",
    "from qiskit.providers.aer import QasmSimulator, StatevectorSimulator\n",
    "from qiskit import IBMQ\n",
    "from qiskit.providers.ibmq.exceptions import IBMQAccountError"
   ]
  },
  {
   "cell_type": "code",
   "execution_count": null,
   "metadata": {},
   "outputs": [],
   "source": [
    "try:\n",
    "    IBMQ.enable_account(os.getenv(\"IBMQ_API_KEY\"))\n",
    "except IBMQAccountError as e:\n",
    "    print(\"Got IBMAccountError\", e, \"probably due to re-execution\")\n",
    "\n",
    "provider = IBMQ.get_provider()\n",
    "provider.backends()"
   ]
  },
  {
   "cell_type": "code",
   "execution_count": null,
   "metadata": {},
   "outputs": [],
   "source": [
    "backend_ideal = StatevectorSimulator()\n",
    "backend_noise = QasmSimulator()\n",
    "backend_ibm = provider.get_backend(\"ibmq_manila\")"
   ]
  },
  {
   "cell_type": "code",
   "execution_count": null,
   "metadata": {},
   "outputs": [],
   "source": [
    "## build some sample circuits\n",
    "\n",
    "# empty\n",
    "qc0 = QuantumCircuit(3, 3)\n",
    "\n",
    "# cappucino\n",
    "qc1 = QuantumCircuit(3, 3)\n",
    "qc1.x(2)\n",
    "\n",
    "# coffee\n",
    "qc2 = QuantumCircuit(3, 3)\n",
    "qc2.x(0)\n",
    "qc2.h(1)\n",
    "qc2.z(1)\n",
    "qc2.h(1)\n",
    "\n",
    "# espresso\n",
    "qc3 = QuantumCircuit(3, 3)\n",
    "qc3.x(0)\n",
    "qc3.cx(0, 1)\n",
    "qc3.cx(1, 0)\n",
    "qc3.cx(0, 1)\n",
    "\n",
    "# anything\n",
    "qc4 = QuantumCircuit(3, 3)\n",
    "qc4.h(0)\n",
    "qc4.h(1)\n",
    "qc4.h(2)\n",
    "\n",
    "# without coffein\n",
    "qc5 = QuantumCircuit(3, 3)\n",
    "qc5.h(0)\n",
    "\n",
    "# nothing strong\n",
    "qc6 = QuantumCircuit(3, 3)\n",
    "qc6.h(0)\n",
    "qc6.x(2)\n",
    "\n",
    "# tea or coffee\n",
    "qc7 = QuantumCircuit(3, 3)\n",
    "qc7.h(0)\n",
    "qc7.cx(0, 1);\n"
   ]
  },
  {
   "cell_type": "code",
   "execution_count": null,
   "metadata": {},
   "outputs": [],
   "source": [
    "qcreg = [\n",
    "    {\n",
    "        \"id\": \"empty\",\n",
    "        \"name\": \"From Scratch\",\n",
    "        \"circuit\": qc0\n",
    "    },\n",
    "    {\n",
    "        \"id\": \"cappucino\",\n",
    "        \"name\": \"Only Cappucino\",\n",
    "        \"circuit\": qc1\n",
    "    },\n",
    "    {\n",
    "        \"id\": \"coffee\",\n",
    "        \"name\": \"Only Coffee\",\n",
    "        \"circuit\": qc2\n",
    "    },\n",
    "    {\n",
    "        \"id\": \"espresso\",\n",
    "        \"name\": \"Only Espresso\",\n",
    "        \"circuit\": qc3\n",
    "    },\n",
    "    {\n",
    "        \"id\": \"anything\",\n",
    "        \"name\": \"Just something to drink\",\n",
    "        \"circuit\": qc4\n",
    "    },\n",
    "    {\n",
    "        \"id\": \"withoutcoffein\",\n",
    "        \"name\": \"Without Coffein\",\n",
    "        \"circuit\": qc5\n",
    "    },\n",
    "    {\n",
    "        \"id\": \"nothingstrong\",\n",
    "        \"name\": \"Nothing Strong\",\n",
    "        \"circuit\": qc6\n",
    "    },\n",
    "    {\n",
    "        \"id\": \"teaorcoffee\",\n",
    "        \"name\": \"Tea or Coffee\",\n",
    "        \"circuit\": qc7\n",
    "    }\n",
    "]"
   ]
  },
  {
   "cell_type": "code",
   "execution_count": null,
   "metadata": {},
   "outputs": [],
   "source": [
    "class CircuitExecutor:\n",
    "    \n",
    "    BIT_ORDER = ['000', '001', '010', '011', '100', '101', '110', '111']\n",
    "    \n",
    "    def __init__(self, circuit):\n",
    "        self.circuit = circuit\n",
    "        \n",
    "    def _fill_with_zero(results):\n",
    "        for bit in CircuitExecutor.BIT_ORDER:\n",
    "            if bit not in results:\n",
    "                results[bit] = 0\n",
    "        return results\n",
    "    \n",
    "    def get_maximum_key(results):\n",
    "        max_key = max(results, key=results.get)\n",
    "        return max_key\n",
    "        \n",
    "    def measure(self, num_shots=800):\n",
    "        # copy current circuit\n",
    "        mqc = self.circuit.copy()\n",
    "        # add measurement\n",
    "        mqc.measure(range(3), range(3))\n",
    "        # transpile circuit --> necessary?\n",
    "        # mqc_compiled = transpile(mqc, backend)\n",
    "        # run job and get result\n",
    "        result = backend_noise.run(mqc, shots=num_shots, seed=randint(0, 2500)).result()\n",
    "        counts = result.get_counts(mqc)\n",
    "        # divide by num_shots to get probabilities\n",
    "        for b in counts:\n",
    "            counts[b] = float(counts[b])/num_shots\n",
    "        return CircuitExecutor._fill_with_zero(counts)\n",
    "    \n",
    "    def solve(self):\n",
    "        mqc = self.circuit.copy()\n",
    "        # run circuit on state vector\n",
    "        result = backend_ideal.run(mqc).result()\n",
    "        # get state vector and calculate probabilities\n",
    "        state_vector = result.get_statevector(mqc, decimals=5)\n",
    "        probs = np.abs(state_vector ** 2)\n",
    "        # map back to bit configurations\n",
    "        results = {\n",
    "            key: probs[i] for i, key in enumerate(CircuitExecutor.BIT_ORDER)\n",
    "        }\n",
    "        return CircuitExecutor._fill_with_zero(results)\n",
    "    \n",
    "    def run_on_q(self, num_shots=1, secs_timeout=10):\n",
    "        # copy current circuit\n",
    "        mqc = self.circuit.copy()\n",
    "        # add measurement\n",
    "        mqc.measure(range(3), range(3))\n",
    "        mqc_transpiled = transpile(mqc, backend_ibm)\n",
    "        # run job and get result\n",
    "        job = backend_ibm.run(mqc_transpiled, shots=num_shots)\n",
    "        \n",
    "        counts = None\n",
    "        try:\n",
    "            result = job.result(timeout=secs_timeout, wait=2)\n",
    "            counts = result.get_counts(mqc_transpiled)\n",
    "            # divide by num_shots to get probabilities\n",
    "            for b in counts:\n",
    "                counts[b] = float(counts[b])/num_shots\n",
    "        except Exception as e:\n",
    "            # did not get results, so try to get them from internal measure\n",
    "            print(\"Got error from IBMQ\", e)\n",
    "            counts = self.measure(num_shots=num_shots)\n",
    "        \n",
    "        return CircuitExecutor._fill_with_zero(counts)"
   ]
  },
  {
   "cell_type": "markdown",
   "metadata": {},
   "source": [
    "# Build App"
   ]
  },
  {
   "cell_type": "code",
   "execution_count": null,
   "metadata": {},
   "outputs": [],
   "source": [
    "from ipywidgets import Widget, Button, HTML, VBox, widgets, link, HBox\n",
    "import appwidgets\n",
    "from traitlets import Unicode, Dict, Int, Any, HasTraits\n",
    "from appwidgets import JsPyWidget\n",
    "import json"
   ]
  },
  {
   "cell_type": "markdown",
   "metadata": {},
   "source": [
    "## Build Data Model"
   ]
  },
  {
   "cell_type": "code",
   "execution_count": null,
   "metadata": {},
   "outputs": [],
   "source": [
    "DRINKS = {\n",
    "    \"000\": {\n",
    "        \"id\": \"tea\",\n",
    "        \"name\": \"Tee\",\n",
    "        \"key\": \"ConsumerProducts.CoffeeMaker.Program.Beverage.WarmMilk\",\n",
    "        \"options\": {}\n",
    "    },\n",
    "    \"001\": {\n",
    "        \"id\": \"hotchocolate\",\n",
    "        \"name\": \"Heisse Schokolade\",\n",
    "        \"key\": \"ConsumerProducts.CoffeeMaker.Program.Beverage.MilkFroth\",\n",
    "        \"options\": {}\n",
    "    },\n",
    "    \"010\": {\n",
    "        \"id\": \"espresso\",\n",
    "        \"name\": \"Espresso\",\n",
    "        \"key\": \"ConsumerProducts.CoffeeMaker.Program.Beverage.Espresso\",\n",
    "        \"options\": {}\n",
    "    },\n",
    "    \"011\": {\n",
    "        \"id\": \"coffee\",\n",
    "        \"name\": \"Kaffee\",\n",
    "        \"key\": \"ConsumerProducts.CoffeeMaker.Program.Beverage.Coffee\",\n",
    "        \"options\": {}\n",
    "    },\n",
    "    \"100\": {\n",
    "        \"id\": \"cappucino\",\n",
    "        \"name\": \"Cappucino\",\n",
    "        \"key\": \"ConsumerProducts.CoffeeMaker.Program.Beverage.Cappuccino\",\n",
    "        \"options\": {}\n",
    "    },\n",
    "    \"101\": {\n",
    "        \"id\": \"lattemacchiato\",\n",
    "        \"name\": \"Latte Macchiato\",\n",
    "        \"key\": \"ConsumerProducts.CoffeeMaker.Program.Beverage.LatteMacchiato\",\n",
    "        \"options\": {}\n",
    "    },\n",
    "    \"110\": {\n",
    "        \"id\": \"wienermelange\",\n",
    "        \"name\": \"Wiener Melange\",\n",
    "        \"key\": \"ConsumerProducts.CoffeeMaker.Program.CoffeeWorld.WienerMelange\",\n",
    "        \"options\": {}\n",
    "    },\n",
    "    \"111\": {\n",
    "        \"id\": \"americano\",\n",
    "        \"name\": \"Americano\",\n",
    "        \"key\": \"ConsumerProducts.CoffeeMaker.Program.CoffeeWorld.Americano\",\n",
    "        \"options\": {}\n",
    "    }\n",
    "}"
   ]
  },
  {
   "cell_type": "code",
   "execution_count": null,
   "metadata": {},
   "outputs": [],
   "source": [
    "data = Widget()\n",
    "data.add_traits(\n",
    "    # name of current circuit with which the composer was initialized\n",
    "    composer_init_circuit = Unicode(\"empty\").tag(sync=True),\n",
    "    # current ideal probabilities\n",
    "    histogram_ideal = Dict({\n",
    "        key: 0 for key in DRINKS\n",
    "    }).tag(sync=True),\n",
    "    # current measured probabilities\n",
    "    histogram_measured = Dict({\n",
    "        key: 0 for key in DRINKS\n",
    "    }).tag(sync=True),\n",
    "    # id of drink from single shot measurement\n",
    "    single_shot_result = Dict({\n",
    "        \"name\": \"\",\n",
    "        \"id\": \"\",\n",
    "        \"bit\": \"\"\n",
    "    }).tag(sync=True),\n",
    "    # status of single shot measurements (0 = init, 1 = loading, 2 = done)\n",
    "    single_shot_status = Int().tag(sync=True),\n",
    "    # device on which to perform the single shot\n",
    "    single_shot_device = Unicode(\"simulator\").tag(sync=True),\n",
    "    # composer qasm\n",
    "    qasm = Unicode(\"\").tag(sync=True)\n",
    ")"
   ]
  },
  {
   "cell_type": "markdown",
   "metadata": {},
   "source": [
    "## Build Composer"
   ]
  },
  {
   "cell_type": "code",
   "execution_count": null,
   "metadata": {},
   "outputs": [],
   "source": [
    "composer = CircuitComposer(circuit=qcreg[0]['circuit'])"
   ]
  },
  {
   "cell_type": "code",
   "execution_count": null,
   "metadata": {},
   "outputs": [],
   "source": [
    "# handler for change events\n",
    "def composer_update_handler(change_event):\n",
    "    # there are multiple change events, only use on\n",
    "    if change_event['name'] != \"circuit\":\n",
    "        return\n",
    "    executor = CircuitExecutor(composer.circuit)\n",
    "    # get and save ideal result\n",
    "    result_ideal = executor.solve()\n",
    "    data.histogram_ideal = result_ideal\n",
    "    # get and save measurement\n",
    "    result_measured = executor.measure()\n",
    "    data.histogram_measured = result_measured\n",
    "    # get and save qasm code\n",
    "    qasm = composer.circuit.qasm()\n",
    "    data.qasm = qasm\n",
    "    \n",
    "composer.observe(composer_update_handler)"
   ]
  },
  {
   "cell_type": "code",
   "execution_count": null,
   "metadata": {},
   "outputs": [],
   "source": [
    "# perform single shot measurement\n",
    "def get_single_shot_result():\n",
    "    data.single_shot_status = 1\n",
    "    executor = CircuitExecutor(composer.circuit)\n",
    "    counts = None\n",
    "    if data.single_shot_device == \"ibmq\":\n",
    "        counts = executor.run_on_q(num_shots=1, secs_timeout=60)\n",
    "    else:\n",
    "        counts = executor.measure(num_shots=1)\n",
    "        \n",
    "    bits = CircuitExecutor.get_maximum_key(counts)\n",
    "    data.single_shot_result = {\n",
    "        \"bit\": bits,\n",
    "        \"id\": DRINKS[bits][\"id\"],\n",
    "        \"name\": DRINKS[bits][\"name\"]\n",
    "    }\n",
    "    time.sleep(1.5)\n",
    "    data.single_shot_status = 2\n",
    "    return bits"
   ]
  },
  {
   "cell_type": "code",
   "execution_count": null,
   "metadata": {},
   "outputs": [],
   "source": [
    "def request_drink():\n",
    "    # get result from single shot measurement\n",
    "    bit = data.single_shot_result['bit']\n",
    "    drink_key = DRINKS[bit]['key']\n",
    "    drink_options = DRINKS[bit]['options']\n",
    "    \n",
    "    def response_handler(res):\n",
    "        if 'error' in res:\n",
    "            app.view = 'error'\n",
    "        else:\n",
    "            app.view = 'success'\n",
    "    \n",
    "    jspy.execute_js(\n",
    "        \"window.requestDrink(\"+json.dumps(drink_key)+\", \"+json.dumps(drink_options)+\")\",\n",
    "        response_handler\n",
    "    )"
   ]
  },
  {
   "cell_type": "code",
   "execution_count": null,
   "metadata": {},
   "outputs": [],
   "source": [
    "def open_circuit_on_ibmq():\n",
    "    qasm = data.qasm\n",
    "    jspy.execute_js(\n",
    "        \"window.openQRCodeIBMQ(\"+json.dumps(qasm)+\")\",\n",
    "    )"
   ]
  },
  {
   "cell_type": "markdown",
   "metadata": {},
   "source": [
    "## Build views"
   ]
  },
  {
   "cell_type": "code",
   "execution_count": null,
   "metadata": {},
   "outputs": [],
   "source": [
    "app = appwidgets.AppBox(init_view='welcome')\n",
    "jspy = JsPyWidget()"
   ]
  },
  {
   "cell_type": "markdown",
   "metadata": {},
   "source": [
    "### Welcome View"
   ]
  },
  {
   "cell_type": "code",
   "execution_count": null,
   "metadata": {},
   "outputs": [],
   "source": [
    "view1 = appwidgets.ReactiveHtmlWidget(\"\"\"\n",
    "    <h1>Welcome to Qoffee Maker</h1>\n",
    "    <button class=\"btn btn-primary\" data-rh-exec=\"app.view='startingpoints'\">Get your coffee</button>\n",
    "\"\"\")"
   ]
  },
  {
   "cell_type": "markdown",
   "metadata": {},
   "source": [
    "### Starting Point View"
   ]
  },
  {
   "cell_type": "code",
   "execution_count": null,
   "metadata": {},
   "outputs": [],
   "source": [
    "view2_header = HTML(\"<h1>Choose your starting point</h1>\")\n",
    "view2_elements = [view2_header]\n",
    "\n",
    "def get_click_button_handler(cid, circuit):\n",
    "    def click_button_handler(*args):\n",
    "        data.composer_init_circuit = cid\n",
    "        data.single_shot_device = 'simulator'\n",
    "        data.single_shot_status = 0\n",
    "        composer.circuit = circuit\n",
    "        app.view = 'composer'\n",
    "    return click_button_handler\n",
    "\n",
    "for qc in qcreg:\n",
    "    qc_button = Button(\n",
    "        description=qc[\"name\"]\n",
    "    )\n",
    "    qc_button.on_click(get_click_button_handler(qc[\"id\"], qc[\"circuit\"]))\n",
    "    view2_elements.append(qc_button)\n",
    "\n",
    "view2 = VBox(view2_elements)"
   ]
  },
  {
   "cell_type": "markdown",
   "metadata": {},
   "source": [
    "### Composer View"
   ]
  },
  {
   "cell_type": "code",
   "execution_count": null,
   "metadata": {},
   "outputs": [],
   "source": [
    "view3_header = HTML(\"\"\"\n",
    "    <h1>Build your quantum circuit</h1>\n",
    "    <p>Drag and drop gates on the circuit to build the circuit</p>\n",
    "\"\"\")\n",
    "\n",
    "\n",
    "hist_html = \"\"\n",
    "for key, value in DRINKS.items():\n",
    "    hist_html += \"\"\"\n",
    "        <div class=\"histogram-entry\">\n",
    "            <div class=\"histogram-bar-container\">\n",
    "                <div class=\"histogram-bar-outer\">\n",
    "                    <div style=\"height: {{${histogram_ideal}['\"\"\"+key+\"\"\"']*100}}%\" class=\"histogram-bar histogram-bar-ideal histogram-bar-\"\"\"+key+\"\"\"\"></div>\n",
    "                    <div style=\"height: {{${histogram_measured}['\"\"\"+key+\"\"\"']*100}}%\" class=\"histogram-bar histogram-bar-measured histogram-bar-\"\"\"+key+\"\"\"\"></div>\n",
    "                </div>\n",
    "            </div>\n",
    "            <div class=\"histogram-text-container\">\n",
    "                <p>\"\"\"+value[\"name\"]+\"\"\"<br/><span class=\"histogram-text histogram-text-ideal histogram-text-\"\"\"+key+\"\"\"\"\">{{int(${histogram_measured}['\"\"\"+key+\"\"\"']*1000)/10}}%</span></p>\n",
    "            </div>\n",
    "        </div>\n",
    "    \"\"\"\n",
    "\n",
    "view3_hist = appwidgets.ReactiveHtmlWidget(\"\"\"\n",
    "<div id=\"composer-histogram-container\">\n",
    "    <div id=\"composer-histogram\">\"\"\"+hist_html+\"\"\"</div>\n",
    "</div>\n",
    "\"\"\", data_model=data)\n",
    "\n",
    "\n",
    "view3_singleshot = appwidgets.ReactiveHtmlWidget(\"\"\"\n",
    "    <div id=\"composer-singleshot-container\">\n",
    "        <div id=\"composer-singleshot\">\n",
    "            <button class=\"btn btn-default btn-block\" data-rh-set='single_shot_device=\"ibmq\"' data-rh-if='${single_shot_device}==\"simulator\"'>Benutze IBM Q</button>\n",
    "            <button class=\"btn btn-default btn-block\" data-rh-set='single_shot_device=\"simulator\"' data-rh-if='${single_shot_device}==\"ibmq\"'>Benutze Simulator</button>\n",
    "            <br/>\n",
    "            <button class=\"btn btn-primary btn-block\" data-rh-exec=\"get_single_shot_result()\">Do measurement</button>\n",
    "            <br/>\n",
    "            <div data-rh-if='${single_shot_status}==1'>\n",
    "                Loading...\n",
    "            </div>\n",
    "            <div data-rh-if='${single_shot_status}==2'>\n",
    "                <p>You got: <b>{{${single_shot_result}[\"name\"]}}</b>\n",
    "                <button class=\"btn btn-primary btn-block\" data-rh-exec=\"request_drink()\">Okay</button>\n",
    "            </div>\n",
    "            <br/>\n",
    "            <button class=\"btn btn-default btn-block\" data-rh-exec=\"open_circuit_on_ibmq()\">In IBM Q öffnen</button>\n",
    "            <button class=\"btn btn-default btn-block\" data-rh-exec=\"app.view='startingpoints'\">Back</button>\n",
    "        </div>\n",
    "    </div>\n",
    "\"\"\", data_model=data)\n",
    "\n",
    "view3_hist.load_css(\"./css/histogram.css\")"
   ]
  },
  {
   "cell_type": "code",
   "execution_count": null,
   "metadata": {},
   "outputs": [],
   "source": [
    "view3 = VBox([\n",
    "    view3_header, \n",
    "    composer,\n",
    "    HBox([\n",
    "        view3_hist, view3_singleshot\n",
    "    ])\n",
    "])"
   ]
  },
  {
   "cell_type": "code",
   "execution_count": null,
   "metadata": {},
   "outputs": [],
   "source": [
    "view4 = appwidgets.ReactiveHtmlWidget(\"\"\"\n",
    "    <h1>Oh no, something went wrong :/</h1>\n",
    "    <button class=\"btn btn-default btn-block\" data-rh-exec=\"app.view='welcome'\">Back</button>\n",
    "\"\"\")\n",
    "\n",
    "\n",
    "view5 = appwidgets.ReactiveHtmlWidget(\"\"\"\n",
    "    <h1>Thank you and enjoy your coffee :)</h1>\n",
    "    <button class=\"btn btn-default btn-block\" data-rh-exec=\"app.view='welcome'\">Back</button>\n",
    "\"\"\")"
   ]
  },
  {
   "cell_type": "code",
   "execution_count": null,
   "metadata": {},
   "outputs": [],
   "source": [
    "app.add_widget('welcome', view1)\n",
    "app.add_widget('startingpoints', view2)\n",
    "app.add_widget('composer', view3)\n",
    "app.add_widget('error', view4)\n",
    "app.add_widget('success', view5)"
   ]
  },
  {
   "cell_type": "markdown",
   "metadata": {},
   "source": [
    "# And go..."
   ]
  },
  {
   "cell_type": "code",
   "execution_count": null,
   "metadata": {},
   "outputs": [],
   "source": [
    "### APP\n",
    "app"
   ]
  },
  {
   "cell_type": "code",
   "execution_count": null,
   "metadata": {},
   "outputs": [],
   "source": []
  },
  {
   "cell_type": "code",
   "execution_count": null,
   "metadata": {},
   "outputs": [],
   "source": []
  }
 ],
 "metadata": {
  "kernelspec": {
   "display_name": "Python 3 (ipykernel)",
   "language": "python",
   "name": "python3"
  },
  "language_info": {
   "codemirror_mode": {
    "name": "ipython",
    "version": 3
   },
   "file_extension": ".py",
   "mimetype": "text/x-python",
   "name": "python",
   "nbconvert_exporter": "python",
   "pygments_lexer": "ipython3",
   "version": "3.9.7"
  },
  "widgets": {
   "application/vnd.jupyter.widget-state+json": {
    "state": {
     "01d8b8455769463b81db8be90e017944": {
      "model_module": "@jupyter-widgets/base",
      "model_module_version": "1.2.0",
      "model_name": "LayoutModel",
      "state": {}
     },
     "02c508a74b824eb3be037723df83f0d7": {
      "model_module": "@jupyter-widgets/base",
      "model_module_version": "1.2.0",
      "model_name": "LayoutModel",
      "state": {}
     },
     "02d7624289b845d0891f7d59db8b7e17": {
      "model_module": "@jupyter-widgets/base",
      "model_module_version": "1.2.0",
      "model_name": "LayoutModel",
      "state": {}
     },
     "07442454242140f780b373e9f9a07573": {
      "model_module": "@jupyter-widgets/base",
      "model_module_version": "1.2.0",
      "model_name": "LayoutModel",
      "state": {}
     },
     "084aa8db2966400bad5e63450ffce96c": {
      "model_module": "@jupyter-widgets/controls",
      "model_module_version": "1.5.0",
      "model_name": "ButtonModel",
      "state": {
       "description": "Only Cappucino",
       "layout": "IPY_MODEL_af06b2484275408ca02dc957fda45d51",
       "style": "IPY_MODEL_7cc13ea3771f419b83e9ac93776671a4"
      }
     },
     "09c5f2faecf04adeaee50bf38a69b1a3": {
      "model_module": "@jupyter-widgets/controls",
      "model_module_version": "1.5.0",
      "model_name": "ButtonStyleModel",
      "state": {}
     },
     "0b18c88c3c174ff7876ec9e06ef78f0f": {
      "model_module": "@quantum/ibm-q-lab-widgets",
      "model_module_version": "^1.0.3",
      "model_name": "CircuitComposerModel",
      "state": {
       "_model_module_version": "^1.0.3",
       "_view_module_version": "^1.0.3",
       "circuit": "\"OPENQASM 2.0;\\ninclude \\\"qelib1.inc\\\";\\n\\nqreg q[3];\\ncreg c[3];\\n\\nx q[2];\"",
       "editable": true,
       "layout": "IPY_MODEL_e0833f95209f480db1f8534a5f7ee0af",
       "qiskit_code_cell_index": -1
      }
     },
     "0b479d53a92e411fa3b79f2989cf0b2f": {
      "model_module": "@jupyter-widgets/controls",
      "model_module_version": "1.5.0",
      "model_name": "ButtonModel",
      "state": {
       "description": "Just something to drink",
       "layout": "IPY_MODEL_8d8c773739cc474a9546881a83d83c35",
       "style": "IPY_MODEL_78607845e29d4e2ab1c9fca9d9dbbcd2"
      }
     },
     "102b7d4a2a6c42188d545ad04eb1c57b": {
      "model_module": "@jupyter-widgets/base",
      "model_module_version": "1.2.0",
      "model_name": "LayoutModel",
      "state": {}
     },
     "120f5b56e8b84d3ca7e2ce9d2d3abf5f": {
      "model_module": "@jupyter-widgets/controls",
      "model_module_version": "1.5.0",
      "model_name": "DescriptionStyleModel",
      "state": {
       "description_width": ""
      }
     },
     "14db856b1c9642a8859cae3b4e748b98": {
      "model_module": "@jupyter-widgets/base",
      "model_module_version": "1.2.0",
      "model_name": "LayoutModel",
      "state": {}
     },
     "14dcf8e351f74f299dec1a2e4050191a": {
      "model_module": "@jupyter-widgets/base",
      "model_module_version": "1.2.0",
      "model_name": "LayoutModel",
      "state": {}
     },
     "1569c24697b84350b2749313299ed453": {
      "model_module": "@jupyter-widgets/base",
      "model_module_version": "1.2.0",
      "model_name": "LayoutModel",
      "state": {}
     },
     "1754dabf4b90402d86057da6cb15ab07": {
      "model_module": "@jupyter-widgets/controls",
      "model_module_version": "1.5.0",
      "model_name": "ButtonStyleModel",
      "state": {}
     },
     "1962017ee1894635b8f08f0e7a127e55": {
      "model_module": "@jupyter-widgets/base",
      "model_module_version": "1.2.0",
      "model_name": "LayoutModel",
      "state": {}
     },
     "197fbb6735364ac29981f9ef6b7828d4": {
      "model_module": "@jupyter-widgets/controls",
      "model_module_version": "1.5.0",
      "model_name": "ButtonStyleModel",
      "state": {}
     },
     "1b6e2abc8c1e4e1fa37773e477e3f1d5": {
      "model_module": "@jupyter-widgets/controls",
      "model_module_version": "1.5.0",
      "model_name": "ButtonModel",
      "state": {
       "description": "Only Espresso",
       "layout": "IPY_MODEL_01d8b8455769463b81db8be90e017944",
       "style": "IPY_MODEL_4959b223bf69434daae54fee2d1e9180"
      }
     },
     "1c1cceac3ea546f2b8a78cd019c6ac4d": {
      "model_module": "@jupyter-widgets/base",
      "model_module_version": "1.2.0",
      "model_name": "LayoutModel",
      "state": {}
     },
     "1ce4469254464fde94546e915b5b8ac4": {
      "model_module": "@jupyter-widgets/base",
      "model_module_version": "1.2.0",
      "model_name": "LayoutModel",
      "state": {}
     },
     "21e05983d8d647dd90de3ae409a022a4": {
      "model_module": "@jupyter-widgets/controls",
      "model_module_version": "1.5.0",
      "model_name": "ButtonStyleModel",
      "state": {}
     },
     "2221dd8a0fbd4d72906e5867f7e9f8fd": {
      "model_module": "appwidgets",
      "model_module_version": "^0.1.0",
      "model_name": "JsPyModel",
      "state": {
       "_model_module_version": "^0.1.0",
       "_view_module": null,
       "_view_module_version": ""
      }
     },
     "239c1f31ed6c46e0bd480d797a23654a": {
      "model_module": "@jupyter-widgets/base",
      "model_module_version": "1.2.0",
      "model_name": "LayoutModel",
      "state": {}
     },
     "273312139fc844d0947b5c4fd5be5333": {
      "model_module": "appwidgets",
      "model_module_version": "^0.1.0",
      "model_name": "ReactiveHtmlModel",
      "state": {
       "_css": "",
       "_model_module_version": "^0.1.0",
       "_rendered": "\n<h1>Welcome to Qoffee Maker</h1>\n<button class=\"btn btn-primary\" data-rh-exec=\"app.view='startingpoints'\">Get your coffee</button>\n",
       "_view_module_version": "^0.1.0",
       "layout": "IPY_MODEL_2fb63129dc0e493db594b9c7b1478b9c"
      }
     },
     "281a50cb4b1e4d618593949c4dc2c5b5": {
      "model_module": "@jupyter-widgets/base",
      "model_module_version": "1.2.0",
      "model_name": "LayoutModel",
      "state": {}
     },
     "284949c855d24b9a99c19d700970a12c": {
      "model_module": "@jupyter-widgets/controls",
      "model_module_version": "1.5.0",
      "model_name": "ButtonModel",
      "state": {
       "description": "Nothing Strong",
       "layout": "IPY_MODEL_c0694b347b55422ea7a2690027ecc2f6",
       "style": "IPY_MODEL_554b44a69cb64c7f858ab878fda4c77e"
      }
     },
     "2b3627324c784151b4a65b9144bfcf0f": {
      "model_module": "appwidgets",
      "model_module_version": "^0.1.0",
      "model_name": "ReactiveHtmlModel",
      "state": {
       "_css": "",
       "_model_module_version": "^0.1.0",
       "_rendered": "\n<h1>Thank you and enjoy your coffee :)</h1>\n",
       "_view_module_version": "^0.1.0",
       "layout": "IPY_MODEL_f082c7a7a8bc4bcbaf1c0960d011a8ce"
      }
     },
     "2b44f159116746f5845e125f34b6e418": {
      "model_module": "@jupyter-widgets/base",
      "model_module_version": "1.2.0",
      "model_name": "LayoutModel",
      "state": {}
     },
     "2bfd7d9470e14a3b9bc513fa9adbf6c1": {
      "model_module": "@jupyter-widgets/controls",
      "model_module_version": "1.5.0",
      "model_name": "ButtonStyleModel",
      "state": {}
     },
     "2c3c2da34a9d4951a801747af8372a2c": {
      "model_module": "appwidgets",
      "model_module_version": "^0.1.0",
      "model_name": "ReactiveHtmlModel",
      "state": {
       "_css": "",
       "_model_module_version": "^0.1.0",
       "_rendered": "\n<h1>Oh no, something went wrong :/</h1>\n",
       "_view_module_version": "^0.1.0",
       "layout": "IPY_MODEL_39349b84be60450cb89bb33f32c2079a"
      }
     },
     "2d376cea017145bf86b1873aca63613a": {
      "model_module": "@jupyter-widgets/controls",
      "model_module_version": "1.5.0",
      "model_name": "ButtonStyleModel",
      "state": {}
     },
     "2d41d7dfbc464f7aa9392d8d601e1478": {
      "model_module": "@jupyter-widgets/base",
      "model_module_version": "1.2.0",
      "model_name": "LayoutModel",
      "state": {}
     },
     "2d87d687f6704716b445bbce082b4d54": {
      "model_module": "@jupyter-widgets/base",
      "model_module_version": "1.2.0",
      "model_name": "LayoutModel",
      "state": {}
     },
     "2fb63129dc0e493db594b9c7b1478b9c": {
      "model_module": "@jupyter-widgets/base",
      "model_module_version": "1.2.0",
      "model_name": "LayoutModel",
      "state": {}
     },
     "31817dd6fd664f7596db4442ca5349ad": {
      "model_module": "@jupyter-widgets/controls",
      "model_module_version": "1.5.0",
      "model_name": "HTMLModel",
      "state": {
       "layout": "IPY_MODEL_2d41d7dfbc464f7aa9392d8d601e1478",
       "style": "IPY_MODEL_d9578f2d7adf443498d415a582315adc",
       "value": "<h1>Choose your starting point</h1>"
      }
     },
     "3866365b8fd1487eb0419972580419c9": {
      "model_module": "@jupyter-widgets/base",
      "model_module_version": "1.2.0",
      "model_name": "LayoutModel",
      "state": {}
     },
     "39349b84be60450cb89bb33f32c2079a": {
      "model_module": "@jupyter-widgets/base",
      "model_module_version": "1.2.0",
      "model_name": "LayoutModel",
      "state": {}
     },
     "397c8284156b488a85c4f12287d13518": {
      "model_module": "@jupyter-widgets/controls",
      "model_module_version": "1.5.0",
      "model_name": "ButtonModel",
      "state": {
       "description": "From Scratch",
       "layout": "IPY_MODEL_90986a8ab4624829b5e97f6dfe1fe762",
       "style": "IPY_MODEL_998bf6ae33dc4909be08ec432e7a8584"
      }
     },
     "3b6a7b79a236444c92e6394e84ddd29d": {
      "model_module": "@jupyter-widgets/base",
      "model_module_version": "1.2.0",
      "model_name": "LayoutModel",
      "state": {}
     },
     "3dbc7157a2df426280fc2ad3b480e7bf": {
      "model_module": "@jupyter-widgets/controls",
      "model_module_version": "1.5.0",
      "model_name": "ButtonStyleModel",
      "state": {}
     },
     "3e7a61dac0604cce9bb08d8e198cf15c": {
      "model_module": "@jupyter-widgets/controls",
      "model_module_version": "1.5.0",
      "model_name": "ButtonModel",
      "state": {
       "description": "Only Espresso",
       "layout": "IPY_MODEL_adf3980e6aa348ed8882614228cf6369",
       "style": "IPY_MODEL_2d376cea017145bf86b1873aca63613a"
      }
     },
     "3e8185a35c24458ba4178837580e3103": {
      "model_module": "@jupyter-widgets/base",
      "model_module_version": "1.2.0",
      "model_name": "LayoutModel",
      "state": {}
     },
     "3eac1908bb574b198d489be527183441": {
      "model_module": "@jupyter-widgets/controls",
      "model_module_version": "1.5.0",
      "model_name": "ButtonStyleModel",
      "state": {}
     },
     "3fb26d15a77e4e31b241532785aca08f": {
      "model_module": "@jupyter-widgets/controls",
      "model_module_version": "1.5.0",
      "model_name": "ButtonModel",
      "state": {
       "description": "Only Coffee",
       "layout": "IPY_MODEL_d17be6b5bb404d99a57d89e2137c7a19",
       "style": "IPY_MODEL_dc00626e64ee4643b8fe37aa8a2e4129"
      }
     },
     "4363f09b746a4955bae21efc82089721": {
      "model_module": "@jupyter-widgets/base",
      "model_module_version": "1.2.0",
      "model_name": "WidgetModel",
      "state": {
       "_view_module": null,
       "_view_module_version": "",
       "composer_init_circuit": "cappucino",
       "histogram_ideal": {
        "000": 0,
        "001": 0,
        "010": 0,
        "011": 0,
        "100": 1,
        "101": 0,
        "110": 0,
        "111": 0
       },
       "histogram_measured": {
        "000": 0,
        "001": 0,
        "010": 0,
        "011": 0,
        "100": 1,
        "101": 0,
        "110": 0,
        "111": 0
       },
       "qasm": "OPENQASM 2.0;\ninclude \"qelib1.inc\";\nqreg q[3];\ncreg c[3];\nx q[2];\n",
       "single_shot_device": "simulator",
       "single_shot_result": {
        "bit": "",
        "id": "",
        "name": ""
       },
       "single_shot_status": 0
      }
     },
     "438fd27cf66347b0bf72af3013984ac4": {
      "model_module": "@jupyter-widgets/controls",
      "model_module_version": "1.5.0",
      "model_name": "ButtonModel",
      "state": {
       "description": "Only Coffee",
       "layout": "IPY_MODEL_7cb7fde5079047ef929bb64dde21ba57",
       "style": "IPY_MODEL_59a7ef1f479f431da3f8cf1121f85749"
      }
     },
     "44ac253ee6cc4a2c8c7feaa62b259d0a": {
      "model_module": "@jupyter-widgets/base",
      "model_module_version": "1.2.0",
      "model_name": "LayoutModel",
      "state": {}
     },
     "45c52347dca744d99ddbf6e61d488e6b": {
      "model_module": "@jupyter-widgets/controls",
      "model_module_version": "1.5.0",
      "model_name": "ButtonModel",
      "state": {
       "description": "Tea or Coffee",
       "layout": "IPY_MODEL_e817e222f5ce43acabc3b08d6ff6708e",
       "style": "IPY_MODEL_6df16c94055449ad954f5d39ba1c1d7e"
      }
     },
     "4959b223bf69434daae54fee2d1e9180": {
      "model_module": "@jupyter-widgets/controls",
      "model_module_version": "1.5.0",
      "model_name": "ButtonStyleModel",
      "state": {}
     },
     "4b02c72d2c3a421fa55f989b82318a1f": {
      "model_module": "@jupyter-widgets/base",
      "model_module_version": "1.2.0",
      "model_name": "LayoutModel",
      "state": {}
     },
     "4b997dc2a3934475ac722c4900042ba0": {
      "model_module": "@jupyter-widgets/base",
      "model_module_version": "1.2.0",
      "model_name": "WidgetModel",
      "state": {
       "_view_module": null,
       "_view_module_version": "",
       "composer_init_circuit": "cappucino",
       "histogram_ideal": {
        "000": 0,
        "001": 0,
        "010": 0,
        "011": 0,
        "100": 1,
        "101": 0,
        "110": 0,
        "111": 0
       },
       "histogram_measured": {
        "000": 0,
        "001": 0,
        "010": 0,
        "011": 0,
        "100": 1,
        "101": 0,
        "110": 0,
        "111": 0
       },
       "qasm": "OPENQASM 2.0;\ninclude \"qelib1.inc\";\nqreg q[3];\ncreg c[3];\nx q[2];\n",
       "single_shot_device": "simulator",
       "single_shot_result": {
        "bit": "111",
        "id": "americano",
        "name": "Americano"
       },
       "single_shot_status": 0
      }
     },
     "4b9c7301ff7640d49b35ba8bd9b26233": {
      "model_module": "@jupyter-widgets/controls",
      "model_module_version": "1.5.0",
      "model_name": "VBoxModel",
      "state": {
       "children": [
        "IPY_MODEL_b4ee2dee4b8d442fb09f984d0153a17e",
        "IPY_MODEL_e48efe2f3d834443afc68a3c4ada9623",
        "IPY_MODEL_a5c82790c6a94ffaad8e79fdb51be0c5"
       ],
       "layout": "IPY_MODEL_afddf380f6ee4a24b4906b34f5f37a51"
      }
     },
     "4ca81d02a39e4879a473c75977804ffb": {
      "model_module": "@jupyter-widgets/controls",
      "model_module_version": "1.5.0",
      "model_name": "HTMLModel",
      "state": {
       "layout": "IPY_MODEL_78f17972e1ad40458123e29e9eb7ce69",
       "style": "IPY_MODEL_120f5b56e8b84d3ca7e2ce9d2d3abf5f",
       "value": "\n    <h1>Build your quantum circuit</h1>\n    <p>Drag and drop gates on the circuit to build the circuit</p>\n"
      }
     },
     "4d72b8ed24ff4289b258c8e7058f0de1": {
      "model_module": "@jupyter-widgets/base",
      "model_module_version": "1.2.0",
      "model_name": "LayoutModel",
      "state": {}
     },
     "4ea4d57b7a724e32a38e8deeda0911ae": {
      "model_module": "@jupyter-widgets/controls",
      "model_module_version": "1.5.0",
      "model_name": "VBoxModel",
      "state": {
       "children": [
        "IPY_MODEL_31817dd6fd664f7596db4442ca5349ad",
        "IPY_MODEL_397c8284156b488a85c4f12287d13518",
        "IPY_MODEL_c369778d1ff641a2aa7cd8e0a7adf490",
        "IPY_MODEL_3fb26d15a77e4e31b241532785aca08f",
        "IPY_MODEL_3e7a61dac0604cce9bb08d8e198cf15c",
        "IPY_MODEL_6244cd69374b437e8575cf00ae6c1cc3",
        "IPY_MODEL_5d0793f0e706488382dfed9e8495aadc",
        "IPY_MODEL_8cbd2b54c38a4da2862b699e2b761898",
        "IPY_MODEL_45c52347dca744d99ddbf6e61d488e6b"
       ],
       "layout": "IPY_MODEL_a841c7d5cd5f4a8680740e143d5b4cb8"
      }
     },
     "525f8ea8d59e4d9190cb67e7d149d94e": {
      "model_module": "appwidgets",
      "model_module_version": "^0.1.0",
      "model_name": "ReactiveHtmlModel",
      "state": {
       "_css": "",
       "_model_module_version": "^0.1.0",
       "_rendered": "\n<div id=\"composer-singleshot-container\">\n<div id=\"composer-singleshot\">\n<button class=\"btn btn-default btn-block\" data-rh-if='simulator==\"simulator\"' data-rh-set='single_shot_device=\"ibmq\"'>Benutze IBM Q</button>\n\n<br/>\n<button class=\"btn btn-primary btn-block\" data-rh-exec=\"get_single_shot_result()\">Messung vornehmen</button>\n<br/>\n\n\n<br/>\n<button class=\"btn btn-default btn-block\" data-rh-exec-js=\"openQRCodeIBMQ()\">In IBM Q öffnen</button>\n<button class=\"btn btn-default btn-block\" data-rh-exec=\"app.view='startingpoints'\">Zurück</button>\n</div>\n</div>\n",
       "_view_module_version": "^0.1.0",
       "layout": "IPY_MODEL_e429f6696e5d42e3bb376e75b76d5f0b"
      }
     },
     "54f114eb84c74c0a91927da06f835e51": {
      "model_module": "@jupyter-widgets/controls",
      "model_module_version": "1.5.0",
      "model_name": "ButtonModel",
      "state": {
       "description": "Just something to drink",
       "layout": "IPY_MODEL_281a50cb4b1e4d618593949c4dc2c5b5",
       "style": "IPY_MODEL_2bfd7d9470e14a3b9bc513fa9adbf6c1"
      }
     },
     "554b44a69cb64c7f858ab878fda4c77e": {
      "model_module": "@jupyter-widgets/controls",
      "model_module_version": "1.5.0",
      "model_name": "ButtonStyleModel",
      "state": {}
     },
     "59a7ef1f479f431da3f8cf1121f85749": {
      "model_module": "@jupyter-widgets/controls",
      "model_module_version": "1.5.0",
      "model_name": "ButtonStyleModel",
      "state": {}
     },
     "5a2eec3ec0034ecfaed105884fc95196": {
      "model_module": "@jupyter-widgets/base",
      "model_module_version": "1.2.0",
      "model_name": "LayoutModel",
      "state": {}
     },
     "5d0793f0e706488382dfed9e8495aadc": {
      "model_module": "@jupyter-widgets/controls",
      "model_module_version": "1.5.0",
      "model_name": "ButtonModel",
      "state": {
       "description": "Without Coffein",
       "layout": "IPY_MODEL_eafb2c50516747658d4180bcc3ba6ad8",
       "style": "IPY_MODEL_d756781fe86d4a07b01f03dedaa138a1"
      }
     },
     "60195d57bd3648a393713f783fec60b9": {
      "model_module": "@jupyter-widgets/controls",
      "model_module_version": "1.5.0",
      "model_name": "DescriptionStyleModel",
      "state": {
       "description_width": ""
      }
     },
     "611bbac8b4ca4295ad61d5ea2c734aab": {
      "model_module": "@jupyter-widgets/base",
      "model_module_version": "1.2.0",
      "model_name": "LayoutModel",
      "state": {}
     },
     "6244cd69374b437e8575cf00ae6c1cc3": {
      "model_module": "@jupyter-widgets/controls",
      "model_module_version": "1.5.0",
      "model_name": "ButtonModel",
      "state": {
       "description": "Just something to drink",
       "layout": "IPY_MODEL_2d87d687f6704716b445bbce082b4d54",
       "style": "IPY_MODEL_21e05983d8d647dd90de3ae409a022a4"
      }
     },
     "62af7c382f12415ebb4dab55282e492a": {
      "model_module": "appwidgets",
      "model_module_version": "^0.1.0",
      "model_name": "ReactiveHtmlModel",
      "state": {
       "_css": "\n/*\n\n\tHistogram\n\n*/\n\n.<<VIEW_ID>> #composer-histogram-container {\n\n\twidth: 100%;\n\n\theight: 30vh;\n\n\tpadding: 0 10px 0 10px;\n\n}\n\n.<<VIEW_ID>> #composer-histogram-container #composer-histogram {\n\n\twidth: 100%;\n\n\theight: 100%;\n\n\tdisplay: flex;\n\n\tflex-direction: row;\n\n\tjustify-content: space-evenly;\n\n\talign-items: stretch;\n\n}\n\n.<<VIEW_ID>> #composer-histogram .histogram-entry {\n\n\tposition: relative;\n\n\tflex: 0 0 12.5%;\n\n}\n\n.<<VIEW_ID>> #composer-histogram .histogram-entry p {\n\n\ttext-align: center;\n\n}\n\n.<<VIEW_ID>> #composer-histogram .histogram-bar-container {\n\n\tposition: relative;\n\n\theight: 80%;\n\n}\n\n.<<VIEW_ID>> #composer-histogram .histogram-bar-outer {\n\n\twidth: 30px;\n\n\tleft: 50%;\n\n\tmargin-left: -15px;\n\n\theight: 100%;\n\n\tposition: relative;\n\n\tbackground-color: lightgray;\n\n}\n\n.<<VIEW_ID>> #composer-histogram .histogram-bar {\n\n\tbackground-color: blue;\n\n\tposition: absolute;\n\n\tbottom: 0;\n\n\theight: 0;\n\n\twidth: 50%;\n\n}\n\n.<<VIEW_ID>> #composer-histogram .histogram-bar-ideal {\n\n\tbackground-color: blue;\n\n\tleft: 0;\n\n}\n\n.<<VIEW_ID>> #composer-histogram .histogram-bar-measured {\n\n\tbackground-color: purple;\n\n\tleft: 50%;\n\n}",
       "_model_module_version": "^0.1.0",
       "_rendered": "\n<div id=\"composer-histogram-container\">\n<div id=\"composer-histogram\">\n<div class=\"histogram-entry\">\n<div class=\"histogram-bar-container\">\n<div class=\"histogram-bar-outer\">\n<div class=\"histogram-bar histogram-bar-ideal histogram-bar-000\" style=\"height: 0.0%\"></div>\n<div class=\"histogram-bar histogram-bar-measured histogram-bar-000\" style=\"height: 0%\"></div>\n</div>\n</div>\n<div class=\"histogram-text-container\">\n<p>Tee<br/><span \"=\"\" class=\"histogram-text histogram-text-ideal histogram-text-000\">0.0%</span></p>\n</div>\n</div>\n<div class=\"histogram-entry\">\n<div class=\"histogram-bar-container\">\n<div class=\"histogram-bar-outer\">\n<div class=\"histogram-bar histogram-bar-ideal histogram-bar-001\" style=\"height: 0.0%\"></div>\n<div class=\"histogram-bar histogram-bar-measured histogram-bar-001\" style=\"height: 0%\"></div>\n</div>\n</div>\n<div class=\"histogram-text-container\">\n<p>Heisse Schokolade<br/><span \"=\"\" class=\"histogram-text histogram-text-ideal histogram-text-001\">0.0%</span></p>\n</div>\n</div>\n<div class=\"histogram-entry\">\n<div class=\"histogram-bar-container\">\n<div class=\"histogram-bar-outer\">\n<div class=\"histogram-bar histogram-bar-ideal histogram-bar-010\" style=\"height: 0.0%\"></div>\n<div class=\"histogram-bar histogram-bar-measured histogram-bar-010\" style=\"height: 0%\"></div>\n</div>\n</div>\n<div class=\"histogram-text-container\">\n<p>Espresso<br/><span \"=\"\" class=\"histogram-text histogram-text-ideal histogram-text-010\">0.0%</span></p>\n</div>\n</div>\n<div class=\"histogram-entry\">\n<div class=\"histogram-bar-container\">\n<div class=\"histogram-bar-outer\">\n<div class=\"histogram-bar histogram-bar-ideal histogram-bar-011\" style=\"height: 0.0%\"></div>\n<div class=\"histogram-bar histogram-bar-measured histogram-bar-011\" style=\"height: 0%\"></div>\n</div>\n</div>\n<div class=\"histogram-text-container\">\n<p>Kaffee<br/><span \"=\"\" class=\"histogram-text histogram-text-ideal histogram-text-011\">0.0%</span></p>\n</div>\n</div>\n<div class=\"histogram-entry\">\n<div class=\"histogram-bar-container\">\n<div class=\"histogram-bar-outer\">\n<div class=\"histogram-bar histogram-bar-ideal histogram-bar-100\" style=\"height: 100.0%\"></div>\n<div class=\"histogram-bar histogram-bar-measured histogram-bar-100\" style=\"height: 100.0%\"></div>\n</div>\n</div>\n<div class=\"histogram-text-container\">\n<p>Cappucino<br/><span \"=\"\" class=\"histogram-text histogram-text-ideal histogram-text-100\">100.0%</span></p>\n</div>\n</div>\n<div class=\"histogram-entry\">\n<div class=\"histogram-bar-container\">\n<div class=\"histogram-bar-outer\">\n<div class=\"histogram-bar histogram-bar-ideal histogram-bar-101\" style=\"height: 0.0%\"></div>\n<div class=\"histogram-bar histogram-bar-measured histogram-bar-101\" style=\"height: 0%\"></div>\n</div>\n</div>\n<div class=\"histogram-text-container\">\n<p>Latte Macchiato<br/><span \"=\"\" class=\"histogram-text histogram-text-ideal histogram-text-101\">0.0%</span></p>\n</div>\n</div>\n<div class=\"histogram-entry\">\n<div class=\"histogram-bar-container\">\n<div class=\"histogram-bar-outer\">\n<div class=\"histogram-bar histogram-bar-ideal histogram-bar-110\" style=\"height: 0.0%\"></div>\n<div class=\"histogram-bar histogram-bar-measured histogram-bar-110\" style=\"height: 0%\"></div>\n</div>\n</div>\n<div class=\"histogram-text-container\">\n<p>Wiener Melange<br/><span \"=\"\" class=\"histogram-text histogram-text-ideal histogram-text-110\">0.0%</span></p>\n</div>\n</div>\n<div class=\"histogram-entry\">\n<div class=\"histogram-bar-container\">\n<div class=\"histogram-bar-outer\">\n<div class=\"histogram-bar histogram-bar-ideal histogram-bar-111\" style=\"height: 0.0%\"></div>\n<div class=\"histogram-bar histogram-bar-measured histogram-bar-111\" style=\"height: 0%\"></div>\n</div>\n</div>\n<div class=\"histogram-text-container\">\n<p>Americano<br/><span \"=\"\" class=\"histogram-text histogram-text-ideal histogram-text-111\">0.0%</span></p>\n</div>\n</div>\n</div>\n</div>\n",
       "_view_module_version": "^0.1.0",
       "layout": "IPY_MODEL_44ac253ee6cc4a2c8c7feaa62b259d0a"
      }
     },
     "63e7892c066147b4b714cbb4041bc56f": {
      "model_module": "@jupyter-widgets/controls",
      "model_module_version": "1.5.0",
      "model_name": "BoxModel",
      "state": {
       "children": [
        "IPY_MODEL_cad20b46aabf4ef295ad7ba6f8da6488"
       ],
       "layout": "IPY_MODEL_752cb35a2cfb42f282b2b0f463811290",
       "view": "composer"
      }
     },
     "693abd75fdf74f9b8ac184361c92d6cf": {
      "model_module": "appwidgets",
      "model_module_version": "^0.1.0",
      "model_name": "ReactiveHtmlModel",
      "state": {
       "_css": "\n/*\n\n\tHistogram\n\n*/\n\n.<<VIEW_ID>> #composer-histogram-container {\n\n\twidth: 100%;\n\n\theight: 30vh;\n\n\tpadding: 0 10px 0 10px;\n\n}\n\n.<<VIEW_ID>> #composer-histogram-container #composer-histogram {\n\n\twidth: 100%;\n\n\theight: 100%;\n\n\tdisplay: flex;\n\n\tflex-direction: row;\n\n\tjustify-content: space-evenly;\n\n\talign-items: stretch;\n\n}\n\n.<<VIEW_ID>> #composer-histogram .histogram-entry {\n\n\tposition: relative;\n\n\tflex: 0 0 12.5%;\n\n}\n\n.<<VIEW_ID>> #composer-histogram .histogram-entry p {\n\n\ttext-align: center;\n\n}\n\n.<<VIEW_ID>> #composer-histogram .histogram-bar-container {\n\n\tposition: relative;\n\n\theight: 80%;\n\n}\n\n.<<VIEW_ID>> #composer-histogram .histogram-bar-outer {\n\n\twidth: 30px;\n\n\tleft: 50%;\n\n\tmargin-left: -15px;\n\n\theight: 100%;\n\n\tposition: relative;\n\n\tbackground-color: lightgray;\n\n}\n\n.<<VIEW_ID>> #composer-histogram .histogram-bar {\n\n\tbackground-color: blue;\n\n\tposition: absolute;\n\n\tbottom: 0;\n\n\theight: 0;\n\n\twidth: 50%;\n\n}\n\n.<<VIEW_ID>> #composer-histogram .histogram-bar-ideal {\n\n\tbackground-color: blue;\n\n\tleft: 0;\n\n}\n\n.<<VIEW_ID>> #composer-histogram .histogram-bar-measured {\n\n\tbackground-color: purple;\n\n\tleft: 50%;\n\n}",
       "_model_module_version": "^0.1.0",
       "_rendered": "\n<div id=\"composer-histogram-container\">\n<div id=\"composer-histogram\">\n<div class=\"histogram-entry\">\n<div class=\"histogram-bar-container\">\n<div class=\"histogram-bar-outer\">\n<div class=\"histogram-bar histogram-bar-ideal histogram-bar-000\" style=\"height: 0.0%\"></div>\n<div class=\"histogram-bar histogram-bar-measured histogram-bar-000\" style=\"height: 0%\"></div>\n</div>\n</div>\n<div class=\"histogram-text-container\">\n<p>Tee<br/><span \"=\"\" class=\"histogram-text histogram-text-ideal histogram-text-000\">0.0%</span></p>\n</div>\n</div>\n<div class=\"histogram-entry\">\n<div class=\"histogram-bar-container\">\n<div class=\"histogram-bar-outer\">\n<div class=\"histogram-bar histogram-bar-ideal histogram-bar-001\" style=\"height: 0.0%\"></div>\n<div class=\"histogram-bar histogram-bar-measured histogram-bar-001\" style=\"height: 0%\"></div>\n</div>\n</div>\n<div class=\"histogram-text-container\">\n<p>Heisse Schokolade<br/><span \"=\"\" class=\"histogram-text histogram-text-ideal histogram-text-001\">0.0%</span></p>\n</div>\n</div>\n<div class=\"histogram-entry\">\n<div class=\"histogram-bar-container\">\n<div class=\"histogram-bar-outer\">\n<div class=\"histogram-bar histogram-bar-ideal histogram-bar-010\" style=\"height: 0.0%\"></div>\n<div class=\"histogram-bar histogram-bar-measured histogram-bar-010\" style=\"height: 0%\"></div>\n</div>\n</div>\n<div class=\"histogram-text-container\">\n<p>Espresso<br/><span \"=\"\" class=\"histogram-text histogram-text-ideal histogram-text-010\">0.0%</span></p>\n</div>\n</div>\n<div class=\"histogram-entry\">\n<div class=\"histogram-bar-container\">\n<div class=\"histogram-bar-outer\">\n<div class=\"histogram-bar histogram-bar-ideal histogram-bar-011\" style=\"height: 0.0%\"></div>\n<div class=\"histogram-bar histogram-bar-measured histogram-bar-011\" style=\"height: 0%\"></div>\n</div>\n</div>\n<div class=\"histogram-text-container\">\n<p>Kaffee<br/><span \"=\"\" class=\"histogram-text histogram-text-ideal histogram-text-011\">0.0%</span></p>\n</div>\n</div>\n<div class=\"histogram-entry\">\n<div class=\"histogram-bar-container\">\n<div class=\"histogram-bar-outer\">\n<div class=\"histogram-bar histogram-bar-ideal histogram-bar-100\" style=\"height: 100.0%\"></div>\n<div class=\"histogram-bar histogram-bar-measured histogram-bar-100\" style=\"height: 100.0%\"></div>\n</div>\n</div>\n<div class=\"histogram-text-container\">\n<p>Cappucino<br/><span \"=\"\" class=\"histogram-text histogram-text-ideal histogram-text-100\">100.0%</span></p>\n</div>\n</div>\n<div class=\"histogram-entry\">\n<div class=\"histogram-bar-container\">\n<div class=\"histogram-bar-outer\">\n<div class=\"histogram-bar histogram-bar-ideal histogram-bar-101\" style=\"height: 0.0%\"></div>\n<div class=\"histogram-bar histogram-bar-measured histogram-bar-101\" style=\"height: 0%\"></div>\n</div>\n</div>\n<div class=\"histogram-text-container\">\n<p>Latte Macchiato<br/><span \"=\"\" class=\"histogram-text histogram-text-ideal histogram-text-101\">0.0%</span></p>\n</div>\n</div>\n<div class=\"histogram-entry\">\n<div class=\"histogram-bar-container\">\n<div class=\"histogram-bar-outer\">\n<div class=\"histogram-bar histogram-bar-ideal histogram-bar-110\" style=\"height: 0.0%\"></div>\n<div class=\"histogram-bar histogram-bar-measured histogram-bar-110\" style=\"height: 0%\"></div>\n</div>\n</div>\n<div class=\"histogram-text-container\">\n<p>Wiener Melange<br/><span \"=\"\" class=\"histogram-text histogram-text-ideal histogram-text-110\">0.0%</span></p>\n</div>\n</div>\n<div class=\"histogram-entry\">\n<div class=\"histogram-bar-container\">\n<div class=\"histogram-bar-outer\">\n<div class=\"histogram-bar histogram-bar-ideal histogram-bar-111\" style=\"height: 0.0%\"></div>\n<div class=\"histogram-bar histogram-bar-measured histogram-bar-111\" style=\"height: 0%\"></div>\n</div>\n</div>\n<div class=\"histogram-text-container\">\n<p>Americano<br/><span \"=\"\" class=\"histogram-text histogram-text-ideal histogram-text-111\">0.0%</span></p>\n</div>\n</div>\n</div>\n</div>\n",
       "_view_module_version": "^0.1.0",
       "layout": "IPY_MODEL_1569c24697b84350b2749313299ed453"
      }
     },
     "6a7f2c3d613b453797a9a557c01f21bf": {
      "model_module": "appwidgets",
      "model_module_version": "^0.1.0",
      "model_name": "ReactiveHtmlModel",
      "state": {
       "_css": "",
       "_model_module_version": "^0.1.0",
       "_rendered": "\n<h1>Welcome to Qoffee Maker</h1>\n<button class=\"btn btn-primary\" data-rh-exec=\"app.view='startingpoints'\">Get your coffee</button>\n",
       "_view_module_version": "^0.1.0",
       "layout": "IPY_MODEL_1ce4469254464fde94546e915b5b8ac4"
      }
     },
     "6aeee72624e347ddb9dc6a677b5b0ede": {
      "model_module": "@jupyter-widgets/controls",
      "model_module_version": "1.5.0",
      "model_name": "ButtonModel",
      "state": {
       "description": "From Scratch",
       "layout": "IPY_MODEL_83a66d4045a04703b0ff047e4cfa0dd0",
       "style": "IPY_MODEL_8d8f3ff9c92d4544afc241cafc6a01c1"
      }
     },
     "6b1c283a6735457db974cbf816b54cd5": {
      "model_module": "@jupyter-widgets/controls",
      "model_module_version": "1.5.0",
      "model_name": "ButtonStyleModel",
      "state": {}
     },
     "6ccbe6ecff31407f9a0be437917a6233": {
      "model_module": "appwidgets",
      "model_module_version": "^0.1.0",
      "model_name": "ReactiveHtmlModel",
      "state": {
       "_css": "",
       "_model_module_version": "^0.1.0",
       "_rendered": "\n<h1>Oh no, something went wrong :/</h1>\n",
       "_view_module_version": "^0.1.0",
       "layout": "IPY_MODEL_3e8185a35c24458ba4178837580e3103"
      }
     },
     "6df16c94055449ad954f5d39ba1c1d7e": {
      "model_module": "@jupyter-widgets/controls",
      "model_module_version": "1.5.0",
      "model_name": "ButtonStyleModel",
      "state": {}
     },
     "717e7cd1bef84e37923cc1b52fe8ad48": {
      "model_module": "@jupyter-widgets/controls",
      "model_module_version": "1.5.0",
      "model_name": "HBoxModel",
      "state": {
       "children": [
        "IPY_MODEL_693abd75fdf74f9b8ac184361c92d6cf",
        "IPY_MODEL_9dfd73be015c419686286ece3cab7f6d"
       ],
       "layout": "IPY_MODEL_102b7d4a2a6c42188d545ad04eb1c57b"
      }
     },
     "72e5143add5349bcadcadcc63f9d429e": {
      "model_module": "@jupyter-widgets/controls",
      "model_module_version": "1.5.0",
      "model_name": "ButtonModel",
      "state": {
       "description": "Without Coffein",
       "layout": "IPY_MODEL_611bbac8b4ca4295ad61d5ea2c734aab",
       "style": "IPY_MODEL_3dbc7157a2df426280fc2ad3b480e7bf"
      }
     },
     "752cb35a2cfb42f282b2b0f463811290": {
      "model_module": "@jupyter-widgets/base",
      "model_module_version": "1.2.0",
      "model_name": "LayoutModel",
      "state": {}
     },
     "75e7c1fccdc0411cb5e208e638025cf5": {
      "model_module": "@jupyter-widgets/controls",
      "model_module_version": "1.5.0",
      "model_name": "ButtonStyleModel",
      "state": {}
     },
     "7663e07d16c14625bd766cb6fb8753ec": {
      "model_module": "appwidgets",
      "model_module_version": "^0.1.0",
      "model_name": "ReactiveHtmlModel",
      "state": {
       "_css": "",
       "_model_module_version": "^0.1.0",
       "_rendered": "\n<div id=\"composer-singleshot-container\">\n<div id=\"composer-singleshot\">\n<button class=\"btn btn-default btn-block\" data-rh-if='simulator==\"simulator\"' data-rh-set='single_shot_device=\"ibmq\"'>Benutze IBM Q</button>\n\n<br/>\n<button class=\"btn btn-primary btn-block\" data-rh-exec=\"get_single_shot_result()\">Messung vornehmen</button>\n<br/>\n\n\n<br/>\n<button class=\"btn btn-default btn-block\" data-rh-exec-js=\"openQRCodeIBMQ()\">In IBM Q öffnen</button>\n<button class=\"btn btn-default btn-block\" data-rh-exec=\"app.view='startingpoints'\">Zurück</button>\n</div>\n</div>\n",
       "_view_module_version": "^0.1.0",
       "layout": "IPY_MODEL_4b02c72d2c3a421fa55f989b82318a1f"
      }
     },
     "78607845e29d4e2ab1c9fca9d9dbbcd2": {
      "model_module": "@jupyter-widgets/controls",
      "model_module_version": "1.5.0",
      "model_name": "ButtonStyleModel",
      "state": {}
     },
     "78f17972e1ad40458123e29e9eb7ce69": {
      "model_module": "@jupyter-widgets/base",
      "model_module_version": "1.2.0",
      "model_name": "LayoutModel",
      "state": {}
     },
     "7986ad931cf7462a8a1cb9bec768375f": {
      "model_module": "appwidgets",
      "model_module_version": "^0.1.0",
      "model_name": "ReactiveHtmlModel",
      "state": {
       "_css": "",
       "_model_module_version": "^0.1.0",
       "_rendered": "\n<h1>Thank you and enjoy your coffee :)</h1>\n<button class=\"btn btn-default btn-block\" data-rh-exec=\"app.view='welcome'\">Back</button>\n",
       "_view_module_version": "^0.1.0",
       "layout": "IPY_MODEL_a3ac5955fbf6496eb524630e8cc0c002"
      }
     },
     "7ac850e737474ffe9fc07596494b75f7": {
      "model_module": "@jupyter-widgets/base",
      "model_module_version": "1.2.0",
      "model_name": "LayoutModel",
      "state": {}
     },
     "7cb7fde5079047ef929bb64dde21ba57": {
      "model_module": "@jupyter-widgets/base",
      "model_module_version": "1.2.0",
      "model_name": "LayoutModel",
      "state": {}
     },
     "7cc13ea3771f419b83e9ac93776671a4": {
      "model_module": "@jupyter-widgets/controls",
      "model_module_version": "1.5.0",
      "model_name": "ButtonStyleModel",
      "state": {}
     },
     "7f03f357fe9a46d0a1b76d0bbc948ab5": {
      "model_module": "@jupyter-widgets/controls",
      "model_module_version": "1.5.0",
      "model_name": "ButtonModel",
      "state": {
       "description": "Only Espresso",
       "layout": "IPY_MODEL_5a2eec3ec0034ecfaed105884fc95196",
       "style": "IPY_MODEL_3eac1908bb574b198d489be527183441"
      }
     },
     "83a66d4045a04703b0ff047e4cfa0dd0": {
      "model_module": "@jupyter-widgets/base",
      "model_module_version": "1.2.0",
      "model_name": "LayoutModel",
      "state": {}
     },
     "84b6af24452c4cc1ba16a34a54f94aa3": {
      "model_module": "@jupyter-widgets/base",
      "model_module_version": "1.2.0",
      "model_name": "LayoutModel",
      "state": {}
     },
     "85c68297e246449eb447941a72eb1185": {
      "model_module": "@jupyter-widgets/base",
      "model_module_version": "1.2.0",
      "model_name": "LayoutModel",
      "state": {}
     },
     "86d4c92a429242dcbf8a32616e336a69": {
      "model_module": "@jupyter-widgets/controls",
      "model_module_version": "1.5.0",
      "model_name": "BoxModel",
      "state": {
       "children": [
        "IPY_MODEL_e08bfdd276f34522ba35c45d3ae92080"
       ],
       "layout": "IPY_MODEL_f5bae0aeebfd48f5aaf1ba7f4796e084",
       "view": "composer"
      }
     },
     "89963bd48caf47938998ecbace370229": {
      "model_module": "@jupyter-widgets/base",
      "model_module_version": "1.2.0",
      "model_name": "LayoutModel",
      "state": {}
     },
     "8bf57ef458a340119a3f674a39bcf912": {
      "model_module": "@jupyter-widgets/controls",
      "model_module_version": "1.5.0",
      "model_name": "VBoxModel",
      "state": {
       "children": [
        "IPY_MODEL_de27331b073d4a46a8b40efdbb3e4ec4",
        "IPY_MODEL_6aeee72624e347ddb9dc6a677b5b0ede",
        "IPY_MODEL_c2f0d13a364046f6a6cae19b6404af0a",
        "IPY_MODEL_a788e9ad32d247139094822f1c1c8d18",
        "IPY_MODEL_1b6e2abc8c1e4e1fa37773e477e3f1d5",
        "IPY_MODEL_54f114eb84c74c0a91927da06f835e51",
        "IPY_MODEL_72e5143add5349bcadcadcc63f9d429e",
        "IPY_MODEL_c775775bd6be4bca9f6c26d75d1ca1e1",
        "IPY_MODEL_9b5d28e3393d4f329977a05a49105370"
       ],
       "layout": "IPY_MODEL_1962017ee1894635b8f08f0e7a127e55"
      }
     },
     "8cbd2b54c38a4da2862b699e2b761898": {
      "model_module": "@jupyter-widgets/controls",
      "model_module_version": "1.5.0",
      "model_name": "ButtonModel",
      "state": {
       "description": "Nothing Strong",
       "layout": "IPY_MODEL_02c508a74b824eb3be037723df83f0d7",
       "style": "IPY_MODEL_197fbb6735364ac29981f9ef6b7828d4"
      }
     },
     "8d8c773739cc474a9546881a83d83c35": {
      "model_module": "@jupyter-widgets/base",
      "model_module_version": "1.2.0",
      "model_name": "LayoutModel",
      "state": {}
     },
     "8d8f3ff9c92d4544afc241cafc6a01c1": {
      "model_module": "@jupyter-widgets/controls",
      "model_module_version": "1.5.0",
      "model_name": "ButtonStyleModel",
      "state": {}
     },
     "8f7cfebc6f2f4e5db6a0afaa2077a27e": {
      "model_module": "@jupyter-widgets/base",
      "model_module_version": "1.2.0",
      "model_name": "LayoutModel",
      "state": {}
     },
     "90986a8ab4624829b5e97f6dfe1fe762": {
      "model_module": "@jupyter-widgets/base",
      "model_module_version": "1.2.0",
      "model_name": "LayoutModel",
      "state": {}
     },
     "91b56a534ac54611b2633e704fe9f1bc": {
      "model_module": "@jupyter-widgets/base",
      "model_module_version": "1.2.0",
      "model_name": "LayoutModel",
      "state": {}
     },
     "91e953d29436459a82e1f0f1f46c6979": {
      "model_module": "@jupyter-widgets/controls",
      "model_module_version": "1.5.0",
      "model_name": "VBoxModel",
      "state": {
       "children": [
        "IPY_MODEL_9d41e8f8afb7407d86e477187a81c725",
        "IPY_MODEL_f327462e59234bc686ed2825f5b3b60d",
        "IPY_MODEL_084aa8db2966400bad5e63450ffce96c",
        "IPY_MODEL_438fd27cf66347b0bf72af3013984ac4",
        "IPY_MODEL_7f03f357fe9a46d0a1b76d0bbc948ab5",
        "IPY_MODEL_0b479d53a92e411fa3b79f2989cf0b2f",
        "IPY_MODEL_a5a01407efbb43c3abdaacd8277913dc",
        "IPY_MODEL_284949c855d24b9a99c19d700970a12c",
        "IPY_MODEL_f2131c06cb0844358b5d8541f7526a25"
       ],
       "layout": "IPY_MODEL_1c1cceac3ea546f2b8a78cd019c6ac4d"
      }
     },
     "92864323b4734f05928edc43ea1d2989": {
      "model_module": "@jupyter-widgets/base",
      "model_module_version": "1.2.0",
      "model_name": "LayoutModel",
      "state": {}
     },
     "998bf6ae33dc4909be08ec432e7a8584": {
      "model_module": "@jupyter-widgets/controls",
      "model_module_version": "1.5.0",
      "model_name": "ButtonStyleModel",
      "state": {}
     },
     "99d370880e7344cba7d3142f3b91344f": {
      "model_module": "@jupyter-widgets/controls",
      "model_module_version": "1.5.0",
      "model_name": "BoxModel",
      "state": {
       "children": [
        "IPY_MODEL_4b9c7301ff7640d49b35ba8bd9b26233"
       ],
       "layout": "IPY_MODEL_d280a89360a2468fa119ae1f0dd743f7",
       "view": "composer"
      }
     },
     "9b5d28e3393d4f329977a05a49105370": {
      "model_module": "@jupyter-widgets/controls",
      "model_module_version": "1.5.0",
      "model_name": "ButtonModel",
      "state": {
       "description": "Tea or Coffee",
       "layout": "IPY_MODEL_7ac850e737474ffe9fc07596494b75f7",
       "style": "IPY_MODEL_bc549740628e4d9cb6118d97c15279e1"
      }
     },
     "9c7fd6f11dc944a0891972d84930000b": {
      "model_module": "@jupyter-widgets/controls",
      "model_module_version": "1.5.0",
      "model_name": "ButtonStyleModel",
      "state": {}
     },
     "9c8bc3ad5af04da1b9f38d68f82db613": {
      "model_module": "appwidgets",
      "model_module_version": "^0.1.0",
      "model_name": "ReactiveHtmlModel",
      "state": {
       "_css": "",
       "_model_module_version": "^0.1.0",
       "_rendered": "\n<h1>Welcome to Qoffee Maker</h1>\n<button class=\"btn btn-primary\" data-rh-exec=\"app.view='startingpoints'\">Get your coffee</button>\n",
       "_view_module_version": "^0.1.0",
       "layout": "IPY_MODEL_14dcf8e351f74f299dec1a2e4050191a"
      }
     },
     "9d41e8f8afb7407d86e477187a81c725": {
      "model_module": "@jupyter-widgets/controls",
      "model_module_version": "1.5.0",
      "model_name": "HTMLModel",
      "state": {
       "layout": "IPY_MODEL_cff0a25bf6a046269cef1c42ad5cd8a3",
       "style": "IPY_MODEL_60195d57bd3648a393713f783fec60b9",
       "value": "<h1>Choose your starting point</h1>"
      }
     },
     "9dfd73be015c419686286ece3cab7f6d": {
      "model_module": "appwidgets",
      "model_module_version": "^0.1.0",
      "model_name": "ReactiveHtmlModel",
      "state": {
       "_css": "",
       "_model_module_version": "^0.1.0",
       "_rendered": "\n<div id=\"composer-singleshot-container\">\n<div id=\"composer-singleshot\">\n<button class=\"btn btn-default btn-block\" data-rh-if='simulator==\"simulator\"' data-rh-set='single_shot_device=\"ibmq\"'>Benutze IBM Q</button>\n\n<br/>\n<button class=\"btn btn-primary btn-block\" data-rh-exec=\"get_single_shot_result()\">Do measurement</button>\n<br/>\n\n\n<br/>\n<button class=\"btn btn-default btn-block\" data-rh-exec=\"open_circuit_on_ibmq()\">In IBM Q öffnen</button>\n<button class=\"btn btn-default btn-block\" data-rh-exec=\"app.view='startingpoints'\">Back</button>\n</div>\n</div>\n",
       "_view_module_version": "^0.1.0",
       "layout": "IPY_MODEL_8f7cfebc6f2f4e5db6a0afaa2077a27e"
      }
     },
     "a1a86fa43499439fad5d1b1cc3172bec": {
      "model_module": "@jupyter-widgets/controls",
      "model_module_version": "1.5.0",
      "model_name": "HBoxModel",
      "state": {
       "children": [
        "IPY_MODEL_62af7c382f12415ebb4dab55282e492a",
        "IPY_MODEL_7663e07d16c14625bd766cb6fb8753ec"
       ],
       "layout": "IPY_MODEL_d6fd6282b270400c89c095f89e68ca4a"
      }
     },
     "a3ac5955fbf6496eb524630e8cc0c002": {
      "model_module": "@jupyter-widgets/base",
      "model_module_version": "1.2.0",
      "model_name": "LayoutModel",
      "state": {}
     },
     "a3dccb3f35644c8cbabca780da3ce065": {
      "model_module": "@jupyter-widgets/base",
      "model_module_version": "1.2.0",
      "model_name": "LayoutModel",
      "state": {}
     },
     "a5a01407efbb43c3abdaacd8277913dc": {
      "model_module": "@jupyter-widgets/controls",
      "model_module_version": "1.5.0",
      "model_name": "ButtonModel",
      "state": {
       "description": "Without Coffein",
       "layout": "IPY_MODEL_02d7624289b845d0891f7d59db8b7e17",
       "style": "IPY_MODEL_09c5f2faecf04adeaee50bf38a69b1a3"
      }
     },
     "a5c82790c6a94ffaad8e79fdb51be0c5": {
      "model_module": "@jupyter-widgets/controls",
      "model_module_version": "1.5.0",
      "model_name": "HBoxModel",
      "state": {
       "children": [
        "IPY_MODEL_abde88aed5f44d4f9fd142abcfd85db1",
        "IPY_MODEL_525f8ea8d59e4d9190cb67e7d149d94e"
       ],
       "layout": "IPY_MODEL_239c1f31ed6c46e0bd480d797a23654a"
      }
     },
     "a6acfb60ef29472a8b1108a09fe72057": {
      "model_module": "@jupyter-widgets/base",
      "model_module_version": "1.2.0",
      "model_name": "LayoutModel",
      "state": {}
     },
     "a788e9ad32d247139094822f1c1c8d18": {
      "model_module": "@jupyter-widgets/controls",
      "model_module_version": "1.5.0",
      "model_name": "ButtonModel",
      "state": {
       "description": "Only Coffee",
       "layout": "IPY_MODEL_e9c362bad2ba4ffebd471942b9e4ff24",
       "style": "IPY_MODEL_1754dabf4b90402d86057da6cb15ab07"
      }
     },
     "a841c7d5cd5f4a8680740e143d5b4cb8": {
      "model_module": "@jupyter-widgets/base",
      "model_module_version": "1.2.0",
      "model_name": "LayoutModel",
      "state": {}
     },
     "a8428315a9d14fa386c4838290d9d41a": {
      "model_module": "@jupyter-widgets/controls",
      "model_module_version": "1.5.0",
      "model_name": "DescriptionStyleModel",
      "state": {
       "description_width": ""
      }
     },
     "abde88aed5f44d4f9fd142abcfd85db1": {
      "model_module": "appwidgets",
      "model_module_version": "^0.1.0",
      "model_name": "ReactiveHtmlModel",
      "state": {
       "_css": "\n/*\n\n\tHistogram\n\n*/\n\n.<<VIEW_ID>> #composer-histogram-container {\n\n\twidth: 100%;\n\n\theight: 30vh;\n\n\tpadding: 0 10px 0 10px;\n\n}\n\n.<<VIEW_ID>> #composer-histogram-container #composer-histogram {\n\n\twidth: 100%;\n\n\theight: 100%;\n\n\tdisplay: flex;\n\n\tflex-direction: row;\n\n\tjustify-content: space-evenly;\n\n\talign-items: stretch;\n\n}\n\n.<<VIEW_ID>> #composer-histogram .histogram-entry {\n\n\tposition: relative;\n\n\tflex: 0 0 12.5%;\n\n}\n\n.<<VIEW_ID>> #composer-histogram .histogram-entry p {\n\n\ttext-align: center;\n\n}\n\n.<<VIEW_ID>> #composer-histogram .histogram-bar-container {\n\n\tposition: relative;\n\n\theight: 80%;\n\n}\n\n.<<VIEW_ID>> #composer-histogram .histogram-bar-outer {\n\n\twidth: 30px;\n\n\tleft: 50%;\n\n\tmargin-left: -15px;\n\n\theight: 100%;\n\n\tposition: relative;\n\n\tbackground-color: lightgray;\n\n}\n\n.<<VIEW_ID>> #composer-histogram .histogram-bar {\n\n\tbackground-color: blue;\n\n\tposition: absolute;\n\n\tbottom: 0;\n\n\theight: 0;\n\n\twidth: 50%;\n\n}\n\n.<<VIEW_ID>> #composer-histogram .histogram-bar-ideal {\n\n\tbackground-color: blue;\n\n\tleft: 0;\n\n}\n\n.<<VIEW_ID>> #composer-histogram .histogram-bar-measured {\n\n\tbackground-color: purple;\n\n\tleft: 50%;\n\n}",
       "_model_module_version": "^0.1.0",
       "_rendered": "\n<div id=\"composer-histogram-container\">\n<div id=\"composer-histogram\">\n<div class=\"histogram-entry\">\n<div class=\"histogram-bar-container\">\n<div class=\"histogram-bar-outer\">\n<div class=\"histogram-bar histogram-bar-ideal histogram-bar-000\" style=\"height: 100.0%\"></div>\n<div class=\"histogram-bar histogram-bar-measured histogram-bar-000\" style=\"height: 100.0%\"></div>\n</div>\n</div>\n<div class=\"histogram-text-container\">\n<p>Tee<br/><span \"=\"\" class=\"histogram-text histogram-text-ideal histogram-text-000\">100.0%</span></p>\n</div>\n</div>\n<div class=\"histogram-entry\">\n<div class=\"histogram-bar-container\">\n<div class=\"histogram-bar-outer\">\n<div class=\"histogram-bar histogram-bar-ideal histogram-bar-001\" style=\"height: 0.0%\"></div>\n<div class=\"histogram-bar histogram-bar-measured histogram-bar-001\" style=\"height: 0%\"></div>\n</div>\n</div>\n<div class=\"histogram-text-container\">\n<p>Heisse Schokolade<br/><span \"=\"\" class=\"histogram-text histogram-text-ideal histogram-text-001\">0.0%</span></p>\n</div>\n</div>\n<div class=\"histogram-entry\">\n<div class=\"histogram-bar-container\">\n<div class=\"histogram-bar-outer\">\n<div class=\"histogram-bar histogram-bar-ideal histogram-bar-010\" style=\"height: 0.0%\"></div>\n<div class=\"histogram-bar histogram-bar-measured histogram-bar-010\" style=\"height: 0%\"></div>\n</div>\n</div>\n<div class=\"histogram-text-container\">\n<p>Espresso<br/><span \"=\"\" class=\"histogram-text histogram-text-ideal histogram-text-010\">0.0%</span></p>\n</div>\n</div>\n<div class=\"histogram-entry\">\n<div class=\"histogram-bar-container\">\n<div class=\"histogram-bar-outer\">\n<div class=\"histogram-bar histogram-bar-ideal histogram-bar-011\" style=\"height: 0.0%\"></div>\n<div class=\"histogram-bar histogram-bar-measured histogram-bar-011\" style=\"height: 0%\"></div>\n</div>\n</div>\n<div class=\"histogram-text-container\">\n<p>Kaffee<br/><span \"=\"\" class=\"histogram-text histogram-text-ideal histogram-text-011\">0.0%</span></p>\n</div>\n</div>\n<div class=\"histogram-entry\">\n<div class=\"histogram-bar-container\">\n<div class=\"histogram-bar-outer\">\n<div class=\"histogram-bar histogram-bar-ideal histogram-bar-100\" style=\"height: 0.0%\"></div>\n<div class=\"histogram-bar histogram-bar-measured histogram-bar-100\" style=\"height: 0%\"></div>\n</div>\n</div>\n<div class=\"histogram-text-container\">\n<p>Cappucino<br/><span \"=\"\" class=\"histogram-text histogram-text-ideal histogram-text-100\">0.0%</span></p>\n</div>\n</div>\n<div class=\"histogram-entry\">\n<div class=\"histogram-bar-container\">\n<div class=\"histogram-bar-outer\">\n<div class=\"histogram-bar histogram-bar-ideal histogram-bar-101\" style=\"height: 0.0%\"></div>\n<div class=\"histogram-bar histogram-bar-measured histogram-bar-101\" style=\"height: 0%\"></div>\n</div>\n</div>\n<div class=\"histogram-text-container\">\n<p>Latte Macchiato<br/><span \"=\"\" class=\"histogram-text histogram-text-ideal histogram-text-101\">0.0%</span></p>\n</div>\n</div>\n<div class=\"histogram-entry\">\n<div class=\"histogram-bar-container\">\n<div class=\"histogram-bar-outer\">\n<div class=\"histogram-bar histogram-bar-ideal histogram-bar-110\" style=\"height: 0.0%\"></div>\n<div class=\"histogram-bar histogram-bar-measured histogram-bar-110\" style=\"height: 0%\"></div>\n</div>\n</div>\n<div class=\"histogram-text-container\">\n<p>Wiener Melange<br/><span \"=\"\" class=\"histogram-text histogram-text-ideal histogram-text-110\">0.0%</span></p>\n</div>\n</div>\n<div class=\"histogram-entry\">\n<div class=\"histogram-bar-container\">\n<div class=\"histogram-bar-outer\">\n<div class=\"histogram-bar histogram-bar-ideal histogram-bar-111\" style=\"height: 0.0%\"></div>\n<div class=\"histogram-bar histogram-bar-measured histogram-bar-111\" style=\"height: 0%\"></div>\n</div>\n</div>\n<div class=\"histogram-text-container\">\n<p>Americano<br/><span \"=\"\" class=\"histogram-text histogram-text-ideal histogram-text-111\">0.0%</span></p>\n</div>\n</div>\n</div>\n</div>\n",
       "_view_module_version": "^0.1.0",
       "layout": "IPY_MODEL_85c68297e246449eb447941a72eb1185"
      }
     },
     "adf3980e6aa348ed8882614228cf6369": {
      "model_module": "@jupyter-widgets/base",
      "model_module_version": "1.2.0",
      "model_name": "LayoutModel",
      "state": {}
     },
     "af06b2484275408ca02dc957fda45d51": {
      "model_module": "@jupyter-widgets/base",
      "model_module_version": "1.2.0",
      "model_name": "LayoutModel",
      "state": {}
     },
     "afddf380f6ee4a24b4906b34f5f37a51": {
      "model_module": "@jupyter-widgets/base",
      "model_module_version": "1.2.0",
      "model_name": "LayoutModel",
      "state": {}
     },
     "b4ee2dee4b8d442fb09f984d0153a17e": {
      "model_module": "@jupyter-widgets/controls",
      "model_module_version": "1.5.0",
      "model_name": "HTMLModel",
      "state": {
       "layout": "IPY_MODEL_2b44f159116746f5845e125f34b6e418",
       "style": "IPY_MODEL_b911fb79842142ddb3a9d2843272bea1",
       "value": "\n    <h1>Build your quantum circuit</h1>\n    <p>Drag and drop gates on the circuit to build the circuit</p>\n"
      }
     },
     "b50fad4e43bc4e0e8de1902f4f0f7803": {
      "model_module": "@jupyter-widgets/controls",
      "model_module_version": "1.5.0",
      "model_name": "HTMLModel",
      "state": {
       "layout": "IPY_MODEL_3b6a7b79a236444c92e6394e84ddd29d",
       "style": "IPY_MODEL_a8428315a9d14fa386c4838290d9d41a",
       "value": "\n    <h1>Build your quantum circuit</h1>\n    <p>Drag and drop gates on the circuit to build the circuit</p>\n"
      }
     },
     "b911fb79842142ddb3a9d2843272bea1": {
      "model_module": "@jupyter-widgets/controls",
      "model_module_version": "1.5.0",
      "model_name": "DescriptionStyleModel",
      "state": {
       "description_width": ""
      }
     },
     "bc549740628e4d9cb6118d97c15279e1": {
      "model_module": "@jupyter-widgets/controls",
      "model_module_version": "1.5.0",
      "model_name": "ButtonStyleModel",
      "state": {}
     },
     "bd120e41fe144b509056ff1721a747f5": {
      "model_module": "appwidgets",
      "model_module_version": "^0.1.0",
      "model_name": "ReactiveHtmlModel",
      "state": {
       "_css": "",
       "_model_module_version": "^0.1.0",
       "_rendered": "\n<h1>Thank you and enjoy your coffee :)</h1>\n",
       "_view_module_version": "^0.1.0",
       "layout": "IPY_MODEL_c4d3f2848a394dbda9af8551df90528b"
      }
     },
     "c0694b347b55422ea7a2690027ecc2f6": {
      "model_module": "@jupyter-widgets/base",
      "model_module_version": "1.2.0",
      "model_name": "LayoutModel",
      "state": {}
     },
     "c2f0d13a364046f6a6cae19b6404af0a": {
      "model_module": "@jupyter-widgets/controls",
      "model_module_version": "1.5.0",
      "model_name": "ButtonModel",
      "state": {
       "description": "Only Cappucino",
       "layout": "IPY_MODEL_4d72b8ed24ff4289b258c8e7058f0de1",
       "style": "IPY_MODEL_db8ae96a642643cfabbc6dcee2d89af7"
      }
     },
     "c355583af81d4081b2ffaf3dbc38e232": {
      "model_module": "appwidgets",
      "model_module_version": "^0.1.0",
      "model_name": "JsPyModel",
      "state": {
       "_model_module_version": "^0.1.0",
       "_view_module": null,
       "_view_module_version": ""
      }
     },
     "c369778d1ff641a2aa7cd8e0a7adf490": {
      "model_module": "@jupyter-widgets/controls",
      "model_module_version": "1.5.0",
      "model_name": "ButtonModel",
      "state": {
       "description": "Only Cappucino",
       "layout": "IPY_MODEL_14db856b1c9642a8859cae3b4e748b98",
       "style": "IPY_MODEL_fa97263c5d204c4ca4fdfe560b0a4e01"
      }
     },
     "c4d3f2848a394dbda9af8551df90528b": {
      "model_module": "@jupyter-widgets/base",
      "model_module_version": "1.2.0",
      "model_name": "LayoutModel",
      "state": {}
     },
     "c775775bd6be4bca9f6c26d75d1ca1e1": {
      "model_module": "@jupyter-widgets/controls",
      "model_module_version": "1.5.0",
      "model_name": "ButtonModel",
      "state": {
       "description": "Nothing Strong",
       "layout": "IPY_MODEL_92864323b4734f05928edc43ea1d2989",
       "style": "IPY_MODEL_75e7c1fccdc0411cb5e208e638025cf5"
      }
     },
     "c8369b8d1e414af7833072786b5dc22d": {
      "model_module": "appwidgets",
      "model_module_version": "^0.1.0",
      "model_name": "ReactiveHtmlModel",
      "state": {
       "_css": "",
       "_model_module_version": "^0.1.0",
       "_rendered": "\n<h1>Oh no, something went wrong :/</h1>\n<button class=\"btn btn-default btn-block\" data-rh-exec=\"app.view='welcome'\">Back</button>\n",
       "_view_module_version": "^0.1.0",
       "layout": "IPY_MODEL_a3dccb3f35644c8cbabca780da3ce065"
      }
     },
     "cad20b46aabf4ef295ad7ba6f8da6488": {
      "model_module": "@jupyter-widgets/controls",
      "model_module_version": "1.5.0",
      "model_name": "VBoxModel",
      "state": {
       "children": [
        "IPY_MODEL_b50fad4e43bc4e0e8de1902f4f0f7803",
        "IPY_MODEL_daded6dfccb24ac09708382004e5693e",
        "IPY_MODEL_a1a86fa43499439fad5d1b1cc3172bec"
       ],
       "layout": "IPY_MODEL_db2ed8eb505c46e28f1cc90d1ee82517"
      }
     },
     "cc761e5997d14f46bc1c56c2e4a6da50": {
      "model_module": "@jupyter-widgets/base",
      "model_module_version": "1.2.0",
      "model_name": "WidgetModel",
      "state": {
       "_view_module": null,
       "_view_module_version": "",
       "composer_init_circuit": "empty",
       "histogram_ideal": {
        "000": 1,
        "001": 0,
        "010": 0,
        "011": 0,
        "100": 0,
        "101": 0,
        "110": 0,
        "111": 0
       },
       "histogram_measured": {
        "000": 1,
        "001": 0,
        "010": 0,
        "011": 0,
        "100": 0,
        "101": 0,
        "110": 0,
        "111": 0
       },
       "qasm": "OPENQASM 2.0;\ninclude \"qelib1.inc\";\nqreg q[3];\ncreg c[3];\n",
       "single_shot_device": "simulator",
       "single_shot_result": {
        "bit": "",
        "id": "",
        "name": ""
       },
       "single_shot_status": 0
      }
     },
     "ccc45f5f6c49450b8ec34e50884347b7": {
      "model_module": "appwidgets",
      "model_module_version": "^0.1.0",
      "model_name": "JsPyModel",
      "state": {
       "_model_module_version": "^0.1.0",
       "_view_module": null,
       "_view_module_version": ""
      }
     },
     "cff0a25bf6a046269cef1c42ad5cd8a3": {
      "model_module": "@jupyter-widgets/base",
      "model_module_version": "1.2.0",
      "model_name": "LayoutModel",
      "state": {}
     },
     "d17be6b5bb404d99a57d89e2137c7a19": {
      "model_module": "@jupyter-widgets/base",
      "model_module_version": "1.2.0",
      "model_name": "LayoutModel",
      "state": {}
     },
     "d280a89360a2468fa119ae1f0dd743f7": {
      "model_module": "@jupyter-widgets/base",
      "model_module_version": "1.2.0",
      "model_name": "LayoutModel",
      "state": {}
     },
     "d696689cc65d4cc6810f5c32bbcc31dd": {
      "model_module": "@jupyter-widgets/controls",
      "model_module_version": "1.5.0",
      "model_name": "DescriptionStyleModel",
      "state": {
       "description_width": ""
      }
     },
     "d6fd6282b270400c89c095f89e68ca4a": {
      "model_module": "@jupyter-widgets/base",
      "model_module_version": "1.2.0",
      "model_name": "LayoutModel",
      "state": {}
     },
     "d756781fe86d4a07b01f03dedaa138a1": {
      "model_module": "@jupyter-widgets/controls",
      "model_module_version": "1.5.0",
      "model_name": "ButtonStyleModel",
      "state": {}
     },
     "d9578f2d7adf443498d415a582315adc": {
      "model_module": "@jupyter-widgets/controls",
      "model_module_version": "1.5.0",
      "model_name": "DescriptionStyleModel",
      "state": {
       "description_width": ""
      }
     },
     "daded6dfccb24ac09708382004e5693e": {
      "model_module": "@quantum/ibm-q-lab-widgets",
      "model_module_version": "^1.0.3",
      "model_name": "CircuitComposerModel",
      "state": {
       "_model_module_version": "^1.0.3",
       "_view_module_version": "^1.0.3",
       "circuit": "\"OPENQASM 2.0;\\ninclude \\\"qelib1.inc\\\";\\n\\nqreg q[3];\\ncreg c[3];\\n\\nx q[2];\"",
       "editable": true,
       "layout": "IPY_MODEL_91b56a534ac54611b2633e704fe9f1bc",
       "qiskit_code_cell_index": -1
      }
     },
     "db2ed8eb505c46e28f1cc90d1ee82517": {
      "model_module": "@jupyter-widgets/base",
      "model_module_version": "1.2.0",
      "model_name": "LayoutModel",
      "state": {}
     },
     "db8ae96a642643cfabbc6dcee2d89af7": {
      "model_module": "@jupyter-widgets/controls",
      "model_module_version": "1.5.0",
      "model_name": "ButtonStyleModel",
      "state": {}
     },
     "dc00626e64ee4643b8fe37aa8a2e4129": {
      "model_module": "@jupyter-widgets/controls",
      "model_module_version": "1.5.0",
      "model_name": "ButtonStyleModel",
      "state": {}
     },
     "de27331b073d4a46a8b40efdbb3e4ec4": {
      "model_module": "@jupyter-widgets/controls",
      "model_module_version": "1.5.0",
      "model_name": "HTMLModel",
      "state": {
       "layout": "IPY_MODEL_3866365b8fd1487eb0419972580419c9",
       "style": "IPY_MODEL_d696689cc65d4cc6810f5c32bbcc31dd",
       "value": "<h1>Choose your starting point</h1>"
      }
     },
     "e0833f95209f480db1f8534a5f7ee0af": {
      "model_module": "@jupyter-widgets/base",
      "model_module_version": "1.2.0",
      "model_name": "LayoutModel",
      "state": {}
     },
     "e08bfdd276f34522ba35c45d3ae92080": {
      "model_module": "@jupyter-widgets/controls",
      "model_module_version": "1.5.0",
      "model_name": "VBoxModel",
      "state": {
       "children": [
        "IPY_MODEL_4ca81d02a39e4879a473c75977804ffb",
        "IPY_MODEL_0b18c88c3c174ff7876ec9e06ef78f0f",
        "IPY_MODEL_717e7cd1bef84e37923cc1b52fe8ad48"
       ],
       "layout": "IPY_MODEL_a6acfb60ef29472a8b1108a09fe72057"
      }
     },
     "e429f6696e5d42e3bb376e75b76d5f0b": {
      "model_module": "@jupyter-widgets/base",
      "model_module_version": "1.2.0",
      "model_name": "LayoutModel",
      "state": {}
     },
     "e48efe2f3d834443afc68a3c4ada9623": {
      "model_module": "@quantum/ibm-q-lab-widgets",
      "model_module_version": "^1.0.3",
      "model_name": "CircuitComposerModel",
      "state": {
       "_model_module_version": "^1.0.3",
       "_view_module_version": "^1.0.3",
       "circuit": "\"OPENQASM 2.0;\\ninclude \\\"qelib1.inc\\\";\\n\\nqreg q[3];\\ncreg c[3];\\n\\n\"",
       "editable": true,
       "layout": "IPY_MODEL_84b6af24452c4cc1ba16a34a54f94aa3",
       "qiskit_code_cell_index": -1
      }
     },
     "e817e222f5ce43acabc3b08d6ff6708e": {
      "model_module": "@jupyter-widgets/base",
      "model_module_version": "1.2.0",
      "model_name": "LayoutModel",
      "state": {}
     },
     "e9c362bad2ba4ffebd471942b9e4ff24": {
      "model_module": "@jupyter-widgets/base",
      "model_module_version": "1.2.0",
      "model_name": "LayoutModel",
      "state": {}
     },
     "eafb2c50516747658d4180bcc3ba6ad8": {
      "model_module": "@jupyter-widgets/base",
      "model_module_version": "1.2.0",
      "model_name": "LayoutModel",
      "state": {}
     },
     "f082c7a7a8bc4bcbaf1c0960d011a8ce": {
      "model_module": "@jupyter-widgets/base",
      "model_module_version": "1.2.0",
      "model_name": "LayoutModel",
      "state": {}
     },
     "f2131c06cb0844358b5d8541f7526a25": {
      "model_module": "@jupyter-widgets/controls",
      "model_module_version": "1.5.0",
      "model_name": "ButtonModel",
      "state": {
       "description": "Tea or Coffee",
       "layout": "IPY_MODEL_89963bd48caf47938998ecbace370229",
       "style": "IPY_MODEL_9c7fd6f11dc944a0891972d84930000b"
      }
     },
     "f327462e59234bc686ed2825f5b3b60d": {
      "model_module": "@jupyter-widgets/controls",
      "model_module_version": "1.5.0",
      "model_name": "ButtonModel",
      "state": {
       "description": "From Scratch",
       "layout": "IPY_MODEL_07442454242140f780b373e9f9a07573",
       "style": "IPY_MODEL_6b1c283a6735457db974cbf816b54cd5"
      }
     },
     "f5bae0aeebfd48f5aaf1ba7f4796e084": {
      "model_module": "@jupyter-widgets/base",
      "model_module_version": "1.2.0",
      "model_name": "LayoutModel",
      "state": {}
     },
     "fa97263c5d204c4ca4fdfe560b0a4e01": {
      "model_module": "@jupyter-widgets/controls",
      "model_module_version": "1.5.0",
      "model_name": "ButtonStyleModel",
      "state": {}
     }
    },
    "version_major": 2,
    "version_minor": 0
   }
  }
 },
 "nbformat": 4,
 "nbformat_minor": 2
}
