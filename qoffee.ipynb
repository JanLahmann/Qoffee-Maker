{
 "cells": [
  {
   "cell_type": "markdown",
   "metadata": {},
   "source": [
    "# Qoffee Maker"
   ]
  },
  {
   "cell_type": "code",
   "execution_count": null,
   "metadata": {},
   "outputs": [],
   "source": [
    "import os, time\n",
    "from random import randint\n",
    "from dotenv import load_dotenv\n",
    "import numpy as np\n",
    "load_dotenv();"
   ]
  },
  {
   "cell_type": "code",
   "execution_count": null,
   "metadata": {},
   "outputs": [],
   "source": [
    "from ibm_quantum_widgets import CircuitComposer\n",
    "from qiskit.circuit import QuantumCircuit\n",
    "from qiskit import transpile, IBMQ\n",
    "from qiskit.providers.aer import QasmSimulator, StatevectorSimulator\n",
    "from qiskit import IBMQ\n",
    "from qiskit.providers.ibmq.exceptions import IBMQAccountError"
   ]
  },
  {
   "cell_type": "code",
   "execution_count": null,
   "metadata": {},
   "outputs": [],
   "source": [
    "try:\n",
    "    IBMQ.enable_account(os.getenv(\"IBMQ_API_KEY\"))\n",
    "except IBMQAccountError as e:\n",
    "    print(\"Got IBMAccountError\", e, \"probably due to re-execution\")\n",
    "\n",
    "provider = IBMQ.get_provider()\n",
    "provider.backends()"
   ]
  },
  {
   "cell_type": "code",
   "execution_count": null,
   "metadata": {},
   "outputs": [],
   "source": [
    "backend_ideal = StatevectorSimulator()\n",
    "backend_noise = QasmSimulator()\n",
    "backend_ibm = provider.get_backend(\"ibmq_manila\")"
   ]
  },
  {
   "cell_type": "code",
   "execution_count": null,
   "metadata": {},
   "outputs": [],
   "source": [
    "## build some sample circuits\n",
    "\n",
    "# empty\n",
    "qc0 = QuantumCircuit(3, 3)\n",
    "\n",
    "# cappucino\n",
    "qc1 = QuantumCircuit(3, 3)\n",
    "qc1.x(2)\n",
    "\n",
    "# coffee\n",
    "qc2 = QuantumCircuit(3, 3)\n",
    "qc2.x(0)\n",
    "qc2.h(1)\n",
    "qc2.z(1)\n",
    "qc2.h(1)\n",
    "\n",
    "# espresso\n",
    "qc3 = QuantumCircuit(3, 3)\n",
    "qc3.x(0)\n",
    "qc3.cx(0, 1)\n",
    "qc3.cx(1, 0)\n",
    "qc3.cx(0, 1)\n",
    "\n",
    "# anything\n",
    "qc4 = QuantumCircuit(3, 3)\n",
    "qc4.h(0)\n",
    "qc4.h(1)\n",
    "qc4.h(2)\n",
    "\n",
    "# without coffein\n",
    "qc5 = QuantumCircuit(3, 3)\n",
    "qc5.h(0)\n",
    "\n",
    "# nothing strong\n",
    "qc6 = QuantumCircuit(3, 3)\n",
    "qc6.h(0)\n",
    "qc6.x(2)\n",
    "\n",
    "# tea or coffee\n",
    "qc7 = QuantumCircuit(3, 3)\n",
    "qc7.h(0)\n",
    "qc7.cx(0, 1);\n"
   ]
  },
  {
   "cell_type": "code",
   "execution_count": null,
   "metadata": {},
   "outputs": [],
   "source": [
    "qcreg = [\n",
    "    {\n",
    "        \"id\": \"empty\",\n",
    "        \"name\": \"From Scratch\",\n",
    "        \"circuit\": qc0\n",
    "    },\n",
    "    {\n",
    "        \"id\": \"cappucino\",\n",
    "        \"name\": \"Only Cappucino\",\n",
    "        \"circuit\": qc1\n",
    "    },\n",
    "    {\n",
    "        \"id\": \"coffee\",\n",
    "        \"name\": \"Only Coffee\",\n",
    "        \"circuit\": qc2\n",
    "    },\n",
    "    {\n",
    "        \"id\": \"espresso\",\n",
    "        \"name\": \"Only Espresso\",\n",
    "        \"circuit\": qc3\n",
    "    },\n",
    "    {\n",
    "        \"id\": \"anything\",\n",
    "        \"name\": \"Just something to drink\",\n",
    "        \"circuit\": qc4\n",
    "    },\n",
    "    {\n",
    "        \"id\": \"withoutcoffein\",\n",
    "        \"name\": \"Without Coffein\",\n",
    "        \"circuit\": qc5\n",
    "    },\n",
    "    {\n",
    "        \"id\": \"nothingstrong\",\n",
    "        \"name\": \"Nothing Strong\",\n",
    "        \"circuit\": qc6\n",
    "    },\n",
    "    {\n",
    "        \"id\": \"teaorcoffee\",\n",
    "        \"name\": \"Tea or Coffee\",\n",
    "        \"circuit\": qc7\n",
    "    }\n",
    "]"
   ]
  },
  {
   "cell_type": "code",
   "execution_count": null,
   "metadata": {},
   "outputs": [],
   "source": [
    "class CircuitExecutor:\n",
    "    \n",
    "    BIT_ORDER = ['000', '001', '010', '011', '100', '101', '110', '111']\n",
    "    \n",
    "    def __init__(self, circuit):\n",
    "        self.circuit = circuit\n",
    "        \n",
    "    def _fill_with_zero(results):\n",
    "        for bit in CircuitExecutor.BIT_ORDER:\n",
    "            if bit not in results:\n",
    "                results[bit] = 0\n",
    "        return results\n",
    "    \n",
    "    def get_maximum_key(results):\n",
    "        max_key = max(results, key=results.get)\n",
    "        return max_key\n",
    "        \n",
    "    def measure(self, num_shots=800):\n",
    "        # copy current circuit\n",
    "        mqc = self.circuit.copy()\n",
    "        # add measurement\n",
    "        mqc.measure(range(3), range(3))\n",
    "        # transpile circuit --> necessary?\n",
    "        # mqc_compiled = transpile(mqc, backend)\n",
    "        # run job and get result\n",
    "        result = backend_noise.run(mqc, shots=num_shots, seed=randint(0, 2500)).result()\n",
    "        counts = result.get_counts(mqc)\n",
    "        # divide by num_shots to get probabilities\n",
    "        for b in counts:\n",
    "            counts[b] = float(counts[b])/num_shots\n",
    "        return CircuitExecutor._fill_with_zero(counts)\n",
    "    \n",
    "    def solve(self):\n",
    "        mqc = self.circuit.copy()\n",
    "        # run circuit on state vector\n",
    "        result = backend_ideal.run(mqc).result()\n",
    "        # get state vector and calculate probabilities\n",
    "        state_vector = result.get_statevector(mqc, decimals=5)\n",
    "        probs = np.abs(state_vector ** 2)\n",
    "        # map back to bit configurations\n",
    "        results = {\n",
    "            key: probs[i] for i, key in enumerate(CircuitExecutor.BIT_ORDER)\n",
    "        }\n",
    "        return CircuitExecutor._fill_with_zero(results)\n",
    "    \n",
    "    def run_on_q(self, num_shots=1, secs_timeout=10):\n",
    "        # copy current circuit\n",
    "        mqc = self.circuit.copy()\n",
    "        # add measurement\n",
    "        mqc.measure(range(3), range(3))\n",
    "        mqc_transpiled = transpile(mqc, backend_ibm)\n",
    "        # run job and get result\n",
    "        job = backend_ibm.run(mqc_transpiled, shots=num_shots)\n",
    "        \n",
    "        counts = None\n",
    "        try:\n",
    "            result = job.result(timeout=secs_timeout, wait=2)\n",
    "            counts = result.get_counts(mqc_transpiled)\n",
    "            # divide by num_shots to get probabilities\n",
    "            for b in counts:\n",
    "                counts[b] = float(counts[b])/num_shots\n",
    "        except Exception as e:\n",
    "            # did not get results, so try to get them from internal measure\n",
    "            print(\"Got error from IBMQ\", e)\n",
    "            counts = self.measure(num_shots=num_shots)\n",
    "        \n",
    "        return CircuitExecutor._fill_with_zero(counts)"
   ]
  },
  {
   "cell_type": "markdown",
   "metadata": {},
   "source": [
    "# Build App"
   ]
  },
  {
   "cell_type": "code",
   "execution_count": null,
   "metadata": {},
   "outputs": [],
   "source": [
    "from ipywidgets import Widget, Button, HTML, VBox, widgets, link, HBox\n",
    "import appwidgets\n",
    "from traitlets import Unicode, Dict, Int, Any, HasTraits\n",
    "from appwidgets import JsPyWidget\n",
    "import json"
   ]
  },
  {
   "cell_type": "markdown",
   "metadata": {},
   "source": [
    "## Build Data Model"
   ]
  },
  {
   "cell_type": "code",
   "execution_count": null,
   "metadata": {},
   "outputs": [],
   "source": [
    "DRINKS = {\n",
    "    \"000\": {\n",
    "        \"id\": \"tea\",\n",
    "        \"name\": \"Tee\",\n",
    "        \"key\": \"ConsumerProducts.CoffeeMaker.Program.Beverage.WarmMilk\",\n",
    "        \"options\": {}\n",
    "    },\n",
    "    \"001\": {\n",
    "        \"id\": \"hotchocolate\",\n",
    "        \"name\": \"Heisse Schokolade\",\n",
    "        \"key\": \"ConsumerProducts.CoffeeMaker.Program.Beverage.MilkFroth\",\n",
    "        \"options\": {}\n",
    "    },\n",
    "    \"010\": {\n",
    "        \"id\": \"espresso\",\n",
    "        \"name\": \"Espresso\",\n",
    "        \"key\": \"ConsumerProducts.CoffeeMaker.Program.Beverage.Espresso\",\n",
    "        \"options\": {}\n",
    "    },\n",
    "    \"011\": {\n",
    "        \"id\": \"coffee\",\n",
    "        \"name\": \"Kaffee\",\n",
    "        \"key\": \"ConsumerProducts.CoffeeMaker.Program.Beverage.Coffee\",\n",
    "        \"options\": {}\n",
    "    },\n",
    "    \"100\": {\n",
    "        \"id\": \"cappucino\",\n",
    "        \"name\": \"Cappucino\",\n",
    "        \"key\": \"ConsumerProducts.CoffeeMaker.Program.Beverage.Cappuccino\",\n",
    "        \"options\": {}\n",
    "    },\n",
    "    \"101\": {\n",
    "        \"id\": \"lattemacchiato\",\n",
    "        \"name\": \"Latte Macchiato\",\n",
    "        \"key\": \"ConsumerProducts.CoffeeMaker.Program.Beverage.LatteMacchiato\",\n",
    "        \"options\": {}\n",
    "    },\n",
    "    \"110\": {\n",
    "        \"id\": \"wienermelange\",\n",
    "        \"name\": \"Wiener Melange\",\n",
    "        \"key\": \"ConsumerProducts.CoffeeMaker.Program.CoffeeWorld.WienerMelange\",\n",
    "        \"options\": {}\n",
    "    },\n",
    "    \"111\": {\n",
    "        \"id\": \"americano\",\n",
    "        \"name\": \"Americano\",\n",
    "        \"key\": \"ConsumerProducts.CoffeeMaker.Program.CoffeeWorld.Americano\",\n",
    "        \"options\": {}\n",
    "    }\n",
    "}"
   ]
  },
  {
   "cell_type": "code",
   "execution_count": null,
   "metadata": {},
   "outputs": [],
   "source": [
    "data = Widget()\n",
    "data.add_traits(\n",
    "    # name of current circuit with which the composer was initialized\n",
    "    composer_init_circuit = Unicode(\"empty\").tag(sync=True),\n",
    "    # current ideal probabilities\n",
    "    histogram_ideal = Dict({\n",
    "        key: 0 for key in DRINKS\n",
    "    }).tag(sync=True),\n",
    "    # current measured probabilities\n",
    "    histogram_measured = Dict({\n",
    "        key: 0 for key in DRINKS\n",
    "    }).tag(sync=True),\n",
    "    # id of drink from single shot measurement\n",
    "    single_shot_result = Dict({\n",
    "        \"name\": \"\",\n",
    "        \"id\": \"\",\n",
    "        \"bit\": \"\"\n",
    "    }).tag(sync=True),\n",
    "    # status of single shot measurements (0 = init, 1 = loading, 2 = done)\n",
    "    single_shot_status = Int().tag(sync=True),\n",
    "    # device on which to perform the single shot\n",
    "    single_shot_device = Unicode(\"simulator\").tag(sync=True),\n",
    "    # composer qasm\n",
    "    qasm = Unicode(\"\").tag(sync=True)\n",
    ")"
   ]
  },
  {
   "cell_type": "markdown",
   "metadata": {},
   "source": [
    "## Build Composer"
   ]
  },
  {
   "cell_type": "code",
   "execution_count": null,
   "metadata": {},
   "outputs": [],
   "source": [
    "composer = CircuitComposer(circuit=qcreg[0]['circuit'])"
   ]
  },
  {
   "cell_type": "code",
   "execution_count": null,
   "metadata": {},
   "outputs": [],
   "source": [
    "# handler for change events\n",
    "def composer_update_handler(change_event):\n",
    "    # there are multiple change events, only use on\n",
    "    if change_event['name'] != \"circuit\":\n",
    "        return\n",
    "    executor = CircuitExecutor(composer.circuit)\n",
    "    # get and save ideal result\n",
    "    result_ideal = executor.solve()\n",
    "    data.histogram_ideal = result_ideal\n",
    "    # get and save measurement\n",
    "    result_measured = executor.measure()\n",
    "    data.histogram_measured = result_measured\n",
    "    # get and save qasm code\n",
    "    qasm = composer.circuit.qasm()\n",
    "    data.qasm = qasm\n",
    "    \n",
    "composer.observe(composer_update_handler)"
   ]
  },
  {
   "cell_type": "code",
   "execution_count": null,
   "metadata": {},
   "outputs": [],
   "source": [
    "# perform single shot measurement\n",
    "def get_single_shot_result():\n",
    "    data.single_shot_status = 1\n",
    "    executor = CircuitExecutor(composer.circuit)\n",
    "    counts = None\n",
    "    if data.single_shot_device == \"ibmq\":\n",
    "        counts = executor.run_on_q(num_shots=1, secs_timeout=60)\n",
    "    else:\n",
    "        counts = executor.measure(num_shots=1)\n",
    "        \n",
    "    bits = CircuitExecutor.get_maximum_key(counts)\n",
    "    data.single_shot_result = {\n",
    "        \"bit\": bits,\n",
    "        \"id\": DRINKS[bits][\"id\"],\n",
    "        \"name\": DRINKS[bits][\"name\"]\n",
    "    }\n",
    "    time.sleep(1.5)\n",
    "    data.single_shot_status = 2\n",
    "    return bits"
   ]
  },
  {
   "cell_type": "code",
   "execution_count": null,
   "metadata": {},
   "outputs": [],
   "source": [
    "%%javascript\n",
    "window.requestDrink = function(drinkKey, drinkOptions) {\n",
    "    return new Promise((resolve, reject) => {\n",
    "        // do POST request to Jupyter backend\n",
    "        fetch(\"/drink\", {\n",
    "            method: 'post',\n",
    "            credentials: 'same-origin',\n",
    "            headers: {\n",
    "                'X-XSRFToken': document.cookie.replace(\"_xsrf=\", \"\")\n",
    "            },\n",
    "            body: JSON.stringify({\n",
    "                key: drinkKey,\n",
    "                options: drinkOptions\n",
    "            })\n",
    "        }).then(response => {\n",
    "            // if fail, alert and go to welcome\n",
    "            if(!response.ok) {\n",
    "                alert(\"Could not get drink \"+drinkKey+\"\\n\"+response.statusText);\n",
    "                reject();\n",
    "            }\n",
    "            // if succeed to to success\n",
    "            else {\n",
    "                resolve();\n",
    "            }\n",
    "        }, error => {\n",
    "            alert(\"Could not get drink \"+drinkKey+\"\\n\"+error);\n",
    "            console.error(error);\n",
    "            reject(error);\n",
    "        })\n",
    "    })\n",
    "}"
   ]
  },
  {
   "cell_type": "code",
   "execution_count": null,
   "metadata": {},
   "outputs": [],
   "source": [
    "def request_drink():\n",
    "    # get result from single shot measurement\n",
    "    bit = data.single_shot_result['bit']\n",
    "    drink_key = DRINKS[bit]['key']\n",
    "    drink_options = DRINKS[bit]['options']\n",
    "    \n",
    "    def response_handler(res):\n",
    "        if 'error' in res:\n",
    "            app.view = 'error'\n",
    "        else:\n",
    "            app.view = 'success'\n",
    "    \n",
    "    jspy.execute_js(\n",
    "        \"window.requestDrink(\"+json.dumps(drink_key)+\", \"+json.dumps(drink_options)+\")\",\n",
    "        response_handler\n",
    "    )"
   ]
  },
  {
   "cell_type": "markdown",
   "metadata": {},
   "source": [
    "## Build views"
   ]
  },
  {
   "cell_type": "code",
   "execution_count": null,
   "metadata": {},
   "outputs": [],
   "source": [
    "app = appwidgets.AppBox(init_view='welcome')\n",
    "jspy = JsPyWidget()"
   ]
  },
  {
   "cell_type": "markdown",
   "metadata": {},
   "source": [
    "### Welcome View"
   ]
  },
  {
   "cell_type": "code",
   "execution_count": null,
   "metadata": {},
   "outputs": [],
   "source": [
    "view1 = appwidgets.ReactiveHtmlWidget(\"\"\"\n",
    "    <h1>Welcome to Qoffee Maker</h1>\n",
    "    <button class=\"btn btn-primary\" data-rh-exec=\"app.view='startingpoints'\">Get your coffee</button>\n",
    "\"\"\")"
   ]
  },
  {
   "cell_type": "markdown",
   "metadata": {},
   "source": [
    "### Starting Point View"
   ]
  },
  {
   "cell_type": "code",
   "execution_count": null,
   "metadata": {},
   "outputs": [],
   "source": [
    "view2_header = HTML(\"<h1>Choose your starting point</h1>\")\n",
    "view2_elements = [view2_header]\n",
    "\n",
    "def get_click_button_handler(cid, circuit):\n",
    "    def click_button_handler(*args):\n",
    "        data.composer_init_circuit = cid\n",
    "        data.single_shot_device = 'simulator'\n",
    "        data.single_shot_status = 0\n",
    "        composer.circuit = circuit\n",
    "        app.view = 'composer'\n",
    "    return click_button_handler\n",
    "\n",
    "for qc in qcreg:\n",
    "    qc_button = Button(\n",
    "        description=qc[\"name\"]\n",
    "    )\n",
    "    qc_button.on_click(get_click_button_handler(qc[\"id\"], qc[\"circuit\"]))\n",
    "    view2_elements.append(qc_button)\n",
    "\n",
    "view2 = VBox(view2_elements)"
   ]
  },
  {
   "cell_type": "markdown",
   "metadata": {},
   "source": [
    "### Composer View"
   ]
  },
  {
   "cell_type": "code",
   "execution_count": null,
   "metadata": {},
   "outputs": [],
   "source": [
    "view3_header = HTML(\"\"\"\n",
    "    <h1>Build your quantum circuit</h1>\n",
    "    <p>Drag and drop gates on the circuit to build the circuit</p>\n",
    "\"\"\")\n",
    "\n",
    "\n",
    "hist_html = \"\"\n",
    "for key, value in DRINKS.items():\n",
    "    hist_html += \"\"\"\n",
    "        <div class=\"histogram-entry\">\n",
    "            <div class=\"histogram-bar-container\">\n",
    "                <div class=\"histogram-bar-outer\">\n",
    "                    <div style=\"height: {{${histogram_ideal}['\"\"\"+key+\"\"\"']*100}}%\" class=\"histogram-bar histogram-bar-ideal histogram-bar-\"\"\"+key+\"\"\"\"></div>\n",
    "                    <div style=\"height: {{${histogram_measured}['\"\"\"+key+\"\"\"']*100}}%\" class=\"histogram-bar histogram-bar-measured histogram-bar-\"\"\"+key+\"\"\"\"></div>\n",
    "                </div>\n",
    "            </div>\n",
    "            <div class=\"histogram-text-container\">\n",
    "                <p>\"\"\"+value[\"name\"]+\"\"\"<br/><span class=\"histogram-text histogram-text-ideal histogram-text-\"\"\"+key+\"\"\"\"\">{{int(${histogram_measured}['\"\"\"+key+\"\"\"']*1000)/10}}%</span></p>\n",
    "            </div>\n",
    "        </div>\n",
    "    \"\"\"\n",
    "\n",
    "view3_hist = appwidgets.ReactiveHtmlWidget(\"\"\"\n",
    "<div id=\"composer-histogram-container\">\n",
    "    <div id=\"composer-histogram\">\"\"\"+hist_html+\"\"\"</div>\n",
    "</div>\n",
    "\"\"\", data_model=data)\n",
    "\n",
    "\n",
    "view3_singleshot = appwidgets.ReactiveHtmlWidget(\"\"\"\n",
    "    <div id=\"composer-singleshot-container\">\n",
    "        <div id=\"composer-singleshot\">\n",
    "            <button class=\"btn btn-default btn-block\" data-rh-set='single_shot_device=\"ibmq\"' data-rh-if='${single_shot_device}==\"simulator\"'>Benutze IBM Q</button>\n",
    "            <button class=\"btn btn-default btn-block\" data-rh-set='single_shot_device=\"simulator\"' data-rh-if='${single_shot_device}==\"ibmq\"'>Benutze Simulator</button>\n",
    "            <br/>\n",
    "            <button class=\"btn btn-primary btn-block\" data-rh-exec=\"get_single_shot_result()\">Messung vornehmen</button>\n",
    "            <br/>\n",
    "            <div data-rh-if='${single_shot_status}==1'>\n",
    "                Loading...\n",
    "            </div>\n",
    "            <div data-rh-if='${single_shot_status}==2'>\n",
    "                <p>Die Messung ergab: <b>{{${single_shot_result}[\"name\"]}}</b>\n",
    "                <button class=\"btn btn-primary btn-block\" data-rh-exec=\"request_drink()\">Okay</button>\n",
    "            </div>\n",
    "            <br/>\n",
    "            <button class=\"btn btn-default btn-block\" data-rh-exec-js=\"openQRCodeIBMQ()\">In IBM Q öffnen</button>\n",
    "            <button class=\"btn btn-default btn-block\" data-rh-exec=\"app.view='startingpoints'\">Zurück</button>\n",
    "        </div>\n",
    "    </div>\n",
    "\"\"\", data_model=data)\n",
    "\n",
    "view3_hist.load_css(\"./css/histogram.css\")"
   ]
  },
  {
   "cell_type": "code",
   "execution_count": null,
   "metadata": {},
   "outputs": [],
   "source": [
    "view3 = VBox([\n",
    "    view3_header, \n",
    "    composer,\n",
    "    HBox([\n",
    "        view3_hist, view3_singleshot\n",
    "    ])\n",
    "])"
   ]
  },
  {
   "cell_type": "code",
   "execution_count": null,
   "metadata": {},
   "outputs": [],
   "source": [
    "view4 = appwidgets.ReactiveHtmlWidget(\"\"\"\n",
    "    <h1>Oh no, something went wrong :/</h1>\n",
    "\"\"\")\n",
    "\n",
    "\n",
    "view5 = appwidgets.ReactiveHtmlWidget(\"\"\"\n",
    "    <h1>Thank you and enjoy your coffee :)</h1>\n",
    "\"\"\")"
   ]
  },
  {
   "cell_type": "code",
   "execution_count": null,
   "metadata": {},
   "outputs": [],
   "source": [
    "app.add_widget('welcome', view1)\n",
    "app.add_widget('startingpoints', view2)\n",
    "app.add_widget('composer', view3)\n",
    "app.add_widget('error', view4)\n",
    "app.add_widget('success', view5)"
   ]
  },
  {
   "cell_type": "markdown",
   "metadata": {},
   "source": [
    "# And go..."
   ]
  },
  {
   "cell_type": "code",
   "execution_count": null,
   "metadata": {},
   "outputs": [],
   "source": [
    "%%html\n",
    "<style>\n",
    "/*\n",
    "\tRemove checkbox from below editor\n",
    "*/\n",
    ".composer-workarea > div.duo--Checkbox-wrapper {\n",
    "\tdisplay: none;\n",
    "}\n",
    "</style>"
   ]
  },
  {
   "cell_type": "code",
   "execution_count": null,
   "metadata": {},
   "outputs": [],
   "source": [
    "app"
   ]
  },
  {
   "cell_type": "code",
   "execution_count": null,
   "metadata": {},
   "outputs": [],
   "source": []
  }
 ],
 "metadata": {
  "kernelspec": {
   "display_name": "Python 3 (ipykernel)",
   "language": "python",
   "name": "python3"
  },
  "language_info": {
   "codemirror_mode": {
    "name": "ipython",
    "version": 3
   },
   "file_extension": ".py",
   "mimetype": "text/x-python",
   "name": "python",
   "nbconvert_exporter": "python",
   "pygments_lexer": "ipython3",
   "version": "3.9.7"
  },
  "widgets": {
   "application/vnd.jupyter.widget-state+json": {
    "state": {
     "0176dcfb4d034acab3999a631159e753": {
      "model_module": "@jupyter-widgets/controls",
      "model_module_version": "1.5.0",
      "model_name": "HBoxModel",
      "state": {
       "children": [
        "IPY_MODEL_2948b85bab45415da299e1b30a3fad4d",
        "IPY_MODEL_de89fc8fd29f432e99bf50b8ffefc938"
       ],
       "layout": "IPY_MODEL_29a08960d1a843fba2052f5e125ed17e"
      }
     },
     "0898f241484345b38dec661df44e9d0d": {
      "model_module": "@jupyter-widgets/base",
      "model_module_version": "1.2.0",
      "model_name": "LayoutModel",
      "state": {}
     },
     "0f1bcc98f9f0447b9b1e0d3af55de206": {
      "model_module": "@jupyter-widgets/controls",
      "model_module_version": "1.5.0",
      "model_name": "VBoxModel",
      "state": {
       "children": [
        "IPY_MODEL_c58f6dd9f95e42e8b1c17ea1c67b426f",
        "IPY_MODEL_9fb66701fce64313afea7a8e36d671ef",
        "IPY_MODEL_fda66fba2b1642999414b6d29a2f3f33",
        "IPY_MODEL_b6d90a26a352486ab6cb176882473775",
        "IPY_MODEL_f644c9397a094eb29c771e48b1ed872b",
        "IPY_MODEL_2a4b7d2100cc46e89de203a20bf8162a",
        "IPY_MODEL_30cf06d6a18f4f32b85a249be9bf6ac2",
        "IPY_MODEL_88e6e37f68dc4d258ca01a4ca2fe1c82",
        "IPY_MODEL_454de3d06e9843b389855076ff87c888"
       ],
       "layout": "IPY_MODEL_c8529c9e76464155b797a056fa78e71d"
      }
     },
     "2838558efda3410a9649d57b4e5bdb4f": {
      "model_module": "appwidgets",
      "model_module_version": "^0.1.0",
      "model_name": "ReactiveHtmlModel",
      "state": {
       "_css": "",
       "_model_module_version": "^0.1.0",
       "_rendered": "\n<h1>Oh no, something went wrong :/</h1>\n",
       "_view_module_version": "^0.1.0",
       "layout": "IPY_MODEL_58cebb04131d400f999d7417d59dca9b"
      }
     },
     "2844a4df96ba4e45ba753b41961a4b84": {
      "model_module": "@jupyter-widgets/base",
      "model_module_version": "1.2.0",
      "model_name": "LayoutModel",
      "state": {}
     },
     "2948b85bab45415da299e1b30a3fad4d": {
      "model_module": "appwidgets",
      "model_module_version": "^0.1.0",
      "model_name": "ReactiveHtmlModel",
      "state": {
       "_css": "\n/*\n\n\tHistogram\n\n*/\n\n.<<VIEW_ID>> #composer-histogram-container {\n\n\twidth: 100%;\n\n\theight: 30vh;\n\n\tpadding: 0 10px 0 10px;\n\n}\n\n.<<VIEW_ID>> #composer-histogram-container #composer-histogram {\n\n\twidth: 100%;\n\n\theight: 100%;\n\n\tdisplay: flex;\n\n\tflex-direction: row;\n\n\tjustify-content: space-evenly;\n\n\talign-items: stretch;\n\n}\n\n.<<VIEW_ID>> #composer-histogram .histogram-entry {\n\n\tposition: relative;\n\n\tflex: 0 0 12.5%;\n\n}\n\n.<<VIEW_ID>> #composer-histogram .histogram-entry p {\n\n\ttext-align: center;\n\n}\n\n.<<VIEW_ID>> #composer-histogram .histogram-bar-container {\n\n\tposition: relative;\n\n\theight: 80%;\n\n}\n\n.<<VIEW_ID>> #composer-histogram .histogram-bar-outer {\n\n\twidth: 30px;\n\n\tleft: 50%;\n\n\tmargin-left: -15px;\n\n\theight: 100%;\n\n\tposition: relative;\n\n\tbackground-color: lightgray;\n\n}\n\n.<<VIEW_ID>> #composer-histogram .histogram-bar {\n\n\tbackground-color: blue;\n\n\tposition: absolute;\n\n\tbottom: 0;\n\n\theight: 0;\n\n\twidth: 50%;\n\n}\n\n.<<VIEW_ID>> #composer-histogram .histogram-bar-ideal {\n\n\tbackground-color: blue;\n\n\tleft: 0;\n\n}\n\n.<<VIEW_ID>> #composer-histogram .histogram-bar-measured {\n\n\tbackground-color: purple;\n\n\tleft: 50%;\n\n}",
       "_model_module_version": "^0.1.0",
       "_rendered": "\n<div id=\"composer-histogram-container\">\n<div id=\"composer-histogram\">\n<div class=\"histogram-entry\">\n<div class=\"histogram-bar-container\">\n<div class=\"histogram-bar-outer\">\n<div class=\"histogram-bar histogram-bar-ideal histogram-bar-000\" style=\"height: 0.0%\"></div>\n<div class=\"histogram-bar histogram-bar-measured histogram-bar-000\" style=\"height: 0%\"></div>\n</div>\n</div>\n<div class=\"histogram-text-container\">\n<p>Tee<br/><span \"=\"\" class=\"histogram-text histogram-text-ideal histogram-text-000\">0.0%</span></p>\n</div>\n</div>\n<div class=\"histogram-entry\">\n<div class=\"histogram-bar-container\">\n<div class=\"histogram-bar-outer\">\n<div class=\"histogram-bar histogram-bar-ideal histogram-bar-001\" style=\"height: 0.0%\"></div>\n<div class=\"histogram-bar histogram-bar-measured histogram-bar-001\" style=\"height: 0%\"></div>\n</div>\n</div>\n<div class=\"histogram-text-container\">\n<p>Heisse Schokolade<br/><span \"=\"\" class=\"histogram-text histogram-text-ideal histogram-text-001\">0.0%</span></p>\n</div>\n</div>\n<div class=\"histogram-entry\">\n<div class=\"histogram-bar-container\">\n<div class=\"histogram-bar-outer\">\n<div class=\"histogram-bar histogram-bar-ideal histogram-bar-010\" style=\"height: 100.0%\"></div>\n<div class=\"histogram-bar histogram-bar-measured histogram-bar-010\" style=\"height: 100.0%\"></div>\n</div>\n</div>\n<div class=\"histogram-text-container\">\n<p>Espresso<br/><span \"=\"\" class=\"histogram-text histogram-text-ideal histogram-text-010\">100.0%</span></p>\n</div>\n</div>\n<div class=\"histogram-entry\">\n<div class=\"histogram-bar-container\">\n<div class=\"histogram-bar-outer\">\n<div class=\"histogram-bar histogram-bar-ideal histogram-bar-011\" style=\"height: 0.0%\"></div>\n<div class=\"histogram-bar histogram-bar-measured histogram-bar-011\" style=\"height: 0%\"></div>\n</div>\n</div>\n<div class=\"histogram-text-container\">\n<p>Kaffee<br/><span \"=\"\" class=\"histogram-text histogram-text-ideal histogram-text-011\">0.0%</span></p>\n</div>\n</div>\n<div class=\"histogram-entry\">\n<div class=\"histogram-bar-container\">\n<div class=\"histogram-bar-outer\">\n<div class=\"histogram-bar histogram-bar-ideal histogram-bar-100\" style=\"height: 0.0%\"></div>\n<div class=\"histogram-bar histogram-bar-measured histogram-bar-100\" style=\"height: 0%\"></div>\n</div>\n</div>\n<div class=\"histogram-text-container\">\n<p>Cappucino<br/><span \"=\"\" class=\"histogram-text histogram-text-ideal histogram-text-100\">0.0%</span></p>\n</div>\n</div>\n<div class=\"histogram-entry\">\n<div class=\"histogram-bar-container\">\n<div class=\"histogram-bar-outer\">\n<div class=\"histogram-bar histogram-bar-ideal histogram-bar-101\" style=\"height: 0.0%\"></div>\n<div class=\"histogram-bar histogram-bar-measured histogram-bar-101\" style=\"height: 0%\"></div>\n</div>\n</div>\n<div class=\"histogram-text-container\">\n<p>Latte Macchiato<br/><span \"=\"\" class=\"histogram-text histogram-text-ideal histogram-text-101\">0.0%</span></p>\n</div>\n</div>\n<div class=\"histogram-entry\">\n<div class=\"histogram-bar-container\">\n<div class=\"histogram-bar-outer\">\n<div class=\"histogram-bar histogram-bar-ideal histogram-bar-110\" style=\"height: 0.0%\"></div>\n<div class=\"histogram-bar histogram-bar-measured histogram-bar-110\" style=\"height: 0%\"></div>\n</div>\n</div>\n<div class=\"histogram-text-container\">\n<p>Wiener Melange<br/><span \"=\"\" class=\"histogram-text histogram-text-ideal histogram-text-110\">0.0%</span></p>\n</div>\n</div>\n<div class=\"histogram-entry\">\n<div class=\"histogram-bar-container\">\n<div class=\"histogram-bar-outer\">\n<div class=\"histogram-bar histogram-bar-ideal histogram-bar-111\" style=\"height: 0.0%\"></div>\n<div class=\"histogram-bar histogram-bar-measured histogram-bar-111\" style=\"height: 0%\"></div>\n</div>\n</div>\n<div class=\"histogram-text-container\">\n<p>Americano<br/><span \"=\"\" class=\"histogram-text histogram-text-ideal histogram-text-111\">0.0%</span></p>\n</div>\n</div>\n</div>\n</div>\n",
       "_view_module_version": "^0.1.0",
       "layout": "IPY_MODEL_6449797693324d2bb3739606570b99a0"
      }
     },
     "29a08960d1a843fba2052f5e125ed17e": {
      "model_module": "@jupyter-widgets/base",
      "model_module_version": "1.2.0",
      "model_name": "LayoutModel",
      "state": {}
     },
     "2a4b7d2100cc46e89de203a20bf8162a": {
      "model_module": "@jupyter-widgets/controls",
      "model_module_version": "1.5.0",
      "model_name": "ButtonModel",
      "state": {
       "description": "Just something to drink",
       "layout": "IPY_MODEL_f62411ed5e5a4f53a669a9ad240ddf5a",
       "style": "IPY_MODEL_2efed99c5b054b5d9676ea228b76a01b"
      }
     },
     "2efed99c5b054b5d9676ea228b76a01b": {
      "model_module": "@jupyter-widgets/controls",
      "model_module_version": "1.5.0",
      "model_name": "ButtonStyleModel",
      "state": {}
     },
     "2f21bc8a2ba5414a93958daa8bb5dd42": {
      "model_module": "@jupyter-widgets/controls",
      "model_module_version": "1.5.0",
      "model_name": "DescriptionStyleModel",
      "state": {
       "description_width": ""
      }
     },
     "30cf06d6a18f4f32b85a249be9bf6ac2": {
      "model_module": "@jupyter-widgets/controls",
      "model_module_version": "1.5.0",
      "model_name": "ButtonModel",
      "state": {
       "description": "Without Coffein",
       "layout": "IPY_MODEL_bd4de23b161e43819fc20700f9bd4450",
       "style": "IPY_MODEL_d903701c71884130a068054c2fd1eee7"
      }
     },
     "33cbbc64aa4d424ca3b6da58a9b269fd": {
      "model_module": "@jupyter-widgets/base",
      "model_module_version": "1.2.0",
      "model_name": "LayoutModel",
      "state": {}
     },
     "3d805fc642244600a34f14848b2fe972": {
      "model_module": "@jupyter-widgets/controls",
      "model_module_version": "1.5.0",
      "model_name": "ButtonStyleModel",
      "state": {}
     },
     "403b7cf826ca4afd9d193a8e443d71ff": {
      "model_module": "@jupyter-widgets/base",
      "model_module_version": "1.2.0",
      "model_name": "LayoutModel",
      "state": {}
     },
     "454de3d06e9843b389855076ff87c888": {
      "model_module": "@jupyter-widgets/controls",
      "model_module_version": "1.5.0",
      "model_name": "ButtonModel",
      "state": {
       "description": "Tea or Coffee",
       "layout": "IPY_MODEL_403b7cf826ca4afd9d193a8e443d71ff",
       "style": "IPY_MODEL_51811298b3b046e195492f5b29eda091"
      }
     },
     "4bca692aea3e4afb94c218a7495811bf": {
      "model_module": "@jupyter-widgets/base",
      "model_module_version": "1.2.0",
      "model_name": "WidgetModel",
      "state": {
       "_view_module": null,
       "_view_module_version": "",
       "composer_init_circuit": "espresso",
       "histogram_ideal": {
        "000": 0,
        "001": 0,
        "010": 1,
        "011": 0,
        "100": 0,
        "101": 0,
        "110": 0,
        "111": 0
       },
       "histogram_measured": {
        "000": 0,
        "001": 0,
        "010": 1,
        "011": 0,
        "100": 0,
        "101": 0,
        "110": 0,
        "111": 0
       },
       "qasm": "OPENQASM 2.0;\ninclude \"qelib1.inc\";\nqreg q[3];\ncreg c[3];\nx q[0];\ncx q[0],q[1];\ncx q[1],q[0];\ncx q[0],q[1];\n",
       "single_shot_device": "simulator",
       "single_shot_result": {
        "bit": "",
        "id": "",
        "name": ""
       },
       "single_shot_status": 0
      }
     },
     "51811298b3b046e195492f5b29eda091": {
      "model_module": "@jupyter-widgets/controls",
      "model_module_version": "1.5.0",
      "model_name": "ButtonStyleModel",
      "state": {}
     },
     "58cebb04131d400f999d7417d59dca9b": {
      "model_module": "@jupyter-widgets/base",
      "model_module_version": "1.2.0",
      "model_name": "LayoutModel",
      "state": {}
     },
     "5bee98472dfb4ce881b0667a7b981390": {
      "model_module": "@jupyter-widgets/controls",
      "model_module_version": "1.5.0",
      "model_name": "HTMLModel",
      "state": {
       "layout": "IPY_MODEL_9aad2e4d9c5443f9bee6b1466304c2d8",
       "style": "IPY_MODEL_e58dc2565e70435bbdda8dcfc6fdb953",
       "value": "\n    <h1>Build your quantum circuit</h1>\n    <p>Drag and drop gates on the circuit to build the circuit</p>\n"
      }
     },
     "5ffc1050269847eb843f1cc39cfa0393": {
      "model_module": "@quantum/ibm-q-lab-widgets",
      "model_module_version": "^1.0.3",
      "model_name": "CircuitComposerModel",
      "state": {
       "_model_module_version": "^1.0.3",
       "_view_module_version": "^1.0.3",
       "circuit": "\"OPENQASM 2.0;\\ninclude \\\"qelib1.inc\\\";\\n\\nqreg q[3];\\ncreg c[3];\\n\\nx q[0];\\ncx q[0],q[1];\\ncx q[1],q[0];\\ncx q[0],q[1];\"",
       "editable": true,
       "layout": "IPY_MODEL_c4c516003b7343d4a6db6c10a81bfe47",
       "qiskit_code_cell_index": -1
      }
     },
     "62b52d0608fb4ebb8d9565822bf4ca60": {
      "model_module": "@jupyter-widgets/base",
      "model_module_version": "1.2.0",
      "model_name": "LayoutModel",
      "state": {}
     },
     "6449797693324d2bb3739606570b99a0": {
      "model_module": "@jupyter-widgets/base",
      "model_module_version": "1.2.0",
      "model_name": "LayoutModel",
      "state": {}
     },
     "657ef712d8a9421a96e8aae995282e7a": {
      "model_module": "@jupyter-widgets/controls",
      "model_module_version": "1.5.0",
      "model_name": "VBoxModel",
      "state": {
       "children": [
        "IPY_MODEL_5bee98472dfb4ce881b0667a7b981390",
        "IPY_MODEL_5ffc1050269847eb843f1cc39cfa0393",
        "IPY_MODEL_0176dcfb4d034acab3999a631159e753"
       ],
       "layout": "IPY_MODEL_6a34ee1afb004867bd72b6a6560fcc80"
      }
     },
     "6a34ee1afb004867bd72b6a6560fcc80": {
      "model_module": "@jupyter-widgets/base",
      "model_module_version": "1.2.0",
      "model_name": "LayoutModel",
      "state": {}
     },
     "767da70e0781497e9ba9ce487fbd845a": {
      "model_module": "@jupyter-widgets/controls",
      "model_module_version": "1.5.0",
      "model_name": "ButtonStyleModel",
      "state": {}
     },
     "88e6e37f68dc4d258ca01a4ca2fe1c82": {
      "model_module": "@jupyter-widgets/controls",
      "model_module_version": "1.5.0",
      "model_name": "ButtonModel",
      "state": {
       "description": "Nothing Strong",
       "layout": "IPY_MODEL_a7c05e3135974a7987c73d9e056df309",
       "style": "IPY_MODEL_3d805fc642244600a34f14848b2fe972"
      }
     },
     "8a8eb88b0fae4bd981e790c499c379cd": {
      "model_module": "appwidgets",
      "model_module_version": "^0.1.0",
      "model_name": "ReactiveHtmlModel",
      "state": {
       "_css": "",
       "_model_module_version": "^0.1.0",
       "_rendered": "\n<h1>Thank you and enjoy your coffee :)</h1>\n",
       "_view_module_version": "^0.1.0",
       "layout": "IPY_MODEL_f73c38d94b4640d1bd1ee0cf1db028c9"
      }
     },
     "9aad2e4d9c5443f9bee6b1466304c2d8": {
      "model_module": "@jupyter-widgets/base",
      "model_module_version": "1.2.0",
      "model_name": "LayoutModel",
      "state": {}
     },
     "9fb66701fce64313afea7a8e36d671ef": {
      "model_module": "@jupyter-widgets/controls",
      "model_module_version": "1.5.0",
      "model_name": "ButtonModel",
      "state": {
       "description": "From Scratch",
       "layout": "IPY_MODEL_de1aec29ca6f457c9f8728f8fa99a90e",
       "style": "IPY_MODEL_f898ac99f7db4f88b045bd8fcac60625"
      }
     },
     "a4445667c1b94a7596df64195a9865b7": {
      "model_module": "@jupyter-widgets/base",
      "model_module_version": "1.2.0",
      "model_name": "LayoutModel",
      "state": {}
     },
     "a7c05e3135974a7987c73d9e056df309": {
      "model_module": "@jupyter-widgets/base",
      "model_module_version": "1.2.0",
      "model_name": "LayoutModel",
      "state": {}
     },
     "b6d90a26a352486ab6cb176882473775": {
      "model_module": "@jupyter-widgets/controls",
      "model_module_version": "1.5.0",
      "model_name": "ButtonModel",
      "state": {
       "description": "Only Coffee",
       "layout": "IPY_MODEL_c16b4a162ddd4dfc8e1333741cf74f6f",
       "style": "IPY_MODEL_e28b835e09fc412d8685ff4fa6728dfd"
      }
     },
     "bd4de23b161e43819fc20700f9bd4450": {
      "model_module": "@jupyter-widgets/base",
      "model_module_version": "1.2.0",
      "model_name": "LayoutModel",
      "state": {}
     },
     "c16b4a162ddd4dfc8e1333741cf74f6f": {
      "model_module": "@jupyter-widgets/base",
      "model_module_version": "1.2.0",
      "model_name": "LayoutModel",
      "state": {}
     },
     "c2545241a60b4d2ea7ceb08f0f910a7d": {
      "model_module": "@jupyter-widgets/controls",
      "model_module_version": "1.5.0",
      "model_name": "BoxModel",
      "state": {
       "children": [
        "IPY_MODEL_657ef712d8a9421a96e8aae995282e7a"
       ],
       "layout": "IPY_MODEL_d7b82092239449519a61f2c4e421e33a",
       "view": "composer"
      }
     },
     "c4c516003b7343d4a6db6c10a81bfe47": {
      "model_module": "@jupyter-widgets/base",
      "model_module_version": "1.2.0",
      "model_name": "LayoutModel",
      "state": {}
     },
     "c58f6dd9f95e42e8b1c17ea1c67b426f": {
      "model_module": "@jupyter-widgets/controls",
      "model_module_version": "1.5.0",
      "model_name": "HTMLModel",
      "state": {
       "layout": "IPY_MODEL_33cbbc64aa4d424ca3b6da58a9b269fd",
       "style": "IPY_MODEL_2f21bc8a2ba5414a93958daa8bb5dd42",
       "value": "<h1>Choose your starting point</h1>"
      }
     },
     "c8529c9e76464155b797a056fa78e71d": {
      "model_module": "@jupyter-widgets/base",
      "model_module_version": "1.2.0",
      "model_name": "LayoutModel",
      "state": {}
     },
     "cfb8121578e040ddbcd1b48521ff9b61": {
      "model_module": "appwidgets",
      "model_module_version": "^0.1.0",
      "model_name": "JsPyModel",
      "state": {
       "_model_module_version": "^0.1.0",
       "_view_module": null,
       "_view_module_version": ""
      }
     },
     "d7b82092239449519a61f2c4e421e33a": {
      "model_module": "@jupyter-widgets/base",
      "model_module_version": "1.2.0",
      "model_name": "LayoutModel",
      "state": {}
     },
     "d7c03d94579948c7b7d299152e7bb16e": {
      "model_module": "appwidgets",
      "model_module_version": "^0.1.0",
      "model_name": "ReactiveHtmlModel",
      "state": {
       "_css": "",
       "_model_module_version": "^0.1.0",
       "_rendered": "\n<h1>Welcome to Qoffee Maker</h1>\n<button class=\"btn btn-primary\" data-rh-exec=\"app.view='startingpoints'\">Get your coffee</button>\n",
       "_view_module_version": "^0.1.0",
       "layout": "IPY_MODEL_2844a4df96ba4e45ba753b41961a4b84"
      }
     },
     "d903701c71884130a068054c2fd1eee7": {
      "model_module": "@jupyter-widgets/controls",
      "model_module_version": "1.5.0",
      "model_name": "ButtonStyleModel",
      "state": {}
     },
     "de1aec29ca6f457c9f8728f8fa99a90e": {
      "model_module": "@jupyter-widgets/base",
      "model_module_version": "1.2.0",
      "model_name": "LayoutModel",
      "state": {}
     },
     "de89fc8fd29f432e99bf50b8ffefc938": {
      "model_module": "appwidgets",
      "model_module_version": "^0.1.0",
      "model_name": "ReactiveHtmlModel",
      "state": {
       "_css": "",
       "_model_module_version": "^0.1.0",
       "_rendered": "\n<div id=\"composer-singleshot-container\">\n<div id=\"composer-singleshot\">\n<button class=\"btn btn-default btn-block\" data-rh-if='simulator==\"simulator\"' data-rh-set='single_shot_device=\"ibmq\"'>Benutze IBM Q</button>\n\n<br/>\n<button class=\"btn btn-primary btn-block\" data-rh-exec=\"get_single_shot_result()\">Messung vornehmen</button>\n<br/>\n\n\n<br/>\n<button class=\"btn btn-default btn-block\" data-rh-exec-js=\"openQRCodeIBMQ()\">In IBM Q öffnen</button>\n<button class=\"btn btn-default btn-block\" data-rh-exec=\"app.view='startingpoints'\">Zurück</button>\n</div>\n</div>\n",
       "_view_module_version": "^0.1.0",
       "layout": "IPY_MODEL_a4445667c1b94a7596df64195a9865b7"
      }
     },
     "e1439fab6b4e4adca494e08858811490": {
      "model_module": "@jupyter-widgets/controls",
      "model_module_version": "1.5.0",
      "model_name": "ButtonStyleModel",
      "state": {}
     },
     "e28b835e09fc412d8685ff4fa6728dfd": {
      "model_module": "@jupyter-widgets/controls",
      "model_module_version": "1.5.0",
      "model_name": "ButtonStyleModel",
      "state": {}
     },
     "e58dc2565e70435bbdda8dcfc6fdb953": {
      "model_module": "@jupyter-widgets/controls",
      "model_module_version": "1.5.0",
      "model_name": "DescriptionStyleModel",
      "state": {
       "description_width": ""
      }
     },
     "f62411ed5e5a4f53a669a9ad240ddf5a": {
      "model_module": "@jupyter-widgets/base",
      "model_module_version": "1.2.0",
      "model_name": "LayoutModel",
      "state": {}
     },
     "f644c9397a094eb29c771e48b1ed872b": {
      "model_module": "@jupyter-widgets/controls",
      "model_module_version": "1.5.0",
      "model_name": "ButtonModel",
      "state": {
       "description": "Only Espresso",
       "layout": "IPY_MODEL_0898f241484345b38dec661df44e9d0d",
       "style": "IPY_MODEL_767da70e0781497e9ba9ce487fbd845a"
      }
     },
     "f73c38d94b4640d1bd1ee0cf1db028c9": {
      "model_module": "@jupyter-widgets/base",
      "model_module_version": "1.2.0",
      "model_name": "LayoutModel",
      "state": {}
     },
     "f898ac99f7db4f88b045bd8fcac60625": {
      "model_module": "@jupyter-widgets/controls",
      "model_module_version": "1.5.0",
      "model_name": "ButtonStyleModel",
      "state": {}
     },
     "fda66fba2b1642999414b6d29a2f3f33": {
      "model_module": "@jupyter-widgets/controls",
      "model_module_version": "1.5.0",
      "model_name": "ButtonModel",
      "state": {
       "description": "Only Cappucino",
       "layout": "IPY_MODEL_62b52d0608fb4ebb8d9565822bf4ca60",
       "style": "IPY_MODEL_e1439fab6b4e4adca494e08858811490"
      }
     }
    },
    "version_major": 2,
    "version_minor": 0
   }
  }
 },
 "nbformat": 4,
 "nbformat_minor": 2
}
