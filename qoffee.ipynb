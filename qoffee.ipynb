{
 "cells": [
  {
   "cell_type": "markdown",
   "metadata": {},
   "source": [
    "# Qoffee Maker"
   ]
  },
  {
   "cell_type": "code",
   "execution_count": null,
   "metadata": {},
   "outputs": [],
   "source": [
    "import os, time\n",
    "from random import randint\n",
    "from dotenv import load_dotenv\n",
    "import numpy as np\n",
    "load_dotenv();"
   ]
  },
  {
   "cell_type": "code",
   "execution_count": null,
   "metadata": {},
   "outputs": [],
   "source": [
    "from ibm_quantum_widgets import CircuitComposer\n",
    "from qiskit.circuit import QuantumCircuit\n",
    "from qiskit import transpile, IBMQ, execute\n",
    "from qiskit.providers.aer import QasmSimulator, StatevectorSimulator\n",
    "from qiskit import IBMQ\n",
    "from qiskit.providers.ibmq.exceptions import IBMQAccountError\n",
    "from qiskit.test.mock import FakeMontreal"
   ]
  },
  {
   "cell_type": "markdown",
   "metadata": {},
   "source": [
    "## Authenticate to IoT Backend"
   ]
  },
  {
   "cell_type": "code",
   "execution_count": null,
   "metadata": {},
   "outputs": [],
   "source": [
    "%%html\n",
    "<a class=\"btn btn-primary\" target=\"_blank\" href=\"/auth\">Login</a>"
   ]
  },
  {
   "cell_type": "code",
   "execution_count": null,
   "metadata": {},
   "outputs": [],
   "source": [
    "%%html\n",
    "<a class=\"btn btn-primary\" onclick=\"window.activateCoffeeMachine()\">Activate Coffee Machine</a>"
   ]
  },
  {
   "cell_type": "markdown",
   "metadata": {},
   "source": [
    "## Setup Circuits"
   ]
  },
  {
   "cell_type": "code",
   "execution_count": null,
   "metadata": {},
   "outputs": [],
   "source": [
    "def get_ibm_backend(backend_name):\n",
    "    try:\n",
    "        IBMQ.enable_account(os.getenv(\"IBMQ_API_KEY\"))\n",
    "    except IBMQAccountError as e:\n",
    "        print(\"Got IBMAccountError\", e, \"probably due to re-execution\")\n",
    "    provider = IBMQ.get_provider(hub=\"ibm-q-community\", group=\"presentations\")\n",
    "    provider.backends()\n",
    "    return provider.get_backend(backend_name)"
   ]
  },
  {
   "cell_type": "code",
   "execution_count": null,
   "metadata": {},
   "outputs": [],
   "source": [
    "backend_ideal = StatevectorSimulator()\n",
    "backend_qasm = QasmSimulator()\n",
    "backend_mock = FakeMontreal()\n",
    "backend_ibm = None \n",
    "# backend_ibm = get_ibm_backend(\"ibmq_jakarta\")"
   ]
  },
  {
   "cell_type": "markdown",
   "metadata": {},
   "source": [
    "## Circuits"
   ]
  },
  {
   "cell_type": "code",
   "execution_count": null,
   "metadata": {},
   "outputs": [],
   "source": [
    "# empty\n",
    "qc0 = QuantumCircuit(3, 3)\n",
    "\n",
    "# cappucino\n",
    "qc1 = QuantumCircuit(3, 3)\n",
    "qc1.x(2)\n",
    "\n",
    "# coffee\n",
    "qc2 = QuantumCircuit(3, 3)\n",
    "qc2.x(0)\n",
    "qc2.h(1)\n",
    "qc2.z(1)\n",
    "qc2.h(1)\n",
    "\n",
    "# espresso\n",
    "qc3 = QuantumCircuit(3, 3)\n",
    "qc3.x(0)\n",
    "qc3.cx(0, 1)\n",
    "qc3.cx(1, 0)\n",
    "qc3.cx(0, 1)\n",
    "\n",
    "# anything\n",
    "qc4 = QuantumCircuit(3, 3)\n",
    "qc4.h(0)\n",
    "qc4.h(1)\n",
    "qc4.h(2)\n",
    "\n",
    "# without coffein\n",
    "qc5 = QuantumCircuit(3, 3)\n",
    "qc5.h(0)\n",
    "\n",
    "# nothing strong\n",
    "qc6 = QuantumCircuit(3, 3)\n",
    "qc6.h(0)\n",
    "qc6.x(2)\n",
    "\n",
    "# tea or coffee\n",
    "qc7 = QuantumCircuit(3, 3)\n",
    "qc7.h(0)\n",
    "qc7.cx(0, 1);\n"
   ]
  },
  {
   "cell_type": "code",
   "execution_count": null,
   "metadata": {},
   "outputs": [],
   "source": [
    "# gather circuits with some meta information in one object\n",
    "qcreg = [\n",
    "    {\n",
    "        \"id\": \"empty\",\n",
    "        \"name\": \"Start the Qoffee Maker\",\n",
    "        \"circuit\": qc0,\n",
    "        \"init_text\": \"\"\n",
    "    },\n",
    "    {\n",
    "        \"id\": \"cappucino\",\n",
    "        \"name\": \"Only Cappucino\",\n",
    "        \"circuit\": qc1,\n",
    "        \"init_text\": \"\"\n",
    "    },\n",
    "    {\n",
    "        \"id\": \"coffee\",\n",
    "        \"name\": \"Only Coffee\",\n",
    "        \"circuit\": qc2,\n",
    "        \"init_text\": \"\"\n",
    "    },\n",
    "    {\n",
    "        \"id\": \"espresso\",\n",
    "        \"name\": \"Only Espresso\",\n",
    "        \"circuit\": qc3,\n",
    "        \"init_text\": \"\"\n",
    "    },\n",
    "    {\n",
    "        \"id\": \"anything\",\n",
    "        \"name\": \"Just something to drink\",\n",
    "        \"circuit\": qc4,\n",
    "        \"init_text\": \"\"\n",
    "    },\n",
    "    {\n",
    "        \"id\": \"withoutcoffein\",\n",
    "        \"name\": \"Without caffein\",\n",
    "        \"circuit\": qc5,\n",
    "        \"init_text\": \"\"\n",
    "    },\n",
    "    {\n",
    "        \"id\": \"nothingstrong\",\n",
    "        \"name\": \"Nothing Strong\",\n",
    "        \"circuit\": qc6,\n",
    "        \"init_text\": \"\"\n",
    "    },\n",
    "    {\n",
    "        \"id\": \"teaorcoffee\",\n",
    "        \"name\": \"Tea or Coffee\",\n",
    "        \"circuit\": qc7,\n",
    "        \"init_text\": \"\"\n",
    "    }\n",
    "]"
   ]
  },
  {
   "cell_type": "code",
   "execution_count": null,
   "metadata": {},
   "outputs": [],
   "source": [
    "class CircuitExecutor:\n",
    "    \n",
    "    BIT_ORDER = ['000', '001', '010', '011', '100', '101', '110', '111']\n",
    "    \n",
    "    def __init__(self, circuit):\n",
    "        \"\"\"\n",
    "        Helper Class to execute circuits on different backends.\n",
    "        \"\"\"\n",
    "        self.circuit = circuit\n",
    "        \n",
    "    def _fill_with_zero(results):\n",
    "        \"\"\"\n",
    "        Make sure that all keys defined in BIT_ORDER are present in the resulting dict.\n",
    "        \"\"\"\n",
    "        for bit in CircuitExecutor.BIT_ORDER:\n",
    "            if bit not in results:\n",
    "                results[bit] = 0\n",
    "        return results\n",
    "    \n",
    "    def _probabilities_backend(self, backend, num_shots=800, seed=None, result_options={}, transpile_before=False):\n",
    "        \"\"\"\n",
    "        Calculate probabilities on a given backend.\n",
    "        \"\"\"\n",
    "        # copy current circuit\n",
    "        mqc = self.circuit.copy()\n",
    "        # add measurement\n",
    "        mqc.measure(range(3), range(3))\n",
    "        # transpile\n",
    "        mqc_transpiled = mqc if not transpile_before else transpile(mqc, backend)\n",
    "        # run job\n",
    "        job = backend.run(mqc_transpiled, shots=num_shots, seed=seed)\n",
    "        # get results\n",
    "        result = job.result(**result_options)\n",
    "        counts = result.get_counts(mqc_transpiled)\n",
    "        # divide by num_shots to get probabilities\n",
    "        assert num_shots == np.sum([c for c in counts.values()]), (num_shots, counts)\n",
    "        for b in counts:\n",
    "            counts[b] = float(counts[b])/num_shots\n",
    "        return CircuitExecutor._fill_with_zero(counts)\n",
    "    \n",
    "    \n",
    "    def get_maximum_key(results):\n",
    "        \"\"\"\n",
    "        Get the key which has the highest maximum\n",
    "        \"\"\"\n",
    "        max_key = max(results, key=results.get)\n",
    "        return max_key\n",
    "    \n",
    "    \n",
    "    def probabilities_qasm(self, num_shots=800):\n",
    "        \"\"\"\n",
    "        Calculate probabilities on QASM Simulator\n",
    "        \"\"\"\n",
    "        return self._probabilities_backend(backend_qasm, num_shots=num_shots, seed=randint(0, 2500), transpile_before=True)\n",
    "    \n",
    "    \n",
    "    def probabilities_mock(self, num_shots=800):\n",
    "        \"\"\"\n",
    "        Calculate probabilities on Mock Device\n",
    "        \"\"\"\n",
    "        return self._probabilities_backend(backend_mock, num_shots=num_shots, transpile_before=True)\n",
    "    \n",
    "    \n",
    "    def probabilities_ibmq(self, num_shots=1, secs_timeout=30):\n",
    "        \"\"\"\n",
    "        Calculate probabilities on IBM Q. If errors, fall back to mock device.\n",
    "        \"\"\"\n",
    "        try:\n",
    "            res = self._probabilities_backend(backend_ibm, num_shots=num_shots, result_options={\"timeout\": secs_timeout, \"wait\": 2}, transpile_before=True)\n",
    "            return res\n",
    "        except Exception as e:\n",
    "            print(\"Got error for running on IBM Q\", e)\n",
    "            return self.probabilities_mock(num_shots=num_shots)\n",
    "    \n",
    "    \n",
    "    def probabilities_analytical(self):\n",
    "        \"\"\"\n",
    "        Calculate probabilities using the state vector (analytical solution)\n",
    "        \"\"\"\n",
    "        mqc = self.circuit.copy()\n",
    "        # run circuit on state vector\n",
    "        result = execute(mqc, backend_ideal).result()\n",
    "        # get state vector and calculate probabilities\n",
    "        state_vector = result.get_statevector(mqc, decimals=5)\n",
    "        probs = state_vector.probabilities() if hasattr(state_vector, \"probabilities\") else np.abs(state_vector ** 2)\n",
    "        # map back to bit configurations\n",
    "        results = {\n",
    "            key: probs[i] for i, key in enumerate(CircuitExecutor.BIT_ORDER)\n",
    "        }\n",
    "        return CircuitExecutor._fill_with_zero(results)"
   ]
  },
  {
   "cell_type": "markdown",
   "metadata": {},
   "source": [
    "## Build App"
   ]
  },
  {
   "cell_type": "code",
   "execution_count": null,
   "metadata": {},
   "outputs": [],
   "source": [
    "from ipywidgets import Widget, Button, HTML, VBox, widgets, link, HBox\n",
    "import appwidgets\n",
    "from traitlets import Unicode, Dict, Int, Any, HasTraits, Bool\n",
    "from appwidgets import JsPyWidget\n",
    "import json"
   ]
  },
  {
   "cell_type": "markdown",
   "metadata": {},
   "source": [
    "### Build Data Model\n",
    "documentation of all options: https://api-docs.home-connect.com/programs-and-options?#coffee-machine"
   ]
  },
  {
   "cell_type": "code",
   "execution_count": null,
   "metadata": {},
   "outputs": [],
   "source": [
    "# gather drink metadata\n",
    "DRINKS = {\n",
    "    \"000\": {\n",
    "        \"id\": \"tea\",\n",
    "        \"name\": \"Tea\",\n",
    "        \"key\": \"NotImplemented\",\n",
    "        \"options\": {}\n",
    "    },\n",
    "    \"001\": {\n",
    "        \"id\": \"hotchocolate\",\n",
    "        \"name\": \"Hot Chocolate\",\n",
    "        \"key\": \"ConsumerProducts.CoffeeMaker.Program.Beverage.MilkFroth\",\n",
    "        \"options\": {}\n",
    "    },\n",
    "    \"010\": {\n",
    "        \"id\": \"espresso\",\n",
    "        \"name\": \"Espresso\",\n",
    "        \"key\": \"ConsumerProducts.CoffeeMaker.Program.Beverage.Espresso\",\n",
    "        \"options\": {\n",
    "            \"ConsumerProducts.CoffeeMaker.Option.FillQuantity\": 50\n",
    "        }\n",
    "    },\n",
    "    \"011\": {\n",
    "        \"id\": \"coffee\",\n",
    "        \"name\": \"Coffee\",\n",
    "        \"key\": \"ConsumerProducts.CoffeeMaker.Program.Beverage.Coffee\",\n",
    "        \"options\": {}\n",
    "    },\n",
    "    \"100\": {\n",
    "        \"id\": \"cappucino\",\n",
    "        \"name\": \"Cappucino\",\n",
    "        \"key\": \"ConsumerProducts.CoffeeMaker.Program.Beverage.Cappuccino\",\n",
    "        \"options\": {}\n",
    "    },\n",
    "    \"101\": {\n",
    "        \"id\": \"lattemacchiato\",\n",
    "        \"name\": \"Latte Macchiato\",\n",
    "        \"key\": \"ConsumerProducts.CoffeeMaker.Program.Beverage.LatteMacchiato\",\n",
    "        \"options\": {}\n",
    "    },\n",
    "    \"110\": {\n",
    "        \"id\": \"wienermelange\",\n",
    "        \"name\": \"Viennese Melange\",\n",
    "        \"key\": \"ConsumerProducts.CoffeeMaker.Program.CoffeeWorld.WienerMelange\",\n",
    "        \"options\": {}\n",
    "    },\n",
    "    \"111\": {\n",
    "        \"id\": \"americano\",\n",
    "        \"name\": \"Americano\",\n",
    "        \"key\": \"ConsumerProducts.CoffeeMaker.Program.CoffeeWorld.Americano\",\n",
    "        \"options\": {}\n",
    "    }\n",
    "}"
   ]
  },
  {
   "cell_type": "code",
   "execution_count": null,
   "metadata": {},
   "outputs": [],
   "source": [
    "# build a widget which represents the global app state\n",
    "data = Widget()\n",
    "data.add_traits(\n",
    "    # name of current circuit with which the composer was initialized\n",
    "    composer_init_circuit = Dict({\n",
    "        \"id\": \"empty\",\n",
    "        \"name\": \"\",\n",
    "        \"init_text\": \"\"\n",
    "    }).tag(sync=True),\n",
    "    # current ideal probabilities\n",
    "    histogram_anal = Dict({\n",
    "        key: 0 for key in DRINKS\n",
    "    }).tag(sync=True),\n",
    "    # current probabilities from ideal simulator\n",
    "    histogram_qasm = Dict({\n",
    "        key: 0 for key in DRINKS\n",
    "    }).tag(sync=True),\n",
    "    # current probabilities from mock device\n",
    "    histogram_mock = Dict({\n",
    "        key: 0 for key in DRINKS\n",
    "    }).tag(sync=True),\n",
    "    # id of drink from single shot measurement\n",
    "    single_shot_result = Dict({\n",
    "        \"name\": \"\",\n",
    "        \"id\": \"\",\n",
    "        \"bit\": \"\"\n",
    "    }).tag(sync=True),\n",
    "    # status of single shot measurements (0 = init, 1 = loading, 2 = done)\n",
    "    single_shot_status = Int().tag(sync=True),\n",
    "    # device on which to perform the single shot\n",
    "    single_shot_device = Unicode(\"simulator\").tag(sync=True),\n",
    "    # composer qasm\n",
    "    qasm = Unicode(\"\").tag(sync=True),\n",
    "    # check if real device is enabled\n",
    "    use_real_device = Bool(backend_ibm is not None).tag(sync=True),\n",
    "    # check if mock device results are shown\n",
    "    show_mock_results = Bool(False).tag(sync=True),\n",
    "    # check if qasm results are shown\n",
    "    show_qasm_results = Bool(False).tag(sync=True),\n",
    "    \n",
    "    #### VIEW RELATED\n",
    "    view = Unicode(\"\").tag(sync=True),\n",
    "    heading = Unicode(\"\").tag(sync=True)\n",
    ")"
   ]
  },
  {
   "cell_type": "markdown",
   "metadata": {},
   "source": [
    "### Setup the composer"
   ]
  },
  {
   "cell_type": "code",
   "execution_count": null,
   "metadata": {},
   "outputs": [],
   "source": [
    "composer = CircuitComposer(circuit=qcreg[0]['circuit'])"
   ]
  },
  {
   "cell_type": "code",
   "execution_count": null,
   "metadata": {},
   "outputs": [],
   "source": [
    "# on changes on the composer, execute the circuit to get probabilities\n",
    "def composer_update_handler(change_event):\n",
    "    # there are multiple change events, only use on\n",
    "    if change_event['name'] != \"circuit\":\n",
    "        return\n",
    "    executor = CircuitExecutor(composer.circuit)\n",
    "    # set to 0 because calc requires some time and one sees wrong results for a second or so\n",
    "    data.histogram_mock = {key: 0 for key in CircuitExecutor.BIT_ORDER}\n",
    "    # get and save ideal result\n",
    "    result_analytical = executor.probabilities_analytical()\n",
    "    data.histogram_anal = result_analytical\n",
    "    # get and save measurements\n",
    "    result_qasm = executor.probabilities_qasm()\n",
    "    data.histogram_qasm = result_qasm\n",
    "    # get and save qasm code\n",
    "    qasm = composer.circuit.qasm()\n",
    "    data.qasm = qasm\n",
    "    \n",
    "    # most time consuming :/\n",
    "    if data.show_mock_results:\n",
    "        result_mock = executor.probabilities_mock()\n",
    "        data.histogram_mock = result_mock\n",
    "    \n",
    "composer.observe(composer_update_handler)\n",
    "\n",
    "# execute the function above also on changes on data.show_mock_results and data.show_qasm_results\n",
    "data.observe(lambda x: composer_update_handler({\"name\": \"circuit\"}), names=[\"show_mock_results\", \"show_qasm_results\"])"
   ]
  },
  {
   "cell_type": "markdown",
   "metadata": {},
   "source": [
    "### Build app logic"
   ]
  },
  {
   "cell_type": "code",
   "execution_count": null,
   "metadata": {},
   "outputs": [],
   "source": [
    "# perform single shot measurement\n",
    "def get_single_shot_result():\n",
    "    data.single_shot_status = 1\n",
    "    executor = CircuitExecutor(composer.circuit)\n",
    "    counts = None\n",
    "    if data.single_shot_device == \"ibmq\":\n",
    "        counts = executor.probabilities_ibmq(num_shots=1, secs_timeout=30)\n",
    "    elif data.single_shot_device == \"mock\":\n",
    "        counts = executor.probabilities_mock(num_shots=1)\n",
    "    else:\n",
    "        counts = executor.probabilities_qasm(num_shots=1)\n",
    "        \n",
    "    bits = CircuitExecutor.get_maximum_key(counts)\n",
    "    data.single_shot_result = {\n",
    "        \"bit\": bits,\n",
    "        \"id\": DRINKS[bits][\"id\"],\n",
    "        \"name\": DRINKS[bits][\"name\"]\n",
    "    }\n",
    "    time.sleep(1.5)\n",
    "    data.single_shot_status = 2\n",
    "    return bits"
   ]
  },
  {
   "cell_type": "code",
   "execution_count": null,
   "metadata": {},
   "outputs": [],
   "source": [
    "# request a drink from the backend\n",
    "def request_drink():\n",
    "    # get result from single shot measurement\n",
    "    bit = data.single_shot_result['bit']\n",
    "    drink_key = DRINKS[bit]['key']\n",
    "    drink_options = DRINKS[bit]['options']\n",
    "    \n",
    "    def response_handler(res):\n",
    "        if 'error' in res:\n",
    "            # app.view = 'error'\n",
    "            data.single_shot_status = 4\n",
    "        else:\n",
    "            # app.view = 'success'\n",
    "            data.single_shot_status = 3\n",
    "    \n",
    "    jspy.execute_js(\n",
    "        \"window.requestDrink(\"+json.dumps(drink_key)+\", \"+json.dumps(drink_options)+\")\",\n",
    "        response_handler\n",
    "    )"
   ]
  },
  {
   "cell_type": "code",
   "execution_count": null,
   "metadata": {},
   "outputs": [],
   "source": [
    "# show the QR Code to open IBM Q with the current circuit\n",
    "def open_circuit_on_ibmq():\n",
    "    qasm = data.qasm\n",
    "    jspy.execute_js(\n",
    "        \"window.openQRCodeIBMQ(\"+json.dumps(qasm)+\")\",\n",
    "    )"
   ]
  },
  {
   "cell_type": "code",
   "execution_count": null,
   "metadata": {},
   "outputs": [],
   "source": [
    "# toggle a boolean attribute on data\n",
    "def toggle_data_attr(name):\n",
    "    setattr(data, name, not getattr(data, name))\n",
    "    \n",
    "    \n",
    "# toggle device to use for single shots\n",
    "def set_next_single_shot_device():\n",
    "    if data.single_shot_device == 'simulator':\n",
    "        data.single_shot_device = 'mock'\n",
    "    elif data.single_shot_device == 'mock':\n",
    "        if data.use_real_device:\n",
    "            data.single_shot_device = 'ibmq'\n",
    "        else:\n",
    "            data.single_shot_device = 'simulator'\n",
    "    elif data.single_shot_device == 'ibmq':\n",
    "        data.single_shot_device = 'simulator'\n",
    "    else:\n",
    "        data.single_shot_device = 'simulator'"
   ]
  },
  {
   "cell_type": "code",
   "execution_count": null,
   "metadata": {},
   "outputs": [],
   "source": [
    "## functions to load specific views\n",
    "\n",
    "# load welcome view\n",
    "def load_welcome():\n",
    "    data.view = 'welcome'\n",
    "    data.heading = \"Qoffee Maker powered by <b>IBM Quantum</b>\"\n",
    "    \n",
    "\n",
    "# load starting point (set circuit in composer, reset some attributes, ...)\n",
    "def load_starting_point(circuit_id):\n",
    "    circuit_data = next(filter(lambda x: x['id'] == circuit_id, qcreg))\n",
    "    data.composer_init_circuit = {\n",
    "        \"id\": circuit_data[\"id\"],\n",
    "        \"name\": circuit_data[\"name\"],\n",
    "        \"init_text\": circuit_data[\"init_text\"]\n",
    "    }\n",
    "    data.single_shot_device = 'simulator'\n",
    "    data.single_shot_status = 0\n",
    "    composer.circuit = circuit_data['circuit']\n",
    "    data.show_mock_results = False\n",
    "    data.show_qasm_results = False\n",
    "    # data.heading = \"Composer: \"+circuit_data[\"name\"]\n",
    "    data.view = 'composer'"
   ]
  },
  {
   "cell_type": "markdown",
   "metadata": {},
   "source": [
    "### Build views"
   ]
  },
  {
   "cell_type": "code",
   "execution_count": null,
   "metadata": {},
   "outputs": [],
   "source": [
    "app = appwidgets.AppBox(init_view='welcome')\n",
    "link((app, \"view\"), (data, \"view\"))\n",
    "jspy = JsPyWidget()"
   ]
  },
  {
   "cell_type": "markdown",
   "metadata": {},
   "source": [
    "#### Header"
   ]
  },
  {
   "cell_type": "code",
   "execution_count": null,
   "metadata": {},
   "outputs": [],
   "source": [
    "header = appwidgets.ReactiveHtmlWidget(\"\"\"\n",
    "    <div id=\"header\">\n",
    "        <img src=\"css/QoffeeMug.png\"/>\n",
    "        <h1>${heading}</h1>\n",
    "        <div id=\"navigation-container\">\n",
    "            <button id=\"navigation-button-q\" data-device=\"${single_shot_device}\" data-rh-exec='set_next_single_shot_device()'>Q</button>\n",
    "            <button id=\"navigation-button-back\" data-rh-if=\"${view} != 'welcome'\" class=\"navigation-button\" data-rh-exec=\"load_welcome()\">&#5130;</button>\n",
    "            <button id=\"navigation-button-help\" data-rh-exec-js='window.openHelp()'>?</button>\n",
    "        </div>\n",
    "    </div>\n",
    "\"\"\", data_model=data)\n",
    "header.load_css(\"./css/header.css\")\n",
    "data.heading = \"Qoffee Maker powered by <b>IBM Quantum</b>\""
   ]
  },
  {
   "cell_type": "markdown",
   "metadata": {},
   "source": [
    "#### Welcome View"
   ]
  },
  {
   "cell_type": "code",
   "execution_count": null,
   "metadata": {},
   "outputs": [],
   "source": [
    "# helper function to get html code\n",
    "def get_circuit_selection_html(circuit_id, width=12):\n",
    "    circuit_data = next(filter(lambda x: x['id'] == circuit_id, qcreg))\n",
    "    return \"\"\"\n",
    "    <div class=\"col-md-\"\"\"+str(width)+\"\"\"\">\n",
    "        <div class=\"card\" data-rh-exec=\"load_starting_point('\"\"\"+circuit_id+\"\"\"')\">\n",
    "          <div class=\"card-body\">\n",
    "            <h5 class=\"card-title\">\"\"\"+circuit_data['name']+\"\"\"</h5>\n",
    "            <p class=\"card-text\">\"\"\"+circuit_data['init_text']+\"\"\"</p>\n",
    "            <span class=\"arrow\">→</span>\n",
    "          </div>\n",
    "        </div>\n",
    "    </div>\n",
    "    \"\"\""
   ]
  },
  {
   "cell_type": "code",
   "execution_count": null,
   "metadata": {},
   "outputs": [],
   "source": [
    "view_welcome_content = appwidgets.ReactiveHtmlWidget(\"\"\"\n",
    "    <div id=\"view-welcome\" class=\"app-view-content\">\n",
    "        <h3>Welcome to the Qoffee Maker</h3>\n",
    "        <br/>\n",
    "        <div class=\"row mt-4\">\n",
    "            <div class=\"col-md-12\">\n",
    "                <div class=\"row align-items-stretch card-primary\">\"\"\"+\n",
    "                    get_circuit_selection_html('empty', 3)\n",
    "                +\"\"\"\n",
    "                </div>\n",
    "            </div>\n",
    "        </div>\n",
    "        <br/>\n",
    "        <br/>\n",
    "        <br/>\n",
    "        <div class=\"row mt-4\">\n",
    "            <div class=\"col-md-12\">\n",
    "                <h4>Start with the examples from qoffee-maker.org</h4>\n",
    "                <div class=\"row align-items-stretch\">\"\"\"+\n",
    "                    get_circuit_selection_html('anything', 3) +\n",
    "                    get_circuit_selection_html('cappucino', 3) +\n",
    "                    get_circuit_selection_html('withoutcoffein', 3) + \n",
    "                    get_circuit_selection_html('nothingstrong', 3) + \n",
    "                    get_circuit_selection_html('teaorcoffee', 3)\n",
    "                +\"\"\"\n",
    "                </div>\n",
    "            </div>\n",
    "        </div>\n",
    "    </div>\n",
    "\"\"\")\n",
    "\n",
    "view_welcome_content.load_css(\"./css/view_welcome.css\")"
   ]
  },
  {
   "cell_type": "code",
   "execution_count": null,
   "metadata": {},
   "outputs": [],
   "source": [
    "view_welcome = VBox([header, view_welcome_content])"
   ]
  },
  {
   "cell_type": "markdown",
   "metadata": {},
   "source": [
    "#### Composer View"
   ]
  },
  {
   "cell_type": "code",
   "execution_count": null,
   "metadata": {},
   "outputs": [],
   "source": [
    "# Introtext\n",
    "#view_composer_intro = appwidgets.ReactiveHtmlWidget(\"\"\"\n",
    "#    <p>{{${composer_init_circuit}['init_text']}}</p>\n",
    "#\"\"\", data_model=data)\n",
    "view_composer_intro = appwidgets.ReactiveHtmlWidget(\"\"\"\n",
    "    <p>Drag & Drop Quantum Gates onto the Qubits to build your circuit. <span data-rh-exec=\"load_welcome()\">Go back</span>.</p>\n",
    "    <div id=\"gate-toggle-button\" data-rh-exec-js='window.toggleGates()'></div>\n",
    "\"\"\")\n",
    "view_composer_intro.load_css(\"./css/view_composer_intro.css\")\n",
    "\n",
    "# Histogram\n",
    "hist_html = \"\"\n",
    "for key, value in DRINKS.items():\n",
    "    hist_html += \"\"\"\n",
    "        <div class=\"histogram-entry\">\n",
    "            <div class=\"histogram-text-container-pre\">\n",
    "                <p><span class=\"histogram-text histogram-text-ideal histogram-text-\"\"\"+key+\"\"\"\"\">{{int(${histogram_anal}['\"\"\"+key+\"\"\"']*1000)/10}}%</span></p>\n",
    "            </div>\n",
    "            <div class=\"histogram-bar-container\">\n",
    "                <div class=\"histogram-bar-outer\">\n",
    "                    <div data-rh-if=\"${show_qasm_results}\" style=\"height: {{${histogram_qasm}['\"\"\"+key+\"\"\"']*100}}%\" class=\"histogram-bar histogram-bar-qasm histogram-bar-\"\"\"+key+\"\"\"\"></div>\n",
    "                    <div style=\"height: {{${histogram_anal}['\"\"\"+key+\"\"\"']*100}}%\" class=\"histogram-bar histogram-bar-anal histogram-bar-\"\"\"+key+\"\"\"\"></div>\n",
    "                    <div data-rh-if=\"${show_mock_results}\" style=\"height: {{${histogram_mock}['\"\"\"+key+\"\"\"']*100}}%\" class=\"histogram-bar histogram-bar-mock histogram-bar-\"\"\"+key+\"\"\"\"></div>\n",
    "                </div>\n",
    "            </div>\n",
    "            <div class=\"histogram-text-container-post\">\n",
    "                <p>\"\"\"+key+\"\"\"<br/><br/>\"\"\"+value[\"name\"]+\"\"\"</p>\n",
    "            </div>\n",
    "        </div>\n",
    "    \"\"\"\n",
    "    \n",
    "view_composer_button_bar = appwidgets.ReactiveHtmlWidget(\"\"\"\n",
    "    <div id=\"view-composer-hist-header\">\n",
    "        <h3>Measurement Probabilities</h3>\n",
    "    </div>\n",
    "    <div id=\"view-composer-button-bar\">\n",
    "        <button id=\"view-composer-show-theo-btn\" data-active=\"True\" class=\"btn btn-default\">Theoretical</button>\n",
    "        <button id=\"view-composer-show-qasm-btn\" data-active=\"${show_qasm_results}\" class=\"btn btn-default\" data-rh-exec=\"toggle_data_attr('show_qasm_results')\">Simulator (error free)</button>\n",
    "        <button id=\"view-composer-show-mock-btn\" data-active=\"${show_mock_results}\" class=\"btn btn-default mr-4\" data-rh-exec=\"toggle_data_attr('show_mock_results')\">Simulator (real quantum device)</button>\n",
    "        <button class=\"btn btn-default mr-4\" data-rh-exec=\"open_circuit_on_ibmq()\">Export to IBM Quantum Composer</button>\n",
    "    </div>\n",
    "    \n",
    "\"\"\", data_model=data)\n",
    "view_composer_button_bar.load_css(\"./css/view_composer_button_bar.css\")\n",
    "\n",
    "view_composer_hist = appwidgets.ReactiveHtmlWidget(\"\"\"\n",
    "<div id=\"view-composer-hist-container\">\n",
    "    <div id=\"view-composer-hist\">\"\"\"+hist_html+\"\"\"</div>\n",
    "</div>\n",
    "\"\"\", data_model=data)\n",
    "view_composer_hist.load_css(\"./css/view_composer_hist.css\")\n",
    "\n",
    "def _createOpenmojiImageCode(openmojiId: str, altText: str) -> str:\n",
    "    return f\"<img src='icons/openmoji-svg-color/{openmojiId}.svg' alt='{altText}' style='margin-left: auto; margin-right: auto; width: 50%''>\"\n",
    "\n",
    "drinkImgCode = _createOpenmojiImageCode('2615', 'Hot beverage')\n",
    "successImgCode = _createOpenmojiImageCode('1F44D', 'Thumbs up')\n",
    "failureImgCode = _createOpenmojiImageCode('1F635', 'Knocked-out face')\n",
    "\n",
    "singleShotComposerCode = \"\"\"\n",
    "    <div id=\"view-composer-singleshot-container\">\n",
    "        <div id=\"view-composer-singleshot\">\n",
    "            <button class=\"btn btn-primary btn-block\" data-rh-exec=\"get_single_shot_result()\">Determine your beverage</button>\n",
    "            <br/>\n",
    "            <div data-rh-if='${single_shot_status}==1' class=\"width-100\">\n",
    "                <p style=\"width: 100%; text-align: center;\">Loading...\n",
    "            </div>\n",
    "            <div id=\"view-composer-singleshot-result\"data-rh-if='${single_shot_status}==2' class=\"view-composer-order-text width-100\">\n",
    "                <p>\"\"\" + drinkImgCode + \"\"\"<br>{{${single_shot_result}[\"name\"]}}</p>\n",
    "                <button class=\"btn btn-primary btn-block\" data-rh-exec=\"request_drink()\">Order Drink →</button>\n",
    "            </div>\n",
    "            <div data-rh-if='${single_shot_status}==3' class=\"view-composer-order-text width-100\">\n",
    "                <p>\"\"\" + successImgCode + \"\"\"<br>Thank you and enjoy your drink</p>\n",
    "                <button class=\"btn btn-primary btn-block\" data-rh-exec=\"load_welcome()\">Back</button>\n",
    "            </div>\n",
    "            <div data-rh-if='${single_shot_status}==4' class=\"view-composer-order-text width-100\">\n",
    "                <p>\"\"\" + failureImgCode + \"\"\"<br>Oh no, something went wrong.</p>\n",
    "                <button class=\"btn btn-primary btn-block\" data-rh-exec=\"load_welcome()\">Back</button>\n",
    "            </div>\n",
    "            <br/> \n",
    "        </div>\n",
    "    </div>\n",
    "\"\"\"        \n",
    "# Single Shot\n",
    "view_composer_singleshot = appwidgets.ReactiveHtmlWidget(singleShotComposerCode, data_model=data)\n",
    "view_composer_singleshot.load_css(\"./css/view_composer_singleshot.css\")"
   ]
  },
  {
   "cell_type": "code",
   "execution_count": null,
   "metadata": {},
   "outputs": [],
   "source": [
    "view_composer_singleshot"
   ]
  },
  {
   "cell_type": "code",
   "execution_count": null,
   "metadata": {},
   "outputs": [],
   "source": [
    "# assemble composer view\n",
    "view_composer = VBox([\n",
    "    header,\n",
    "    VBox([\n",
    "        view_composer_intro,\n",
    "        composer,\n",
    "        HBox([\n",
    "            VBox([\n",
    "                view_composer_button_bar,\n",
    "                view_composer_hist\n",
    "            ]).add_class(\"width-80\"),\n",
    "            view_composer_singleshot.add_class(\"width-20\")\n",
    "        ])\n",
    "    ]).add_class(\"app-view-content\")  \n",
    "])"
   ]
  },
  {
   "cell_type": "markdown",
   "metadata": {},
   "source": [
    "#### Error View"
   ]
  },
  {
   "cell_type": "code",
   "execution_count": null,
   "metadata": {},
   "outputs": [],
   "source": [
    "view3_content = appwidgets.ReactiveHtmlWidget(f\"\"\"\n",
    "    <div class=\"app-view-content\">\n",
    "        <h1>Oh no, something went wrong{failureImgCode}<br></h1>\n",
    "    </div>\n",
    "\"\"\")\n",
    "\n",
    "view_fail = VBox([\n",
    "    header,\n",
    "    view3_content\n",
    "])"
   ]
  },
  {
   "cell_type": "markdown",
   "metadata": {},
   "source": [
    "#### Success View"
   ]
  },
  {
   "cell_type": "code",
   "execution_count": null,
   "metadata": {},
   "outputs": [],
   "source": [
    "view4_content = appwidgets.ReactiveHtmlWidget(\"\"\"\n",
    "    <div class=\"app-view-content\">\n",
    "        <h1>Thank you and enjoy your drink ☕️</h1>\n",
    "    </div>\n",
    "\"\"\")\n",
    "\n",
    "view_success = VBox([\n",
    "    header,\n",
    "    view4_content\n",
    "])"
   ]
  },
  {
   "cell_type": "markdown",
   "metadata": {},
   "source": [
    "### Assemble View"
   ]
  },
  {
   "cell_type": "code",
   "execution_count": null,
   "metadata": {},
   "outputs": [],
   "source": [
    "app.add_widget('welcome', view_welcome)\n",
    "app.add_widget('composer', view_composer)\n",
    "app.add_widget('error', view_fail)\n",
    "app.add_widget('success', view_success)"
   ]
  },
  {
   "cell_type": "markdown",
   "metadata": {},
   "source": [
    "# Show App"
   ]
  },
  {
   "cell_type": "code",
   "execution_count": null,
   "metadata": {
    "scrolled": false
   },
   "outputs": [],
   "source": [
    "### APP\n",
    "app"
   ]
  },
  {
   "cell_type": "code",
   "execution_count": null,
   "metadata": {},
   "outputs": [],
   "source": []
  },
  {
   "cell_type": "code",
   "execution_count": null,
   "metadata": {},
   "outputs": [],
   "source": []
  }
 ],
 "metadata": {
  "kernelspec": {
   "display_name": "Python 3 (ipykernel)",
   "language": "python",
   "name": "python3"
  },
  "language_info": {
   "codemirror_mode": {
    "name": "ipython",
    "version": 3
   },
   "file_extension": ".py",
   "mimetype": "text/x-python",
   "name": "python",
   "nbconvert_exporter": "python",
   "pygments_lexer": "ipython3",
   "version": "3.9.12"
  },
  "widgets": {
   "application/vnd.jupyter.widget-state+json": {
    "state": {
     "0c02398311954a4693f2654bfc130bd3": {
      "model_module": "appwidgets",
      "model_module_version": "^0.1.0",
      "model_name": "ReactiveHtmlModel",
      "state": {
       "_css": "\n.<<VIEW_ID>> #header {\n\n    width: 100%;\n\n    background-color: black;\n\n    height: 58px;\n\n    display: block;\n\n    position: relative;\n\n    margin-bottom: 3em;\n\n}\n\n\n\n.<<VIEW_ID>> #header h1 {\n\n    color: white;\n\n    font-size: 26px;\n\n    line-height: 58px;\n\n    margin: 0;\n\n    padding: 0;\n\n    position: absolute;\n\n    top: 0em;\n\n    left: 62px;\n\n}\n\n\n\n.<<VIEW_ID>> #navigation-container {\n\n    position: absolute;\n\n    width: 200px;\n\n    right: 10px;\n\n    top: 0;\n\n    height: 58px;\n\n}\n\n\n\n.<<VIEW_ID>> #navigation-container button {\n\n    width: 58px;\n\n    position: absolute;\n\n    background-color: black;\n\n    border-radius: 0;\n\n    border-style: none;\n\n    height: 58px;\n\n    color: white;\n\n}\n\n\n\n.<<VIEW_ID>> #navigation-container #navigation-button-back {\n\n    right: 58px;\n\n}\n\n.<<VIEW_ID>> #navigation-container #navigation-button-help {\n\n    right: 0px;\n\n}\n\n\n\n.<<VIEW_ID>> #navigation-container #navigation-button-q {\n\n    right: 116px;\n\n}\n\n.<<VIEW_ID>> #navigation-container #navigation-button-q[data-device=ibmq] {\n\n    background-color: rgba(40, 105, 245);\n\n}\n\n.<<VIEW_ID>> #navigation-container #navigation-button-q[data-device=mock] {\n\n    background-color: rgb(0, 135, 92);\n\n}\n\n.<<VIEW_ID>> #navigation-container #navigation-button-q[data-device=simulator] {\n\n    background-color: rgb(116, 0, 123);\n\n}\n\n\n\n\n\n.<<VIEW_ID>> #header img {\n\n    position: absolute;\n\n    height: 32px;\n\n    left: 15px;\n\n    top: 13px;\n\n}",
       "_model_module_version": "^0.1.0",
       "_rendered": "\n<div id=\"header\">\n<img src=\"css/QoffeeMug.png\"/>\n<h1>Qoffee Maker powered by <b>IBM Quantum</b></h1>\n<div id=\"navigation-container\">\n<button data-device=\"simulator\" data-rh-exec=\"set_next_single_shot_device()\" id=\"navigation-button-q\">Q</button>\n\n<button data-rh-exec-js='window.openQRCode(\"http://qoffee-maker.org\", \"http://qoffee-maker.org\")' id=\"navigation-button-help\">?</button>\n</div>\n</div>\n",
       "_view_module_version": "^0.1.0",
       "layout": "IPY_MODEL_624fe63119474c549362b289a00acc40"
      }
     },
     "0c7a018b3ff2418e8f6e8cc334d5bc2c": {
      "model_module": "appwidgets",
      "model_module_version": "^0.1.0",
      "model_name": "ReactiveHtmlModel",
      "state": {
       "_css": "",
       "_model_module_version": "^0.1.0",
       "_rendered": "\n<div class=\"app-view-content\">\n<h1>Thank you and enjoy your drink ☕️</h1>\n</div>\n",
       "_view_module_version": "^0.1.0",
       "layout": "IPY_MODEL_6de970b9a3a54e2a8bcb108423ffc12f"
      }
     },
     "1246c77569f542c790f6325b44a2dd81": {
      "model_module": "appwidgets",
      "model_module_version": "^0.1.0",
      "model_name": "ReactiveHtmlModel",
      "state": {
       "_css": "\n.<<VIEW_ID>> #view-composer-singleshot button {\n\n    font-size: 1.5em;\n\n}\n\n\n\n.<<VIEW_ID>> #view-composer-singleshot button.btn-primary {\n\n    color: white;\n\n    background-color: rgba(40, 105, 245);\n\n    border-color: rgba(40, 105, 245);\n\n    border-radius: 0;\n\n}\n\n\n\n\n\n.<<VIEW_ID>> .view-composer-order-text p {\n\n    margin-top: 20px;\n\n    margin-bottom: 30px;\n\n    width: 100%;\n\n    text-align: center;\n\n    font-size: 3em;\n\n    line-height: 1.2;\n\n}",
       "_dom_classes": [
        "width-20"
       ],
       "_model_module_version": "^0.1.0",
       "_rendered": "\n<div id=\"view-composer-singleshot-container\">\n<div id=\"view-composer-singleshot\">\n<button class=\"btn btn-primary btn-block\" data-rh-exec=\"get_single_shot_result()\">Determine your beverage</button>\n<br/>\n\n\n\n\n<br>\n</br></div>\n</div>\n",
       "_view_module_version": "^0.1.0",
       "layout": "IPY_MODEL_5b10bfde900f4379ba279a81b4603f68"
      }
     },
     "16fff679071a4abab97c04f1e4516781": {
      "model_module": "appwidgets",
      "model_module_version": "^0.1.0",
      "model_name": "ReactiveHtmlModel",
      "state": {
       "_css": "\n.<<VIEW_ID>> #view-composer-singleshot button {\n\n    font-size: 1.5em;\n\n}\n\n\n\n.<<VIEW_ID>> #view-composer-singleshot button.btn-primary {\n\n    color: white;\n\n    background-color: rgba(40, 105, 245);\n\n    border-color: rgba(40, 105, 245);\n\n    border-radius: 0;\n\n}\n\n\n\n\n\n.<<VIEW_ID>> .view-composer-order-text p {\n\n    margin-top: 20px;\n\n    margin-bottom: 30px;\n\n    width: 100%;\n\n    text-align: center;\n\n    font-size: 3em;\n\n    line-height: 1.2;\n\n}",
       "_model_module_version": "^0.1.0",
       "_rendered": "\n<div id=\"view-composer-singleshot-container\">\n<div id=\"view-composer-singleshot\">\n<button class=\"btn btn-primary btn-block\" data-rh-exec=\"get_single_shot_result()\">Determine your beverage</button>\n<br/>\n\n<div class=\"view-composer-order-text width-100\" data-rh-if=\"2==2\" id=\"view-composer-singleshot-result\">\n<p><img '=\"\" alt=\"Hot beverage\" src=\"icons/openmoji-svg-color/2615.svg\" style=\"margin-left: auto; margin-right: auto; width: 50%\"/><br/>Tea</p>\n<button class=\"btn btn-primary btn-block\" data-rh-exec=\"request_drink()\">Order Drink →</button>\n</div>\n\n\n<br>\n</br></div>\n</div>\n",
       "_view_module_version": "^0.1.0",
       "layout": "IPY_MODEL_72635b3e4d724343812efd495db52230"
      }
     },
     "1a2623ee908c4e9a916c4a9eb0318185": {
      "model_module": "@jupyter-widgets/base",
      "model_module_version": "1.2.0",
      "model_name": "LayoutModel",
      "state": {}
     },
     "214b83f266e244eda23e4a0893b8f40a": {
      "model_module": "@jupyter-widgets/base",
      "model_module_version": "1.2.0",
      "model_name": "LayoutModel",
      "state": {}
     },
     "23d5376cd5b54c02bb0dfe95153fa35e": {
      "model_module": "appwidgets",
      "model_module_version": "^0.1.0",
      "model_name": "ReactiveHtmlModel",
      "state": {
       "_css": "\n/*\n\n\tHistogram\n\n*/\n\n.<<VIEW_ID>> #view-composer-hist-container {\n\n\twidth: 100%;\n\n\tpadding: 0 50px 0 10px;\n\n    margin-top: 50px;\n\n}\n\n.<<VIEW_ID>> #view-composer-hist-container #view-composer-hist {\n\n\twidth: 100%;\n\n\theight: 100%;\n\n\tdisplay: flex;\n\n\tflex-direction: row;\n\n\tjustify-content: space-evenly;\n\n\talign-items: stretch;\n\n}\n\n.<<VIEW_ID>> #view-composer-hist-container .histogram-entry {\n\n\tposition: relative;\n\n\tflex: 0 0 12.5%;\n\n}\n\n.<<VIEW_ID>> #view-composer-hist-container .histogram-entry p {\n\n\ttext-align: center;\n\n    font-size: 1.5em;\n\n}\n\n.<<VIEW_ID>> #view-composer-hist-container .histogram-bar-container {\n\n\tposition: relative;\n\n\theight: 25vh;\n\n}\n\n.<<VIEW_ID>> #view-composer-hist-container .histogram-bar-outer {\n\n\twidth: 60px;\n\n\tleft: 50%;\n\n\tmargin-left: -30px;\n\n\theight: 100%;\n\n\tposition: relative;\n\n\t/* background-color: lightgray; */\n\n}\n\n.<<VIEW_ID>> #view-composer-hist-container .histogram-bar {\n\n\tposition: absolute;\n\n\tbottom: 0;\n\n\theight: 0;\n\n\twidth: 33%;\n\n}\n\n\n\n.<<VIEW_ID>> #view-composer-hist-container .histogram-bar-qasm {\n\n\tbackground-color: rgb(116, 0, 123);\n\n\tleft: 0%;\n\n}\n\n.<<VIEW_ID>> #view-composer-hist-container .histogram-bar-anal {\n\n\tbackground-color: rgba(40, 105, 245);\n\n\tleft: 33%;\n\n}\n\n.<<VIEW_ID>> #view-composer-hist-container .histogram-bar-mock {\n\n\tbackground-color: rgb(0, 135, 92);\n\n\tleft: 66%;\n\n}\n\n\n\n.<<VIEW_ID>> #view-composer-hist-container .histogram-text-container-pre {\n\n    margin-bottom: 20px;\n\n}\n\n\n\n.<<VIEW_ID>> #view-composer-hist-container .histogram-text-container-post {\n\n    margin-top: 20px;\n\n\tmargin-bottom: 10px;\n\n}",
       "_model_module_version": "^0.1.0",
       "_rendered": "\n<div id=\"view-composer-hist-container\">\n<div id=\"view-composer-hist\">\n<div class=\"histogram-entry\">\n<div class=\"histogram-text-container-pre\">\n<p><span \"=\"\" class=\"histogram-text histogram-text-ideal histogram-text-000\">12.4%</span></p>\n</div>\n<div class=\"histogram-bar-container\">\n<div class=\"histogram-bar-outer\">\n\n<div class=\"histogram-bar histogram-bar-anal histogram-bar-000\" style=\"height: 12.499760249999998%\"></div>\n\n</div>\n</div>\n<div class=\"histogram-text-container-post\">\n<p>000<br/><br/>Tea</p>\n</div>\n</div>\n<div class=\"histogram-entry\">\n<div class=\"histogram-text-container-pre\">\n<p><span \"=\"\" class=\"histogram-text histogram-text-ideal histogram-text-001\">12.4%</span></p>\n</div>\n<div class=\"histogram-bar-container\">\n<div class=\"histogram-bar-outer\">\n\n<div class=\"histogram-bar histogram-bar-anal histogram-bar-001\" style=\"height: 12.499760249999998%\"></div>\n\n</div>\n</div>\n<div class=\"histogram-text-container-post\">\n<p>001<br/><br/>Hot Chocolate</p>\n</div>\n</div>\n<div class=\"histogram-entry\">\n<div class=\"histogram-text-container-pre\">\n<p><span \"=\"\" class=\"histogram-text histogram-text-ideal histogram-text-010\">12.4%</span></p>\n</div>\n<div class=\"histogram-bar-container\">\n<div class=\"histogram-bar-outer\">\n\n<div class=\"histogram-bar histogram-bar-anal histogram-bar-010\" style=\"height: 12.499760249999998%\"></div>\n\n</div>\n</div>\n<div class=\"histogram-text-container-post\">\n<p>010<br/><br/>Espresso</p>\n</div>\n</div>\n<div class=\"histogram-entry\">\n<div class=\"histogram-text-container-pre\">\n<p><span \"=\"\" class=\"histogram-text histogram-text-ideal histogram-text-011\">12.4%</span></p>\n</div>\n<div class=\"histogram-bar-container\">\n<div class=\"histogram-bar-outer\">\n\n<div class=\"histogram-bar histogram-bar-anal histogram-bar-011\" style=\"height: 12.499760249999998%\"></div>\n\n</div>\n</div>\n<div class=\"histogram-text-container-post\">\n<p>011<br/><br/>Coffee</p>\n</div>\n</div>\n<div class=\"histogram-entry\">\n<div class=\"histogram-text-container-pre\">\n<p><span \"=\"\" class=\"histogram-text histogram-text-ideal histogram-text-100\">12.4%</span></p>\n</div>\n<div class=\"histogram-bar-container\">\n<div class=\"histogram-bar-outer\">\n\n<div class=\"histogram-bar histogram-bar-anal histogram-bar-100\" style=\"height: 12.499760249999998%\"></div>\n\n</div>\n</div>\n<div class=\"histogram-text-container-post\">\n<p>100<br/><br/>Cappucino</p>\n</div>\n</div>\n<div class=\"histogram-entry\">\n<div class=\"histogram-text-container-pre\">\n<p><span \"=\"\" class=\"histogram-text histogram-text-ideal histogram-text-101\">12.4%</span></p>\n</div>\n<div class=\"histogram-bar-container\">\n<div class=\"histogram-bar-outer\">\n\n<div class=\"histogram-bar histogram-bar-anal histogram-bar-101\" style=\"height: 12.499760249999998%\"></div>\n\n</div>\n</div>\n<div class=\"histogram-text-container-post\">\n<p>101<br/><br/>Latte Macchiato</p>\n</div>\n</div>\n<div class=\"histogram-entry\">\n<div class=\"histogram-text-container-pre\">\n<p><span \"=\"\" class=\"histogram-text histogram-text-ideal histogram-text-110\">12.4%</span></p>\n</div>\n<div class=\"histogram-bar-container\">\n<div class=\"histogram-bar-outer\">\n\n<div class=\"histogram-bar histogram-bar-anal histogram-bar-110\" style=\"height: 12.499760249999998%\"></div>\n\n</div>\n</div>\n<div class=\"histogram-text-container-post\">\n<p>110<br/><br/>Viennese Melange</p>\n</div>\n</div>\n<div class=\"histogram-entry\">\n<div class=\"histogram-text-container-pre\">\n<p><span \"=\"\" class=\"histogram-text histogram-text-ideal histogram-text-111\">12.4%</span></p>\n</div>\n<div class=\"histogram-bar-container\">\n<div class=\"histogram-bar-outer\">\n\n<div class=\"histogram-bar histogram-bar-anal histogram-bar-111\" style=\"height: 12.499760249999998%\"></div>\n\n</div>\n</div>\n<div class=\"histogram-text-container-post\">\n<p>111<br/><br/>Americano</p>\n</div>\n</div>\n</div>\n</div>\n",
       "_view_module_version": "^0.1.0",
       "layout": "IPY_MODEL_5f6f1eca554c4bb1ad869c99b95c5952"
      }
     },
     "27257cc8205441319ecf970261efc09c": {
      "model_module": "@jupyter-widgets/controls",
      "model_module_version": "1.5.0",
      "model_name": "VBoxModel",
      "state": {
       "children": [
        "IPY_MODEL_b0d7df6a7a704026b89aef7918627d0d",
        "IPY_MODEL_6c9200f7a8ea4bb5bb8dce17e5fc9789"
       ],
       "layout": "IPY_MODEL_5b6ffa061ddb4f3d82960d4786e63a95"
      }
     },
     "3ac231a0f216436d87da15e01c479b6b": {
      "model_module": "appwidgets",
      "model_module_version": "^0.1.0",
      "model_name": "JsPyModel",
      "state": {
       "_model_module_version": "^0.1.0",
       "_view_module": null,
       "_view_module_version": ""
      }
     },
     "3c05ba5c6d8c461683267b72a0227388": {
      "model_module": "@jupyter-widgets/base",
      "model_module_version": "1.2.0",
      "model_name": "LayoutModel",
      "state": {}
     },
     "4079198670994a98bd268e9a5aeb5196": {
      "model_module": "@jupyter-widgets/base",
      "model_module_version": "1.2.0",
      "model_name": "LayoutModel",
      "state": {}
     },
     "40ffec25eb954525ac23ec620ba301e5": {
      "model_module": "@jupyter-widgets/base",
      "model_module_version": "1.2.0",
      "model_name": "LayoutModel",
      "state": {}
     },
     "43ddc1fb15e441caa4fa7a0ec21d1edf": {
      "model_module": "@jupyter-widgets/base",
      "model_module_version": "1.2.0",
      "model_name": "LayoutModel",
      "state": {}
     },
     "478b6e1330c3489a9e149afb0480461d": {
      "model_module": "@jupyter-widgets/controls",
      "model_module_version": "1.5.0",
      "model_name": "VBoxModel",
      "state": {
       "children": [
        "IPY_MODEL_b0d7df6a7a704026b89aef7918627d0d",
        "IPY_MODEL_0c7a018b3ff2418e8f6e8cc334d5bc2c"
       ],
       "layout": "IPY_MODEL_a955366c02e04550bd55147e630e242d"
      }
     },
     "539f2337801449499355a4f91d79fa7d": {
      "model_module": "@jupyter-widgets/base",
      "model_module_version": "1.2.0",
      "model_name": "LayoutModel",
      "state": {}
     },
     "540f422633c54bde988185cc96fd2b2b": {
      "model_module": "appwidgets",
      "model_module_version": "^0.1.0",
      "model_name": "JsPyModel",
      "state": {
       "_model_module_version": "^0.1.0",
       "_view_module": null,
       "_view_module_version": ""
      }
     },
     "5b10bfde900f4379ba279a81b4603f68": {
      "model_module": "@jupyter-widgets/base",
      "model_module_version": "1.2.0",
      "model_name": "LayoutModel",
      "state": {}
     },
     "5b6ffa061ddb4f3d82960d4786e63a95": {
      "model_module": "@jupyter-widgets/base",
      "model_module_version": "1.2.0",
      "model_name": "LayoutModel",
      "state": {}
     },
     "5f1ee4ea57ae421eb735f47b98fe2d10": {
      "model_module": "@jupyter-widgets/base",
      "model_module_version": "1.2.0",
      "model_name": "WidgetModel",
      "state": {
       "_view_module": null,
       "_view_module_version": "",
       "composer_init_circuit": {
        "id": "anything",
        "init_text": "",
        "name": "Just something to drink"
       },
       "heading": "Qoffee Maker powered by <b>IBM Quantum</b>",
       "histogram_anal": {
        "100": 0.12499760249999999,
        "101": 0.12499760249999999,
        "110": 0.12499760249999999,
        "111": 0.12499760249999999,
        "000": 0.12499760249999999,
        "001": 0.12499760249999999,
        "010": 0.12499760249999999,
        "011": 0.12499760249999999
       },
       "histogram_mock": {
        "100": 0,
        "101": 0,
        "110": 0,
        "111": 0,
        "000": 0,
        "001": 0,
        "010": 0,
        "011": 0
       },
       "histogram_qasm": {
        "100": 0.1325,
        "101": 0.1325,
        "110": 0.13375,
        "111": 0.13625,
        "000": 0.11875,
        "001": 0.09625,
        "010": 0.12625,
        "011": 0.12375
       },
       "qasm": "OPENQASM 2.0;\ninclude \"qelib1.inc\";\nqreg q[3];\ncreg c[3];\nh q[0];\nh q[1];\nh q[2];\n",
       "show_mock_results": false,
       "show_qasm_results": false,
       "single_shot_device": "simulator",
       "single_shot_result": {
        "bit": "",
        "id": "",
        "name": ""
       },
       "single_shot_status": 0,
       "use_real_device": false,
       "view": "composer"
      }
     },
     "5f6f1eca554c4bb1ad869c99b95c5952": {
      "model_module": "@jupyter-widgets/base",
      "model_module_version": "1.2.0",
      "model_name": "LayoutModel",
      "state": {}
     },
     "601007c14b23469a84a30a9ce16c4917": {
      "model_module": "@jupyter-widgets/base",
      "model_module_version": "1.2.0",
      "model_name": "LayoutModel",
      "state": {}
     },
     "624fe63119474c549362b289a00acc40": {
      "model_module": "@jupyter-widgets/base",
      "model_module_version": "1.2.0",
      "model_name": "LayoutModel",
      "state": {}
     },
     "668e0493b38540d2ba9882c6d953ef7a": {
      "model_module": "@jupyter-widgets/base",
      "model_module_version": "1.2.0",
      "model_name": "LayoutModel",
      "state": {}
     },
     "66a58317055b4766b356b41ec6e5254c": {
      "model_module": "appwidgets",
      "model_module_version": "^0.1.0",
      "model_name": "ReactiveHtmlModel",
      "state": {
       "_css": "",
       "_model_module_version": "^0.1.0",
       "_rendered": "\n<div class=\"app-view-content\">\n<h1>Oh no, something went wrong<img '=\"\" alt=\"Knocked-out face\" src=\"icons/openmoji-svg-color/1F635.svg\" style=\"margin-left: auto; margin-right: auto; width: 50%\"/><br/></h1>\n</div>\n",
       "_view_module_version": "^0.1.0",
       "layout": "IPY_MODEL_ec0c45a2873d4e15a2afa614703212b7"
      }
     },
     "6c9200f7a8ea4bb5bb8dce17e5fc9789": {
      "model_module": "@jupyter-widgets/controls",
      "model_module_version": "1.5.0",
      "model_name": "VBoxModel",
      "state": {
       "_dom_classes": [
        "app-view-content"
       ],
       "children": [
        "IPY_MODEL_d0f17db1566e4e188e71eac5132faa47",
        "IPY_MODEL_c54f990134094073bdea0761affd819e",
        "IPY_MODEL_83bd8e19235d4e609ca5a6eca287455b"
       ],
       "layout": "IPY_MODEL_77301db1f4d34e148fdd7f5ff6e9b897"
      }
     },
     "6de970b9a3a54e2a8bcb108423ffc12f": {
      "model_module": "@jupyter-widgets/base",
      "model_module_version": "1.2.0",
      "model_name": "LayoutModel",
      "state": {}
     },
     "70149cb4520e4af58cef26e84c26c3b7": {
      "model_module": "@jupyter-widgets/base",
      "model_module_version": "1.2.0",
      "model_name": "LayoutModel",
      "state": {}
     },
     "72635b3e4d724343812efd495db52230": {
      "model_module": "@jupyter-widgets/base",
      "model_module_version": "1.2.0",
      "model_name": "LayoutModel",
      "state": {}
     },
     "7290c35ef3fb4cad8aa64234dbe113fc": {
      "model_module": "@jupyter-widgets/base",
      "model_module_version": "1.2.0",
      "model_name": "LayoutModel",
      "state": {}
     },
     "77301db1f4d34e148fdd7f5ff6e9b897": {
      "model_module": "@jupyter-widgets/base",
      "model_module_version": "1.2.0",
      "model_name": "LayoutModel",
      "state": {}
     },
     "78f1c001f02646a5bd77c9a8fcabb10a": {
      "model_module": "appwidgets",
      "model_module_version": "^0.1.0",
      "model_name": "ReactiveHtmlModel",
      "state": {
       "_css": "\n.<<VIEW_ID>> #view-welcome h3 {\n\n    font-size: 2em;\n\n}\n\n\n\n.<<VIEW_ID>> #view-welcome h4, #view-welcome h5 {\n\n    font-size: 1.7em;\n\n    margin-bottom: 1em;\n\n}\n\n\n\n.<<VIEW_ID>> #view-welcome .card {\n\n    padding: 10px 10px 30px 10px;\n\n    margin: 2px;\n\n    background-color: rgba(244, 244, 244);\n\n    height: 180px; /*calc(100% - 4px);*/\n\n    border-radius: 0;\n\n    border-width: 0;\n\n    position: relative;\n\n    cursor: pointer;\n\n}\n\n\n\n.<<VIEW_ID>> #view-welcome .card-primary .card {\n\n    background-color: rgba(40, 105, 245);\n\n    color: white;\n\n}\n\n\n\n.<<VIEW_ID>> #view-welcome p {\n\n    font-size: 1.3em;\n\n}\n\n\n\n.<<VIEW_ID>> #view-welcome span.arrow {\n\n    color: rgba(40, 105, 245);\n\n    position: absolute;\n\n    bottom: 10px;\n\n    left: 20px;\n\n    font-size: 1.5em;\n\n}\n\n\n\n.<<VIEW_ID>> #view-welcome .card-primary span.arrow {\n\n    color: white;\n\n}\n\n\n\n.<<VIEW_ID>> #view-welcome .mt-4 {\n\n    margin-top: 20px;\n\n}",
       "_model_module_version": "^0.1.0",
       "_rendered": "\n<div class=\"app-view-content\" id=\"view-welcome\">\n<h3>Welcome to the Qoffee Maker</h3>\n<br/>\n<div class=\"row mt-4\">\n<div class=\"col-md-12\">\n<div class=\"row align-items-stretch card-primary\">\n<div class=\"col-md-3\">\n<div class=\"card\" data-rh-exec=\"load_starting_point('empty')\">\n<div class=\"card-body\">\n<h5 class=\"card-title\">Start the Qoffee Maker</h5>\n<p class=\"card-text\"></p>\n<span class=\"arrow\">→</span>\n</div>\n</div>\n</div>\n</div>\n</div>\n</div>\n<br/>\n<br/>\n<br/>\n<div class=\"row mt-4\">\n<div class=\"col-md-12\">\n<h4>Start with the examples from qoffee-maker.org</h4>\n<div class=\"row align-items-stretch\">\n<div class=\"col-md-3\">\n<div class=\"card\" data-rh-exec=\"load_starting_point('anything')\">\n<div class=\"card-body\">\n<h5 class=\"card-title\">Just something to drink</h5>\n<p class=\"card-text\"></p>\n<span class=\"arrow\">→</span>\n</div>\n</div>\n</div>\n<div class=\"col-md-3\">\n<div class=\"card\" data-rh-exec=\"load_starting_point('cappucino')\">\n<div class=\"card-body\">\n<h5 class=\"card-title\">Only Cappucino</h5>\n<p class=\"card-text\"></p>\n<span class=\"arrow\">→</span>\n</div>\n</div>\n</div>\n<div class=\"col-md-3\">\n<div class=\"card\" data-rh-exec=\"load_starting_point('withoutcoffein')\">\n<div class=\"card-body\">\n<h5 class=\"card-title\">Without caffein</h5>\n<p class=\"card-text\"></p>\n<span class=\"arrow\">→</span>\n</div>\n</div>\n</div>\n<div class=\"col-md-3\">\n<div class=\"card\" data-rh-exec=\"load_starting_point('nothingstrong')\">\n<div class=\"card-body\">\n<h5 class=\"card-title\">Nothing Strong</h5>\n<p class=\"card-text\"></p>\n<span class=\"arrow\">→</span>\n</div>\n</div>\n</div>\n<div class=\"col-md-3\">\n<div class=\"card\" data-rh-exec=\"load_starting_point('teaorcoffee')\">\n<div class=\"card-body\">\n<h5 class=\"card-title\">Tea or Coffee</h5>\n<p class=\"card-text\"></p>\n<span class=\"arrow\">→</span>\n</div>\n</div>\n</div>\n</div>\n</div>\n</div>\n</div>\n",
       "_view_module_version": "^0.1.0",
       "layout": "IPY_MODEL_3c05ba5c6d8c461683267b72a0227388"
      }
     },
     "83bd8e19235d4e609ca5a6eca287455b": {
      "model_module": "@jupyter-widgets/controls",
      "model_module_version": "1.5.0",
      "model_name": "HBoxModel",
      "state": {
       "children": [
        "IPY_MODEL_f68cdbb274c3497e8ee30c97c42213f3",
        "IPY_MODEL_1246c77569f542c790f6325b44a2dd81"
       ],
       "layout": "IPY_MODEL_7290c35ef3fb4cad8aa64234dbe113fc"
      }
     },
     "8550a5a87f4d4ef393a5299457c01b52": {
      "model_module": "appwidgets",
      "model_module_version": "^0.1.0",
      "model_name": "ReactiveHtmlModel",
      "state": {
       "_css": "\n.<<VIEW_ID>> #view-welcome h3 {\n\n    font-size: 2em;\n\n}\n\n\n\n.<<VIEW_ID>> #view-welcome h4, #view-welcome h5 {\n\n    font-size: 1.7em;\n\n    margin-bottom: 1em;\n\n}\n\n\n\n.<<VIEW_ID>> #view-welcome .card {\n\n    padding: 10px 10px 30px 10px;\n\n    margin: 2px;\n\n    background-color: rgba(244, 244, 244);\n\n    height: 180px; /*calc(100% - 4px);*/\n\n    border-radius: 0;\n\n    border-width: 0;\n\n    position: relative;\n\n    cursor: pointer;\n\n}\n\n\n\n.<<VIEW_ID>> #view-welcome .card-primary .card {\n\n    background-color: rgba(40, 105, 245);\n\n    color: white;\n\n}\n\n\n\n.<<VIEW_ID>> #view-welcome p {\n\n    font-size: 1.3em;\n\n}\n\n\n\n.<<VIEW_ID>> #view-welcome span.arrow {\n\n    color: rgba(40, 105, 245);\n\n    position: absolute;\n\n    bottom: 10px;\n\n    left: 20px;\n\n    font-size: 1.5em;\n\n}\n\n\n\n.<<VIEW_ID>> #view-welcome .card-primary span.arrow {\n\n    color: white;\n\n}\n\n\n\n.<<VIEW_ID>> #view-welcome .mt-4 {\n\n    margin-top: 20px;\n\n}",
       "_model_module_version": "^0.1.0",
       "_rendered": "\n<div class=\"app-view-content\" id=\"view-welcome\">\n<h3>Welcome to the Qoffee Maker</h3>\n<br/>\n<div class=\"row mt-4\">\n<div class=\"col-md-12\">\n<div class=\"row align-items-stretch card-primary\">\n<div class=\"col-md-3\">\n<div class=\"card\" data-rh-exec=\"load_starting_point('empty')\">\n<div class=\"card-body\">\n<h5 class=\"card-title\">Start the Qoffee Maker</h5>\n<p class=\"card-text\"></p>\n<span class=\"arrow\">→</span>\n</div>\n</div>\n</div>\n</div>\n</div>\n</div>\n<br/>\n<br/>\n<br/>\n<div class=\"row mt-4\">\n<div class=\"col-md-12\">\n<h4>Start with the examples from qoffee-maker.org</h4>\n<div class=\"row align-items-stretch\">\n<div class=\"col-md-3\">\n<div class=\"card\" data-rh-exec=\"load_starting_point('anything')\">\n<div class=\"card-body\">\n<h5 class=\"card-title\">Just something to drink</h5>\n<p class=\"card-text\"></p>\n<span class=\"arrow\">→</span>\n</div>\n</div>\n</div>\n<div class=\"col-md-3\">\n<div class=\"card\" data-rh-exec=\"load_starting_point('cappucino')\">\n<div class=\"card-body\">\n<h5 class=\"card-title\">Only Cappucino</h5>\n<p class=\"card-text\"></p>\n<span class=\"arrow\">→</span>\n</div>\n</div>\n</div>\n<div class=\"col-md-3\">\n<div class=\"card\" data-rh-exec=\"load_starting_point('withoutcoffein')\">\n<div class=\"card-body\">\n<h5 class=\"card-title\">Without caffein</h5>\n<p class=\"card-text\"></p>\n<span class=\"arrow\">→</span>\n</div>\n</div>\n</div>\n<div class=\"col-md-3\">\n<div class=\"card\" data-rh-exec=\"load_starting_point('nothingstrong')\">\n<div class=\"card-body\">\n<h5 class=\"card-title\">Nothing Strong</h5>\n<p class=\"card-text\"></p>\n<span class=\"arrow\">→</span>\n</div>\n</div>\n</div>\n<div class=\"col-md-3\">\n<div class=\"card\" data-rh-exec=\"load_starting_point('teaorcoffee')\">\n<div class=\"card-body\">\n<h5 class=\"card-title\">Tea or Coffee</h5>\n<p class=\"card-text\"></p>\n<span class=\"arrow\">→</span>\n</div>\n</div>\n</div>\n</div>\n</div>\n</div>\n</div>\n",
       "_view_module_version": "^0.1.0",
       "layout": "IPY_MODEL_43ddc1fb15e441caa4fa7a0ec21d1edf"
      }
     },
     "8b71ccb507e648b3b2083d15b53cfb9b": {
      "model_module": "@jupyter-widgets/base",
      "model_module_version": "1.2.0",
      "model_name": "LayoutModel",
      "state": {}
     },
     "8e2f9ee0fc004dfbb1830dc9b06accce": {
      "model_module": "@jupyter-widgets/controls",
      "model_module_version": "1.5.0",
      "model_name": "BoxModel",
      "state": {
       "_dom_classes": [
        "app-appbox"
       ],
       "layout": "IPY_MODEL_e89ec3b645354247b3cf2af7ca81629f",
       "view": "welcome"
      }
     },
     "9050e7aed52f43fdafeac63540d61bbb": {
      "model_module": "@jupyter-widgets/base",
      "model_module_version": "1.2.0",
      "model_name": "LayoutModel",
      "state": {}
     },
     "933d8435bdf344118e2b874ec7087395": {
      "model_module": "@jupyter-widgets/base",
      "model_module_version": "1.2.0",
      "model_name": "LayoutModel",
      "state": {}
     },
     "a955366c02e04550bd55147e630e242d": {
      "model_module": "@jupyter-widgets/base",
      "model_module_version": "1.2.0",
      "model_name": "LayoutModel",
      "state": {}
     },
     "ac8c9f2532b8488aa4ad79821ee3849b": {
      "model_module": "@jupyter-widgets/base",
      "model_module_version": "1.2.0",
      "model_name": "LayoutModel",
      "state": {}
     },
     "b0d7df6a7a704026b89aef7918627d0d": {
      "model_module": "appwidgets",
      "model_module_version": "^0.1.0",
      "model_name": "ReactiveHtmlModel",
      "state": {
       "_css": "\n.<<VIEW_ID>> #header {\n\n    width: 100%;\n\n    background-color: black;\n\n    height: 58px;\n\n    display: block;\n\n    position: relative;\n\n    margin-bottom: 3em;\n\n}\n\n\n\n.<<VIEW_ID>> #header h1 {\n\n    color: white;\n\n    font-size: 26px;\n\n    line-height: 58px;\n\n    margin: 0;\n\n    padding: 0;\n\n    position: absolute;\n\n    top: 0em;\n\n    left: 62px;\n\n}\n\n\n\n.<<VIEW_ID>> #navigation-container {\n\n    position: absolute;\n\n    width: 200px;\n\n    right: 10px;\n\n    top: 0;\n\n    height: 58px;\n\n}\n\n\n\n.<<VIEW_ID>> #navigation-container button {\n\n    width: 58px;\n\n    position: absolute;\n\n    background-color: black;\n\n    border-radius: 0;\n\n    border-style: none;\n\n    height: 58px;\n\n    color: white;\n\n}\n\n\n\n.<<VIEW_ID>> #navigation-container #navigation-button-back {\n\n    right: 58px;\n\n}\n\n.<<VIEW_ID>> #navigation-container #navigation-button-help {\n\n    right: 0px;\n\n}\n\n\n\n.<<VIEW_ID>> #navigation-container #navigation-button-q {\n\n    right: 116px;\n\n}\n\n.<<VIEW_ID>> #navigation-container #navigation-button-q[data-device=ibmq] {\n\n    background-color: rgba(40, 105, 245);\n\n}\n\n.<<VIEW_ID>> #navigation-container #navigation-button-q[data-device=mock] {\n\n    background-color: rgb(0, 135, 92);\n\n}\n\n.<<VIEW_ID>> #navigation-container #navigation-button-q[data-device=simulator] {\n\n    background-color: rgb(116, 0, 123);\n\n}\n\n\n\n\n\n.<<VIEW_ID>> #header img {\n\n    position: absolute;\n\n    height: 32px;\n\n    left: 15px;\n\n    top: 13px;\n\n}",
       "_model_module_version": "^0.1.0",
       "_rendered": "\n<div id=\"header\">\n<img src=\"css/QoffeeMug.png\"/>\n<h1>Qoffee Maker powered by <b>IBM Quantum</b></h1>\n<div id=\"navigation-container\">\n<button data-device=\"simulator\" data-rh-exec=\"set_next_single_shot_device()\" id=\"navigation-button-q\">Q</button>\n<button class=\"navigation-button\" data-rh-exec=\"load_welcome()\" data-rh-if=\"composer != 'welcome'\" id=\"navigation-button-back\">ᐊ</button>\n<button data-rh-exec-js='window.openQRCode(\"http://qoffee-maker.org\", \"http://qoffee-maker.org\")' id=\"navigation-button-help\">?</button>\n</div>\n</div>\n",
       "_view_module_version": "^0.1.0",
       "layout": "IPY_MODEL_668e0493b38540d2ba9882c6d953ef7a"
      }
     },
     "b1a04725af0441fa8c8bad3182f58232": {
      "model_module": "@jupyter-widgets/base",
      "model_module_version": "1.2.0",
      "model_name": "LayoutModel",
      "state": {}
     },
     "b42d0ab14b7d4a69b62860dd0edbee47": {
      "model_module": "appwidgets",
      "model_module_version": "^0.1.0",
      "model_name": "ReactiveHtmlModel",
      "state": {
       "_css": "\n.<<VIEW_ID>> #view-composer-button-bar button {\n\n    border-radius: 0;\n\n    font-size: 1.5em;\n\n}\n\n\n\n.<<VIEW_ID>> #view-composer-show-theo-btn {\n\n    border-left-width: 10px;\n\n    border-color: rgb(40, 105, 245);\n\n}\n\n\n\n.<<VIEW_ID>> #view-composer-show-qasm-btn {\n\n    border-left-width: 10px;\n\n    border-color: rgb(116, 0, 123);\n\n}\n\n\n\n.<<VIEW_ID>> #view-composer-show-mock-btn {\n\n    border-left-width: 10px;\n\n    border-color: rgb(0, 135, 92);\n\n}\n\n\n\n.<<VIEW_ID>> #view-composer-show-theo-btn[data-active=\"True\"] {\n\n    background-color:rgba(40, 105, 245, 0.4);\n\n}\n\n\n\n.<<VIEW_ID>> #view-composer-show-qasm-btn[data-active=\"True\"] {\n\n    background-color:rgba(116, 0, 123, 0.4);\n\n}\n\n\n\n.<<VIEW_ID>> #view-composer-show-mock-btn[data-active=\"True\"] {\n\n    background-color:rgba(0, 135, 92, 0.4);\n\n}\n\n\n\n.<<VIEW_ID>> #view-composer-button-bar .mr-4 {\n\n    margin-right: 20px;\n\n}\n\n\n\n.<<VIEW_ID>> #view-composer-hist-header h3 {\n\n    font-size: 2em;\n\n    margin-bottom: 20px;\n\n}",
       "_model_module_version": "^0.1.0",
       "_rendered": "\n<div id=\"view-composer-hist-header\">\n<h3>Measurement Probabilities</h3>\n</div>\n<div id=\"view-composer-button-bar\">\n<button class=\"btn btn-default\" data-active=\"True\" id=\"view-composer-show-theo-btn\">Theoretical</button>\n<button class=\"btn btn-default\" data-active=\"False\" data-rh-exec=\"toggle_data_attr('show_qasm_results')\" id=\"view-composer-show-qasm-btn\">Simulator (error free)</button>\n<button class=\"btn btn-default mr-4\" data-active=\"False\" data-rh-exec=\"toggle_data_attr('show_mock_results')\" id=\"view-composer-show-mock-btn\">Simulator (real quantum device)</button>\n<button class=\"btn btn-default mr-4\" data-rh-exec=\"open_circuit_on_ibmq()\">Export to IBM Quantum Composer</button>\n</div>\n",
       "_view_module_version": "^0.1.0",
       "layout": "IPY_MODEL_539f2337801449499355a4f91d79fa7d"
      }
     },
     "bc3ee768aab640bc8194ac785a0531ad": {
      "model_module": "appwidgets",
      "model_module_version": "^0.1.0",
      "model_name": "ReactiveHtmlModel",
      "state": {
       "_css": "\n/*\n\n\tHistogram\n\n*/\n\n.<<VIEW_ID>> #view-composer-hist-container {\n\n\twidth: 100%;\n\n\tpadding: 0 50px 0 10px;\n\n    margin-top: 50px;\n\n}\n\n.<<VIEW_ID>> #view-composer-hist-container #view-composer-hist {\n\n\twidth: 100%;\n\n\theight: 100%;\n\n\tdisplay: flex;\n\n\tflex-direction: row;\n\n\tjustify-content: space-evenly;\n\n\talign-items: stretch;\n\n}\n\n.<<VIEW_ID>> #view-composer-hist-container .histogram-entry {\n\n\tposition: relative;\n\n\tflex: 0 0 12.5%;\n\n}\n\n.<<VIEW_ID>> #view-composer-hist-container .histogram-entry p {\n\n\ttext-align: center;\n\n    font-size: 1.5em;\n\n}\n\n.<<VIEW_ID>> #view-composer-hist-container .histogram-bar-container {\n\n\tposition: relative;\n\n\theight: 25vh;\n\n}\n\n.<<VIEW_ID>> #view-composer-hist-container .histogram-bar-outer {\n\n\twidth: 60px;\n\n\tleft: 50%;\n\n\tmargin-left: -30px;\n\n\theight: 100%;\n\n\tposition: relative;\n\n\t/* background-color: lightgray; */\n\n}\n\n.<<VIEW_ID>> #view-composer-hist-container .histogram-bar {\n\n\tposition: absolute;\n\n\tbottom: 0;\n\n\theight: 0;\n\n\twidth: 33%;\n\n}\n\n\n\n.<<VIEW_ID>> #view-composer-hist-container .histogram-bar-qasm {\n\n\tbackground-color: rgb(116, 0, 123);\n\n\tleft: 0%;\n\n}\n\n.<<VIEW_ID>> #view-composer-hist-container .histogram-bar-anal {\n\n\tbackground-color: rgba(40, 105, 245);\n\n\tleft: 33%;\n\n}\n\n.<<VIEW_ID>> #view-composer-hist-container .histogram-bar-mock {\n\n\tbackground-color: rgb(0, 135, 92);\n\n\tleft: 66%;\n\n}\n\n\n\n.<<VIEW_ID>> #view-composer-hist-container .histogram-text-container-pre {\n\n    margin-bottom: 20px;\n\n}\n\n\n\n.<<VIEW_ID>> #view-composer-hist-container .histogram-text-container-post {\n\n    margin-top: 20px;\n\n\tmargin-bottom: 10px;\n\n}",
       "_model_module_version": "^0.1.0",
       "_rendered": "\n<div id=\"view-composer-hist-container\">\n<div id=\"view-composer-hist\">\n<div class=\"histogram-entry\">\n<div class=\"histogram-text-container-pre\">\n<p><span \"=\"\" class=\"histogram-text histogram-text-ideal histogram-text-000\">0.0%</span></p>\n</div>\n<div class=\"histogram-bar-container\">\n<div class=\"histogram-bar-outer\">\n\n<div class=\"histogram-bar histogram-bar-anal histogram-bar-000\" style=\"height: 0%\"></div>\n\n</div>\n</div>\n<div class=\"histogram-text-container-post\">\n<p>000<br/><br/>Tea</p>\n</div>\n</div>\n<div class=\"histogram-entry\">\n<div class=\"histogram-text-container-pre\">\n<p><span \"=\"\" class=\"histogram-text histogram-text-ideal histogram-text-001\">0.0%</span></p>\n</div>\n<div class=\"histogram-bar-container\">\n<div class=\"histogram-bar-outer\">\n\n<div class=\"histogram-bar histogram-bar-anal histogram-bar-001\" style=\"height: 0%\"></div>\n\n</div>\n</div>\n<div class=\"histogram-text-container-post\">\n<p>001<br/><br/>Hot Chocolate</p>\n</div>\n</div>\n<div class=\"histogram-entry\">\n<div class=\"histogram-text-container-pre\">\n<p><span \"=\"\" class=\"histogram-text histogram-text-ideal histogram-text-010\">0.0%</span></p>\n</div>\n<div class=\"histogram-bar-container\">\n<div class=\"histogram-bar-outer\">\n\n<div class=\"histogram-bar histogram-bar-anal histogram-bar-010\" style=\"height: 0%\"></div>\n\n</div>\n</div>\n<div class=\"histogram-text-container-post\">\n<p>010<br/><br/>Espresso</p>\n</div>\n</div>\n<div class=\"histogram-entry\">\n<div class=\"histogram-text-container-pre\">\n<p><span \"=\"\" class=\"histogram-text histogram-text-ideal histogram-text-011\">0.0%</span></p>\n</div>\n<div class=\"histogram-bar-container\">\n<div class=\"histogram-bar-outer\">\n\n<div class=\"histogram-bar histogram-bar-anal histogram-bar-011\" style=\"height: 0%\"></div>\n\n</div>\n</div>\n<div class=\"histogram-text-container-post\">\n<p>011<br/><br/>Coffee</p>\n</div>\n</div>\n<div class=\"histogram-entry\">\n<div class=\"histogram-text-container-pre\">\n<p><span \"=\"\" class=\"histogram-text histogram-text-ideal histogram-text-100\">0.0%</span></p>\n</div>\n<div class=\"histogram-bar-container\">\n<div class=\"histogram-bar-outer\">\n\n<div class=\"histogram-bar histogram-bar-anal histogram-bar-100\" style=\"height: 0%\"></div>\n\n</div>\n</div>\n<div class=\"histogram-text-container-post\">\n<p>100<br/><br/>Cappucino</p>\n</div>\n</div>\n<div class=\"histogram-entry\">\n<div class=\"histogram-text-container-pre\">\n<p><span \"=\"\" class=\"histogram-text histogram-text-ideal histogram-text-101\">0.0%</span></p>\n</div>\n<div class=\"histogram-bar-container\">\n<div class=\"histogram-bar-outer\">\n\n<div class=\"histogram-bar histogram-bar-anal histogram-bar-101\" style=\"height: 0%\"></div>\n\n</div>\n</div>\n<div class=\"histogram-text-container-post\">\n<p>101<br/><br/>Latte Macchiato</p>\n</div>\n</div>\n<div class=\"histogram-entry\">\n<div class=\"histogram-text-container-pre\">\n<p><span \"=\"\" class=\"histogram-text histogram-text-ideal histogram-text-110\">0.0%</span></p>\n</div>\n<div class=\"histogram-bar-container\">\n<div class=\"histogram-bar-outer\">\n\n<div class=\"histogram-bar histogram-bar-anal histogram-bar-110\" style=\"height: 0%\"></div>\n\n</div>\n</div>\n<div class=\"histogram-text-container-post\">\n<p>110<br/><br/>Viennese Melange</p>\n</div>\n</div>\n<div class=\"histogram-entry\">\n<div class=\"histogram-text-container-pre\">\n<p><span \"=\"\" class=\"histogram-text histogram-text-ideal histogram-text-111\">0.0%</span></p>\n</div>\n<div class=\"histogram-bar-container\">\n<div class=\"histogram-bar-outer\">\n\n<div class=\"histogram-bar histogram-bar-anal histogram-bar-111\" style=\"height: 0%\"></div>\n\n</div>\n</div>\n<div class=\"histogram-text-container-post\">\n<p>111<br/><br/>Americano</p>\n</div>\n</div>\n</div>\n</div>\n",
       "_view_module_version": "^0.1.0",
       "layout": "IPY_MODEL_70149cb4520e4af58cef26e84c26c3b7"
      }
     },
     "c54f990134094073bdea0761affd819e": {
      "model_module": "@quantum/ibm-q-lab-widgets",
      "model_module_version": "^1.0.3",
      "model_name": "CircuitComposerModel",
      "state": {
       "_model_module_version": "^1.0.3",
       "_view_module_version": "^1.0.3",
       "circuit": "\"OPENQASM 2.0;\\ninclude \\\"qelib1.inc\\\";\\n\\nqreg q[3];\\ncreg c[3];\\n\\nh q[0];\\nh q[1];\\nh q[2];\"",
       "editable": true,
       "layout": "IPY_MODEL_601007c14b23469a84a30a9ce16c4917",
       "qiskit_code_cell_index": -1
      }
     },
     "c7d366aa46c843d89cf2f87385da8e92": {
      "model_module": "@jupyter-widgets/base",
      "model_module_version": "1.2.0",
      "model_name": "WidgetModel",
      "state": {
       "_view_module": null,
       "_view_module_version": "",
       "composer_init_circuit": {
        "id": "empty",
        "init_text": "",
        "name": ""
       },
       "heading": "Qoffee Maker powered by <b>IBM Quantum</b>",
       "histogram_anal": {
        "100": 0,
        "101": 0,
        "110": 0,
        "111": 0,
        "000": 0,
        "001": 0,
        "010": 0,
        "011": 0
       },
       "histogram_mock": {
        "100": 0,
        "101": 0,
        "110": 0,
        "111": 0,
        "000": 0,
        "001": 0,
        "010": 0,
        "011": 0
       },
       "histogram_qasm": {
        "100": 0,
        "101": 0,
        "110": 0,
        "111": 0,
        "000": 0,
        "001": 0,
        "010": 0,
        "011": 0
       },
       "qasm": "",
       "show_mock_results": false,
       "show_qasm_results": false,
       "single_shot_device": "simulator",
       "single_shot_result": {
        "bit": "000",
        "id": "tea",
        "name": "Tea"
       },
       "single_shot_status": 2,
       "use_real_device": false,
       "view": "welcome"
      }
     },
     "d0f17db1566e4e188e71eac5132faa47": {
      "model_module": "appwidgets",
      "model_module_version": "^0.1.0",
      "model_name": "ReactiveHtmlModel",
      "state": {
       "_css": "\n.<<VIEW_ID>> p {\n\n    font-size: 1.5em;\n\n    margin-bottom: 40px;\n\n}\n\n\n\n.<<VIEW_ID>> span {\n\n    color: rgba(40, 105, 245);\n\n    text-decoration: underline;\n\n    cursor: pointer;\n\n}",
       "_model_module_version": "^0.1.0",
       "_rendered": "\n<p>Drag &amp; Drop Quantum Gates onto the Qubits to build your circuit. <span data-rh-exec=\"load_welcome()\">Go back</span>.</p>\n",
       "_view_module_version": "^0.1.0",
       "layout": "IPY_MODEL_40ffec25eb954525ac23ec620ba301e5"
      }
     },
     "d43cefb7c3e54aabbbe983d6eda7cde5": {
      "model_module": "@quantum/ibm-q-lab-widgets",
      "model_module_version": "^1.0.3",
      "model_name": "CircuitComposerModel",
      "state": {
       "_model_module_version": "^1.0.3",
       "_view_module_version": "^1.0.3",
       "circuit": "\"OPENQASM 2.0;\\ninclude \\\"qelib1.inc\\\";\\n\\nqreg q[3];\\ncreg c[3];\\n\\n\"",
       "editable": true,
       "layout": "IPY_MODEL_933d8435bdf344118e2b874ec7087395",
       "qiskit_code_cell_index": -1
      }
     },
     "dec559d4ae0b4684a9d82dd898b33be3": {
      "model_module": "@jupyter-widgets/controls",
      "model_module_version": "1.5.0",
      "model_name": "VBoxModel",
      "state": {
       "children": [
        "IPY_MODEL_b0d7df6a7a704026b89aef7918627d0d",
        "IPY_MODEL_78f1c001f02646a5bd77c9a8fcabb10a"
       ],
       "layout": "IPY_MODEL_9050e7aed52f43fdafeac63540d61bbb"
      }
     },
     "e566d64413594e76bafc4f3aded4b3f1": {
      "model_module": "@jupyter-widgets/controls",
      "model_module_version": "1.5.0",
      "model_name": "VBoxModel",
      "state": {
       "children": [
        "IPY_MODEL_b0d7df6a7a704026b89aef7918627d0d",
        "IPY_MODEL_66a58317055b4766b356b41ec6e5254c"
       ],
       "layout": "IPY_MODEL_1a2623ee908c4e9a916c4a9eb0318185"
      }
     },
     "e89ec3b645354247b3cf2af7ca81629f": {
      "model_module": "@jupyter-widgets/base",
      "model_module_version": "1.2.0",
      "model_name": "LayoutModel",
      "state": {}
     },
     "ec0c45a2873d4e15a2afa614703212b7": {
      "model_module": "@jupyter-widgets/base",
      "model_module_version": "1.2.0",
      "model_name": "LayoutModel",
      "state": {}
     },
     "f36fe972c2054f77bf2af677c37fbe8a": {
      "model_module": "@jupyter-widgets/controls",
      "model_module_version": "1.5.0",
      "model_name": "VBoxModel",
      "state": {
       "children": [
        "IPY_MODEL_0c02398311954a4693f2654bfc130bd3",
        "IPY_MODEL_8550a5a87f4d4ef393a5299457c01b52"
       ],
       "layout": "IPY_MODEL_4079198670994a98bd268e9a5aeb5196"
      }
     },
     "f68cdbb274c3497e8ee30c97c42213f3": {
      "model_module": "@jupyter-widgets/controls",
      "model_module_version": "1.5.0",
      "model_name": "VBoxModel",
      "state": {
       "_dom_classes": [
        "width-80"
       ],
       "children": [
        "IPY_MODEL_b42d0ab14b7d4a69b62860dd0edbee47",
        "IPY_MODEL_23d5376cd5b54c02bb0dfe95153fa35e"
       ],
       "layout": "IPY_MODEL_ac8c9f2532b8488aa4ad79821ee3849b"
      }
     },
     "f6b8b15f98954cc38c911612b1939cbc": {
      "model_module": "@jupyter-widgets/controls",
      "model_module_version": "1.5.0",
      "model_name": "BoxModel",
      "state": {
       "_dom_classes": [
        "app-appbox"
       ],
       "children": [
        "IPY_MODEL_27257cc8205441319ecf970261efc09c"
       ],
       "layout": "IPY_MODEL_214b83f266e244eda23e4a0893b8f40a",
       "view": "composer"
      }
     },
     "f95c6c914b1a4fabbc24826cb0f49792": {
      "model_module": "appwidgets",
      "model_module_version": "^0.1.0",
      "model_name": "ReactiveHtmlModel",
      "state": {
       "_css": "\n.<<VIEW_ID>> #view-composer-button-bar button {\n\n    border-radius: 0;\n\n    font-size: 1.5em;\n\n}\n\n\n\n.<<VIEW_ID>> #view-composer-show-theo-btn {\n\n    border-left-width: 10px;\n\n    border-color: rgb(40, 105, 245);\n\n}\n\n\n\n.<<VIEW_ID>> #view-composer-show-qasm-btn {\n\n    border-left-width: 10px;\n\n    border-color: rgb(116, 0, 123);\n\n}\n\n\n\n.<<VIEW_ID>> #view-composer-show-mock-btn {\n\n    border-left-width: 10px;\n\n    border-color: rgb(0, 135, 92);\n\n}\n\n\n\n.<<VIEW_ID>> #view-composer-show-theo-btn[data-active=\"True\"] {\n\n    background-color:rgba(40, 105, 245, 0.4);\n\n}\n\n\n\n.<<VIEW_ID>> #view-composer-show-qasm-btn[data-active=\"True\"] {\n\n    background-color:rgba(116, 0, 123, 0.4);\n\n}\n\n\n\n.<<VIEW_ID>> #view-composer-show-mock-btn[data-active=\"True\"] {\n\n    background-color:rgba(0, 135, 92, 0.4);\n\n}\n\n\n\n.<<VIEW_ID>> #view-composer-button-bar .mr-4 {\n\n    margin-right: 20px;\n\n}\n\n\n\n.<<VIEW_ID>> #view-composer-hist-header h3 {\n\n    font-size: 2em;\n\n    margin-bottom: 20px;\n\n}",
       "_model_module_version": "^0.1.0",
       "_rendered": "\n<div id=\"view-composer-hist-header\">\n<h3>Measurement Probabilities</h3>\n</div>\n<div id=\"view-composer-button-bar\">\n<button class=\"btn btn-default\" data-active=\"True\" id=\"view-composer-show-theo-btn\">Theoretical</button>\n<button class=\"btn btn-default\" data-active=\"False\" data-rh-exec=\"toggle_data_attr('show_qasm_results')\" id=\"view-composer-show-qasm-btn\">Simulator (error free)</button>\n<button class=\"btn btn-default mr-4\" data-active=\"False\" data-rh-exec=\"toggle_data_attr('show_mock_results')\" id=\"view-composer-show-mock-btn\">Simulator (real quantum device)</button>\n<button class=\"btn btn-default mr-4\" data-rh-exec=\"open_circuit_on_ibmq()\">Export to IBM Quantum Composer</button>\n</div>\n",
       "_view_module_version": "^0.1.0",
       "layout": "IPY_MODEL_b1a04725af0441fa8c8bad3182f58232"
      }
     },
     "fb374cf487ee48fb93efbadede364c12": {
      "model_module": "appwidgets",
      "model_module_version": "^0.1.0",
      "model_name": "ReactiveHtmlModel",
      "state": {
       "_css": "\n.<<VIEW_ID>> p {\n\n    font-size: 1.5em;\n\n    margin-bottom: 40px;\n\n}\n\n\n\n.<<VIEW_ID>> span {\n\n    color: rgba(40, 105, 245);\n\n    text-decoration: underline;\n\n    cursor: pointer;\n\n}",
       "_model_module_version": "^0.1.0",
       "_rendered": "\n<p>Drag &amp; Drop Quantum Gates onto the Qubits to build your circuit. <span data-rh-exec=\"load_welcome()\">Go back</span>.</p>\n",
       "_view_module_version": "^0.1.0",
       "layout": "IPY_MODEL_8b71ccb507e648b3b2083d15b53cfb9b"
      }
     }
    },
    "version_major": 2,
    "version_minor": 0
   }
  }
 },
 "nbformat": 4,
 "nbformat_minor": 2
}
