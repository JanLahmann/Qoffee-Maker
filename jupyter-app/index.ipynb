{
 "cells": [
  {
   "cell_type": "code",
   "execution_count": null,
   "id": "f5b43835",
   "metadata": {},
   "outputs": [],
   "source": [
    "from ibm_quantum_widgets import CircuitComposer\n",
    "from IPython.display import display, Javascript, HTML\n",
    "from qiskit.circuit import QuantumCircuit\n",
    "from qiskit import transpile\n",
    "from qiskit.providers.aer import QasmSimulator\n",
    "from random import randint"
   ]
  },
  {
   "cell_type": "code",
   "execution_count": null,
   "id": "3e12b043",
   "metadata": {},
   "outputs": [],
   "source": [
    "backend = QasmSimulator()"
   ]
  },
  {
   "cell_type": "code",
   "execution_count": null,
   "id": "9523e245",
   "metadata": {},
   "outputs": [],
   "source": [
    "JsWindowState.set(\"orchestrator-url\", \"http://localhost:8000\")\n",
    "JsWindowState.set(\"orchestrator-token\", \"qoffee\")"
   ]
  },
  {
   "cell_type": "code",
   "execution_count": null,
   "id": "860e245c",
   "metadata": {},
   "outputs": [],
   "source": [
    "### VIEW: welcome\n",
    "# initialize drink variable\n",
    "drink = \"coffee\"\n",
    "html = HTML(\"\"\"\n",
    "<h1>Welcome</h1>\n",
    "<br/>\n",
    "<br/>\n",
    "<button class=\"btn btn-primary\" data-q-target=\"circuitSelection\">Get your coffee</button>\n",
    "<button class=\"btn btn-primary\" >Get more information</button>\n",
    "\"\"\")\n",
    "display(html)"
   ]
  },
  {
   "cell_type": "code",
   "execution_count": null,
   "id": "3a758cdd",
   "metadata": {},
   "outputs": [],
   "source": [
    "# build some sample circuits\n",
    "qc0 = QuantumCircuit(2, 2)\n",
    "\n",
    "qc1 = QuantumCircuit(2, 2)\n",
    "qc1.h(0)\n",
    "qc1.h(1)"
   ]
  },
  {
   "cell_type": "code",
   "execution_count": null,
   "id": "14a5eac9",
   "metadata": {},
   "outputs": [],
   "source": [
    "qcreg = {\n",
    "    'scratch': qc0,\n",
    "    'superposition': qc1,\n",
    "}"
   ]
  },
  {
   "cell_type": "code",
   "execution_count": null,
   "id": "332c2fb8",
   "metadata": {},
   "outputs": [],
   "source": [
    "# initialize qc variable\n",
    "qc = qcreg['scratch'].copy()"
   ]
  },
  {
   "cell_type": "code",
   "execution_count": null,
   "id": "f6eabbfa",
   "metadata": {},
   "outputs": [],
   "source": [
    "### VIEW: circuitSelection\n",
    "html = HTML(\"\"\"\n",
    "<h1>Where do you want to start</h1>\n",
    "<br/>\n",
    "<br/>\n",
    "<button class=\"btn btn-primary\" data-q-code=\"qc=qcreg['scratch'].copy()\" data-q-target=\"initEditor,editor\">Start from scratch</button>\n",
    "<button class=\"btn btn-primary\" data-q-code=\"qc=qcreg['superposition'].copy()\" data-q-target=\"initEditor,editor\">Start with superposition</button>\n",
    "<button class=\"btn btn-primary\">...</button>\n",
    "<br><br>\n",
    "<button class=\"btn btn-default\" data-q-target=\"welcome\">Back</button>\n",
    "\"\"\")\n",
    "display(html)"
   ]
  },
  {
   "cell_type": "code",
   "execution_count": null,
   "id": "9ccb5a13",
   "metadata": {},
   "outputs": [],
   "source": [
    "backend.run?"
   ]
  },
  {
   "cell_type": "code",
   "execution_count": null,
   "id": "4e92366c",
   "metadata": {},
   "outputs": [],
   "source": [
    "from random import randint"
   ]
  },
  {
   "cell_type": "code",
   "execution_count": null,
   "id": "fb675b1f",
   "metadata": {},
   "outputs": [],
   "source": [
    "randint(0, 2000)"
   ]
  },
  {
   "cell_type": "code",
   "execution_count": null,
   "id": "34e055e0",
   "metadata": {},
   "outputs": [],
   "source": [
    "def get_counts(num_shots):\n",
    "    # copy current circuit\n",
    "    mqc = editor.circuit.copy()\n",
    "    # add measurement\n",
    "    mqc.measure(range(2), range(2))\n",
    "    # get simulation result\n",
    "    mqc_compiled = transpile(mqc, backend)\n",
    "    job_sim = backend.run(mqc_compiled, shots=num_shots, seed=randint(0, 2500))\n",
    "    result_sim = job_sim.result()\n",
    "    counts = result_sim.get_counts(mqc_compiled)\n",
    "    return counts"
   ]
  },
  {
   "cell_type": "code",
   "execution_count": null,
   "id": "b71c01d0",
   "metadata": {},
   "outputs": [],
   "source": [
    "### VIEW: initEditor\n",
    "editor = CircuitComposer(circuit=qc)\n",
    "\n",
    "# handler for change events\n",
    "def calculate(change_event):\n",
    "    # there are multiple change events, only use one\n",
    "    if change_event['name'] != \"circuit\":\n",
    "        return\n",
    "    counts = get_counts(1024)\n",
    "    for bit in counts:\n",
    "        JsWindowState.set(\"editor-circuit-bit-\"+bit, counts[bit]/1024)\n",
    "    qasm = editor.circuit.qasm()\n",
    "    JsWindowState.set(\"editor-circuit-qasm\", qasm)\n",
    "    \n",
    "# add handler to change events\n",
    "editor.observe(calculate)"
   ]
  },
  {
   "cell_type": "code",
   "execution_count": null,
   "id": "28c3ce22",
   "metadata": {},
   "outputs": [],
   "source": [
    "### VIEW: editor\n",
    "editor"
   ]
  },
  {
   "cell_type": "code",
   "execution_count": null,
   "id": "a1e93b0a",
   "metadata": {},
   "outputs": [],
   "source": [
    "### VIEW: editor\n",
    "html = HTML(\"\"\"\n",
    "Coffee (00):\n",
    "<div class=\"progress editor-circuit-probbar-00\">\n",
    "  <div class=\"progress-bar editor-circuit-probtext-00\" role=\"progressbar\" style=\"width: 0%\" aria-valuenow=\"0\" aria-valuemin=\"0\" aria-valuemax=\"100\">0%</div>\n",
    "</div>\n",
    "Cappucino (01):\n",
    "<div class=\"progress editor-circuit-probbar-01\">\n",
    "  <div class=\"progress-bar editor-circuit-probtext-01\" role=\"progressbar\" style=\"width: 0%\" aria-valuenow=\"0\" aria-valuemin=\"0\" aria-valuemax=\"100\">0%</div>\n",
    "</div>\n",
    "Espresso (10):\n",
    "<div class=\"progress editor-circuit-probbar-10\">\n",
    "  <div class=\"progress-bar editor-circuit-probtext-10\" role=\"progressbar\" style=\"width: 0%\" aria-valuenow=\"0\" aria-valuemin=\"0\" aria-valuemax=\"100\">0%</div>\n",
    "</div>\n",
    "Latte Macchiato (11):\n",
    "<div class=\"progress editor-circuit-probbar-11\">\n",
    "  <div class=\"progress-bar editor-circuit-probtext-11\" role=\"progressbar\" style=\"width: 0%\" aria-valuenow=\"0\" aria-valuemin=\"0\" aria-valuemax=\"100\">0%</div>\n",
    "</div>\n",
    "\n",
    "\n",
    "<button class=\"btn btn-primary\" data-q-target=\"order\">Get your drink</button>\n",
    "<button class=\"btn btn-primary\" data-q-open-external=\"editor-circuit-qasm\">Transfer to IBM Quantum Composer</button>\n",
    "<button class=\"btn btn-default\" data-q-target=\"circuitSelection\">Back</button>\n",
    "\"\"\")\n",
    "display(html) "
   ]
  },
  {
   "cell_type": "code",
   "execution_count": null,
   "id": "3d79cacd",
   "metadata": {},
   "outputs": [],
   "source": [
    "def set_new_drink():\n",
    "    global a\n",
    "    a = randint(0, 1000)\n",
    "    counts = get_counts(1)\n",
    "    JsWindowState.set(\"editor-circuit-single-shot-bit\", list(counts.keys())[0])"
   ]
  },
  {
   "cell_type": "code",
   "execution_count": null,
   "id": "bf4bf9d4",
   "metadata": {},
   "outputs": [],
   "source": [
    "### VIEW: singleShot\n",
    "set_new_drink()"
   ]
  },
  {
   "cell_type": "code",
   "execution_count": null,
   "id": "988bf4af",
   "metadata": {},
   "outputs": [],
   "source": [
    "### VIEW: order\n",
    "html = HTML(\"\"\"\n",
    "<h1>Chances are good to get: <span data-q-html>${editor-circuit-max-name}</span></h1>\n",
    "<br/>\n",
    "<p>Actual measurement: <span data-q-html>${editor-circuit-single-shot-name}</span></p>\n",
    "<br/>\n",
    "<button class=\"btn btn-primary\" data-q-execute=\"singleShot\">Run Again</button>\n",
    "<button class=\"btn btn-primary\" data-q-fn=\"requestDrink\">Okay, prepare</button>\n",
    "<button class=\"btn btn-default\" data-q-target=\"editor\">Back</button>\n",
    "\"\"\")\n",
    "display(html)"
   ]
  },
  {
   "cell_type": "code",
   "execution_count": null,
   "id": "1446b05b",
   "metadata": {},
   "outputs": [],
   "source": [
    "### VIEW: drinkPreparation\n",
    "html = HTML(\"\"\"\n",
    "<h1 data-q-html>Please wait while we are preparing your ${editor-circuit-single-shot-name} ☕</h1>\n",
    "\"\"\")\n",
    "display(html)"
   ]
  },
  {
   "cell_type": "code",
   "execution_count": null,
   "id": "c5141703",
   "metadata": {},
   "outputs": [],
   "source": [
    "### VIEW: success\n",
    "html = HTML(\"\"\"\n",
    "<h1 data-q-html>Thank you and enjoy your ${editor-circuit-single-shot-name} ☕</h1>\n",
    "<button class=\"btn btn-default\" data-q-target=\"welcome\">Back</button>\n",
    "\"\"\")\n",
    "display(html)"
   ]
  },
  {
   "cell_type": "code",
   "execution_count": null,
   "id": "4259c581",
   "metadata": {},
   "outputs": [],
   "source": [
    "### VIEW: error\n",
    "html = HTML(\"\"\"\n",
    "<h1>Something went wrong :/</h1>\n",
    "<p>Please contact someone around you to help</p>\n",
    "<button class=\"btn btn-default\" data-q-target=\"welcome\">Back</button>\n",
    "\"\"\")\n",
    "display(html) "
   ]
  },
  {
   "cell_type": "code",
   "execution_count": null,
   "id": "01a8ef5b",
   "metadata": {},
   "outputs": [],
   "source": []
  }
 ],
 "metadata": {
  "kernelspec": {
   "display_name": "Python 3 (ipykernel)",
   "language": "python",
   "name": "python3"
  },
  "language_info": {
   "codemirror_mode": {
    "name": "ipython",
    "version": 3
   },
   "file_extension": ".py",
   "mimetype": "text/x-python",
   "name": "python",
   "nbconvert_exporter": "python",
   "pygments_lexer": "ipython3",
   "version": "3.9.6"
  },
  "widgets": {
   "application/vnd.jupyter.widget-state+json": {
    "state": {
     "010ff8d1868049b78e0237ce4558e28a": {
      "model_module": "@jupyter-widgets/base",
      "model_module_version": "1.2.0",
      "model_name": "LayoutModel",
      "state": {}
     },
     "017eb9f7f9df4c91931d8eb244147d98": {
      "model_module": "@quantum/ibm-q-lab-widgets",
      "model_module_version": "^1.0.3",
      "model_name": "CircuitComposerModel",
      "state": {
       "_model_module_version": "^1.0.3",
       "_view_module_version": "^1.0.3",
       "circuit": "\"OPENQASM 2.0;\\ninclude \\\"qelib1.inc\\\";\\n\\nqreg q[2];\\ncreg c[2];\\n\\n\"",
       "editable": true,
       "layout": "IPY_MODEL_6ecd9ec2fd614a9d8b30c254cbba0a98",
       "qiskit_code_cell_index": -1
      }
     },
     "0282a08065034b8d955eddd228bddb49": {
      "model_module": "@quantum/ibm-q-lab-widgets",
      "model_module_version": "^1.0.3",
      "model_name": "CircuitComposerModel",
      "state": {
       "_model_module_version": "^1.0.3",
       "_view_module_version": "^1.0.3",
       "circuit": "\"OPENQASM 2.0;\\ninclude \\\"qelib1.inc\\\";\\n\\nqreg q[2];\\ncreg c[2];\\n\\n\"",
       "editable": true,
       "layout": "IPY_MODEL_266e82231f824e918dd484f42ea0e476",
       "qiskit_code_cell_index": -1
      }
     },
     "02c23b347f034245b6d5ce1551f79bfb": {
      "model_module": "@jupyter-widgets/base",
      "model_module_version": "1.2.0",
      "model_name": "LayoutModel",
      "state": {}
     },
     "02d098e30923451cb9c0182cfbba5581": {
      "model_module": "@jupyter-widgets/base",
      "model_module_version": "1.2.0",
      "model_name": "LayoutModel",
      "state": {}
     },
     "036b5b12209c4c3f93075b43a1dd86e4": {
      "model_module": "@jupyter-widgets/base",
      "model_module_version": "1.2.0",
      "model_name": "LayoutModel",
      "state": {}
     },
     "03895535a360415582064ff0857009e4": {
      "model_module": "@jupyter-widgets/base",
      "model_module_version": "1.2.0",
      "model_name": "LayoutModel",
      "state": {}
     },
     "0405460e042c4aeba0304836eca0d130": {
      "model_module": "@jupyter-widgets/base",
      "model_module_version": "1.2.0",
      "model_name": "LayoutModel",
      "state": {}
     },
     "04149abac3ab4519b526ec1f6f9ada2d": {
      "model_module": "@quantum/ibm-q-lab-widgets",
      "model_module_version": "^1.0.3",
      "model_name": "CircuitComposerModel",
      "state": {
       "_model_module_version": "^1.0.3",
       "_view_module_version": "^1.0.3",
       "circuit": "\"OPENQASM 2.0;\\ninclude \\\"qelib1.inc\\\";\\n\\nqreg q[2];\\ncreg c[2];\\n\\n\"",
       "editable": true,
       "layout": "IPY_MODEL_98cf22df865e44e48e0d704bfd3b7048",
       "qiskit_code_cell_index": -1
      }
     },
     "052957853f5a4eb1915c5edd72fa5214": {
      "model_module": "@quantum/ibm-q-lab-widgets",
      "model_module_version": "^1.0.3",
      "model_name": "CircuitComposerModel",
      "state": {
       "_model_module_version": "^1.0.3",
       "_view_module_version": "^1.0.3",
       "circuit": "\"OPENQASM 2.0;\\ninclude \\\"qelib1.inc\\\";\\n\\nqreg q[2];\\ncreg c[2];\\n\\n\"",
       "editable": true,
       "layout": "IPY_MODEL_ed057a10a12a44b1966a04c4b6827bf1",
       "qiskit_code_cell_index": -1
      }
     },
     "064bdc2129144e9a87414b6cae1e8f19": {
      "model_module": "@quantum/ibm-q-lab-widgets",
      "model_module_version": "^1.0.3",
      "model_name": "CircuitComposerModel",
      "state": {
       "_model_module_version": "^1.0.3",
       "_view_module_version": "^1.0.3",
       "circuit": "\"OPENQASM 2.0;\\ninclude \\\"qelib1.inc\\\";\\n\\nqreg q[2];\\ncreg c[2];\\n\\n\"",
       "editable": true,
       "layout": "IPY_MODEL_98abb8e9c87441069fc8bf53c020ca3d",
       "qiskit_code_cell_index": -1
      }
     },
     "0666c6223fee4124b607379654baa061": {
      "model_module": "@quantum/ibm-q-lab-widgets",
      "model_module_version": "^1.0.3",
      "model_name": "CircuitComposerModel",
      "state": {
       "_model_module_version": "^1.0.3",
       "_view_module_version": "^1.0.3",
       "circuit": "\"OPENQASM 2.0;\\ninclude \\\"qelib1.inc\\\";\\n\\nqreg q[2];\\ncreg c[2];\\n\\n\"",
       "editable": true,
       "layout": "IPY_MODEL_d345371abe464f44b5d243ae6b12292c",
       "qiskit_code_cell_index": -1
      }
     },
     "06fc67717d81424584a7334749e0f901": {
      "model_module": "@quantum/ibm-q-lab-widgets",
      "model_module_version": "^1.0.3",
      "model_name": "CircuitComposerModel",
      "state": {
       "_model_module_version": "^1.0.3",
       "_view_module_version": "^1.0.3",
       "circuit": "\"OPENQASM 2.0;\\ninclude \\\"qelib1.inc\\\";\\n\\nqreg q[2];\\ncreg c[2];\\n\\nh q[0];\\ncx q[0],q[1];\"",
       "editable": true,
       "layout": "IPY_MODEL_7e3992f9543a4c4ea64c65767e1c87eb",
       "qiskit_code_cell_index": -1
      }
     },
     "08c0ce23f76c43fc8cbace76f6375d1d": {
      "model_module": "@jupyter-widgets/base",
      "model_module_version": "1.2.0",
      "model_name": "LayoutModel",
      "state": {}
     },
     "08dc8bc22b924aed98c992309c731fac": {
      "model_module": "@jupyter-widgets/base",
      "model_module_version": "1.2.0",
      "model_name": "LayoutModel",
      "state": {}
     },
     "092e0d28dc7642e8b6e0ad6986c99caf": {
      "model_module": "@jupyter-widgets/base",
      "model_module_version": "1.2.0",
      "model_name": "LayoutModel",
      "state": {}
     },
     "09731f386e0d45b5b21b4ad9331aa28d": {
      "model_module": "@jupyter-widgets/base",
      "model_module_version": "1.2.0",
      "model_name": "LayoutModel",
      "state": {}
     },
     "0b07a4e5607a4455a684d76124b9d535": {
      "model_module": "@quantum/ibm-q-lab-widgets",
      "model_module_version": "^1.0.3",
      "model_name": "CircuitComposerModel",
      "state": {
       "_model_module_version": "^1.0.3",
       "_view_module_version": "^1.0.3",
       "circuit": "\"OPENQASM 2.0;\\ninclude \\\"qelib1.inc\\\";\\n\\nqreg q[2];\\ncreg c[2];\\n\\n\"",
       "editable": true,
       "layout": "IPY_MODEL_02c23b347f034245b6d5ce1551f79bfb",
       "qiskit_code_cell_index": -1
      }
     },
     "0b2487a4047d48aba6890851e70b3360": {
      "model_module": "@jupyter-widgets/base",
      "model_module_version": "1.2.0",
      "model_name": "LayoutModel",
      "state": {}
     },
     "0b3264bbfb264660b48285fccbd63d2f": {
      "model_module": "@jupyter-widgets/base",
      "model_module_version": "1.2.0",
      "model_name": "LayoutModel",
      "state": {}
     },
     "0b892179c5a541b28ff189050b674839": {
      "model_module": "@jupyter-widgets/base",
      "model_module_version": "1.2.0",
      "model_name": "LayoutModel",
      "state": {}
     },
     "0bb04b6d920f4b62ac78ed235e98b434": {
      "model_module": "@jupyter-widgets/base",
      "model_module_version": "1.2.0",
      "model_name": "LayoutModel",
      "state": {}
     },
     "0c2e63aa49fb45dc808dcc06bd0668cb": {
      "model_module": "@jupyter-widgets/base",
      "model_module_version": "1.2.0",
      "model_name": "LayoutModel",
      "state": {}
     },
     "0c70140d5e074562b8ba594194ebcd7e": {
      "model_module": "@quantum/ibm-q-lab-widgets",
      "model_module_version": "^1.0.3",
      "model_name": "CircuitComposerModel",
      "state": {
       "_model_module_version": "^1.0.3",
       "_view_module_version": "^1.0.3",
       "circuit": "\"OPENQASM 2.0;\\ninclude \\\"qelib1.inc\\\";\\n\\nqreg q[2];\\ncreg c[2];\\n\\nh q[0];\"",
       "editable": true,
       "layout": "IPY_MODEL_9afa3a6cad6f4b6f958d91ddeb844673",
       "qiskit_code_cell_index": -1
      }
     },
     "0c99ddab42e94da2a799cd07ce4d022e": {
      "model_module": "@quantum/ibm-q-lab-widgets",
      "model_module_version": "^1.0.3",
      "model_name": "CircuitComposerModel",
      "state": {
       "_model_module_version": "^1.0.3",
       "_view_module_version": "^1.0.3",
       "circuit": "\"OPENQASM 2.0;\\ninclude \\\"qelib1.inc\\\";\\n\\nqreg q[2];\\ncreg c[2];\\n\\n\"",
       "editable": true,
       "layout": "IPY_MODEL_2e4c9d4b555544aabdfa58b37a8fe18c",
       "qiskit_code_cell_index": -1
      }
     },
     "0d28d51dcdbc4397bb10c6294173b235": {
      "model_module": "@quantum/ibm-q-lab-widgets",
      "model_module_version": "^1.0.3",
      "model_name": "CircuitComposerModel",
      "state": {
       "_model_module_version": "^1.0.3",
       "_view_module_version": "^1.0.3",
       "circuit": "\"OPENQASM 2.0;\\ninclude \\\"qelib1.inc\\\";\\n\\nqreg q[2];\\ncreg c[2];\\n\\nh q[0];\\ncx q[0],q[1];\"",
       "editable": true,
       "layout": "IPY_MODEL_1e952768c2a44380822ddd2a05dfd89f",
       "qiskit_code_cell_index": -1
      }
     },
     "0f1189c277c449a2ad7644bb9bcf8558": {
      "model_module": "@quantum/ibm-q-lab-widgets",
      "model_module_version": "^1.0.3",
      "model_name": "CircuitComposerModel",
      "state": {
       "_model_module_version": "^1.0.3",
       "_view_module_version": "^1.0.3",
       "circuit": "\"OPENQASM 2.0;\\ninclude \\\"qelib1.inc\\\";\\n\\nqreg q[2];\\ncreg c[2];\\n\\nh q[0];\\ncx q[0],q[1];\"",
       "editable": true,
       "layout": "IPY_MODEL_0c2e63aa49fb45dc808dcc06bd0668cb",
       "qiskit_code_cell_index": -1
      }
     },
     "0f2626d30ae04e0d9145d880ae6a2892": {
      "model_module": "@jupyter-widgets/base",
      "model_module_version": "1.2.0",
      "model_name": "LayoutModel",
      "state": {}
     },
     "1128c41473554ab5bc8edbd25fac1a86": {
      "model_module": "@jupyter-widgets/base",
      "model_module_version": "1.2.0",
      "model_name": "LayoutModel",
      "state": {}
     },
     "11b79f567033495e86a34b223c8313aa": {
      "model_module": "@quantum/ibm-q-lab-widgets",
      "model_module_version": "^1.0.3",
      "model_name": "CircuitComposerModel",
      "state": {
       "_model_module_version": "^1.0.3",
       "_view_module_version": "^1.0.3",
       "circuit": "\"OPENQASM 2.0;\\ninclude \\\"qelib1.inc\\\";\\n\\nqreg q[2];\\ncreg c[2];\\n\\nh q[0];\"",
       "editable": true,
       "layout": "IPY_MODEL_d5bbe7a8b8ed47d1adbd57a2f7916286",
       "qiskit_code_cell_index": -1
      }
     },
     "122cdaf8245c4a93a248c801fbab418f": {
      "model_module": "@jupyter-widgets/base",
      "model_module_version": "1.2.0",
      "model_name": "LayoutModel",
      "state": {}
     },
     "1275d7591f724363aed02300cb21aa18": {
      "model_module": "@quantum/ibm-q-lab-widgets",
      "model_module_version": "^1.0.3",
      "model_name": "CircuitComposerModel",
      "state": {
       "_model_module_version": "^1.0.3",
       "_view_module_version": "^1.0.3",
       "circuit": "\"OPENQASM 2.0;\\ninclude \\\"qelib1.inc\\\";\\n\\nqreg q[2];\\ncreg c[2];\\n\\n\"",
       "editable": true,
       "layout": "IPY_MODEL_82536a741ef646a0bef1813c3b516480",
       "qiskit_code_cell_index": -1
      }
     },
     "12960d6ac9794e0ea160a5368d702b84": {
      "model_module": "@quantum/ibm-q-lab-widgets",
      "model_module_version": "^1.0.3",
      "model_name": "CircuitComposerModel",
      "state": {
       "_model_module_version": "^1.0.3",
       "_view_module_version": "^1.0.3",
       "circuit": "\"OPENQASM 2.0;\\ninclude \\\"qelib1.inc\\\";\\n\\nqreg q[2];\\ncreg c[2];\\n\\n\"",
       "editable": true,
       "layout": "IPY_MODEL_a640c8b28ec4460a84920629ebbf3cc1",
       "qiskit_code_cell_index": -1
      }
     },
     "13135601a6674cc6bc95ac54a94b4104": {
      "model_module": "@quantum/ibm-q-lab-widgets",
      "model_module_version": "^1.0.3",
      "model_name": "CircuitComposerModel",
      "state": {
       "_model_module_version": "^1.0.3",
       "_view_module_version": "^1.0.3",
       "circuit": "\"OPENQASM 2.0;\\ninclude \\\"qelib1.inc\\\";\\n\\nqreg q[2];\\ncreg c[2];\\n\\n\"",
       "editable": true,
       "layout": "IPY_MODEL_1e864d623f0c489caa4f57cbd54ea7b6",
       "qiskit_code_cell_index": -1
      }
     },
     "13221e416a94487b821f776f6185f5af": {
      "model_module": "@jupyter-widgets/base",
      "model_module_version": "1.2.0",
      "model_name": "LayoutModel",
      "state": {}
     },
     "1347f8869f07454eadaafbe074254866": {
      "model_module": "@quantum/ibm-q-lab-widgets",
      "model_module_version": "^1.0.3",
      "model_name": "CircuitComposerModel",
      "state": {
       "_model_module_version": "^1.0.3",
       "_view_module_version": "^1.0.3",
       "circuit": "\"OPENQASM 2.0;\\ninclude \\\"qelib1.inc\\\";\\n\\nqreg q[2];\\ncreg c[2];\\n\\nh q[0];\\ncx q[0],q[1];\"",
       "editable": true,
       "layout": "IPY_MODEL_c130711f9c6b49239d763658d38a6d01",
       "qiskit_code_cell_index": -1
      }
     },
     "1364827b9ca043d48405a86614a00a8b": {
      "model_module": "@quantum/ibm-q-lab-widgets",
      "model_module_version": "^1.0.3",
      "model_name": "CircuitComposerModel",
      "state": {
       "_model_module_version": "^1.0.3",
       "_view_module_version": "^1.0.3",
       "circuit": "\"OPENQASM 2.0;\\ninclude \\\"qelib1.inc\\\";\\n\\nqreg q[2];\\ncreg c[2];\\n\\nh q[0];\\nx q[1];\"",
       "editable": true,
       "layout": "IPY_MODEL_558a2809745f4f4fbd6b7900d6bd9e01",
       "qiskit_code_cell_index": -1
      }
     },
     "139380a9e5cc4d15a9b7786c2461bf17": {
      "model_module": "@quantum/ibm-q-lab-widgets",
      "model_module_version": "^1.0.3",
      "model_name": "CircuitComposerModel",
      "state": {
       "_model_module_version": "^1.0.3",
       "_view_module_version": "^1.0.3",
       "circuit": "\"OPENQASM 2.0;\\ninclude \\\"qelib1.inc\\\";\\n\\nqreg q[2];\\ncreg c[2];\\n\\nh q[0];\\ncx q[0],q[1];\"",
       "editable": true,
       "layout": "IPY_MODEL_79b1830a01904e93b6fcbb80ff670674",
       "qiskit_code_cell_index": -1
      }
     },
     "14040faeb766464d9c3ee3e4aca5383e": {
      "model_module": "@quantum/ibm-q-lab-widgets",
      "model_module_version": "^1.0.3",
      "model_name": "CircuitComposerModel",
      "state": {
       "_model_module_version": "^1.0.3",
       "_view_module_version": "^1.0.3",
       "circuit": "\"OPENQASM 2.0;\\ninclude \\\"qelib1.inc\\\";\\n\\nqreg q[2];\\ncreg c[2];\\n\\n\"",
       "editable": true,
       "layout": "IPY_MODEL_424a2792b521437dba34d9e16d01bae7",
       "qiskit_code_cell_index": -1
      }
     },
     "14482a7553cd4222b9e7dcefaf0ab396": {
      "model_module": "@quantum/ibm-q-lab-widgets",
      "model_module_version": "^1.0.3",
      "model_name": "CircuitComposerModel",
      "state": {
       "_model_module_version": "^1.0.3",
       "_view_module_version": "^1.0.3",
       "circuit": "\"OPENQASM 2.0;\\ninclude \\\"qelib1.inc\\\";\\n\\nqreg q[2];\\ncreg c[2];\\n\\nh q[0];\\ncx q[0],q[1];\"",
       "editable": true,
       "layout": "IPY_MODEL_9860bfca19464b20ac01ed7070ab8ca0",
       "qiskit_code_cell_index": -1
      }
     },
     "15d688c5271a4af6937f7ba3be0af9b5": {
      "model_module": "@jupyter-widgets/base",
      "model_module_version": "1.2.0",
      "model_name": "LayoutModel",
      "state": {}
     },
     "164e721f65ea4541b456877741c92a70": {
      "model_module": "@jupyter-widgets/base",
      "model_module_version": "1.2.0",
      "model_name": "LayoutModel",
      "state": {}
     },
     "1680e35095d64a65aa47f8603bf3c7d4": {
      "model_module": "@jupyter-widgets/base",
      "model_module_version": "1.2.0",
      "model_name": "LayoutModel",
      "state": {}
     },
     "16b766f3bae640da90c63b10044b35f9": {
      "model_module": "@quantum/ibm-q-lab-widgets",
      "model_module_version": "^1.0.3",
      "model_name": "CircuitComposerModel",
      "state": {
       "_model_module_version": "^1.0.3",
       "_view_module_version": "^1.0.3",
       "circuit": "\"OPENQASM 2.0;\\ninclude \\\"qelib1.inc\\\";\\n\\nqreg q[2];\\ncreg c[2];\\n\\nh q[0];\\ncx q[0],q[1];\"",
       "editable": true,
       "layout": "IPY_MODEL_faab2486c0a648b5ba4b56085c69b8dd",
       "qiskit_code_cell_index": -1
      }
     },
     "17529a77ce464c01bb0c1baae61d5a0e": {
      "model_module": "@quantum/ibm-q-lab-widgets",
      "model_module_version": "^1.0.3",
      "model_name": "CircuitComposerModel",
      "state": {
       "_model_module_version": "^1.0.3",
       "_view_module_version": "^1.0.3",
       "circuit": "\"OPENQASM 2.0;\\ninclude \\\"qelib1.inc\\\";\\n\\nqreg q[2];\\ncreg c[2];\\n\\nh q[0];\\nx q[0];\\nh q[1];\"",
       "editable": true,
       "layout": "IPY_MODEL_c79f2c1859de4e6c8514bf9b2eced5f8",
       "qiskit_code_cell_index": -1
      }
     },
     "17b8ddc0223a491aafb7f5607ed7ced0": {
      "model_module": "@quantum/ibm-q-lab-widgets",
      "model_module_version": "^1.0.3",
      "model_name": "CircuitComposerModel",
      "state": {
       "_model_module_version": "^1.0.3",
       "_view_module_version": "^1.0.3",
       "circuit": "\"OPENQASM 2.0;\\ninclude \\\"qelib1.inc\\\";\\n\\nqreg q[2];\\ncreg c[2];\\n\\nh q[0];\\nh q[0];\\nh q[1];\"",
       "editable": true,
       "layout": "IPY_MODEL_9db17c7c31ca4fb8aa6cb1f3bc61e678",
       "qiskit_code_cell_index": -1
      }
     },
     "18ac221320174884b806688b739d4f30": {
      "model_module": "@quantum/ibm-q-lab-widgets",
      "model_module_version": "^1.0.3",
      "model_name": "CircuitComposerModel",
      "state": {
       "_model_module_version": "^1.0.3",
       "_view_module_version": "^1.0.3",
       "circuit": "\"OPENQASM 2.0;\\ninclude \\\"qelib1.inc\\\";\\n\\nqreg q[3];\\ncreg c[3];\\n\\nh q[0];\\nx q[1];\\nccx q[0],q[1],q[2];\\nh q[0];\\nh q[1];\\nh q[2];\"",
       "editable": true,
       "layout": "IPY_MODEL_43533c01bee0497fab09e74343238653",
       "qiskit_code_cell_index": -1
      }
     },
     "18c92b7224364e50b056844b9b1e8519": {
      "model_module": "@quantum/ibm-q-lab-widgets",
      "model_module_version": "^1.0.3",
      "model_name": "CircuitComposerModel",
      "state": {
       "_model_module_version": "^1.0.3",
       "_view_module_version": "^1.0.3",
       "circuit": "\"OPENQASM 2.0;\\ninclude \\\"qelib1.inc\\\";\\n\\nqreg q[2];\\ncreg c[2];\\n\\n\"",
       "editable": true,
       "layout": "IPY_MODEL_674ee41a67544421a93f9702b5cb70c0",
       "qiskit_code_cell_index": -1
      }
     },
     "191de5c9a06945989192408e6d4c58d1": {
      "model_module": "@jupyter-widgets/base",
      "model_module_version": "1.2.0",
      "model_name": "LayoutModel",
      "state": {}
     },
     "1976bd1fd69c442c8015ee898044beb5": {
      "model_module": "@jupyter-widgets/base",
      "model_module_version": "1.2.0",
      "model_name": "LayoutModel",
      "state": {}
     },
     "1a23932e00114708a7af6fbd94f71918": {
      "model_module": "@quantum/ibm-q-lab-widgets",
      "model_module_version": "^1.0.3",
      "model_name": "CircuitComposerModel",
      "state": {
       "_model_module_version": "^1.0.3",
       "_view_module_version": "^1.0.3",
       "circuit": "\"OPENQASM 2.0;\\ninclude \\\"qelib1.inc\\\";\\n\\nqreg q[2];\\ncreg c[2];\\n\\n\"",
       "editable": true,
       "layout": "IPY_MODEL_721b60580ef8499b8365d8756ef54ac3",
       "qiskit_code_cell_index": -1
      }
     },
     "1a949d5b96ba491ba193dd8cf211163b": {
      "model_module": "@quantum/ibm-q-lab-widgets",
      "model_module_version": "^1.0.3",
      "model_name": "CircuitComposerModel",
      "state": {
       "_model_module_version": "^1.0.3",
       "_view_module_version": "^1.0.3",
       "circuit": "\"OPENQASM 2.0;\\ninclude \\\"qelib1.inc\\\";\\n\\nqreg q[2];\\ncreg c[2];\\n\\nh q[0];\\nh q[1];\\nh q[1];\\ncx q[0],q[1];\\nx q[0];\\ncx q[0],q[1];\"",
       "editable": true,
       "layout": "IPY_MODEL_978e63d4b57e4368879a0ea1a6074892",
       "qiskit_code_cell_index": -1
      }
     },
     "1b0b9ecfc1aa4e47b7ceaa701f5084e4": {
      "model_module": "@quantum/ibm-q-lab-widgets",
      "model_module_version": "^1.0.3",
      "model_name": "CircuitComposerModel",
      "state": {
       "_model_module_version": "^1.0.3",
       "_view_module_version": "^1.0.3",
       "circuit": "\"OPENQASM 2.0;\\ninclude \\\"qelib1.inc\\\";\\n\\nqreg q[2];\\ncreg c[2];\\n\\n\"",
       "editable": true,
       "layout": "IPY_MODEL_daa995cac7e64257a191acf96b1284b3",
       "qiskit_code_cell_index": -1
      }
     },
     "1b168db5dc2a4e229326ae0bb883dadd": {
      "model_module": "@quantum/ibm-q-lab-widgets",
      "model_module_version": "^1.0.3",
      "model_name": "CircuitComposerModel",
      "state": {
       "_model_module_version": "^1.0.3",
       "_view_module_version": "^1.0.3",
       "circuit": "\"OPENQASM 2.0;\\ninclude \\\"qelib1.inc\\\";\\n\\nqreg q[2];\\ncreg c[2];\\n\\nh q[0];\"",
       "editable": true,
       "layout": "IPY_MODEL_0f2626d30ae04e0d9145d880ae6a2892",
       "qiskit_code_cell_index": -1
      }
     },
     "1b6ffa6b40844c4480620c07c6902113": {
      "model_module": "@quantum/ibm-q-lab-widgets",
      "model_module_version": "^1.0.3",
      "model_name": "CircuitComposerModel",
      "state": {
       "_model_module_version": "^1.0.3",
       "_view_module_version": "^1.0.3",
       "circuit": "\"OPENQASM 2.0;\\ninclude \\\"qelib1.inc\\\";\\n\\nqreg q[2];\\ncreg c[2];\\n\\n\"",
       "editable": true,
       "layout": "IPY_MODEL_2168e8570f1548baaf93511f9ba193fd",
       "qiskit_code_cell_index": -1
      }
     },
     "1d1c12d47caa41b5b35a1139fc42cd19": {
      "model_module": "@quantum/ibm-q-lab-widgets",
      "model_module_version": "^1.0.3",
      "model_name": "CircuitComposerModel",
      "state": {
       "_model_module_version": "^1.0.3",
       "_view_module_version": "^1.0.3",
       "circuit": "\"OPENQASM 2.0;\\ninclude \\\"qelib1.inc\\\";\\n\\nqreg q[2];\\ncreg c[2];\\n\\n\"",
       "editable": true,
       "layout": "IPY_MODEL_c0a36fc6ad5747368052736d10047cdf",
       "qiskit_code_cell_index": -1
      }
     },
     "1d5f25c62b1d4089ad9655da77e40cdd": {
      "model_module": "@quantum/ibm-q-lab-widgets",
      "model_module_version": "^1.0.3",
      "model_name": "CircuitComposerModel",
      "state": {
       "_model_module_version": "^1.0.3",
       "_view_module_version": "^1.0.3",
       "circuit": "\"OPENQASM 2.0;\\ninclude \\\"qelib1.inc\\\";\\n\\nqreg q[2];\\ncreg c[2];\\n\\nh q[0];\\nh q[0];\\nh q[1];\"",
       "editable": true,
       "layout": "IPY_MODEL_7aad586fe8ee4f8b86d203763a9d27da",
       "qiskit_code_cell_index": -1
      }
     },
     "1e5f4ce0edbb4e3eb88df306300c71f1": {
      "model_module": "@quantum/ibm-q-lab-widgets",
      "model_module_version": "^1.0.3",
      "model_name": "CircuitComposerModel",
      "state": {
       "_model_module_version": "^1.0.3",
       "_view_module_version": "^1.0.3",
       "circuit": "\"OPENQASM 2.0;\\ninclude \\\"qelib1.inc\\\";\\n\\nqreg q[2];\\ncreg c[2];\\n\\nh q[0];\\ncx q[0],q[1];\"",
       "editable": true,
       "layout": "IPY_MODEL_f17089c29c4642e5b1ac847e8e25d4c3",
       "qiskit_code_cell_index": -1
      }
     },
     "1e864d623f0c489caa4f57cbd54ea7b6": {
      "model_module": "@jupyter-widgets/base",
      "model_module_version": "1.2.0",
      "model_name": "LayoutModel",
      "state": {}
     },
     "1e952768c2a44380822ddd2a05dfd89f": {
      "model_module": "@jupyter-widgets/base",
      "model_module_version": "1.2.0",
      "model_name": "LayoutModel",
      "state": {}
     },
     "1f49b14b98bd4bf6a3e8b4a35d25a3cf": {
      "model_module": "@quantum/ibm-q-lab-widgets",
      "model_module_version": "^1.0.3",
      "model_name": "CircuitComposerModel",
      "state": {
       "_model_module_version": "^1.0.3",
       "_view_module_version": "^1.0.3",
       "circuit": "\"OPENQASM 2.0;\\ninclude \\\"qelib1.inc\\\";\\n\\nqreg q[2];\\ncreg c[2];\\n\\n\"",
       "editable": true,
       "layout": "IPY_MODEL_6effc924fd9e434ca0e5bc5226d77b93",
       "qiskit_code_cell_index": -1
      }
     },
     "1f80afd3d50c432a9a6f7f0a6b9de5cb": {
      "model_module": "@jupyter-widgets/base",
      "model_module_version": "1.2.0",
      "model_name": "LayoutModel",
      "state": {}
     },
     "2053cf15e84f481aa74af204d8c3dad7": {
      "model_module": "@quantum/ibm-q-lab-widgets",
      "model_module_version": "^1.0.3",
      "model_name": "CircuitComposerModel",
      "state": {
       "_model_module_version": "^1.0.3",
       "_view_module_version": "^1.0.3",
       "circuit": "\"OPENQASM 2.0;\\ninclude \\\"qelib1.inc\\\";\\n\\nqreg q[2];\\ncreg c[2];\\n\\n\"",
       "editable": true,
       "layout": "IPY_MODEL_13221e416a94487b821f776f6185f5af",
       "qiskit_code_cell_index": -1
      }
     },
     "207c6eb0940a42e7ab7921fb901c9dbe": {
      "model_module": "@quantum/ibm-q-lab-widgets",
      "model_module_version": "^1.0.3",
      "model_name": "CircuitComposerModel",
      "state": {
       "_model_module_version": "^1.0.3",
       "_view_module_version": "^1.0.3",
       "circuit": "\"OPENQASM 2.0;\\ninclude \\\"qelib1.inc\\\";\\n\\nqreg q[2];\\ncreg c[2];\\n\\n\"",
       "editable": true,
       "layout": "IPY_MODEL_21fa2a6118d24e87a609ac10717eb2e3",
       "qiskit_code_cell_index": -1
      }
     },
     "20aafb6307024f30989ee85cf9bbd6c0": {
      "model_module": "@jupyter-widgets/base",
      "model_module_version": "1.2.0",
      "model_name": "LayoutModel",
      "state": {}
     },
     "215a2eea9e58457d9cc222a443e255bd": {
      "model_module": "@quantum/ibm-q-lab-widgets",
      "model_module_version": "^1.0.3",
      "model_name": "CircuitComposerModel",
      "state": {
       "_model_module_version": "^1.0.3",
       "_view_module_version": "^1.0.3",
       "circuit": "\"OPENQASM 2.0;\\ninclude \\\"qelib1.inc\\\";\\n\\nqreg q[2];\\ncreg c[2];\\n\\n\"",
       "editable": true,
       "layout": "IPY_MODEL_480f0cecb3c344e899c8c19f06cb8723",
       "qiskit_code_cell_index": -1
      }
     },
     "21600dae2b8147a297ee113de053b77f": {
      "model_module": "@quantum/ibm-q-lab-widgets",
      "model_module_version": "^1.0.3",
      "model_name": "CircuitComposerModel",
      "state": {
       "_model_module_version": "^1.0.3",
       "_view_module_version": "^1.0.3",
       "circuit": "\"OPENQASM 2.0;\\ninclude \\\"qelib1.inc\\\";\\n\\nqreg q[2];\\ncreg c[2];\\n\\nh q[0];\\ncx q[0],q[1];\"",
       "editable": true,
       "layout": "IPY_MODEL_fcb12cbe2529456db47e982e7f3a1971",
       "qiskit_code_cell_index": -1
      }
     },
     "2168e8570f1548baaf93511f9ba193fd": {
      "model_module": "@jupyter-widgets/base",
      "model_module_version": "1.2.0",
      "model_name": "LayoutModel",
      "state": {}
     },
     "21c0e125f2f54d6885c37006e3972794": {
      "model_module": "@jupyter-widgets/base",
      "model_module_version": "1.2.0",
      "model_name": "LayoutModel",
      "state": {}
     },
     "21fa2a6118d24e87a609ac10717eb2e3": {
      "model_module": "@jupyter-widgets/base",
      "model_module_version": "1.2.0",
      "model_name": "LayoutModel",
      "state": {}
     },
     "2210ef2a287c42a98afe404943f1eed7": {
      "model_module": "@quantum/ibm-q-lab-widgets",
      "model_module_version": "^1.0.3",
      "model_name": "CircuitComposerModel",
      "state": {
       "_model_module_version": "^1.0.3",
       "_view_module_version": "^1.0.3",
       "circuit": "\"OPENQASM 2.0;\\ninclude \\\"qelib1.inc\\\";\\n\\nqreg q[2];\\ncreg c[2];\\n\\nh q[0];\\ncx q[0],q[1];\"",
       "editable": true,
       "layout": "IPY_MODEL_7e0cff9114cc48959d01788870ad9840",
       "qiskit_code_cell_index": -1
      }
     },
     "23208e1619954f22b6a604f487b7c2c5": {
      "model_module": "@quantum/ibm-q-lab-widgets",
      "model_module_version": "^1.0.3",
      "model_name": "CircuitComposerModel",
      "state": {
       "_model_module_version": "^1.0.3",
       "_view_module_version": "^1.0.3",
       "circuit": "\"OPENQASM 2.0;\\ninclude \\\"qelib1.inc\\\";\\n\\nqreg q[2];\\ncreg c[2];\\n\\nh q[0];\\ncx q[0],q[1];\"",
       "editable": true,
       "layout": "IPY_MODEL_dea1ed632db24e6bb6841928ae9c4011",
       "qiskit_code_cell_index": -1
      }
     },
     "23634d870cee4f9dabc5e64d2da63ec7": {
      "model_module": "@quantum/ibm-q-lab-widgets",
      "model_module_version": "^1.0.3",
      "model_name": "CircuitComposerModel",
      "state": {
       "_model_module_version": "^1.0.3",
       "_view_module_version": "^1.0.3",
       "circuit": "\"OPENQASM 2.0;\\ninclude \\\"qelib1.inc\\\";\\n\\nqreg q[2];\\ncreg c[2];\\n\\n\"",
       "editable": true,
       "layout": "IPY_MODEL_7887fa667e264caabe4ce36995c35170",
       "qiskit_code_cell_index": -1
      }
     },
     "2565d52712894408a9aca73bda231b00": {
      "model_module": "@jupyter-widgets/base",
      "model_module_version": "1.2.0",
      "model_name": "LayoutModel",
      "state": {}
     },
     "25bb6880adca41cd8023bd1e543bfb67": {
      "model_module": "@jupyter-widgets/base",
      "model_module_version": "1.2.0",
      "model_name": "LayoutModel",
      "state": {}
     },
     "26342988528246eaa3a21439e66eb6dd": {
      "model_module": "@jupyter-widgets/base",
      "model_module_version": "1.2.0",
      "model_name": "LayoutModel",
      "state": {}
     },
     "266e82231f824e918dd484f42ea0e476": {
      "model_module": "@jupyter-widgets/base",
      "model_module_version": "1.2.0",
      "model_name": "LayoutModel",
      "state": {}
     },
     "26730a9683774333a520c99577525002": {
      "model_module": "@quantum/ibm-q-lab-widgets",
      "model_module_version": "^1.0.3",
      "model_name": "CircuitComposerModel",
      "state": {
       "_model_module_version": "^1.0.3",
       "_view_module_version": "^1.0.3",
       "circuit": "\"OPENQASM 2.0;\\ninclude \\\"qelib1.inc\\\";\\n\\nqreg q[2];\\ncreg c[2];\\n\\n\"",
       "editable": true,
       "layout": "IPY_MODEL_a1d7b76dbbfd42d79e422e7f677b6abd",
       "qiskit_code_cell_index": -1
      }
     },
     "268c67b3e79249459b2b09cf6ab141c1": {
      "model_module": "@jupyter-widgets/base",
      "model_module_version": "1.2.0",
      "model_name": "LayoutModel",
      "state": {}
     },
     "270515cd5cb94070ab21f70e0bf5ac04": {
      "model_module": "@jupyter-widgets/base",
      "model_module_version": "1.2.0",
      "model_name": "LayoutModel",
      "state": {}
     },
     "276a7d0231364e83b8e324453d720a74": {
      "model_module": "@jupyter-widgets/base",
      "model_module_version": "1.2.0",
      "model_name": "LayoutModel",
      "state": {}
     },
     "276e9399356f4c3c89bd33c1f87f900d": {
      "model_module": "@quantum/ibm-q-lab-widgets",
      "model_module_version": "^1.0.3",
      "model_name": "CircuitComposerModel",
      "state": {
       "_model_module_version": "^1.0.3",
       "_view_module_version": "^1.0.3",
       "circuit": "\"OPENQASM 2.0;\\ninclude \\\"qelib1.inc\\\";\\n\\nqreg q[2];\\ncreg c[2];\\n\\n\"",
       "editable": true,
       "layout": "IPY_MODEL_8662f5e631e14e17af7113973325327c",
       "qiskit_code_cell_index": -1
      }
     },
     "280969aa582e427ea2c781b0cab15a2e": {
      "model_module": "@quantum/ibm-q-lab-widgets",
      "model_module_version": "^1.0.3",
      "model_name": "CircuitComposerModel",
      "state": {
       "_model_module_version": "^1.0.3",
       "_view_module_version": "^1.0.3",
       "circuit": "\"OPENQASM 2.0;\\ninclude \\\"qelib1.inc\\\";\\n\\nqreg q[2];\\ncreg c[2];\\n\\nh q[0];\\nx q[0];\\nh q[1];\"",
       "editable": true,
       "layout": "IPY_MODEL_0b2487a4047d48aba6890851e70b3360",
       "qiskit_code_cell_index": -1
      }
     },
     "28a634bf9a184d72be825bbdf3af383d": {
      "model_module": "@jupyter-widgets/base",
      "model_module_version": "1.2.0",
      "model_name": "LayoutModel",
      "state": {}
     },
     "28c2664e58fa42dd944ce229fdf2bb66": {
      "model_module": "@jupyter-widgets/base",
      "model_module_version": "1.2.0",
      "model_name": "LayoutModel",
      "state": {}
     },
     "28d85d533b2d42f982ebff3cd3eecffa": {
      "model_module": "@quantum/ibm-q-lab-widgets",
      "model_module_version": "^1.0.3",
      "model_name": "CircuitComposerModel",
      "state": {
       "_model_module_version": "^1.0.3",
       "_view_module_version": "^1.0.3",
       "circuit": "\"OPENQASM 2.0;\\ninclude \\\"qelib1.inc\\\";\\n\\nqreg q[2];\\ncreg c[2];\\n\\nh q[0];\\ncx q[0],q[1];\"",
       "editable": true,
       "layout": "IPY_MODEL_73856d8803374d2190529b794e20aa2c",
       "qiskit_code_cell_index": -1
      }
     },
     "28f1a06e83c8432395f2fdb394584027": {
      "model_module": "@quantum/ibm-q-lab-widgets",
      "model_module_version": "^1.0.3",
      "model_name": "CircuitComposerModel",
      "state": {
       "_model_module_version": "^1.0.3",
       "_view_module_version": "^1.0.3",
       "circuit": "\"OPENQASM 2.0;\\ninclude \\\"qelib1.inc\\\";\\n\\nqreg q[2];\\ncreg c[2];\\n\\n\"",
       "editable": true,
       "layout": "IPY_MODEL_9ae2ef7a4c8e4130a53f4372e8034c2c",
       "qiskit_code_cell_index": -1
      }
     },
     "2962c330a1bb482b9c35e91dc062c185": {
      "model_module": "@jupyter-widgets/base",
      "model_module_version": "1.2.0",
      "model_name": "LayoutModel",
      "state": {}
     },
     "2982a879c55049318462c51f32fee910": {
      "model_module": "@jupyter-widgets/base",
      "model_module_version": "1.2.0",
      "model_name": "LayoutModel",
      "state": {}
     },
     "2a56e550fb714ec9a16b3822a11ed293": {
      "model_module": "@quantum/ibm-q-lab-widgets",
      "model_module_version": "^1.0.3",
      "model_name": "CircuitComposerModel",
      "state": {
       "_model_module_version": "^1.0.3",
       "_view_module_version": "^1.0.3",
       "circuit": "\"OPENQASM 2.0;\\ninclude \\\"qelib1.inc\\\";\\n\\nqreg q[2];\\ncreg c[2];\\n\\nh q[0];\\ncx q[0],q[1];\"",
       "editable": true,
       "layout": "IPY_MODEL_7be58f346e8148a1b476b96003e77930",
       "qiskit_code_cell_index": -1
      }
     },
     "2baf44340e834776b36a00477e988dde": {
      "model_module": "@jupyter-widgets/base",
      "model_module_version": "1.2.0",
      "model_name": "LayoutModel",
      "state": {}
     },
     "2c63ebd0c40942c08a2e81ac1617353e": {
      "model_module": "@jupyter-widgets/base",
      "model_module_version": "1.2.0",
      "model_name": "LayoutModel",
      "state": {}
     },
     "2cda2c8b8ca84413924cd5363601861a": {
      "model_module": "@quantum/ibm-q-lab-widgets",
      "model_module_version": "^1.0.3",
      "model_name": "CircuitComposerModel",
      "state": {
       "_model_module_version": "^1.0.3",
       "_view_module_version": "^1.0.3",
       "circuit": "\"OPENQASM 2.0;\\ninclude \\\"qelib1.inc\\\";\\n\\nqreg q[3];\\ncreg c[3];\\n\\nh q[0];\\nh q[0];\\nh q[1];\\ncx q[0],q[1];\\ncx q[0],q[1];\\nt q[0];\\ns q[0];\\ncx q[0],q[1];\\nx q[2];\"",
       "editable": true,
       "layout": "IPY_MODEL_97fd969961b943c98360e94eb8bb9a30",
       "qiskit_code_cell_index": -1
      }
     },
     "2dd98132b0674491addafea85015fded": {
      "model_module": "@jupyter-widgets/base",
      "model_module_version": "1.2.0",
      "model_name": "LayoutModel",
      "state": {}
     },
     "2de1a8da8a3c43f9bc6e2478f44de99f": {
      "model_module": "@jupyter-widgets/base",
      "model_module_version": "1.2.0",
      "model_name": "LayoutModel",
      "state": {}
     },
     "2e1e9ca93a46478ca8a65ad78e35a805": {
      "model_module": "@jupyter-widgets/base",
      "model_module_version": "1.2.0",
      "model_name": "LayoutModel",
      "state": {}
     },
     "2e4c9d4b555544aabdfa58b37a8fe18c": {
      "model_module": "@jupyter-widgets/base",
      "model_module_version": "1.2.0",
      "model_name": "LayoutModel",
      "state": {}
     },
     "2ef2a84fcc194ef9ae781e08e630d3cb": {
      "model_module": "@quantum/ibm-q-lab-widgets",
      "model_module_version": "^1.0.3",
      "model_name": "CircuitComposerModel",
      "state": {
       "_model_module_version": "^1.0.3",
       "_view_module_version": "^1.0.3",
       "circuit": "\"OPENQASM 2.0;\\ninclude \\\"qelib1.inc\\\";\\n\\nqreg q[2];\\ncreg c[2];\\n\\n\"",
       "editable": true,
       "layout": "IPY_MODEL_0405460e042c4aeba0304836eca0d130",
       "qiskit_code_cell_index": -1
      }
     },
     "2fadf60e0a6e4f4bbd414fc2b4678077": {
      "model_module": "@quantum/ibm-q-lab-widgets",
      "model_module_version": "^1.0.3",
      "model_name": "CircuitComposerModel",
      "state": {
       "_model_module_version": "^1.0.3",
       "_view_module_version": "^1.0.3",
       "circuit": "\"OPENQASM 2.0;\\ninclude \\\"qelib1.inc\\\";\\n\\nqreg q[2];\\ncreg c[2];\\n\\nh q[0];\\ncx q[0],q[1];\"",
       "editable": true,
       "layout": "IPY_MODEL_1976bd1fd69c442c8015ee898044beb5",
       "qiskit_code_cell_index": -1
      }
     },
     "308cfc3b915b46f4b853e8c1563161e8": {
      "model_module": "@jupyter-widgets/base",
      "model_module_version": "1.2.0",
      "model_name": "LayoutModel",
      "state": {}
     },
     "3149f102c2eb446c885f89fd5a1a825b": {
      "model_module": "@jupyter-widgets/base",
      "model_module_version": "1.2.0",
      "model_name": "LayoutModel",
      "state": {}
     },
     "315d1c3807d44de6b5263c60fd15465d": {
      "model_module": "@quantum/ibm-q-lab-widgets",
      "model_module_version": "^1.0.3",
      "model_name": "CircuitComposerModel",
      "state": {
       "_model_module_version": "^1.0.3",
       "_view_module_version": "^1.0.3",
       "circuit": "\"OPENQASM 2.0;\\ninclude \\\"qelib1.inc\\\";\\n\\nqreg q[2];\\ncreg c[2];\\n\\nh q[0];\"",
       "editable": true,
       "layout": "IPY_MODEL_58e538fa75f048d9b3ab382ac2e4ecbe",
       "qiskit_code_cell_index": -1
      }
     },
     "32b64506f21a479c90b34f86b21c70fa": {
      "model_module": "@jupyter-widgets/base",
      "model_module_version": "1.2.0",
      "model_name": "LayoutModel",
      "state": {}
     },
     "34a29baf5b8d470494bd7b3958e159d6": {
      "model_module": "@jupyter-widgets/base",
      "model_module_version": "1.2.0",
      "model_name": "LayoutModel",
      "state": {}
     },
     "34da5cb79d814a0b9f484dcf54372914": {
      "model_module": "@jupyter-widgets/base",
      "model_module_version": "1.2.0",
      "model_name": "LayoutModel",
      "state": {}
     },
     "35736d3219d44314a9a7a7a67c984fa0": {
      "model_module": "@jupyter-widgets/base",
      "model_module_version": "1.2.0",
      "model_name": "LayoutModel",
      "state": {}
     },
     "35e02dfc927a4c29bb939537699dc39c": {
      "model_module": "@quantum/ibm-q-lab-widgets",
      "model_module_version": "^1.0.3",
      "model_name": "CircuitComposerModel",
      "state": {
       "_model_module_version": "^1.0.3",
       "_view_module_version": "^1.0.3",
       "circuit": "\"OPENQASM 2.0;\\ninclude \\\"qelib1.inc\\\";\\n\\nqreg q[2];\\ncreg c[2];\\n\\n\"",
       "editable": true,
       "layout": "IPY_MODEL_0bb04b6d920f4b62ac78ed235e98b434",
       "qiskit_code_cell_index": -1
      }
     },
     "36350abb5ad94bbcb910408e14a7ad03": {
      "model_module": "@quantum/ibm-q-lab-widgets",
      "model_module_version": "^1.0.3",
      "model_name": "CircuitComposerModel",
      "state": {
       "_model_module_version": "^1.0.3",
       "_view_module_version": "^1.0.3",
       "circuit": "\"OPENQASM 2.0;\\ninclude \\\"qelib1.inc\\\";\\n\\nqreg q[2];\\ncreg c[2];\\n\\n\"",
       "editable": true,
       "layout": "IPY_MODEL_56e9c9e763d44ff2b4908f0f07847f86",
       "qiskit_code_cell_index": -1
      }
     },
     "380d9f18c2184a10b9c15b4341358893": {
      "model_module": "@quantum/ibm-q-lab-widgets",
      "model_module_version": "^1.0.3",
      "model_name": "CircuitComposerModel",
      "state": {
       "_model_module_version": "^1.0.3",
       "_view_module_version": "^1.0.3",
       "circuit": "\"OPENQASM 2.0;\\ninclude \\\"qelib1.inc\\\";\\n\\nqreg q[2];\\ncreg c[2];\\n\\nh q[0];\\nh q[1];\\ncx q[0],q[1];\"",
       "editable": true,
       "layout": "IPY_MODEL_5b787ba0af6640a7af82c27161cd9760",
       "qiskit_code_cell_index": -1
      }
     },
     "391c287a35764b31aa1a5bc822f93d3e": {
      "model_module": "@quantum/ibm-q-lab-widgets",
      "model_module_version": "^1.0.3",
      "model_name": "CircuitComposerModel",
      "state": {
       "_model_module_version": "^1.0.3",
       "_view_module_version": "^1.0.3",
       "circuit": "\"OPENQASM 2.0;\\ninclude \\\"qelib1.inc\\\";\\n\\nqreg q[2];\\ncreg c[2];\\n\\n\"",
       "editable": true,
       "layout": "IPY_MODEL_566f62344d5a475680f85b955b8cebb3",
       "qiskit_code_cell_index": -1
      }
     },
     "3968f08a669341149e0de2cd1892cec4": {
      "model_module": "@quantum/ibm-q-lab-widgets",
      "model_module_version": "^1.0.3",
      "model_name": "CircuitComposerModel",
      "state": {
       "_model_module_version": "^1.0.3",
       "_view_module_version": "^1.0.3",
       "circuit": "\"OPENQASM 2.0;\\ninclude \\\"qelib1.inc\\\";\\n\\nqreg q[2];\\ncreg c[2];\\n\\nh q[0];\\nh q[1];\"",
       "editable": true,
       "layout": "IPY_MODEL_08c0ce23f76c43fc8cbace76f6375d1d",
       "qiskit_code_cell_index": -1
      }
     },
     "39e680a055634d5a92319f48dbd3cfca": {
      "model_module": "@jupyter-widgets/base",
      "model_module_version": "1.2.0",
      "model_name": "LayoutModel",
      "state": {}
     },
     "3a7d6a556a734f889d1ad59ea056a95e": {
      "model_module": "@quantum/ibm-q-lab-widgets",
      "model_module_version": "^1.0.3",
      "model_name": "CircuitComposerModel",
      "state": {
       "_model_module_version": "^1.0.3",
       "_view_module_version": "^1.0.3",
       "circuit": "\"OPENQASM 2.0;\\ninclude \\\"qelib1.inc\\\";\\n\\nqreg q[2];\\ncreg c[2];\\n\\n\"",
       "editable": true,
       "layout": "IPY_MODEL_34a29baf5b8d470494bd7b3958e159d6",
       "qiskit_code_cell_index": -1
      }
     },
     "3aab181cfa8b4fc0b514ee2f4b8b269e": {
      "model_module": "@jupyter-widgets/base",
      "model_module_version": "1.2.0",
      "model_name": "LayoutModel",
      "state": {}
     },
     "3b0ec339d00444f9bb193409a036ec01": {
      "model_module": "@jupyter-widgets/base",
      "model_module_version": "1.2.0",
      "model_name": "LayoutModel",
      "state": {}
     },
     "3b656f529d8043d5b3fa97c79b4aac88": {
      "model_module": "@jupyter-widgets/base",
      "model_module_version": "1.2.0",
      "model_name": "LayoutModel",
      "state": {}
     },
     "3c254b40c9f64c6b883d02908783458b": {
      "model_module": "@jupyter-widgets/base",
      "model_module_version": "1.2.0",
      "model_name": "LayoutModel",
      "state": {}
     },
     "3d61f7bc76f04909a298a22c40da7293": {
      "model_module": "@jupyter-widgets/base",
      "model_module_version": "1.2.0",
      "model_name": "LayoutModel",
      "state": {}
     },
     "3daea97fb7ea43d9b7e19c9cb7c5b21b": {
      "model_module": "@quantum/ibm-q-lab-widgets",
      "model_module_version": "^1.0.3",
      "model_name": "CircuitComposerModel",
      "state": {
       "_model_module_version": "^1.0.3",
       "_view_module_version": "^1.0.3",
       "circuit": "\"OPENQASM 2.0;\\ninclude \\\"qelib1.inc\\\";\\n\\nqreg q[2];\\ncreg c[2];\\n\\nh q[0];\"",
       "editable": true,
       "layout": "IPY_MODEL_c8dc88a01de94b628f34383a8d3a55fb",
       "qiskit_code_cell_index": -1
      }
     },
     "3e2527ffd302444484560c69370961cf": {
      "model_module": "@jupyter-widgets/base",
      "model_module_version": "1.2.0",
      "model_name": "LayoutModel",
      "state": {}
     },
     "3e7e17ad013942d6af129d545dded9d7": {
      "model_module": "@quantum/ibm-q-lab-widgets",
      "model_module_version": "^1.0.3",
      "model_name": "CircuitComposerModel",
      "state": {
       "_model_module_version": "^1.0.3",
       "_view_module_version": "^1.0.3",
       "circuit": "\"OPENQASM 2.0;\\ninclude \\\"qelib1.inc\\\";\\n\\nqreg q[2];\\ncreg c[2];\\n\\n\"",
       "editable": true,
       "layout": "IPY_MODEL_b89146f0e96d46e2be9a44d365f349ea",
       "qiskit_code_cell_index": -1
      }
     },
     "3f0065726c02472c91231fee0a90fb5e": {
      "model_module": "@quantum/ibm-q-lab-widgets",
      "model_module_version": "^1.0.3",
      "model_name": "CircuitComposerModel",
      "state": {
       "_model_module_version": "^1.0.3",
       "_view_module_version": "^1.0.3",
       "circuit": "\"OPENQASM 2.0;\\ninclude \\\"qelib1.inc\\\";\\n\\nqreg q[2];\\ncreg c[2];\\n\\n\"",
       "editable": true,
       "layout": "IPY_MODEL_682933fc12be4da2b40e7b9a3a95b8b2",
       "qiskit_code_cell_index": -1
      }
     },
     "4018fb5e84d04325a00a15a3f02bfe36": {
      "model_module": "@jupyter-widgets/base",
      "model_module_version": "1.2.0",
      "model_name": "LayoutModel",
      "state": {}
     },
     "40c61f91dfd24292a127edd10f7be399": {
      "model_module": "@quantum/ibm-q-lab-widgets",
      "model_module_version": "^1.0.3",
      "model_name": "CircuitComposerModel",
      "state": {
       "_model_module_version": "^1.0.3",
       "_view_module_version": "^1.0.3",
       "circuit": "\"OPENQASM 2.0;\\ninclude \\\"qelib1.inc\\\";\\n\\nqreg q[2];\\ncreg c[2];\\n\\n\"",
       "editable": true,
       "layout": "IPY_MODEL_7bedc00802484dbeb6aba91d32d0c162",
       "qiskit_code_cell_index": -1
      }
     },
     "40e38822b43d428db06da9307e1f826d": {
      "model_module": "@quantum/ibm-q-lab-widgets",
      "model_module_version": "^1.0.3",
      "model_name": "CircuitComposerModel",
      "state": {
       "_model_module_version": "^1.0.3",
       "_view_module_version": "^1.0.3",
       "circuit": "\"OPENQASM 2.0;\\ninclude \\\"qelib1.inc\\\";\\n\\nqreg q[2];\\ncreg c[2];\\n\\n\"",
       "editable": true,
       "layout": "IPY_MODEL_55d2eb13f1324978bc9098a22b531541",
       "qiskit_code_cell_index": -1
      }
     },
     "40e3d5dd1db04892abdf1fb26cec6159": {
      "model_module": "@quantum/ibm-q-lab-widgets",
      "model_module_version": "^1.0.3",
      "model_name": "CircuitComposerModel",
      "state": {
       "_model_module_version": "^1.0.3",
       "_view_module_version": "^1.0.3",
       "circuit": "\"OPENQASM 2.0;\\ninclude \\\"qelib1.inc\\\";\\n\\nqreg q[2];\\ncreg c[2];\\n\\n\"",
       "editable": true,
       "layout": "IPY_MODEL_f17fea5669f0483abec10aa5958deebb",
       "qiskit_code_cell_index": -1
      }
     },
     "410138428aa54eb68006e2789777eca0": {
      "model_module": "@jupyter-widgets/base",
      "model_module_version": "1.2.0",
      "model_name": "LayoutModel",
      "state": {}
     },
     "4121ae3736f5416f8e6d720e92ee9362": {
      "model_module": "@jupyter-widgets/base",
      "model_module_version": "1.2.0",
      "model_name": "LayoutModel",
      "state": {}
     },
     "415261d83bec481e85aae05287c635f8": {
      "model_module": "@jupyter-widgets/base",
      "model_module_version": "1.2.0",
      "model_name": "LayoutModel",
      "state": {}
     },
     "419ef2d0a4f04337b08f06388ff80698": {
      "model_module": "@quantum/ibm-q-lab-widgets",
      "model_module_version": "^1.0.3",
      "model_name": "CircuitComposerModel",
      "state": {
       "_model_module_version": "^1.0.3",
       "_view_module_version": "^1.0.3",
       "circuit": "\"OPENQASM 2.0;\\ninclude \\\"qelib1.inc\\\";\\n\\nqreg q[2];\\ncreg c[2];\\n\\n\"",
       "editable": true,
       "layout": "IPY_MODEL_fd95647dfda04c7da7b1191b65231d49",
       "qiskit_code_cell_index": -1
      }
     },
     "424a2792b521437dba34d9e16d01bae7": {
      "model_module": "@jupyter-widgets/base",
      "model_module_version": "1.2.0",
      "model_name": "LayoutModel",
      "state": {}
     },
     "424e722677e94099a02153d2a5e27357": {
      "model_module": "@quantum/ibm-q-lab-widgets",
      "model_module_version": "^1.0.3",
      "model_name": "CircuitComposerModel",
      "state": {
       "_model_module_version": "^1.0.3",
       "_view_module_version": "^1.0.3",
       "circuit": "\"OPENQASM 2.0;\\ninclude \\\"qelib1.inc\\\";\\n\\nqreg q[2];\\ncreg c[2];\\n\\n\"",
       "editable": true,
       "layout": "IPY_MODEL_b9369c6ffcee44c28a8d255f89418502",
       "qiskit_code_cell_index": -1
      }
     },
     "4293cebfda02435289fefdd97a828104": {
      "model_module": "@quantum/ibm-q-lab-widgets",
      "model_module_version": "^1.0.3",
      "model_name": "CircuitComposerModel",
      "state": {
       "_model_module_version": "^1.0.3",
       "_view_module_version": "^1.0.3",
       "circuit": "\"OPENQASM 2.0;\\ninclude \\\"qelib1.inc\\\";\\n\\nqreg q[2];\\ncreg c[2];\\n\\nh q[0];\\nx q[0];\\nh q[0];\\nh q[1];\"",
       "editable": true,
       "layout": "IPY_MODEL_08dc8bc22b924aed98c992309c731fac",
       "qiskit_code_cell_index": -1
      }
     },
     "43533c01bee0497fab09e74343238653": {
      "model_module": "@jupyter-widgets/base",
      "model_module_version": "1.2.0",
      "model_name": "LayoutModel",
      "state": {}
     },
     "43facc27b9244633b0901cbcdd5c4489": {
      "model_module": "@quantum/ibm-q-lab-widgets",
      "model_module_version": "^1.0.3",
      "model_name": "CircuitComposerModel",
      "state": {
       "_model_module_version": "^1.0.3",
       "_view_module_version": "^1.0.3",
       "circuit": "\"OPENQASM 2.0;\\ninclude \\\"qelib1.inc\\\";\\n\\nqreg q[2];\\ncreg c[2];\\n\\n\"",
       "editable": true,
       "layout": "IPY_MODEL_db526552ec4044b0a381017851518441",
       "qiskit_code_cell_index": -1
      }
     },
     "4423950faeaa44cba9506722087d3448": {
      "model_module": "@jupyter-widgets/base",
      "model_module_version": "1.2.0",
      "model_name": "LayoutModel",
      "state": {}
     },
     "449b82965b1b4ab28e25e3ee6ee7a825": {
      "model_module": "@quantum/ibm-q-lab-widgets",
      "model_module_version": "^1.0.3",
      "model_name": "CircuitComposerModel",
      "state": {
       "_model_module_version": "^1.0.3",
       "_view_module_version": "^1.0.3",
       "circuit": "\"OPENQASM 2.0;\\ninclude \\\"qelib1.inc\\\";\\n\\nqreg q[2];\\ncreg c[2];\\n\\n\"",
       "editable": true,
       "layout": "IPY_MODEL_26342988528246eaa3a21439e66eb6dd",
       "qiskit_code_cell_index": -1
      }
     },
     "45cd9cc7d8ae4c3da8df69cca30336ec": {
      "model_module": "@quantum/ibm-q-lab-widgets",
      "model_module_version": "^1.0.3",
      "model_name": "CircuitComposerModel",
      "state": {
       "_model_module_version": "^1.0.3",
       "_view_module_version": "^1.0.3",
       "circuit": "\"OPENQASM 2.0;\\ninclude \\\"qelib1.inc\\\";\\n\\nqreg q[2];\\ncreg c[2];\\n\\nh q[0];\\nh q[0];\\nh q[1];\"",
       "editable": true,
       "layout": "IPY_MODEL_d3e249a5d6674b16918bb0379083135b",
       "qiskit_code_cell_index": -1
      }
     },
     "46cf6bdad4bd45568c1b5c5561d6bdc6": {
      "model_module": "@jupyter-widgets/base",
      "model_module_version": "1.2.0",
      "model_name": "LayoutModel",
      "state": {}
     },
     "47b61f6bb04c425eb173e936b0b63222": {
      "model_module": "@quantum/ibm-q-lab-widgets",
      "model_module_version": "^1.0.3",
      "model_name": "CircuitComposerModel",
      "state": {
       "_model_module_version": "^1.0.3",
       "_view_module_version": "^1.0.3",
       "circuit": "\"OPENQASM 2.0;\\ninclude \\\"qelib1.inc\\\";\\n\\nqreg q[2];\\ncreg c[2];\\n\\n\"",
       "editable": true,
       "layout": "IPY_MODEL_2962c330a1bb482b9c35e91dc062c185",
       "qiskit_code_cell_index": -1
      }
     },
     "480f0cecb3c344e899c8c19f06cb8723": {
      "model_module": "@jupyter-widgets/base",
      "model_module_version": "1.2.0",
      "model_name": "LayoutModel",
      "state": {}
     },
     "48f021d30068473982d6092d86e521ba": {
      "model_module": "@jupyter-widgets/base",
      "model_module_version": "1.2.0",
      "model_name": "LayoutModel",
      "state": {}
     },
     "49862a2b2c58473a894bf99cd549eaf9": {
      "model_module": "@jupyter-widgets/base",
      "model_module_version": "1.2.0",
      "model_name": "LayoutModel",
      "state": {}
     },
     "49f1c9d1b34a4309a9a98d5bccc7649f": {
      "model_module": "@quantum/ibm-q-lab-widgets",
      "model_module_version": "^1.0.3",
      "model_name": "CircuitComposerModel",
      "state": {
       "_model_module_version": "^1.0.3",
       "_view_module_version": "^1.0.3",
       "circuit": "\"OPENQASM 2.0;\\ninclude \\\"qelib1.inc\\\";\\n\\nqreg q[2];\\ncreg c[2];\\n\\n\"",
       "editable": true,
       "layout": "IPY_MODEL_1f80afd3d50c432a9a6f7f0a6b9de5cb",
       "qiskit_code_cell_index": -1
      }
     },
     "4b3a81a98e294d23a746be56a568a82b": {
      "model_module": "@jupyter-widgets/base",
      "model_module_version": "1.2.0",
      "model_name": "LayoutModel",
      "state": {}
     },
     "4b72dee504034a72a4bebd0471b2396f": {
      "model_module": "@jupyter-widgets/base",
      "model_module_version": "1.2.0",
      "model_name": "LayoutModel",
      "state": {}
     },
     "4c04ef3ed24d42508a5e8a241e77182f": {
      "model_module": "@jupyter-widgets/base",
      "model_module_version": "1.2.0",
      "model_name": "LayoutModel",
      "state": {}
     },
     "4cd5199684454ad8a7c6f7e416b94714": {
      "model_module": "@quantum/ibm-q-lab-widgets",
      "model_module_version": "^1.0.3",
      "model_name": "CircuitComposerModel",
      "state": {
       "_model_module_version": "^1.0.3",
       "_view_module_version": "^1.0.3",
       "circuit": "\"OPENQASM 2.0;\\ninclude \\\"qelib1.inc\\\";\\n\\nqreg q[2];\\ncreg c[2];\\n\\nh q[0];\\nh q[0];\\nh q[1];\"",
       "editable": true,
       "layout": "IPY_MODEL_859af7897c7f4587be67d31dfcaba308",
       "qiskit_code_cell_index": -1
      }
     },
     "4e6f71b9a39d490d87c87ec6b2415bf0": {
      "model_module": "@quantum/ibm-q-lab-widgets",
      "model_module_version": "^1.0.3",
      "model_name": "CircuitComposerModel",
      "state": {
       "_model_module_version": "^1.0.3",
       "_view_module_version": "^1.0.3",
       "circuit": "\"OPENQASM 2.0;\\ninclude \\\"qelib1.inc\\\";\\n\\nqreg q[2];\\ncreg c[2];\\n\\n\"",
       "editable": true,
       "layout": "IPY_MODEL_863f8db81cc345209f4eb24ea3b8fc31",
       "qiskit_code_cell_index": -1
      }
     },
     "4e7717c73f65499ba386a0307f383c2c": {
      "model_module": "@jupyter-widgets/base",
      "model_module_version": "1.2.0",
      "model_name": "LayoutModel",
      "state": {}
     },
     "4e80dd7b8a8b4c239ae037c4952d731d": {
      "model_module": "@jupyter-widgets/base",
      "model_module_version": "1.2.0",
      "model_name": "LayoutModel",
      "state": {}
     },
     "4f6b7bc4c7984ab1bc48e6f89fb4216d": {
      "model_module": "@jupyter-widgets/base",
      "model_module_version": "1.2.0",
      "model_name": "LayoutModel",
      "state": {}
     },
     "4f774e354cbd4c1daf9255bea113ac82": {
      "model_module": "@quantum/ibm-q-lab-widgets",
      "model_module_version": "^1.0.3",
      "model_name": "CircuitComposerModel",
      "state": {
       "_model_module_version": "^1.0.3",
       "_view_module_version": "^1.0.3",
       "circuit": "\"OPENQASM 2.0;\\ninclude \\\"qelib1.inc\\\";\\n\\nqreg q[2];\\ncreg c[2];\\n\\nh q[0];\\ncx q[0],q[1];\"",
       "editable": true,
       "layout": "IPY_MODEL_46cf6bdad4bd45568c1b5c5561d6bdc6",
       "qiskit_code_cell_index": -1
      }
     },
     "4f8f44dcbb1242378b9b3a59d802e7c2": {
      "model_module": "@jupyter-widgets/base",
      "model_module_version": "1.2.0",
      "model_name": "LayoutModel",
      "state": {}
     },
     "4f9e6623fe554bdf883b83c4443e5de1": {
      "model_module": "@jupyter-widgets/base",
      "model_module_version": "1.2.0",
      "model_name": "LayoutModel",
      "state": {}
     },
     "50f6ebbf00ff45859162a8bd72463e33": {
      "model_module": "@jupyter-widgets/base",
      "model_module_version": "1.2.0",
      "model_name": "LayoutModel",
      "state": {}
     },
     "51227fe1bfb546f2899f6696446eed9d": {
      "model_module": "@jupyter-widgets/base",
      "model_module_version": "1.2.0",
      "model_name": "LayoutModel",
      "state": {}
     },
     "5174c0168f064d7b8ef68b6901e279b9": {
      "model_module": "@jupyter-widgets/base",
      "model_module_version": "1.2.0",
      "model_name": "LayoutModel",
      "state": {}
     },
     "51a84fe1da584f03bf7bc754ddccd3d5": {
      "model_module": "@jupyter-widgets/base",
      "model_module_version": "1.2.0",
      "model_name": "LayoutModel",
      "state": {}
     },
     "53355cde5a14455e8ed789ce8ff2cb81": {
      "model_module": "@quantum/ibm-q-lab-widgets",
      "model_module_version": "^1.0.3",
      "model_name": "CircuitComposerModel",
      "state": {
       "_model_module_version": "^1.0.3",
       "_view_module_version": "^1.0.3",
       "circuit": "\"OPENQASM 2.0;\\ninclude \\\"qelib1.inc\\\";\\n\\nqreg q[2];\\ncreg c[2];\\n\\nh q[0];\\ncx q[0],q[1];\"",
       "editable": true,
       "layout": "IPY_MODEL_5fdf5d010a7945e49d715396147f5010",
       "qiskit_code_cell_index": -1
      }
     },
     "5399ca0435704cf79aa9682a91fc4be3": {
      "model_module": "@quantum/ibm-q-lab-widgets",
      "model_module_version": "^1.0.3",
      "model_name": "CircuitComposerModel",
      "state": {
       "_model_module_version": "^1.0.3",
       "_view_module_version": "^1.0.3",
       "circuit": "\"OPENQASM 2.0;\\ninclude \\\"qelib1.inc\\\";\\n\\nqreg q[2];\\ncreg c[2];\\n\\nh q[0];\"",
       "editable": true,
       "layout": "IPY_MODEL_010ff8d1868049b78e0237ce4558e28a",
       "qiskit_code_cell_index": -1
      }
     },
     "53e5877e6e6b4d9aafdbe7a2b26a20df": {
      "model_module": "@quantum/ibm-q-lab-widgets",
      "model_module_version": "^1.0.3",
      "model_name": "CircuitComposerModel",
      "state": {
       "_model_module_version": "^1.0.3",
       "_view_module_version": "^1.0.3",
       "circuit": "\"OPENQASM 2.0;\\ninclude \\\"qelib1.inc\\\";\\n\\nqreg q[2];\\ncreg c[2];\\n\\nh q[0];\\ncx q[0],q[1];\"",
       "editable": true,
       "layout": "IPY_MODEL_c127955b4f7e47a79104d4f22e107d0c",
       "qiskit_code_cell_index": -1
      }
     },
     "53f0bfc8d33c491283ad2ae73f42663a": {
      "model_module": "@quantum/ibm-q-lab-widgets",
      "model_module_version": "^1.0.3",
      "model_name": "CircuitComposerModel",
      "state": {
       "_model_module_version": "^1.0.3",
       "_view_module_version": "^1.0.3",
       "circuit": "\"OPENQASM 2.0;\\ninclude \\\"qelib1.inc\\\";\\n\\nqreg q[2];\\ncreg c[2];\\n\\nh q[0];\\nh q[0];\\nh q[1];\"",
       "editable": true,
       "layout": "IPY_MODEL_fc8a165e25f64229bdc4cc9851d64edf",
       "qiskit_code_cell_index": -1
      }
     },
     "541d27871ea2497da36e5342b219fb25": {
      "model_module": "@jupyter-widgets/base",
      "model_module_version": "1.2.0",
      "model_name": "LayoutModel",
      "state": {}
     },
     "558a2809745f4f4fbd6b7900d6bd9e01": {
      "model_module": "@jupyter-widgets/base",
      "model_module_version": "1.2.0",
      "model_name": "LayoutModel",
      "state": {}
     },
     "55d2eb13f1324978bc9098a22b531541": {
      "model_module": "@jupyter-widgets/base",
      "model_module_version": "1.2.0",
      "model_name": "LayoutModel",
      "state": {}
     },
     "55fde6f076574479b560a85a25a97156": {
      "model_module": "@jupyter-widgets/base",
      "model_module_version": "1.2.0",
      "model_name": "LayoutModel",
      "state": {}
     },
     "566f62344d5a475680f85b955b8cebb3": {
      "model_module": "@jupyter-widgets/base",
      "model_module_version": "1.2.0",
      "model_name": "LayoutModel",
      "state": {}
     },
     "56e9c9e763d44ff2b4908f0f07847f86": {
      "model_module": "@jupyter-widgets/base",
      "model_module_version": "1.2.0",
      "model_name": "LayoutModel",
      "state": {}
     },
     "57f68060721045089955da7fd76ecff0": {
      "model_module": "@jupyter-widgets/base",
      "model_module_version": "1.2.0",
      "model_name": "LayoutModel",
      "state": {}
     },
     "588ac109284446a68cd927bdc60e9db4": {
      "model_module": "@quantum/ibm-q-lab-widgets",
      "model_module_version": "^1.0.3",
      "model_name": "CircuitComposerModel",
      "state": {
       "_model_module_version": "^1.0.3",
       "_view_module_version": "^1.0.3",
       "circuit": "\"OPENQASM 2.0;\\ninclude \\\"qelib1.inc\\\";\\n\\nqreg q[2];\\ncreg c[2];\\n\\nh q[0];\\nh q[1];\\ncx q[0],q[1];\\nx q[1];\"",
       "editable": true,
       "layout": "IPY_MODEL_308cfc3b915b46f4b853e8c1563161e8",
       "qiskit_code_cell_index": -1
      }
     },
     "58c0e67c249b45e79f68f4254fac585d": {
      "model_module": "@jupyter-widgets/base",
      "model_module_version": "1.2.0",
      "model_name": "LayoutModel",
      "state": {}
     },
     "58e538fa75f048d9b3ab382ac2e4ecbe": {
      "model_module": "@jupyter-widgets/base",
      "model_module_version": "1.2.0",
      "model_name": "LayoutModel",
      "state": {}
     },
     "590a78bb1c474859b3d0daf49a28715f": {
      "model_module": "@jupyter-widgets/base",
      "model_module_version": "1.2.0",
      "model_name": "LayoutModel",
      "state": {}
     },
     "5972b5c277b94ae7b9fc2a6c28f16a61": {
      "model_module": "@jupyter-widgets/base",
      "model_module_version": "1.2.0",
      "model_name": "LayoutModel",
      "state": {}
     },
     "5af1f845a5e346db81f0d559ef4eb7b7": {
      "model_module": "@jupyter-widgets/base",
      "model_module_version": "1.2.0",
      "model_name": "LayoutModel",
      "state": {}
     },
     "5b34183506b84ecdbfeaf68487c176a6": {
      "model_module": "@jupyter-widgets/base",
      "model_module_version": "1.2.0",
      "model_name": "LayoutModel",
      "state": {}
     },
     "5b787ba0af6640a7af82c27161cd9760": {
      "model_module": "@jupyter-widgets/base",
      "model_module_version": "1.2.0",
      "model_name": "LayoutModel",
      "state": {}
     },
     "5bd58a1992544ed9b15f4f244f852069": {
      "model_module": "@jupyter-widgets/base",
      "model_module_version": "1.2.0",
      "model_name": "LayoutModel",
      "state": {}
     },
     "5c022713ef1f47939d4784b3b76deddf": {
      "model_module": "@quantum/ibm-q-lab-widgets",
      "model_module_version": "^1.0.3",
      "model_name": "CircuitComposerModel",
      "state": {
       "_model_module_version": "^1.0.3",
       "_view_module_version": "^1.0.3",
       "circuit": "\"OPENQASM 2.0;\\ninclude \\\"qelib1.inc\\\";\\n\\nqreg q[2];\\ncreg c[2];\\n\\nh q[0];\\nh q[0];\\nh q[1];\"",
       "editable": true,
       "layout": "IPY_MODEL_28c2664e58fa42dd944ce229fdf2bb66",
       "qiskit_code_cell_index": -1
      }
     },
     "5c6eeb962a374e9092721ec4b687085a": {
      "model_module": "@quantum/ibm-q-lab-widgets",
      "model_module_version": "^1.0.3",
      "model_name": "CircuitComposerModel",
      "state": {
       "_model_module_version": "^1.0.3",
       "_view_module_version": "^1.0.3",
       "circuit": "\"OPENQASM 2.0;\\ninclude \\\"qelib1.inc\\\";\\n\\nqreg q[2];\\ncreg c[2];\\n\\nh q[0];\\nh q[0];\\nh q[1];\"",
       "editable": true,
       "layout": "IPY_MODEL_3b0ec339d00444f9bb193409a036ec01",
       "qiskit_code_cell_index": -1
      }
     },
     "5d239b36f34349e49b97096c0020a1a5": {
      "model_module": "@quantum/ibm-q-lab-widgets",
      "model_module_version": "^1.0.3",
      "model_name": "CircuitComposerModel",
      "state": {
       "_model_module_version": "^1.0.3",
       "_view_module_version": "^1.0.3",
       "circuit": "\"OPENQASM 2.0;\\ninclude \\\"qelib1.inc\\\";\\n\\nqreg q[2];\\ncreg c[2];\\n\\nh q[0];\\nh q[1];\"",
       "editable": true,
       "layout": "IPY_MODEL_a7d6fb87955645e4b95633449fed37cb",
       "qiskit_code_cell_index": -1
      }
     },
     "5d24c87498ec40e9a5091b6714fbc98c": {
      "model_module": "@quantum/ibm-q-lab-widgets",
      "model_module_version": "^1.0.3",
      "model_name": "CircuitComposerModel",
      "state": {
       "_model_module_version": "^1.0.3",
       "_view_module_version": "^1.0.3",
       "circuit": "\"OPENQASM 2.0;\\ninclude \\\"qelib1.inc\\\";\\n\\nqreg q[2];\\ncreg c[2];\\n\\n\"",
       "editable": true,
       "layout": "IPY_MODEL_c7c322ab7afe48228a6e22879faa8f98",
       "qiskit_code_cell_index": -1
      }
     },
     "5d29e3d5770e4236862ba902feaec2f2": {
      "model_module": "@quantum/ibm-q-lab-widgets",
      "model_module_version": "^1.0.3",
      "model_name": "CircuitComposerModel",
      "state": {
       "_model_module_version": "^1.0.3",
       "_view_module_version": "^1.0.3",
       "circuit": "\"OPENQASM 2.0;\\ninclude \\\"qelib1.inc\\\";\\n\\nqreg q[2];\\ncreg c[2];\\n\\nh q[0];\\nx q[0];\\nh q[1];\"",
       "editable": true,
       "layout": "IPY_MODEL_c91b55671a02489f8535b4eeb1f48f1a",
       "qiskit_code_cell_index": -1
      }
     },
     "5d5a049839664a4d80f64ccb0dd337a6": {
      "model_module": "@quantum/ibm-q-lab-widgets",
      "model_module_version": "^1.0.3",
      "model_name": "CircuitComposerModel",
      "state": {
       "_model_module_version": "^1.0.3",
       "_view_module_version": "^1.0.3",
       "circuit": "\"OPENQASM 2.0;\\ninclude \\\"qelib1.inc\\\";\\n\\nqreg q[2];\\ncreg c[2];\\n\\n\"",
       "editable": true,
       "layout": "IPY_MODEL_69073b6c137c402ba76b8a660e61a654",
       "qiskit_code_cell_index": -1
      }
     },
     "5e93b1ecc55b4fc5a34549c00d8bc1c5": {
      "model_module": "@quantum/ibm-q-lab-widgets",
      "model_module_version": "^1.0.3",
      "model_name": "CircuitComposerModel",
      "state": {
       "_model_module_version": "^1.0.3",
       "_view_module_version": "^1.0.3",
       "circuit": "\"OPENQASM 2.0;\\ninclude \\\"qelib1.inc\\\";\\n\\nqreg q[2];\\ncreg c[2];\\n\\n\"",
       "editable": true,
       "layout": "IPY_MODEL_8a12c6ec5f3d4cfea1b161702e7047d6",
       "qiskit_code_cell_index": -1
      }
     },
     "5ebe671e2d0e40acb3fec864b68c4e1e": {
      "model_module": "@quantum/ibm-q-lab-widgets",
      "model_module_version": "^1.0.3",
      "model_name": "CircuitComposerModel",
      "state": {
       "_model_module_version": "^1.0.3",
       "_view_module_version": "^1.0.3",
       "circuit": "\"OPENQASM 2.0;\\ninclude \\\"qelib1.inc\\\";\\n\\nqreg q[2];\\ncreg c[2];\\n\\n\"",
       "editable": true,
       "layout": "IPY_MODEL_a6f0278f4e944d0893fbda29dee09290",
       "qiskit_code_cell_index": -1
      }
     },
     "5f5a9d2fa1cf4dd3b9c027452246381d": {
      "model_module": "@quantum/ibm-q-lab-widgets",
      "model_module_version": "^1.0.3",
      "model_name": "CircuitComposerModel",
      "state": {
       "_model_module_version": "^1.0.3",
       "_view_module_version": "^1.0.3",
       "circuit": "\"OPENQASM 2.0;\\ninclude \\\"qelib1.inc\\\";\\n\\nqreg q[2];\\ncreg c[2];\\n\\n\"",
       "editable": true,
       "layout": "IPY_MODEL_6914df9dd8764a48acbbc27b73cd726d",
       "qiskit_code_cell_index": -1
      }
     },
     "5f7c19b80dba49d89023c624f752920f": {
      "model_module": "@jupyter-widgets/base",
      "model_module_version": "1.2.0",
      "model_name": "LayoutModel",
      "state": {}
     },
     "5fdf5d010a7945e49d715396147f5010": {
      "model_module": "@jupyter-widgets/base",
      "model_module_version": "1.2.0",
      "model_name": "LayoutModel",
      "state": {}
     },
     "60c5bbab763f4af6b0fcaecaf717a7fa": {
      "model_module": "@quantum/ibm-q-lab-widgets",
      "model_module_version": "^1.0.3",
      "model_name": "CircuitComposerModel",
      "state": {
       "_model_module_version": "^1.0.3",
       "_view_module_version": "^1.0.3",
       "circuit": "\"OPENQASM 2.0;\\ninclude \\\"qelib1.inc\\\";\\n\\nqreg q[2];\\ncreg c[2];\\n\\nh q[0];\\nx q[0];\\nh q[1];\\ncx q[0],q[1];\"",
       "editable": true,
       "layout": "IPY_MODEL_a8f1e439e7154b84b2e81dd14d45d877",
       "qiskit_code_cell_index": -1
      }
     },
     "62b6fce10013409786105c2a1555bf14": {
      "model_module": "@quantum/ibm-q-lab-widgets",
      "model_module_version": "^1.0.3",
      "model_name": "CircuitComposerModel",
      "state": {
       "_model_module_version": "^1.0.3",
       "_view_module_version": "^1.0.3",
       "circuit": "\"OPENQASM 2.0;\\ninclude \\\"qelib1.inc\\\";\\n\\nqreg q[2];\\ncreg c[2];\\n\\nh q[0];\\nx q[0];\\nh q[1];\"",
       "editable": true,
       "layout": "IPY_MODEL_036b5b12209c4c3f93075b43a1dd86e4",
       "qiskit_code_cell_index": -1
      }
     },
     "63dc8a503af54d11b7d5c3e1db382569": {
      "model_module": "@quantum/ibm-q-lab-widgets",
      "model_module_version": "^1.0.3",
      "model_name": "CircuitComposerModel",
      "state": {
       "_model_module_version": "^1.0.3",
       "_view_module_version": "^1.0.3",
       "circuit": "\"OPENQASM 2.0;\\ninclude \\\"qelib1.inc\\\";\\n\\nqreg q[2];\\ncreg c[2];\\n\\nh q[0];\\nh q[1];\"",
       "editable": true,
       "layout": "IPY_MODEL_55fde6f076574479b560a85a25a97156",
       "qiskit_code_cell_index": -1
      }
     },
     "63f5388b00a549d5a11d8e97b222d6a6": {
      "model_module": "@quantum/ibm-q-lab-widgets",
      "model_module_version": "^1.0.3",
      "model_name": "CircuitComposerModel",
      "state": {
       "_model_module_version": "^1.0.3",
       "_view_module_version": "^1.0.3",
       "circuit": "\"OPENQASM 2.0;\\ninclude \\\"qelib1.inc\\\";\\n\\nqreg q[2];\\ncreg c[2];\\n\\nh q[0];\\ncx q[0],q[1];\"",
       "editable": true,
       "layout": "IPY_MODEL_df3ba8cfd5de4f9298b476547786c297",
       "qiskit_code_cell_index": -1
      }
     },
     "64679f1c836445909f7e374ad25b337b": {
      "model_module": "@jupyter-widgets/base",
      "model_module_version": "1.2.0",
      "model_name": "LayoutModel",
      "state": {}
     },
     "6491ed75431c46959997cda7b68178e0": {
      "model_module": "@quantum/ibm-q-lab-widgets",
      "model_module_version": "^1.0.3",
      "model_name": "CircuitComposerModel",
      "state": {
       "_model_module_version": "^1.0.3",
       "_view_module_version": "^1.0.3",
       "circuit": "\"OPENQASM 2.0;\\ninclude \\\"qelib1.inc\\\";\\n\\nqreg q[2];\\ncreg c[2];\\n\\nh q[0];\\ncx q[0],q[1];\"",
       "editable": true,
       "layout": "IPY_MODEL_be8b971370ac444bbab0362e6a452241",
       "qiskit_code_cell_index": -1
      }
     },
     "64aed5bfec754a03878331a34a6a6042": {
      "model_module": "@jupyter-widgets/base",
      "model_module_version": "1.2.0",
      "model_name": "LayoutModel",
      "state": {}
     },
     "64e8bc18eb6540b59b069ba23255b9ce": {
      "model_module": "@quantum/ibm-q-lab-widgets",
      "model_module_version": "^1.0.3",
      "model_name": "CircuitComposerModel",
      "state": {
       "_model_module_version": "^1.0.3",
       "_view_module_version": "^1.0.3",
       "circuit": "\"OPENQASM 2.0;\\ninclude \\\"qelib1.inc\\\";\\n\\nqreg q[2];\\ncreg c[2];\\n\\nh q[0];\\nh q[1];\\nx q[0];\\ncx q[0],q[1];\"",
       "editable": true,
       "layout": "IPY_MODEL_69aebdbc3aa5473c991fadc722300768",
       "qiskit_code_cell_index": -1
      }
     },
     "658204f987ba445186694e999e988064": {
      "model_module": "@quantum/ibm-q-lab-widgets",
      "model_module_version": "^1.0.3",
      "model_name": "CircuitComposerModel",
      "state": {
       "_model_module_version": "^1.0.3",
       "_view_module_version": "^1.0.3",
       "circuit": "\"OPENQASM 2.0;\\ninclude \\\"qelib1.inc\\\";\\n\\nqreg q[2];\\ncreg c[2];\\n\\nh q[0];\\ncx q[0],q[1];\"",
       "editable": true,
       "layout": "IPY_MODEL_276a7d0231364e83b8e324453d720a74",
       "qiskit_code_cell_index": -1
      }
     },
     "659b3ea95c474391b9e2eaf1792269b5": {
      "model_module": "@quantum/ibm-q-lab-widgets",
      "model_module_version": "^1.0.3",
      "model_name": "CircuitComposerModel",
      "state": {
       "_model_module_version": "^1.0.3",
       "_view_module_version": "^1.0.3",
       "circuit": "\"OPENQASM 2.0;\\ninclude \\\"qelib1.inc\\\";\\n\\nqreg q[2];\\ncreg c[2];\\n\\nh q[0];\\nh q[0];\\nh q[1];\\nx q[1];\"",
       "editable": true,
       "layout": "IPY_MODEL_20aafb6307024f30989ee85cf9bbd6c0",
       "qiskit_code_cell_index": -1
      }
     },
     "65db8e41d42a4a7d92eab7dee1148f62": {
      "model_module": "@quantum/ibm-q-lab-widgets",
      "model_module_version": "^1.0.3",
      "model_name": "CircuitComposerModel",
      "state": {
       "_model_module_version": "^1.0.3",
       "_view_module_version": "^1.0.3",
       "circuit": "\"OPENQASM 2.0;\\ninclude \\\"qelib1.inc\\\";\\n\\nqreg q[2];\\ncreg c[2];\\n\\n\"",
       "editable": true,
       "layout": "IPY_MODEL_6cb3f9d8ad2644f0a278a81520a4c28f",
       "qiskit_code_cell_index": -1
      }
     },
     "674ee41a67544421a93f9702b5cb70c0": {
      "model_module": "@jupyter-widgets/base",
      "model_module_version": "1.2.0",
      "model_name": "LayoutModel",
      "state": {}
     },
     "6803bcb4da3c4e4ea192a980af45c811": {
      "model_module": "@quantum/ibm-q-lab-widgets",
      "model_module_version": "^1.0.3",
      "model_name": "CircuitComposerModel",
      "state": {
       "_model_module_version": "^1.0.3",
       "_view_module_version": "^1.0.3",
       "circuit": "\"OPENQASM 2.0;\\ninclude \\\"qelib1.inc\\\";\\n\\nqreg q[2];\\ncreg c[2];\\n\\n\"",
       "editable": true,
       "layout": "IPY_MODEL_75719e74d9644808965d5bea6a4590d6",
       "qiskit_code_cell_index": -1
      }
     },
     "682933fc12be4da2b40e7b9a3a95b8b2": {
      "model_module": "@jupyter-widgets/base",
      "model_module_version": "1.2.0",
      "model_name": "LayoutModel",
      "state": {}
     },
     "68b2fd762cb5440bb7981063d4fbade6": {
      "model_module": "@jupyter-widgets/base",
      "model_module_version": "1.2.0",
      "model_name": "LayoutModel",
      "state": {}
     },
     "68d90f1bda274180a97429beabbe1ac7": {
      "model_module": "@quantum/ibm-q-lab-widgets",
      "model_module_version": "^1.0.3",
      "model_name": "CircuitComposerModel",
      "state": {
       "_model_module_version": "^1.0.3",
       "_view_module_version": "^1.0.3",
       "circuit": "\"OPENQASM 2.0;\\ninclude \\\"qelib1.inc\\\";\\n\\nqreg q[2];\\ncreg c[2];\\n\\n\"",
       "editable": true,
       "layout": "IPY_MODEL_4f8f44dcbb1242378b9b3a59d802e7c2",
       "qiskit_code_cell_index": -1
      }
     },
     "69073b6c137c402ba76b8a660e61a654": {
      "model_module": "@jupyter-widgets/base",
      "model_module_version": "1.2.0",
      "model_name": "LayoutModel",
      "state": {}
     },
     "6914df9dd8764a48acbbc27b73cd726d": {
      "model_module": "@jupyter-widgets/base",
      "model_module_version": "1.2.0",
      "model_name": "LayoutModel",
      "state": {}
     },
     "69aebdbc3aa5473c991fadc722300768": {
      "model_module": "@jupyter-widgets/base",
      "model_module_version": "1.2.0",
      "model_name": "LayoutModel",
      "state": {}
     },
     "69b5ddab03b5479aaa45bd6c17a794f2": {
      "model_module": "@quantum/ibm-q-lab-widgets",
      "model_module_version": "^1.0.3",
      "model_name": "CircuitComposerModel",
      "state": {
       "_model_module_version": "^1.0.3",
       "_view_module_version": "^1.0.3",
       "circuit": "\"OPENQASM 2.0;\\ninclude \\\"qelib1.inc\\\";\\n\\nqreg q[2];\\ncreg c[2];\\n\\nh q[0];\\ncx q[0],q[1];\"",
       "editable": true,
       "layout": "IPY_MODEL_9848508fcc9c42d2a945e714b174e0ea",
       "qiskit_code_cell_index": -1
      }
     },
     "69fbf856d5d942828fcc4336e5809b4e": {
      "model_module": "@quantum/ibm-q-lab-widgets",
      "model_module_version": "^1.0.3",
      "model_name": "CircuitComposerModel",
      "state": {
       "_model_module_version": "^1.0.3",
       "_view_module_version": "^1.0.3",
       "circuit": "\"OPENQASM 2.0;\\ninclude \\\"qelib1.inc\\\";\\n\\nqreg q[2];\\ncreg c[2];\\n\\nh q[0];\\nh q[0];\\nh q[1];\"",
       "editable": true,
       "layout": "IPY_MODEL_4121ae3736f5416f8e6d720e92ee9362",
       "qiskit_code_cell_index": -1
      }
     },
     "6a4e22b3bc3d4d668f230e53ca5aa4dc": {
      "model_module": "@quantum/ibm-q-lab-widgets",
      "model_module_version": "^1.0.3",
      "model_name": "CircuitComposerModel",
      "state": {
       "_model_module_version": "^1.0.3",
       "_view_module_version": "^1.0.3",
       "circuit": "\"OPENQASM 2.0;\\ninclude \\\"qelib1.inc\\\";\\n\\nqreg q[2];\\ncreg c[2];\\n\\nh q[0];\\ncx q[0],q[1];\"",
       "editable": true,
       "layout": "IPY_MODEL_e7c6158dcf4740deaaf84819557a8a64",
       "qiskit_code_cell_index": -1
      }
     },
     "6a941725a0a1452fbc2ff982d3f51ef8": {
      "model_module": "@jupyter-widgets/base",
      "model_module_version": "1.2.0",
      "model_name": "LayoutModel",
      "state": {}
     },
     "6aff46b9824f4a85bb13c96cb699260c": {
      "model_module": "@jupyter-widgets/base",
      "model_module_version": "1.2.0",
      "model_name": "LayoutModel",
      "state": {}
     },
     "6ba5073890fd4fe9b085837c6d68bbb4": {
      "model_module": "@quantum/ibm-q-lab-widgets",
      "model_module_version": "^1.0.3",
      "model_name": "CircuitComposerModel",
      "state": {
       "_model_module_version": "^1.0.3",
       "_view_module_version": "^1.0.3",
       "circuit": "\"OPENQASM 2.0;\\ninclude \\\"qelib1.inc\\\";\\n\\nqreg q[4];\\ncreg c[4];\\n\\nh q[0];\\nh q[1];\\nh q[2];\\nccx q[0],q[1],q[2];\"",
       "editable": true,
       "layout": "IPY_MODEL_ff5fd2153db846e6a16bf031d55c8471",
       "qiskit_code_cell_index": -1
      }
     },
     "6c8da754143642e79ddc9a6600c20ed1": {
      "model_module": "@jupyter-widgets/base",
      "model_module_version": "1.2.0",
      "model_name": "LayoutModel",
      "state": {}
     },
     "6cb3f9d8ad2644f0a278a81520a4c28f": {
      "model_module": "@jupyter-widgets/base",
      "model_module_version": "1.2.0",
      "model_name": "LayoutModel",
      "state": {}
     },
     "6d7713890d17448592a913b6115af985": {
      "model_module": "@quantum/ibm-q-lab-widgets",
      "model_module_version": "^1.0.3",
      "model_name": "CircuitComposerModel",
      "state": {
       "_model_module_version": "^1.0.3",
       "_view_module_version": "^1.0.3",
       "circuit": "\"OPENQASM 2.0;\\ninclude \\\"qelib1.inc\\\";\\n\\nqreg q[2];\\ncreg c[2];\\n\\nh q[0];\\ncx q[0],q[1];\"",
       "editable": true,
       "layout": "IPY_MODEL_64679f1c836445909f7e374ad25b337b",
       "qiskit_code_cell_index": -1
      }
     },
     "6d80d4cda2144562b1686ea84cfc56f9": {
      "model_module": "@quantum/ibm-q-lab-widgets",
      "model_module_version": "^1.0.3",
      "model_name": "CircuitComposerModel",
      "state": {
       "_model_module_version": "^1.0.3",
       "_view_module_version": "^1.0.3",
       "circuit": "\"OPENQASM 2.0;\\ninclude \\\"qelib1.inc\\\";\\n\\nqreg q[2];\\ncreg c[2];\\n\\nh q[0];\\nh q[1];\\ncx q[0],q[1];\\nh q[0];\\nx q[0];\\nh q[0];\\nh q[0];\"",
       "editable": true,
       "layout": "IPY_MODEL_b147557e66da458384381b89176d87d0",
       "qiskit_code_cell_index": -1
      }
     },
     "6ded30d2aa7844db9c2d75b089fa6851": {
      "model_module": "@quantum/ibm-q-lab-widgets",
      "model_module_version": "^1.0.3",
      "model_name": "CircuitComposerModel",
      "state": {
       "_model_module_version": "^1.0.3",
       "_view_module_version": "^1.0.3",
       "circuit": "\"OPENQASM 2.0;\\ninclude \\\"qelib1.inc\\\";\\n\\nqreg q[2];\\ncreg c[2];\\n\\nh q[0];\\ncx q[0],q[1];\"",
       "editable": true,
       "layout": "IPY_MODEL_191de5c9a06945989192408e6d4c58d1",
       "qiskit_code_cell_index": -1
      }
     },
     "6ecd9ec2fd614a9d8b30c254cbba0a98": {
      "model_module": "@jupyter-widgets/base",
      "model_module_version": "1.2.0",
      "model_name": "LayoutModel",
      "state": {}
     },
     "6ede69933cc94b12bb9938140fe39027": {
      "model_module": "@jupyter-widgets/base",
      "model_module_version": "1.2.0",
      "model_name": "LayoutModel",
      "state": {}
     },
     "6effc924fd9e434ca0e5bc5226d77b93": {
      "model_module": "@jupyter-widgets/base",
      "model_module_version": "1.2.0",
      "model_name": "LayoutModel",
      "state": {}
     },
     "6f9348e5a2704d81b4ae6808c5b2d8a0": {
      "model_module": "@quantum/ibm-q-lab-widgets",
      "model_module_version": "^1.0.3",
      "model_name": "CircuitComposerModel",
      "state": {
       "_model_module_version": "^1.0.3",
       "_view_module_version": "^1.0.3",
       "circuit": "\"OPENQASM 2.0;\\ninclude \\\"qelib1.inc\\\";\\n\\nqreg q[2];\\ncreg c[2];\\n\\nh q[0];\"",
       "editable": true,
       "layout": "IPY_MODEL_2c63ebd0c40942c08a2e81ac1617353e",
       "qiskit_code_cell_index": -1
      }
     },
     "701889f105784f209d2a086072c22946": {
      "model_module": "@quantum/ibm-q-lab-widgets",
      "model_module_version": "^1.0.3",
      "model_name": "CircuitComposerModel",
      "state": {
       "_model_module_version": "^1.0.3",
       "_view_module_version": "^1.0.3",
       "circuit": "\"OPENQASM 2.0;\\ninclude \\\"qelib1.inc\\\";\\n\\nqreg q[2];\\ncreg c[2];\\n\\n\"",
       "editable": true,
       "layout": "IPY_MODEL_bf2c83a199834af8870e5e3f64aee841",
       "qiskit_code_cell_index": -1
      }
     },
     "71b84c5977074f2984fb1fdb00280f46": {
      "model_module": "@quantum/ibm-q-lab-widgets",
      "model_module_version": "^1.0.3",
      "model_name": "CircuitComposerModel",
      "state": {
       "_model_module_version": "^1.0.3",
       "_view_module_version": "^1.0.3",
       "circuit": "\"OPENQASM 2.0;\\ninclude \\\"qelib1.inc\\\";\\n\\nqreg q[2];\\ncreg c[2];\\n\\n\"",
       "editable": true,
       "layout": "IPY_MODEL_4f6b7bc4c7984ab1bc48e6f89fb4216d",
       "qiskit_code_cell_index": -1
      }
     },
     "721b60580ef8499b8365d8756ef54ac3": {
      "model_module": "@jupyter-widgets/base",
      "model_module_version": "1.2.0",
      "model_name": "LayoutModel",
      "state": {}
     },
     "73856d8803374d2190529b794e20aa2c": {
      "model_module": "@jupyter-widgets/base",
      "model_module_version": "1.2.0",
      "model_name": "LayoutModel",
      "state": {}
     },
     "746e8f0664bb4ca58b44985a9a5242d4": {
      "model_module": "@jupyter-widgets/base",
      "model_module_version": "1.2.0",
      "model_name": "LayoutModel",
      "state": {}
     },
     "74c7ebd6554845babadf6f43d484a93d": {
      "model_module": "@quantum/ibm-q-lab-widgets",
      "model_module_version": "^1.0.3",
      "model_name": "CircuitComposerModel",
      "state": {
       "_model_module_version": "^1.0.3",
       "_view_module_version": "^1.0.3",
       "circuit": "\"OPENQASM 2.0;\\ninclude \\\"qelib1.inc\\\";\\n\\nqreg q[2];\\ncreg c[2];\\n\\n\"",
       "editable": true,
       "layout": "IPY_MODEL_34da5cb79d814a0b9f484dcf54372914",
       "qiskit_code_cell_index": -1
      }
     },
     "74ff9ed492e74edd9598dada66faedd5": {
      "model_module": "@jupyter-widgets/base",
      "model_module_version": "1.2.0",
      "model_name": "LayoutModel",
      "state": {}
     },
     "7539499344f34fd0818383bf8e8e5a4a": {
      "model_module": "@jupyter-widgets/base",
      "model_module_version": "1.2.0",
      "model_name": "LayoutModel",
      "state": {}
     },
     "75719e74d9644808965d5bea6a4590d6": {
      "model_module": "@jupyter-widgets/base",
      "model_module_version": "1.2.0",
      "model_name": "LayoutModel",
      "state": {}
     },
     "758117804bac4287b916f297b7cdb957": {
      "model_module": "@quantum/ibm-q-lab-widgets",
      "model_module_version": "^1.0.3",
      "model_name": "CircuitComposerModel",
      "state": {
       "_model_module_version": "^1.0.3",
       "_view_module_version": "^1.0.3",
       "circuit": "\"OPENQASM 2.0;\\ninclude \\\"qelib1.inc\\\";\\n\\nqreg q[2];\\ncreg c[2];\\n\\nh q[0];\\nx q[0];\\nh q[1];\"",
       "editable": true,
       "layout": "IPY_MODEL_51a84fe1da584f03bf7bc754ddccd3d5",
       "qiskit_code_cell_index": -1
      }
     },
     "75ded80cd11a4bbb91d21ccb8ec03b41": {
      "model_module": "@quantum/ibm-q-lab-widgets",
      "model_module_version": "^1.0.3",
      "model_name": "CircuitComposerModel",
      "state": {
       "_model_module_version": "^1.0.3",
       "_view_module_version": "^1.0.3",
       "circuit": "\"OPENQASM 2.0;\\ninclude \\\"qelib1.inc\\\";\\n\\nqreg q[2];\\ncreg c[2];\\n\\n\"",
       "editable": true,
       "layout": "IPY_MODEL_25bb6880adca41cd8023bd1e543bfb67",
       "qiskit_code_cell_index": -1
      }
     },
     "760fffd7878747679df068aa7192c0bb": {
      "model_module": "@quantum/ibm-q-lab-widgets",
      "model_module_version": "^1.0.3",
      "model_name": "CircuitComposerModel",
      "state": {
       "_model_module_version": "^1.0.3",
       "_view_module_version": "^1.0.3",
       "circuit": "\"OPENQASM 2.0;\\ninclude \\\"qelib1.inc\\\";\\n\\nqreg q[2];\\ncreg c[2];\\n\\nh q[0];\\nh q[1];\\ncx q[0],q[1];\\ns q[0];\\nt q[0];\\ncx q[0],q[1];\\nh q[0];\\ns q[1];\"",
       "editable": true,
       "layout": "IPY_MODEL_ed45cbee01e14bf7bf718fe27198cf5d",
       "qiskit_code_cell_index": -1
      }
     },
     "76a63b262c4d4cb7ab6280219251a644": {
      "model_module": "@quantum/ibm-q-lab-widgets",
      "model_module_version": "^1.0.3",
      "model_name": "CircuitComposerModel",
      "state": {
       "_model_module_version": "^1.0.3",
       "_view_module_version": "^1.0.3",
       "circuit": "\"OPENQASM 2.0;\\ninclude \\\"qelib1.inc\\\";\\n\\nqreg q[2];\\ncreg c[2];\\n\\nh q[0];\\ncx q[0],q[1];\"",
       "editable": true,
       "layout": "IPY_MODEL_4018fb5e84d04325a00a15a3f02bfe36",
       "qiskit_code_cell_index": -1
      }
     },
     "77836e16be08402ab73533bf78a69f3b": {
      "model_module": "@quantum/ibm-q-lab-widgets",
      "model_module_version": "^1.0.3",
      "model_name": "CircuitComposerModel",
      "state": {
       "_model_module_version": "^1.0.3",
       "_view_module_version": "^1.0.3",
       "circuit": "\"OPENQASM 2.0;\\ninclude \\\"qelib1.inc\\\";\\n\\nqreg q[2];\\ncreg c[2];\\n\\nh q[0];\\ncx q[0],q[1];\"",
       "editable": true,
       "layout": "IPY_MODEL_ca765d5aff874f9c8593632fd8ea006f",
       "qiskit_code_cell_index": -1
      }
     },
     "778db41eaa0742f9af51a6580b1ba8aa": {
      "model_module": "@quantum/ibm-q-lab-widgets",
      "model_module_version": "^1.0.3",
      "model_name": "CircuitComposerModel",
      "state": {
       "_model_module_version": "^1.0.3",
       "_view_module_version": "^1.0.3",
       "circuit": "\"OPENQASM 2.0;\\ninclude \\\"qelib1.inc\\\";\\n\\nqreg q[2];\\ncreg c[2];\\n\\n\"",
       "editable": true,
       "layout": "IPY_MODEL_5f7c19b80dba49d89023c624f752920f",
       "qiskit_code_cell_index": -1
      }
     },
     "77f5198a3f2340a88d41859895709ce1": {
      "model_module": "@quantum/ibm-q-lab-widgets",
      "model_module_version": "^1.0.3",
      "model_name": "CircuitComposerModel",
      "state": {
       "_model_module_version": "^1.0.3",
       "_view_module_version": "^1.0.3",
       "circuit": "\"OPENQASM 2.0;\\ninclude \\\"qelib1.inc\\\";\\n\\nqreg q[2];\\ncreg c[2];\\n\\n\"",
       "editable": true,
       "layout": "IPY_MODEL_2dd98132b0674491addafea85015fded",
       "qiskit_code_cell_index": -1
      }
     },
     "7887fa667e264caabe4ce36995c35170": {
      "model_module": "@jupyter-widgets/base",
      "model_module_version": "1.2.0",
      "model_name": "LayoutModel",
      "state": {}
     },
     "79b1830a01904e93b6fcbb80ff670674": {
      "model_module": "@jupyter-widgets/base",
      "model_module_version": "1.2.0",
      "model_name": "LayoutModel",
      "state": {}
     },
     "79c3dd0c4ed045dfa52eea6cd0cc073e": {
      "model_module": "@quantum/ibm-q-lab-widgets",
      "model_module_version": "^1.0.3",
      "model_name": "CircuitComposerModel",
      "state": {
       "_model_module_version": "^1.0.3",
       "_view_module_version": "^1.0.3",
       "circuit": "\"OPENQASM 2.0;\\ninclude \\\"qelib1.inc\\\";\\n\\nqreg q[2];\\ncreg c[2];\\n\\n\"",
       "editable": true,
       "layout": "IPY_MODEL_912a069fa8c04ab680dd4d819f47c023",
       "qiskit_code_cell_index": -1
      }
     },
     "7aad586fe8ee4f8b86d203763a9d27da": {
      "model_module": "@jupyter-widgets/base",
      "model_module_version": "1.2.0",
      "model_name": "LayoutModel",
      "state": {}
     },
     "7afcb3c3f9cb4fcd8befbd73d4b75e71": {
      "model_module": "@quantum/ibm-q-lab-widgets",
      "model_module_version": "^1.0.3",
      "model_name": "CircuitComposerModel",
      "state": {
       "_model_module_version": "^1.0.3",
       "_view_module_version": "^1.0.3",
       "circuit": "\"OPENQASM 2.0;\\ninclude \\\"qelib1.inc\\\";\\n\\nqreg q[2];\\ncreg c[2];\\n\\nh q[0];\\nh q[1];\"",
       "editable": true,
       "layout": "IPY_MODEL_e6c7f5919e014e4faec12aa344350574",
       "qiskit_code_cell_index": -1
      }
     },
     "7b02dae7d0634bc89f2016bf389f2fec": {
      "model_module": "@quantum/ibm-q-lab-widgets",
      "model_module_version": "^1.0.3",
      "model_name": "CircuitComposerModel",
      "state": {
       "_model_module_version": "^1.0.3",
       "_view_module_version": "^1.0.3",
       "circuit": "\"OPENQASM 2.0;\\ninclude \\\"qelib1.inc\\\";\\n\\nqreg q[2];\\ncreg c[2];\\n\\n\"",
       "editable": true,
       "layout": "IPY_MODEL_f3a1ffc52b8f496fb01162f394164290",
       "qiskit_code_cell_index": -1
      }
     },
     "7b30a3b5c1cf4cb3938d5ce54ed9451c": {
      "model_module": "@quantum/ibm-q-lab-widgets",
      "model_module_version": "^1.0.3",
      "model_name": "CircuitComposerModel",
      "state": {
       "_model_module_version": "^1.0.3",
       "_view_module_version": "^1.0.3",
       "circuit": "\"OPENQASM 2.0;\\ninclude \\\"qelib1.inc\\\";\\n\\nqreg q[3];\\ncreg c[3];\\n\\nccx q[0],q[1],q[2];\"",
       "editable": true,
       "layout": "IPY_MODEL_b295c97c766c4f9e830c2a7a20a7e17d",
       "qiskit_code_cell_index": -1
      }
     },
     "7b6e1cf9c39d4e6b8942d3378233315b": {
      "model_module": "@quantum/ibm-q-lab-widgets",
      "model_module_version": "^1.0.3",
      "model_name": "CircuitComposerModel",
      "state": {
       "_model_module_version": "^1.0.3",
       "_view_module_version": "^1.0.3",
       "circuit": "\"OPENQASM 2.0;\\ninclude \\\"qelib1.inc\\\";\\n\\nqreg q[2];\\ncreg c[2];\\n\\nh q[0];\\nh q[1];\\ncx q[0],q[1];\"",
       "editable": true,
       "layout": "IPY_MODEL_ff1eaa5770fd47b0860b13659f051cf6",
       "qiskit_code_cell_index": -1
      }
     },
     "7be58f346e8148a1b476b96003e77930": {
      "model_module": "@jupyter-widgets/base",
      "model_module_version": "1.2.0",
      "model_name": "LayoutModel",
      "state": {}
     },
     "7bedc00802484dbeb6aba91d32d0c162": {
      "model_module": "@jupyter-widgets/base",
      "model_module_version": "1.2.0",
      "model_name": "LayoutModel",
      "state": {}
     },
     "7c7cb44cf72248b48b41d1fe9816e199": {
      "model_module": "@quantum/ibm-q-lab-widgets",
      "model_module_version": "^1.0.3",
      "model_name": "CircuitComposerModel",
      "state": {
       "_model_module_version": "^1.0.3",
       "_view_module_version": "^1.0.3",
       "circuit": "\"OPENQASM 2.0;\\ninclude \\\"qelib1.inc\\\";\\n\\nqreg q[2];\\ncreg c[2];\\n\\n\"",
       "editable": true,
       "layout": "IPY_MODEL_122cdaf8245c4a93a248c801fbab418f",
       "qiskit_code_cell_index": -1
      }
     },
     "7cb29458a7464830925ea98a2fcad983": {
      "model_module": "@quantum/ibm-q-lab-widgets",
      "model_module_version": "^1.0.3",
      "model_name": "CircuitComposerModel",
      "state": {
       "_model_module_version": "^1.0.3",
       "_view_module_version": "^1.0.3",
       "circuit": "\"OPENQASM 2.0;\\ninclude \\\"qelib1.inc\\\";\\n\\nqreg q[2];\\ncreg c[2];\\n\\nh q[0];\\ncx q[0],q[1];\"",
       "editable": true,
       "layout": "IPY_MODEL_3aab181cfa8b4fc0b514ee2f4b8b269e",
       "qiskit_code_cell_index": -1
      }
     },
     "7d40c0ab76e642d38b458411d32fe4be": {
      "model_module": "@quantum/ibm-q-lab-widgets",
      "model_module_version": "^1.0.3",
      "model_name": "CircuitComposerModel",
      "state": {
       "_model_module_version": "^1.0.3",
       "_view_module_version": "^1.0.3",
       "circuit": "\"OPENQASM 2.0;\\ninclude \\\"qelib1.inc\\\";\\n\\nqreg q[2];\\ncreg c[2];\\n\\nh q[0];\\nh q[1];\\ncx q[0],q[1];\\nh q[0];\"",
       "editable": true,
       "layout": "IPY_MODEL_a40de1dd92c848d2b1c998ee096647e2",
       "qiskit_code_cell_index": -1
      }
     },
     "7d416b33c2fd4e7f9a670e3b73487c6f": {
      "model_module": "@jupyter-widgets/base",
      "model_module_version": "1.2.0",
      "model_name": "LayoutModel",
      "state": {}
     },
     "7db756e013524530b6b89276f67de4d9": {
      "model_module": "@jupyter-widgets/base",
      "model_module_version": "1.2.0",
      "model_name": "LayoutModel",
      "state": {}
     },
     "7e0cff9114cc48959d01788870ad9840": {
      "model_module": "@jupyter-widgets/base",
      "model_module_version": "1.2.0",
      "model_name": "LayoutModel",
      "state": {}
     },
     "7e3992f9543a4c4ea64c65767e1c87eb": {
      "model_module": "@jupyter-widgets/base",
      "model_module_version": "1.2.0",
      "model_name": "LayoutModel",
      "state": {}
     },
     "80ae56cc08c243e98b9f3388d1b24185": {
      "model_module": "@quantum/ibm-q-lab-widgets",
      "model_module_version": "^1.0.3",
      "model_name": "CircuitComposerModel",
      "state": {
       "_model_module_version": "^1.0.3",
       "_view_module_version": "^1.0.3",
       "circuit": "\"OPENQASM 2.0;\\ninclude \\\"qelib1.inc\\\";\\n\\nqreg q[2];\\ncreg c[2];\\n\\nx q[0];\"",
       "editable": true,
       "layout": "IPY_MODEL_4e80dd7b8a8b4c239ae037c4952d731d",
       "qiskit_code_cell_index": -1
      }
     },
     "81c8f13076c84a3f84b0a1aeb996207b": {
      "model_module": "@jupyter-widgets/base",
      "model_module_version": "1.2.0",
      "model_name": "LayoutModel",
      "state": {}
     },
     "82536a741ef646a0bef1813c3b516480": {
      "model_module": "@jupyter-widgets/base",
      "model_module_version": "1.2.0",
      "model_name": "LayoutModel",
      "state": {}
     },
     "835cc36a98a84854bf826b73b25debcf": {
      "model_module": "@quantum/ibm-q-lab-widgets",
      "model_module_version": "^1.0.3",
      "model_name": "CircuitComposerModel",
      "state": {
       "_model_module_version": "^1.0.3",
       "_view_module_version": "^1.0.3",
       "circuit": "\"OPENQASM 2.0;\\ninclude \\\"qelib1.inc\\\";\\n\\nqreg q[2];\\ncreg c[2];\\n\\n\"",
       "editable": true,
       "layout": "IPY_MODEL_d06f6256ecc04f1688654b70110e990c",
       "qiskit_code_cell_index": -1
      }
     },
     "83bf7f95287843b58fa4b078e153f69d": {
      "model_module": "@quantum/ibm-q-lab-widgets",
      "model_module_version": "^1.0.3",
      "model_name": "CircuitComposerModel",
      "state": {
       "_model_module_version": "^1.0.3",
       "_view_module_version": "^1.0.3",
       "circuit": "\"OPENQASM 2.0;\\ninclude \\\"qelib1.inc\\\";\\n\\nqreg q[2];\\ncreg c[2];\\n\\n\"",
       "editable": true,
       "layout": "IPY_MODEL_fa133e0890bc43b49a1283c94a01f0b1",
       "qiskit_code_cell_index": -1
      }
     },
     "83f2d9e5ee7a4063888952841fc6a3ce": {
      "model_module": "@quantum/ibm-q-lab-widgets",
      "model_module_version": "^1.0.3",
      "model_name": "CircuitComposerModel",
      "state": {
       "_model_module_version": "^1.0.3",
       "_view_module_version": "^1.0.3",
       "circuit": "\"OPENQASM 2.0;\\ninclude \\\"qelib1.inc\\\";\\n\\nqreg q[2];\\ncreg c[2];\\n\\nh q[0];\\ncx q[0],q[1];\"",
       "editable": true,
       "layout": "IPY_MODEL_a37f027e9d47499e9d80488de19abed5",
       "qiskit_code_cell_index": -1
      }
     },
     "8412175014ee40d48bbe20987f7466a1": {
      "model_module": "@quantum/ibm-q-lab-widgets",
      "model_module_version": "^1.0.3",
      "model_name": "CircuitComposerModel",
      "state": {
       "_model_module_version": "^1.0.3",
       "_view_module_version": "^1.0.3",
       "circuit": "\"OPENQASM 2.0;\\ninclude \\\"qelib1.inc\\\";\\n\\nqreg q[2];\\ncreg c[2];\\n\\nh q[0];\\nx q[0];\\nh q[1];\"",
       "editable": true,
       "layout": "IPY_MODEL_15d688c5271a4af6937f7ba3be0af9b5",
       "qiskit_code_cell_index": -1
      }
     },
     "841537968ad94d20a270e0c334f80a37": {
      "model_module": "@quantum/ibm-q-lab-widgets",
      "model_module_version": "^1.0.3",
      "model_name": "CircuitComposerModel",
      "state": {
       "_model_module_version": "^1.0.3",
       "_view_module_version": "^1.0.3",
       "circuit": "\"OPENQASM 2.0;\\ninclude \\\"qelib1.inc\\\";\\n\\nqreg q[2];\\ncreg c[2];\\n\\n\"",
       "editable": true,
       "layout": "IPY_MODEL_3d61f7bc76f04909a298a22c40da7293",
       "qiskit_code_cell_index": -1
      }
     },
     "847c0a5d4f5b45ebb900a97c5e763839": {
      "model_module": "@quantum/ibm-q-lab-widgets",
      "model_module_version": "^1.0.3",
      "model_name": "CircuitComposerModel",
      "state": {
       "_model_module_version": "^1.0.3",
       "_view_module_version": "^1.0.3",
       "circuit": "\"OPENQASM 2.0;\\ninclude \\\"qelib1.inc\\\";\\n\\nqreg q[2];\\ncreg c[2];\\n\\n\"",
       "editable": true,
       "layout": "IPY_MODEL_5af1f845a5e346db81f0d559ef4eb7b7",
       "qiskit_code_cell_index": -1
      }
     },
     "859af7897c7f4587be67d31dfcaba308": {
      "model_module": "@jupyter-widgets/base",
      "model_module_version": "1.2.0",
      "model_name": "LayoutModel",
      "state": {}
     },
     "85f7e956b8734a9d9800578b4ea57729": {
      "model_module": "@jupyter-widgets/base",
      "model_module_version": "1.2.0",
      "model_name": "LayoutModel",
      "state": {}
     },
     "863f8db81cc345209f4eb24ea3b8fc31": {
      "model_module": "@jupyter-widgets/base",
      "model_module_version": "1.2.0",
      "model_name": "LayoutModel",
      "state": {}
     },
     "8662f5e631e14e17af7113973325327c": {
      "model_module": "@jupyter-widgets/base",
      "model_module_version": "1.2.0",
      "model_name": "LayoutModel",
      "state": {}
     },
     "87b3bc2802f24fccbf7c3680379cbd55": {
      "model_module": "@quantum/ibm-q-lab-widgets",
      "model_module_version": "^1.0.3",
      "model_name": "CircuitComposerModel",
      "state": {
       "_model_module_version": "^1.0.3",
       "_view_module_version": "^1.0.3",
       "circuit": "\"OPENQASM 2.0;\\ninclude \\\"qelib1.inc\\\";\\n\\nqreg q[2];\\ncreg c[2];\\n\\n\"",
       "editable": true,
       "layout": "IPY_MODEL_32b64506f21a479c90b34f86b21c70fa",
       "qiskit_code_cell_index": -1
      }
     },
     "893b02f88c3446328477b0f1c2e6f219": {
      "model_module": "@jupyter-widgets/base",
      "model_module_version": "1.2.0",
      "model_name": "LayoutModel",
      "state": {}
     },
     "8a12c6ec5f3d4cfea1b161702e7047d6": {
      "model_module": "@jupyter-widgets/base",
      "model_module_version": "1.2.0",
      "model_name": "LayoutModel",
      "state": {}
     },
     "8af99ce46fca4f0e88907b4c8d115864": {
      "model_module": "@quantum/ibm-q-lab-widgets",
      "model_module_version": "^1.0.3",
      "model_name": "CircuitComposerModel",
      "state": {
       "_model_module_version": "^1.0.3",
       "_view_module_version": "^1.0.3",
       "circuit": "\"OPENQASM 2.0;\\ninclude \\\"qelib1.inc\\\";\\n\\nqreg q[2];\\ncreg c[2];\\n\\n\"",
       "editable": true,
       "layout": "IPY_MODEL_09731f386e0d45b5b21b4ad9331aa28d",
       "qiskit_code_cell_index": -1
      }
     },
     "8bfef29a4d17403d9f15f8d029a7c5a6": {
      "model_module": "@jupyter-widgets/base",
      "model_module_version": "1.2.0",
      "model_name": "LayoutModel",
      "state": {}
     },
     "8cb874cee7454ecbad021cd58ca19797": {
      "model_module": "@quantum/ibm-q-lab-widgets",
      "model_module_version": "^1.0.3",
      "model_name": "CircuitComposerModel",
      "state": {
       "_model_module_version": "^1.0.3",
       "_view_module_version": "^1.0.3",
       "circuit": "\"OPENQASM 2.0;\\ninclude \\\"qelib1.inc\\\";\\n\\nqreg q[2];\\ncreg c[2];\\n\\n\"",
       "editable": true,
       "layout": "IPY_MODEL_b8d8d50aedb14747990132e3e8d01c38",
       "qiskit_code_cell_index": -1
      }
     },
     "8cfd8b78eadf4e379dc4d514c603cb08": {
      "model_module": "@quantum/ibm-q-lab-widgets",
      "model_module_version": "^1.0.3",
      "model_name": "CircuitComposerModel",
      "state": {
       "_model_module_version": "^1.0.3",
       "_view_module_version": "^1.0.3",
       "circuit": "\"OPENQASM 2.0;\\ninclude \\\"qelib1.inc\\\";\\n\\nqreg q[2];\\ncreg c[2];\\n\\nh q[0];\\nh q[1];\"",
       "editable": true,
       "layout": "IPY_MODEL_f967747de6704442ad1d35a9a254ce73",
       "qiskit_code_cell_index": -1
      }
     },
     "8db1555ff34240d881bc104c9d2ab3d6": {
      "model_module": "@quantum/ibm-q-lab-widgets",
      "model_module_version": "^1.0.3",
      "model_name": "CircuitComposerModel",
      "state": {
       "_model_module_version": "^1.0.3",
       "_view_module_version": "^1.0.3",
       "circuit": "\"OPENQASM 2.0;\\ninclude \\\"qelib1.inc\\\";\\n\\nqreg q[2];\\ncreg c[2];\\n\\nh q[0];\\nh q[1];\\ncx q[0],q[1];\\nt q[0];\\nt q[1];\\ncx q[0],q[1];\"",
       "editable": true,
       "layout": "IPY_MODEL_4423950faeaa44cba9506722087d3448",
       "qiskit_code_cell_index": -1
      }
     },
     "8dca2092e9b74fb39fe0bf7838a1356f": {
      "model_module": "@jupyter-widgets/base",
      "model_module_version": "1.2.0",
      "model_name": "LayoutModel",
      "state": {}
     },
     "8f7ee35d6f6141cdb3f9ac639b4677fd": {
      "model_module": "@jupyter-widgets/base",
      "model_module_version": "1.2.0",
      "model_name": "LayoutModel",
      "state": {}
     },
     "903d043bcc064c7480dd1ae33796a0c6": {
      "model_module": "@jupyter-widgets/base",
      "model_module_version": "1.2.0",
      "model_name": "LayoutModel",
      "state": {}
     },
     "9050035f87f246b1b235298df72d9bd5": {
      "model_module": "@quantum/ibm-q-lab-widgets",
      "model_module_version": "^1.0.3",
      "model_name": "CircuitComposerModel",
      "state": {
       "_model_module_version": "^1.0.3",
       "_view_module_version": "^1.0.3",
       "circuit": "\"OPENQASM 2.0;\\ninclude \\\"qelib1.inc\\\";\\n\\nqreg q[2];\\ncreg c[2];\\n\\nh q[0];\\ncx q[0],q[1];\"",
       "editable": true,
       "layout": "IPY_MODEL_81c8f13076c84a3f84b0a1aeb996207b",
       "qiskit_code_cell_index": -1
      }
     },
     "9128083a45e14c73a37e6faf9c77b9d2": {
      "model_module": "@quantum/ibm-q-lab-widgets",
      "model_module_version": "^1.0.3",
      "model_name": "CircuitComposerModel",
      "state": {
       "_model_module_version": "^1.0.3",
       "_view_module_version": "^1.0.3",
       "circuit": "\"OPENQASM 2.0;\\ninclude \\\"qelib1.inc\\\";\\n\\nqreg q[2];\\ncreg c[2];\\n\\nh q[0];\\nx q[0];\\nh q[1];\\nswap q[0],q[1];\\nt q[0];\\nt q[1];\\ncx q[0],q[1];\"",
       "editable": true,
       "layout": "IPY_MODEL_a4ffde54cd0249a88c5a5268c9691229",
       "qiskit_code_cell_index": -1
      }
     },
     "912a069fa8c04ab680dd4d819f47c023": {
      "model_module": "@jupyter-widgets/base",
      "model_module_version": "1.2.0",
      "model_name": "LayoutModel",
      "state": {}
     },
     "91ab8ad8efac4406b010c386d4e30c6d": {
      "model_module": "@quantum/ibm-q-lab-widgets",
      "model_module_version": "^1.0.3",
      "model_name": "CircuitComposerModel",
      "state": {
       "_model_module_version": "^1.0.3",
       "_view_module_version": "^1.0.3",
       "circuit": "\"OPENQASM 2.0;\\ninclude \\\"qelib1.inc\\\";\\n\\nqreg q[2];\\ncreg c[2];\\n\\nh q[0];\\ncx q[0],q[1];\"",
       "editable": true,
       "layout": "IPY_MODEL_bf6973500cce4fcdb4f1bea10547a142",
       "qiskit_code_cell_index": -1
      }
     },
     "91f352fc8b2f40c881dee330d38e3239": {
      "model_module": "@quantum/ibm-q-lab-widgets",
      "model_module_version": "^1.0.3",
      "model_name": "CircuitComposerModel",
      "state": {
       "_model_module_version": "^1.0.3",
       "_view_module_version": "^1.0.3",
       "circuit": "\"OPENQASM 2.0;\\ninclude \\\"qelib1.inc\\\";\\n\\nqreg q[2];\\ncreg c[2];\\n\\n\"",
       "editable": true,
       "layout": "IPY_MODEL_dba623ca527048989128f67960e6f838",
       "qiskit_code_cell_index": -1
      }
     },
     "93b0413b4fe84eee80cf556f5c99a74f": {
      "model_module": "@jupyter-widgets/base",
      "model_module_version": "1.2.0",
      "model_name": "LayoutModel",
      "state": {}
     },
     "94536bab82eb488a85431d7818445f35": {
      "model_module": "@quantum/ibm-q-lab-widgets",
      "model_module_version": "^1.0.3",
      "model_name": "CircuitComposerModel",
      "state": {
       "_model_module_version": "^1.0.3",
       "_view_module_version": "^1.0.3",
       "circuit": "\"OPENQASM 2.0;\\ninclude \\\"qelib1.inc\\\";\\n\\nqreg q[2];\\ncreg c[2];\\n\\n\"",
       "editable": true,
       "layout": "IPY_MODEL_57f68060721045089955da7fd76ecff0",
       "qiskit_code_cell_index": -1
      }
     },
     "94806deb63c54220b3eaf50dd695544d": {
      "model_module": "@quantum/ibm-q-lab-widgets",
      "model_module_version": "^1.0.3",
      "model_name": "CircuitComposerModel",
      "state": {
       "_model_module_version": "^1.0.3",
       "_view_module_version": "^1.0.3",
       "circuit": "\"OPENQASM 2.0;\\ninclude \\\"qelib1.inc\\\";\\n\\nqreg q[2];\\ncreg c[2];\\n\\n\"",
       "editable": true,
       "layout": "IPY_MODEL_94a39934c1f843abbba82793f1fd501c",
       "qiskit_code_cell_index": -1
      }
     },
     "94a39934c1f843abbba82793f1fd501c": {
      "model_module": "@jupyter-widgets/base",
      "model_module_version": "1.2.0",
      "model_name": "LayoutModel",
      "state": {}
     },
     "96314211c8d64060bbe091ae733f092a": {
      "model_module": "@quantum/ibm-q-lab-widgets",
      "model_module_version": "^1.0.3",
      "model_name": "CircuitComposerModel",
      "state": {
       "_model_module_version": "^1.0.3",
       "_view_module_version": "^1.0.3",
       "circuit": "\"OPENQASM 2.0;\\ninclude \\\"qelib1.inc\\\";\\n\\nqreg q[2];\\ncreg c[2];\\n\\n\"",
       "editable": true,
       "layout": "IPY_MODEL_590a78bb1c474859b3d0daf49a28715f",
       "qiskit_code_cell_index": -1
      }
     },
     "96a69cd901e6429f8d71963097983c70": {
      "model_module": "@jupyter-widgets/base",
      "model_module_version": "1.2.0",
      "model_name": "LayoutModel",
      "state": {}
     },
     "96bc2f1ee53149a1b0e283bf24e2a956": {
      "model_module": "@quantum/ibm-q-lab-widgets",
      "model_module_version": "^1.0.3",
      "model_name": "CircuitComposerModel",
      "state": {
       "_model_module_version": "^1.0.3",
       "_view_module_version": "^1.0.3",
       "circuit": "\"OPENQASM 2.0;\\ninclude \\\"qelib1.inc\\\";\\n\\nqreg q[2];\\ncreg c[2];\\n\\nh q[0];\\nh q[1];\\ncx q[0],q[1];\\nh q[0];\"",
       "editable": true,
       "layout": "IPY_MODEL_bece1ccdf44e4584bd713dccb74aaee0",
       "qiskit_code_cell_index": -1
      }
     },
     "978e63d4b57e4368879a0ea1a6074892": {
      "model_module": "@jupyter-widgets/base",
      "model_module_version": "1.2.0",
      "model_name": "LayoutModel",
      "state": {}
     },
     "97ec65c1413341bfb9f4acbdcd49ab80": {
      "model_module": "@jupyter-widgets/base",
      "model_module_version": "1.2.0",
      "model_name": "LayoutModel",
      "state": {}
     },
     "97fd969961b943c98360e94eb8bb9a30": {
      "model_module": "@jupyter-widgets/base",
      "model_module_version": "1.2.0",
      "model_name": "LayoutModel",
      "state": {}
     },
     "9848508fcc9c42d2a945e714b174e0ea": {
      "model_module": "@jupyter-widgets/base",
      "model_module_version": "1.2.0",
      "model_name": "LayoutModel",
      "state": {}
     },
     "9860bfca19464b20ac01ed7070ab8ca0": {
      "model_module": "@jupyter-widgets/base",
      "model_module_version": "1.2.0",
      "model_name": "LayoutModel",
      "state": {}
     },
     "987393d431cc4ae989519db8ba36f638": {
      "model_module": "@quantum/ibm-q-lab-widgets",
      "model_module_version": "^1.0.3",
      "model_name": "CircuitComposerModel",
      "state": {
       "_model_module_version": "^1.0.3",
       "_view_module_version": "^1.0.3",
       "circuit": "\"OPENQASM 2.0;\\ninclude \\\"qelib1.inc\\\";\\n\\nqreg q[2];\\ncreg c[2];\\n\\nh q[0];\\nh q[1];\\nx q[0];\"",
       "editable": true,
       "layout": "IPY_MODEL_b79697fc24b64bf981d3c4c671747609",
       "qiskit_code_cell_index": -1
      }
     },
     "98a54f51b44f4a8ba7b1a951a7d7e042": {
      "model_module": "@quantum/ibm-q-lab-widgets",
      "model_module_version": "^1.0.3",
      "model_name": "CircuitComposerModel",
      "state": {
       "_model_module_version": "^1.0.3",
       "_view_module_version": "^1.0.3",
       "circuit": "\"OPENQASM 2.0;\\ninclude \\\"qelib1.inc\\\";\\n\\nqreg q[2];\\ncreg c[2];\\n\\n\"",
       "editable": true,
       "layout": "IPY_MODEL_c21a1867662d470f8e89ad1293677e98",
       "qiskit_code_cell_index": -1
      }
     },
     "98abb8e9c87441069fc8bf53c020ca3d": {
      "model_module": "@jupyter-widgets/base",
      "model_module_version": "1.2.0",
      "model_name": "LayoutModel",
      "state": {}
     },
     "98cf22df865e44e48e0d704bfd3b7048": {
      "model_module": "@jupyter-widgets/base",
      "model_module_version": "1.2.0",
      "model_name": "LayoutModel",
      "state": {}
     },
     "9947c83e4edc482394eaf6e1fcababf6": {
      "model_module": "@quantum/ibm-q-lab-widgets",
      "model_module_version": "^1.0.3",
      "model_name": "CircuitComposerModel",
      "state": {
       "_model_module_version": "^1.0.3",
       "_view_module_version": "^1.0.3",
       "circuit": "\"OPENQASM 2.0;\\ninclude \\\"qelib1.inc\\\";\\n\\nqreg q[2];\\ncreg c[2];\\n\\n\"",
       "editable": true,
       "layout": "IPY_MODEL_3c254b40c9f64c6b883d02908783458b",
       "qiskit_code_cell_index": -1
      }
     },
     "99848a4e2fcf4f33aee118acef2fb8b0": {
      "model_module": "@quantum/ibm-q-lab-widgets",
      "model_module_version": "^1.0.3",
      "model_name": "CircuitComposerModel",
      "state": {
       "_model_module_version": "^1.0.3",
       "_view_module_version": "^1.0.3",
       "circuit": "\"OPENQASM 2.0;\\ninclude \\\"qelib1.inc\\\";\\n\\nqreg q[2];\\ncreg c[2];\\n\\nh q[0];\\nx q[0];\\nh q[1];\"",
       "editable": true,
       "layout": "IPY_MODEL_fc5b9dc991634db182a5a72142b701ca",
       "qiskit_code_cell_index": -1
      }
     },
     "999f76cfa40d4d0492affb6bb9f8218a": {
      "model_module": "@jupyter-widgets/base",
      "model_module_version": "1.2.0",
      "model_name": "LayoutModel",
      "state": {}
     },
     "9a3cf39f1a0d4dd39109b2b0eb610016": {
      "model_module": "@quantum/ibm-q-lab-widgets",
      "model_module_version": "^1.0.3",
      "model_name": "CircuitComposerModel",
      "state": {
       "_model_module_version": "^1.0.3",
       "_view_module_version": "^1.0.3",
       "circuit": "\"OPENQASM 2.0;\\ninclude \\\"qelib1.inc\\\";\\n\\nqreg q[2];\\ncreg c[2];\\n\\n\"",
       "editable": true,
       "layout": "IPY_MODEL_e2ecc2b2ed224569b3cbe479a066af55",
       "qiskit_code_cell_index": -1
      }
     },
     "9a638ea18dd94822a74d316d85990402": {
      "model_module": "@quantum/ibm-q-lab-widgets",
      "model_module_version": "^1.0.3",
      "model_name": "CircuitComposerModel",
      "state": {
       "_model_module_version": "^1.0.3",
       "_view_module_version": "^1.0.3",
       "circuit": "\"OPENQASM 2.0;\\ninclude \\\"qelib1.inc\\\";\\n\\nqreg q[2];\\ncreg c[2];\\n\\nh q[0];\\ncx q[0],q[1];\"",
       "editable": true,
       "layout": "IPY_MODEL_dbb85fc4e701456c84b96c9ef6d64556",
       "qiskit_code_cell_index": -1
      }
     },
     "9a652775814e45a09eb7c8b2f7570d4d": {
      "model_module": "@quantum/ibm-q-lab-widgets",
      "model_module_version": "^1.0.3",
      "model_name": "CircuitComposerModel",
      "state": {
       "_model_module_version": "^1.0.3",
       "_view_module_version": "^1.0.3",
       "circuit": "\"OPENQASM 2.0;\\ninclude \\\"qelib1.inc\\\";\\n\\nqreg q[2];\\ncreg c[2];\\n\\n\"",
       "editable": true,
       "layout": "IPY_MODEL_270515cd5cb94070ab21f70e0bf5ac04",
       "qiskit_code_cell_index": -1
      }
     },
     "9adf63308d78429184ce49278070ea1c": {
      "model_module": "@quantum/ibm-q-lab-widgets",
      "model_module_version": "^1.0.3",
      "model_name": "CircuitComposerModel",
      "state": {
       "_model_module_version": "^1.0.3",
       "_view_module_version": "^1.0.3",
       "circuit": "\"OPENQASM 2.0;\\ninclude \\\"qelib1.inc\\\";\\n\\nqreg q[2];\\ncreg c[2];\\n\\n\"",
       "editable": true,
       "layout": "IPY_MODEL_8f7ee35d6f6141cdb3f9ac639b4677fd",
       "qiskit_code_cell_index": -1
      }
     },
     "9ae2ef7a4c8e4130a53f4372e8034c2c": {
      "model_module": "@jupyter-widgets/base",
      "model_module_version": "1.2.0",
      "model_name": "LayoutModel",
      "state": {}
     },
     "9afa3a6cad6f4b6f958d91ddeb844673": {
      "model_module": "@jupyter-widgets/base",
      "model_module_version": "1.2.0",
      "model_name": "LayoutModel",
      "state": {}
     },
     "9b0deda8aebd4b1cbef3e911d027cb8a": {
      "model_module": "@quantum/ibm-q-lab-widgets",
      "model_module_version": "^1.0.3",
      "model_name": "CircuitComposerModel",
      "state": {
       "_model_module_version": "^1.0.3",
       "_view_module_version": "^1.0.3",
       "circuit": "\"OPENQASM 2.0;\\ninclude \\\"qelib1.inc\\\";\\n\\nqreg q[2];\\ncreg c[2];\\n\\nh q[0];\\nh q[0];\\nh q[1];\"",
       "editable": true,
       "layout": "IPY_MODEL_9c7572c5b6334a16b04e24f89c1fb740",
       "qiskit_code_cell_index": -1
      }
     },
     "9b5fa93c21e24010a1d96d14f1f97135": {
      "model_module": "@jupyter-widgets/base",
      "model_module_version": "1.2.0",
      "model_name": "LayoutModel",
      "state": {}
     },
     "9c7572c5b6334a16b04e24f89c1fb740": {
      "model_module": "@jupyter-widgets/base",
      "model_module_version": "1.2.0",
      "model_name": "LayoutModel",
      "state": {}
     },
     "9cd29602613c4126b72976487d973d7c": {
      "model_module": "@quantum/ibm-q-lab-widgets",
      "model_module_version": "^1.0.3",
      "model_name": "CircuitComposerModel",
      "state": {
       "_model_module_version": "^1.0.3",
       "_view_module_version": "^1.0.3",
       "circuit": "\"OPENQASM 2.0;\\ninclude \\\"qelib1.inc\\\";\\n\\nqreg q[2];\\ncreg c[2];\\n\\nh q[0];\\ncx q[0],q[1];\"",
       "editable": true,
       "layout": "IPY_MODEL_f9c48ba6a3f4426db3adba23c8145a67",
       "qiskit_code_cell_index": -1
      }
     },
     "9db17c7c31ca4fb8aa6cb1f3bc61e678": {
      "model_module": "@jupyter-widgets/base",
      "model_module_version": "1.2.0",
      "model_name": "LayoutModel",
      "state": {}
     },
     "9ddee2575d84442cb0be0770f0981441": {
      "model_module": "@quantum/ibm-q-lab-widgets",
      "model_module_version": "^1.0.3",
      "model_name": "CircuitComposerModel",
      "state": {
       "_model_module_version": "^1.0.3",
       "_view_module_version": "^1.0.3",
       "circuit": "\"OPENQASM 2.0;\\ninclude \\\"qelib1.inc\\\";\\n\\nqreg q[2];\\ncreg c[2];\\n\\n\"",
       "editable": true,
       "layout": "IPY_MODEL_d0f7115f8ee147168e2b2f0b475847f6",
       "qiskit_code_cell_index": -1
      }
     },
     "9e122a980c2f4284b714bc59ee189a1c": {
      "model_module": "@quantum/ibm-q-lab-widgets",
      "model_module_version": "^1.0.3",
      "model_name": "CircuitComposerModel",
      "state": {
       "_model_module_version": "^1.0.3",
       "_view_module_version": "^1.0.3",
       "circuit": "\"OPENQASM 2.0;\\ninclude \\\"qelib1.inc\\\";\\n\\nqreg q[2];\\ncreg c[2];\\n\\nh q[0];\\ncx q[0],q[1];\"",
       "editable": true,
       "layout": "IPY_MODEL_893b02f88c3446328477b0f1c2e6f219",
       "qiskit_code_cell_index": -1
      }
     },
     "a0da2a28a0354cd1805bbb8f574e13f9": {
      "model_module": "@quantum/ibm-q-lab-widgets",
      "model_module_version": "^1.0.3",
      "model_name": "CircuitComposerModel",
      "state": {
       "_model_module_version": "^1.0.3",
       "_view_module_version": "^1.0.3",
       "circuit": "\"OPENQASM 2.0;\\ninclude \\\"qelib1.inc\\\";\\n\\nqreg q[2];\\ncreg c[2];\\n\\n\"",
       "editable": true,
       "layout": "IPY_MODEL_541d27871ea2497da36e5342b219fb25",
       "qiskit_code_cell_index": -1
      }
     },
     "a1128161c59142b8941da03fdbea64fc": {
      "model_module": "@quantum/ibm-q-lab-widgets",
      "model_module_version": "^1.0.3",
      "model_name": "CircuitComposerModel",
      "state": {
       "_model_module_version": "^1.0.3",
       "_view_module_version": "^1.0.3",
       "circuit": "\"OPENQASM 2.0;\\ninclude \\\"qelib1.inc\\\";\\n\\nqreg q[2];\\ncreg c[2];\\n\\n\"",
       "editable": true,
       "layout": "IPY_MODEL_b1150a8fdd064108b3fa1329c627f279",
       "qiskit_code_cell_index": -1
      }
     },
     "a1d7b76dbbfd42d79e422e7f677b6abd": {
      "model_module": "@jupyter-widgets/base",
      "model_module_version": "1.2.0",
      "model_name": "LayoutModel",
      "state": {}
     },
     "a30a1b7961f14f53b44e93571449aa98": {
      "model_module": "@jupyter-widgets/base",
      "model_module_version": "1.2.0",
      "model_name": "LayoutModel",
      "state": {}
     },
     "a37f027e9d47499e9d80488de19abed5": {
      "model_module": "@jupyter-widgets/base",
      "model_module_version": "1.2.0",
      "model_name": "LayoutModel",
      "state": {}
     },
     "a40de1dd92c848d2b1c998ee096647e2": {
      "model_module": "@jupyter-widgets/base",
      "model_module_version": "1.2.0",
      "model_name": "LayoutModel",
      "state": {}
     },
     "a4ffde54cd0249a88c5a5268c9691229": {
      "model_module": "@jupyter-widgets/base",
      "model_module_version": "1.2.0",
      "model_name": "LayoutModel",
      "state": {}
     },
     "a55ca28c062e45d79417e8ceb6cb49cd": {
      "model_module": "@quantum/ibm-q-lab-widgets",
      "model_module_version": "^1.0.3",
      "model_name": "CircuitComposerModel",
      "state": {
       "_model_module_version": "^1.0.3",
       "_view_module_version": "^1.0.3",
       "circuit": "\"OPENQASM 2.0;\\ninclude \\\"qelib1.inc\\\";\\n\\nqreg q[2];\\ncreg c[2];\\n\\n\"",
       "editable": true,
       "layout": "IPY_MODEL_903d043bcc064c7480dd1ae33796a0c6",
       "qiskit_code_cell_index": -1
      }
     },
     "a640c8b28ec4460a84920629ebbf3cc1": {
      "model_module": "@jupyter-widgets/base",
      "model_module_version": "1.2.0",
      "model_name": "LayoutModel",
      "state": {}
     },
     "a64f038d317848efbe2a55f8a187a012": {
      "model_module": "@quantum/ibm-q-lab-widgets",
      "model_module_version": "^1.0.3",
      "model_name": "CircuitComposerModel",
      "state": {
       "_model_module_version": "^1.0.3",
       "_view_module_version": "^1.0.3",
       "circuit": "\"OPENQASM 2.0;\\ninclude \\\"qelib1.inc\\\";\\n\\nqreg q[2];\\ncreg c[2];\\n\\n\"",
       "editable": true,
       "layout": "IPY_MODEL_ac198645547c47efa5f5ec88f8da96d6",
       "qiskit_code_cell_index": -1
      }
     },
     "a65882d7e544498d9915626298442c2c": {
      "model_module": "@quantum/ibm-q-lab-widgets",
      "model_module_version": "^1.0.3",
      "model_name": "CircuitComposerModel",
      "state": {
       "_model_module_version": "^1.0.3",
       "_view_module_version": "^1.0.3",
       "circuit": "\"OPENQASM 2.0;\\ninclude \\\"qelib1.inc\\\";\\n\\nqreg q[2];\\ncreg c[2];\\n\\n\"",
       "editable": true,
       "layout": "IPY_MODEL_a7d897bf519b45c88c7d8ccb4a74a097",
       "qiskit_code_cell_index": -1
      }
     },
     "a6f0278f4e944d0893fbda29dee09290": {
      "model_module": "@jupyter-widgets/base",
      "model_module_version": "1.2.0",
      "model_name": "LayoutModel",
      "state": {}
     },
     "a7d6fb87955645e4b95633449fed37cb": {
      "model_module": "@jupyter-widgets/base",
      "model_module_version": "1.2.0",
      "model_name": "LayoutModel",
      "state": {}
     },
     "a7d897bf519b45c88c7d8ccb4a74a097": {
      "model_module": "@jupyter-widgets/base",
      "model_module_version": "1.2.0",
      "model_name": "LayoutModel",
      "state": {}
     },
     "a7ee0404d2b748eea94873fe3fd3d178": {
      "model_module": "@quantum/ibm-q-lab-widgets",
      "model_module_version": "^1.0.3",
      "model_name": "CircuitComposerModel",
      "state": {
       "_model_module_version": "^1.0.3",
       "_view_module_version": "^1.0.3",
       "circuit": "\"OPENQASM 2.0;\\ninclude \\\"qelib1.inc\\\";\\n\\nqreg q[2];\\ncreg c[2];\\n\\n\"",
       "editable": true,
       "layout": "IPY_MODEL_5972b5c277b94ae7b9fc2a6c28f16a61",
       "qiskit_code_cell_index": -1
      }
     },
     "a84e7f8cbc34455aba86bd987d7a05fd": {
      "model_module": "@quantum/ibm-q-lab-widgets",
      "model_module_version": "^1.0.3",
      "model_name": "CircuitComposerModel",
      "state": {
       "_model_module_version": "^1.0.3",
       "_view_module_version": "^1.0.3",
       "circuit": "\"OPENQASM 2.0;\\ninclude \\\"qelib1.inc\\\";\\n\\nqreg q[2];\\ncreg c[2];\\n\\nh q[0];\\nh q[0];\\nh q[1];\"",
       "editable": true,
       "layout": "IPY_MODEL_c37371758d2b4e4cb6af7010ca23fa9c",
       "qiskit_code_cell_index": -1
      }
     },
     "a8f1e439e7154b84b2e81dd14d45d877": {
      "model_module": "@jupyter-widgets/base",
      "model_module_version": "1.2.0",
      "model_name": "LayoutModel",
      "state": {}
     },
     "a9c0cc82e456431f905b80c45b776cf7": {
      "model_module": "@jupyter-widgets/base",
      "model_module_version": "1.2.0",
      "model_name": "LayoutModel",
      "state": {}
     },
     "aa551c5d94c7430fa4c65376e22866a8": {
      "model_module": "@quantum/ibm-q-lab-widgets",
      "model_module_version": "^1.0.3",
      "model_name": "CircuitComposerModel",
      "state": {
       "_model_module_version": "^1.0.3",
       "_view_module_version": "^1.0.3",
       "circuit": "\"OPENQASM 2.0;\\ninclude \\\"qelib1.inc\\\";\\n\\nqreg q[2];\\ncreg c[2];\\n\\nh q[0];\\ncx q[0],q[1];\"",
       "editable": true,
       "layout": "IPY_MODEL_5b34183506b84ecdbfeaf68487c176a6",
       "qiskit_code_cell_index": -1
      }
     },
     "aa985ca8c4574437b1e72c84b33f28ae": {
      "model_module": "@quantum/ibm-q-lab-widgets",
      "model_module_version": "^1.0.3",
      "model_name": "CircuitComposerModel",
      "state": {
       "_model_module_version": "^1.0.3",
       "_view_module_version": "^1.0.3",
       "circuit": "\"OPENQASM 2.0;\\ninclude \\\"qelib1.inc\\\";\\n\\nqreg q[2];\\ncreg c[2];\\n\\nh q[0];\\ncx q[0],q[1];\"",
       "editable": true,
       "layout": "IPY_MODEL_f2757c48f9b54b64ad1c73c5d324c51d",
       "qiskit_code_cell_index": -1
      }
     },
     "ab9bec6723be4c2bbb5f3373d949eca7": {
      "model_module": "@quantum/ibm-q-lab-widgets",
      "model_module_version": "^1.0.3",
      "model_name": "CircuitComposerModel",
      "state": {
       "_model_module_version": "^1.0.3",
       "_view_module_version": "^1.0.3",
       "circuit": "\"OPENQASM 2.0;\\ninclude \\\"qelib1.inc\\\";\\n\\nqreg q[2];\\ncreg c[2];\\n\\nh q[0];\\ncx q[0],q[1];\"",
       "editable": true,
       "layout": "IPY_MODEL_d230bb5503d748e6ad238d8a980538ac",
       "qiskit_code_cell_index": -1
      }
     },
     "ac198645547c47efa5f5ec88f8da96d6": {
      "model_module": "@jupyter-widgets/base",
      "model_module_version": "1.2.0",
      "model_name": "LayoutModel",
      "state": {}
     },
     "ad552b0473b9423d9240e9985015536f": {
      "model_module": "@quantum/ibm-q-lab-widgets",
      "model_module_version": "^1.0.3",
      "model_name": "CircuitComposerModel",
      "state": {
       "_model_module_version": "^1.0.3",
       "_view_module_version": "^1.0.3",
       "circuit": "\"OPENQASM 2.0;\\ninclude \\\"qelib1.inc\\\";\\n\\nqreg q[2];\\ncreg c[2];\\n\\nh q[0];\\nh q[1];\"",
       "editable": true,
       "layout": "IPY_MODEL_268c67b3e79249459b2b09cf6ab141c1",
       "qiskit_code_cell_index": -1
      }
     },
     "adb936213c46459db4b6c71e1ffb4eaa": {
      "model_module": "@jupyter-widgets/base",
      "model_module_version": "1.2.0",
      "model_name": "LayoutModel",
      "state": {}
     },
     "af07e791cd2f4a0585744f2dab4eba60": {
      "model_module": "@quantum/ibm-q-lab-widgets",
      "model_module_version": "^1.0.3",
      "model_name": "CircuitComposerModel",
      "state": {
       "_model_module_version": "^1.0.3",
       "_view_module_version": "^1.0.3",
       "circuit": "\"OPENQASM 2.0;\\ninclude \\\"qelib1.inc\\\";\\n\\nqreg q[2];\\ncreg c[2];\\n\\nh q[0];\\ncx q[0],q[1];\"",
       "editable": true,
       "layout": "IPY_MODEL_f444a7a590e243329c03109d49a46319",
       "qiskit_code_cell_index": -1
      }
     },
     "af372e062eb24c69be1ceed920ebb56d": {
      "model_module": "@quantum/ibm-q-lab-widgets",
      "model_module_version": "^1.0.3",
      "model_name": "CircuitComposerModel",
      "state": {
       "_model_module_version": "^1.0.3",
       "_view_module_version": "^1.0.3",
       "circuit": "\"OPENQASM 2.0;\\ninclude \\\"qelib1.inc\\\";\\n\\nqreg q[2];\\ncreg c[2];\\n\\n\"",
       "editable": true,
       "layout": "IPY_MODEL_c92a423ec09e416487d86e87103408b2",
       "qiskit_code_cell_index": -1
      }
     },
     "afc55c2df2b54211aaa4c14baa46528f": {
      "model_module": "@jupyter-widgets/base",
      "model_module_version": "1.2.0",
      "model_name": "LayoutModel",
      "state": {}
     },
     "b1150a8fdd064108b3fa1329c627f279": {
      "model_module": "@jupyter-widgets/base",
      "model_module_version": "1.2.0",
      "model_name": "LayoutModel",
      "state": {}
     },
     "b11825d59c134ec697a8c442d0780c48": {
      "model_module": "@quantum/ibm-q-lab-widgets",
      "model_module_version": "^1.0.3",
      "model_name": "CircuitComposerModel",
      "state": {
       "_model_module_version": "^1.0.3",
       "_view_module_version": "^1.0.3",
       "circuit": "\"OPENQASM 2.0;\\ninclude \\\"qelib1.inc\\\";\\n\\nqreg q[2];\\ncreg c[2];\\n\\n\"",
       "editable": true,
       "layout": "IPY_MODEL_092e0d28dc7642e8b6e0ad6986c99caf",
       "qiskit_code_cell_index": -1
      }
     },
     "b147557e66da458384381b89176d87d0": {
      "model_module": "@jupyter-widgets/base",
      "model_module_version": "1.2.0",
      "model_name": "LayoutModel",
      "state": {}
     },
     "b18b15ce1cd74eba9cd13c714da492e5": {
      "model_module": "@quantum/ibm-q-lab-widgets",
      "model_module_version": "^1.0.3",
      "model_name": "CircuitComposerModel",
      "state": {
       "_model_module_version": "^1.0.3",
       "_view_module_version": "^1.0.3",
       "circuit": "\"OPENQASM 2.0;\\ninclude \\\"qelib1.inc\\\";\\n\\nqreg q[2];\\ncreg c[2];\\n\\nh q[0];\\nx q[0];\\nh q[1];\"",
       "editable": true,
       "layout": "IPY_MODEL_410138428aa54eb68006e2789777eca0",
       "qiskit_code_cell_index": -1
      }
     },
     "b1bc795f88684ae59d0c83d6e1a126ca": {
      "model_module": "@quantum/ibm-q-lab-widgets",
      "model_module_version": "^1.0.3",
      "model_name": "CircuitComposerModel",
      "state": {
       "_model_module_version": "^1.0.3",
       "_view_module_version": "^1.0.3",
       "circuit": "\"OPENQASM 2.0;\\ninclude \\\"qelib1.inc\\\";\\n\\nqreg q[2];\\ncreg c[2];\\n\\nh q[0];\\nh q[1];\"",
       "editable": true,
       "layout": "IPY_MODEL_0b3264bbfb264660b48285fccbd63d2f",
       "qiskit_code_cell_index": -1
      }
     },
     "b295c97c766c4f9e830c2a7a20a7e17d": {
      "model_module": "@jupyter-widgets/base",
      "model_module_version": "1.2.0",
      "model_name": "LayoutModel",
      "state": {}
     },
     "b2a8a2ee1b014f22879222c24a354640": {
      "model_module": "@quantum/ibm-q-lab-widgets",
      "model_module_version": "^1.0.3",
      "model_name": "CircuitComposerModel",
      "state": {
       "_model_module_version": "^1.0.3",
       "_view_module_version": "^1.0.3",
       "circuit": "\"OPENQASM 2.0;\\ninclude \\\"qelib1.inc\\\";\\n\\nqreg q[2];\\ncreg c[2];\\n\\n\"",
       "editable": true,
       "layout": "IPY_MODEL_ccfc4faadc1941d4bf16d319942ec277",
       "qiskit_code_cell_index": -1
      }
     },
     "b3cb493df5e849699017639eb2c2ec9d": {
      "model_module": "@quantum/ibm-q-lab-widgets",
      "model_module_version": "^1.0.3",
      "model_name": "CircuitComposerModel",
      "state": {
       "_model_module_version": "^1.0.3",
       "_view_module_version": "^1.0.3",
       "circuit": "\"OPENQASM 2.0;\\ninclude \\\"qelib1.inc\\\";\\n\\nqreg q[2];\\ncreg c[2];\\n\\n\"",
       "editable": true,
       "layout": "IPY_MODEL_dcd1b790dd4b475bbf3388630ad3de9c",
       "qiskit_code_cell_index": -1
      }
     },
     "b6d8ed69418640658d28087f85ae4f53": {
      "model_module": "@quantum/ibm-q-lab-widgets",
      "model_module_version": "^1.0.3",
      "model_name": "CircuitComposerModel",
      "state": {
       "_model_module_version": "^1.0.3",
       "_view_module_version": "^1.0.3",
       "circuit": "\"OPENQASM 2.0;\\ninclude \\\"qelib1.inc\\\";\\n\\nqreg q[2];\\ncreg c[2];\\n\\n\"",
       "editable": true,
       "layout": "IPY_MODEL_85f7e956b8734a9d9800578b4ea57729",
       "qiskit_code_cell_index": -1
      }
     },
     "b716c536f34e4478999ce995df7a3976": {
      "model_module": "@quantum/ibm-q-lab-widgets",
      "model_module_version": "^1.0.3",
      "model_name": "CircuitComposerModel",
      "state": {
       "_model_module_version": "^1.0.3",
       "_view_module_version": "^1.0.3",
       "circuit": "\"OPENQASM 2.0;\\ninclude \\\"qelib1.inc\\\";\\n\\nqreg q[2];\\ncreg c[2];\\n\\nh q[0];\\ncx q[0],q[1];\"",
       "editable": true,
       "layout": "IPY_MODEL_fd590bf65cbe4bbf93edc52cd40a24af",
       "qiskit_code_cell_index": -1
      }
     },
     "b747e082d4ac4270bbe0e40968d1ef27": {
      "model_module": "@quantum/ibm-q-lab-widgets",
      "model_module_version": "^1.0.3",
      "model_name": "CircuitComposerModel",
      "state": {
       "_model_module_version": "^1.0.3",
       "_view_module_version": "^1.0.3",
       "circuit": "\"OPENQASM 2.0;\\ninclude \\\"qelib1.inc\\\";\\n\\nqreg q[2];\\ncreg c[2];\\n\\n\"",
       "editable": true,
       "layout": "IPY_MODEL_c62b0cb911fb400e862146f4fc74f3cb",
       "qiskit_code_cell_index": -1
      }
     },
     "b79697fc24b64bf981d3c4c671747609": {
      "model_module": "@jupyter-widgets/base",
      "model_module_version": "1.2.0",
      "model_name": "LayoutModel",
      "state": {}
     },
     "b79d105622ef435b80b0dbaeb5957240": {
      "model_module": "@jupyter-widgets/base",
      "model_module_version": "1.2.0",
      "model_name": "LayoutModel",
      "state": {}
     },
     "b7c2002c0dc64708ba6e6bb31538fc4b": {
      "model_module": "@jupyter-widgets/base",
      "model_module_version": "1.2.0",
      "model_name": "LayoutModel",
      "state": {}
     },
     "b86cf383375e4eb69884c3f047da127a": {
      "model_module": "@jupyter-widgets/base",
      "model_module_version": "1.2.0",
      "model_name": "LayoutModel",
      "state": {}
     },
     "b89146f0e96d46e2be9a44d365f349ea": {
      "model_module": "@jupyter-widgets/base",
      "model_module_version": "1.2.0",
      "model_name": "LayoutModel",
      "state": {}
     },
     "b8c5443cb3bb42a58cfa1f5a06468876": {
      "model_module": "@jupyter-widgets/base",
      "model_module_version": "1.2.0",
      "model_name": "LayoutModel",
      "state": {}
     },
     "b8d5806a3bef4bb585ea0ad1e9d5fdf6": {
      "model_module": "@quantum/ibm-q-lab-widgets",
      "model_module_version": "^1.0.3",
      "model_name": "CircuitComposerModel",
      "state": {
       "_model_module_version": "^1.0.3",
       "_view_module_version": "^1.0.3",
       "circuit": "\"OPENQASM 2.0;\\ninclude \\\"qelib1.inc\\\";\\n\\nqreg q[2];\\ncreg c[2];\\n\\nh q[0];\\nh q[1];\\nh q[0];\"",
       "editable": true,
       "layout": "IPY_MODEL_02d098e30923451cb9c0182cfbba5581",
       "qiskit_code_cell_index": -1
      }
     },
     "b8d8d50aedb14747990132e3e8d01c38": {
      "model_module": "@jupyter-widgets/base",
      "model_module_version": "1.2.0",
      "model_name": "LayoutModel",
      "state": {}
     },
     "b9369c6ffcee44c28a8d255f89418502": {
      "model_module": "@jupyter-widgets/base",
      "model_module_version": "1.2.0",
      "model_name": "LayoutModel",
      "state": {}
     },
     "ba3c0839ce604338907f8dd6b53f1b18": {
      "model_module": "@jupyter-widgets/base",
      "model_module_version": "1.2.0",
      "model_name": "LayoutModel",
      "state": {}
     },
     "bac28702d3f643598cf53213b694f16c": {
      "model_module": "@quantum/ibm-q-lab-widgets",
      "model_module_version": "^1.0.3",
      "model_name": "CircuitComposerModel",
      "state": {
       "_model_module_version": "^1.0.3",
       "_view_module_version": "^1.0.3",
       "circuit": "\"OPENQASM 2.0;\\ninclude \\\"qelib1.inc\\\";\\n\\nqreg q[2];\\ncreg c[2];\\n\\n\"",
       "editable": true,
       "layout": "IPY_MODEL_ce25dc3be16a4e55a1fddc911ed4abac",
       "qiskit_code_cell_index": -1
      }
     },
     "bc22cd6c270a42d9bc2bddaa99b33e0e": {
      "model_module": "@jupyter-widgets/base",
      "model_module_version": "1.2.0",
      "model_name": "LayoutModel",
      "state": {}
     },
     "bd9b0c7670a44165b6f6721abbd4705c": {
      "model_module": "@quantum/ibm-q-lab-widgets",
      "model_module_version": "^1.0.3",
      "model_name": "CircuitComposerModel",
      "state": {
       "_model_module_version": "^1.0.3",
       "_view_module_version": "^1.0.3",
       "circuit": "\"OPENQASM 2.0;\\ninclude \\\"qelib1.inc\\\";\\n\\nqreg q[2];\\ncreg c[2];\\n\\nh q[0];\\ncx q[0],q[1];\"",
       "editable": true,
       "layout": "IPY_MODEL_c429340534b24881887fef0095c7c6b5",
       "qiskit_code_cell_index": -1
      }
     },
     "be2fc9eb307a4e8c8005cd85bb56c3ea": {
      "model_module": "@quantum/ibm-q-lab-widgets",
      "model_module_version": "^1.0.3",
      "model_name": "CircuitComposerModel",
      "state": {
       "_model_module_version": "^1.0.3",
       "_view_module_version": "^1.0.3",
       "circuit": "\"OPENQASM 2.0;\\ninclude \\\"qelib1.inc\\\";\\n\\nqreg q[2];\\ncreg c[2];\\n\\n\"",
       "editable": true,
       "layout": "IPY_MODEL_4b72dee504034a72a4bebd0471b2396f",
       "qiskit_code_cell_index": -1
      }
     },
     "be8b971370ac444bbab0362e6a452241": {
      "model_module": "@jupyter-widgets/base",
      "model_module_version": "1.2.0",
      "model_name": "LayoutModel",
      "state": {}
     },
     "bece1ccdf44e4584bd713dccb74aaee0": {
      "model_module": "@jupyter-widgets/base",
      "model_module_version": "1.2.0",
      "model_name": "LayoutModel",
      "state": {}
     },
     "beed841765e84a3cbdc8aeaacb29923b": {
      "model_module": "@quantum/ibm-q-lab-widgets",
      "model_module_version": "^1.0.3",
      "model_name": "CircuitComposerModel",
      "state": {
       "_model_module_version": "^1.0.3",
       "_view_module_version": "^1.0.3",
       "circuit": "\"OPENQASM 2.0;\\ninclude \\\"qelib1.inc\\\";\\n\\nqreg q[2];\\ncreg c[2];\\n\\n\"",
       "editable": true,
       "layout": "IPY_MODEL_746e8f0664bb4ca58b44985a9a5242d4",
       "qiskit_code_cell_index": -1
      }
     },
     "bf2c83a199834af8870e5e3f64aee841": {
      "model_module": "@jupyter-widgets/base",
      "model_module_version": "1.2.0",
      "model_name": "LayoutModel",
      "state": {}
     },
     "bf65617846d6451f96adac8a22b9ba92": {
      "model_module": "@jupyter-widgets/base",
      "model_module_version": "1.2.0",
      "model_name": "LayoutModel",
      "state": {}
     },
     "bf6973500cce4fcdb4f1bea10547a142": {
      "model_module": "@jupyter-widgets/base",
      "model_module_version": "1.2.0",
      "model_name": "LayoutModel",
      "state": {}
     },
     "bf7090f654fd40ed9b1c785fa51255c4": {
      "model_module": "@quantum/ibm-q-lab-widgets",
      "model_module_version": "^1.0.3",
      "model_name": "CircuitComposerModel",
      "state": {
       "_model_module_version": "^1.0.3",
       "_view_module_version": "^1.0.3",
       "circuit": "\"OPENQASM 2.0;\\ninclude \\\"qelib1.inc\\\";\\n\\nqreg q[2];\\ncreg c[2];\\n\\n\"",
       "editable": true,
       "layout": "IPY_MODEL_68b2fd762cb5440bb7981063d4fbade6",
       "qiskit_code_cell_index": -1
      }
     },
     "c05f6b7fd4d04a78bb4459a55cdec09c": {
      "model_module": "@quantum/ibm-q-lab-widgets",
      "model_module_version": "^1.0.3",
      "model_name": "CircuitComposerModel",
      "state": {
       "_model_module_version": "^1.0.3",
       "_view_module_version": "^1.0.3",
       "circuit": "\"OPENQASM 2.0;\\ninclude \\\"qelib1.inc\\\";\\n\\nqreg q[2];\\ncreg c[2];\\n\\nh q[0];\\nx q[0];\\nh q[1];\"",
       "editable": true,
       "layout": "IPY_MODEL_a30a1b7961f14f53b44e93571449aa98",
       "qiskit_code_cell_index": -1
      }
     },
     "c093effe906b4a92ad654f866789ff21": {
      "model_module": "@quantum/ibm-q-lab-widgets",
      "model_module_version": "^1.0.3",
      "model_name": "CircuitComposerModel",
      "state": {
       "_model_module_version": "^1.0.3",
       "_view_module_version": "^1.0.3",
       "circuit": "\"OPENQASM 2.0;\\ninclude \\\"qelib1.inc\\\";\\n\\nqreg q[2];\\ncreg c[2];\\n\\nh q[0];\\nx q[0];\\nh q[1];\"",
       "editable": true,
       "layout": "IPY_MODEL_96a69cd901e6429f8d71963097983c70",
       "qiskit_code_cell_index": -1
      }
     },
     "c0a36fc6ad5747368052736d10047cdf": {
      "model_module": "@jupyter-widgets/base",
      "model_module_version": "1.2.0",
      "model_name": "LayoutModel",
      "state": {}
     },
     "c127955b4f7e47a79104d4f22e107d0c": {
      "model_module": "@jupyter-widgets/base",
      "model_module_version": "1.2.0",
      "model_name": "LayoutModel",
      "state": {}
     },
     "c130711f9c6b49239d763658d38a6d01": {
      "model_module": "@jupyter-widgets/base",
      "model_module_version": "1.2.0",
      "model_name": "LayoutModel",
      "state": {}
     },
     "c21a1867662d470f8e89ad1293677e98": {
      "model_module": "@jupyter-widgets/base",
      "model_module_version": "1.2.0",
      "model_name": "LayoutModel",
      "state": {}
     },
     "c2ffba1b2b6f4aa697de93cee074b2ae": {
      "model_module": "@quantum/ibm-q-lab-widgets",
      "model_module_version": "^1.0.3",
      "model_name": "CircuitComposerModel",
      "state": {
       "_model_module_version": "^1.0.3",
       "_view_module_version": "^1.0.3",
       "circuit": "\"OPENQASM 2.0;\\ninclude \\\"qelib1.inc\\\";\\n\\nqreg q[2];\\ncreg c[2];\\n\\n\"",
       "editable": true,
       "layout": "IPY_MODEL_999f76cfa40d4d0492affb6bb9f8218a",
       "qiskit_code_cell_index": -1
      }
     },
     "c30f735269ca42aab7de3bda66d81c6e": {
      "model_module": "@quantum/ibm-q-lab-widgets",
      "model_module_version": "^1.0.3",
      "model_name": "CircuitComposerModel",
      "state": {
       "_model_module_version": "^1.0.3",
       "_view_module_version": "^1.0.3",
       "circuit": "\"OPENQASM 2.0;\\ninclude \\\"qelib1.inc\\\";\\n\\nqreg q[2];\\ncreg c[2];\\n\\nh q[0];\\nz q[0];\\nh q[0];\\nh q[1];\\nh q[1];\\ncx q[0],q[1];\"",
       "editable": true,
       "layout": "IPY_MODEL_c3cb4b48e45d4b3e888c1173b4cd4294",
       "qiskit_code_cell_index": -1
      }
     },
     "c37371758d2b4e4cb6af7010ca23fa9c": {
      "model_module": "@jupyter-widgets/base",
      "model_module_version": "1.2.0",
      "model_name": "LayoutModel",
      "state": {}
     },
     "c3cb4b48e45d4b3e888c1173b4cd4294": {
      "model_module": "@jupyter-widgets/base",
      "model_module_version": "1.2.0",
      "model_name": "LayoutModel",
      "state": {}
     },
     "c429340534b24881887fef0095c7c6b5": {
      "model_module": "@jupyter-widgets/base",
      "model_module_version": "1.2.0",
      "model_name": "LayoutModel",
      "state": {}
     },
     "c4cecfa407114bc29b56a16b6dc818ad": {
      "model_module": "@quantum/ibm-q-lab-widgets",
      "model_module_version": "^1.0.3",
      "model_name": "CircuitComposerModel",
      "state": {
       "_model_module_version": "^1.0.3",
       "_view_module_version": "^1.0.3",
       "circuit": "\"OPENQASM 2.0;\\ninclude \\\"qelib1.inc\\\";\\n\\nqreg q[2];\\ncreg c[2];\\n\\n\"",
       "editable": true,
       "layout": "IPY_MODEL_f0a736a010274f5e82e3c38ac1db198b",
       "qiskit_code_cell_index": -1
      }
     },
     "c62b0cb911fb400e862146f4fc74f3cb": {
      "model_module": "@jupyter-widgets/base",
      "model_module_version": "1.2.0",
      "model_name": "LayoutModel",
      "state": {}
     },
     "c66a762ef33d4dd5bf94c8c5c8956d27": {
      "model_module": "@quantum/ibm-q-lab-widgets",
      "model_module_version": "^1.0.3",
      "model_name": "CircuitComposerModel",
      "state": {
       "_model_module_version": "^1.0.3",
       "_view_module_version": "^1.0.3",
       "circuit": "\"OPENQASM 2.0;\\ninclude \\\"qelib1.inc\\\";\\n\\nqreg q[2];\\ncreg c[2];\\n\\nh q[0];\\ncx q[0],q[1];\"",
       "editable": true,
       "layout": "IPY_MODEL_f7f6480bb64543d5807abfdd86c0d657",
       "qiskit_code_cell_index": -1
      }
     },
     "c7359d95ad4b403c95787cd8b0efcd6f": {
      "model_module": "@jupyter-widgets/base",
      "model_module_version": "1.2.0",
      "model_name": "LayoutModel",
      "state": {}
     },
     "c79f2c1859de4e6c8514bf9b2eced5f8": {
      "model_module": "@jupyter-widgets/base",
      "model_module_version": "1.2.0",
      "model_name": "LayoutModel",
      "state": {}
     },
     "c7b97b4e592242f9a45480bc038a8b3d": {
      "model_module": "@quantum/ibm-q-lab-widgets",
      "model_module_version": "^1.0.3",
      "model_name": "CircuitComposerModel",
      "state": {
       "_model_module_version": "^1.0.3",
       "_view_module_version": "^1.0.3",
       "circuit": "\"OPENQASM 2.0;\\ninclude \\\"qelib1.inc\\\";\\n\\nqreg q[2];\\ncreg c[2];\\n\\nh q[0];\\nh q[1];\\ncx q[0],q[1];\"",
       "editable": true,
       "layout": "IPY_MODEL_6ede69933cc94b12bb9938140fe39027",
       "qiskit_code_cell_index": -1
      }
     },
     "c7c322ab7afe48228a6e22879faa8f98": {
      "model_module": "@jupyter-widgets/base",
      "model_module_version": "1.2.0",
      "model_name": "LayoutModel",
      "state": {}
     },
     "c7ee49c03c5e44f1965c875bd927764f": {
      "model_module": "@quantum/ibm-q-lab-widgets",
      "model_module_version": "^1.0.3",
      "model_name": "CircuitComposerModel",
      "state": {
       "_model_module_version": "^1.0.3",
       "_view_module_version": "^1.0.3",
       "circuit": "\"OPENQASM 2.0;\\ninclude \\\"qelib1.inc\\\";\\n\\nqreg q[2];\\ncreg c[2];\\n\\nh q[0];\\ncx q[0],q[1];\"",
       "editable": true,
       "layout": "IPY_MODEL_fb9f556e2ec24ce5b7c36829f0a8ffce",
       "qiskit_code_cell_index": -1
      }
     },
     "c7febcdd794647518c12a54c97008606": {
      "model_module": "@quantum/ibm-q-lab-widgets",
      "model_module_version": "^1.0.3",
      "model_name": "CircuitComposerModel",
      "state": {
       "_model_module_version": "^1.0.3",
       "_view_module_version": "^1.0.3",
       "circuit": "\"OPENQASM 2.0;\\ninclude \\\"qelib1.inc\\\";\\n\\nqreg q[2];\\ncreg c[2];\\n\\n\"",
       "editable": true,
       "layout": "IPY_MODEL_db206b5676e34cafa65a7a15a2d64c70",
       "qiskit_code_cell_index": -1
      }
     },
     "c8297d0b4bc94956ba07aae9e4d1d05a": {
      "model_module": "@jupyter-widgets/base",
      "model_module_version": "1.2.0",
      "model_name": "LayoutModel",
      "state": {}
     },
     "c877a7f0f0504b9abafb881e30475e5c": {
      "model_module": "@quantum/ibm-q-lab-widgets",
      "model_module_version": "^1.0.3",
      "model_name": "CircuitComposerModel",
      "state": {
       "_model_module_version": "^1.0.3",
       "_view_module_version": "^1.0.3",
       "circuit": "\"OPENQASM 2.0;\\ninclude \\\"qelib1.inc\\\";\\n\\nqreg q[2];\\ncreg c[2];\\n\\n\"",
       "editable": true,
       "layout": "IPY_MODEL_fc1a1e7927da4794a388fa20b114c558",
       "qiskit_code_cell_index": -1
      }
     },
     "c891594875c4445a9083536ceab3b691": {
      "model_module": "@quantum/ibm-q-lab-widgets",
      "model_module_version": "^1.0.3",
      "model_name": "CircuitComposerModel",
      "state": {
       "_model_module_version": "^1.0.3",
       "_view_module_version": "^1.0.3",
       "circuit": "\"OPENQASM 2.0;\\ninclude \\\"qelib1.inc\\\";\\n\\nqreg q[2];\\ncreg c[2];\\n\\nh q[0];\\nh q[1];\\nx q[0];\\nx q[1];\"",
       "editable": true,
       "layout": "IPY_MODEL_e304d15255f94a86933365e3055dbffe",
       "qiskit_code_cell_index": -1
      }
     },
     "c8dc88a01de94b628f34383a8d3a55fb": {
      "model_module": "@jupyter-widgets/base",
      "model_module_version": "1.2.0",
      "model_name": "LayoutModel",
      "state": {}
     },
     "c90a7059a0704aa4a460363eb32bc0c1": {
      "model_module": "@quantum/ibm-q-lab-widgets",
      "model_module_version": "^1.0.3",
      "model_name": "CircuitComposerModel",
      "state": {
       "_model_module_version": "^1.0.3",
       "_view_module_version": "^1.0.3",
       "circuit": "\"OPENQASM 2.0;\\ninclude \\\"qelib1.inc\\\";\\n\\nqreg q[2];\\ncreg c[2];\\n\\n\"",
       "editable": true,
       "layout": "IPY_MODEL_8dca2092e9b74fb39fe0bf7838a1356f",
       "qiskit_code_cell_index": -1
      }
     },
     "c91b55671a02489f8535b4eeb1f48f1a": {
      "model_module": "@jupyter-widgets/base",
      "model_module_version": "1.2.0",
      "model_name": "LayoutModel",
      "state": {}
     },
     "c92a423ec09e416487d86e87103408b2": {
      "model_module": "@jupyter-widgets/base",
      "model_module_version": "1.2.0",
      "model_name": "LayoutModel",
      "state": {}
     },
     "c947c7ffc2f947598bbeb1c9c34f8181": {
      "model_module": "@quantum/ibm-q-lab-widgets",
      "model_module_version": "^1.0.3",
      "model_name": "CircuitComposerModel",
      "state": {
       "_model_module_version": "^1.0.3",
       "_view_module_version": "^1.0.3",
       "circuit": "\"OPENQASM 2.0;\\ninclude \\\"qelib1.inc\\\";\\n\\nqreg q[2];\\ncreg c[2];\\n\\n\"",
       "editable": true,
       "layout": "IPY_MODEL_7db756e013524530b6b89276f67de4d9",
       "qiskit_code_cell_index": -1
      }
     },
     "ca765d5aff874f9c8593632fd8ea006f": {
      "model_module": "@jupyter-widgets/base",
      "model_module_version": "1.2.0",
      "model_name": "LayoutModel",
      "state": {}
     },
     "caa46a2e6ed648858af1e22ea4a508a8": {
      "model_module": "@jupyter-widgets/base",
      "model_module_version": "1.2.0",
      "model_name": "LayoutModel",
      "state": {}
     },
     "cb2a188149784afcac833d06a63b6e0b": {
      "model_module": "@quantum/ibm-q-lab-widgets",
      "model_module_version": "^1.0.3",
      "model_name": "CircuitComposerModel",
      "state": {
       "_model_module_version": "^1.0.3",
       "_view_module_version": "^1.0.3",
       "circuit": "\"OPENQASM 2.0;\\ninclude \\\"qelib1.inc\\\";\\n\\nqreg q[2];\\ncreg c[2];\\n\\nh q[0];\\nh q[1];\\ncx q[0],q[1];\\ny q[0];\\nx q[0];\\nt q[0];\\nh q[1];\"",
       "editable": true,
       "layout": "IPY_MODEL_3e2527ffd302444484560c69370961cf",
       "qiskit_code_cell_index": -1
      }
     },
     "cc0e4d5621e2439a8ab4a10c821272c7": {
      "model_module": "@quantum/ibm-q-lab-widgets",
      "model_module_version": "^1.0.3",
      "model_name": "CircuitComposerModel",
      "state": {
       "_model_module_version": "^1.0.3",
       "_view_module_version": "^1.0.3",
       "circuit": "\"OPENQASM 2.0;\\ninclude \\\"qelib1.inc\\\";\\n\\nqreg q[2];\\ncreg c[2];\\n\\n\"",
       "editable": true,
       "layout": "IPY_MODEL_ba3c0839ce604338907f8dd6b53f1b18",
       "qiskit_code_cell_index": -1
      }
     },
     "cc3ac592811a40b88136e51814648eb8": {
      "model_module": "@quantum/ibm-q-lab-widgets",
      "model_module_version": "^1.0.3",
      "model_name": "CircuitComposerModel",
      "state": {
       "_model_module_version": "^1.0.3",
       "_view_module_version": "^1.0.3",
       "circuit": "\"OPENQASM 2.0;\\ninclude \\\"qelib1.inc\\\";\\n\\nqreg q[2];\\ncreg c[2];\\n\\nh q[0];\\nh q[1];\"",
       "editable": true,
       "layout": "IPY_MODEL_415261d83bec481e85aae05287c635f8",
       "qiskit_code_cell_index": -1
      }
     },
     "ccca2279a8504fb9b74f3dda750cfc9a": {
      "model_module": "@jupyter-widgets/base",
      "model_module_version": "1.2.0",
      "model_name": "LayoutModel",
      "state": {}
     },
     "ccf4efc1494245bb872c5cc037037d7d": {
      "model_module": "@quantum/ibm-q-lab-widgets",
      "model_module_version": "^1.0.3",
      "model_name": "CircuitComposerModel",
      "state": {
       "_model_module_version": "^1.0.3",
       "_view_module_version": "^1.0.3",
       "circuit": "\"OPENQASM 2.0;\\ninclude \\\"qelib1.inc\\\";\\n\\nqreg q[2];\\ncreg c[2];\\n\\n\"",
       "editable": true,
       "layout": "IPY_MODEL_51227fe1bfb546f2899f6696446eed9d",
       "qiskit_code_cell_index": -1
      }
     },
     "ccfc4faadc1941d4bf16d319942ec277": {
      "model_module": "@jupyter-widgets/base",
      "model_module_version": "1.2.0",
      "model_name": "LayoutModel",
      "state": {}
     },
     "cd6e2a459a174d96a1fe52b2e451be31": {
      "model_module": "@quantum/ibm-q-lab-widgets",
      "model_module_version": "^1.0.3",
      "model_name": "CircuitComposerModel",
      "state": {
       "_model_module_version": "^1.0.3",
       "_view_module_version": "^1.0.3",
       "circuit": "\"OPENQASM 2.0;\\ninclude \\\"qelib1.inc\\\";\\n\\nqreg q[2];\\ncreg c[2];\\n\\n\"",
       "editable": true,
       "layout": "IPY_MODEL_8bfef29a4d17403d9f15f8d029a7c5a6",
       "qiskit_code_cell_index": -1
      }
     },
     "ce25dc3be16a4e55a1fddc911ed4abac": {
      "model_module": "@jupyter-widgets/base",
      "model_module_version": "1.2.0",
      "model_name": "LayoutModel",
      "state": {}
     },
     "d06f6256ecc04f1688654b70110e990c": {
      "model_module": "@jupyter-widgets/base",
      "model_module_version": "1.2.0",
      "model_name": "LayoutModel",
      "state": {}
     },
     "d0cfe3429af14afa8b5e6b658fe5cb66": {
      "model_module": "@quantum/ibm-q-lab-widgets",
      "model_module_version": "^1.0.3",
      "model_name": "CircuitComposerModel",
      "state": {
       "_model_module_version": "^1.0.3",
       "_view_module_version": "^1.0.3",
       "circuit": "\"OPENQASM 2.0;\\ninclude \\\"qelib1.inc\\\";\\n\\nqreg q[2];\\ncreg c[2];\\n\\nh q[0];\\ncx q[0],q[1];\"",
       "editable": true,
       "layout": "IPY_MODEL_daa2eac8d69d46adbdfc87edf3a3bc5b",
       "qiskit_code_cell_index": -1
      }
     },
     "d0f7115f8ee147168e2b2f0b475847f6": {
      "model_module": "@jupyter-widgets/base",
      "model_module_version": "1.2.0",
      "model_name": "LayoutModel",
      "state": {}
     },
     "d1bd427a21784890bb024df55f0f9bbe": {
      "model_module": "@quantum/ibm-q-lab-widgets",
      "model_module_version": "^1.0.3",
      "model_name": "CircuitComposerModel",
      "state": {
       "_model_module_version": "^1.0.3",
       "_view_module_version": "^1.0.3",
       "circuit": "\"OPENQASM 2.0;\\ninclude \\\"qelib1.inc\\\";\\n\\nqreg q[2];\\ncreg c[2];\\n\\nh q[0];\\nh q[1];\\ncx q[0],q[1];\\nh q[0];\\nh q[1];\"",
       "editable": true,
       "layout": "IPY_MODEL_6a941725a0a1452fbc2ff982d3f51ef8",
       "qiskit_code_cell_index": -1
      }
     },
     "d230bb5503d748e6ad238d8a980538ac": {
      "model_module": "@jupyter-widgets/base",
      "model_module_version": "1.2.0",
      "model_name": "LayoutModel",
      "state": {}
     },
     "d28d743f62c84434a7cd18ea98cc8be2": {
      "model_module": "@quantum/ibm-q-lab-widgets",
      "model_module_version": "^1.0.3",
      "model_name": "CircuitComposerModel",
      "state": {
       "_model_module_version": "^1.0.3",
       "_view_module_version": "^1.0.3",
       "circuit": "\"OPENQASM 2.0;\\ninclude \\\"qelib1.inc\\\";\\n\\nqreg q[2];\\ncreg c[2];\\n\\n\"",
       "editable": true,
       "layout": "IPY_MODEL_f0b90630274e43858170752f1f0bdffa",
       "qiskit_code_cell_index": -1
      }
     },
     "d345371abe464f44b5d243ae6b12292c": {
      "model_module": "@jupyter-widgets/base",
      "model_module_version": "1.2.0",
      "model_name": "LayoutModel",
      "state": {}
     },
     "d37672b1090c402f8355f1d6583bbf4d": {
      "model_module": "@quantum/ibm-q-lab-widgets",
      "model_module_version": "^1.0.3",
      "model_name": "CircuitComposerModel",
      "state": {
       "_model_module_version": "^1.0.3",
       "_view_module_version": "^1.0.3",
       "circuit": "\"OPENQASM 2.0;\\ninclude \\\"qelib1.inc\\\";\\n\\nqreg q[2];\\ncreg c[2];\\n\\nh q[0];\\nh q[0];\\nh q[1];\"",
       "editable": true,
       "layout": "IPY_MODEL_2de1a8da8a3c43f9bc6e2478f44de99f",
       "qiskit_code_cell_index": -1
      }
     },
     "d3c682adab9e447887d7926912bfad46": {
      "model_module": "@quantum/ibm-q-lab-widgets",
      "model_module_version": "^1.0.3",
      "model_name": "CircuitComposerModel",
      "state": {
       "_model_module_version": "^1.0.3",
       "_view_module_version": "^1.0.3",
       "circuit": "\"OPENQASM 2.0;\\ninclude \\\"qelib1.inc\\\";\\n\\nqreg q[2];\\ncreg c[2];\\n\\n\"",
       "editable": true,
       "layout": "IPY_MODEL_97ec65c1413341bfb9f4acbdcd49ab80",
       "qiskit_code_cell_index": -1
      }
     },
     "d3e249a5d6674b16918bb0379083135b": {
      "model_module": "@jupyter-widgets/base",
      "model_module_version": "1.2.0",
      "model_name": "LayoutModel",
      "state": {}
     },
     "d4703f4ff853450092c9a630cf9ffd57": {
      "model_module": "@quantum/ibm-q-lab-widgets",
      "model_module_version": "^1.0.3",
      "model_name": "CircuitComposerModel",
      "state": {
       "_model_module_version": "^1.0.3",
       "_view_module_version": "^1.0.3",
       "circuit": "\"OPENQASM 2.0;\\ninclude \\\"qelib1.inc\\\";\\n\\nqreg q[2];\\ncreg c[2];\\n\\n\"",
       "editable": true,
       "layout": "IPY_MODEL_afc55c2df2b54211aaa4c14baa46528f",
       "qiskit_code_cell_index": -1
      }
     },
     "d5bbe7a8b8ed47d1adbd57a2f7916286": {
      "model_module": "@jupyter-widgets/base",
      "model_module_version": "1.2.0",
      "model_name": "LayoutModel",
      "state": {}
     },
     "d723d46fd896428cb475282f8d60213f": {
      "model_module": "@quantum/ibm-q-lab-widgets",
      "model_module_version": "^1.0.3",
      "model_name": "CircuitComposerModel",
      "state": {
       "_model_module_version": "^1.0.3",
       "_view_module_version": "^1.0.3",
       "circuit": "\"OPENQASM 2.0;\\ninclude \\\"qelib1.inc\\\";\\n\\nqreg q[2];\\ncreg c[2];\\n\\nh q[0];\\ncx q[0],q[1];\"",
       "editable": true,
       "layout": "IPY_MODEL_39e680a055634d5a92319f48dbd3cfca",
       "qiskit_code_cell_index": -1
      }
     },
     "d812578589284455b89a48a1bafdf6c1": {
      "model_module": "@quantum/ibm-q-lab-widgets",
      "model_module_version": "^1.0.3",
      "model_name": "CircuitComposerModel",
      "state": {
       "_model_module_version": "^1.0.3",
       "_view_module_version": "^1.0.3",
       "circuit": "\"OPENQASM 2.0;\\ninclude \\\"qelib1.inc\\\";\\n\\nqreg q[2];\\ncreg c[2];\\n\\n\"",
       "editable": true,
       "layout": "IPY_MODEL_1680e35095d64a65aa47f8603bf3c7d4",
       "qiskit_code_cell_index": -1
      }
     },
     "d82e0d52ed7e4496b32bd7929ea0982b": {
      "model_module": "@quantum/ibm-q-lab-widgets",
      "model_module_version": "^1.0.3",
      "model_name": "CircuitComposerModel",
      "state": {
       "_model_module_version": "^1.0.3",
       "_view_module_version": "^1.0.3",
       "circuit": "\"OPENQASM 2.0;\\ninclude \\\"qelib1.inc\\\";\\n\\nqreg q[2];\\ncreg c[2];\\n\\n\"",
       "editable": true,
       "layout": "IPY_MODEL_bf65617846d6451f96adac8a22b9ba92",
       "qiskit_code_cell_index": -1
      }
     },
     "d86df09ed20b48258c1cdfca6129eddf": {
      "model_module": "@quantum/ibm-q-lab-widgets",
      "model_module_version": "^1.0.3",
      "model_name": "CircuitComposerModel",
      "state": {
       "_model_module_version": "^1.0.3",
       "_view_module_version": "^1.0.3",
       "circuit": "\"OPENQASM 2.0;\\ninclude \\\"qelib1.inc\\\";\\n\\nqreg q[2];\\ncreg c[2];\\n\\n\"",
       "editable": true,
       "layout": "IPY_MODEL_1128c41473554ab5bc8edbd25fac1a86",
       "qiskit_code_cell_index": -1
      }
     },
     "d89f4583a50c451a960e25bd95fa6b42": {
      "model_module": "@quantum/ibm-q-lab-widgets",
      "model_module_version": "^1.0.3",
      "model_name": "CircuitComposerModel",
      "state": {
       "_model_module_version": "^1.0.3",
       "_view_module_version": "^1.0.3",
       "circuit": "\"OPENQASM 2.0;\\ninclude \\\"qelib1.inc\\\";\\n\\nqreg q[2];\\ncreg c[2];\\n\\n\"",
       "editable": true,
       "layout": "IPY_MODEL_ff5a009596d74884a30d7b7f098c44cd",
       "qiskit_code_cell_index": -1
      }
     },
     "d9a90b872edb4b2b9d26e093ae7e1666": {
      "model_module": "@quantum/ibm-q-lab-widgets",
      "model_module_version": "^1.0.3",
      "model_name": "CircuitComposerModel",
      "state": {
       "_model_module_version": "^1.0.3",
       "_view_module_version": "^1.0.3",
       "circuit": "\"OPENQASM 2.0;\\ninclude \\\"qelib1.inc\\\";\\n\\nqreg q[2];\\ncreg c[2];\\n\\n\"",
       "editable": true,
       "layout": "IPY_MODEL_4b3a81a98e294d23a746be56a568a82b",
       "qiskit_code_cell_index": -1
      }
     },
     "daa2eac8d69d46adbdfc87edf3a3bc5b": {
      "model_module": "@jupyter-widgets/base",
      "model_module_version": "1.2.0",
      "model_name": "LayoutModel",
      "state": {}
     },
     "daa995cac7e64257a191acf96b1284b3": {
      "model_module": "@jupyter-widgets/base",
      "model_module_version": "1.2.0",
      "model_name": "LayoutModel",
      "state": {}
     },
     "db206b5676e34cafa65a7a15a2d64c70": {
      "model_module": "@jupyter-widgets/base",
      "model_module_version": "1.2.0",
      "model_name": "LayoutModel",
      "state": {}
     },
     "db30f42755e84c3395b5725952d32c95": {
      "model_module": "@quantum/ibm-q-lab-widgets",
      "model_module_version": "^1.0.3",
      "model_name": "CircuitComposerModel",
      "state": {
       "_model_module_version": "^1.0.3",
       "_view_module_version": "^1.0.3",
       "circuit": "\"OPENQASM 2.0;\\ninclude \\\"qelib1.inc\\\";\\n\\nqreg q[2];\\ncreg c[2];\\n\\n\"",
       "editable": true,
       "layout": "IPY_MODEL_2565d52712894408a9aca73bda231b00",
       "qiskit_code_cell_index": -1
      }
     },
     "db526552ec4044b0a381017851518441": {
      "model_module": "@jupyter-widgets/base",
      "model_module_version": "1.2.0",
      "model_name": "LayoutModel",
      "state": {}
     },
     "dba623ca527048989128f67960e6f838": {
      "model_module": "@jupyter-widgets/base",
      "model_module_version": "1.2.0",
      "model_name": "LayoutModel",
      "state": {}
     },
     "dbb85fc4e701456c84b96c9ef6d64556": {
      "model_module": "@jupyter-widgets/base",
      "model_module_version": "1.2.0",
      "model_name": "LayoutModel",
      "state": {}
     },
     "dc63c4e6a3e64688856fcd38a0a14bda": {
      "model_module": "@quantum/ibm-q-lab-widgets",
      "model_module_version": "^1.0.3",
      "model_name": "CircuitComposerModel",
      "state": {
       "_model_module_version": "^1.0.3",
       "_view_module_version": "^1.0.3",
       "circuit": "\"OPENQASM 2.0;\\ninclude \\\"qelib1.inc\\\";\\n\\nqreg q[2];\\ncreg c[2];\\n\\n\"",
       "editable": true,
       "layout": "IPY_MODEL_7539499344f34fd0818383bf8e8e5a4a",
       "qiskit_code_cell_index": -1
      }
     },
     "dcd1b790dd4b475bbf3388630ad3de9c": {
      "model_module": "@jupyter-widgets/base",
      "model_module_version": "1.2.0",
      "model_name": "LayoutModel",
      "state": {}
     },
     "dd21c67f79eb4d209755caa1679d3837": {
      "model_module": "@quantum/ibm-q-lab-widgets",
      "model_module_version": "^1.0.3",
      "model_name": "CircuitComposerModel",
      "state": {
       "_model_module_version": "^1.0.3",
       "_view_module_version": "^1.0.3",
       "circuit": "\"OPENQASM 2.0;\\ninclude \\\"qelib1.inc\\\";\\n\\nqreg q[2];\\ncreg c[2];\\n\\nh q[0];\\nh q[1];\\ncx q[0],q[1];\\nh q[0];\\nh q[1];\\ncx q[0],q[1];\\nh q[1];\\nx q[1];\"",
       "editable": true,
       "layout": "IPY_MODEL_5bd58a1992544ed9b15f4f244f852069",
       "qiskit_code_cell_index": -1
      }
     },
     "dea1ed632db24e6bb6841928ae9c4011": {
      "model_module": "@jupyter-widgets/base",
      "model_module_version": "1.2.0",
      "model_name": "LayoutModel",
      "state": {}
     },
     "ded9f4e4ff75407da4c282e7677640b1": {
      "model_module": "@quantum/ibm-q-lab-widgets",
      "model_module_version": "^1.0.3",
      "model_name": "CircuitComposerModel",
      "state": {
       "_model_module_version": "^1.0.3",
       "_view_module_version": "^1.0.3",
       "circuit": "\"OPENQASM 2.0;\\ninclude \\\"qelib1.inc\\\";\\n\\nqreg q[3];\\ncreg c[3];\\n\\nh q[0];\\nh q[1];\\nh q[2];\"",
       "editable": true,
       "layout": "IPY_MODEL_9b5fa93c21e24010a1d96d14f1f97135",
       "qiskit_code_cell_index": -1
      }
     },
     "def25e2e74484544af872135e2564cc1": {
      "model_module": "@jupyter-widgets/base",
      "model_module_version": "1.2.0",
      "model_name": "LayoutModel",
      "state": {}
     },
     "df1640036f2f4056a119dd36c8ff7bba": {
      "model_module": "@quantum/ibm-q-lab-widgets",
      "model_module_version": "^1.0.3",
      "model_name": "CircuitComposerModel",
      "state": {
       "_model_module_version": "^1.0.3",
       "_view_module_version": "^1.0.3",
       "circuit": "\"OPENQASM 2.0;\\ninclude \\\"qelib1.inc\\\";\\n\\nqreg q[2];\\ncreg c[2];\\n\\nh q[0];\\nx q[0];\\nh q[0];\\nh q[1];\"",
       "editable": true,
       "layout": "IPY_MODEL_f8405b6c18894f5182ff07249fdb8959",
       "qiskit_code_cell_index": -1
      }
     },
     "df3ba8cfd5de4f9298b476547786c297": {
      "model_module": "@jupyter-widgets/base",
      "model_module_version": "1.2.0",
      "model_name": "LayoutModel",
      "state": {}
     },
     "df6f8f837d7c451f99816fa4291e009c": {
      "model_module": "@quantum/ibm-q-lab-widgets",
      "model_module_version": "^1.0.3",
      "model_name": "CircuitComposerModel",
      "state": {
       "_model_module_version": "^1.0.3",
       "_view_module_version": "^1.0.3",
       "circuit": "\"OPENQASM 2.0;\\ninclude \\\"qelib1.inc\\\";\\n\\nqreg q[2];\\ncreg c[2];\\n\\nh q[0];\\ncx q[0],q[1];\"",
       "editable": true,
       "layout": "IPY_MODEL_7d416b33c2fd4e7f9a670e3b73487c6f",
       "qiskit_code_cell_index": -1
      }
     },
     "df9004eb58f949ae8e93681c7bf5637d": {
      "model_module": "@jupyter-widgets/base",
      "model_module_version": "1.2.0",
      "model_name": "LayoutModel",
      "state": {}
     },
     "e00200e37a184ec594fe2f78a00a6ced": {
      "model_module": "@quantum/ibm-q-lab-widgets",
      "model_module_version": "^1.0.3",
      "model_name": "CircuitComposerModel",
      "state": {
       "_model_module_version": "^1.0.3",
       "_view_module_version": "^1.0.3",
       "circuit": "\"OPENQASM 2.0;\\ninclude \\\"qelib1.inc\\\";\\n\\nqreg q[2];\\ncreg c[2];\\n\\n\"",
       "editable": true,
       "layout": "IPY_MODEL_e3f8d05f1ae94c698241648aa8424744",
       "qiskit_code_cell_index": -1
      }
     },
     "e0b0edf761524e5c9dd4dd64d441c009": {
      "model_module": "@quantum/ibm-q-lab-widgets",
      "model_module_version": "^1.0.3",
      "model_name": "CircuitComposerModel",
      "state": {
       "_model_module_version": "^1.0.3",
       "_view_module_version": "^1.0.3",
       "circuit": "\"OPENQASM 2.0;\\ninclude \\\"qelib1.inc\\\";\\n\\nqreg q[2];\\ncreg c[2];\\n\\nh q[0];\\nh q[1];\\ncx q[0],q[1];\"",
       "editable": true,
       "layout": "IPY_MODEL_fba74a456a694ba5b47d0e408a7b8cde",
       "qiskit_code_cell_index": -1
      }
     },
     "e0d56d6180e54fb99fbbf2de5406d114": {
      "model_module": "@quantum/ibm-q-lab-widgets",
      "model_module_version": "^1.0.3",
      "model_name": "CircuitComposerModel",
      "state": {
       "_model_module_version": "^1.0.3",
       "_view_module_version": "^1.0.3",
       "circuit": "\"OPENQASM 2.0;\\ninclude \\\"qelib1.inc\\\";\\n\\nqreg q[2];\\ncreg c[2];\\n\\n\"",
       "editable": true,
       "layout": "IPY_MODEL_a9c0cc82e456431f905b80c45b776cf7",
       "qiskit_code_cell_index": -1
      }
     },
     "e11563987c6f4fec8c8bb6993d3b6455": {
      "model_module": "@jupyter-widgets/base",
      "model_module_version": "1.2.0",
      "model_name": "LayoutModel",
      "state": {}
     },
     "e22e661051a74b25a63971c9f368fddf": {
      "model_module": "@quantum/ibm-q-lab-widgets",
      "model_module_version": "^1.0.3",
      "model_name": "CircuitComposerModel",
      "state": {
       "_model_module_version": "^1.0.3",
       "_view_module_version": "^1.0.3",
       "circuit": "\"OPENQASM 2.0;\\ninclude \\\"qelib1.inc\\\";\\n\\nqreg q[2];\\ncreg c[2];\\n\\n\"",
       "editable": true,
       "layout": "IPY_MODEL_b79d105622ef435b80b0dbaeb5957240",
       "qiskit_code_cell_index": -1
      }
     },
     "e26075991359467db31b5b7820196479": {
      "model_module": "@quantum/ibm-q-lab-widgets",
      "model_module_version": "^1.0.3",
      "model_name": "CircuitComposerModel",
      "state": {
       "_model_module_version": "^1.0.3",
       "_view_module_version": "^1.0.3",
       "circuit": "\"OPENQASM 2.0;\\ninclude \\\"qelib1.inc\\\";\\n\\nqreg q[2];\\ncreg c[2];\\n\\nh q[0];\\nh q[0];\\nh q[1];\\ns q[1];\"",
       "editable": true,
       "layout": "IPY_MODEL_e4cab396356c4d7fa819ababdf3994ce",
       "qiskit_code_cell_index": -1
      }
     },
     "e2ca96f2d0694120985ffed14e49545e": {
      "model_module": "@quantum/ibm-q-lab-widgets",
      "model_module_version": "^1.0.3",
      "model_name": "CircuitComposerModel",
      "state": {
       "_model_module_version": "^1.0.3",
       "_view_module_version": "^1.0.3",
       "circuit": "\"OPENQASM 2.0;\\ninclude \\\"qelib1.inc\\\";\\n\\nqreg q[2];\\ncreg c[2];\\n\\n\"",
       "editable": true,
       "layout": "IPY_MODEL_6aff46b9824f4a85bb13c96cb699260c",
       "qiskit_code_cell_index": -1
      }
     },
     "e2d3c6c5e0594c4a907f888a3c134795": {
      "model_module": "@quantum/ibm-q-lab-widgets",
      "model_module_version": "^1.0.3",
      "model_name": "CircuitComposerModel",
      "state": {
       "_model_module_version": "^1.0.3",
       "_view_module_version": "^1.0.3",
       "circuit": "\"OPENQASM 2.0;\\ninclude \\\"qelib1.inc\\\";\\n\\nqreg q[2];\\ncreg c[2];\\n\\n\"",
       "editable": true,
       "layout": "IPY_MODEL_df9004eb58f949ae8e93681c7bf5637d",
       "qiskit_code_cell_index": -1
      }
     },
     "e2ecc2b2ed224569b3cbe479a066af55": {
      "model_module": "@jupyter-widgets/base",
      "model_module_version": "1.2.0",
      "model_name": "LayoutModel",
      "state": {}
     },
     "e304d15255f94a86933365e3055dbffe": {
      "model_module": "@jupyter-widgets/base",
      "model_module_version": "1.2.0",
      "model_name": "LayoutModel",
      "state": {}
     },
     "e3279fd10d4d42fc96bc959f55af5b17": {
      "model_module": "@quantum/ibm-q-lab-widgets",
      "model_module_version": "^1.0.3",
      "model_name": "CircuitComposerModel",
      "state": {
       "_model_module_version": "^1.0.3",
       "_view_module_version": "^1.0.3",
       "circuit": "\"OPENQASM 2.0;\\ninclude \\\"qelib1.inc\\\";\\n\\nqreg q[2];\\ncreg c[2];\\n\\nh q[0];\\nt q[1];\"",
       "editable": true,
       "layout": "IPY_MODEL_64aed5bfec754a03878331a34a6a6042",
       "qiskit_code_cell_index": -1
      }
     },
     "e3bd7f82b5434cc1a7952b299cf5bbfd": {
      "model_module": "@quantum/ibm-q-lab-widgets",
      "model_module_version": "^1.0.3",
      "model_name": "CircuitComposerModel",
      "state": {
       "_model_module_version": "^1.0.3",
       "_view_module_version": "^1.0.3",
       "circuit": "\"OPENQASM 2.0;\\ninclude \\\"qelib1.inc\\\";\\n\\nqreg q[2];\\ncreg c[2];\\n\\nh q[0];\\nh q[1];\\nx q[1];\"",
       "editable": true,
       "layout": "IPY_MODEL_50f6ebbf00ff45859162a8bd72463e33",
       "qiskit_code_cell_index": -1
      }
     },
     "e3de5963bc0e4005a4982cfa2f6c4a3d": {
      "model_module": "@quantum/ibm-q-lab-widgets",
      "model_module_version": "^1.0.3",
      "model_name": "CircuitComposerModel",
      "state": {
       "_model_module_version": "^1.0.3",
       "_view_module_version": "^1.0.3",
       "circuit": "\"OPENQASM 2.0;\\ninclude \\\"qelib1.inc\\\";\\n\\nqreg q[2];\\ncreg c[2];\\n\\n\"",
       "editable": true,
       "layout": "IPY_MODEL_5174c0168f064d7b8ef68b6901e279b9",
       "qiskit_code_cell_index": -1
      }
     },
     "e3f8d05f1ae94c698241648aa8424744": {
      "model_module": "@jupyter-widgets/base",
      "model_module_version": "1.2.0",
      "model_name": "LayoutModel",
      "state": {}
     },
     "e43d9d42658e4515a4e2747454fbdd78": {
      "model_module": "@quantum/ibm-q-lab-widgets",
      "model_module_version": "^1.0.3",
      "model_name": "CircuitComposerModel",
      "state": {
       "_model_module_version": "^1.0.3",
       "_view_module_version": "^1.0.3",
       "circuit": "\"OPENQASM 2.0;\\ninclude \\\"qelib1.inc\\\";\\n\\nqreg q[2];\\ncreg c[2];\\n\\nh q[0];\\nh q[1];\"",
       "editable": true,
       "layout": "IPY_MODEL_28a634bf9a184d72be825bbdf3af383d",
       "qiskit_code_cell_index": -1
      }
     },
     "e4cab396356c4d7fa819ababdf3994ce": {
      "model_module": "@jupyter-widgets/base",
      "model_module_version": "1.2.0",
      "model_name": "LayoutModel",
      "state": {}
     },
     "e50721430e7e4d6cb09aa3ac4b59f09b": {
      "model_module": "@quantum/ibm-q-lab-widgets",
      "model_module_version": "^1.0.3",
      "model_name": "CircuitComposerModel",
      "state": {
       "_model_module_version": "^1.0.3",
       "_view_module_version": "^1.0.3",
       "circuit": "\"OPENQASM 2.0;\\ninclude \\\"qelib1.inc\\\";\\n\\nqreg q[2];\\ncreg c[2];\\n\\nh q[0];\\nh q[1];\"",
       "editable": true,
       "layout": "IPY_MODEL_35736d3219d44314a9a7a7a67c984fa0",
       "qiskit_code_cell_index": -1
      }
     },
     "e5b9154e96114aaf935a05ae60f9377e": {
      "model_module": "@quantum/ibm-q-lab-widgets",
      "model_module_version": "^1.0.3",
      "model_name": "CircuitComposerModel",
      "state": {
       "_model_module_version": "^1.0.3",
       "_view_module_version": "^1.0.3",
       "circuit": "\"OPENQASM 2.0;\\ninclude \\\"qelib1.inc\\\";\\n\\nqreg q[2];\\ncreg c[2];\\n\\nh q[0];\\ncx q[0],q[1];\"",
       "editable": true,
       "layout": "IPY_MODEL_f3ffbd08a2754c41b5e783c414fbd4bd",
       "qiskit_code_cell_index": -1
      }
     },
     "e6c7f5919e014e4faec12aa344350574": {
      "model_module": "@jupyter-widgets/base",
      "model_module_version": "1.2.0",
      "model_name": "LayoutModel",
      "state": {}
     },
     "e6f5df9ede3f42d2b4fe6cb5532c8886": {
      "model_module": "@quantum/ibm-q-lab-widgets",
      "model_module_version": "^1.0.3",
      "model_name": "CircuitComposerModel",
      "state": {
       "_model_module_version": "^1.0.3",
       "_view_module_version": "^1.0.3",
       "circuit": "\"OPENQASM 2.0;\\ninclude \\\"qelib1.inc\\\";\\n\\nqreg q[2];\\ncreg c[2];\\n\\nh q[0];\\nx q[1];\"",
       "editable": true,
       "layout": "IPY_MODEL_4c04ef3ed24d42508a5e8a241e77182f",
       "qiskit_code_cell_index": -1
      }
     },
     "e7775147e148482899a80921c25864f9": {
      "model_module": "@jupyter-widgets/base",
      "model_module_version": "1.2.0",
      "model_name": "LayoutModel",
      "state": {}
     },
     "e78ab5d0d72e42b4bb432ab18326fb76": {
      "model_module": "@quantum/ibm-q-lab-widgets",
      "model_module_version": "^1.0.3",
      "model_name": "CircuitComposerModel",
      "state": {
       "_model_module_version": "^1.0.3",
       "_view_module_version": "^1.0.3",
       "circuit": "\"OPENQASM 2.0;\\ninclude \\\"qelib1.inc\\\";\\n\\nqreg q[2];\\ncreg c[2];\\n\\nh q[0];\\ncx q[0],q[1];\"",
       "editable": true,
       "layout": "IPY_MODEL_f46f60bcd37b4a4d86c3da416ae9a84e",
       "qiskit_code_cell_index": -1
      }
     },
     "e7c6158dcf4740deaaf84819557a8a64": {
      "model_module": "@jupyter-widgets/base",
      "model_module_version": "1.2.0",
      "model_name": "LayoutModel",
      "state": {}
     },
     "e7d5f0f991b141cc9f90de32e5ee2b88": {
      "model_module": "@quantum/ibm-q-lab-widgets",
      "model_module_version": "^1.0.3",
      "model_name": "CircuitComposerModel",
      "state": {
       "_model_module_version": "^1.0.3",
       "_view_module_version": "^1.0.3",
       "circuit": "\"OPENQASM 2.0;\\ninclude \\\"qelib1.inc\\\";\\n\\nqreg q[2];\\ncreg c[2];\\n\\nh q[0];\\ncx q[0],q[1];\"",
       "editable": true,
       "layout": "IPY_MODEL_4f9e6623fe554bdf883b83c4443e5de1",
       "qiskit_code_cell_index": -1
      }
     },
     "e7f1eb47c945415482df2e615a2e8c9b": {
      "model_module": "@quantum/ibm-q-lab-widgets",
      "model_module_version": "^1.0.3",
      "model_name": "CircuitComposerModel",
      "state": {
       "_model_module_version": "^1.0.3",
       "_view_module_version": "^1.0.3",
       "circuit": "\"OPENQASM 2.0;\\ninclude \\\"qelib1.inc\\\";\\n\\nqreg q[2];\\ncreg c[2];\\n\\nh q[0];\\nx q[0];\\nh q[1];\"",
       "editable": true,
       "layout": "IPY_MODEL_b7c2002c0dc64708ba6e6bb31538fc4b",
       "qiskit_code_cell_index": -1
      }
     },
     "e846e47799104d2c88a6cfab7370fc02": {
      "model_module": "@jupyter-widgets/base",
      "model_module_version": "1.2.0",
      "model_name": "LayoutModel",
      "state": {}
     },
     "e8d4098f9e0143b7b895baaf213e9b2a": {
      "model_module": "@jupyter-widgets/base",
      "model_module_version": "1.2.0",
      "model_name": "LayoutModel",
      "state": {}
     },
     "e9896a727e244a7f9ec2412265dde7c7": {
      "model_module": "@quantum/ibm-q-lab-widgets",
      "model_module_version": "^1.0.3",
      "model_name": "CircuitComposerModel",
      "state": {
       "_model_module_version": "^1.0.3",
       "_view_module_version": "^1.0.3",
       "circuit": "\"OPENQASM 2.0;\\ninclude \\\"qelib1.inc\\\";\\n\\nqreg q[2];\\ncreg c[2];\\n\\n\"",
       "editable": true,
       "layout": "IPY_MODEL_2982a879c55049318462c51f32fee910",
       "qiskit_code_cell_index": -1
      }
     },
     "e9bdcef08a9a49e28dee2f4750a83c4c": {
      "model_module": "@quantum/ibm-q-lab-widgets",
      "model_module_version": "^1.0.3",
      "model_name": "CircuitComposerModel",
      "state": {
       "_model_module_version": "^1.0.3",
       "_view_module_version": "^1.0.3",
       "circuit": "\"OPENQASM 2.0;\\ninclude \\\"qelib1.inc\\\";\\n\\nqreg q[2];\\ncreg c[2];\\n\\n\"",
       "editable": true,
       "layout": "IPY_MODEL_b8c5443cb3bb42a58cfa1f5a06468876",
       "qiskit_code_cell_index": -1
      }
     },
     "e9e161d32eec4826b42cb340b220cc20": {
      "model_module": "@quantum/ibm-q-lab-widgets",
      "model_module_version": "^1.0.3",
      "model_name": "CircuitComposerModel",
      "state": {
       "_model_module_version": "^1.0.3",
       "_view_module_version": "^1.0.3",
       "circuit": "\"OPENQASM 2.0;\\ninclude \\\"qelib1.inc\\\";\\n\\nqreg q[2];\\ncreg c[2];\\n\\n\"",
       "editable": true,
       "layout": "IPY_MODEL_3b656f529d8043d5b3fa97c79b4aac88",
       "qiskit_code_cell_index": -1
      }
     },
     "ea4ab8641d304550a04b15c130c5f47c": {
      "model_module": "@quantum/ibm-q-lab-widgets",
      "model_module_version": "^1.0.3",
      "model_name": "CircuitComposerModel",
      "state": {
       "_model_module_version": "^1.0.3",
       "_view_module_version": "^1.0.3",
       "circuit": "\"OPENQASM 2.0;\\ninclude \\\"qelib1.inc\\\";\\n\\nqreg q[2];\\ncreg c[2];\\n\\n\"",
       "editable": true,
       "layout": "IPY_MODEL_74ff9ed492e74edd9598dada66faedd5",
       "qiskit_code_cell_index": -1
      }
     },
     "ea76924f7340470eab04d1e8a264f6c8": {
      "model_module": "@quantum/ibm-q-lab-widgets",
      "model_module_version": "^1.0.3",
      "model_name": "CircuitComposerModel",
      "state": {
       "_model_module_version": "^1.0.3",
       "_view_module_version": "^1.0.3",
       "circuit": "\"OPENQASM 2.0;\\ninclude \\\"qelib1.inc\\\";\\n\\nqreg q[2];\\ncreg c[2];\\n\\nh q[0];\\nx q[0];\\nh q[0];\\nh q[1];\"",
       "editable": true,
       "layout": "IPY_MODEL_c7359d95ad4b403c95787cd8b0efcd6f",
       "qiskit_code_cell_index": -1
      }
     },
     "ea90582ca8f244efa63a29b5c281f0eb": {
      "model_module": "@quantum/ibm-q-lab-widgets",
      "model_module_version": "^1.0.3",
      "model_name": "CircuitComposerModel",
      "state": {
       "_model_module_version": "^1.0.3",
       "_view_module_version": "^1.0.3",
       "circuit": "\"OPENQASM 2.0;\\ninclude \\\"qelib1.inc\\\";\\n\\nqreg q[2];\\ncreg c[2];\\n\\n\"",
       "editable": true,
       "layout": "IPY_MODEL_caa46a2e6ed648858af1e22ea4a508a8",
       "qiskit_code_cell_index": -1
      }
     },
     "ebaac9dcae2e4ecc8e11bbf8462428ec": {
      "model_module": "@quantum/ibm-q-lab-widgets",
      "model_module_version": "^1.0.3",
      "model_name": "CircuitComposerModel",
      "state": {
       "_model_module_version": "^1.0.3",
       "_view_module_version": "^1.0.3",
       "circuit": "\"OPENQASM 2.0;\\ninclude \\\"qelib1.inc\\\";\\n\\nqreg q[2];\\ncreg c[2];\\n\\nh q[0];\\nx q[0];\\nh q[1];\"",
       "editable": true,
       "layout": "IPY_MODEL_2baf44340e834776b36a00477e988dde",
       "qiskit_code_cell_index": -1
      }
     },
     "ec94d1a880d74f5384b5b65c62944c9d": {
      "model_module": "@quantum/ibm-q-lab-widgets",
      "model_module_version": "^1.0.3",
      "model_name": "CircuitComposerModel",
      "state": {
       "_model_module_version": "^1.0.3",
       "_view_module_version": "^1.0.3",
       "circuit": "\"OPENQASM 2.0;\\ninclude \\\"qelib1.inc\\\";\\n\\nqreg q[2];\\ncreg c[2];\\n\\nh q[0];\\ncx q[0],q[1];\"",
       "editable": true,
       "layout": "IPY_MODEL_adb936213c46459db4b6c71e1ffb4eaa",
       "qiskit_code_cell_index": -1
      }
     },
     "ed057a10a12a44b1966a04c4b6827bf1": {
      "model_module": "@jupyter-widgets/base",
      "model_module_version": "1.2.0",
      "model_name": "LayoutModel",
      "state": {}
     },
     "ed45cbee01e14bf7bf718fe27198cf5d": {
      "model_module": "@jupyter-widgets/base",
      "model_module_version": "1.2.0",
      "model_name": "LayoutModel",
      "state": {}
     },
     "ed61439e81a04e9cba7602711ee83c10": {
      "model_module": "@quantum/ibm-q-lab-widgets",
      "model_module_version": "^1.0.3",
      "model_name": "CircuitComposerModel",
      "state": {
       "_model_module_version": "^1.0.3",
       "_view_module_version": "^1.0.3",
       "circuit": "\"OPENQASM 2.0;\\ninclude \\\"qelib1.inc\\\";\\n\\nqreg q[2];\\ncreg c[2];\\n\\nh q[0];\\nh q[0];\\nh q[1];\"",
       "editable": true,
       "layout": "IPY_MODEL_03895535a360415582064ff0857009e4",
       "qiskit_code_cell_index": -1
      }
     },
     "edc7f10a887f408294194e2442251560": {
      "model_module": "@jupyter-widgets/base",
      "model_module_version": "1.2.0",
      "model_name": "LayoutModel",
      "state": {}
     },
     "eed0d3c87a8949189b568c9a5763b30c": {
      "model_module": "@quantum/ibm-q-lab-widgets",
      "model_module_version": "^1.0.3",
      "model_name": "CircuitComposerModel",
      "state": {
       "_model_module_version": "^1.0.3",
       "_view_module_version": "^1.0.3",
       "circuit": "\"OPENQASM 2.0;\\ninclude \\\"qelib1.inc\\\";\\n\\nqreg q[2];\\ncreg c[2];\\n\\nh q[0];\\nh q[1];\"",
       "editable": true,
       "layout": "IPY_MODEL_e8d4098f9e0143b7b895baaf213e9b2a",
       "qiskit_code_cell_index": -1
      }
     },
     "efb27a3d3f674d1ea3126eb4b7a29a72": {
      "model_module": "@quantum/ibm-q-lab-widgets",
      "model_module_version": "^1.0.3",
      "model_name": "CircuitComposerModel",
      "state": {
       "_model_module_version": "^1.0.3",
       "_view_module_version": "^1.0.3",
       "circuit": "\"OPENQASM 2.0;\\ninclude \\\"qelib1.inc\\\";\\n\\nqreg q[2];\\ncreg c[2];\\n\\nh q[0];\\nh q[1];\"",
       "editable": true,
       "layout": "IPY_MODEL_c8297d0b4bc94956ba07aae9e4d1d05a",
       "qiskit_code_cell_index": -1
      }
     },
     "f0a736a010274f5e82e3c38ac1db198b": {
      "model_module": "@jupyter-widgets/base",
      "model_module_version": "1.2.0",
      "model_name": "LayoutModel",
      "state": {}
     },
     "f0b90630274e43858170752f1f0bdffa": {
      "model_module": "@jupyter-widgets/base",
      "model_module_version": "1.2.0",
      "model_name": "LayoutModel",
      "state": {}
     },
     "f13d6885379448eda78bb669b965e200": {
      "model_module": "@quantum/ibm-q-lab-widgets",
      "model_module_version": "^1.0.3",
      "model_name": "CircuitComposerModel",
      "state": {
       "_model_module_version": "^1.0.3",
       "_view_module_version": "^1.0.3",
       "circuit": "\"OPENQASM 2.0;\\ninclude \\\"qelib1.inc\\\";\\n\\nqreg q[2];\\ncreg c[2];\\n\\nh q[0];\\nx q[0];\\nh q[1];\"",
       "editable": true,
       "layout": "IPY_MODEL_58c0e67c249b45e79f68f4254fac585d",
       "qiskit_code_cell_index": -1
      }
     },
     "f17089c29c4642e5b1ac847e8e25d4c3": {
      "model_module": "@jupyter-widgets/base",
      "model_module_version": "1.2.0",
      "model_name": "LayoutModel",
      "state": {}
     },
     "f17fea5669f0483abec10aa5958deebb": {
      "model_module": "@jupyter-widgets/base",
      "model_module_version": "1.2.0",
      "model_name": "LayoutModel",
      "state": {}
     },
     "f2757c48f9b54b64ad1c73c5d324c51d": {
      "model_module": "@jupyter-widgets/base",
      "model_module_version": "1.2.0",
      "model_name": "LayoutModel",
      "state": {}
     },
     "f2b18e8c174e45f49eba3963ee6acd5c": {
      "model_module": "@quantum/ibm-q-lab-widgets",
      "model_module_version": "^1.0.3",
      "model_name": "CircuitComposerModel",
      "state": {
       "_model_module_version": "^1.0.3",
       "_view_module_version": "^1.0.3",
       "circuit": "\"OPENQASM 2.0;\\ninclude \\\"qelib1.inc\\\";\\n\\nqreg q[2];\\ncreg c[2];\\n\\nh q[0];\\nh q[1];\"",
       "editable": true,
       "layout": "IPY_MODEL_49862a2b2c58473a894bf99cd549eaf9",
       "qiskit_code_cell_index": -1
      }
     },
     "f32e19532d544705a59cab7391aec13d": {
      "model_module": "@quantum/ibm-q-lab-widgets",
      "model_module_version": "^1.0.3",
      "model_name": "CircuitComposerModel",
      "state": {
       "_model_module_version": "^1.0.3",
       "_view_module_version": "^1.0.3",
       "circuit": "\"OPENQASM 2.0;\\ninclude \\\"qelib1.inc\\\";\\n\\nqreg q[2];\\ncreg c[2];\\n\\n\"",
       "editable": true,
       "layout": "IPY_MODEL_0b892179c5a541b28ff189050b674839",
       "qiskit_code_cell_index": -1
      }
     },
     "f3a1ffc52b8f496fb01162f394164290": {
      "model_module": "@jupyter-widgets/base",
      "model_module_version": "1.2.0",
      "model_name": "LayoutModel",
      "state": {}
     },
     "f3ffbd08a2754c41b5e783c414fbd4bd": {
      "model_module": "@jupyter-widgets/base",
      "model_module_version": "1.2.0",
      "model_name": "LayoutModel",
      "state": {}
     },
     "f444a7a590e243329c03109d49a46319": {
      "model_module": "@jupyter-widgets/base",
      "model_module_version": "1.2.0",
      "model_name": "LayoutModel",
      "state": {}
     },
     "f46f60bcd37b4a4d86c3da416ae9a84e": {
      "model_module": "@jupyter-widgets/base",
      "model_module_version": "1.2.0",
      "model_name": "LayoutModel",
      "state": {}
     },
     "f4b774d7c2174f929c8aef7187589c77": {
      "model_module": "@quantum/ibm-q-lab-widgets",
      "model_module_version": "^1.0.3",
      "model_name": "CircuitComposerModel",
      "state": {
       "_model_module_version": "^1.0.3",
       "_view_module_version": "^1.0.3",
       "circuit": "\"OPENQASM 2.0;\\ninclude \\\"qelib1.inc\\\";\\n\\nqreg q[2];\\ncreg c[2];\\n\\n\"",
       "editable": true,
       "layout": "IPY_MODEL_3149f102c2eb446c885f89fd5a1a825b",
       "qiskit_code_cell_index": -1
      }
     },
     "f5c5db3bb99e49fc936a2f69998ae68b": {
      "model_module": "@quantum/ibm-q-lab-widgets",
      "model_module_version": "^1.0.3",
      "model_name": "CircuitComposerModel",
      "state": {
       "_model_module_version": "^1.0.3",
       "_view_module_version": "^1.0.3",
       "circuit": "\"OPENQASM 2.0;\\ninclude \\\"qelib1.inc\\\";\\n\\nqreg q[2];\\ncreg c[2];\\n\\nh q[1];\\ncx q[0],q[1];\\nid q[0];\\ncx q[0],q[1];\\nt q[0];\\nh q[0];\\nt q[1];\\nh q[1];\"",
       "editable": true,
       "layout": "IPY_MODEL_2e1e9ca93a46478ca8a65ad78e35a805",
       "qiskit_code_cell_index": -1
      }
     },
     "f6a400ee23094faca72e7907eaabf78d": {
      "model_module": "@quantum/ibm-q-lab-widgets",
      "model_module_version": "^1.0.3",
      "model_name": "CircuitComposerModel",
      "state": {
       "_model_module_version": "^1.0.3",
       "_view_module_version": "^1.0.3",
       "circuit": "\"OPENQASM 2.0;\\ninclude \\\"qelib1.inc\\\";\\n\\nqreg q[2];\\ncreg c[2];\\n\\n\"",
       "editable": true,
       "layout": "IPY_MODEL_e11563987c6f4fec8c8bb6993d3b6455",
       "qiskit_code_cell_index": -1
      }
     },
     "f7f6480bb64543d5807abfdd86c0d657": {
      "model_module": "@jupyter-widgets/base",
      "model_module_version": "1.2.0",
      "model_name": "LayoutModel",
      "state": {}
     },
     "f8405b6c18894f5182ff07249fdb8959": {
      "model_module": "@jupyter-widgets/base",
      "model_module_version": "1.2.0",
      "model_name": "LayoutModel",
      "state": {}
     },
     "f8e69940e1264376963063b2144cf037": {
      "model_module": "@quantum/ibm-q-lab-widgets",
      "model_module_version": "^1.0.3",
      "model_name": "CircuitComposerModel",
      "state": {
       "_model_module_version": "^1.0.3",
       "_view_module_version": "^1.0.3",
       "circuit": "\"OPENQASM 2.0;\\ninclude \\\"qelib1.inc\\\";\\n\\nqreg q[2];\\ncreg c[2];\\n\\n\"",
       "editable": true,
       "layout": "IPY_MODEL_21c0e125f2f54d6885c37006e3972794",
       "qiskit_code_cell_index": -1
      }
     },
     "f967747de6704442ad1d35a9a254ce73": {
      "model_module": "@jupyter-widgets/base",
      "model_module_version": "1.2.0",
      "model_name": "LayoutModel",
      "state": {}
     },
     "f9c48ba6a3f4426db3adba23c8145a67": {
      "model_module": "@jupyter-widgets/base",
      "model_module_version": "1.2.0",
      "model_name": "LayoutModel",
      "state": {}
     },
     "f9d7f8aad7af4413abdba55cd48aeefa": {
      "model_module": "@quantum/ibm-q-lab-widgets",
      "model_module_version": "^1.0.3",
      "model_name": "CircuitComposerModel",
      "state": {
       "_model_module_version": "^1.0.3",
       "_view_module_version": "^1.0.3",
       "circuit": "\"OPENQASM 2.0;\\ninclude \\\"qelib1.inc\\\";\\n\\nqreg q[2];\\ncreg c[2];\\n\\nh q[0];\\nh q[1];\\ncx q[0],q[1];\"",
       "editable": true,
       "layout": "IPY_MODEL_93b0413b4fe84eee80cf556f5c99a74f",
       "qiskit_code_cell_index": -1
      }
     },
     "f9e6ef29c45546d693b8aae171e6d587": {
      "model_module": "@quantum/ibm-q-lab-widgets",
      "model_module_version": "^1.0.3",
      "model_name": "CircuitComposerModel",
      "state": {
       "_model_module_version": "^1.0.3",
       "_view_module_version": "^1.0.3",
       "circuit": "\"OPENQASM 2.0;\\ninclude \\\"qelib1.inc\\\";\\n\\nqreg q[2];\\ncreg c[2];\\n\\n\"",
       "editable": true,
       "layout": "IPY_MODEL_bc22cd6c270a42d9bc2bddaa99b33e0e",
       "qiskit_code_cell_index": -1
      }
     },
     "f9fdfddc2e504d4ba89fc98e4065edd7": {
      "model_module": "@quantum/ibm-q-lab-widgets",
      "model_module_version": "^1.0.3",
      "model_name": "CircuitComposerModel",
      "state": {
       "_model_module_version": "^1.0.3",
       "_view_module_version": "^1.0.3",
       "circuit": "\"OPENQASM 2.0;\\ninclude \\\"qelib1.inc\\\";\\n\\nqreg q[2];\\ncreg c[2];\\n\\nh q[0];\\ncx q[0],q[1];\"",
       "editable": true,
       "layout": "IPY_MODEL_ccca2279a8504fb9b74f3dda750cfc9a",
       "qiskit_code_cell_index": -1
      }
     },
     "fa133e0890bc43b49a1283c94a01f0b1": {
      "model_module": "@jupyter-widgets/base",
      "model_module_version": "1.2.0",
      "model_name": "LayoutModel",
      "state": {}
     },
     "fa6ea6790db844ebb15f926f8bc05286": {
      "model_module": "@quantum/ibm-q-lab-widgets",
      "model_module_version": "^1.0.3",
      "model_name": "CircuitComposerModel",
      "state": {
       "_model_module_version": "^1.0.3",
       "_view_module_version": "^1.0.3",
       "circuit": "\"OPENQASM 2.0;\\ninclude \\\"qelib1.inc\\\";\\n\\nqreg q[2];\\ncreg c[2];\\n\\nh q[0];\\ncx q[0],q[1];\"",
       "editable": true,
       "layout": "IPY_MODEL_6c8da754143642e79ddc9a6600c20ed1",
       "qiskit_code_cell_index": -1
      }
     },
     "faab2486c0a648b5ba4b56085c69b8dd": {
      "model_module": "@jupyter-widgets/base",
      "model_module_version": "1.2.0",
      "model_name": "LayoutModel",
      "state": {}
     },
     "fb9f556e2ec24ce5b7c36829f0a8ffce": {
      "model_module": "@jupyter-widgets/base",
      "model_module_version": "1.2.0",
      "model_name": "LayoutModel",
      "state": {}
     },
     "fba74a456a694ba5b47d0e408a7b8cde": {
      "model_module": "@jupyter-widgets/base",
      "model_module_version": "1.2.0",
      "model_name": "LayoutModel",
      "state": {}
     },
     "fc1a1e7927da4794a388fa20b114c558": {
      "model_module": "@jupyter-widgets/base",
      "model_module_version": "1.2.0",
      "model_name": "LayoutModel",
      "state": {}
     },
     "fc5b9dc991634db182a5a72142b701ca": {
      "model_module": "@jupyter-widgets/base",
      "model_module_version": "1.2.0",
      "model_name": "LayoutModel",
      "state": {}
     },
     "fc8a165e25f64229bdc4cc9851d64edf": {
      "model_module": "@jupyter-widgets/base",
      "model_module_version": "1.2.0",
      "model_name": "LayoutModel",
      "state": {}
     },
     "fcb12cbe2529456db47e982e7f3a1971": {
      "model_module": "@jupyter-widgets/base",
      "model_module_version": "1.2.0",
      "model_name": "LayoutModel",
      "state": {}
     },
     "fce138a781fa478a841c7eabab6a0795": {
      "model_module": "@quantum/ibm-q-lab-widgets",
      "model_module_version": "^1.0.3",
      "model_name": "CircuitComposerModel",
      "state": {
       "_model_module_version": "^1.0.3",
       "_view_module_version": "^1.0.3",
       "circuit": "\"OPENQASM 2.0;\\ninclude \\\"qelib1.inc\\\";\\n\\nqreg q[2];\\ncreg c[2];\\n\\n\"",
       "editable": true,
       "layout": "IPY_MODEL_e7775147e148482899a80921c25864f9",
       "qiskit_code_cell_index": -1
      }
     },
     "fd590bf65cbe4bbf93edc52cd40a24af": {
      "model_module": "@jupyter-widgets/base",
      "model_module_version": "1.2.0",
      "model_name": "LayoutModel",
      "state": {}
     },
     "fd95647dfda04c7da7b1191b65231d49": {
      "model_module": "@jupyter-widgets/base",
      "model_module_version": "1.2.0",
      "model_name": "LayoutModel",
      "state": {}
     },
     "fdd3b77348e744599d71b0cf5a7208b1": {
      "model_module": "@quantum/ibm-q-lab-widgets",
      "model_module_version": "^1.0.3",
      "model_name": "CircuitComposerModel",
      "state": {
       "_model_module_version": "^1.0.3",
       "_view_module_version": "^1.0.3",
       "circuit": "\"OPENQASM 2.0;\\ninclude \\\"qelib1.inc\\\";\\n\\nqreg q[2];\\ncreg c[2];\\n\\n\"",
       "editable": true,
       "layout": "IPY_MODEL_164e721f65ea4541b456877741c92a70",
       "qiskit_code_cell_index": -1
      }
     },
     "fdea05ce7b54421ea3766a7a72d496e8": {
      "model_module": "@quantum/ibm-q-lab-widgets",
      "model_module_version": "^1.0.3",
      "model_name": "CircuitComposerModel",
      "state": {
       "_model_module_version": "^1.0.3",
       "_view_module_version": "^1.0.3",
       "circuit": "\"OPENQASM 2.0;\\ninclude \\\"qelib1.inc\\\";\\n\\nqreg q[2];\\ncreg c[2];\\n\\nh q[0];\\ncx q[0],q[1];\"",
       "editable": true,
       "layout": "IPY_MODEL_48f021d30068473982d6092d86e521ba",
       "qiskit_code_cell_index": -1
      }
     },
     "fe8bd2fc2b0b4159b992477967e7c5d2": {
      "model_module": "@quantum/ibm-q-lab-widgets",
      "model_module_version": "^1.0.3",
      "model_name": "CircuitComposerModel",
      "state": {
       "_model_module_version": "^1.0.3",
       "_view_module_version": "^1.0.3",
       "circuit": "\"OPENQASM 2.0;\\ninclude \\\"qelib1.inc\\\";\\n\\nqreg q[2];\\ncreg c[2];\\n\\nh q[0];\\ncx q[0],q[1];\"",
       "editable": true,
       "layout": "IPY_MODEL_4e7717c73f65499ba386a0307f383c2c",
       "qiskit_code_cell_index": -1
      }
     },
     "ff030c574c65435e84c7cce2dde2ecc4": {
      "model_module": "@quantum/ibm-q-lab-widgets",
      "model_module_version": "^1.0.3",
      "model_name": "CircuitComposerModel",
      "state": {
       "_model_module_version": "^1.0.3",
       "_view_module_version": "^1.0.3",
       "circuit": "\"OPENQASM 2.0;\\ninclude \\\"qelib1.inc\\\";\\n\\nqreg q[2];\\ncreg c[2];\\n\\nh q[0];\\nh q[0];\\nh q[1];\"",
       "editable": true,
       "layout": "IPY_MODEL_def25e2e74484544af872135e2564cc1",
       "qiskit_code_cell_index": -1
      }
     },
     "ff1eaa5770fd47b0860b13659f051cf6": {
      "model_module": "@jupyter-widgets/base",
      "model_module_version": "1.2.0",
      "model_name": "LayoutModel",
      "state": {}
     },
     "ff5a009596d74884a30d7b7f098c44cd": {
      "model_module": "@jupyter-widgets/base",
      "model_module_version": "1.2.0",
      "model_name": "LayoutModel",
      "state": {}
     },
     "ff5fd2153db846e6a16bf031d55c8471": {
      "model_module": "@jupyter-widgets/base",
      "model_module_version": "1.2.0",
      "model_name": "LayoutModel",
      "state": {}
     },
     "ff64ef9a7d1447bfa61e352fd310d12f": {
      "model_module": "@quantum/ibm-q-lab-widgets",
      "model_module_version": "^1.0.3",
      "model_name": "CircuitComposerModel",
      "state": {
       "_model_module_version": "^1.0.3",
       "_view_module_version": "^1.0.3",
       "circuit": "\"OPENQASM 2.0;\\ninclude \\\"qelib1.inc\\\";\\n\\nqreg q[2];\\ncreg c[2];\\n\\n\"",
       "editable": true,
       "layout": "IPY_MODEL_b86cf383375e4eb69884c3f047da127a",
       "qiskit_code_cell_index": -1
      }
     },
     "ff96dc4c0b394d739368ef4aad75a6fd": {
      "model_module": "@quantum/ibm-q-lab-widgets",
      "model_module_version": "^1.0.3",
      "model_name": "CircuitComposerModel",
      "state": {
       "_model_module_version": "^1.0.3",
       "_view_module_version": "^1.0.3",
       "circuit": "\"OPENQASM 2.0;\\ninclude \\\"qelib1.inc\\\";\\n\\nqreg q[2];\\ncreg c[2];\\n\\nh q[0];\\nh q[1];\"",
       "editable": true,
       "layout": "IPY_MODEL_edc7f10a887f408294194e2442251560",
       "qiskit_code_cell_index": -1
      }
     },
     "ffdc49c7d4a542308ec460fc8bc5dc29": {
      "model_module": "@quantum/ibm-q-lab-widgets",
      "model_module_version": "^1.0.3",
      "model_name": "CircuitComposerModel",
      "state": {
       "_model_module_version": "^1.0.3",
       "_view_module_version": "^1.0.3",
       "circuit": "\"OPENQASM 2.0;\\ninclude \\\"qelib1.inc\\\";\\n\\nqreg q[2];\\ncreg c[2];\\n\\n\"",
       "editable": true,
       "layout": "IPY_MODEL_e846e47799104d2c88a6cfab7370fc02",
       "qiskit_code_cell_index": -1
      }
     }
    },
    "version_major": 2,
    "version_minor": 0
   }
  }
 },
 "nbformat": 4,
 "nbformat_minor": 5
}
