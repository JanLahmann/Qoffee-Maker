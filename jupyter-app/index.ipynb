{
 "cells": [
  {
   "cell_type": "code",
   "execution_count": 56,
   "id": "f5b43835",
   "metadata": {},
   "outputs": [],
   "source": [
    "from ibm_quantum_widgets import CircuitComposer\n",
    "from IPython.display import display, Javascript, HTML\n",
    "from qiskit.circuit import QuantumCircuit\n",
    "from qiskit import transpile\n",
    "from qiskit.providers.aer import QasmSimulator"
   ]
  },
  {
   "cell_type": "code",
   "execution_count": 57,
   "id": "3e12b043",
   "metadata": {},
   "outputs": [],
   "source": [
    "backend = QasmSimulator()"
   ]
  },
  {
   "cell_type": "code",
   "execution_count": 58,
   "id": "860e245c",
   "metadata": {},
   "outputs": [
    {
     "data": {
      "text/html": [
       "\n",
       "<h1>Welcome</h1>\n",
       "<br/>\n",
       "<br/>\n",
       "<button class=\"btn btn-primary\" data-q-target=\"circuitSelection\">Get your coffee</button>\n",
       "<button class=\"btn btn-primary\" >Get more information</button>\n"
      ],
      "text/plain": [
       "<IPython.core.display.HTML object>"
      ]
     },
     "metadata": {},
     "output_type": "display_data"
    }
   ],
   "source": [
    "### VIEW: welcome\n",
    "# initialize drink variable\n",
    "drink = \"coffee\"\n",
    "html = HTML(\"\"\"\n",
    "<h1>Welcome</h1>\n",
    "<br/>\n",
    "<br/>\n",
    "<button class=\"btn btn-primary\" data-q-target=\"circuitSelection\">Get your coffee</button>\n",
    "<button class=\"btn btn-primary\" >Get more information</button>\n",
    "\"\"\")\n",
    "display(html)"
   ]
  },
  {
   "cell_type": "code",
   "execution_count": 59,
   "id": "3a758cdd",
   "metadata": {},
   "outputs": [
    {
     "data": {
      "text/plain": [
       "<qiskit.circuit.instructionset.InstructionSet at 0x13ff6a820>"
      ]
     },
     "execution_count": 59,
     "metadata": {},
     "output_type": "execute_result"
    }
   ],
   "source": [
    "# build some sample circuits\n",
    "qc0 = QuantumCircuit(2, 2)\n",
    "\n",
    "qc1 = QuantumCircuit(2, 2)\n",
    "qc1.h(0)\n",
    "qc1.h(1)"
   ]
  },
  {
   "cell_type": "code",
   "execution_count": 60,
   "id": "14a5eac9",
   "metadata": {},
   "outputs": [],
   "source": [
    "qcreg = {\n",
    "    'scratch': qc0,\n",
    "    'superposition': qc1,\n",
    "}"
   ]
  },
  {
   "cell_type": "code",
   "execution_count": 61,
   "id": "332c2fb8",
   "metadata": {},
   "outputs": [],
   "source": [
    "# initialize qc variable\n",
    "qc = qcreg['scratch'].copy()"
   ]
  },
  {
   "cell_type": "code",
   "execution_count": 70,
   "id": "f6eabbfa",
   "metadata": {},
   "outputs": [
    {
     "data": {
      "text/html": [
       "\n",
       "<h1>Where do you want to start</h1>\n",
       "<br/>\n",
       "<br/>\n",
       "<button class=\"btn btn-primary\" data-q-code=\"qc=qcreg['scratch'].copy()\" data-q-target=\"initEditor,editor\">Start from scratch</button>\n",
       "<button class=\"btn btn-primary\" data-q-code=\"qc=qcreg['superposition'].copy()\" data-q-target=\"initEditor,editor\">Start with superposition</button>\n",
       "<button class=\"btn btn-primary\">...</button>\n",
       "<br><br>\n",
       "<button class=\"btn btn-default\" data-q-target=\"welcome\">Back</button>\n"
      ],
      "text/plain": [
       "<IPython.core.display.HTML object>"
      ]
     },
     "metadata": {},
     "output_type": "display_data"
    }
   ],
   "source": [
    "### VIEW: circuitSelection\n",
    "html = HTML(\"\"\"\n",
    "<h1>Where do you want to start</h1>\n",
    "<br/>\n",
    "<br/>\n",
    "<button class=\"btn btn-primary\" data-q-code=\"qc=qcreg['scratch'].copy()\" data-q-target=\"initEditor,editor\">Start from scratch</button>\n",
    "<button class=\"btn btn-primary\" data-q-code=\"qc=qcreg['superposition'].copy()\" data-q-target=\"initEditor,editor\">Start with superposition</button>\n",
    "<button class=\"btn btn-primary\">...</button>\n",
    "<br><br>\n",
    "<button class=\"btn btn-default\" data-q-target=\"welcome\">Back</button>\n",
    "\"\"\")\n",
    "display(html)"
   ]
  },
  {
   "cell_type": "code",
   "execution_count": 71,
   "id": "b71c01d0",
   "metadata": {},
   "outputs": [],
   "source": [
    "### VIEW: initEditor\n",
    "editor = CircuitComposer(circuit=qc)\n",
    "\n",
    "# handler for change events\n",
    "def calculate(change_event):\n",
    "    # there are multiple change events, only use one\n",
    "    if change_event['name'] != \"circuit\":\n",
    "        return\n",
    "    # copy current circuit\n",
    "    mqc = editor.circuit.copy()\n",
    "    # add measurement\n",
    "    mqc.measure(range(2), range(2))\n",
    "    # get simulation result\n",
    "    mqc_compiled = transpile(mqc, backend)\n",
    "    job_sim = backend.run(mqc_compiled, shots=1024)\n",
    "    result_sim = job_sim.result()\n",
    "    counts = result_sim.get_counts(mqc_compiled)\n",
    "    for bit in counts:\n",
    "        JsWindowState.set(\"bit-\"+bit, counts[bit]/1024)\n",
    "    \n",
    "# add handler to change events\n",
    "editor.observe(calculate)"
   ]
  },
  {
   "cell_type": "code",
   "execution_count": 72,
   "id": "28c3ce22",
   "metadata": {},
   "outputs": [
    {
     "data": {
      "application/vnd.jupyter.widget-view+json": {
       "model_id": "80ae56cc08c243e98b9f3388d1b24185",
       "version_major": 2,
       "version_minor": 0
      },
      "text/plain": [
       "CircuitComposer(circuit=<qiskit.circuit.quantumcircuit.QuantumCircuit object at 0x13fb6af40>)"
      ]
     },
     "metadata": {},
     "output_type": "display_data"
    },
    {
     "data": {
      "application/javascript": [
       "window.state && window.state.set('bit-01', 1.0)"
      ],
      "text/plain": [
       "<IPython.core.display.Javascript object>"
      ]
     },
     "metadata": {},
     "output_type": "display_data"
    }
   ],
   "source": [
    "### VIEW: editor\n",
    "editor"
   ]
  },
  {
   "cell_type": "code",
   "execution_count": 73,
   "id": "a1e93b0a",
   "metadata": {},
   "outputs": [
    {
     "data": {
      "text/html": [
       "\n",
       "00:\n",
       "<div class=\"progress progress-bar-00\">\n",
       "  <div class=\"progress-bar progress-text-00\" role=\"progressbar\" style=\"width: 0%\" aria-valuenow=\"0\" aria-valuemin=\"0\" aria-valuemax=\"100\">0%</div>\n",
       "</div>\n",
       "01:\n",
       "<div class=\"progress progress-bar-01\">\n",
       "  <div class=\"progress-bar progress-text-01\" role=\"progressbar\" style=\"width: 0%\" aria-valuenow=\"0\" aria-valuemin=\"0\" aria-valuemax=\"100\">0%</div>\n",
       "</div>\n",
       "10:\n",
       "<div class=\"progress progress-bar-10\">\n",
       "  <div class=\"progress-bar progress-text-10\" role=\"progressbar\" style=\"width: 0%\" aria-valuenow=\"0\" aria-valuemin=\"0\" aria-valuemax=\"100\">0%</div>\n",
       "</div>\n",
       "11:\n",
       "<div class=\"progress progress-bar-11\">\n",
       "  <div class=\"progress-bar progress-text-11\" role=\"progressbar\" style=\"width: 0%\" aria-valuenow=\"0\" aria-valuemin=\"0\" aria-valuemax=\"100\">0%</div>\n",
       "</div>\n",
       "\n",
       "\n",
       "<button class=\"btn btn-primary\">Start</button>\n",
       "<button class=\"btn btn-primary\">Transfer to IBM Quantum Composer</button>\n",
       "<button class=\"btn btn-default\" data-q-target=\"circuitSelection\">Back</button>\n"
      ],
      "text/plain": [
       "<IPython.core.display.HTML object>"
      ]
     },
     "metadata": {},
     "output_type": "display_data"
    }
   ],
   "source": [
    "### VIEW: editor\n",
    "html = HTML(\"\"\"\n",
    "00:\n",
    "<div class=\"progress progress-bar-00\">\n",
    "  <div class=\"progress-bar progress-text-00\" role=\"progressbar\" style=\"width: 0%\" aria-valuenow=\"0\" aria-valuemin=\"0\" aria-valuemax=\"100\">0%</div>\n",
    "</div>\n",
    "01:\n",
    "<div class=\"progress progress-bar-01\">\n",
    "  <div class=\"progress-bar progress-text-01\" role=\"progressbar\" style=\"width: 0%\" aria-valuenow=\"0\" aria-valuemin=\"0\" aria-valuemax=\"100\">0%</div>\n",
    "</div>\n",
    "10:\n",
    "<div class=\"progress progress-bar-10\">\n",
    "  <div class=\"progress-bar progress-text-10\" role=\"progressbar\" style=\"width: 0%\" aria-valuenow=\"0\" aria-valuemin=\"0\" aria-valuemax=\"100\">0%</div>\n",
    "</div>\n",
    "11:\n",
    "<div class=\"progress progress-bar-11\">\n",
    "  <div class=\"progress-bar progress-text-11\" role=\"progressbar\" style=\"width: 0%\" aria-valuenow=\"0\" aria-valuemin=\"0\" aria-valuemax=\"100\">0%</div>\n",
    "</div>\n",
    "\n",
    "\n",
    "<button class=\"btn btn-primary\">Start</button>\n",
    "<button class=\"btn btn-primary\">Transfer to IBM Quantum Composer</button>\n",
    "<button class=\"btn btn-default\" data-q-target=\"circuitSelection\">Back</button>\n",
    "\"\"\")\n",
    "display(html)"
   ]
  },
  {
   "cell_type": "code",
   "execution_count": null,
   "id": "c5141703",
   "metadata": {},
   "outputs": [],
   "source": []
  }
 ],
 "metadata": {
  "kernelspec": {
   "display_name": "Python 3 (ipykernel)",
   "language": "python",
   "name": "python3"
  },
  "language_info": {
   "codemirror_mode": {
    "name": "ipython",
    "version": 3
   },
   "file_extension": ".py",
   "mimetype": "text/x-python",
   "name": "python",
   "nbconvert_exporter": "python",
   "pygments_lexer": "ipython3",
   "version": "3.9.6"
  },
  "widgets": {
   "application/vnd.jupyter.widget-state+json": {
    "state": {
     "010ff8d1868049b78e0237ce4558e28a": {
      "model_module": "@jupyter-widgets/base",
      "model_module_version": "1.2.0",
      "model_name": "LayoutModel",
      "state": {}
     },
     "017eb9f7f9df4c91931d8eb244147d98": {
      "model_module": "@quantum/ibm-q-lab-widgets",
      "model_module_version": "^1.0.3",
      "model_name": "CircuitComposerModel",
      "state": {
       "_model_module_version": "^1.0.3",
       "_view_module_version": "^1.0.3",
       "circuit": "\"OPENQASM 2.0;\\ninclude \\\"qelib1.inc\\\";\\n\\nqreg q[2];\\ncreg c[2];\\n\\n\"",
       "editable": true,
       "layout": "IPY_MODEL_6ecd9ec2fd614a9d8b30c254cbba0a98",
       "qiskit_code_cell_index": -1
      }
     },
     "02c23b347f034245b6d5ce1551f79bfb": {
      "model_module": "@jupyter-widgets/base",
      "model_module_version": "1.2.0",
      "model_name": "LayoutModel",
      "state": {}
     },
     "0405460e042c4aeba0304836eca0d130": {
      "model_module": "@jupyter-widgets/base",
      "model_module_version": "1.2.0",
      "model_name": "LayoutModel",
      "state": {}
     },
     "04149abac3ab4519b526ec1f6f9ada2d": {
      "model_module": "@quantum/ibm-q-lab-widgets",
      "model_module_version": "^1.0.3",
      "model_name": "CircuitComposerModel",
      "state": {
       "_model_module_version": "^1.0.3",
       "_view_module_version": "^1.0.3",
       "circuit": "\"OPENQASM 2.0;\\ninclude \\\"qelib1.inc\\\";\\n\\nqreg q[2];\\ncreg c[2];\\n\\n\"",
       "editable": true,
       "layout": "IPY_MODEL_98cf22df865e44e48e0d704bfd3b7048",
       "qiskit_code_cell_index": -1
      }
     },
     "052957853f5a4eb1915c5edd72fa5214": {
      "model_module": "@quantum/ibm-q-lab-widgets",
      "model_module_version": "^1.0.3",
      "model_name": "CircuitComposerModel",
      "state": {
       "_model_module_version": "^1.0.3",
       "_view_module_version": "^1.0.3",
       "circuit": "\"OPENQASM 2.0;\\ninclude \\\"qelib1.inc\\\";\\n\\nqreg q[2];\\ncreg c[2];\\n\\n\"",
       "editable": true,
       "layout": "IPY_MODEL_ed057a10a12a44b1966a04c4b6827bf1",
       "qiskit_code_cell_index": -1
      }
     },
     "064bdc2129144e9a87414b6cae1e8f19": {
      "model_module": "@quantum/ibm-q-lab-widgets",
      "model_module_version": "^1.0.3",
      "model_name": "CircuitComposerModel",
      "state": {
       "_model_module_version": "^1.0.3",
       "_view_module_version": "^1.0.3",
       "circuit": "\"OPENQASM 2.0;\\ninclude \\\"qelib1.inc\\\";\\n\\nqreg q[2];\\ncreg c[2];\\n\\n\"",
       "editable": true,
       "layout": "IPY_MODEL_98abb8e9c87441069fc8bf53c020ca3d",
       "qiskit_code_cell_index": -1
      }
     },
     "06fc67717d81424584a7334749e0f901": {
      "model_module": "@quantum/ibm-q-lab-widgets",
      "model_module_version": "^1.0.3",
      "model_name": "CircuitComposerModel",
      "state": {
       "_model_module_version": "^1.0.3",
       "_view_module_version": "^1.0.3",
       "circuit": "\"OPENQASM 2.0;\\ninclude \\\"qelib1.inc\\\";\\n\\nqreg q[2];\\ncreg c[2];\\n\\nh q[0];\\ncx q[0],q[1];\"",
       "editable": true,
       "layout": "IPY_MODEL_7e3992f9543a4c4ea64c65767e1c87eb",
       "qiskit_code_cell_index": -1
      }
     },
     "08c0ce23f76c43fc8cbace76f6375d1d": {
      "model_module": "@jupyter-widgets/base",
      "model_module_version": "1.2.0",
      "model_name": "LayoutModel",
      "state": {}
     },
     "09731f386e0d45b5b21b4ad9331aa28d": {
      "model_module": "@jupyter-widgets/base",
      "model_module_version": "1.2.0",
      "model_name": "LayoutModel",
      "state": {}
     },
     "0b07a4e5607a4455a684d76124b9d535": {
      "model_module": "@quantum/ibm-q-lab-widgets",
      "model_module_version": "^1.0.3",
      "model_name": "CircuitComposerModel",
      "state": {
       "_model_module_version": "^1.0.3",
       "_view_module_version": "^1.0.3",
       "circuit": "\"OPENQASM 2.0;\\ninclude \\\"qelib1.inc\\\";\\n\\nqreg q[2];\\ncreg c[2];\\n\\n\"",
       "editable": true,
       "layout": "IPY_MODEL_02c23b347f034245b6d5ce1551f79bfb",
       "qiskit_code_cell_index": -1
      }
     },
     "0b892179c5a541b28ff189050b674839": {
      "model_module": "@jupyter-widgets/base",
      "model_module_version": "1.2.0",
      "model_name": "LayoutModel",
      "state": {}
     },
     "0bb04b6d920f4b62ac78ed235e98b434": {
      "model_module": "@jupyter-widgets/base",
      "model_module_version": "1.2.0",
      "model_name": "LayoutModel",
      "state": {}
     },
     "0c2e63aa49fb45dc808dcc06bd0668cb": {
      "model_module": "@jupyter-widgets/base",
      "model_module_version": "1.2.0",
      "model_name": "LayoutModel",
      "state": {}
     },
     "0c70140d5e074562b8ba594194ebcd7e": {
      "model_module": "@quantum/ibm-q-lab-widgets",
      "model_module_version": "^1.0.3",
      "model_name": "CircuitComposerModel",
      "state": {
       "_model_module_version": "^1.0.3",
       "_view_module_version": "^1.0.3",
       "circuit": "\"OPENQASM 2.0;\\ninclude \\\"qelib1.inc\\\";\\n\\nqreg q[2];\\ncreg c[2];\\n\\nh q[0];\"",
       "editable": true,
       "layout": "IPY_MODEL_9afa3a6cad6f4b6f958d91ddeb844673",
       "qiskit_code_cell_index": -1
      }
     },
     "0d28d51dcdbc4397bb10c6294173b235": {
      "model_module": "@quantum/ibm-q-lab-widgets",
      "model_module_version": "^1.0.3",
      "model_name": "CircuitComposerModel",
      "state": {
       "_model_module_version": "^1.0.3",
       "_view_module_version": "^1.0.3",
       "circuit": "\"OPENQASM 2.0;\\ninclude \\\"qelib1.inc\\\";\\n\\nqreg q[2];\\ncreg c[2];\\n\\nh q[0];\\ncx q[0],q[1];\"",
       "editable": true,
       "layout": "IPY_MODEL_1e952768c2a44380822ddd2a05dfd89f",
       "qiskit_code_cell_index": -1
      }
     },
     "0f1189c277c449a2ad7644bb9bcf8558": {
      "model_module": "@quantum/ibm-q-lab-widgets",
      "model_module_version": "^1.0.3",
      "model_name": "CircuitComposerModel",
      "state": {
       "_model_module_version": "^1.0.3",
       "_view_module_version": "^1.0.3",
       "circuit": "\"OPENQASM 2.0;\\ninclude \\\"qelib1.inc\\\";\\n\\nqreg q[2];\\ncreg c[2];\\n\\nh q[0];\\ncx q[0],q[1];\"",
       "editable": true,
       "layout": "IPY_MODEL_0c2e63aa49fb45dc808dcc06bd0668cb",
       "qiskit_code_cell_index": -1
      }
     },
     "122cdaf8245c4a93a248c801fbab418f": {
      "model_module": "@jupyter-widgets/base",
      "model_module_version": "1.2.0",
      "model_name": "LayoutModel",
      "state": {}
     },
     "1275d7591f724363aed02300cb21aa18": {
      "model_module": "@quantum/ibm-q-lab-widgets",
      "model_module_version": "^1.0.3",
      "model_name": "CircuitComposerModel",
      "state": {
       "_model_module_version": "^1.0.3",
       "_view_module_version": "^1.0.3",
       "circuit": "\"OPENQASM 2.0;\\ninclude \\\"qelib1.inc\\\";\\n\\nqreg q[2];\\ncreg c[2];\\n\\n\"",
       "editable": true,
       "layout": "IPY_MODEL_82536a741ef646a0bef1813c3b516480",
       "qiskit_code_cell_index": -1
      }
     },
     "13221e416a94487b821f776f6185f5af": {
      "model_module": "@jupyter-widgets/base",
      "model_module_version": "1.2.0",
      "model_name": "LayoutModel",
      "state": {}
     },
     "1347f8869f07454eadaafbe074254866": {
      "model_module": "@quantum/ibm-q-lab-widgets",
      "model_module_version": "^1.0.3",
      "model_name": "CircuitComposerModel",
      "state": {
       "_model_module_version": "^1.0.3",
       "_view_module_version": "^1.0.3",
       "circuit": "\"OPENQASM 2.0;\\ninclude \\\"qelib1.inc\\\";\\n\\nqreg q[2];\\ncreg c[2];\\n\\nh q[0];\\ncx q[0],q[1];\"",
       "editable": true,
       "layout": "IPY_MODEL_c130711f9c6b49239d763658d38a6d01",
       "qiskit_code_cell_index": -1
      }
     },
     "1364827b9ca043d48405a86614a00a8b": {
      "model_module": "@quantum/ibm-q-lab-widgets",
      "model_module_version": "^1.0.3",
      "model_name": "CircuitComposerModel",
      "state": {
       "_model_module_version": "^1.0.3",
       "_view_module_version": "^1.0.3",
       "circuit": "\"OPENQASM 2.0;\\ninclude \\\"qelib1.inc\\\";\\n\\nqreg q[2];\\ncreg c[2];\\n\\nh q[0];\\nx q[1];\"",
       "editable": true,
       "layout": "IPY_MODEL_558a2809745f4f4fbd6b7900d6bd9e01",
       "qiskit_code_cell_index": -1
      }
     },
     "139380a9e5cc4d15a9b7786c2461bf17": {
      "model_module": "@quantum/ibm-q-lab-widgets",
      "model_module_version": "^1.0.3",
      "model_name": "CircuitComposerModel",
      "state": {
       "_model_module_version": "^1.0.3",
       "_view_module_version": "^1.0.3",
       "circuit": "\"OPENQASM 2.0;\\ninclude \\\"qelib1.inc\\\";\\n\\nqreg q[2];\\ncreg c[2];\\n\\nh q[0];\\ncx q[0],q[1];\"",
       "editable": true,
       "layout": "IPY_MODEL_79b1830a01904e93b6fcbb80ff670674",
       "qiskit_code_cell_index": -1
      }
     },
     "14040faeb766464d9c3ee3e4aca5383e": {
      "model_module": "@quantum/ibm-q-lab-widgets",
      "model_module_version": "^1.0.3",
      "model_name": "CircuitComposerModel",
      "state": {
       "_model_module_version": "^1.0.3",
       "_view_module_version": "^1.0.3",
       "circuit": "\"OPENQASM 2.0;\\ninclude \\\"qelib1.inc\\\";\\n\\nqreg q[2];\\ncreg c[2];\\n\\n\"",
       "editable": true,
       "layout": "IPY_MODEL_424a2792b521437dba34d9e16d01bae7",
       "qiskit_code_cell_index": -1
      }
     },
     "14482a7553cd4222b9e7dcefaf0ab396": {
      "model_module": "@quantum/ibm-q-lab-widgets",
      "model_module_version": "^1.0.3",
      "model_name": "CircuitComposerModel",
      "state": {
       "_model_module_version": "^1.0.3",
       "_view_module_version": "^1.0.3",
       "circuit": "\"OPENQASM 2.0;\\ninclude \\\"qelib1.inc\\\";\\n\\nqreg q[2];\\ncreg c[2];\\n\\nh q[0];\\ncx q[0],q[1];\"",
       "editable": true,
       "layout": "IPY_MODEL_9860bfca19464b20ac01ed7070ab8ca0",
       "qiskit_code_cell_index": -1
      }
     },
     "164e721f65ea4541b456877741c92a70": {
      "model_module": "@jupyter-widgets/base",
      "model_module_version": "1.2.0",
      "model_name": "LayoutModel",
      "state": {}
     },
     "1680e35095d64a65aa47f8603bf3c7d4": {
      "model_module": "@jupyter-widgets/base",
      "model_module_version": "1.2.0",
      "model_name": "LayoutModel",
      "state": {}
     },
     "16b766f3bae640da90c63b10044b35f9": {
      "model_module": "@quantum/ibm-q-lab-widgets",
      "model_module_version": "^1.0.3",
      "model_name": "CircuitComposerModel",
      "state": {
       "_model_module_version": "^1.0.3",
       "_view_module_version": "^1.0.3",
       "circuit": "\"OPENQASM 2.0;\\ninclude \\\"qelib1.inc\\\";\\n\\nqreg q[2];\\ncreg c[2];\\n\\nh q[0];\\ncx q[0],q[1];\"",
       "editable": true,
       "layout": "IPY_MODEL_faab2486c0a648b5ba4b56085c69b8dd",
       "qiskit_code_cell_index": -1
      }
     },
     "18ac221320174884b806688b739d4f30": {
      "model_module": "@quantum/ibm-q-lab-widgets",
      "model_module_version": "^1.0.3",
      "model_name": "CircuitComposerModel",
      "state": {
       "_model_module_version": "^1.0.3",
       "_view_module_version": "^1.0.3",
       "circuit": "\"OPENQASM 2.0;\\ninclude \\\"qelib1.inc\\\";\\n\\nqreg q[3];\\ncreg c[3];\\n\\nh q[0];\\nx q[1];\\nccx q[0],q[1],q[2];\\nh q[0];\\nh q[1];\\nh q[2];\"",
       "editable": true,
       "layout": "IPY_MODEL_43533c01bee0497fab09e74343238653",
       "qiskit_code_cell_index": -1
      }
     },
     "191de5c9a06945989192408e6d4c58d1": {
      "model_module": "@jupyter-widgets/base",
      "model_module_version": "1.2.0",
      "model_name": "LayoutModel",
      "state": {}
     },
     "1976bd1fd69c442c8015ee898044beb5": {
      "model_module": "@jupyter-widgets/base",
      "model_module_version": "1.2.0",
      "model_name": "LayoutModel",
      "state": {}
     },
     "1a949d5b96ba491ba193dd8cf211163b": {
      "model_module": "@quantum/ibm-q-lab-widgets",
      "model_module_version": "^1.0.3",
      "model_name": "CircuitComposerModel",
      "state": {
       "_model_module_version": "^1.0.3",
       "_view_module_version": "^1.0.3",
       "circuit": "\"OPENQASM 2.0;\\ninclude \\\"qelib1.inc\\\";\\n\\nqreg q[2];\\ncreg c[2];\\n\\nh q[0];\\nh q[1];\\nh q[1];\\ncx q[0],q[1];\\nx q[0];\\ncx q[0],q[1];\"",
       "editable": true,
       "layout": "IPY_MODEL_978e63d4b57e4368879a0ea1a6074892",
       "qiskit_code_cell_index": -1
      }
     },
     "1d1c12d47caa41b5b35a1139fc42cd19": {
      "model_module": "@quantum/ibm-q-lab-widgets",
      "model_module_version": "^1.0.3",
      "model_name": "CircuitComposerModel",
      "state": {
       "_model_module_version": "^1.0.3",
       "_view_module_version": "^1.0.3",
       "circuit": "\"OPENQASM 2.0;\\ninclude \\\"qelib1.inc\\\";\\n\\nqreg q[2];\\ncreg c[2];\\n\\n\"",
       "editable": true,
       "layout": "IPY_MODEL_c0a36fc6ad5747368052736d10047cdf",
       "qiskit_code_cell_index": -1
      }
     },
     "1e5f4ce0edbb4e3eb88df306300c71f1": {
      "model_module": "@quantum/ibm-q-lab-widgets",
      "model_module_version": "^1.0.3",
      "model_name": "CircuitComposerModel",
      "state": {
       "_model_module_version": "^1.0.3",
       "_view_module_version": "^1.0.3",
       "circuit": "\"OPENQASM 2.0;\\ninclude \\\"qelib1.inc\\\";\\n\\nqreg q[2];\\ncreg c[2];\\n\\nh q[0];\\ncx q[0],q[1];\"",
       "editable": true,
       "layout": "IPY_MODEL_f17089c29c4642e5b1ac847e8e25d4c3",
       "qiskit_code_cell_index": -1
      }
     },
     "1e952768c2a44380822ddd2a05dfd89f": {
      "model_module": "@jupyter-widgets/base",
      "model_module_version": "1.2.0",
      "model_name": "LayoutModel",
      "state": {}
     },
     "1f80afd3d50c432a9a6f7f0a6b9de5cb": {
      "model_module": "@jupyter-widgets/base",
      "model_module_version": "1.2.0",
      "model_name": "LayoutModel",
      "state": {}
     },
     "2053cf15e84f481aa74af204d8c3dad7": {
      "model_module": "@quantum/ibm-q-lab-widgets",
      "model_module_version": "^1.0.3",
      "model_name": "CircuitComposerModel",
      "state": {
       "_model_module_version": "^1.0.3",
       "_view_module_version": "^1.0.3",
       "circuit": "\"OPENQASM 2.0;\\ninclude \\\"qelib1.inc\\\";\\n\\nqreg q[2];\\ncreg c[2];\\n\\n\"",
       "editable": true,
       "layout": "IPY_MODEL_13221e416a94487b821f776f6185f5af",
       "qiskit_code_cell_index": -1
      }
     },
     "215a2eea9e58457d9cc222a443e255bd": {
      "model_module": "@quantum/ibm-q-lab-widgets",
      "model_module_version": "^1.0.3",
      "model_name": "CircuitComposerModel",
      "state": {
       "_model_module_version": "^1.0.3",
       "_view_module_version": "^1.0.3",
       "circuit": "\"OPENQASM 2.0;\\ninclude \\\"qelib1.inc\\\";\\n\\nqreg q[2];\\ncreg c[2];\\n\\n\"",
       "editable": true,
       "layout": "IPY_MODEL_480f0cecb3c344e899c8c19f06cb8723",
       "qiskit_code_cell_index": -1
      }
     },
     "21600dae2b8147a297ee113de053b77f": {
      "model_module": "@quantum/ibm-q-lab-widgets",
      "model_module_version": "^1.0.3",
      "model_name": "CircuitComposerModel",
      "state": {
       "_model_module_version": "^1.0.3",
       "_view_module_version": "^1.0.3",
       "circuit": "\"OPENQASM 2.0;\\ninclude \\\"qelib1.inc\\\";\\n\\nqreg q[2];\\ncreg c[2];\\n\\nh q[0];\\ncx q[0],q[1];\"",
       "editable": true,
       "layout": "IPY_MODEL_fcb12cbe2529456db47e982e7f3a1971",
       "qiskit_code_cell_index": -1
      }
     },
     "2210ef2a287c42a98afe404943f1eed7": {
      "model_module": "@quantum/ibm-q-lab-widgets",
      "model_module_version": "^1.0.3",
      "model_name": "CircuitComposerModel",
      "state": {
       "_model_module_version": "^1.0.3",
       "_view_module_version": "^1.0.3",
       "circuit": "\"OPENQASM 2.0;\\ninclude \\\"qelib1.inc\\\";\\n\\nqreg q[2];\\ncreg c[2];\\n\\nh q[0];\\ncx q[0],q[1];\"",
       "editable": true,
       "layout": "IPY_MODEL_7e0cff9114cc48959d01788870ad9840",
       "qiskit_code_cell_index": -1
      }
     },
     "23208e1619954f22b6a604f487b7c2c5": {
      "model_module": "@quantum/ibm-q-lab-widgets",
      "model_module_version": "^1.0.3",
      "model_name": "CircuitComposerModel",
      "state": {
       "_model_module_version": "^1.0.3",
       "_view_module_version": "^1.0.3",
       "circuit": "\"OPENQASM 2.0;\\ninclude \\\"qelib1.inc\\\";\\n\\nqreg q[2];\\ncreg c[2];\\n\\nh q[0];\\ncx q[0],q[1];\"",
       "editable": true,
       "layout": "IPY_MODEL_dea1ed632db24e6bb6841928ae9c4011",
       "qiskit_code_cell_index": -1
      }
     },
     "268c67b3e79249459b2b09cf6ab141c1": {
      "model_module": "@jupyter-widgets/base",
      "model_module_version": "1.2.0",
      "model_name": "LayoutModel",
      "state": {}
     },
     "276a7d0231364e83b8e324453d720a74": {
      "model_module": "@jupyter-widgets/base",
      "model_module_version": "1.2.0",
      "model_name": "LayoutModel",
      "state": {}
     },
     "28d85d533b2d42f982ebff3cd3eecffa": {
      "model_module": "@quantum/ibm-q-lab-widgets",
      "model_module_version": "^1.0.3",
      "model_name": "CircuitComposerModel",
      "state": {
       "_model_module_version": "^1.0.3",
       "_view_module_version": "^1.0.3",
       "circuit": "\"OPENQASM 2.0;\\ninclude \\\"qelib1.inc\\\";\\n\\nqreg q[2];\\ncreg c[2];\\n\\nh q[0];\\ncx q[0],q[1];\"",
       "editable": true,
       "layout": "IPY_MODEL_73856d8803374d2190529b794e20aa2c",
       "qiskit_code_cell_index": -1
      }
     },
     "28f1a06e83c8432395f2fdb394584027": {
      "model_module": "@quantum/ibm-q-lab-widgets",
      "model_module_version": "^1.0.3",
      "model_name": "CircuitComposerModel",
      "state": {
       "_model_module_version": "^1.0.3",
       "_view_module_version": "^1.0.3",
       "circuit": "\"OPENQASM 2.0;\\ninclude \\\"qelib1.inc\\\";\\n\\nqreg q[2];\\ncreg c[2];\\n\\n\"",
       "editable": true,
       "layout": "IPY_MODEL_9ae2ef7a4c8e4130a53f4372e8034c2c",
       "qiskit_code_cell_index": -1
      }
     },
     "2a56e550fb714ec9a16b3822a11ed293": {
      "model_module": "@quantum/ibm-q-lab-widgets",
      "model_module_version": "^1.0.3",
      "model_name": "CircuitComposerModel",
      "state": {
       "_model_module_version": "^1.0.3",
       "_view_module_version": "^1.0.3",
       "circuit": "\"OPENQASM 2.0;\\ninclude \\\"qelib1.inc\\\";\\n\\nqreg q[2];\\ncreg c[2];\\n\\nh q[0];\\ncx q[0],q[1];\"",
       "editable": true,
       "layout": "IPY_MODEL_7be58f346e8148a1b476b96003e77930",
       "qiskit_code_cell_index": -1
      }
     },
     "2c63ebd0c40942c08a2e81ac1617353e": {
      "model_module": "@jupyter-widgets/base",
      "model_module_version": "1.2.0",
      "model_name": "LayoutModel",
      "state": {}
     },
     "2cda2c8b8ca84413924cd5363601861a": {
      "model_module": "@quantum/ibm-q-lab-widgets",
      "model_module_version": "^1.0.3",
      "model_name": "CircuitComposerModel",
      "state": {
       "_model_module_version": "^1.0.3",
       "_view_module_version": "^1.0.3",
       "circuit": "\"OPENQASM 2.0;\\ninclude \\\"qelib1.inc\\\";\\n\\nqreg q[3];\\ncreg c[3];\\n\\nh q[0];\\nh q[0];\\nh q[1];\\ncx q[0],q[1];\\ncx q[0],q[1];\\nt q[0];\\ns q[0];\\ncx q[0],q[1];\\nx q[2];\"",
       "editable": true,
       "layout": "IPY_MODEL_97fd969961b943c98360e94eb8bb9a30",
       "qiskit_code_cell_index": -1
      }
     },
     "2e1e9ca93a46478ca8a65ad78e35a805": {
      "model_module": "@jupyter-widgets/base",
      "model_module_version": "1.2.0",
      "model_name": "LayoutModel",
      "state": {}
     },
     "2ef2a84fcc194ef9ae781e08e630d3cb": {
      "model_module": "@quantum/ibm-q-lab-widgets",
      "model_module_version": "^1.0.3",
      "model_name": "CircuitComposerModel",
      "state": {
       "_model_module_version": "^1.0.3",
       "_view_module_version": "^1.0.3",
       "circuit": "\"OPENQASM 2.0;\\ninclude \\\"qelib1.inc\\\";\\n\\nqreg q[2];\\ncreg c[2];\\n\\n\"",
       "editable": true,
       "layout": "IPY_MODEL_0405460e042c4aeba0304836eca0d130",
       "qiskit_code_cell_index": -1
      }
     },
     "2fadf60e0a6e4f4bbd414fc2b4678077": {
      "model_module": "@quantum/ibm-q-lab-widgets",
      "model_module_version": "^1.0.3",
      "model_name": "CircuitComposerModel",
      "state": {
       "_model_module_version": "^1.0.3",
       "_view_module_version": "^1.0.3",
       "circuit": "\"OPENQASM 2.0;\\ninclude \\\"qelib1.inc\\\";\\n\\nqreg q[2];\\ncreg c[2];\\n\\nh q[0];\\ncx q[0],q[1];\"",
       "editable": true,
       "layout": "IPY_MODEL_1976bd1fd69c442c8015ee898044beb5",
       "qiskit_code_cell_index": -1
      }
     },
     "308cfc3b915b46f4b853e8c1563161e8": {
      "model_module": "@jupyter-widgets/base",
      "model_module_version": "1.2.0",
      "model_name": "LayoutModel",
      "state": {}
     },
     "32b64506f21a479c90b34f86b21c70fa": {
      "model_module": "@jupyter-widgets/base",
      "model_module_version": "1.2.0",
      "model_name": "LayoutModel",
      "state": {}
     },
     "35e02dfc927a4c29bb939537699dc39c": {
      "model_module": "@quantum/ibm-q-lab-widgets",
      "model_module_version": "^1.0.3",
      "model_name": "CircuitComposerModel",
      "state": {
       "_model_module_version": "^1.0.3",
       "_view_module_version": "^1.0.3",
       "circuit": "\"OPENQASM 2.0;\\ninclude \\\"qelib1.inc\\\";\\n\\nqreg q[2];\\ncreg c[2];\\n\\n\"",
       "editable": true,
       "layout": "IPY_MODEL_0bb04b6d920f4b62ac78ed235e98b434",
       "qiskit_code_cell_index": -1
      }
     },
     "36350abb5ad94bbcb910408e14a7ad03": {
      "model_module": "@quantum/ibm-q-lab-widgets",
      "model_module_version": "^1.0.3",
      "model_name": "CircuitComposerModel",
      "state": {
       "_model_module_version": "^1.0.3",
       "_view_module_version": "^1.0.3",
       "circuit": "\"OPENQASM 2.0;\\ninclude \\\"qelib1.inc\\\";\\n\\nqreg q[2];\\ncreg c[2];\\n\\n\"",
       "editable": true,
       "layout": "IPY_MODEL_56e9c9e763d44ff2b4908f0f07847f86",
       "qiskit_code_cell_index": -1
      }
     },
     "380d9f18c2184a10b9c15b4341358893": {
      "model_module": "@quantum/ibm-q-lab-widgets",
      "model_module_version": "^1.0.3",
      "model_name": "CircuitComposerModel",
      "state": {
       "_model_module_version": "^1.0.3",
       "_view_module_version": "^1.0.3",
       "circuit": "\"OPENQASM 2.0;\\ninclude \\\"qelib1.inc\\\";\\n\\nqreg q[2];\\ncreg c[2];\\n\\nh q[0];\\nh q[1];\\ncx q[0],q[1];\"",
       "editable": true,
       "layout": "IPY_MODEL_5b787ba0af6640a7af82c27161cd9760",
       "qiskit_code_cell_index": -1
      }
     },
     "3968f08a669341149e0de2cd1892cec4": {
      "model_module": "@quantum/ibm-q-lab-widgets",
      "model_module_version": "^1.0.3",
      "model_name": "CircuitComposerModel",
      "state": {
       "_model_module_version": "^1.0.3",
       "_view_module_version": "^1.0.3",
       "circuit": "\"OPENQASM 2.0;\\ninclude \\\"qelib1.inc\\\";\\n\\nqreg q[2];\\ncreg c[2];\\n\\nh q[0];\\nh q[1];\"",
       "editable": true,
       "layout": "IPY_MODEL_08c0ce23f76c43fc8cbace76f6375d1d",
       "qiskit_code_cell_index": -1
      }
     },
     "39e680a055634d5a92319f48dbd3cfca": {
      "model_module": "@jupyter-widgets/base",
      "model_module_version": "1.2.0",
      "model_name": "LayoutModel",
      "state": {}
     },
     "3aab181cfa8b4fc0b514ee2f4b8b269e": {
      "model_module": "@jupyter-widgets/base",
      "model_module_version": "1.2.0",
      "model_name": "LayoutModel",
      "state": {}
     },
     "3b656f529d8043d5b3fa97c79b4aac88": {
      "model_module": "@jupyter-widgets/base",
      "model_module_version": "1.2.0",
      "model_name": "LayoutModel",
      "state": {}
     },
     "3d61f7bc76f04909a298a22c40da7293": {
      "model_module": "@jupyter-widgets/base",
      "model_module_version": "1.2.0",
      "model_name": "LayoutModel",
      "state": {}
     },
     "3e2527ffd302444484560c69370961cf": {
      "model_module": "@jupyter-widgets/base",
      "model_module_version": "1.2.0",
      "model_name": "LayoutModel",
      "state": {}
     },
     "3e7e17ad013942d6af129d545dded9d7": {
      "model_module": "@quantum/ibm-q-lab-widgets",
      "model_module_version": "^1.0.3",
      "model_name": "CircuitComposerModel",
      "state": {
       "_model_module_version": "^1.0.3",
       "_view_module_version": "^1.0.3",
       "circuit": "\"OPENQASM 2.0;\\ninclude \\\"qelib1.inc\\\";\\n\\nqreg q[2];\\ncreg c[2];\\n\\n\"",
       "editable": true,
       "layout": "IPY_MODEL_b89146f0e96d46e2be9a44d365f349ea",
       "qiskit_code_cell_index": -1
      }
     },
     "3f0065726c02472c91231fee0a90fb5e": {
      "model_module": "@quantum/ibm-q-lab-widgets",
      "model_module_version": "^1.0.3",
      "model_name": "CircuitComposerModel",
      "state": {
       "_model_module_version": "^1.0.3",
       "_view_module_version": "^1.0.3",
       "circuit": "\"OPENQASM 2.0;\\ninclude \\\"qelib1.inc\\\";\\n\\nqreg q[2];\\ncreg c[2];\\n\\n\"",
       "editable": true,
       "layout": "IPY_MODEL_682933fc12be4da2b40e7b9a3a95b8b2",
       "qiskit_code_cell_index": -1
      }
     },
     "4018fb5e84d04325a00a15a3f02bfe36": {
      "model_module": "@jupyter-widgets/base",
      "model_module_version": "1.2.0",
      "model_name": "LayoutModel",
      "state": {}
     },
     "40c61f91dfd24292a127edd10f7be399": {
      "model_module": "@quantum/ibm-q-lab-widgets",
      "model_module_version": "^1.0.3",
      "model_name": "CircuitComposerModel",
      "state": {
       "_model_module_version": "^1.0.3",
       "_view_module_version": "^1.0.3",
       "circuit": "\"OPENQASM 2.0;\\ninclude \\\"qelib1.inc\\\";\\n\\nqreg q[2];\\ncreg c[2];\\n\\n\"",
       "editable": true,
       "layout": "IPY_MODEL_7bedc00802484dbeb6aba91d32d0c162",
       "qiskit_code_cell_index": -1
      }
     },
     "40e38822b43d428db06da9307e1f826d": {
      "model_module": "@quantum/ibm-q-lab-widgets",
      "model_module_version": "^1.0.3",
      "model_name": "CircuitComposerModel",
      "state": {
       "_model_module_version": "^1.0.3",
       "_view_module_version": "^1.0.3",
       "circuit": "\"OPENQASM 2.0;\\ninclude \\\"qelib1.inc\\\";\\n\\nqreg q[2];\\ncreg c[2];\\n\\n\"",
       "editable": true,
       "layout": "IPY_MODEL_55d2eb13f1324978bc9098a22b531541",
       "qiskit_code_cell_index": -1
      }
     },
     "40e3d5dd1db04892abdf1fb26cec6159": {
      "model_module": "@quantum/ibm-q-lab-widgets",
      "model_module_version": "^1.0.3",
      "model_name": "CircuitComposerModel",
      "state": {
       "_model_module_version": "^1.0.3",
       "_view_module_version": "^1.0.3",
       "circuit": "\"OPENQASM 2.0;\\ninclude \\\"qelib1.inc\\\";\\n\\nqreg q[2];\\ncreg c[2];\\n\\n\"",
       "editable": true,
       "layout": "IPY_MODEL_f17fea5669f0483abec10aa5958deebb",
       "qiskit_code_cell_index": -1
      }
     },
     "419ef2d0a4f04337b08f06388ff80698": {
      "model_module": "@quantum/ibm-q-lab-widgets",
      "model_module_version": "^1.0.3",
      "model_name": "CircuitComposerModel",
      "state": {
       "_model_module_version": "^1.0.3",
       "_view_module_version": "^1.0.3",
       "circuit": "\"OPENQASM 2.0;\\ninclude \\\"qelib1.inc\\\";\\n\\nqreg q[2];\\ncreg c[2];\\n\\n\"",
       "editable": true,
       "layout": "IPY_MODEL_fd95647dfda04c7da7b1191b65231d49",
       "qiskit_code_cell_index": -1
      }
     },
     "424a2792b521437dba34d9e16d01bae7": {
      "model_module": "@jupyter-widgets/base",
      "model_module_version": "1.2.0",
      "model_name": "LayoutModel",
      "state": {}
     },
     "43533c01bee0497fab09e74343238653": {
      "model_module": "@jupyter-widgets/base",
      "model_module_version": "1.2.0",
      "model_name": "LayoutModel",
      "state": {}
     },
     "43facc27b9244633b0901cbcdd5c4489": {
      "model_module": "@quantum/ibm-q-lab-widgets",
      "model_module_version": "^1.0.3",
      "model_name": "CircuitComposerModel",
      "state": {
       "_model_module_version": "^1.0.3",
       "_view_module_version": "^1.0.3",
       "circuit": "\"OPENQASM 2.0;\\ninclude \\\"qelib1.inc\\\";\\n\\nqreg q[2];\\ncreg c[2];\\n\\n\"",
       "editable": true,
       "layout": "IPY_MODEL_db526552ec4044b0a381017851518441",
       "qiskit_code_cell_index": -1
      }
     },
     "4423950faeaa44cba9506722087d3448": {
      "model_module": "@jupyter-widgets/base",
      "model_module_version": "1.2.0",
      "model_name": "LayoutModel",
      "state": {}
     },
     "46cf6bdad4bd45568c1b5c5561d6bdc6": {
      "model_module": "@jupyter-widgets/base",
      "model_module_version": "1.2.0",
      "model_name": "LayoutModel",
      "state": {}
     },
     "480f0cecb3c344e899c8c19f06cb8723": {
      "model_module": "@jupyter-widgets/base",
      "model_module_version": "1.2.0",
      "model_name": "LayoutModel",
      "state": {}
     },
     "48f021d30068473982d6092d86e521ba": {
      "model_module": "@jupyter-widgets/base",
      "model_module_version": "1.2.0",
      "model_name": "LayoutModel",
      "state": {}
     },
     "49f1c9d1b34a4309a9a98d5bccc7649f": {
      "model_module": "@quantum/ibm-q-lab-widgets",
      "model_module_version": "^1.0.3",
      "model_name": "CircuitComposerModel",
      "state": {
       "_model_module_version": "^1.0.3",
       "_view_module_version": "^1.0.3",
       "circuit": "\"OPENQASM 2.0;\\ninclude \\\"qelib1.inc\\\";\\n\\nqreg q[2];\\ncreg c[2];\\n\\n\"",
       "editable": true,
       "layout": "IPY_MODEL_1f80afd3d50c432a9a6f7f0a6b9de5cb",
       "qiskit_code_cell_index": -1
      }
     },
     "4b72dee504034a72a4bebd0471b2396f": {
      "model_module": "@jupyter-widgets/base",
      "model_module_version": "1.2.0",
      "model_name": "LayoutModel",
      "state": {}
     },
     "4cd5199684454ad8a7c6f7e416b94714": {
      "model_module": "@quantum/ibm-q-lab-widgets",
      "model_module_version": "^1.0.3",
      "model_name": "CircuitComposerModel",
      "state": {
       "_model_module_version": "^1.0.3",
       "_view_module_version": "^1.0.3",
       "circuit": "\"OPENQASM 2.0;\\ninclude \\\"qelib1.inc\\\";\\n\\nqreg q[2];\\ncreg c[2];\\n\\nh q[0];\\nh q[0];\\nh q[1];\"",
       "editable": true,
       "layout": "IPY_MODEL_859af7897c7f4587be67d31dfcaba308",
       "qiskit_code_cell_index": -1
      }
     },
     "4e6f71b9a39d490d87c87ec6b2415bf0": {
      "model_module": "@quantum/ibm-q-lab-widgets",
      "model_module_version": "^1.0.3",
      "model_name": "CircuitComposerModel",
      "state": {
       "_model_module_version": "^1.0.3",
       "_view_module_version": "^1.0.3",
       "circuit": "\"OPENQASM 2.0;\\ninclude \\\"qelib1.inc\\\";\\n\\nqreg q[2];\\ncreg c[2];\\n\\n\"",
       "editable": true,
       "layout": "IPY_MODEL_863f8db81cc345209f4eb24ea3b8fc31",
       "qiskit_code_cell_index": -1
      }
     },
     "4e7717c73f65499ba386a0307f383c2c": {
      "model_module": "@jupyter-widgets/base",
      "model_module_version": "1.2.0",
      "model_name": "LayoutModel",
      "state": {}
     },
     "4e80dd7b8a8b4c239ae037c4952d731d": {
      "model_module": "@jupyter-widgets/base",
      "model_module_version": "1.2.0",
      "model_name": "LayoutModel",
      "state": {}
     },
     "4f6b7bc4c7984ab1bc48e6f89fb4216d": {
      "model_module": "@jupyter-widgets/base",
      "model_module_version": "1.2.0",
      "model_name": "LayoutModel",
      "state": {}
     },
     "4f774e354cbd4c1daf9255bea113ac82": {
      "model_module": "@quantum/ibm-q-lab-widgets",
      "model_module_version": "^1.0.3",
      "model_name": "CircuitComposerModel",
      "state": {
       "_model_module_version": "^1.0.3",
       "_view_module_version": "^1.0.3",
       "circuit": "\"OPENQASM 2.0;\\ninclude \\\"qelib1.inc\\\";\\n\\nqreg q[2];\\ncreg c[2];\\n\\nh q[0];\\ncx q[0],q[1];\"",
       "editable": true,
       "layout": "IPY_MODEL_46cf6bdad4bd45568c1b5c5561d6bdc6",
       "qiskit_code_cell_index": -1
      }
     },
     "4f9e6623fe554bdf883b83c4443e5de1": {
      "model_module": "@jupyter-widgets/base",
      "model_module_version": "1.2.0",
      "model_name": "LayoutModel",
      "state": {}
     },
     "51227fe1bfb546f2899f6696446eed9d": {
      "model_module": "@jupyter-widgets/base",
      "model_module_version": "1.2.0",
      "model_name": "LayoutModel",
      "state": {}
     },
     "5174c0168f064d7b8ef68b6901e279b9": {
      "model_module": "@jupyter-widgets/base",
      "model_module_version": "1.2.0",
      "model_name": "LayoutModel",
      "state": {}
     },
     "53355cde5a14455e8ed789ce8ff2cb81": {
      "model_module": "@quantum/ibm-q-lab-widgets",
      "model_module_version": "^1.0.3",
      "model_name": "CircuitComposerModel",
      "state": {
       "_model_module_version": "^1.0.3",
       "_view_module_version": "^1.0.3",
       "circuit": "\"OPENQASM 2.0;\\ninclude \\\"qelib1.inc\\\";\\n\\nqreg q[2];\\ncreg c[2];\\n\\nh q[0];\\ncx q[0],q[1];\"",
       "editable": true,
       "layout": "IPY_MODEL_5fdf5d010a7945e49d715396147f5010",
       "qiskit_code_cell_index": -1
      }
     },
     "5399ca0435704cf79aa9682a91fc4be3": {
      "model_module": "@quantum/ibm-q-lab-widgets",
      "model_module_version": "^1.0.3",
      "model_name": "CircuitComposerModel",
      "state": {
       "_model_module_version": "^1.0.3",
       "_view_module_version": "^1.0.3",
       "circuit": "\"OPENQASM 2.0;\\ninclude \\\"qelib1.inc\\\";\\n\\nqreg q[2];\\ncreg c[2];\\n\\nh q[0];\"",
       "editable": true,
       "layout": "IPY_MODEL_010ff8d1868049b78e0237ce4558e28a",
       "qiskit_code_cell_index": -1
      }
     },
     "53e5877e6e6b4d9aafdbe7a2b26a20df": {
      "model_module": "@quantum/ibm-q-lab-widgets",
      "model_module_version": "^1.0.3",
      "model_name": "CircuitComposerModel",
      "state": {
       "_model_module_version": "^1.0.3",
       "_view_module_version": "^1.0.3",
       "circuit": "\"OPENQASM 2.0;\\ninclude \\\"qelib1.inc\\\";\\n\\nqreg q[2];\\ncreg c[2];\\n\\nh q[0];\\ncx q[0],q[1];\"",
       "editable": true,
       "layout": "IPY_MODEL_c127955b4f7e47a79104d4f22e107d0c",
       "qiskit_code_cell_index": -1
      }
     },
     "558a2809745f4f4fbd6b7900d6bd9e01": {
      "model_module": "@jupyter-widgets/base",
      "model_module_version": "1.2.0",
      "model_name": "LayoutModel",
      "state": {}
     },
     "55d2eb13f1324978bc9098a22b531541": {
      "model_module": "@jupyter-widgets/base",
      "model_module_version": "1.2.0",
      "model_name": "LayoutModel",
      "state": {}
     },
     "55fde6f076574479b560a85a25a97156": {
      "model_module": "@jupyter-widgets/base",
      "model_module_version": "1.2.0",
      "model_name": "LayoutModel",
      "state": {}
     },
     "56e9c9e763d44ff2b4908f0f07847f86": {
      "model_module": "@jupyter-widgets/base",
      "model_module_version": "1.2.0",
      "model_name": "LayoutModel",
      "state": {}
     },
     "588ac109284446a68cd927bdc60e9db4": {
      "model_module": "@quantum/ibm-q-lab-widgets",
      "model_module_version": "^1.0.3",
      "model_name": "CircuitComposerModel",
      "state": {
       "_model_module_version": "^1.0.3",
       "_view_module_version": "^1.0.3",
       "circuit": "\"OPENQASM 2.0;\\ninclude \\\"qelib1.inc\\\";\\n\\nqreg q[2];\\ncreg c[2];\\n\\nh q[0];\\nh q[1];\\ncx q[0],q[1];\\nx q[1];\"",
       "editable": true,
       "layout": "IPY_MODEL_308cfc3b915b46f4b853e8c1563161e8",
       "qiskit_code_cell_index": -1
      }
     },
     "590a78bb1c474859b3d0daf49a28715f": {
      "model_module": "@jupyter-widgets/base",
      "model_module_version": "1.2.0",
      "model_name": "LayoutModel",
      "state": {}
     },
     "5af1f845a5e346db81f0d559ef4eb7b7": {
      "model_module": "@jupyter-widgets/base",
      "model_module_version": "1.2.0",
      "model_name": "LayoutModel",
      "state": {}
     },
     "5b34183506b84ecdbfeaf68487c176a6": {
      "model_module": "@jupyter-widgets/base",
      "model_module_version": "1.2.0",
      "model_name": "LayoutModel",
      "state": {}
     },
     "5b787ba0af6640a7af82c27161cd9760": {
      "model_module": "@jupyter-widgets/base",
      "model_module_version": "1.2.0",
      "model_name": "LayoutModel",
      "state": {}
     },
     "5d239b36f34349e49b97096c0020a1a5": {
      "model_module": "@quantum/ibm-q-lab-widgets",
      "model_module_version": "^1.0.3",
      "model_name": "CircuitComposerModel",
      "state": {
       "_model_module_version": "^1.0.3",
       "_view_module_version": "^1.0.3",
       "circuit": "\"OPENQASM 2.0;\\ninclude \\\"qelib1.inc\\\";\\n\\nqreg q[2];\\ncreg c[2];\\n\\nh q[0];\\nh q[1];\"",
       "editable": true,
       "layout": "IPY_MODEL_a7d6fb87955645e4b95633449fed37cb",
       "qiskit_code_cell_index": -1
      }
     },
     "5e93b1ecc55b4fc5a34549c00d8bc1c5": {
      "model_module": "@quantum/ibm-q-lab-widgets",
      "model_module_version": "^1.0.3",
      "model_name": "CircuitComposerModel",
      "state": {
       "_model_module_version": "^1.0.3",
       "_view_module_version": "^1.0.3",
       "circuit": "\"OPENQASM 2.0;\\ninclude \\\"qelib1.inc\\\";\\n\\nqreg q[2];\\ncreg c[2];\\n\\n\"",
       "editable": true,
       "layout": "IPY_MODEL_8a12c6ec5f3d4cfea1b161702e7047d6",
       "qiskit_code_cell_index": -1
      }
     },
     "5fdf5d010a7945e49d715396147f5010": {
      "model_module": "@jupyter-widgets/base",
      "model_module_version": "1.2.0",
      "model_name": "LayoutModel",
      "state": {}
     },
     "63dc8a503af54d11b7d5c3e1db382569": {
      "model_module": "@quantum/ibm-q-lab-widgets",
      "model_module_version": "^1.0.3",
      "model_name": "CircuitComposerModel",
      "state": {
       "_model_module_version": "^1.0.3",
       "_view_module_version": "^1.0.3",
       "circuit": "\"OPENQASM 2.0;\\ninclude \\\"qelib1.inc\\\";\\n\\nqreg q[2];\\ncreg c[2];\\n\\nh q[0];\\nh q[1];\"",
       "editable": true,
       "layout": "IPY_MODEL_55fde6f076574479b560a85a25a97156",
       "qiskit_code_cell_index": -1
      }
     },
     "63f5388b00a549d5a11d8e97b222d6a6": {
      "model_module": "@quantum/ibm-q-lab-widgets",
      "model_module_version": "^1.0.3",
      "model_name": "CircuitComposerModel",
      "state": {
       "_model_module_version": "^1.0.3",
       "_view_module_version": "^1.0.3",
       "circuit": "\"OPENQASM 2.0;\\ninclude \\\"qelib1.inc\\\";\\n\\nqreg q[2];\\ncreg c[2];\\n\\nh q[0];\\ncx q[0],q[1];\"",
       "editable": true,
       "layout": "IPY_MODEL_df3ba8cfd5de4f9298b476547786c297",
       "qiskit_code_cell_index": -1
      }
     },
     "64679f1c836445909f7e374ad25b337b": {
      "model_module": "@jupyter-widgets/base",
      "model_module_version": "1.2.0",
      "model_name": "LayoutModel",
      "state": {}
     },
     "6491ed75431c46959997cda7b68178e0": {
      "model_module": "@quantum/ibm-q-lab-widgets",
      "model_module_version": "^1.0.3",
      "model_name": "CircuitComposerModel",
      "state": {
       "_model_module_version": "^1.0.3",
       "_view_module_version": "^1.0.3",
       "circuit": "\"OPENQASM 2.0;\\ninclude \\\"qelib1.inc\\\";\\n\\nqreg q[2];\\ncreg c[2];\\n\\nh q[0];\\ncx q[0],q[1];\"",
       "editable": true,
       "layout": "IPY_MODEL_be8b971370ac444bbab0362e6a452241",
       "qiskit_code_cell_index": -1
      }
     },
     "64aed5bfec754a03878331a34a6a6042": {
      "model_module": "@jupyter-widgets/base",
      "model_module_version": "1.2.0",
      "model_name": "LayoutModel",
      "state": {}
     },
     "658204f987ba445186694e999e988064": {
      "model_module": "@quantum/ibm-q-lab-widgets",
      "model_module_version": "^1.0.3",
      "model_name": "CircuitComposerModel",
      "state": {
       "_model_module_version": "^1.0.3",
       "_view_module_version": "^1.0.3",
       "circuit": "\"OPENQASM 2.0;\\ninclude \\\"qelib1.inc\\\";\\n\\nqreg q[2];\\ncreg c[2];\\n\\nh q[0];\\ncx q[0],q[1];\"",
       "editable": true,
       "layout": "IPY_MODEL_276a7d0231364e83b8e324453d720a74",
       "qiskit_code_cell_index": -1
      }
     },
     "65db8e41d42a4a7d92eab7dee1148f62": {
      "model_module": "@quantum/ibm-q-lab-widgets",
      "model_module_version": "^1.0.3",
      "model_name": "CircuitComposerModel",
      "state": {
       "_model_module_version": "^1.0.3",
       "_view_module_version": "^1.0.3",
       "circuit": "\"OPENQASM 2.0;\\ninclude \\\"qelib1.inc\\\";\\n\\nqreg q[2];\\ncreg c[2];\\n\\n\"",
       "editable": true,
       "layout": "IPY_MODEL_6cb3f9d8ad2644f0a278a81520a4c28f",
       "qiskit_code_cell_index": -1
      }
     },
     "6803bcb4da3c4e4ea192a980af45c811": {
      "model_module": "@quantum/ibm-q-lab-widgets",
      "model_module_version": "^1.0.3",
      "model_name": "CircuitComposerModel",
      "state": {
       "_model_module_version": "^1.0.3",
       "_view_module_version": "^1.0.3",
       "circuit": "\"OPENQASM 2.0;\\ninclude \\\"qelib1.inc\\\";\\n\\nqreg q[2];\\ncreg c[2];\\n\\n\"",
       "editable": true,
       "layout": "IPY_MODEL_75719e74d9644808965d5bea6a4590d6",
       "qiskit_code_cell_index": -1
      }
     },
     "682933fc12be4da2b40e7b9a3a95b8b2": {
      "model_module": "@jupyter-widgets/base",
      "model_module_version": "1.2.0",
      "model_name": "LayoutModel",
      "state": {}
     },
     "68b2fd762cb5440bb7981063d4fbade6": {
      "model_module": "@jupyter-widgets/base",
      "model_module_version": "1.2.0",
      "model_name": "LayoutModel",
      "state": {}
     },
     "69b5ddab03b5479aaa45bd6c17a794f2": {
      "model_module": "@quantum/ibm-q-lab-widgets",
      "model_module_version": "^1.0.3",
      "model_name": "CircuitComposerModel",
      "state": {
       "_model_module_version": "^1.0.3",
       "_view_module_version": "^1.0.3",
       "circuit": "\"OPENQASM 2.0;\\ninclude \\\"qelib1.inc\\\";\\n\\nqreg q[2];\\ncreg c[2];\\n\\nh q[0];\\ncx q[0],q[1];\"",
       "editable": true,
       "layout": "IPY_MODEL_9848508fcc9c42d2a945e714b174e0ea",
       "qiskit_code_cell_index": -1
      }
     },
     "6a4e22b3bc3d4d668f230e53ca5aa4dc": {
      "model_module": "@quantum/ibm-q-lab-widgets",
      "model_module_version": "^1.0.3",
      "model_name": "CircuitComposerModel",
      "state": {
       "_model_module_version": "^1.0.3",
       "_view_module_version": "^1.0.3",
       "circuit": "\"OPENQASM 2.0;\\ninclude \\\"qelib1.inc\\\";\\n\\nqreg q[2];\\ncreg c[2];\\n\\nh q[0];\\ncx q[0],q[1];\"",
       "editable": true,
       "layout": "IPY_MODEL_e7c6158dcf4740deaaf84819557a8a64",
       "qiskit_code_cell_index": -1
      }
     },
     "6aff46b9824f4a85bb13c96cb699260c": {
      "model_module": "@jupyter-widgets/base",
      "model_module_version": "1.2.0",
      "model_name": "LayoutModel",
      "state": {}
     },
     "6ba5073890fd4fe9b085837c6d68bbb4": {
      "model_module": "@quantum/ibm-q-lab-widgets",
      "model_module_version": "^1.0.3",
      "model_name": "CircuitComposerModel",
      "state": {
       "_model_module_version": "^1.0.3",
       "_view_module_version": "^1.0.3",
       "circuit": "\"OPENQASM 2.0;\\ninclude \\\"qelib1.inc\\\";\\n\\nqreg q[4];\\ncreg c[4];\\n\\nh q[0];\\nh q[1];\\nh q[2];\\nccx q[0],q[1],q[2];\"",
       "editable": true,
       "layout": "IPY_MODEL_ff5fd2153db846e6a16bf031d55c8471",
       "qiskit_code_cell_index": -1
      }
     },
     "6c8da754143642e79ddc9a6600c20ed1": {
      "model_module": "@jupyter-widgets/base",
      "model_module_version": "1.2.0",
      "model_name": "LayoutModel",
      "state": {}
     },
     "6cb3f9d8ad2644f0a278a81520a4c28f": {
      "model_module": "@jupyter-widgets/base",
      "model_module_version": "1.2.0",
      "model_name": "LayoutModel",
      "state": {}
     },
     "6d7713890d17448592a913b6115af985": {
      "model_module": "@quantum/ibm-q-lab-widgets",
      "model_module_version": "^1.0.3",
      "model_name": "CircuitComposerModel",
      "state": {
       "_model_module_version": "^1.0.3",
       "_view_module_version": "^1.0.3",
       "circuit": "\"OPENQASM 2.0;\\ninclude \\\"qelib1.inc\\\";\\n\\nqreg q[2];\\ncreg c[2];\\n\\nh q[0];\\ncx q[0],q[1];\"",
       "editable": true,
       "layout": "IPY_MODEL_64679f1c836445909f7e374ad25b337b",
       "qiskit_code_cell_index": -1
      }
     },
     "6ded30d2aa7844db9c2d75b089fa6851": {
      "model_module": "@quantum/ibm-q-lab-widgets",
      "model_module_version": "^1.0.3",
      "model_name": "CircuitComposerModel",
      "state": {
       "_model_module_version": "^1.0.3",
       "_view_module_version": "^1.0.3",
       "circuit": "\"OPENQASM 2.0;\\ninclude \\\"qelib1.inc\\\";\\n\\nqreg q[2];\\ncreg c[2];\\n\\nh q[0];\\ncx q[0],q[1];\"",
       "editable": true,
       "layout": "IPY_MODEL_191de5c9a06945989192408e6d4c58d1",
       "qiskit_code_cell_index": -1
      }
     },
     "6ecd9ec2fd614a9d8b30c254cbba0a98": {
      "model_module": "@jupyter-widgets/base",
      "model_module_version": "1.2.0",
      "model_name": "LayoutModel",
      "state": {}
     },
     "6f9348e5a2704d81b4ae6808c5b2d8a0": {
      "model_module": "@quantum/ibm-q-lab-widgets",
      "model_module_version": "^1.0.3",
      "model_name": "CircuitComposerModel",
      "state": {
       "_model_module_version": "^1.0.3",
       "_view_module_version": "^1.0.3",
       "circuit": "\"OPENQASM 2.0;\\ninclude \\\"qelib1.inc\\\";\\n\\nqreg q[2];\\ncreg c[2];\\n\\nh q[0];\"",
       "editable": true,
       "layout": "IPY_MODEL_2c63ebd0c40942c08a2e81ac1617353e",
       "qiskit_code_cell_index": -1
      }
     },
     "701889f105784f209d2a086072c22946": {
      "model_module": "@quantum/ibm-q-lab-widgets",
      "model_module_version": "^1.0.3",
      "model_name": "CircuitComposerModel",
      "state": {
       "_model_module_version": "^1.0.3",
       "_view_module_version": "^1.0.3",
       "circuit": "\"OPENQASM 2.0;\\ninclude \\\"qelib1.inc\\\";\\n\\nqreg q[2];\\ncreg c[2];\\n\\n\"",
       "editable": true,
       "layout": "IPY_MODEL_bf2c83a199834af8870e5e3f64aee841",
       "qiskit_code_cell_index": -1
      }
     },
     "71b84c5977074f2984fb1fdb00280f46": {
      "model_module": "@quantum/ibm-q-lab-widgets",
      "model_module_version": "^1.0.3",
      "model_name": "CircuitComposerModel",
      "state": {
       "_model_module_version": "^1.0.3",
       "_view_module_version": "^1.0.3",
       "circuit": "\"OPENQASM 2.0;\\ninclude \\\"qelib1.inc\\\";\\n\\nqreg q[2];\\ncreg c[2];\\n\\n\"",
       "editable": true,
       "layout": "IPY_MODEL_4f6b7bc4c7984ab1bc48e6f89fb4216d",
       "qiskit_code_cell_index": -1
      }
     },
     "73856d8803374d2190529b794e20aa2c": {
      "model_module": "@jupyter-widgets/base",
      "model_module_version": "1.2.0",
      "model_name": "LayoutModel",
      "state": {}
     },
     "746e8f0664bb4ca58b44985a9a5242d4": {
      "model_module": "@jupyter-widgets/base",
      "model_module_version": "1.2.0",
      "model_name": "LayoutModel",
      "state": {}
     },
     "7539499344f34fd0818383bf8e8e5a4a": {
      "model_module": "@jupyter-widgets/base",
      "model_module_version": "1.2.0",
      "model_name": "LayoutModel",
      "state": {}
     },
     "75719e74d9644808965d5bea6a4590d6": {
      "model_module": "@jupyter-widgets/base",
      "model_module_version": "1.2.0",
      "model_name": "LayoutModel",
      "state": {}
     },
     "76a63b262c4d4cb7ab6280219251a644": {
      "model_module": "@quantum/ibm-q-lab-widgets",
      "model_module_version": "^1.0.3",
      "model_name": "CircuitComposerModel",
      "state": {
       "_model_module_version": "^1.0.3",
       "_view_module_version": "^1.0.3",
       "circuit": "\"OPENQASM 2.0;\\ninclude \\\"qelib1.inc\\\";\\n\\nqreg q[2];\\ncreg c[2];\\n\\nh q[0];\\ncx q[0],q[1];\"",
       "editable": true,
       "layout": "IPY_MODEL_4018fb5e84d04325a00a15a3f02bfe36",
       "qiskit_code_cell_index": -1
      }
     },
     "77836e16be08402ab73533bf78a69f3b": {
      "model_module": "@quantum/ibm-q-lab-widgets",
      "model_module_version": "^1.0.3",
      "model_name": "CircuitComposerModel",
      "state": {
       "_model_module_version": "^1.0.3",
       "_view_module_version": "^1.0.3",
       "circuit": "\"OPENQASM 2.0;\\ninclude \\\"qelib1.inc\\\";\\n\\nqreg q[2];\\ncreg c[2];\\n\\nh q[0];\\ncx q[0],q[1];\"",
       "editable": true,
       "layout": "IPY_MODEL_ca765d5aff874f9c8593632fd8ea006f",
       "qiskit_code_cell_index": -1
      }
     },
     "79b1830a01904e93b6fcbb80ff670674": {
      "model_module": "@jupyter-widgets/base",
      "model_module_version": "1.2.0",
      "model_name": "LayoutModel",
      "state": {}
     },
     "79c3dd0c4ed045dfa52eea6cd0cc073e": {
      "model_module": "@quantum/ibm-q-lab-widgets",
      "model_module_version": "^1.0.3",
      "model_name": "CircuitComposerModel",
      "state": {
       "_model_module_version": "^1.0.3",
       "_view_module_version": "^1.0.3",
       "circuit": "\"OPENQASM 2.0;\\ninclude \\\"qelib1.inc\\\";\\n\\nqreg q[2];\\ncreg c[2];\\n\\n\"",
       "editable": true,
       "layout": "IPY_MODEL_912a069fa8c04ab680dd4d819f47c023",
       "qiskit_code_cell_index": -1
      }
     },
     "7afcb3c3f9cb4fcd8befbd73d4b75e71": {
      "model_module": "@quantum/ibm-q-lab-widgets",
      "model_module_version": "^1.0.3",
      "model_name": "CircuitComposerModel",
      "state": {
       "_model_module_version": "^1.0.3",
       "_view_module_version": "^1.0.3",
       "circuit": "\"OPENQASM 2.0;\\ninclude \\\"qelib1.inc\\\";\\n\\nqreg q[2];\\ncreg c[2];\\n\\nh q[0];\\nh q[1];\"",
       "editable": true,
       "layout": "IPY_MODEL_e6c7f5919e014e4faec12aa344350574",
       "qiskit_code_cell_index": -1
      }
     },
     "7b02dae7d0634bc89f2016bf389f2fec": {
      "model_module": "@quantum/ibm-q-lab-widgets",
      "model_module_version": "^1.0.3",
      "model_name": "CircuitComposerModel",
      "state": {
       "_model_module_version": "^1.0.3",
       "_view_module_version": "^1.0.3",
       "circuit": "\"OPENQASM 2.0;\\ninclude \\\"qelib1.inc\\\";\\n\\nqreg q[2];\\ncreg c[2];\\n\\n\"",
       "editable": true,
       "layout": "IPY_MODEL_f3a1ffc52b8f496fb01162f394164290",
       "qiskit_code_cell_index": -1
      }
     },
     "7b30a3b5c1cf4cb3938d5ce54ed9451c": {
      "model_module": "@quantum/ibm-q-lab-widgets",
      "model_module_version": "^1.0.3",
      "model_name": "CircuitComposerModel",
      "state": {
       "_model_module_version": "^1.0.3",
       "_view_module_version": "^1.0.3",
       "circuit": "\"OPENQASM 2.0;\\ninclude \\\"qelib1.inc\\\";\\n\\nqreg q[3];\\ncreg c[3];\\n\\nccx q[0],q[1],q[2];\"",
       "editable": true,
       "layout": "IPY_MODEL_b295c97c766c4f9e830c2a7a20a7e17d",
       "qiskit_code_cell_index": -1
      }
     },
     "7be58f346e8148a1b476b96003e77930": {
      "model_module": "@jupyter-widgets/base",
      "model_module_version": "1.2.0",
      "model_name": "LayoutModel",
      "state": {}
     },
     "7bedc00802484dbeb6aba91d32d0c162": {
      "model_module": "@jupyter-widgets/base",
      "model_module_version": "1.2.0",
      "model_name": "LayoutModel",
      "state": {}
     },
     "7c7cb44cf72248b48b41d1fe9816e199": {
      "model_module": "@quantum/ibm-q-lab-widgets",
      "model_module_version": "^1.0.3",
      "model_name": "CircuitComposerModel",
      "state": {
       "_model_module_version": "^1.0.3",
       "_view_module_version": "^1.0.3",
       "circuit": "\"OPENQASM 2.0;\\ninclude \\\"qelib1.inc\\\";\\n\\nqreg q[2];\\ncreg c[2];\\n\\n\"",
       "editable": true,
       "layout": "IPY_MODEL_122cdaf8245c4a93a248c801fbab418f",
       "qiskit_code_cell_index": -1
      }
     },
     "7cb29458a7464830925ea98a2fcad983": {
      "model_module": "@quantum/ibm-q-lab-widgets",
      "model_module_version": "^1.0.3",
      "model_name": "CircuitComposerModel",
      "state": {
       "_model_module_version": "^1.0.3",
       "_view_module_version": "^1.0.3",
       "circuit": "\"OPENQASM 2.0;\\ninclude \\\"qelib1.inc\\\";\\n\\nqreg q[2];\\ncreg c[2];\\n\\nh q[0];\\ncx q[0],q[1];\"",
       "editable": true,
       "layout": "IPY_MODEL_3aab181cfa8b4fc0b514ee2f4b8b269e",
       "qiskit_code_cell_index": -1
      }
     },
     "7d40c0ab76e642d38b458411d32fe4be": {
      "model_module": "@quantum/ibm-q-lab-widgets",
      "model_module_version": "^1.0.3",
      "model_name": "CircuitComposerModel",
      "state": {
       "_model_module_version": "^1.0.3",
       "_view_module_version": "^1.0.3",
       "circuit": "\"OPENQASM 2.0;\\ninclude \\\"qelib1.inc\\\";\\n\\nqreg q[2];\\ncreg c[2];\\n\\nh q[0];\\nh q[1];\\ncx q[0],q[1];\\nh q[0];\"",
       "editable": true,
       "layout": "IPY_MODEL_a40de1dd92c848d2b1c998ee096647e2",
       "qiskit_code_cell_index": -1
      }
     },
     "7d416b33c2fd4e7f9a670e3b73487c6f": {
      "model_module": "@jupyter-widgets/base",
      "model_module_version": "1.2.0",
      "model_name": "LayoutModel",
      "state": {}
     },
     "7db756e013524530b6b89276f67de4d9": {
      "model_module": "@jupyter-widgets/base",
      "model_module_version": "1.2.0",
      "model_name": "LayoutModel",
      "state": {}
     },
     "7e0cff9114cc48959d01788870ad9840": {
      "model_module": "@jupyter-widgets/base",
      "model_module_version": "1.2.0",
      "model_name": "LayoutModel",
      "state": {}
     },
     "7e3992f9543a4c4ea64c65767e1c87eb": {
      "model_module": "@jupyter-widgets/base",
      "model_module_version": "1.2.0",
      "model_name": "LayoutModel",
      "state": {}
     },
     "80ae56cc08c243e98b9f3388d1b24185": {
      "model_module": "@quantum/ibm-q-lab-widgets",
      "model_module_version": "^1.0.3",
      "model_name": "CircuitComposerModel",
      "state": {
       "_model_module_version": "^1.0.3",
       "_view_module_version": "^1.0.3",
       "circuit": "\"OPENQASM 2.0;\\ninclude \\\"qelib1.inc\\\";\\n\\nqreg q[2];\\ncreg c[2];\\n\\nx q[0];\"",
       "editable": true,
       "layout": "IPY_MODEL_4e80dd7b8a8b4c239ae037c4952d731d",
       "qiskit_code_cell_index": -1
      }
     },
     "81c8f13076c84a3f84b0a1aeb996207b": {
      "model_module": "@jupyter-widgets/base",
      "model_module_version": "1.2.0",
      "model_name": "LayoutModel",
      "state": {}
     },
     "82536a741ef646a0bef1813c3b516480": {
      "model_module": "@jupyter-widgets/base",
      "model_module_version": "1.2.0",
      "model_name": "LayoutModel",
      "state": {}
     },
     "835cc36a98a84854bf826b73b25debcf": {
      "model_module": "@quantum/ibm-q-lab-widgets",
      "model_module_version": "^1.0.3",
      "model_name": "CircuitComposerModel",
      "state": {
       "_model_module_version": "^1.0.3",
       "_view_module_version": "^1.0.3",
       "circuit": "\"OPENQASM 2.0;\\ninclude \\\"qelib1.inc\\\";\\n\\nqreg q[2];\\ncreg c[2];\\n\\n\"",
       "editable": true,
       "layout": "IPY_MODEL_d06f6256ecc04f1688654b70110e990c",
       "qiskit_code_cell_index": -1
      }
     },
     "83bf7f95287843b58fa4b078e153f69d": {
      "model_module": "@quantum/ibm-q-lab-widgets",
      "model_module_version": "^1.0.3",
      "model_name": "CircuitComposerModel",
      "state": {
       "_model_module_version": "^1.0.3",
       "_view_module_version": "^1.0.3",
       "circuit": "\"OPENQASM 2.0;\\ninclude \\\"qelib1.inc\\\";\\n\\nqreg q[2];\\ncreg c[2];\\n\\n\"",
       "editable": true,
       "layout": "IPY_MODEL_fa133e0890bc43b49a1283c94a01f0b1",
       "qiskit_code_cell_index": -1
      }
     },
     "83f2d9e5ee7a4063888952841fc6a3ce": {
      "model_module": "@quantum/ibm-q-lab-widgets",
      "model_module_version": "^1.0.3",
      "model_name": "CircuitComposerModel",
      "state": {
       "_model_module_version": "^1.0.3",
       "_view_module_version": "^1.0.3",
       "circuit": "\"OPENQASM 2.0;\\ninclude \\\"qelib1.inc\\\";\\n\\nqreg q[2];\\ncreg c[2];\\n\\nh q[0];\\ncx q[0],q[1];\"",
       "editable": true,
       "layout": "IPY_MODEL_a37f027e9d47499e9d80488de19abed5",
       "qiskit_code_cell_index": -1
      }
     },
     "841537968ad94d20a270e0c334f80a37": {
      "model_module": "@quantum/ibm-q-lab-widgets",
      "model_module_version": "^1.0.3",
      "model_name": "CircuitComposerModel",
      "state": {
       "_model_module_version": "^1.0.3",
       "_view_module_version": "^1.0.3",
       "circuit": "\"OPENQASM 2.0;\\ninclude \\\"qelib1.inc\\\";\\n\\nqreg q[2];\\ncreg c[2];\\n\\n\"",
       "editable": true,
       "layout": "IPY_MODEL_3d61f7bc76f04909a298a22c40da7293",
       "qiskit_code_cell_index": -1
      }
     },
     "847c0a5d4f5b45ebb900a97c5e763839": {
      "model_module": "@quantum/ibm-q-lab-widgets",
      "model_module_version": "^1.0.3",
      "model_name": "CircuitComposerModel",
      "state": {
       "_model_module_version": "^1.0.3",
       "_view_module_version": "^1.0.3",
       "circuit": "\"OPENQASM 2.0;\\ninclude \\\"qelib1.inc\\\";\\n\\nqreg q[2];\\ncreg c[2];\\n\\n\"",
       "editable": true,
       "layout": "IPY_MODEL_5af1f845a5e346db81f0d559ef4eb7b7",
       "qiskit_code_cell_index": -1
      }
     },
     "859af7897c7f4587be67d31dfcaba308": {
      "model_module": "@jupyter-widgets/base",
      "model_module_version": "1.2.0",
      "model_name": "LayoutModel",
      "state": {}
     },
     "863f8db81cc345209f4eb24ea3b8fc31": {
      "model_module": "@jupyter-widgets/base",
      "model_module_version": "1.2.0",
      "model_name": "LayoutModel",
      "state": {}
     },
     "87b3bc2802f24fccbf7c3680379cbd55": {
      "model_module": "@quantum/ibm-q-lab-widgets",
      "model_module_version": "^1.0.3",
      "model_name": "CircuitComposerModel",
      "state": {
       "_model_module_version": "^1.0.3",
       "_view_module_version": "^1.0.3",
       "circuit": "\"OPENQASM 2.0;\\ninclude \\\"qelib1.inc\\\";\\n\\nqreg q[2];\\ncreg c[2];\\n\\n\"",
       "editable": true,
       "layout": "IPY_MODEL_32b64506f21a479c90b34f86b21c70fa",
       "qiskit_code_cell_index": -1
      }
     },
     "893b02f88c3446328477b0f1c2e6f219": {
      "model_module": "@jupyter-widgets/base",
      "model_module_version": "1.2.0",
      "model_name": "LayoutModel",
      "state": {}
     },
     "8a12c6ec5f3d4cfea1b161702e7047d6": {
      "model_module": "@jupyter-widgets/base",
      "model_module_version": "1.2.0",
      "model_name": "LayoutModel",
      "state": {}
     },
     "8af99ce46fca4f0e88907b4c8d115864": {
      "model_module": "@quantum/ibm-q-lab-widgets",
      "model_module_version": "^1.0.3",
      "model_name": "CircuitComposerModel",
      "state": {
       "_model_module_version": "^1.0.3",
       "_view_module_version": "^1.0.3",
       "circuit": "\"OPENQASM 2.0;\\ninclude \\\"qelib1.inc\\\";\\n\\nqreg q[2];\\ncreg c[2];\\n\\n\"",
       "editable": true,
       "layout": "IPY_MODEL_09731f386e0d45b5b21b4ad9331aa28d",
       "qiskit_code_cell_index": -1
      }
     },
     "8db1555ff34240d881bc104c9d2ab3d6": {
      "model_module": "@quantum/ibm-q-lab-widgets",
      "model_module_version": "^1.0.3",
      "model_name": "CircuitComposerModel",
      "state": {
       "_model_module_version": "^1.0.3",
       "_view_module_version": "^1.0.3",
       "circuit": "\"OPENQASM 2.0;\\ninclude \\\"qelib1.inc\\\";\\n\\nqreg q[2];\\ncreg c[2];\\n\\nh q[0];\\nh q[1];\\ncx q[0],q[1];\\nt q[0];\\nt q[1];\\ncx q[0],q[1];\"",
       "editable": true,
       "layout": "IPY_MODEL_4423950faeaa44cba9506722087d3448",
       "qiskit_code_cell_index": -1
      }
     },
     "8dca2092e9b74fb39fe0bf7838a1356f": {
      "model_module": "@jupyter-widgets/base",
      "model_module_version": "1.2.0",
      "model_name": "LayoutModel",
      "state": {}
     },
     "8f7ee35d6f6141cdb3f9ac639b4677fd": {
      "model_module": "@jupyter-widgets/base",
      "model_module_version": "1.2.0",
      "model_name": "LayoutModel",
      "state": {}
     },
     "903d043bcc064c7480dd1ae33796a0c6": {
      "model_module": "@jupyter-widgets/base",
      "model_module_version": "1.2.0",
      "model_name": "LayoutModel",
      "state": {}
     },
     "9050035f87f246b1b235298df72d9bd5": {
      "model_module": "@quantum/ibm-q-lab-widgets",
      "model_module_version": "^1.0.3",
      "model_name": "CircuitComposerModel",
      "state": {
       "_model_module_version": "^1.0.3",
       "_view_module_version": "^1.0.3",
       "circuit": "\"OPENQASM 2.0;\\ninclude \\\"qelib1.inc\\\";\\n\\nqreg q[2];\\ncreg c[2];\\n\\nh q[0];\\ncx q[0],q[1];\"",
       "editable": true,
       "layout": "IPY_MODEL_81c8f13076c84a3f84b0a1aeb996207b",
       "qiskit_code_cell_index": -1
      }
     },
     "9128083a45e14c73a37e6faf9c77b9d2": {
      "model_module": "@quantum/ibm-q-lab-widgets",
      "model_module_version": "^1.0.3",
      "model_name": "CircuitComposerModel",
      "state": {
       "_model_module_version": "^1.0.3",
       "_view_module_version": "^1.0.3",
       "circuit": "\"OPENQASM 2.0;\\ninclude \\\"qelib1.inc\\\";\\n\\nqreg q[2];\\ncreg c[2];\\n\\nh q[0];\\nx q[0];\\nh q[1];\\nswap q[0],q[1];\\nt q[0];\\nt q[1];\\ncx q[0],q[1];\"",
       "editable": true,
       "layout": "IPY_MODEL_a4ffde54cd0249a88c5a5268c9691229",
       "qiskit_code_cell_index": -1
      }
     },
     "912a069fa8c04ab680dd4d819f47c023": {
      "model_module": "@jupyter-widgets/base",
      "model_module_version": "1.2.0",
      "model_name": "LayoutModel",
      "state": {}
     },
     "91ab8ad8efac4406b010c386d4e30c6d": {
      "model_module": "@quantum/ibm-q-lab-widgets",
      "model_module_version": "^1.0.3",
      "model_name": "CircuitComposerModel",
      "state": {
       "_model_module_version": "^1.0.3",
       "_view_module_version": "^1.0.3",
       "circuit": "\"OPENQASM 2.0;\\ninclude \\\"qelib1.inc\\\";\\n\\nqreg q[2];\\ncreg c[2];\\n\\nh q[0];\\ncx q[0],q[1];\"",
       "editable": true,
       "layout": "IPY_MODEL_bf6973500cce4fcdb4f1bea10547a142",
       "qiskit_code_cell_index": -1
      }
     },
     "91f352fc8b2f40c881dee330d38e3239": {
      "model_module": "@quantum/ibm-q-lab-widgets",
      "model_module_version": "^1.0.3",
      "model_name": "CircuitComposerModel",
      "state": {
       "_model_module_version": "^1.0.3",
       "_view_module_version": "^1.0.3",
       "circuit": "\"OPENQASM 2.0;\\ninclude \\\"qelib1.inc\\\";\\n\\nqreg q[2];\\ncreg c[2];\\n\\n\"",
       "editable": true,
       "layout": "IPY_MODEL_dba623ca527048989128f67960e6f838",
       "qiskit_code_cell_index": -1
      }
     },
     "94806deb63c54220b3eaf50dd695544d": {
      "model_module": "@quantum/ibm-q-lab-widgets",
      "model_module_version": "^1.0.3",
      "model_name": "CircuitComposerModel",
      "state": {
       "_model_module_version": "^1.0.3",
       "_view_module_version": "^1.0.3",
       "circuit": "\"OPENQASM 2.0;\\ninclude \\\"qelib1.inc\\\";\\n\\nqreg q[2];\\ncreg c[2];\\n\\n\"",
       "editable": true,
       "layout": "IPY_MODEL_94a39934c1f843abbba82793f1fd501c",
       "qiskit_code_cell_index": -1
      }
     },
     "94a39934c1f843abbba82793f1fd501c": {
      "model_module": "@jupyter-widgets/base",
      "model_module_version": "1.2.0",
      "model_name": "LayoutModel",
      "state": {}
     },
     "96314211c8d64060bbe091ae733f092a": {
      "model_module": "@quantum/ibm-q-lab-widgets",
      "model_module_version": "^1.0.3",
      "model_name": "CircuitComposerModel",
      "state": {
       "_model_module_version": "^1.0.3",
       "_view_module_version": "^1.0.3",
       "circuit": "\"OPENQASM 2.0;\\ninclude \\\"qelib1.inc\\\";\\n\\nqreg q[2];\\ncreg c[2];\\n\\n\"",
       "editable": true,
       "layout": "IPY_MODEL_590a78bb1c474859b3d0daf49a28715f",
       "qiskit_code_cell_index": -1
      }
     },
     "978e63d4b57e4368879a0ea1a6074892": {
      "model_module": "@jupyter-widgets/base",
      "model_module_version": "1.2.0",
      "model_name": "LayoutModel",
      "state": {}
     },
     "97ec65c1413341bfb9f4acbdcd49ab80": {
      "model_module": "@jupyter-widgets/base",
      "model_module_version": "1.2.0",
      "model_name": "LayoutModel",
      "state": {}
     },
     "97fd969961b943c98360e94eb8bb9a30": {
      "model_module": "@jupyter-widgets/base",
      "model_module_version": "1.2.0",
      "model_name": "LayoutModel",
      "state": {}
     },
     "9848508fcc9c42d2a945e714b174e0ea": {
      "model_module": "@jupyter-widgets/base",
      "model_module_version": "1.2.0",
      "model_name": "LayoutModel",
      "state": {}
     },
     "9860bfca19464b20ac01ed7070ab8ca0": {
      "model_module": "@jupyter-widgets/base",
      "model_module_version": "1.2.0",
      "model_name": "LayoutModel",
      "state": {}
     },
     "98a54f51b44f4a8ba7b1a951a7d7e042": {
      "model_module": "@quantum/ibm-q-lab-widgets",
      "model_module_version": "^1.0.3",
      "model_name": "CircuitComposerModel",
      "state": {
       "_model_module_version": "^1.0.3",
       "_view_module_version": "^1.0.3",
       "circuit": "\"OPENQASM 2.0;\\ninclude \\\"qelib1.inc\\\";\\n\\nqreg q[2];\\ncreg c[2];\\n\\n\"",
       "editable": true,
       "layout": "IPY_MODEL_c21a1867662d470f8e89ad1293677e98",
       "qiskit_code_cell_index": -1
      }
     },
     "98abb8e9c87441069fc8bf53c020ca3d": {
      "model_module": "@jupyter-widgets/base",
      "model_module_version": "1.2.0",
      "model_name": "LayoutModel",
      "state": {}
     },
     "98cf22df865e44e48e0d704bfd3b7048": {
      "model_module": "@jupyter-widgets/base",
      "model_module_version": "1.2.0",
      "model_name": "LayoutModel",
      "state": {}
     },
     "9a638ea18dd94822a74d316d85990402": {
      "model_module": "@quantum/ibm-q-lab-widgets",
      "model_module_version": "^1.0.3",
      "model_name": "CircuitComposerModel",
      "state": {
       "_model_module_version": "^1.0.3",
       "_view_module_version": "^1.0.3",
       "circuit": "\"OPENQASM 2.0;\\ninclude \\\"qelib1.inc\\\";\\n\\nqreg q[2];\\ncreg c[2];\\n\\nh q[0];\\ncx q[0],q[1];\"",
       "editable": true,
       "layout": "IPY_MODEL_dbb85fc4e701456c84b96c9ef6d64556",
       "qiskit_code_cell_index": -1
      }
     },
     "9adf63308d78429184ce49278070ea1c": {
      "model_module": "@quantum/ibm-q-lab-widgets",
      "model_module_version": "^1.0.3",
      "model_name": "CircuitComposerModel",
      "state": {
       "_model_module_version": "^1.0.3",
       "_view_module_version": "^1.0.3",
       "circuit": "\"OPENQASM 2.0;\\ninclude \\\"qelib1.inc\\\";\\n\\nqreg q[2];\\ncreg c[2];\\n\\n\"",
       "editable": true,
       "layout": "IPY_MODEL_8f7ee35d6f6141cdb3f9ac639b4677fd",
       "qiskit_code_cell_index": -1
      }
     },
     "9ae2ef7a4c8e4130a53f4372e8034c2c": {
      "model_module": "@jupyter-widgets/base",
      "model_module_version": "1.2.0",
      "model_name": "LayoutModel",
      "state": {}
     },
     "9afa3a6cad6f4b6f958d91ddeb844673": {
      "model_module": "@jupyter-widgets/base",
      "model_module_version": "1.2.0",
      "model_name": "LayoutModel",
      "state": {}
     },
     "9b5fa93c21e24010a1d96d14f1f97135": {
      "model_module": "@jupyter-widgets/base",
      "model_module_version": "1.2.0",
      "model_name": "LayoutModel",
      "state": {}
     },
     "9cd29602613c4126b72976487d973d7c": {
      "model_module": "@quantum/ibm-q-lab-widgets",
      "model_module_version": "^1.0.3",
      "model_name": "CircuitComposerModel",
      "state": {
       "_model_module_version": "^1.0.3",
       "_view_module_version": "^1.0.3",
       "circuit": "\"OPENQASM 2.0;\\ninclude \\\"qelib1.inc\\\";\\n\\nqreg q[2];\\ncreg c[2];\\n\\nh q[0];\\ncx q[0],q[1];\"",
       "editable": true,
       "layout": "IPY_MODEL_f9c48ba6a3f4426db3adba23c8145a67",
       "qiskit_code_cell_index": -1
      }
     },
     "9ddee2575d84442cb0be0770f0981441": {
      "model_module": "@quantum/ibm-q-lab-widgets",
      "model_module_version": "^1.0.3",
      "model_name": "CircuitComposerModel",
      "state": {
       "_model_module_version": "^1.0.3",
       "_view_module_version": "^1.0.3",
       "circuit": "\"OPENQASM 2.0;\\ninclude \\\"qelib1.inc\\\";\\n\\nqreg q[2];\\ncreg c[2];\\n\\n\"",
       "editable": true,
       "layout": "IPY_MODEL_d0f7115f8ee147168e2b2f0b475847f6",
       "qiskit_code_cell_index": -1
      }
     },
     "9e122a980c2f4284b714bc59ee189a1c": {
      "model_module": "@quantum/ibm-q-lab-widgets",
      "model_module_version": "^1.0.3",
      "model_name": "CircuitComposerModel",
      "state": {
       "_model_module_version": "^1.0.3",
       "_view_module_version": "^1.0.3",
       "circuit": "\"OPENQASM 2.0;\\ninclude \\\"qelib1.inc\\\";\\n\\nqreg q[2];\\ncreg c[2];\\n\\nh q[0];\\ncx q[0],q[1];\"",
       "editable": true,
       "layout": "IPY_MODEL_893b02f88c3446328477b0f1c2e6f219",
       "qiskit_code_cell_index": -1
      }
     },
     "a1128161c59142b8941da03fdbea64fc": {
      "model_module": "@quantum/ibm-q-lab-widgets",
      "model_module_version": "^1.0.3",
      "model_name": "CircuitComposerModel",
      "state": {
       "_model_module_version": "^1.0.3",
       "_view_module_version": "^1.0.3",
       "circuit": "\"OPENQASM 2.0;\\ninclude \\\"qelib1.inc\\\";\\n\\nqreg q[2];\\ncreg c[2];\\n\\n\"",
       "editable": true,
       "layout": "IPY_MODEL_b1150a8fdd064108b3fa1329c627f279",
       "qiskit_code_cell_index": -1
      }
     },
     "a37f027e9d47499e9d80488de19abed5": {
      "model_module": "@jupyter-widgets/base",
      "model_module_version": "1.2.0",
      "model_name": "LayoutModel",
      "state": {}
     },
     "a40de1dd92c848d2b1c998ee096647e2": {
      "model_module": "@jupyter-widgets/base",
      "model_module_version": "1.2.0",
      "model_name": "LayoutModel",
      "state": {}
     },
     "a4ffde54cd0249a88c5a5268c9691229": {
      "model_module": "@jupyter-widgets/base",
      "model_module_version": "1.2.0",
      "model_name": "LayoutModel",
      "state": {}
     },
     "a55ca28c062e45d79417e8ceb6cb49cd": {
      "model_module": "@quantum/ibm-q-lab-widgets",
      "model_module_version": "^1.0.3",
      "model_name": "CircuitComposerModel",
      "state": {
       "_model_module_version": "^1.0.3",
       "_view_module_version": "^1.0.3",
       "circuit": "\"OPENQASM 2.0;\\ninclude \\\"qelib1.inc\\\";\\n\\nqreg q[2];\\ncreg c[2];\\n\\n\"",
       "editable": true,
       "layout": "IPY_MODEL_903d043bcc064c7480dd1ae33796a0c6",
       "qiskit_code_cell_index": -1
      }
     },
     "a65882d7e544498d9915626298442c2c": {
      "model_module": "@quantum/ibm-q-lab-widgets",
      "model_module_version": "^1.0.3",
      "model_name": "CircuitComposerModel",
      "state": {
       "_model_module_version": "^1.0.3",
       "_view_module_version": "^1.0.3",
       "circuit": "\"OPENQASM 2.0;\\ninclude \\\"qelib1.inc\\\";\\n\\nqreg q[2];\\ncreg c[2];\\n\\n\"",
       "editable": true,
       "layout": "IPY_MODEL_a7d897bf519b45c88c7d8ccb4a74a097",
       "qiskit_code_cell_index": -1
      }
     },
     "a7d6fb87955645e4b95633449fed37cb": {
      "model_module": "@jupyter-widgets/base",
      "model_module_version": "1.2.0",
      "model_name": "LayoutModel",
      "state": {}
     },
     "a7d897bf519b45c88c7d8ccb4a74a097": {
      "model_module": "@jupyter-widgets/base",
      "model_module_version": "1.2.0",
      "model_name": "LayoutModel",
      "state": {}
     },
     "aa551c5d94c7430fa4c65376e22866a8": {
      "model_module": "@quantum/ibm-q-lab-widgets",
      "model_module_version": "^1.0.3",
      "model_name": "CircuitComposerModel",
      "state": {
       "_model_module_version": "^1.0.3",
       "_view_module_version": "^1.0.3",
       "circuit": "\"OPENQASM 2.0;\\ninclude \\\"qelib1.inc\\\";\\n\\nqreg q[2];\\ncreg c[2];\\n\\nh q[0];\\ncx q[0],q[1];\"",
       "editable": true,
       "layout": "IPY_MODEL_5b34183506b84ecdbfeaf68487c176a6",
       "qiskit_code_cell_index": -1
      }
     },
     "aa985ca8c4574437b1e72c84b33f28ae": {
      "model_module": "@quantum/ibm-q-lab-widgets",
      "model_module_version": "^1.0.3",
      "model_name": "CircuitComposerModel",
      "state": {
       "_model_module_version": "^1.0.3",
       "_view_module_version": "^1.0.3",
       "circuit": "\"OPENQASM 2.0;\\ninclude \\\"qelib1.inc\\\";\\n\\nqreg q[2];\\ncreg c[2];\\n\\nh q[0];\\ncx q[0],q[1];\"",
       "editable": true,
       "layout": "IPY_MODEL_f2757c48f9b54b64ad1c73c5d324c51d",
       "qiskit_code_cell_index": -1
      }
     },
     "ab9bec6723be4c2bbb5f3373d949eca7": {
      "model_module": "@quantum/ibm-q-lab-widgets",
      "model_module_version": "^1.0.3",
      "model_name": "CircuitComposerModel",
      "state": {
       "_model_module_version": "^1.0.3",
       "_view_module_version": "^1.0.3",
       "circuit": "\"OPENQASM 2.0;\\ninclude \\\"qelib1.inc\\\";\\n\\nqreg q[2];\\ncreg c[2];\\n\\nh q[0];\\ncx q[0],q[1];\"",
       "editable": true,
       "layout": "IPY_MODEL_d230bb5503d748e6ad238d8a980538ac",
       "qiskit_code_cell_index": -1
      }
     },
     "ad552b0473b9423d9240e9985015536f": {
      "model_module": "@quantum/ibm-q-lab-widgets",
      "model_module_version": "^1.0.3",
      "model_name": "CircuitComposerModel",
      "state": {
       "_model_module_version": "^1.0.3",
       "_view_module_version": "^1.0.3",
       "circuit": "\"OPENQASM 2.0;\\ninclude \\\"qelib1.inc\\\";\\n\\nqreg q[2];\\ncreg c[2];\\n\\nh q[0];\\nh q[1];\"",
       "editable": true,
       "layout": "IPY_MODEL_268c67b3e79249459b2b09cf6ab141c1",
       "qiskit_code_cell_index": -1
      }
     },
     "adb936213c46459db4b6c71e1ffb4eaa": {
      "model_module": "@jupyter-widgets/base",
      "model_module_version": "1.2.0",
      "model_name": "LayoutModel",
      "state": {}
     },
     "af07e791cd2f4a0585744f2dab4eba60": {
      "model_module": "@quantum/ibm-q-lab-widgets",
      "model_module_version": "^1.0.3",
      "model_name": "CircuitComposerModel",
      "state": {
       "_model_module_version": "^1.0.3",
       "_view_module_version": "^1.0.3",
       "circuit": "\"OPENQASM 2.0;\\ninclude \\\"qelib1.inc\\\";\\n\\nqreg q[2];\\ncreg c[2];\\n\\nh q[0];\\ncx q[0],q[1];\"",
       "editable": true,
       "layout": "IPY_MODEL_f444a7a590e243329c03109d49a46319",
       "qiskit_code_cell_index": -1
      }
     },
     "af372e062eb24c69be1ceed920ebb56d": {
      "model_module": "@quantum/ibm-q-lab-widgets",
      "model_module_version": "^1.0.3",
      "model_name": "CircuitComposerModel",
      "state": {
       "_model_module_version": "^1.0.3",
       "_view_module_version": "^1.0.3",
       "circuit": "\"OPENQASM 2.0;\\ninclude \\\"qelib1.inc\\\";\\n\\nqreg q[2];\\ncreg c[2];\\n\\n\"",
       "editable": true,
       "layout": "IPY_MODEL_c92a423ec09e416487d86e87103408b2",
       "qiskit_code_cell_index": -1
      }
     },
     "afc55c2df2b54211aaa4c14baa46528f": {
      "model_module": "@jupyter-widgets/base",
      "model_module_version": "1.2.0",
      "model_name": "LayoutModel",
      "state": {}
     },
     "b1150a8fdd064108b3fa1329c627f279": {
      "model_module": "@jupyter-widgets/base",
      "model_module_version": "1.2.0",
      "model_name": "LayoutModel",
      "state": {}
     },
     "b295c97c766c4f9e830c2a7a20a7e17d": {
      "model_module": "@jupyter-widgets/base",
      "model_module_version": "1.2.0",
      "model_name": "LayoutModel",
      "state": {}
     },
     "b2a8a2ee1b014f22879222c24a354640": {
      "model_module": "@quantum/ibm-q-lab-widgets",
      "model_module_version": "^1.0.3",
      "model_name": "CircuitComposerModel",
      "state": {
       "_model_module_version": "^1.0.3",
       "_view_module_version": "^1.0.3",
       "circuit": "\"OPENQASM 2.0;\\ninclude \\\"qelib1.inc\\\";\\n\\nqreg q[2];\\ncreg c[2];\\n\\n\"",
       "editable": true,
       "layout": "IPY_MODEL_ccfc4faadc1941d4bf16d319942ec277",
       "qiskit_code_cell_index": -1
      }
     },
     "b3cb493df5e849699017639eb2c2ec9d": {
      "model_module": "@quantum/ibm-q-lab-widgets",
      "model_module_version": "^1.0.3",
      "model_name": "CircuitComposerModel",
      "state": {
       "_model_module_version": "^1.0.3",
       "_view_module_version": "^1.0.3",
       "circuit": "\"OPENQASM 2.0;\\ninclude \\\"qelib1.inc\\\";\\n\\nqreg q[2];\\ncreg c[2];\\n\\n\"",
       "editable": true,
       "layout": "IPY_MODEL_dcd1b790dd4b475bbf3388630ad3de9c",
       "qiskit_code_cell_index": -1
      }
     },
     "b716c536f34e4478999ce995df7a3976": {
      "model_module": "@quantum/ibm-q-lab-widgets",
      "model_module_version": "^1.0.3",
      "model_name": "CircuitComposerModel",
      "state": {
       "_model_module_version": "^1.0.3",
       "_view_module_version": "^1.0.3",
       "circuit": "\"OPENQASM 2.0;\\ninclude \\\"qelib1.inc\\\";\\n\\nqreg q[2];\\ncreg c[2];\\n\\nh q[0];\\ncx q[0],q[1];\"",
       "editable": true,
       "layout": "IPY_MODEL_fd590bf65cbe4bbf93edc52cd40a24af",
       "qiskit_code_cell_index": -1
      }
     },
     "b747e082d4ac4270bbe0e40968d1ef27": {
      "model_module": "@quantum/ibm-q-lab-widgets",
      "model_module_version": "^1.0.3",
      "model_name": "CircuitComposerModel",
      "state": {
       "_model_module_version": "^1.0.3",
       "_view_module_version": "^1.0.3",
       "circuit": "\"OPENQASM 2.0;\\ninclude \\\"qelib1.inc\\\";\\n\\nqreg q[2];\\ncreg c[2];\\n\\n\"",
       "editable": true,
       "layout": "IPY_MODEL_c62b0cb911fb400e862146f4fc74f3cb",
       "qiskit_code_cell_index": -1
      }
     },
     "b86cf383375e4eb69884c3f047da127a": {
      "model_module": "@jupyter-widgets/base",
      "model_module_version": "1.2.0",
      "model_name": "LayoutModel",
      "state": {}
     },
     "b89146f0e96d46e2be9a44d365f349ea": {
      "model_module": "@jupyter-widgets/base",
      "model_module_version": "1.2.0",
      "model_name": "LayoutModel",
      "state": {}
     },
     "ba3c0839ce604338907f8dd6b53f1b18": {
      "model_module": "@jupyter-widgets/base",
      "model_module_version": "1.2.0",
      "model_name": "LayoutModel",
      "state": {}
     },
     "bc22cd6c270a42d9bc2bddaa99b33e0e": {
      "model_module": "@jupyter-widgets/base",
      "model_module_version": "1.2.0",
      "model_name": "LayoutModel",
      "state": {}
     },
     "bd9b0c7670a44165b6f6721abbd4705c": {
      "model_module": "@quantum/ibm-q-lab-widgets",
      "model_module_version": "^1.0.3",
      "model_name": "CircuitComposerModel",
      "state": {
       "_model_module_version": "^1.0.3",
       "_view_module_version": "^1.0.3",
       "circuit": "\"OPENQASM 2.0;\\ninclude \\\"qelib1.inc\\\";\\n\\nqreg q[2];\\ncreg c[2];\\n\\nh q[0];\\ncx q[0],q[1];\"",
       "editable": true,
       "layout": "IPY_MODEL_c429340534b24881887fef0095c7c6b5",
       "qiskit_code_cell_index": -1
      }
     },
     "be2fc9eb307a4e8c8005cd85bb56c3ea": {
      "model_module": "@quantum/ibm-q-lab-widgets",
      "model_module_version": "^1.0.3",
      "model_name": "CircuitComposerModel",
      "state": {
       "_model_module_version": "^1.0.3",
       "_view_module_version": "^1.0.3",
       "circuit": "\"OPENQASM 2.0;\\ninclude \\\"qelib1.inc\\\";\\n\\nqreg q[2];\\ncreg c[2];\\n\\n\"",
       "editable": true,
       "layout": "IPY_MODEL_4b72dee504034a72a4bebd0471b2396f",
       "qiskit_code_cell_index": -1
      }
     },
     "be8b971370ac444bbab0362e6a452241": {
      "model_module": "@jupyter-widgets/base",
      "model_module_version": "1.2.0",
      "model_name": "LayoutModel",
      "state": {}
     },
     "beed841765e84a3cbdc8aeaacb29923b": {
      "model_module": "@quantum/ibm-q-lab-widgets",
      "model_module_version": "^1.0.3",
      "model_name": "CircuitComposerModel",
      "state": {
       "_model_module_version": "^1.0.3",
       "_view_module_version": "^1.0.3",
       "circuit": "\"OPENQASM 2.0;\\ninclude \\\"qelib1.inc\\\";\\n\\nqreg q[2];\\ncreg c[2];\\n\\n\"",
       "editable": true,
       "layout": "IPY_MODEL_746e8f0664bb4ca58b44985a9a5242d4",
       "qiskit_code_cell_index": -1
      }
     },
     "bf2c83a199834af8870e5e3f64aee841": {
      "model_module": "@jupyter-widgets/base",
      "model_module_version": "1.2.0",
      "model_name": "LayoutModel",
      "state": {}
     },
     "bf6973500cce4fcdb4f1bea10547a142": {
      "model_module": "@jupyter-widgets/base",
      "model_module_version": "1.2.0",
      "model_name": "LayoutModel",
      "state": {}
     },
     "bf7090f654fd40ed9b1c785fa51255c4": {
      "model_module": "@quantum/ibm-q-lab-widgets",
      "model_module_version": "^1.0.3",
      "model_name": "CircuitComposerModel",
      "state": {
       "_model_module_version": "^1.0.3",
       "_view_module_version": "^1.0.3",
       "circuit": "\"OPENQASM 2.0;\\ninclude \\\"qelib1.inc\\\";\\n\\nqreg q[2];\\ncreg c[2];\\n\\n\"",
       "editable": true,
       "layout": "IPY_MODEL_68b2fd762cb5440bb7981063d4fbade6",
       "qiskit_code_cell_index": -1
      }
     },
     "c0a36fc6ad5747368052736d10047cdf": {
      "model_module": "@jupyter-widgets/base",
      "model_module_version": "1.2.0",
      "model_name": "LayoutModel",
      "state": {}
     },
     "c127955b4f7e47a79104d4f22e107d0c": {
      "model_module": "@jupyter-widgets/base",
      "model_module_version": "1.2.0",
      "model_name": "LayoutModel",
      "state": {}
     },
     "c130711f9c6b49239d763658d38a6d01": {
      "model_module": "@jupyter-widgets/base",
      "model_module_version": "1.2.0",
      "model_name": "LayoutModel",
      "state": {}
     },
     "c21a1867662d470f8e89ad1293677e98": {
      "model_module": "@jupyter-widgets/base",
      "model_module_version": "1.2.0",
      "model_name": "LayoutModel",
      "state": {}
     },
     "c429340534b24881887fef0095c7c6b5": {
      "model_module": "@jupyter-widgets/base",
      "model_module_version": "1.2.0",
      "model_name": "LayoutModel",
      "state": {}
     },
     "c62b0cb911fb400e862146f4fc74f3cb": {
      "model_module": "@jupyter-widgets/base",
      "model_module_version": "1.2.0",
      "model_name": "LayoutModel",
      "state": {}
     },
     "c66a762ef33d4dd5bf94c8c5c8956d27": {
      "model_module": "@quantum/ibm-q-lab-widgets",
      "model_module_version": "^1.0.3",
      "model_name": "CircuitComposerModel",
      "state": {
       "_model_module_version": "^1.0.3",
       "_view_module_version": "^1.0.3",
       "circuit": "\"OPENQASM 2.0;\\ninclude \\\"qelib1.inc\\\";\\n\\nqreg q[2];\\ncreg c[2];\\n\\nh q[0];\\ncx q[0],q[1];\"",
       "editable": true,
       "layout": "IPY_MODEL_f7f6480bb64543d5807abfdd86c0d657",
       "qiskit_code_cell_index": -1
      }
     },
     "c7ee49c03c5e44f1965c875bd927764f": {
      "model_module": "@quantum/ibm-q-lab-widgets",
      "model_module_version": "^1.0.3",
      "model_name": "CircuitComposerModel",
      "state": {
       "_model_module_version": "^1.0.3",
       "_view_module_version": "^1.0.3",
       "circuit": "\"OPENQASM 2.0;\\ninclude \\\"qelib1.inc\\\";\\n\\nqreg q[2];\\ncreg c[2];\\n\\nh q[0];\\ncx q[0],q[1];\"",
       "editable": true,
       "layout": "IPY_MODEL_fb9f556e2ec24ce5b7c36829f0a8ffce",
       "qiskit_code_cell_index": -1
      }
     },
     "c7febcdd794647518c12a54c97008606": {
      "model_module": "@quantum/ibm-q-lab-widgets",
      "model_module_version": "^1.0.3",
      "model_name": "CircuitComposerModel",
      "state": {
       "_model_module_version": "^1.0.3",
       "_view_module_version": "^1.0.3",
       "circuit": "\"OPENQASM 2.0;\\ninclude \\\"qelib1.inc\\\";\\n\\nqreg q[2];\\ncreg c[2];\\n\\n\"",
       "editable": true,
       "layout": "IPY_MODEL_db206b5676e34cafa65a7a15a2d64c70",
       "qiskit_code_cell_index": -1
      }
     },
     "c877a7f0f0504b9abafb881e30475e5c": {
      "model_module": "@quantum/ibm-q-lab-widgets",
      "model_module_version": "^1.0.3",
      "model_name": "CircuitComposerModel",
      "state": {
       "_model_module_version": "^1.0.3",
       "_view_module_version": "^1.0.3",
       "circuit": "\"OPENQASM 2.0;\\ninclude \\\"qelib1.inc\\\";\\n\\nqreg q[2];\\ncreg c[2];\\n\\n\"",
       "editable": true,
       "layout": "IPY_MODEL_fc1a1e7927da4794a388fa20b114c558",
       "qiskit_code_cell_index": -1
      }
     },
     "c90a7059a0704aa4a460363eb32bc0c1": {
      "model_module": "@quantum/ibm-q-lab-widgets",
      "model_module_version": "^1.0.3",
      "model_name": "CircuitComposerModel",
      "state": {
       "_model_module_version": "^1.0.3",
       "_view_module_version": "^1.0.3",
       "circuit": "\"OPENQASM 2.0;\\ninclude \\\"qelib1.inc\\\";\\n\\nqreg q[2];\\ncreg c[2];\\n\\n\"",
       "editable": true,
       "layout": "IPY_MODEL_8dca2092e9b74fb39fe0bf7838a1356f",
       "qiskit_code_cell_index": -1
      }
     },
     "c92a423ec09e416487d86e87103408b2": {
      "model_module": "@jupyter-widgets/base",
      "model_module_version": "1.2.0",
      "model_name": "LayoutModel",
      "state": {}
     },
     "c947c7ffc2f947598bbeb1c9c34f8181": {
      "model_module": "@quantum/ibm-q-lab-widgets",
      "model_module_version": "^1.0.3",
      "model_name": "CircuitComposerModel",
      "state": {
       "_model_module_version": "^1.0.3",
       "_view_module_version": "^1.0.3",
       "circuit": "\"OPENQASM 2.0;\\ninclude \\\"qelib1.inc\\\";\\n\\nqreg q[2];\\ncreg c[2];\\n\\n\"",
       "editable": true,
       "layout": "IPY_MODEL_7db756e013524530b6b89276f67de4d9",
       "qiskit_code_cell_index": -1
      }
     },
     "ca765d5aff874f9c8593632fd8ea006f": {
      "model_module": "@jupyter-widgets/base",
      "model_module_version": "1.2.0",
      "model_name": "LayoutModel",
      "state": {}
     },
     "cb2a188149784afcac833d06a63b6e0b": {
      "model_module": "@quantum/ibm-q-lab-widgets",
      "model_module_version": "^1.0.3",
      "model_name": "CircuitComposerModel",
      "state": {
       "_model_module_version": "^1.0.3",
       "_view_module_version": "^1.0.3",
       "circuit": "\"OPENQASM 2.0;\\ninclude \\\"qelib1.inc\\\";\\n\\nqreg q[2];\\ncreg c[2];\\n\\nh q[0];\\nh q[1];\\ncx q[0],q[1];\\ny q[0];\\nx q[0];\\nt q[0];\\nh q[1];\"",
       "editable": true,
       "layout": "IPY_MODEL_3e2527ffd302444484560c69370961cf",
       "qiskit_code_cell_index": -1
      }
     },
     "cc0e4d5621e2439a8ab4a10c821272c7": {
      "model_module": "@quantum/ibm-q-lab-widgets",
      "model_module_version": "^1.0.3",
      "model_name": "CircuitComposerModel",
      "state": {
       "_model_module_version": "^1.0.3",
       "_view_module_version": "^1.0.3",
       "circuit": "\"OPENQASM 2.0;\\ninclude \\\"qelib1.inc\\\";\\n\\nqreg q[2];\\ncreg c[2];\\n\\n\"",
       "editable": true,
       "layout": "IPY_MODEL_ba3c0839ce604338907f8dd6b53f1b18",
       "qiskit_code_cell_index": -1
      }
     },
     "ccca2279a8504fb9b74f3dda750cfc9a": {
      "model_module": "@jupyter-widgets/base",
      "model_module_version": "1.2.0",
      "model_name": "LayoutModel",
      "state": {}
     },
     "ccf4efc1494245bb872c5cc037037d7d": {
      "model_module": "@quantum/ibm-q-lab-widgets",
      "model_module_version": "^1.0.3",
      "model_name": "CircuitComposerModel",
      "state": {
       "_model_module_version": "^1.0.3",
       "_view_module_version": "^1.0.3",
       "circuit": "\"OPENQASM 2.0;\\ninclude \\\"qelib1.inc\\\";\\n\\nqreg q[2];\\ncreg c[2];\\n\\n\"",
       "editable": true,
       "layout": "IPY_MODEL_51227fe1bfb546f2899f6696446eed9d",
       "qiskit_code_cell_index": -1
      }
     },
     "ccfc4faadc1941d4bf16d319942ec277": {
      "model_module": "@jupyter-widgets/base",
      "model_module_version": "1.2.0",
      "model_name": "LayoutModel",
      "state": {}
     },
     "d06f6256ecc04f1688654b70110e990c": {
      "model_module": "@jupyter-widgets/base",
      "model_module_version": "1.2.0",
      "model_name": "LayoutModel",
      "state": {}
     },
     "d0cfe3429af14afa8b5e6b658fe5cb66": {
      "model_module": "@quantum/ibm-q-lab-widgets",
      "model_module_version": "^1.0.3",
      "model_name": "CircuitComposerModel",
      "state": {
       "_model_module_version": "^1.0.3",
       "_view_module_version": "^1.0.3",
       "circuit": "\"OPENQASM 2.0;\\ninclude \\\"qelib1.inc\\\";\\n\\nqreg q[2];\\ncreg c[2];\\n\\nh q[0];\\ncx q[0],q[1];\"",
       "editable": true,
       "layout": "IPY_MODEL_daa2eac8d69d46adbdfc87edf3a3bc5b",
       "qiskit_code_cell_index": -1
      }
     },
     "d0f7115f8ee147168e2b2f0b475847f6": {
      "model_module": "@jupyter-widgets/base",
      "model_module_version": "1.2.0",
      "model_name": "LayoutModel",
      "state": {}
     },
     "d230bb5503d748e6ad238d8a980538ac": {
      "model_module": "@jupyter-widgets/base",
      "model_module_version": "1.2.0",
      "model_name": "LayoutModel",
      "state": {}
     },
     "d28d743f62c84434a7cd18ea98cc8be2": {
      "model_module": "@quantum/ibm-q-lab-widgets",
      "model_module_version": "^1.0.3",
      "model_name": "CircuitComposerModel",
      "state": {
       "_model_module_version": "^1.0.3",
       "_view_module_version": "^1.0.3",
       "circuit": "\"OPENQASM 2.0;\\ninclude \\\"qelib1.inc\\\";\\n\\nqreg q[2];\\ncreg c[2];\\n\\n\"",
       "editable": true,
       "layout": "IPY_MODEL_f0b90630274e43858170752f1f0bdffa",
       "qiskit_code_cell_index": -1
      }
     },
     "d3c682adab9e447887d7926912bfad46": {
      "model_module": "@quantum/ibm-q-lab-widgets",
      "model_module_version": "^1.0.3",
      "model_name": "CircuitComposerModel",
      "state": {
       "_model_module_version": "^1.0.3",
       "_view_module_version": "^1.0.3",
       "circuit": "\"OPENQASM 2.0;\\ninclude \\\"qelib1.inc\\\";\\n\\nqreg q[2];\\ncreg c[2];\\n\\n\"",
       "editable": true,
       "layout": "IPY_MODEL_97ec65c1413341bfb9f4acbdcd49ab80",
       "qiskit_code_cell_index": -1
      }
     },
     "d4703f4ff853450092c9a630cf9ffd57": {
      "model_module": "@quantum/ibm-q-lab-widgets",
      "model_module_version": "^1.0.3",
      "model_name": "CircuitComposerModel",
      "state": {
       "_model_module_version": "^1.0.3",
       "_view_module_version": "^1.0.3",
       "circuit": "\"OPENQASM 2.0;\\ninclude \\\"qelib1.inc\\\";\\n\\nqreg q[2];\\ncreg c[2];\\n\\n\"",
       "editable": true,
       "layout": "IPY_MODEL_afc55c2df2b54211aaa4c14baa46528f",
       "qiskit_code_cell_index": -1
      }
     },
     "d723d46fd896428cb475282f8d60213f": {
      "model_module": "@quantum/ibm-q-lab-widgets",
      "model_module_version": "^1.0.3",
      "model_name": "CircuitComposerModel",
      "state": {
       "_model_module_version": "^1.0.3",
       "_view_module_version": "^1.0.3",
       "circuit": "\"OPENQASM 2.0;\\ninclude \\\"qelib1.inc\\\";\\n\\nqreg q[2];\\ncreg c[2];\\n\\nh q[0];\\ncx q[0],q[1];\"",
       "editable": true,
       "layout": "IPY_MODEL_39e680a055634d5a92319f48dbd3cfca",
       "qiskit_code_cell_index": -1
      }
     },
     "d812578589284455b89a48a1bafdf6c1": {
      "model_module": "@quantum/ibm-q-lab-widgets",
      "model_module_version": "^1.0.3",
      "model_name": "CircuitComposerModel",
      "state": {
       "_model_module_version": "^1.0.3",
       "_view_module_version": "^1.0.3",
       "circuit": "\"OPENQASM 2.0;\\ninclude \\\"qelib1.inc\\\";\\n\\nqreg q[2];\\ncreg c[2];\\n\\n\"",
       "editable": true,
       "layout": "IPY_MODEL_1680e35095d64a65aa47f8603bf3c7d4",
       "qiskit_code_cell_index": -1
      }
     },
     "daa2eac8d69d46adbdfc87edf3a3bc5b": {
      "model_module": "@jupyter-widgets/base",
      "model_module_version": "1.2.0",
      "model_name": "LayoutModel",
      "state": {}
     },
     "db206b5676e34cafa65a7a15a2d64c70": {
      "model_module": "@jupyter-widgets/base",
      "model_module_version": "1.2.0",
      "model_name": "LayoutModel",
      "state": {}
     },
     "db526552ec4044b0a381017851518441": {
      "model_module": "@jupyter-widgets/base",
      "model_module_version": "1.2.0",
      "model_name": "LayoutModel",
      "state": {}
     },
     "dba623ca527048989128f67960e6f838": {
      "model_module": "@jupyter-widgets/base",
      "model_module_version": "1.2.0",
      "model_name": "LayoutModel",
      "state": {}
     },
     "dbb85fc4e701456c84b96c9ef6d64556": {
      "model_module": "@jupyter-widgets/base",
      "model_module_version": "1.2.0",
      "model_name": "LayoutModel",
      "state": {}
     },
     "dc63c4e6a3e64688856fcd38a0a14bda": {
      "model_module": "@quantum/ibm-q-lab-widgets",
      "model_module_version": "^1.0.3",
      "model_name": "CircuitComposerModel",
      "state": {
       "_model_module_version": "^1.0.3",
       "_view_module_version": "^1.0.3",
       "circuit": "\"OPENQASM 2.0;\\ninclude \\\"qelib1.inc\\\";\\n\\nqreg q[2];\\ncreg c[2];\\n\\n\"",
       "editable": true,
       "layout": "IPY_MODEL_7539499344f34fd0818383bf8e8e5a4a",
       "qiskit_code_cell_index": -1
      }
     },
     "dcd1b790dd4b475bbf3388630ad3de9c": {
      "model_module": "@jupyter-widgets/base",
      "model_module_version": "1.2.0",
      "model_name": "LayoutModel",
      "state": {}
     },
     "dea1ed632db24e6bb6841928ae9c4011": {
      "model_module": "@jupyter-widgets/base",
      "model_module_version": "1.2.0",
      "model_name": "LayoutModel",
      "state": {}
     },
     "ded9f4e4ff75407da4c282e7677640b1": {
      "model_module": "@quantum/ibm-q-lab-widgets",
      "model_module_version": "^1.0.3",
      "model_name": "CircuitComposerModel",
      "state": {
       "_model_module_version": "^1.0.3",
       "_view_module_version": "^1.0.3",
       "circuit": "\"OPENQASM 2.0;\\ninclude \\\"qelib1.inc\\\";\\n\\nqreg q[3];\\ncreg c[3];\\n\\nh q[0];\\nh q[1];\\nh q[2];\"",
       "editable": true,
       "layout": "IPY_MODEL_9b5fa93c21e24010a1d96d14f1f97135",
       "qiskit_code_cell_index": -1
      }
     },
     "df3ba8cfd5de4f9298b476547786c297": {
      "model_module": "@jupyter-widgets/base",
      "model_module_version": "1.2.0",
      "model_name": "LayoutModel",
      "state": {}
     },
     "df6f8f837d7c451f99816fa4291e009c": {
      "model_module": "@quantum/ibm-q-lab-widgets",
      "model_module_version": "^1.0.3",
      "model_name": "CircuitComposerModel",
      "state": {
       "_model_module_version": "^1.0.3",
       "_view_module_version": "^1.0.3",
       "circuit": "\"OPENQASM 2.0;\\ninclude \\\"qelib1.inc\\\";\\n\\nqreg q[2];\\ncreg c[2];\\n\\nh q[0];\\ncx q[0],q[1];\"",
       "editable": true,
       "layout": "IPY_MODEL_7d416b33c2fd4e7f9a670e3b73487c6f",
       "qiskit_code_cell_index": -1
      }
     },
     "df9004eb58f949ae8e93681c7bf5637d": {
      "model_module": "@jupyter-widgets/base",
      "model_module_version": "1.2.0",
      "model_name": "LayoutModel",
      "state": {}
     },
     "e0b0edf761524e5c9dd4dd64d441c009": {
      "model_module": "@quantum/ibm-q-lab-widgets",
      "model_module_version": "^1.0.3",
      "model_name": "CircuitComposerModel",
      "state": {
       "_model_module_version": "^1.0.3",
       "_view_module_version": "^1.0.3",
       "circuit": "\"OPENQASM 2.0;\\ninclude \\\"qelib1.inc\\\";\\n\\nqreg q[2];\\ncreg c[2];\\n\\nh q[0];\\nh q[1];\\ncx q[0],q[1];\"",
       "editable": true,
       "layout": "IPY_MODEL_fba74a456a694ba5b47d0e408a7b8cde",
       "qiskit_code_cell_index": -1
      }
     },
     "e11563987c6f4fec8c8bb6993d3b6455": {
      "model_module": "@jupyter-widgets/base",
      "model_module_version": "1.2.0",
      "model_name": "LayoutModel",
      "state": {}
     },
     "e2ca96f2d0694120985ffed14e49545e": {
      "model_module": "@quantum/ibm-q-lab-widgets",
      "model_module_version": "^1.0.3",
      "model_name": "CircuitComposerModel",
      "state": {
       "_model_module_version": "^1.0.3",
       "_view_module_version": "^1.0.3",
       "circuit": "\"OPENQASM 2.0;\\ninclude \\\"qelib1.inc\\\";\\n\\nqreg q[2];\\ncreg c[2];\\n\\n\"",
       "editable": true,
       "layout": "IPY_MODEL_6aff46b9824f4a85bb13c96cb699260c",
       "qiskit_code_cell_index": -1
      }
     },
     "e2d3c6c5e0594c4a907f888a3c134795": {
      "model_module": "@quantum/ibm-q-lab-widgets",
      "model_module_version": "^1.0.3",
      "model_name": "CircuitComposerModel",
      "state": {
       "_model_module_version": "^1.0.3",
       "_view_module_version": "^1.0.3",
       "circuit": "\"OPENQASM 2.0;\\ninclude \\\"qelib1.inc\\\";\\n\\nqreg q[2];\\ncreg c[2];\\n\\n\"",
       "editable": true,
       "layout": "IPY_MODEL_df9004eb58f949ae8e93681c7bf5637d",
       "qiskit_code_cell_index": -1
      }
     },
     "e3279fd10d4d42fc96bc959f55af5b17": {
      "model_module": "@quantum/ibm-q-lab-widgets",
      "model_module_version": "^1.0.3",
      "model_name": "CircuitComposerModel",
      "state": {
       "_model_module_version": "^1.0.3",
       "_view_module_version": "^1.0.3",
       "circuit": "\"OPENQASM 2.0;\\ninclude \\\"qelib1.inc\\\";\\n\\nqreg q[2];\\ncreg c[2];\\n\\nh q[0];\\nt q[1];\"",
       "editable": true,
       "layout": "IPY_MODEL_64aed5bfec754a03878331a34a6a6042",
       "qiskit_code_cell_index": -1
      }
     },
     "e3de5963bc0e4005a4982cfa2f6c4a3d": {
      "model_module": "@quantum/ibm-q-lab-widgets",
      "model_module_version": "^1.0.3",
      "model_name": "CircuitComposerModel",
      "state": {
       "_model_module_version": "^1.0.3",
       "_view_module_version": "^1.0.3",
       "circuit": "\"OPENQASM 2.0;\\ninclude \\\"qelib1.inc\\\";\\n\\nqreg q[2];\\ncreg c[2];\\n\\n\"",
       "editable": true,
       "layout": "IPY_MODEL_5174c0168f064d7b8ef68b6901e279b9",
       "qiskit_code_cell_index": -1
      }
     },
     "e5b9154e96114aaf935a05ae60f9377e": {
      "model_module": "@quantum/ibm-q-lab-widgets",
      "model_module_version": "^1.0.3",
      "model_name": "CircuitComposerModel",
      "state": {
       "_model_module_version": "^1.0.3",
       "_view_module_version": "^1.0.3",
       "circuit": "\"OPENQASM 2.0;\\ninclude \\\"qelib1.inc\\\";\\n\\nqreg q[2];\\ncreg c[2];\\n\\nh q[0];\\ncx q[0],q[1];\"",
       "editable": true,
       "layout": "IPY_MODEL_f3ffbd08a2754c41b5e783c414fbd4bd",
       "qiskit_code_cell_index": -1
      }
     },
     "e6c7f5919e014e4faec12aa344350574": {
      "model_module": "@jupyter-widgets/base",
      "model_module_version": "1.2.0",
      "model_name": "LayoutModel",
      "state": {}
     },
     "e7775147e148482899a80921c25864f9": {
      "model_module": "@jupyter-widgets/base",
      "model_module_version": "1.2.0",
      "model_name": "LayoutModel",
      "state": {}
     },
     "e78ab5d0d72e42b4bb432ab18326fb76": {
      "model_module": "@quantum/ibm-q-lab-widgets",
      "model_module_version": "^1.0.3",
      "model_name": "CircuitComposerModel",
      "state": {
       "_model_module_version": "^1.0.3",
       "_view_module_version": "^1.0.3",
       "circuit": "\"OPENQASM 2.0;\\ninclude \\\"qelib1.inc\\\";\\n\\nqreg q[2];\\ncreg c[2];\\n\\nh q[0];\\ncx q[0],q[1];\"",
       "editable": true,
       "layout": "IPY_MODEL_f46f60bcd37b4a4d86c3da416ae9a84e",
       "qiskit_code_cell_index": -1
      }
     },
     "e7c6158dcf4740deaaf84819557a8a64": {
      "model_module": "@jupyter-widgets/base",
      "model_module_version": "1.2.0",
      "model_name": "LayoutModel",
      "state": {}
     },
     "e7d5f0f991b141cc9f90de32e5ee2b88": {
      "model_module": "@quantum/ibm-q-lab-widgets",
      "model_module_version": "^1.0.3",
      "model_name": "CircuitComposerModel",
      "state": {
       "_model_module_version": "^1.0.3",
       "_view_module_version": "^1.0.3",
       "circuit": "\"OPENQASM 2.0;\\ninclude \\\"qelib1.inc\\\";\\n\\nqreg q[2];\\ncreg c[2];\\n\\nh q[0];\\ncx q[0],q[1];\"",
       "editable": true,
       "layout": "IPY_MODEL_4f9e6623fe554bdf883b83c4443e5de1",
       "qiskit_code_cell_index": -1
      }
     },
     "e9e161d32eec4826b42cb340b220cc20": {
      "model_module": "@quantum/ibm-q-lab-widgets",
      "model_module_version": "^1.0.3",
      "model_name": "CircuitComposerModel",
      "state": {
       "_model_module_version": "^1.0.3",
       "_view_module_version": "^1.0.3",
       "circuit": "\"OPENQASM 2.0;\\ninclude \\\"qelib1.inc\\\";\\n\\nqreg q[2];\\ncreg c[2];\\n\\n\"",
       "editable": true,
       "layout": "IPY_MODEL_3b656f529d8043d5b3fa97c79b4aac88",
       "qiskit_code_cell_index": -1
      }
     },
     "ec94d1a880d74f5384b5b65c62944c9d": {
      "model_module": "@quantum/ibm-q-lab-widgets",
      "model_module_version": "^1.0.3",
      "model_name": "CircuitComposerModel",
      "state": {
       "_model_module_version": "^1.0.3",
       "_view_module_version": "^1.0.3",
       "circuit": "\"OPENQASM 2.0;\\ninclude \\\"qelib1.inc\\\";\\n\\nqreg q[2];\\ncreg c[2];\\n\\nh q[0];\\ncx q[0],q[1];\"",
       "editable": true,
       "layout": "IPY_MODEL_adb936213c46459db4b6c71e1ffb4eaa",
       "qiskit_code_cell_index": -1
      }
     },
     "ed057a10a12a44b1966a04c4b6827bf1": {
      "model_module": "@jupyter-widgets/base",
      "model_module_version": "1.2.0",
      "model_name": "LayoutModel",
      "state": {}
     },
     "f0b90630274e43858170752f1f0bdffa": {
      "model_module": "@jupyter-widgets/base",
      "model_module_version": "1.2.0",
      "model_name": "LayoutModel",
      "state": {}
     },
     "f17089c29c4642e5b1ac847e8e25d4c3": {
      "model_module": "@jupyter-widgets/base",
      "model_module_version": "1.2.0",
      "model_name": "LayoutModel",
      "state": {}
     },
     "f17fea5669f0483abec10aa5958deebb": {
      "model_module": "@jupyter-widgets/base",
      "model_module_version": "1.2.0",
      "model_name": "LayoutModel",
      "state": {}
     },
     "f2757c48f9b54b64ad1c73c5d324c51d": {
      "model_module": "@jupyter-widgets/base",
      "model_module_version": "1.2.0",
      "model_name": "LayoutModel",
      "state": {}
     },
     "f32e19532d544705a59cab7391aec13d": {
      "model_module": "@quantum/ibm-q-lab-widgets",
      "model_module_version": "^1.0.3",
      "model_name": "CircuitComposerModel",
      "state": {
       "_model_module_version": "^1.0.3",
       "_view_module_version": "^1.0.3",
       "circuit": "\"OPENQASM 2.0;\\ninclude \\\"qelib1.inc\\\";\\n\\nqreg q[2];\\ncreg c[2];\\n\\n\"",
       "editable": true,
       "layout": "IPY_MODEL_0b892179c5a541b28ff189050b674839",
       "qiskit_code_cell_index": -1
      }
     },
     "f3a1ffc52b8f496fb01162f394164290": {
      "model_module": "@jupyter-widgets/base",
      "model_module_version": "1.2.0",
      "model_name": "LayoutModel",
      "state": {}
     },
     "f3ffbd08a2754c41b5e783c414fbd4bd": {
      "model_module": "@jupyter-widgets/base",
      "model_module_version": "1.2.0",
      "model_name": "LayoutModel",
      "state": {}
     },
     "f444a7a590e243329c03109d49a46319": {
      "model_module": "@jupyter-widgets/base",
      "model_module_version": "1.2.0",
      "model_name": "LayoutModel",
      "state": {}
     },
     "f46f60bcd37b4a4d86c3da416ae9a84e": {
      "model_module": "@jupyter-widgets/base",
      "model_module_version": "1.2.0",
      "model_name": "LayoutModel",
      "state": {}
     },
     "f5c5db3bb99e49fc936a2f69998ae68b": {
      "model_module": "@quantum/ibm-q-lab-widgets",
      "model_module_version": "^1.0.3",
      "model_name": "CircuitComposerModel",
      "state": {
       "_model_module_version": "^1.0.3",
       "_view_module_version": "^1.0.3",
       "circuit": "\"OPENQASM 2.0;\\ninclude \\\"qelib1.inc\\\";\\n\\nqreg q[2];\\ncreg c[2];\\n\\nh q[1];\\ncx q[0],q[1];\\nid q[0];\\ncx q[0],q[1];\\nt q[0];\\nh q[0];\\nt q[1];\\nh q[1];\"",
       "editable": true,
       "layout": "IPY_MODEL_2e1e9ca93a46478ca8a65ad78e35a805",
       "qiskit_code_cell_index": -1
      }
     },
     "f6a400ee23094faca72e7907eaabf78d": {
      "model_module": "@quantum/ibm-q-lab-widgets",
      "model_module_version": "^1.0.3",
      "model_name": "CircuitComposerModel",
      "state": {
       "_model_module_version": "^1.0.3",
       "_view_module_version": "^1.0.3",
       "circuit": "\"OPENQASM 2.0;\\ninclude \\\"qelib1.inc\\\";\\n\\nqreg q[2];\\ncreg c[2];\\n\\n\"",
       "editable": true,
       "layout": "IPY_MODEL_e11563987c6f4fec8c8bb6993d3b6455",
       "qiskit_code_cell_index": -1
      }
     },
     "f7f6480bb64543d5807abfdd86c0d657": {
      "model_module": "@jupyter-widgets/base",
      "model_module_version": "1.2.0",
      "model_name": "LayoutModel",
      "state": {}
     },
     "f9c48ba6a3f4426db3adba23c8145a67": {
      "model_module": "@jupyter-widgets/base",
      "model_module_version": "1.2.0",
      "model_name": "LayoutModel",
      "state": {}
     },
     "f9e6ef29c45546d693b8aae171e6d587": {
      "model_module": "@quantum/ibm-q-lab-widgets",
      "model_module_version": "^1.0.3",
      "model_name": "CircuitComposerModel",
      "state": {
       "_model_module_version": "^1.0.3",
       "_view_module_version": "^1.0.3",
       "circuit": "\"OPENQASM 2.0;\\ninclude \\\"qelib1.inc\\\";\\n\\nqreg q[2];\\ncreg c[2];\\n\\n\"",
       "editable": true,
       "layout": "IPY_MODEL_bc22cd6c270a42d9bc2bddaa99b33e0e",
       "qiskit_code_cell_index": -1
      }
     },
     "f9fdfddc2e504d4ba89fc98e4065edd7": {
      "model_module": "@quantum/ibm-q-lab-widgets",
      "model_module_version": "^1.0.3",
      "model_name": "CircuitComposerModel",
      "state": {
       "_model_module_version": "^1.0.3",
       "_view_module_version": "^1.0.3",
       "circuit": "\"OPENQASM 2.0;\\ninclude \\\"qelib1.inc\\\";\\n\\nqreg q[2];\\ncreg c[2];\\n\\nh q[0];\\ncx q[0],q[1];\"",
       "editable": true,
       "layout": "IPY_MODEL_ccca2279a8504fb9b74f3dda750cfc9a",
       "qiskit_code_cell_index": -1
      }
     },
     "fa133e0890bc43b49a1283c94a01f0b1": {
      "model_module": "@jupyter-widgets/base",
      "model_module_version": "1.2.0",
      "model_name": "LayoutModel",
      "state": {}
     },
     "fa6ea6790db844ebb15f926f8bc05286": {
      "model_module": "@quantum/ibm-q-lab-widgets",
      "model_module_version": "^1.0.3",
      "model_name": "CircuitComposerModel",
      "state": {
       "_model_module_version": "^1.0.3",
       "_view_module_version": "^1.0.3",
       "circuit": "\"OPENQASM 2.0;\\ninclude \\\"qelib1.inc\\\";\\n\\nqreg q[2];\\ncreg c[2];\\n\\nh q[0];\\ncx q[0],q[1];\"",
       "editable": true,
       "layout": "IPY_MODEL_6c8da754143642e79ddc9a6600c20ed1",
       "qiskit_code_cell_index": -1
      }
     },
     "faab2486c0a648b5ba4b56085c69b8dd": {
      "model_module": "@jupyter-widgets/base",
      "model_module_version": "1.2.0",
      "model_name": "LayoutModel",
      "state": {}
     },
     "fb9f556e2ec24ce5b7c36829f0a8ffce": {
      "model_module": "@jupyter-widgets/base",
      "model_module_version": "1.2.0",
      "model_name": "LayoutModel",
      "state": {}
     },
     "fba74a456a694ba5b47d0e408a7b8cde": {
      "model_module": "@jupyter-widgets/base",
      "model_module_version": "1.2.0",
      "model_name": "LayoutModel",
      "state": {}
     },
     "fc1a1e7927da4794a388fa20b114c558": {
      "model_module": "@jupyter-widgets/base",
      "model_module_version": "1.2.0",
      "model_name": "LayoutModel",
      "state": {}
     },
     "fcb12cbe2529456db47e982e7f3a1971": {
      "model_module": "@jupyter-widgets/base",
      "model_module_version": "1.2.0",
      "model_name": "LayoutModel",
      "state": {}
     },
     "fce138a781fa478a841c7eabab6a0795": {
      "model_module": "@quantum/ibm-q-lab-widgets",
      "model_module_version": "^1.0.3",
      "model_name": "CircuitComposerModel",
      "state": {
       "_model_module_version": "^1.0.3",
       "_view_module_version": "^1.0.3",
       "circuit": "\"OPENQASM 2.0;\\ninclude \\\"qelib1.inc\\\";\\n\\nqreg q[2];\\ncreg c[2];\\n\\n\"",
       "editable": true,
       "layout": "IPY_MODEL_e7775147e148482899a80921c25864f9",
       "qiskit_code_cell_index": -1
      }
     },
     "fd590bf65cbe4bbf93edc52cd40a24af": {
      "model_module": "@jupyter-widgets/base",
      "model_module_version": "1.2.0",
      "model_name": "LayoutModel",
      "state": {}
     },
     "fd95647dfda04c7da7b1191b65231d49": {
      "model_module": "@jupyter-widgets/base",
      "model_module_version": "1.2.0",
      "model_name": "LayoutModel",
      "state": {}
     },
     "fdd3b77348e744599d71b0cf5a7208b1": {
      "model_module": "@quantum/ibm-q-lab-widgets",
      "model_module_version": "^1.0.3",
      "model_name": "CircuitComposerModel",
      "state": {
       "_model_module_version": "^1.0.3",
       "_view_module_version": "^1.0.3",
       "circuit": "\"OPENQASM 2.0;\\ninclude \\\"qelib1.inc\\\";\\n\\nqreg q[2];\\ncreg c[2];\\n\\n\"",
       "editable": true,
       "layout": "IPY_MODEL_164e721f65ea4541b456877741c92a70",
       "qiskit_code_cell_index": -1
      }
     },
     "fdea05ce7b54421ea3766a7a72d496e8": {
      "model_module": "@quantum/ibm-q-lab-widgets",
      "model_module_version": "^1.0.3",
      "model_name": "CircuitComposerModel",
      "state": {
       "_model_module_version": "^1.0.3",
       "_view_module_version": "^1.0.3",
       "circuit": "\"OPENQASM 2.0;\\ninclude \\\"qelib1.inc\\\";\\n\\nqreg q[2];\\ncreg c[2];\\n\\nh q[0];\\ncx q[0],q[1];\"",
       "editable": true,
       "layout": "IPY_MODEL_48f021d30068473982d6092d86e521ba",
       "qiskit_code_cell_index": -1
      }
     },
     "fe8bd2fc2b0b4159b992477967e7c5d2": {
      "model_module": "@quantum/ibm-q-lab-widgets",
      "model_module_version": "^1.0.3",
      "model_name": "CircuitComposerModel",
      "state": {
       "_model_module_version": "^1.0.3",
       "_view_module_version": "^1.0.3",
       "circuit": "\"OPENQASM 2.0;\\ninclude \\\"qelib1.inc\\\";\\n\\nqreg q[2];\\ncreg c[2];\\n\\nh q[0];\\ncx q[0],q[1];\"",
       "editable": true,
       "layout": "IPY_MODEL_4e7717c73f65499ba386a0307f383c2c",
       "qiskit_code_cell_index": -1
      }
     },
     "ff5fd2153db846e6a16bf031d55c8471": {
      "model_module": "@jupyter-widgets/base",
      "model_module_version": "1.2.0",
      "model_name": "LayoutModel",
      "state": {}
     },
     "ff64ef9a7d1447bfa61e352fd310d12f": {
      "model_module": "@quantum/ibm-q-lab-widgets",
      "model_module_version": "^1.0.3",
      "model_name": "CircuitComposerModel",
      "state": {
       "_model_module_version": "^1.0.3",
       "_view_module_version": "^1.0.3",
       "circuit": "\"OPENQASM 2.0;\\ninclude \\\"qelib1.inc\\\";\\n\\nqreg q[2];\\ncreg c[2];\\n\\n\"",
       "editable": true,
       "layout": "IPY_MODEL_b86cf383375e4eb69884c3f047da127a",
       "qiskit_code_cell_index": -1
      }
     }
    },
    "version_major": 2,
    "version_minor": 0
   }
  }
 },
 "nbformat": 4,
 "nbformat_minor": 5
}
